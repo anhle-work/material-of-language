{
 "cells": [
  {
   "cell_type": "markdown",
   "metadata": {},
   "source": [
    "# Asemic writing with Flat\n",
    "\n",
    "By [Allison Parrish](https://www.decontextualize.com/)\n",
    "\n",
    "This is a tutorial on how to use [flat](https://xxyxyz.org/flat), the random functions from [Numpy](http://www.numpy.org/) and [bezmerizing](https://github.com/aparrish/bezmerizing/) (a small library I made with simple functions for working with Bézier curves) to make various kinds of asemic writing.\n",
    "\n",
    "## Installation and preliminaries\n",
    "\n",
    "There are a number of Python libraries for drawing vector graphics, but [flat](https://xxyxyz.org/flat) is my favorite one to work with. It's small, powerful and elegant. It's also written in pure Python (i.e., does not need compiled code) and has no external dependencies, which makes it especially easy to install:"
   ]
  },
  {
   "cell_type": "code",
   "execution_count": 1,
   "metadata": {},
   "outputs": [
    {
     "name": "stdout",
     "output_type": "stream",
     "text": [
      "Requirement already satisfied: flat in /Users/allison/anaconda/lib/python3.6/site-packages\n",
      "\u001b[33mYou are using pip version 9.0.3, however version 18.1 is available.\n",
      "You should consider upgrading via the 'pip install --upgrade pip' command.\u001b[0m\n"
     ]
    }
   ],
   "source": [
    "!pip install flat"
   ]
  },
  {
   "cell_type": "markdown",
   "metadata": {},
   "source": [
    "In this tutorial, I'm only using a subset of flat's functionality. The cell below imports the three functions from the library that I'm going to use."
   ]
  },
  {
   "cell_type": "code",
   "execution_count": 6,
   "metadata": {},
   "outputs": [],
   "source": [
    "from flat import document, shape, rgba"
   ]
  },
  {
   "cell_type": "markdown",
   "metadata": {},
   "source": [
    "The flat library can export images in a handful of formats, including PNG. We can leverage this to \"embed\" the results of running flat code right into a Jupyter Notebook as we're working. The cell below creates a function `show()` that takes a flat `page` object, renders it as an SVG, and displays it in the notebook. I use this extensively below!"
   ]
  },
  {
   "cell_type": "code",
   "execution_count": 1,
   "metadata": {},
   "outputs": [],
   "source": [
    "from IPython.display import SVG, display\n",
    "def show(page):\n",
    "    display(SVG(page.svg()))"
   ]
  },
  {
   "cell_type": "markdown",
   "metadata": {},
   "source": [
    "[Bezmerizing](https://github.com/aparrish/bezmerizing/) is a small library I made with a handful of useful functions for working with Bézier curves, including a function for making smooth curved paths based on a list of points, and a function that can style such paths by adjusting their thickness along the path. Install it directly from GitHub like so:"
   ]
  },
  {
   "cell_type": "code",
   "execution_count": 4,
   "metadata": {},
   "outputs": [
    {
     "name": "stdout",
     "output_type": "stream",
     "text": [
      "Collecting https://github.com/aparrish/bezmerizing/archive/master.zip\n",
      "  Downloading https://github.com/aparrish/bezmerizing/archive/master.zip\n",
      "\u001b[K     \\ 225kB 759kB/s\n",
      "  Requirement already satisfied (use --upgrade to upgrade): bezmerizing==0.0.2 from https://github.com/aparrish/bezmerizing/archive/master.zip in /Users/allison/anaconda/lib/python3.6/site-packages\n",
      "Requirement already satisfied: flat>=0.0.3 in /Users/allison/anaconda/lib/python3.6/site-packages (from bezmerizing==0.0.2)\n",
      "Requirement already satisfied: scipy>=1.1.0 in /Users/allison/anaconda/lib/python3.6/site-packages (from bezmerizing==0.0.2)\n",
      "\u001b[33mYou are using pip version 9.0.3, however version 18.1 is available.\n",
      "You should consider upgrading via the 'pip install --upgrade pip' command.\u001b[0m\n"
     ]
    }
   ],
   "source": [
    "!pip install https://github.com/aparrish/bezmerizing/archive/master.zip"
   ]
  },
  {
   "cell_type": "code",
   "execution_count": 2,
   "metadata": {},
   "outputs": [],
   "source": [
    "from bezmerizing import smooth_point_path, fancy_curve"
   ]
  },
  {
   "cell_type": "markdown",
   "metadata": {},
   "source": [
    "Assuming you're running this notebook with Anaconda, you probably already have Numpy installed. [Numpy](http://www.numpy.org/) is a widely-used Python library for math and statistics. I'm going to show you how to use a handful of functions from Numpy for generating random numbers. Use the cells below to import them into your notebook:"
   ]
  },
  {
   "cell_type": "code",
   "execution_count": 3,
   "metadata": {},
   "outputs": [],
   "source": [
    "import numpy as np"
   ]
  },
  {
   "cell_type": "code",
   "execution_count": 4,
   "metadata": {},
   "outputs": [],
   "source": [
    "from numpy.random import uniform, normal, choice"
   ]
  },
  {
   "cell_type": "markdown",
   "metadata": {},
   "source": [
    "## Making shapes with flat\n",
    "\n",
    "Drawing with flat consists of a few steps:\n",
    "\n",
    "1. Create a document\n",
    "2. Add a page to the document\n",
    "3. Create shapes\n",
    "4. Place shapes on the page\n",
    "5. Display the page (or the document).\n",
    "\n",
    "A minimal example skips steps 3 and 4:"
   ]
  },
  {
   "cell_type": "code",
   "execution_count": 7,
   "metadata": {},
   "outputs": [
    {
     "data": {
      "image/svg+xml": [
       "<svg height=\"283.4646pt\" version=\"1.1\" viewBox=\"0 0 283.4646 283.4646\" width=\"283.4646pt\" xmlns=\"http://www.w3.org/2000/svg\" xmlns:xlink=\"http://www.w3.org/1999/xlink\">\n",
       "<title>Untitled</title>\n",
       "\n",
       "</svg>"
      ],
      "text/plain": [
       "<IPython.core.display.SVG object>"
      ]
     },
     "metadata": {},
     "output_type": "display_data"
    }
   ],
   "source": [
    "d = document(100, 100, 'mm') # create a document 100mm x 100mm (can replace 'mm' with 'pt')\n",
    "page = d.addpage() # add a page\n",
    "show(page) # show the page"
   ]
  },
  {
   "cell_type": "markdown",
   "metadata": {},
   "source": [
    "... but doesn't display anything. We've just made a blank page.\n",
    "\n",
    "To add a shape, create a `shape` object with the `shape()` function. The object returned from this function has methods that let you set the fill, stroke, and stroke width of the shape. Colors are specified with the `rgba()` function, which takes four parameters: the red, green, and blue components of the color (in the range 0—255), along with an alpha value (which controls how \"transparent\" the color will be—0 is completely transparent and 255 is completely opaque)."
   ]
  },
  {
   "cell_type": "code",
   "execution_count": 8,
   "metadata": {},
   "outputs": [
    {
     "data": {
      "text/plain": [
       "<flat.shape.shape at 0x1107ce8b8>"
      ]
     },
     "execution_count": 8,
     "metadata": {},
     "output_type": "execute_result"
    }
   ],
   "source": [
    "figure = shape()\n",
    "figure.fill(rgba(255, 128, 255, 255))\n",
    "figure.stroke(rgba(128, 0, 255, 255))\n",
    "figure.width(4)"
   ]
  },
  {
   "cell_type": "markdown",
   "metadata": {},
   "source": [
    "A `shape` object acts as a kind of container for a list of paths to draw with the fill and stroke you specified when you created the object. Add a rectangle to the shape with the `.rectangle()` method:"
   ]
  },
  {
   "cell_type": "code",
   "execution_count": 9,
   "metadata": {},
   "outputs": [],
   "source": [
    "rect = figure.rectangle(5, 5, 90, 90)"
   ]
  },
  {
   "cell_type": "markdown",
   "metadata": {},
   "source": [
    "This creates a rectangle at position (5, 5) on the page with a width of 90 and a height of 90. ([See the documentation for a full list of shape methods and an explanation of what their parameters mean.](https://xxyxyz.org/flat))\n",
    "\n",
    "> Note for first-time programmers: Any word to the *left* of an equal sign (`=`) is called a *variable*. A \"variable\" takes the result of running some code and stores it for later under the name that you give it—sort of naming a file or putting a label on a folder. I used the word `rect` above to store the result of creating the `rectangle` shape, but you can use whatever word you want, as long as you use the same word when referring back to that value later. (There's nothing magical about calling it `rect`—I could have called is `lawrence` or `afkjsdhf`. Using `rect` just makes it easier to remember what I was using that variable for.\n",
    "\n",
    "To make this rectangle appear on the page, pass the value returned from the method to the `.place()` method of the page:"
   ]
  },
  {
   "cell_type": "code",
   "execution_count": 10,
   "metadata": {},
   "outputs": [
    {
     "data": {
      "image/svg+xml": [
       "<svg height=\"283.4646pt\" version=\"1.1\" viewBox=\"0 0 283.4646 283.4646\" width=\"283.4646pt\" xmlns=\"http://www.w3.org/2000/svg\" xmlns:xlink=\"http://www.w3.org/1999/xlink\">\n",
       "<title>Untitled</title>\n",
       "<rect fill=\"rgba(255,128,255,1)\" height=\"255.1181\" stroke=\"rgba(128,0,255,1)\" stroke-miterlimit=\"10\" stroke-width=\"4\" width=\"255.1181\" x=\"14.1732\" y=\"14.1732\"/>\n",
       "</svg>"
      ],
      "text/plain": [
       "<IPython.core.display.SVG object>"
      ]
     },
     "metadata": {},
     "output_type": "display_data"
    }
   ],
   "source": [
    "d = document(100, 100, 'mm')\n",
    "page = d.addpage()\n",
    "page.place(rect)\n",
    "show(page)"
   ]
  },
  {
   "cell_type": "markdown",
   "metadata": {},
   "source": [
    "Nice! You'll notice that flat's coordinate system is set up such that the *upper left-hand corner* of the page is (0, 0). The X-axis increases as you move to the right of the page, while the Y-axes increases as you move *downwards*. (This is the opposite of how it works in a regular Cartesian coordinate system, but it's very common in computer graphics for some reason.)\n",
    "\n",
    "Because it's so common to set the fill, stroke and stroke width at once, flat supports a \"chained\" syntax so that you can set them all one one line. It looks like this:"
   ]
  },
  {
   "cell_type": "code",
   "execution_count": 11,
   "metadata": {},
   "outputs": [],
   "source": [
    "figure = shape().fill(rgba(255, 128, 255, 255)).stroke(rgba(128, 0, 255, 255)).width(4)"
   ]
  },
  {
   "cell_type": "markdown",
   "metadata": {},
   "source": [
    "With all of this in mind, I put in the cell below all of the code necessary to draw the rectangle, from the creation of the document to displaying the page. Most of the rest of the examples in this tutorial will look like this, with all of the code to display a particular shape in the same cell."
   ]
  },
  {
   "cell_type": "code",
   "execution_count": 12,
   "metadata": {},
   "outputs": [
    {
     "data": {
      "image/svg+xml": [
       "<svg height=\"283.4646pt\" version=\"1.1\" viewBox=\"0 0 283.4646 283.4646\" width=\"283.4646pt\" xmlns=\"http://www.w3.org/2000/svg\" xmlns:xlink=\"http://www.w3.org/1999/xlink\">\n",
       "<title>Untitled</title>\n",
       "<rect fill=\"rgba(255,128,255,1)\" height=\"255.1181\" stroke=\"rgba(128,0,255,1)\" stroke-miterlimit=\"10\" stroke-width=\"4\" width=\"255.1181\" x=\"14.1732\" y=\"14.1732\"/>\n",
       "</svg>"
      ],
      "text/plain": [
       "<IPython.core.display.SVG object>"
      ]
     },
     "metadata": {},
     "output_type": "display_data"
    }
   ],
   "source": [
    "d = document(100, 100, 'mm')\n",
    "page = d.addpage()\n",
    "figure = shape().fill(rgba(255, 128, 255, 255)).stroke(rgba(128, 0, 255, 255)).width(4)\n",
    "rect = figure.rectangle(5, 5, 90, 90)\n",
    "page.place(rect)\n",
    "show(page)"
   ]
  },
  {
   "cell_type": "markdown",
   "metadata": {},
   "source": [
    "To add another shape to the drawing, add a second call to a `shape` method. Another easy one to try out is `.circle()`, which draws a circle of a particular radius centered on the given (x, y) coordinate. Note that you have to call `page.place()` with all of the components of the shape you want to appear on in the drawing."
   ]
  },
  {
   "cell_type": "code",
   "execution_count": 13,
   "metadata": {},
   "outputs": [
    {
     "data": {
      "image/svg+xml": [
       "<svg height=\"283.4646pt\" version=\"1.1\" viewBox=\"0 0 283.4646 283.4646\" width=\"283.4646pt\" xmlns=\"http://www.w3.org/2000/svg\" xmlns:xlink=\"http://www.w3.org/1999/xlink\">\n",
       "<title>Untitled</title>\n",
       "<rect fill=\"rgba(255,128,255,1)\" height=\"255.1181\" stroke=\"rgba(128,0,255,1)\" stroke-miterlimit=\"10\" stroke-width=\"4\" width=\"255.1181\" x=\"14.1732\" y=\"14.1732\"/>\n",
       "<circle cx=\"93.5433\" cy=\"93.5433\" fill=\"rgba(255,128,255,1)\" r=\"70.8661\" stroke=\"rgba(128,0,255,1)\" stroke-miterlimit=\"10\" stroke-width=\"4\"/>\n",
       "</svg>"
      ],
      "text/plain": [
       "<IPython.core.display.SVG object>"
      ]
     },
     "metadata": {},
     "output_type": "display_data"
    }
   ],
   "source": [
    "d = document(100, 100, 'mm')\n",
    "page = d.addpage()\n",
    "figure = shape().fill(rgba(255, 128, 255, 255)).stroke(rgba(128, 0, 255, 255)).width(4)\n",
    "rect = figure.rectangle(5, 5, 90, 90)\n",
    "circ = figure.circle(33, 33, 25)\n",
    "page.place(rect)\n",
    "page.place(circ)\n",
    "show(page)"
   ]
  },
  {
   "cell_type": "markdown",
   "metadata": {},
   "source": [
    "If you want the circle to be a different color (or have a different stroke color or stroke width) from the rectangle, you need to create a second `shape` object:"
   ]
  },
  {
   "cell_type": "code",
   "execution_count": 14,
   "metadata": {},
   "outputs": [
    {
     "data": {
      "image/svg+xml": [
       "<svg height=\"283.4646pt\" version=\"1.1\" viewBox=\"0 0 283.4646 283.4646\" width=\"283.4646pt\" xmlns=\"http://www.w3.org/2000/svg\" xmlns:xlink=\"http://www.w3.org/1999/xlink\">\n",
       "<title>Untitled</title>\n",
       "<rect fill=\"rgba(255,128,255,1)\" height=\"255.1181\" stroke=\"rgba(128,0,255,1)\" stroke-miterlimit=\"10\" stroke-width=\"4\" width=\"255.1181\" x=\"14.1732\" y=\"14.1732\"/>\n",
       "<circle cx=\"93.5433\" cy=\"93.5433\" fill=\"rgba(128,240,128,1)\" r=\"70.8661\"/>\n",
       "</svg>"
      ],
      "text/plain": [
       "<IPython.core.display.SVG object>"
      ]
     },
     "metadata": {},
     "output_type": "display_data"
    }
   ],
   "source": [
    "d = document(100, 100, 'mm')\n",
    "page = d.addpage()\n",
    "# shape for rectangle\n",
    "figure = shape().fill(rgba(255, 128, 255, 255)).stroke(rgba(128, 0, 255, 255)).width(4)\n",
    "# shape for circle\n",
    "green_figure = shape().fill(rgba(128, 240, 128, 255)).nostroke()\n",
    "# add rectangle to figure\n",
    "rect = figure.rectangle(5, 5, 90, 90)\n",
    "# add circle to green figure\n",
    "circ = green_figure.circle(33, 33, 25)\n",
    "# place them both\n",
    "page.place(rect)\n",
    "page.place(circ)\n",
    "show(page)"
   ]
  },
  {
   "cell_type": "markdown",
   "metadata": {},
   "source": [
    "Note that `.nostroke()` causes the shape to not have a stroke at all. Similarly, `.nofill()` will make the shape have no fill color.\n",
    "\n",
    "> Exercise ideas: Modify the cell above to change the coordinates and colors of the rectangle and circle. Add a new element to the drawing using a new shape that we haven't discussed yet (say, `ellipse` or `line`) using a stroke and fill different from the other shapes."
   ]
  },
  {
   "cell_type": "markdown",
   "metadata": {},
   "source": [
    "## Randomness with numpy\n",
    "\n",
    "For the purposes of this tutorial, let's think about asemic writing as a kind of random process. Our method of generating asemic writing with a computer will be to simulate the random movement of a hand holding a pen. The movement of the pen is constrained in certain ways—i.e., at any point in the process, some pen movements are more likely to happen than other pen movements. To model this process, we need a way to generate random numbers.\n",
    "\n",
    "Fortunately, the Numpy library has a wide variety of random number generators with different useful properties. Let's talk about a few of them.\n",
    "\n",
    "### Uniform distribution\n",
    "\n",
    "The `uniform()` function returns a number between 0 and 1, drawn from a \"uniform distribution.\" The word \"uniform\" here means that every value in the domain has *the same chance of being generated*—no number or range of numbers is more likely than any other. Run the cell below multiple times to see what happens."
   ]
  },
  {
   "cell_type": "code",
   "execution_count": 15,
   "metadata": {},
   "outputs": [
    {
     "data": {
      "text/plain": [
       "0.22693139830025544"
      ]
     },
     "execution_count": 15,
     "metadata": {},
     "output_type": "execute_result"
    }
   ],
   "source": [
    "uniform()"
   ]
  },
  {
   "cell_type": "markdown",
   "metadata": {},
   "source": [
    "Using a `for` loop, you can generate a series of numbers to see what the distribution looks like. (You can change the number `8` to something larger to generate more numbers and better understand the distribution.)"
   ]
  },
  {
   "cell_type": "code",
   "execution_count": 16,
   "metadata": {},
   "outputs": [
    {
     "name": "stdout",
     "output_type": "stream",
     "text": [
      "0.8367071257668992\n",
      "0.18522579967386665\n",
      "0.2887934964619685\n",
      "0.36131456478081425\n",
      "0.0996030875505286\n",
      "0.3687988095586049\n",
      "0.0823542717903829\n",
      "0.7413168140682127\n"
     ]
    }
   ],
   "source": [
    "for i in range(8):\n",
    "    print(uniform())"
   ]
  },
  {
   "cell_type": "markdown",
   "metadata": {},
   "source": [
    "If you give two parameters to `uniform()`, the function will evaluate to a number chosen from that range (with the first parameter being the low end of the range, and the second parameter being the high end.)"
   ]
  },
  {
   "cell_type": "code",
   "execution_count": 17,
   "metadata": {},
   "outputs": [
    {
     "name": "stdout",
     "output_type": "stream",
     "text": [
      "-2.9701890357584726\n",
      "-4.949001112951357\n",
      "2.199951519928237\n",
      "-2.087938700916545\n",
      "-3.77212721764955\n",
      "3.0449828106646617\n",
      "-2.9255866457293758\n",
      "1.0890049040835699\n"
     ]
    }
   ],
   "source": [
    "for i in range(8):\n",
    "    print(uniform(-5, 5))"
   ]
  },
  {
   "cell_type": "markdown",
   "metadata": {},
   "source": [
    "If you need an integer instead of a floating-point number (i.e., a number with a decimal point), you can wrap the call to `uniform()` in a call to `int()`. The cell below simulates rolling a [twenty-sided die](https://en.wikipedia.org/wiki/Dice#Standard_variations):"
   ]
  },
  {
   "cell_type": "code",
   "execution_count": 18,
   "metadata": {},
   "outputs": [
    {
     "name": "stdout",
     "output_type": "stream",
     "text": [
      "18\n",
      "19\n",
      "15\n",
      "18\n",
      "18\n",
      "13\n",
      "13\n",
      "2\n"
     ]
    }
   ],
   "source": [
    "for i in range(8):\n",
    "    print(int(uniform(20)+1))"
   ]
  },
  {
   "cell_type": "markdown",
   "metadata": {},
   "source": [
    "> Exercise: Why do we need to add one to the result of the `uniform()` function in the example above?"
   ]
  },
  {
   "cell_type": "markdown",
   "metadata": {},
   "source": [
    "### Normal distribution\n",
    "\n",
    "A random number generator with a normal distribution (also called the Gaussian distribution or the \"bell curve\") produces values mostly clustered around a particular number. When generating a random number with a normal distribution, you specify the \"center\" of the distribution (i.e., the number that the values will cluster around) and the value for the standard deviation of the distribution, which controls the \"spread\" of numbers returned, above and below the center. (~70% of numbers will be within this range; ~95% will be within double the range.) Generate a random number with a normal distribution using the `normal()` function:"
   ]
  },
  {
   "cell_type": "code",
   "execution_count": 19,
   "metadata": {},
   "outputs": [
    {
     "data": {
      "text/plain": [
       "-1.2266128526773334"
      ]
     },
     "execution_count": 19,
     "metadata": {},
     "output_type": "execute_result"
    }
   ],
   "source": [
    "normal(0, 2)"
   ]
  },
  {
   "cell_type": "markdown",
   "metadata": {},
   "source": [
    "The first parameter is the center, and the second is the standard deviation. (These are often called *mu* and *sigma*, respectively.) Run it a number of times and you should see that the numbers generated mostly cluster around the center:"
   ]
  },
  {
   "cell_type": "code",
   "execution_count": 20,
   "metadata": {},
   "outputs": [
    {
     "name": "stdout",
     "output_type": "stream",
     "text": [
      "-1.0117745305084995\n",
      "-0.3873021725822677\n",
      "-0.5595881961295469\n",
      "-0.5975917174575341\n",
      "-0.5592138910339963\n",
      "1.883355258365555\n",
      "-1.9847167793518048\n",
      "-0.8514371624026741\n"
     ]
    }
   ],
   "source": [
    "for i in range(8):\n",
    "    print(normal(0, 2))"
   ]
  },
  {
   "cell_type": "markdown",
   "metadata": {},
   "source": [
    "Normal distributions are very useful in computer-generated art because they allow us to introduce and control variation, keeping values mostly in the same range.\n",
    "\n",
    "### Truncated normal distribution\n",
    "\n",
    "You may have noticed that sometimes the random number generator for the normal distribution produces values well outside the standard deviation. That's not a bug—it's just how normal distributions work. (In any data set, there are sometimes extreme outliers.)\n",
    "\n",
    "Nevertheless, in computer-generated art there's often a need to generate random numbers from a normal distribution that are *constrainted* to a particular range. (For example, you might want to generate a random color with a normal distribution, but never want your color values to fall outside of the range 0–255.) For this, you can use a *truncated normal distribution*. The following cell defines a function `t_normal()` to produce such values."
   ]
  },
  {
   "cell_type": "code",
   "execution_count": 21,
   "metadata": {},
   "outputs": [],
   "source": [
    "from scipy.stats import truncnorm\n",
    "def t_normal(a, b, mu, sigma):\n",
    "    tn = truncnorm((a-mu)/sigma, (b-mu)/sigma, loc=mu, scale=sigma)\n",
    "    return tn.rvs(1)[0]"
   ]
  },
  {
   "cell_type": "markdown",
   "metadata": {},
   "source": [
    "The first parameter is the low end of the range, the second parameter is the high end, the third parameter is the center and the fourth parameter is the standard deviation."
   ]
  },
  {
   "cell_type": "code",
   "execution_count": 22,
   "metadata": {},
   "outputs": [
    {
     "data": {
      "text/plain": [
       "17.38589363840554"
      ]
     },
     "execution_count": 22,
     "metadata": {},
     "output_type": "execute_result"
    }
   ],
   "source": [
    "t_normal(0, 255, 10, 10)"
   ]
  },
  {
   "cell_type": "markdown",
   "metadata": {},
   "source": [
    "### Choosing from a list with probabilities\n",
    "\n",
    "The `choice()` function implements a kind of *weighted* random choice, where you can set the weights randomly. The code in the cell below picks one of `50`, `100` or `150` (the values between the first set of brackets). It will pick these with 15% probability, 80% probability, and 5% probability respectively (as specified by the values between the second set of brackets)."
   ]
  },
  {
   "cell_type": "code",
   "execution_count": 23,
   "metadata": {},
   "outputs": [
    {
     "data": {
      "text/plain": [
       "100"
      ]
     },
     "execution_count": 23,
     "metadata": {},
     "output_type": "execute_result"
    }
   ],
   "source": [
    "choice([50, 100, 150], p=[0.15, 0.8, 0.05])"
   ]
  },
  {
   "cell_type": "markdown",
   "metadata": {},
   "source": [
    "Calling this function multiple times should result in the specified distribution:"
   ]
  },
  {
   "cell_type": "code",
   "execution_count": 24,
   "metadata": {},
   "outputs": [
    {
     "name": "stdout",
     "output_type": "stream",
     "text": [
      "100\n",
      "50\n",
      "100\n",
      "100\n",
      "100\n",
      "100\n",
      "100\n",
      "150\n"
     ]
    }
   ],
   "source": [
    "for i in range(8):\n",
    "    print(choice([50, 100, 150], p=[0.15, 0.8, 0.05]))"
   ]
  },
  {
   "cell_type": "markdown",
   "metadata": {},
   "source": [
    "Without the `p` parameter, the `choice()` function defaults to a uniform distribution (i.e., no result is more likely than any other):"
   ]
  },
  {
   "cell_type": "code",
   "execution_count": 25,
   "metadata": {},
   "outputs": [
    {
     "name": "stdout",
     "output_type": "stream",
     "text": [
      "50\n",
      "100\n",
      "100\n",
      "100\n",
      "100\n",
      "150\n",
      "50\n",
      "100\n"
     ]
    }
   ],
   "source": [
    "for i in range(8):\n",
    "    print(choice([50, 100, 150]))"
   ]
  },
  {
   "cell_type": "markdown",
   "metadata": {},
   "source": [
    "The `sample()` function (from Python's standard `random` module) takes a list of values and returns the specified number of values, randomly selected (using a uniform distribution) from the list."
   ]
  },
  {
   "cell_type": "code",
   "execution_count": 26,
   "metadata": {},
   "outputs": [],
   "source": [
    "from random import sample"
   ]
  },
  {
   "cell_type": "code",
   "execution_count": 27,
   "metadata": {},
   "outputs": [
    {
     "data": {
      "text/plain": [
       "[10, 15]"
      ]
     },
     "execution_count": 27,
     "metadata": {},
     "output_type": "execute_result"
    }
   ],
   "source": [
    "sample([5, 10, 15, 20], 2)"
   ]
  },
  {
   "cell_type": "markdown",
   "metadata": {},
   "source": [
    "## Visualizing distributions with flat\n",
    "\n",
    "The code in the cell below places circles on a page with the (x, y) coordinates of their centers determined by different random distributions. The small red circles are uniformly distributed; the medium-sized green circles are normally distributed and the large blue circles are in a truncated normal distribution (centered on the center of the page, with the same spread.)"
   ]
  },
  {
   "cell_type": "code",
   "execution_count": 31,
   "metadata": {},
   "outputs": [
    {
     "data": {
      "image/svg+xml": [
       "<svg height=\"283.4646pt\" version=\"1.1\" viewBox=\"0 0 283.4646 283.4646\" width=\"283.4646pt\" xmlns=\"http://www.w3.org/2000/svg\" xmlns:xlink=\"http://www.w3.org/1999/xlink\">\n",
       "<title>Untitled</title>\n",
       "<circle cx=\"70.6458\" cy=\"98.9652\" fill=\"none\" r=\"2.8346\" stroke=\"rgba(255,0,0,0.9412)\" stroke-miterlimit=\"10\"/>\n",
       "<circle cx=\"156.2737\" cy=\"163.845\" fill=\"none\" r=\"2.8346\" stroke=\"rgba(255,0,0,0.9412)\" stroke-miterlimit=\"10\"/>\n",
       "<circle cx=\"212.7248\" cy=\"216.7205\" fill=\"none\" r=\"2.8346\" stroke=\"rgba(255,0,0,0.9412)\" stroke-miterlimit=\"10\"/>\n",
       "<circle cx=\"27.1765\" cy=\"134.1829\" fill=\"none\" r=\"2.8346\" stroke=\"rgba(255,0,0,0.9412)\" stroke-miterlimit=\"10\"/>\n",
       "<circle cx=\"134.3707\" cy=\"56.348\" fill=\"none\" r=\"2.8346\" stroke=\"rgba(255,0,0,0.9412)\" stroke-miterlimit=\"10\"/>\n",
       "<circle cx=\"156.2851\" cy=\"19.9095\" fill=\"none\" r=\"2.8346\" stroke=\"rgba(255,0,0,0.9412)\" stroke-miterlimit=\"10\"/>\n",
       "<circle cx=\"5.0572\" cy=\"128.8221\" fill=\"none\" r=\"2.8346\" stroke=\"rgba(255,0,0,0.9412)\" stroke-miterlimit=\"10\"/>\n",
       "<circle cx=\"239.155\" cy=\"273.3241\" fill=\"none\" r=\"2.8346\" stroke=\"rgba(255,0,0,0.9412)\" stroke-miterlimit=\"10\"/>\n",
       "<circle cx=\"154.7343\" cy=\"276.793\" fill=\"none\" r=\"2.8346\" stroke=\"rgba(255,0,0,0.9412)\" stroke-miterlimit=\"10\"/>\n",
       "<circle cx=\"196.509\" cy=\"208.5837\" fill=\"none\" r=\"2.8346\" stroke=\"rgba(255,0,0,0.9412)\" stroke-miterlimit=\"10\"/>\n",
       "<circle cx=\"90.7343\" cy=\"55.9268\" fill=\"none\" r=\"2.8346\" stroke=\"rgba(255,0,0,0.9412)\" stroke-miterlimit=\"10\"/>\n",
       "<circle cx=\"137.3034\" cy=\"142.6506\" fill=\"none\" r=\"2.8346\" stroke=\"rgba(255,0,0,0.9412)\" stroke-miterlimit=\"10\"/>\n",
       "<circle cx=\"145.5838\" cy=\"154.8271\" fill=\"none\" r=\"2.8346\" stroke=\"rgba(255,0,0,0.9412)\" stroke-miterlimit=\"10\"/>\n",
       "<circle cx=\"69.0522\" cy=\"259.5857\" fill=\"none\" r=\"2.8346\" stroke=\"rgba(255,0,0,0.9412)\" stroke-miterlimit=\"10\"/>\n",
       "<circle cx=\"135.6055\" cy=\"81.3232\" fill=\"none\" r=\"2.8346\" stroke=\"rgba(255,0,0,0.9412)\" stroke-miterlimit=\"10\"/>\n",
       "<circle cx=\"239.2954\" cy=\"239.5631\" fill=\"none\" r=\"2.8346\" stroke=\"rgba(255,0,0,0.9412)\" stroke-miterlimit=\"10\"/>\n",
       "<circle cx=\"225.5578\" cy=\"77.1497\" fill=\"none\" r=\"2.8346\" stroke=\"rgba(255,0,0,0.9412)\" stroke-miterlimit=\"10\"/>\n",
       "<circle cx=\"18.6116\" cy=\"102.5308\" fill=\"none\" r=\"2.8346\" stroke=\"rgba(255,0,0,0.9412)\" stroke-miterlimit=\"10\"/>\n",
       "<circle cx=\"121.2817\" cy=\"200.205\" fill=\"none\" r=\"2.8346\" stroke=\"rgba(255,0,0,0.9412)\" stroke-miterlimit=\"10\"/>\n",
       "<circle cx=\"133.4515\" cy=\"111.2784\" fill=\"none\" r=\"2.8346\" stroke=\"rgba(255,0,0,0.9412)\" stroke-miterlimit=\"10\"/>\n",
       "<circle cx=\"3.8252\" cy=\"11.3796\" fill=\"none\" r=\"2.8346\" stroke=\"rgba(255,0,0,0.9412)\" stroke-miterlimit=\"10\"/>\n",
       "<circle cx=\"223.1653\" cy=\"36.1129\" fill=\"none\" r=\"2.8346\" stroke=\"rgba(255,0,0,0.9412)\" stroke-miterlimit=\"10\"/>\n",
       "<circle cx=\"150.5278\" cy=\"168.3035\" fill=\"none\" r=\"2.8346\" stroke=\"rgba(255,0,0,0.9412)\" stroke-miterlimit=\"10\"/>\n",
       "<circle cx=\"5.9382\" cy=\"172.1655\" fill=\"none\" r=\"2.8346\" stroke=\"rgba(255,0,0,0.9412)\" stroke-miterlimit=\"10\"/>\n",
       "<circle cx=\"215.1461\" cy=\"189.2334\" fill=\"none\" r=\"2.8346\" stroke=\"rgba(255,0,0,0.9412)\" stroke-miterlimit=\"10\"/>\n",
       "<circle cx=\"82.7463\" cy=\"185.3302\" fill=\"none\" r=\"2.8346\" stroke=\"rgba(255,0,0,0.9412)\" stroke-miterlimit=\"10\"/>\n",
       "<circle cx=\"65.8295\" cy=\"42.7864\" fill=\"none\" r=\"2.8346\" stroke=\"rgba(255,0,0,0.9412)\" stroke-miterlimit=\"10\"/>\n",
       "<circle cx=\"8.136\" cy=\"220.1157\" fill=\"none\" r=\"2.8346\" stroke=\"rgba(255,0,0,0.9412)\" stroke-miterlimit=\"10\"/>\n",
       "<circle cx=\"146.8676\" cy=\"230.6678\" fill=\"none\" r=\"2.8346\" stroke=\"rgba(255,0,0,0.9412)\" stroke-miterlimit=\"10\"/>\n",
       "<circle cx=\"251.7187\" cy=\"91.6951\" fill=\"none\" r=\"2.8346\" stroke=\"rgba(255,0,0,0.9412)\" stroke-miterlimit=\"10\"/>\n",
       "<circle cx=\"45.2495\" cy=\"228.0892\" fill=\"none\" r=\"2.8346\" stroke=\"rgba(255,0,0,0.9412)\" stroke-miterlimit=\"10\"/>\n",
       "<circle cx=\"188.2898\" cy=\"246.8824\" fill=\"none\" r=\"2.8346\" stroke=\"rgba(255,0,0,0.9412)\" stroke-miterlimit=\"10\"/>\n",
       "<circle cx=\"199.2722\" cy=\"29.6309\" fill=\"none\" r=\"2.8346\" stroke=\"rgba(255,0,0,0.9412)\" stroke-miterlimit=\"10\"/>\n",
       "<circle cx=\"50.0784\" cy=\"57.3452\" fill=\"none\" r=\"2.8346\" stroke=\"rgba(255,0,0,0.9412)\" stroke-miterlimit=\"10\"/>\n",
       "<circle cx=\"246.8384\" cy=\"86.1835\" fill=\"none\" r=\"2.8346\" stroke=\"rgba(255,0,0,0.9412)\" stroke-miterlimit=\"10\"/>\n",
       "<circle cx=\"69.2894\" cy=\"160.1398\" fill=\"none\" r=\"2.8346\" stroke=\"rgba(255,0,0,0.9412)\" stroke-miterlimit=\"10\"/>\n",
       "<circle cx=\"12.4531\" cy=\"204.8497\" fill=\"none\" r=\"2.8346\" stroke=\"rgba(255,0,0,0.9412)\" stroke-miterlimit=\"10\"/>\n",
       "<circle cx=\"52.9755\" cy=\"48.6815\" fill=\"none\" r=\"2.8346\" stroke=\"rgba(255,0,0,0.9412)\" stroke-miterlimit=\"10\"/>\n",
       "<circle cx=\"95.6961\" cy=\"106.2759\" fill=\"none\" r=\"2.8346\" stroke=\"rgba(255,0,0,0.9412)\" stroke-miterlimit=\"10\"/>\n",
       "<circle cx=\"271.85\" cy=\"99.2232\" fill=\"none\" r=\"2.8346\" stroke=\"rgba(255,0,0,0.9412)\" stroke-miterlimit=\"10\"/>\n",
       "<circle cx=\"79.2187\" cy=\"60.5265\" fill=\"none\" r=\"2.8346\" stroke=\"rgba(255,0,0,0.9412)\" stroke-miterlimit=\"10\"/>\n",
       "<circle cx=\"46.5146\" cy=\"120.3343\" fill=\"none\" r=\"2.8346\" stroke=\"rgba(255,0,0,0.9412)\" stroke-miterlimit=\"10\"/>\n",
       "<circle cx=\"180.358\" cy=\"100.9447\" fill=\"none\" r=\"2.8346\" stroke=\"rgba(255,0,0,0.9412)\" stroke-miterlimit=\"10\"/>\n",
       "<circle cx=\"212.5604\" cy=\"51.5835\" fill=\"none\" r=\"2.8346\" stroke=\"rgba(255,0,0,0.9412)\" stroke-miterlimit=\"10\"/>\n",
       "<circle cx=\"174.085\" cy=\"123.8674\" fill=\"none\" r=\"2.8346\" stroke=\"rgba(255,0,0,0.9412)\" stroke-miterlimit=\"10\"/>\n",
       "<circle cx=\"44.042\" cy=\"104.2802\" fill=\"none\" r=\"2.8346\" stroke=\"rgba(255,0,0,0.9412)\" stroke-miterlimit=\"10\"/>\n",
       "<circle cx=\"59.3413\" cy=\"225.2605\" fill=\"none\" r=\"2.8346\" stroke=\"rgba(255,0,0,0.9412)\" stroke-miterlimit=\"10\"/>\n",
       "<circle cx=\"272.8743\" cy=\"266.4533\" fill=\"none\" r=\"2.8346\" stroke=\"rgba(255,0,0,0.9412)\" stroke-miterlimit=\"10\"/>\n",
       "<circle cx=\"260.4433\" cy=\"225.123\" fill=\"none\" r=\"2.8346\" stroke=\"rgba(255,0,0,0.9412)\" stroke-miterlimit=\"10\"/>\n",
       "<circle cx=\"53.7054\" cy=\"205.3798\" fill=\"none\" r=\"2.8346\" stroke=\"rgba(255,0,0,0.9412)\" stroke-miterlimit=\"10\"/>\n",
       "<circle cx=\"121.2932\" cy=\"261.0841\" fill=\"none\" r=\"2.8346\" stroke=\"rgba(255,0,0,0.9412)\" stroke-miterlimit=\"10\"/>\n",
       "<circle cx=\"79.3662\" cy=\"149.6383\" fill=\"none\" r=\"2.8346\" stroke=\"rgba(255,0,0,0.9412)\" stroke-miterlimit=\"10\"/>\n",
       "<circle cx=\"40.2092\" cy=\"219.7993\" fill=\"none\" r=\"2.8346\" stroke=\"rgba(255,0,0,0.9412)\" stroke-miterlimit=\"10\"/>\n",
       "<circle cx=\"11.8543\" cy=\"219.3285\" fill=\"none\" r=\"2.8346\" stroke=\"rgba(255,0,0,0.9412)\" stroke-miterlimit=\"10\"/>\n",
       "<circle cx=\"150.1428\" cy=\"259.0574\" fill=\"none\" r=\"2.8346\" stroke=\"rgba(255,0,0,0.9412)\" stroke-miterlimit=\"10\"/>\n",
       "<circle cx=\"121.2557\" cy=\"17.746\" fill=\"none\" r=\"2.8346\" stroke=\"rgba(255,0,0,0.9412)\" stroke-miterlimit=\"10\"/>\n",
       "<circle cx=\"67.9206\" cy=\"3.0596\" fill=\"none\" r=\"2.8346\" stroke=\"rgba(255,0,0,0.9412)\" stroke-miterlimit=\"10\"/>\n",
       "<circle cx=\"21.152\" cy=\"169.5512\" fill=\"none\" r=\"2.8346\" stroke=\"rgba(255,0,0,0.9412)\" stroke-miterlimit=\"10\"/>\n",
       "<circle cx=\"68.3199\" cy=\"23.8112\" fill=\"none\" r=\"2.8346\" stroke=\"rgba(255,0,0,0.9412)\" stroke-miterlimit=\"10\"/>\n",
       "<circle cx=\"115.7112\" cy=\"265.031\" fill=\"none\" r=\"2.8346\" stroke=\"rgba(255,0,0,0.9412)\" stroke-miterlimit=\"10\"/>\n",
       "<circle cx=\"141.6706\" cy=\"150.2049\" fill=\"none\" r=\"2.8346\" stroke=\"rgba(255,0,0,0.9412)\" stroke-miterlimit=\"10\"/>\n",
       "<circle cx=\"125.577\" cy=\"81.9808\" fill=\"none\" r=\"2.8346\" stroke=\"rgba(255,0,0,0.9412)\" stroke-miterlimit=\"10\"/>\n",
       "<circle cx=\"107.8198\" cy=\"47.1985\" fill=\"none\" r=\"2.8346\" stroke=\"rgba(255,0,0,0.9412)\" stroke-miterlimit=\"10\"/>\n",
       "<circle cx=\"105.337\" cy=\"141.38\" fill=\"none\" r=\"2.8346\" stroke=\"rgba(255,0,0,0.9412)\" stroke-miterlimit=\"10\"/>\n",
       "<circle cx=\"181.1262\" cy=\"189.7274\" fill=\"none\" r=\"2.8346\" stroke=\"rgba(255,0,0,0.9412)\" stroke-miterlimit=\"10\"/>\n",
       "<circle cx=\"17.8375\" cy=\"270.2606\" fill=\"none\" r=\"2.8346\" stroke=\"rgba(255,0,0,0.9412)\" stroke-miterlimit=\"10\"/>\n",
       "<circle cx=\"230.9637\" cy=\"167.9856\" fill=\"none\" r=\"2.8346\" stroke=\"rgba(255,0,0,0.9412)\" stroke-miterlimit=\"10\"/>\n",
       "<circle cx=\"211.2756\" cy=\"247.1397\" fill=\"none\" r=\"2.8346\" stroke=\"rgba(255,0,0,0.9412)\" stroke-miterlimit=\"10\"/>\n",
       "<circle cx=\"186.8951\" cy=\"142.5136\" fill=\"none\" r=\"2.8346\" stroke=\"rgba(255,0,0,0.9412)\" stroke-miterlimit=\"10\"/>\n",
       "<circle cx=\"220.6542\" cy=\"87.5985\" fill=\"none\" r=\"2.8346\" stroke=\"rgba(255,0,0,0.9412)\" stroke-miterlimit=\"10\"/>\n",
       "<circle cx=\"122.5373\" cy=\"238.7499\" fill=\"none\" r=\"2.8346\" stroke=\"rgba(255,0,0,0.9412)\" stroke-miterlimit=\"10\"/>\n",
       "<circle cx=\"189.2522\" cy=\"124.0333\" fill=\"none\" r=\"2.8346\" stroke=\"rgba(255,0,0,0.9412)\" stroke-miterlimit=\"10\"/>\n",
       "<circle cx=\"124.5859\" cy=\"99.0426\" fill=\"none\" r=\"2.8346\" stroke=\"rgba(255,0,0,0.9412)\" stroke-miterlimit=\"10\"/>\n",
       "<circle cx=\"63.8039\" cy=\"80.7631\" fill=\"none\" r=\"2.8346\" stroke=\"rgba(255,0,0,0.9412)\" stroke-miterlimit=\"10\"/>\n",
       "<circle cx=\"172.6059\" cy=\"76.8054\" fill=\"none\" r=\"2.8346\" stroke=\"rgba(255,0,0,0.9412)\" stroke-miterlimit=\"10\"/>\n",
       "<circle cx=\"161.2723\" cy=\"197.9122\" fill=\"none\" r=\"2.8346\" stroke=\"rgba(255,0,0,0.9412)\" stroke-miterlimit=\"10\"/>\n",
       "<circle cx=\"208.8472\" cy=\"185.6357\" fill=\"none\" r=\"2.8346\" stroke=\"rgba(255,0,0,0.9412)\" stroke-miterlimit=\"10\"/>\n",
       "<circle cx=\"187.708\" cy=\"131.83\" fill=\"none\" r=\"2.8346\" stroke=\"rgba(255,0,0,0.9412)\" stroke-miterlimit=\"10\"/>\n",
       "<circle cx=\"55.831\" cy=\"251.4972\" fill=\"none\" r=\"2.8346\" stroke=\"rgba(255,0,0,0.9412)\" stroke-miterlimit=\"10\"/>\n",
       "<circle cx=\"78.9883\" cy=\"204.983\" fill=\"none\" r=\"2.8346\" stroke=\"rgba(255,0,0,0.9412)\" stroke-miterlimit=\"10\"/>\n",
       "<circle cx=\"279.5204\" cy=\"181.7383\" fill=\"none\" r=\"2.8346\" stroke=\"rgba(255,0,0,0.9412)\" stroke-miterlimit=\"10\"/>\n",
       "<circle cx=\"6.2325\" cy=\"134.8242\" fill=\"none\" r=\"2.8346\" stroke=\"rgba(255,0,0,0.9412)\" stroke-miterlimit=\"10\"/>\n",
       "<circle cx=\"42.1909\" cy=\"79.0474\" fill=\"none\" r=\"2.8346\" stroke=\"rgba(255,0,0,0.9412)\" stroke-miterlimit=\"10\"/>\n",
       "<circle cx=\"181.1561\" cy=\"263.8061\" fill=\"none\" r=\"2.8346\" stroke=\"rgba(255,0,0,0.9412)\" stroke-miterlimit=\"10\"/>\n",
       "<circle cx=\"82.1961\" cy=\"222.6948\" fill=\"none\" r=\"2.8346\" stroke=\"rgba(255,0,0,0.9412)\" stroke-miterlimit=\"10\"/>\n",
       "<circle cx=\"174.7622\" cy=\"136.2121\" fill=\"none\" r=\"2.8346\" stroke=\"rgba(255,0,0,0.9412)\" stroke-miterlimit=\"10\"/>\n",
       "<circle cx=\"235.3834\" cy=\"136.7538\" fill=\"none\" r=\"2.8346\" stroke=\"rgba(255,0,0,0.9412)\" stroke-miterlimit=\"10\"/>\n",
       "<circle cx=\"27.2429\" cy=\"201.9667\" fill=\"none\" r=\"2.8346\" stroke=\"rgba(255,0,0,0.9412)\" stroke-miterlimit=\"10\"/>\n",
       "<circle cx=\"204.5\" cy=\"258.7385\" fill=\"none\" r=\"2.8346\" stroke=\"rgba(255,0,0,0.9412)\" stroke-miterlimit=\"10\"/>\n",
       "<circle cx=\"8.2712\" cy=\"106.3051\" fill=\"none\" r=\"2.8346\" stroke=\"rgba(255,0,0,0.9412)\" stroke-miterlimit=\"10\"/>\n",
       "<circle cx=\"160.2544\" cy=\"281.5867\" fill=\"none\" r=\"2.8346\" stroke=\"rgba(255,0,0,0.9412)\" stroke-miterlimit=\"10\"/>\n",
       "<circle cx=\"80.1335\" cy=\"128.0458\" fill=\"none\" r=\"2.8346\" stroke=\"rgba(255,0,0,0.9412)\" stroke-miterlimit=\"10\"/>\n",
       "<circle cx=\"41.5181\" cy=\"19.7557\" fill=\"none\" r=\"2.8346\" stroke=\"rgba(255,0,0,0.9412)\" stroke-miterlimit=\"10\"/>\n",
       "<circle cx=\"271.1646\" cy=\"172.6252\" fill=\"none\" r=\"2.8346\" stroke=\"rgba(255,0,0,0.9412)\" stroke-miterlimit=\"10\"/>\n",
       "<circle cx=\"171.4749\" cy=\"260.8944\" fill=\"none\" r=\"2.8346\" stroke=\"rgba(255,0,0,0.9412)\" stroke-miterlimit=\"10\"/>\n",
       "<circle cx=\"162.418\" cy=\"219.1629\" fill=\"none\" r=\"2.8346\" stroke=\"rgba(255,0,0,0.9412)\" stroke-miterlimit=\"10\"/>\n",
       "<circle cx=\"38.5099\" cy=\"254.8815\" fill=\"none\" r=\"2.8346\" stroke=\"rgba(255,0,0,0.9412)\" stroke-miterlimit=\"10\"/>\n",
       "<circle cx=\"274.5784\" cy=\"183.0825\" fill=\"none\" r=\"2.8346\" stroke=\"rgba(255,0,0,0.9412)\" stroke-miterlimit=\"10\"/>\n",
       "<circle cx=\"219.6111\" cy=\"274.5391\" fill=\"none\" r=\"2.8346\" stroke=\"rgba(255,0,0,0.9412)\" stroke-miterlimit=\"10\"/>\n",
       "<circle cx=\"29.4149\" cy=\"144.8302\" fill=\"none\" r=\"2.8346\" stroke=\"rgba(255,0,0,0.9412)\" stroke-miterlimit=\"10\"/>\n",
       "<circle cx=\"144.0953\" cy=\"87.0093\" fill=\"none\" r=\"2.8346\" stroke=\"rgba(255,0,0,0.9412)\" stroke-miterlimit=\"10\"/>\n",
       "<circle cx=\"235.8097\" cy=\"17.9832\" fill=\"none\" r=\"2.8346\" stroke=\"rgba(255,0,0,0.9412)\" stroke-miterlimit=\"10\"/>\n",
       "<circle cx=\"157.379\" cy=\"200.5487\" fill=\"none\" r=\"2.8346\" stroke=\"rgba(255,0,0,0.9412)\" stroke-miterlimit=\"10\"/>\n",
       "<circle cx=\"16.1802\" cy=\"45.179\" fill=\"none\" r=\"2.8346\" stroke=\"rgba(255,0,0,0.9412)\" stroke-miterlimit=\"10\"/>\n",
       "<circle cx=\"257.1246\" cy=\"33.1038\" fill=\"none\" r=\"2.8346\" stroke=\"rgba(255,0,0,0.9412)\" stroke-miterlimit=\"10\"/>\n",
       "<circle cx=\"125.0635\" cy=\"165.7665\" fill=\"none\" r=\"2.8346\" stroke=\"rgba(255,0,0,0.9412)\" stroke-miterlimit=\"10\"/>\n",
       "<circle cx=\"62.6175\" cy=\"253.5544\" fill=\"none\" r=\"2.8346\" stroke=\"rgba(255,0,0,0.9412)\" stroke-miterlimit=\"10\"/>\n",
       "<circle cx=\"121.5631\" cy=\"30.5241\" fill=\"none\" r=\"2.8346\" stroke=\"rgba(255,0,0,0.9412)\" stroke-miterlimit=\"10\"/>\n",
       "<circle cx=\"184.787\" cy=\"161.1358\" fill=\"none\" r=\"2.8346\" stroke=\"rgba(255,0,0,0.9412)\" stroke-miterlimit=\"10\"/>\n",
       "<circle cx=\"53.0351\" cy=\"161.6368\" fill=\"none\" r=\"2.8346\" stroke=\"rgba(255,0,0,0.9412)\" stroke-miterlimit=\"10\"/>\n",
       "<circle cx=\"170.2638\" cy=\"249.4682\" fill=\"none\" r=\"2.8346\" stroke=\"rgba(255,0,0,0.9412)\" stroke-miterlimit=\"10\"/>\n",
       "<circle cx=\"148.9189\" cy=\"75.93\" fill=\"none\" r=\"2.8346\" stroke=\"rgba(255,0,0,0.9412)\" stroke-miterlimit=\"10\"/>\n",
       "<circle cx=\"21.849\" cy=\"76.1581\" fill=\"none\" r=\"2.8346\" stroke=\"rgba(255,0,0,0.9412)\" stroke-miterlimit=\"10\"/>\n",
       "<circle cx=\"12.705\" cy=\"146.1753\" fill=\"none\" r=\"2.8346\" stroke=\"rgba(255,0,0,0.9412)\" stroke-miterlimit=\"10\"/>\n",
       "<circle cx=\"153.3374\" cy=\"168.1703\" fill=\"none\" r=\"2.8346\" stroke=\"rgba(255,0,0,0.9412)\" stroke-miterlimit=\"10\"/>\n",
       "<circle cx=\"67.1013\" cy=\"256.6404\" fill=\"none\" r=\"2.8346\" stroke=\"rgba(255,0,0,0.9412)\" stroke-miterlimit=\"10\"/>\n",
       "<circle cx=\"264.5426\" cy=\"118.5746\" fill=\"none\" r=\"2.8346\" stroke=\"rgba(255,0,0,0.9412)\" stroke-miterlimit=\"10\"/>\n",
       "<circle cx=\"180.0329\" cy=\"249.0424\" fill=\"none\" r=\"2.8346\" stroke=\"rgba(255,0,0,0.9412)\" stroke-miterlimit=\"10\"/>\n",
       "<circle cx=\"79.4946\" cy=\"8.5954\" fill=\"none\" r=\"2.8346\" stroke=\"rgba(255,0,0,0.9412)\" stroke-miterlimit=\"10\"/>\n",
       "<circle cx=\"227.4329\" cy=\"206.563\" fill=\"none\" r=\"2.8346\" stroke=\"rgba(255,0,0,0.9412)\" stroke-miterlimit=\"10\"/>\n",
       "<circle cx=\"249.4638\" cy=\"281.8051\" fill=\"none\" r=\"2.8346\" stroke=\"rgba(255,0,0,0.9412)\" stroke-miterlimit=\"10\"/>\n",
       "<circle cx=\"134.8927\" cy=\"37.0019\" fill=\"none\" r=\"2.8346\" stroke=\"rgba(255,0,0,0.9412)\" stroke-miterlimit=\"10\"/>\n",
       "<circle cx=\"86.7552\" cy=\"246.5394\" fill=\"none\" r=\"2.8346\" stroke=\"rgba(255,0,0,0.9412)\" stroke-miterlimit=\"10\"/>\n",
       "<circle cx=\"282.2516\" cy=\"131.712\" fill=\"none\" r=\"2.8346\" stroke=\"rgba(255,0,0,0.9412)\" stroke-miterlimit=\"10\"/>\n",
       "<circle cx=\"155.3231\" cy=\"167.2635\" fill=\"none\" r=\"2.8346\" stroke=\"rgba(255,0,0,0.9412)\" stroke-miterlimit=\"10\"/>\n",
       "<circle cx=\"50.5246\" cy=\"92.2904\" fill=\"none\" r=\"2.8346\" stroke=\"rgba(255,0,0,0.9412)\" stroke-miterlimit=\"10\"/>\n",
       "<circle cx=\"25.2884\" cy=\"116.4895\" fill=\"none\" r=\"2.8346\" stroke=\"rgba(255,0,0,0.9412)\" stroke-miterlimit=\"10\"/>\n",
       "<circle cx=\"135.6546\" cy=\"260.5664\" fill=\"none\" r=\"2.8346\" stroke=\"rgba(255,0,0,0.9412)\" stroke-miterlimit=\"10\"/>\n",
       "<circle cx=\"13.6619\" cy=\"216.1253\" fill=\"none\" r=\"2.8346\" stroke=\"rgba(255,0,0,0.9412)\" stroke-miterlimit=\"10\"/>\n",
       "<circle cx=\"60.9416\" cy=\"98.9268\" fill=\"none\" r=\"2.8346\" stroke=\"rgba(255,0,0,0.9412)\" stroke-miterlimit=\"10\"/>\n",
       "<circle cx=\"119.5604\" cy=\"136.3975\" fill=\"none\" r=\"2.8346\" stroke=\"rgba(255,0,0,0.9412)\" stroke-miterlimit=\"10\"/>\n",
       "<circle cx=\"238.1398\" cy=\"213.4437\" fill=\"none\" r=\"2.8346\" stroke=\"rgba(255,0,0,0.9412)\" stroke-miterlimit=\"10\"/>\n",
       "<circle cx=\"66.7373\" cy=\"76.3933\" fill=\"none\" r=\"2.8346\" stroke=\"rgba(255,0,0,0.9412)\" stroke-miterlimit=\"10\"/>\n",
       "<circle cx=\"169.7733\" cy=\"157.9578\" fill=\"none\" r=\"2.8346\" stroke=\"rgba(255,0,0,0.9412)\" stroke-miterlimit=\"10\"/>\n",
       "<circle cx=\"112.0573\" cy=\"192.059\" fill=\"none\" r=\"2.8346\" stroke=\"rgba(255,0,0,0.9412)\" stroke-miterlimit=\"10\"/>\n",
       "<circle cx=\"138.2677\" cy=\"238.7869\" fill=\"none\" r=\"2.8346\" stroke=\"rgba(255,0,0,0.9412)\" stroke-miterlimit=\"10\"/>\n",
       "<circle cx=\"109.8091\" cy=\"187.206\" fill=\"none\" r=\"2.8346\" stroke=\"rgba(255,0,0,0.9412)\" stroke-miterlimit=\"10\"/>\n",
       "<circle cx=\"272.2875\" cy=\"241.6093\" fill=\"none\" r=\"2.8346\" stroke=\"rgba(255,0,0,0.9412)\" stroke-miterlimit=\"10\"/>\n",
       "<circle cx=\"15.164\" cy=\"165.9695\" fill=\"none\" r=\"2.8346\" stroke=\"rgba(255,0,0,0.9412)\" stroke-miterlimit=\"10\"/>\n",
       "<circle cx=\"60.5889\" cy=\"84.0255\" fill=\"none\" r=\"2.8346\" stroke=\"rgba(255,0,0,0.9412)\" stroke-miterlimit=\"10\"/>\n",
       "<circle cx=\"11.4795\" cy=\"252.0175\" fill=\"none\" r=\"2.8346\" stroke=\"rgba(255,0,0,0.9412)\" stroke-miterlimit=\"10\"/>\n",
       "<circle cx=\"195.4896\" cy=\"274.7314\" fill=\"none\" r=\"2.8346\" stroke=\"rgba(255,0,0,0.9412)\" stroke-miterlimit=\"10\"/>\n",
       "<circle cx=\"80.8985\" cy=\"5.8636\" fill=\"none\" r=\"2.8346\" stroke=\"rgba(255,0,0,0.9412)\" stroke-miterlimit=\"10\"/>\n",
       "<circle cx=\"123.327\" cy=\"40.3141\" fill=\"none\" r=\"2.8346\" stroke=\"rgba(255,0,0,0.9412)\" stroke-miterlimit=\"10\"/>\n",
       "<circle cx=\"257.3358\" cy=\"11.3213\" fill=\"none\" r=\"2.8346\" stroke=\"rgba(255,0,0,0.9412)\" stroke-miterlimit=\"10\"/>\n",
       "<circle cx=\"224.0947\" cy=\"70.0174\" fill=\"none\" r=\"2.8346\" stroke=\"rgba(255,0,0,0.9412)\" stroke-miterlimit=\"10\"/>\n",
       "<circle cx=\"111.1908\" cy=\"145.7152\" fill=\"none\" r=\"2.8346\" stroke=\"rgba(255,0,0,0.9412)\" stroke-miterlimit=\"10\"/>\n",
       "<circle cx=\"18.8588\" cy=\"238.925\" fill=\"none\" r=\"2.8346\" stroke=\"rgba(255,0,0,0.9412)\" stroke-miterlimit=\"10\"/>\n",
       "<circle cx=\"180.6983\" cy=\"148.2053\" fill=\"none\" r=\"2.8346\" stroke=\"rgba(255,0,0,0.9412)\" stroke-miterlimit=\"10\"/>\n",
       "<circle cx=\"181.8756\" cy=\"55.4542\" fill=\"none\" r=\"2.8346\" stroke=\"rgba(255,0,0,0.9412)\" stroke-miterlimit=\"10\"/>\n",
       "<circle cx=\"277.348\" cy=\"150.4615\" fill=\"none\" r=\"2.8346\" stroke=\"rgba(255,0,0,0.9412)\" stroke-miterlimit=\"10\"/>\n",
       "<circle cx=\"118.9048\" cy=\"139.7281\" fill=\"none\" r=\"2.8346\" stroke=\"rgba(255,0,0,0.9412)\" stroke-miterlimit=\"10\"/>\n",
       "<circle cx=\"280.7774\" cy=\"168.9444\" fill=\"none\" r=\"2.8346\" stroke=\"rgba(255,0,0,0.9412)\" stroke-miterlimit=\"10\"/>\n",
       "<circle cx=\"36.8158\" cy=\"193.8036\" fill=\"none\" r=\"2.8346\" stroke=\"rgba(255,0,0,0.9412)\" stroke-miterlimit=\"10\"/>\n",
       "<circle cx=\"266.9185\" cy=\"249.6448\" fill=\"none\" r=\"2.8346\" stroke=\"rgba(255,0,0,0.9412)\" stroke-miterlimit=\"10\"/>\n",
       "<circle cx=\"161.452\" cy=\"79.6843\" fill=\"none\" r=\"2.8346\" stroke=\"rgba(255,0,0,0.9412)\" stroke-miterlimit=\"10\"/>\n",
       "<circle cx=\"19.5973\" cy=\"155.3997\" fill=\"none\" r=\"2.8346\" stroke=\"rgba(255,0,0,0.9412)\" stroke-miterlimit=\"10\"/>\n",
       "<circle cx=\"123.1885\" cy=\"74.1354\" fill=\"none\" r=\"2.8346\" stroke=\"rgba(255,0,0,0.9412)\" stroke-miterlimit=\"10\"/>\n",
       "<circle cx=\"236.3477\" cy=\"96.0184\" fill=\"none\" r=\"2.8346\" stroke=\"rgba(255,0,0,0.9412)\" stroke-miterlimit=\"10\"/>\n",
       "<circle cx=\"103.3452\" cy=\"92.2554\" fill=\"none\" r=\"2.8346\" stroke=\"rgba(255,0,0,0.9412)\" stroke-miterlimit=\"10\"/>\n",
       "<circle cx=\"19.6175\" cy=\"233.3144\" fill=\"none\" r=\"2.8346\" stroke=\"rgba(255,0,0,0.9412)\" stroke-miterlimit=\"10\"/>\n",
       "<circle cx=\"251.0434\" cy=\"105.4236\" fill=\"none\" r=\"2.8346\" stroke=\"rgba(255,0,0,0.9412)\" stroke-miterlimit=\"10\"/>\n",
       "<circle cx=\"56.1459\" cy=\"9.4728\" fill=\"none\" r=\"2.8346\" stroke=\"rgba(255,0,0,0.9412)\" stroke-miterlimit=\"10\"/>\n",
       "<circle cx=\"149.8382\" cy=\"248.7068\" fill=\"none\" r=\"2.8346\" stroke=\"rgba(255,0,0,0.9412)\" stroke-miterlimit=\"10\"/>\n",
       "<circle cx=\"207.249\" cy=\"250.9825\" fill=\"none\" r=\"2.8346\" stroke=\"rgba(255,0,0,0.9412)\" stroke-miterlimit=\"10\"/>\n",
       "<circle cx=\"53.9466\" cy=\"239.3611\" fill=\"none\" r=\"2.8346\" stroke=\"rgba(255,0,0,0.9412)\" stroke-miterlimit=\"10\"/>\n",
       "<circle cx=\"122.3233\" cy=\"278.162\" fill=\"none\" r=\"2.8346\" stroke=\"rgba(255,0,0,0.9412)\" stroke-miterlimit=\"10\"/>\n",
       "<circle cx=\"252.5523\" cy=\"139.0621\" fill=\"none\" r=\"2.8346\" stroke=\"rgba(255,0,0,0.9412)\" stroke-miterlimit=\"10\"/>\n",
       "<circle cx=\"2.9893\" cy=\"76.1789\" fill=\"none\" r=\"2.8346\" stroke=\"rgba(255,0,0,0.9412)\" stroke-miterlimit=\"10\"/>\n",
       "<circle cx=\"128.1074\" cy=\"90.45\" fill=\"none\" r=\"2.8346\" stroke=\"rgba(255,0,0,0.9412)\" stroke-miterlimit=\"10\"/>\n",
       "<circle cx=\"182.3845\" cy=\"86.6187\" fill=\"none\" r=\"2.8346\" stroke=\"rgba(255,0,0,0.9412)\" stroke-miterlimit=\"10\"/>\n",
       "<circle cx=\"204.8719\" cy=\"43.1481\" fill=\"none\" r=\"2.8346\" stroke=\"rgba(255,0,0,0.9412)\" stroke-miterlimit=\"10\"/>\n",
       "<circle cx=\"171.0105\" cy=\"61.5348\" fill=\"none\" r=\"2.8346\" stroke=\"rgba(255,0,0,0.9412)\" stroke-miterlimit=\"10\"/>\n",
       "<circle cx=\"181.1218\" cy=\"77.152\" fill=\"none\" r=\"2.8346\" stroke=\"rgba(255,0,0,0.9412)\" stroke-miterlimit=\"10\"/>\n",
       "<circle cx=\"146\" cy=\"223.5731\" fill=\"none\" r=\"2.8346\" stroke=\"rgba(255,0,0,0.9412)\" stroke-miterlimit=\"10\"/>\n",
       "<circle cx=\"32.212\" cy=\"203.9378\" fill=\"none\" r=\"2.8346\" stroke=\"rgba(255,0,0,0.9412)\" stroke-miterlimit=\"10\"/>\n",
       "<circle cx=\"239.0655\" cy=\"112.8622\" fill=\"none\" r=\"2.8346\" stroke=\"rgba(255,0,0,0.9412)\" stroke-miterlimit=\"10\"/>\n",
       "<circle cx=\"264.4543\" cy=\"129.3969\" fill=\"none\" r=\"2.8346\" stroke=\"rgba(255,0,0,0.9412)\" stroke-miterlimit=\"10\"/>\n",
       "<circle cx=\"75.8942\" cy=\"193.9483\" fill=\"none\" r=\"2.8346\" stroke=\"rgba(255,0,0,0.9412)\" stroke-miterlimit=\"10\"/>\n",
       "<circle cx=\"266.8967\" cy=\"4.8\" fill=\"none\" r=\"2.8346\" stroke=\"rgba(255,0,0,0.9412)\" stroke-miterlimit=\"10\"/>\n",
       "<circle cx=\"281.4091\" cy=\"99.4588\" fill=\"none\" r=\"2.8346\" stroke=\"rgba(255,0,0,0.9412)\" stroke-miterlimit=\"10\"/>\n",
       "<circle cx=\"41.1\" cy=\"58.6201\" fill=\"none\" r=\"2.8346\" stroke=\"rgba(255,0,0,0.9412)\" stroke-miterlimit=\"10\"/>\n",
       "<circle cx=\"85.0419\" cy=\"177.7106\" fill=\"none\" r=\"2.8346\" stroke=\"rgba(255,0,0,0.9412)\" stroke-miterlimit=\"10\"/>\n",
       "<circle cx=\"125.112\" cy=\"10.1413\" fill=\"none\" r=\"2.8346\" stroke=\"rgba(255,0,0,0.9412)\" stroke-miterlimit=\"10\"/>\n",
       "<circle cx=\"243.0859\" cy=\"132.3841\" fill=\"none\" r=\"2.8346\" stroke=\"rgba(255,0,0,0.9412)\" stroke-miterlimit=\"10\"/>\n",
       "<circle cx=\"4.458\" cy=\"183.1277\" fill=\"none\" r=\"2.8346\" stroke=\"rgba(255,0,0,0.9412)\" stroke-miterlimit=\"10\"/>\n",
       "<circle cx=\"3.6478\" cy=\"134.9747\" fill=\"none\" r=\"2.8346\" stroke=\"rgba(255,0,0,0.9412)\" stroke-miterlimit=\"10\"/>\n",
       "<circle cx=\"120.9548\" cy=\"269.692\" fill=\"none\" r=\"2.8346\" stroke=\"rgba(255,0,0,0.9412)\" stroke-miterlimit=\"10\"/>\n",
       "<circle cx=\"204.1901\" cy=\"169.7041\" fill=\"none\" r=\"2.8346\" stroke=\"rgba(255,0,0,0.9412)\" stroke-miterlimit=\"10\"/>\n",
       "<circle cx=\"260.6117\" cy=\"36.2298\" fill=\"none\" r=\"2.8346\" stroke=\"rgba(255,0,0,0.9412)\" stroke-miterlimit=\"10\"/>\n",
       "<circle cx=\"97.8737\" cy=\"208.0921\" fill=\"none\" r=\"2.8346\" stroke=\"rgba(255,0,0,0.9412)\" stroke-miterlimit=\"10\"/>\n",
       "<circle cx=\"198.9534\" cy=\"85.6323\" fill=\"none\" r=\"2.8346\" stroke=\"rgba(255,0,0,0.9412)\" stroke-miterlimit=\"10\"/>\n",
       "<circle cx=\"134.6904\" cy=\"230.3578\" fill=\"none\" r=\"2.8346\" stroke=\"rgba(255,0,0,0.9412)\" stroke-miterlimit=\"10\"/>\n",
       "<circle cx=\"5.752\" cy=\"54.4327\" fill=\"none\" r=\"2.8346\" stroke=\"rgba(255,0,0,0.9412)\" stroke-miterlimit=\"10\"/>\n",
       "<circle cx=\"247.2909\" cy=\"212.4328\" fill=\"none\" r=\"2.8346\" stroke=\"rgba(255,0,0,0.9412)\" stroke-miterlimit=\"10\"/>\n",
       "<circle cx=\"224.811\" cy=\"126.9435\" fill=\"none\" r=\"2.8346\" stroke=\"rgba(255,0,0,0.9412)\" stroke-miterlimit=\"10\"/>\n",
       "<circle cx=\"101.2464\" cy=\"107.0175\" fill=\"none\" r=\"2.8346\" stroke=\"rgba(255,0,0,0.9412)\" stroke-miterlimit=\"10\"/>\n",
       "<circle cx=\"226.3584\" cy=\"57.1748\" fill=\"none\" r=\"2.8346\" stroke=\"rgba(255,0,0,0.9412)\" stroke-miterlimit=\"10\"/>\n",
       "<circle cx=\"7.5593\" cy=\"202.7485\" fill=\"none\" r=\"2.8346\" stroke=\"rgba(255,0,0,0.9412)\" stroke-miterlimit=\"10\"/>\n",
       "<circle cx=\"141.6826\" cy=\"198.956\" fill=\"none\" r=\"2.8346\" stroke=\"rgba(255,0,0,0.9412)\" stroke-miterlimit=\"10\"/>\n",
       "<circle cx=\"21.1714\" cy=\"229.2493\" fill=\"none\" r=\"2.8346\" stroke=\"rgba(255,0,0,0.9412)\" stroke-miterlimit=\"10\"/>\n",
       "<circle cx=\"62.4907\" cy=\"114.2152\" fill=\"none\" r=\"2.8346\" stroke=\"rgba(255,0,0,0.9412)\" stroke-miterlimit=\"10\"/>\n",
       "<circle cx=\"219.6941\" cy=\"232.2415\" fill=\"none\" r=\"2.8346\" stroke=\"rgba(255,0,0,0.9412)\" stroke-miterlimit=\"10\"/>\n",
       "<circle cx=\"159.9325\" cy=\"10.8417\" fill=\"none\" r=\"2.8346\" stroke=\"rgba(255,0,0,0.9412)\" stroke-miterlimit=\"10\"/>\n",
       "<circle cx=\"177.725\" cy=\"18.4983\" fill=\"none\" r=\"2.8346\" stroke=\"rgba(255,0,0,0.9412)\" stroke-miterlimit=\"10\"/>\n",
       "<circle cx=\"223.274\" cy=\"252.5582\" fill=\"none\" r=\"2.8346\" stroke=\"rgba(255,0,0,0.9412)\" stroke-miterlimit=\"10\"/>\n",
       "<circle cx=\"29.9697\" cy=\"134.2014\" fill=\"none\" r=\"2.8346\" stroke=\"rgba(255,0,0,0.9412)\" stroke-miterlimit=\"10\"/>\n",
       "<circle cx=\"22.5332\" cy=\"138.3939\" fill=\"none\" r=\"2.8346\" stroke=\"rgba(255,0,0,0.9412)\" stroke-miterlimit=\"10\"/>\n",
       "<circle cx=\"154.1096\" cy=\"218.0294\" fill=\"none\" r=\"2.8346\" stroke=\"rgba(255,0,0,0.9412)\" stroke-miterlimit=\"10\"/>\n",
       "<circle cx=\"239.9163\" cy=\"86.9576\" fill=\"none\" r=\"2.8346\" stroke=\"rgba(255,0,0,0.9412)\" stroke-miterlimit=\"10\"/>\n",
       "<circle cx=\"122.2099\" cy=\"55.5749\" fill=\"none\" r=\"2.8346\" stroke=\"rgba(255,0,0,0.9412)\" stroke-miterlimit=\"10\"/>\n",
       "<circle cx=\"119.91\" cy=\"51.0683\" fill=\"none\" r=\"2.8346\" stroke=\"rgba(255,0,0,0.9412)\" stroke-miterlimit=\"10\"/>\n",
       "<circle cx=\"109.7899\" cy=\"212.2599\" fill=\"none\" r=\"2.8346\" stroke=\"rgba(255,0,0,0.9412)\" stroke-miterlimit=\"10\"/>\n",
       "<circle cx=\"164.0426\" cy=\"212.8948\" fill=\"none\" r=\"2.8346\" stroke=\"rgba(255,0,0,0.9412)\" stroke-miterlimit=\"10\"/>\n",
       "<circle cx=\"118.8578\" cy=\"122.4709\" fill=\"none\" r=\"2.8346\" stroke=\"rgba(255,0,0,0.9412)\" stroke-miterlimit=\"10\"/>\n",
       "<circle cx=\"219.3471\" cy=\"13.3855\" fill=\"none\" r=\"2.8346\" stroke=\"rgba(255,0,0,0.9412)\" stroke-miterlimit=\"10\"/>\n",
       "<circle cx=\"221.812\" cy=\"84.7173\" fill=\"none\" r=\"2.8346\" stroke=\"rgba(255,0,0,0.9412)\" stroke-miterlimit=\"10\"/>\n",
       "<circle cx=\"197.7394\" cy=\"118.3983\" fill=\"none\" r=\"2.8346\" stroke=\"rgba(255,0,0,0.9412)\" stroke-miterlimit=\"10\"/>\n",
       "<circle cx=\"271.6997\" cy=\"37.4351\" fill=\"none\" r=\"2.8346\" stroke=\"rgba(255,0,0,0.9412)\" stroke-miterlimit=\"10\"/>\n",
       "<circle cx=\"241.6136\" cy=\"70.254\" fill=\"none\" r=\"2.8346\" stroke=\"rgba(255,0,0,0.9412)\" stroke-miterlimit=\"10\"/>\n",
       "<circle cx=\"169.5477\" cy=\"230.8188\" fill=\"none\" r=\"2.8346\" stroke=\"rgba(255,0,0,0.9412)\" stroke-miterlimit=\"10\"/>\n",
       "<circle cx=\"159.5811\" cy=\"88.4475\" fill=\"none\" r=\"2.8346\" stroke=\"rgba(255,0,0,0.9412)\" stroke-miterlimit=\"10\"/>\n",
       "<circle cx=\"192.5282\" cy=\"233.8567\" fill=\"none\" r=\"2.8346\" stroke=\"rgba(255,0,0,0.9412)\" stroke-miterlimit=\"10\"/>\n",
       "<circle cx=\"251.6267\" cy=\"78.8115\" fill=\"none\" r=\"2.8346\" stroke=\"rgba(255,0,0,0.9412)\" stroke-miterlimit=\"10\"/>\n",
       "<circle cx=\"68.7542\" cy=\"216.3103\" fill=\"none\" r=\"2.8346\" stroke=\"rgba(255,0,0,0.9412)\" stroke-miterlimit=\"10\"/>\n",
       "<circle cx=\"219.3051\" cy=\"145.181\" fill=\"none\" r=\"2.8346\" stroke=\"rgba(255,0,0,0.9412)\" stroke-miterlimit=\"10\"/>\n",
       "<circle cx=\"277.9899\" cy=\"195.0668\" fill=\"none\" r=\"2.8346\" stroke=\"rgba(255,0,0,0.9412)\" stroke-miterlimit=\"10\"/>\n",
       "<circle cx=\"279.9457\" cy=\"205.7918\" fill=\"none\" r=\"2.8346\" stroke=\"rgba(255,0,0,0.9412)\" stroke-miterlimit=\"10\"/>\n",
       "<circle cx=\"273.4214\" cy=\"130.1343\" fill=\"none\" r=\"2.8346\" stroke=\"rgba(255,0,0,0.9412)\" stroke-miterlimit=\"10\"/>\n",
       "<circle cx=\"229.7654\" cy=\"35.3312\" fill=\"none\" r=\"2.8346\" stroke=\"rgba(255,0,0,0.9412)\" stroke-miterlimit=\"10\"/>\n",
       "<circle cx=\"182.2863\" cy=\"245.0582\" fill=\"none\" r=\"2.8346\" stroke=\"rgba(255,0,0,0.9412)\" stroke-miterlimit=\"10\"/>\n",
       "<circle cx=\"233.4147\" cy=\"161.3452\" fill=\"none\" r=\"2.8346\" stroke=\"rgba(255,0,0,0.9412)\" stroke-miterlimit=\"10\"/>\n",
       "<circle cx=\"10.2744\" cy=\"184.2088\" fill=\"none\" r=\"2.8346\" stroke=\"rgba(255,0,0,0.9412)\" stroke-miterlimit=\"10\"/>\n",
       "<circle cx=\"255.6087\" cy=\"197.726\" fill=\"none\" r=\"2.8346\" stroke=\"rgba(255,0,0,0.9412)\" stroke-miterlimit=\"10\"/>\n",
       "<circle cx=\"269.2781\" cy=\"23.5676\" fill=\"none\" r=\"2.8346\" stroke=\"rgba(255,0,0,0.9412)\" stroke-miterlimit=\"10\"/>\n",
       "<circle cx=\"22.3708\" cy=\"30.4495\" fill=\"none\" r=\"2.8346\" stroke=\"rgba(255,0,0,0.9412)\" stroke-miterlimit=\"10\"/>\n",
       "<circle cx=\"198.6626\" cy=\"89.3823\" fill=\"none\" r=\"2.8346\" stroke=\"rgba(255,0,0,0.9412)\" stroke-miterlimit=\"10\"/>\n",
       "<circle cx=\"277.3757\" cy=\"240.5363\" fill=\"none\" r=\"2.8346\" stroke=\"rgba(255,0,0,0.9412)\" stroke-miterlimit=\"10\"/>\n",
       "<circle cx=\"164.6968\" cy=\"113.9368\" fill=\"none\" r=\"2.8346\" stroke=\"rgba(255,0,0,0.9412)\" stroke-miterlimit=\"10\"/>\n",
       "<circle cx=\"194.908\" cy=\"245.1662\" fill=\"none\" r=\"2.8346\" stroke=\"rgba(255,0,0,0.9412)\" stroke-miterlimit=\"10\"/>\n",
       "<circle cx=\"36.4914\" cy=\"171.0167\" fill=\"none\" r=\"2.8346\" stroke=\"rgba(255,0,0,0.9412)\" stroke-miterlimit=\"10\"/>\n",
       "<circle cx=\"188.7186\" cy=\"183.8817\" fill=\"none\" r=\"2.8346\" stroke=\"rgba(255,0,0,0.9412)\" stroke-miterlimit=\"10\"/>\n",
       "<circle cx=\"226.2672\" cy=\"123.9301\" fill=\"none\" r=\"2.8346\" stroke=\"rgba(255,0,0,0.9412)\" stroke-miterlimit=\"10\"/>\n",
       "<circle cx=\"266.2867\" cy=\"206.3735\" fill=\"none\" r=\"2.8346\" stroke=\"rgba(255,0,0,0.9412)\" stroke-miterlimit=\"10\"/>\n",
       "<circle cx=\"187.4976\" cy=\"51.8009\" fill=\"none\" r=\"2.8346\" stroke=\"rgba(255,0,0,0.9412)\" stroke-miterlimit=\"10\"/>\n",
       "<circle cx=\"124.7765\" cy=\"191.1795\" fill=\"none\" r=\"2.8346\" stroke=\"rgba(255,0,0,0.9412)\" stroke-miterlimit=\"10\"/>\n",
       "<circle cx=\"152.2927\" cy=\"179.3492\" fill=\"none\" r=\"2.8346\" stroke=\"rgba(255,0,0,0.9412)\" stroke-miterlimit=\"10\"/>\n",
       "<circle cx=\"109.1137\" cy=\"191.8969\" fill=\"none\" r=\"2.8346\" stroke=\"rgba(255,0,0,0.9412)\" stroke-miterlimit=\"10\"/>\n",
       "<circle cx=\"201.665\" cy=\"250.7278\" fill=\"none\" r=\"2.8346\" stroke=\"rgba(255,0,0,0.9412)\" stroke-miterlimit=\"10\"/>\n",
       "<circle cx=\"277.6355\" cy=\"87.4363\" fill=\"none\" r=\"2.8346\" stroke=\"rgba(255,0,0,0.9412)\" stroke-miterlimit=\"10\"/>\n",
       "<circle cx=\"55.5479\" cy=\"250.8602\" fill=\"none\" r=\"2.8346\" stroke=\"rgba(255,0,0,0.9412)\" stroke-miterlimit=\"10\"/>\n",
       "<circle cx=\"11.9129\" cy=\"136.1498\" fill=\"none\" r=\"2.8346\" stroke=\"rgba(255,0,0,0.9412)\" stroke-miterlimit=\"10\"/>\n",
       "<circle cx=\"217.3281\" cy=\"7.851\" fill=\"none\" r=\"2.8346\" stroke=\"rgba(255,0,0,0.9412)\" stroke-miterlimit=\"10\"/>\n",
       "<circle cx=\"262.2323\" cy=\"167.3587\" fill=\"none\" r=\"2.8346\" stroke=\"rgba(255,0,0,0.9412)\" stroke-miterlimit=\"10\"/>\n",
       "<circle cx=\"176.9135\" cy=\"216.4711\" fill=\"none\" r=\"2.8346\" stroke=\"rgba(255,0,0,0.9412)\" stroke-miterlimit=\"10\"/>\n",
       "<circle cx=\"256.4214\" cy=\"157.704\" fill=\"none\" r=\"2.8346\" stroke=\"rgba(255,0,0,0.9412)\" stroke-miterlimit=\"10\"/>\n",
       "<circle cx=\"144.2095\" cy=\"51.5796\" fill=\"none\" r=\"2.8346\" stroke=\"rgba(255,0,0,0.9412)\" stroke-miterlimit=\"10\"/>\n",
       "<circle cx=\"77.1198\" cy=\"73.7079\" fill=\"none\" r=\"2.8346\" stroke=\"rgba(255,0,0,0.9412)\" stroke-miterlimit=\"10\"/>\n",
       "<circle cx=\"143.2701\" cy=\"68.2004\" fill=\"none\" r=\"2.8346\" stroke=\"rgba(255,0,0,0.9412)\" stroke-miterlimit=\"10\"/>\n",
       "<circle cx=\"41.9552\" cy=\"61.0221\" fill=\"none\" r=\"2.8346\" stroke=\"rgba(255,0,0,0.9412)\" stroke-miterlimit=\"10\"/>\n",
       "<circle cx=\"227.7432\" cy=\"181.7598\" fill=\"none\" r=\"2.8346\" stroke=\"rgba(255,0,0,0.9412)\" stroke-miterlimit=\"10\"/>\n",
       "<circle cx=\"134.2891\" cy=\"20.8733\" fill=\"none\" r=\"2.8346\" stroke=\"rgba(255,0,0,0.9412)\" stroke-miterlimit=\"10\"/>\n",
       "<circle cx=\"126.2143\" cy=\"225.9395\" fill=\"none\" r=\"2.8346\" stroke=\"rgba(255,0,0,0.9412)\" stroke-miterlimit=\"10\"/>\n",
       "<circle cx=\"53.601\" cy=\"268.2917\" fill=\"none\" r=\"2.8346\" stroke=\"rgba(255,0,0,0.9412)\" stroke-miterlimit=\"10\"/>\n",
       "<circle cx=\"194.9661\" cy=\"30.7925\" fill=\"none\" r=\"2.8346\" stroke=\"rgba(255,0,0,0.9412)\" stroke-miterlimit=\"10\"/>\n",
       "<circle cx=\"265.6507\" cy=\"21.6907\" fill=\"none\" r=\"2.8346\" stroke=\"rgba(255,0,0,0.9412)\" stroke-miterlimit=\"10\"/>\n",
       "<circle cx=\"120.1849\" cy=\"187.3353\" fill=\"none\" r=\"2.8346\" stroke=\"rgba(255,0,0,0.9412)\" stroke-miterlimit=\"10\"/>\n",
       "<circle cx=\"220.7244\" cy=\"133.8129\" fill=\"none\" r=\"2.8346\" stroke=\"rgba(255,0,0,0.9412)\" stroke-miterlimit=\"10\"/>\n",
       "<circle cx=\"232.0011\" cy=\"56.4527\" fill=\"none\" r=\"2.8346\" stroke=\"rgba(255,0,0,0.9412)\" stroke-miterlimit=\"10\"/>\n",
       "<circle cx=\"43.0669\" cy=\"181.7499\" fill=\"none\" r=\"2.8346\" stroke=\"rgba(255,0,0,0.9412)\" stroke-miterlimit=\"10\"/>\n",
       "<circle cx=\"176.4757\" cy=\"178.8257\" fill=\"none\" r=\"2.8346\" stroke=\"rgba(255,0,0,0.9412)\" stroke-miterlimit=\"10\"/>\n",
       "<circle cx=\"116.8442\" cy=\"11.4344\" fill=\"none\" r=\"2.8346\" stroke=\"rgba(255,0,0,0.9412)\" stroke-miterlimit=\"10\"/>\n",
       "<circle cx=\"123.9201\" cy=\"8.7022\" fill=\"none\" r=\"2.8346\" stroke=\"rgba(255,0,0,0.9412)\" stroke-miterlimit=\"10\"/>\n",
       "<circle cx=\"262.0172\" cy=\"63.4921\" fill=\"none\" r=\"2.8346\" stroke=\"rgba(255,0,0,0.9412)\" stroke-miterlimit=\"10\"/>\n",
       "<circle cx=\"120.0392\" cy=\"159.8345\" fill=\"none\" r=\"2.8346\" stroke=\"rgba(255,0,0,0.9412)\" stroke-miterlimit=\"10\"/>\n",
       "<circle cx=\"250.2223\" cy=\"215.9231\" fill=\"none\" r=\"2.8346\" stroke=\"rgba(255,0,0,0.9412)\" stroke-miterlimit=\"10\"/>\n",
       "<circle cx=\"253.09\" cy=\"160.8743\" fill=\"none\" r=\"2.8346\" stroke=\"rgba(255,0,0,0.9412)\" stroke-miterlimit=\"10\"/>\n",
       "<circle cx=\"33.9999\" cy=\"152.0382\" fill=\"none\" r=\"2.8346\" stroke=\"rgba(255,0,0,0.9412)\" stroke-miterlimit=\"10\"/>\n",
       "<circle cx=\"281.4017\" cy=\"132.765\" fill=\"none\" r=\"2.8346\" stroke=\"rgba(255,0,0,0.9412)\" stroke-miterlimit=\"10\"/>\n",
       "<circle cx=\"114.6452\" cy=\"92.6581\" fill=\"none\" r=\"2.8346\" stroke=\"rgba(255,0,0,0.9412)\" stroke-miterlimit=\"10\"/>\n",
       "<circle cx=\"173.0319\" cy=\"7.8838\" fill=\"none\" r=\"2.8346\" stroke=\"rgba(255,0,0,0.9412)\" stroke-miterlimit=\"10\"/>\n",
       "<circle cx=\"110.0461\" cy=\"251.4074\" fill=\"none\" r=\"2.8346\" stroke=\"rgba(255,0,0,0.9412)\" stroke-miterlimit=\"10\"/>\n",
       "<circle cx=\"164.533\" cy=\"112.3641\" fill=\"none\" r=\"2.8346\" stroke=\"rgba(255,0,0,0.9412)\" stroke-miterlimit=\"10\"/>\n",
       "<circle cx=\"40.1065\" cy=\"115.6884\" fill=\"none\" r=\"2.8346\" stroke=\"rgba(255,0,0,0.9412)\" stroke-miterlimit=\"10\"/>\n",
       "<circle cx=\"228.9643\" cy=\"52.5452\" fill=\"none\" r=\"2.8346\" stroke=\"rgba(255,0,0,0.9412)\" stroke-miterlimit=\"10\"/>\n",
       "<circle cx=\"208.1441\" cy=\"90.0583\" fill=\"none\" r=\"2.8346\" stroke=\"rgba(255,0,0,0.9412)\" stroke-miterlimit=\"10\"/>\n",
       "<circle cx=\"94.0543\" cy=\"133.8835\" fill=\"none\" r=\"2.8346\" stroke=\"rgba(255,0,0,0.9412)\" stroke-miterlimit=\"10\"/>\n",
       "<circle cx=\"281.4953\" cy=\"53.9566\" fill=\"none\" r=\"2.8346\" stroke=\"rgba(255,0,0,0.9412)\" stroke-miterlimit=\"10\"/>\n",
       "<circle cx=\"235.4823\" cy=\"165.5067\" fill=\"none\" r=\"2.8346\" stroke=\"rgba(255,0,0,0.9412)\" stroke-miterlimit=\"10\"/>\n",
       "<circle cx=\"179.8975\" cy=\"96.8517\" fill=\"none\" r=\"2.8346\" stroke=\"rgba(255,0,0,0.9412)\" stroke-miterlimit=\"10\"/>\n",
       "<circle cx=\"67.1829\" cy=\"175.8908\" fill=\"none\" r=\"2.8346\" stroke=\"rgba(255,0,0,0.9412)\" stroke-miterlimit=\"10\"/>\n",
       "<circle cx=\"9.1144\" cy=\"83.6835\" fill=\"none\" r=\"2.8346\" stroke=\"rgba(255,0,0,0.9412)\" stroke-miterlimit=\"10\"/>\n",
       "<circle cx=\"38.8055\" cy=\"237.3997\" fill=\"none\" r=\"2.8346\" stroke=\"rgba(255,0,0,0.9412)\" stroke-miterlimit=\"10\"/>\n",
       "<circle cx=\"176.7306\" cy=\"204.4831\" fill=\"none\" r=\"2.8346\" stroke=\"rgba(255,0,0,0.9412)\" stroke-miterlimit=\"10\"/>\n",
       "<circle cx=\"171.7635\" cy=\"225.173\" fill=\"none\" r=\"2.8346\" stroke=\"rgba(255,0,0,0.9412)\" stroke-miterlimit=\"10\"/>\n",
       "<circle cx=\"190.1461\" cy=\"99.1066\" fill=\"none\" r=\"2.8346\" stroke=\"rgba(255,0,0,0.9412)\" stroke-miterlimit=\"10\"/>\n",
       "<circle cx=\"124.9796\" cy=\"37.7541\" fill=\"none\" r=\"2.8346\" stroke=\"rgba(255,0,0,0.9412)\" stroke-miterlimit=\"10\"/>\n",
       "<circle cx=\"93.6764\" cy=\"184.5927\" fill=\"none\" r=\"2.8346\" stroke=\"rgba(255,0,0,0.9412)\" stroke-miterlimit=\"10\"/>\n",
       "<circle cx=\"34.906\" cy=\"79.1156\" fill=\"none\" r=\"2.8346\" stroke=\"rgba(255,0,0,0.9412)\" stroke-miterlimit=\"10\"/>\n",
       "<circle cx=\"161.7594\" cy=\"91.9578\" fill=\"none\" r=\"2.8346\" stroke=\"rgba(255,0,0,0.9412)\" stroke-miterlimit=\"10\"/>\n",
       "<circle cx=\"59.2923\" cy=\"61.9212\" fill=\"none\" r=\"2.8346\" stroke=\"rgba(255,0,0,0.9412)\" stroke-miterlimit=\"10\"/>\n",
       "<circle cx=\"260.5229\" cy=\"86.1705\" fill=\"none\" r=\"2.8346\" stroke=\"rgba(255,0,0,0.9412)\" stroke-miterlimit=\"10\"/>\n",
       "<circle cx=\"206.0693\" cy=\"104.1182\" fill=\"none\" r=\"2.8346\" stroke=\"rgba(255,0,0,0.9412)\" stroke-miterlimit=\"10\"/>\n",
       "<circle cx=\"93.3102\" cy=\"196.4906\" fill=\"none\" r=\"2.8346\" stroke=\"rgba(255,0,0,0.9412)\" stroke-miterlimit=\"10\"/>\n",
       "<circle cx=\"149.1626\" cy=\"234.64\" fill=\"none\" r=\"2.8346\" stroke=\"rgba(255,0,0,0.9412)\" stroke-miterlimit=\"10\"/>\n",
       "<circle cx=\"122.2585\" cy=\"20.2553\" fill=\"none\" r=\"2.8346\" stroke=\"rgba(255,0,0,0.9412)\" stroke-miterlimit=\"10\"/>\n",
       "<circle cx=\"168.1918\" cy=\"262.5563\" fill=\"none\" r=\"2.8346\" stroke=\"rgba(255,0,0,0.9412)\" stroke-miterlimit=\"10\"/>\n",
       "<circle cx=\"87.1369\" cy=\"91.1884\" fill=\"none\" r=\"2.8346\" stroke=\"rgba(255,0,0,0.9412)\" stroke-miterlimit=\"10\"/>\n",
       "<circle cx=\"253.5769\" cy=\"86.7751\" fill=\"none\" r=\"2.8346\" stroke=\"rgba(255,0,0,0.9412)\" stroke-miterlimit=\"10\"/>\n",
       "<circle cx=\"180.0394\" cy=\"43.8851\" fill=\"none\" r=\"2.8346\" stroke=\"rgba(255,0,0,0.9412)\" stroke-miterlimit=\"10\"/>\n",
       "<circle cx=\"30.0902\" cy=\"36.042\" fill=\"none\" r=\"2.8346\" stroke=\"rgba(255,0,0,0.9412)\" stroke-miterlimit=\"10\"/>\n",
       "<circle cx=\"170.7858\" cy=\"210.4986\" fill=\"none\" r=\"2.8346\" stroke=\"rgba(255,0,0,0.9412)\" stroke-miterlimit=\"10\"/>\n",
       "<circle cx=\"11.8207\" cy=\"52.4121\" fill=\"none\" r=\"2.8346\" stroke=\"rgba(255,0,0,0.9412)\" stroke-miterlimit=\"10\"/>\n",
       "<circle cx=\"279.3707\" cy=\"143.6534\" fill=\"none\" r=\"2.8346\" stroke=\"rgba(255,0,0,0.9412)\" stroke-miterlimit=\"10\"/>\n",
       "<circle cx=\"223.8128\" cy=\"8.0323\" fill=\"none\" r=\"2.8346\" stroke=\"rgba(255,0,0,0.9412)\" stroke-miterlimit=\"10\"/>\n",
       "<circle cx=\"269.8457\" cy=\"44.0613\" fill=\"none\" r=\"2.8346\" stroke=\"rgba(255,0,0,0.9412)\" stroke-miterlimit=\"10\"/>\n",
       "<circle cx=\"49.2582\" cy=\"192.4214\" fill=\"none\" r=\"2.8346\" stroke=\"rgba(255,0,0,0.9412)\" stroke-miterlimit=\"10\"/>\n",
       "<circle cx=\"146.2404\" cy=\"59.163\" fill=\"none\" r=\"2.8346\" stroke=\"rgba(255,0,0,0.9412)\" stroke-miterlimit=\"10\"/>\n",
       "<circle cx=\"160.3282\" cy=\"275.5542\" fill=\"none\" r=\"2.8346\" stroke=\"rgba(255,0,0,0.9412)\" stroke-miterlimit=\"10\"/>\n",
       "<circle cx=\"153.9555\" cy=\"4.7759\" fill=\"none\" r=\"2.8346\" stroke=\"rgba(255,0,0,0.9412)\" stroke-miterlimit=\"10\"/>\n",
       "<circle cx=\"164.4818\" cy=\"189.6464\" fill=\"none\" r=\"2.8346\" stroke=\"rgba(255,0,0,0.9412)\" stroke-miterlimit=\"10\"/>\n",
       "<circle cx=\"133.0813\" cy=\"67.6749\" fill=\"none\" r=\"2.8346\" stroke=\"rgba(255,0,0,0.9412)\" stroke-miterlimit=\"10\"/>\n",
       "<circle cx=\"36.5235\" cy=\"225.706\" fill=\"none\" r=\"2.8346\" stroke=\"rgba(255,0,0,0.9412)\" stroke-miterlimit=\"10\"/>\n",
       "<circle cx=\"10.5525\" cy=\"104.045\" fill=\"none\" r=\"2.8346\" stroke=\"rgba(255,0,0,0.9412)\" stroke-miterlimit=\"10\"/>\n",
       "<circle cx=\"169.9437\" cy=\"244.7458\" fill=\"none\" r=\"2.8346\" stroke=\"rgba(255,0,0,0.9412)\" stroke-miterlimit=\"10\"/>\n",
       "<circle cx=\"80.9098\" cy=\"69.4701\" fill=\"none\" r=\"2.8346\" stroke=\"rgba(255,0,0,0.9412)\" stroke-miterlimit=\"10\"/>\n",
       "<circle cx=\"44.7736\" cy=\"215.6175\" fill=\"none\" r=\"2.8346\" stroke=\"rgba(255,0,0,0.9412)\" stroke-miterlimit=\"10\"/>\n",
       "<circle cx=\"3.4923\" cy=\"184.3698\" fill=\"none\" r=\"2.8346\" stroke=\"rgba(255,0,0,0.9412)\" stroke-miterlimit=\"10\"/>\n",
       "<circle cx=\"94.9785\" cy=\"80.6292\" fill=\"none\" r=\"2.8346\" stroke=\"rgba(255,0,0,0.9412)\" stroke-miterlimit=\"10\"/>\n",
       "<circle cx=\"178.0973\" cy=\"218.9737\" fill=\"none\" r=\"2.8346\" stroke=\"rgba(255,0,0,0.9412)\" stroke-miterlimit=\"10\"/>\n",
       "<circle cx=\"153.2387\" cy=\"150.5685\" fill=\"none\" r=\"2.8346\" stroke=\"rgba(255,0,0,0.9412)\" stroke-miterlimit=\"10\"/>\n",
       "<circle cx=\"194.5466\" cy=\"17.8331\" fill=\"none\" r=\"2.8346\" stroke=\"rgba(255,0,0,0.9412)\" stroke-miterlimit=\"10\"/>\n",
       "<circle cx=\"64.1702\" cy=\"146.6473\" fill=\"none\" r=\"2.8346\" stroke=\"rgba(255,0,0,0.9412)\" stroke-miterlimit=\"10\"/>\n",
       "<circle cx=\"223.1343\" cy=\"133.1447\" fill=\"none\" r=\"2.8346\" stroke=\"rgba(255,0,0,0.9412)\" stroke-miterlimit=\"10\"/>\n",
       "<circle cx=\"179.3969\" cy=\"13.2719\" fill=\"none\" r=\"2.8346\" stroke=\"rgba(255,0,0,0.9412)\" stroke-miterlimit=\"10\"/>\n",
       "<circle cx=\"238.3626\" cy=\"151.817\" fill=\"none\" r=\"2.8346\" stroke=\"rgba(255,0,0,0.9412)\" stroke-miterlimit=\"10\"/>\n",
       "<circle cx=\"79.6538\" cy=\"181.9871\" fill=\"none\" r=\"2.8346\" stroke=\"rgba(255,0,0,0.9412)\" stroke-miterlimit=\"10\"/>\n",
       "<circle cx=\"33.5214\" cy=\"51.6426\" fill=\"none\" r=\"2.8346\" stroke=\"rgba(255,0,0,0.9412)\" stroke-miterlimit=\"10\"/>\n",
       "<circle cx=\"101.6788\" cy=\"230.6979\" fill=\"none\" r=\"2.8346\" stroke=\"rgba(255,0,0,0.9412)\" stroke-miterlimit=\"10\"/>\n",
       "<circle cx=\"117.732\" cy=\"134.6357\" fill=\"none\" r=\"2.8346\" stroke=\"rgba(255,0,0,0.9412)\" stroke-miterlimit=\"10\"/>\n",
       "<circle cx=\"169.4775\" cy=\"187.8559\" fill=\"none\" r=\"2.8346\" stroke=\"rgba(255,0,0,0.9412)\" stroke-miterlimit=\"10\"/>\n",
       "<circle cx=\"184.3172\" cy=\"104.8146\" fill=\"none\" r=\"2.8346\" stroke=\"rgba(255,0,0,0.9412)\" stroke-miterlimit=\"10\"/>\n",
       "<circle cx=\"118.4009\" cy=\"112.8343\" fill=\"none\" r=\"2.8346\" stroke=\"rgba(255,0,0,0.9412)\" stroke-miterlimit=\"10\"/>\n",
       "<circle cx=\"139.9933\" cy=\"87.8592\" fill=\"none\" r=\"2.8346\" stroke=\"rgba(255,0,0,0.9412)\" stroke-miterlimit=\"10\"/>\n",
       "<circle cx=\"9.9326\" cy=\"79.1326\" fill=\"none\" r=\"2.8346\" stroke=\"rgba(255,0,0,0.9412)\" stroke-miterlimit=\"10\"/>\n",
       "<circle cx=\"122.6\" cy=\"223.1927\" fill=\"none\" r=\"2.8346\" stroke=\"rgba(255,0,0,0.9412)\" stroke-miterlimit=\"10\"/>\n",
       "<circle cx=\"130.1804\" cy=\"266.7299\" fill=\"none\" r=\"2.8346\" stroke=\"rgba(255,0,0,0.9412)\" stroke-miterlimit=\"10\"/>\n",
       "<circle cx=\"230.4442\" cy=\"221.1953\" fill=\"none\" r=\"2.8346\" stroke=\"rgba(255,0,0,0.9412)\" stroke-miterlimit=\"10\"/>\n",
       "<circle cx=\"117.3299\" cy=\"265.2521\" fill=\"none\" r=\"2.8346\" stroke=\"rgba(255,0,0,0.9412)\" stroke-miterlimit=\"10\"/>\n",
       "<circle cx=\"13.8884\" cy=\"162.1595\" fill=\"none\" r=\"2.8346\" stroke=\"rgba(255,0,0,0.9412)\" stroke-miterlimit=\"10\"/>\n",
       "<circle cx=\"160.601\" cy=\"50.3721\" fill=\"none\" r=\"2.8346\" stroke=\"rgba(255,0,0,0.9412)\" stroke-miterlimit=\"10\"/>\n",
       "<circle cx=\"199.3172\" cy=\"223.8722\" fill=\"none\" r=\"2.8346\" stroke=\"rgba(255,0,0,0.9412)\" stroke-miterlimit=\"10\"/>\n",
       "<circle cx=\"46.2604\" cy=\"260.5764\" fill=\"none\" r=\"2.8346\" stroke=\"rgba(255,0,0,0.9412)\" stroke-miterlimit=\"10\"/>\n",
       "<circle cx=\"72.7894\" cy=\"121.5866\" fill=\"none\" r=\"2.8346\" stroke=\"rgba(255,0,0,0.9412)\" stroke-miterlimit=\"10\"/>\n",
       "<circle cx=\"276.5877\" cy=\"219.2561\" fill=\"none\" r=\"2.8346\" stroke=\"rgba(255,0,0,0.9412)\" stroke-miterlimit=\"10\"/>\n",
       "<circle cx=\"97.8169\" cy=\"109.964\" fill=\"none\" r=\"2.8346\" stroke=\"rgba(255,0,0,0.9412)\" stroke-miterlimit=\"10\"/>\n",
       "<circle cx=\"104.7752\" cy=\"277.3468\" fill=\"none\" r=\"2.8346\" stroke=\"rgba(255,0,0,0.9412)\" stroke-miterlimit=\"10\"/>\n",
       "<circle cx=\"93.29\" cy=\"205.6331\" fill=\"none\" r=\"2.8346\" stroke=\"rgba(255,0,0,0.9412)\" stroke-miterlimit=\"10\"/>\n",
       "<circle cx=\"245.5078\" cy=\"251.0523\" fill=\"none\" r=\"2.8346\" stroke=\"rgba(255,0,0,0.9412)\" stroke-miterlimit=\"10\"/>\n",
       "<circle cx=\"143.4771\" cy=\"16.3729\" fill=\"none\" r=\"2.8346\" stroke=\"rgba(255,0,0,0.9412)\" stroke-miterlimit=\"10\"/>\n",
       "<circle cx=\"206.8818\" cy=\"37.4072\" fill=\"none\" r=\"2.8346\" stroke=\"rgba(255,0,0,0.9412)\" stroke-miterlimit=\"10\"/>\n",
       "<circle cx=\"185.3592\" cy=\"233.3727\" fill=\"none\" r=\"2.8346\" stroke=\"rgba(255,0,0,0.9412)\" stroke-miterlimit=\"10\"/>\n",
       "<circle cx=\"253.898\" cy=\"83.8145\" fill=\"none\" r=\"2.8346\" stroke=\"rgba(255,0,0,0.9412)\" stroke-miterlimit=\"10\"/>\n",
       "<circle cx=\"190.9662\" cy=\"148.761\" fill=\"none\" r=\"2.8346\" stroke=\"rgba(255,0,0,0.9412)\" stroke-miterlimit=\"10\"/>\n",
       "<circle cx=\"197.2158\" cy=\"169.3605\" fill=\"none\" r=\"2.8346\" stroke=\"rgba(255,0,0,0.9412)\" stroke-miterlimit=\"10\"/>\n",
       "<circle cx=\"206.7355\" cy=\"265.1679\" fill=\"none\" r=\"2.8346\" stroke=\"rgba(255,0,0,0.9412)\" stroke-miterlimit=\"10\"/>\n",
       "<circle cx=\"239.1694\" cy=\"282.5156\" fill=\"none\" r=\"2.8346\" stroke=\"rgba(255,0,0,0.9412)\" stroke-miterlimit=\"10\"/>\n",
       "<circle cx=\"138.7565\" cy=\"188.0222\" fill=\"none\" r=\"2.8346\" stroke=\"rgba(255,0,0,0.9412)\" stroke-miterlimit=\"10\"/>\n",
       "<circle cx=\"229.384\" cy=\"60.5773\" fill=\"none\" r=\"2.8346\" stroke=\"rgba(255,0,0,0.9412)\" stroke-miterlimit=\"10\"/>\n",
       "<circle cx=\"135.4733\" cy=\"169.4984\" fill=\"none\" r=\"2.8346\" stroke=\"rgba(255,0,0,0.9412)\" stroke-miterlimit=\"10\"/>\n",
       "<circle cx=\"267.1106\" cy=\"5.5978\" fill=\"none\" r=\"2.8346\" stroke=\"rgba(255,0,0,0.9412)\" stroke-miterlimit=\"10\"/>\n",
       "<circle cx=\"272.5128\" cy=\"129.0222\" fill=\"none\" r=\"2.8346\" stroke=\"rgba(255,0,0,0.9412)\" stroke-miterlimit=\"10\"/>\n",
       "<circle cx=\"118.4386\" cy=\"194.0869\" fill=\"none\" r=\"2.8346\" stroke=\"rgba(255,0,0,0.9412)\" stroke-miterlimit=\"10\"/>\n",
       "<circle cx=\"117.9097\" cy=\"207.3943\" fill=\"none\" r=\"2.8346\" stroke=\"rgba(255,0,0,0.9412)\" stroke-miterlimit=\"10\"/>\n",
       "<circle cx=\"210.9824\" cy=\"99.3613\" fill=\"none\" r=\"2.8346\" stroke=\"rgba(255,0,0,0.9412)\" stroke-miterlimit=\"10\"/>\n",
       "<circle cx=\"197.3692\" cy=\"161.1006\" fill=\"none\" r=\"2.8346\" stroke=\"rgba(255,0,0,0.9412)\" stroke-miterlimit=\"10\"/>\n",
       "<circle cx=\"16.0333\" cy=\"180.0414\" fill=\"none\" r=\"2.8346\" stroke=\"rgba(255,0,0,0.9412)\" stroke-miterlimit=\"10\"/>\n",
       "<circle cx=\"63.7263\" cy=\"150.9865\" fill=\"none\" r=\"2.8346\" stroke=\"rgba(255,0,0,0.9412)\" stroke-miterlimit=\"10\"/>\n",
       "<circle cx=\"212.0602\" cy=\"201.5312\" fill=\"none\" r=\"2.8346\" stroke=\"rgba(255,0,0,0.9412)\" stroke-miterlimit=\"10\"/>\n",
       "<circle cx=\"109.2312\" cy=\"144.4897\" fill=\"none\" r=\"2.8346\" stroke=\"rgba(255,0,0,0.9412)\" stroke-miterlimit=\"10\"/>\n",
       "<circle cx=\"63.6426\" cy=\"77.1899\" fill=\"none\" r=\"2.8346\" stroke=\"rgba(255,0,0,0.9412)\" stroke-miterlimit=\"10\"/>\n",
       "<circle cx=\"268.9634\" cy=\"201.0266\" fill=\"none\" r=\"2.8346\" stroke=\"rgba(255,0,0,0.9412)\" stroke-miterlimit=\"10\"/>\n",
       "<circle cx=\"46.3535\" cy=\"13.6746\" fill=\"none\" r=\"2.8346\" stroke=\"rgba(255,0,0,0.9412)\" stroke-miterlimit=\"10\"/>\n",
       "<circle cx=\"233.2549\" cy=\"21.8389\" fill=\"none\" r=\"2.8346\" stroke=\"rgba(255,0,0,0.9412)\" stroke-miterlimit=\"10\"/>\n",
       "<circle cx=\"110.7888\" cy=\"120.7143\" fill=\"none\" r=\"2.8346\" stroke=\"rgba(255,0,0,0.9412)\" stroke-miterlimit=\"10\"/>\n",
       "<circle cx=\"66.8252\" cy=\"69.0272\" fill=\"none\" r=\"2.8346\" stroke=\"rgba(255,0,0,0.9412)\" stroke-miterlimit=\"10\"/>\n",
       "<circle cx=\"83.629\" cy=\"96.7192\" fill=\"none\" r=\"2.8346\" stroke=\"rgba(255,0,0,0.9412)\" stroke-miterlimit=\"10\"/>\n",
       "<circle cx=\"183.9561\" cy=\"97.7618\" fill=\"none\" r=\"2.8346\" stroke=\"rgba(255,0,0,0.9412)\" stroke-miterlimit=\"10\"/>\n",
       "<circle cx=\"86.0024\" cy=\"247.9363\" fill=\"none\" r=\"2.8346\" stroke=\"rgba(255,0,0,0.9412)\" stroke-miterlimit=\"10\"/>\n",
       "<circle cx=\"12.8141\" cy=\"124.0636\" fill=\"none\" r=\"2.8346\" stroke=\"rgba(255,0,0,0.9412)\" stroke-miterlimit=\"10\"/>\n",
       "<circle cx=\"25.3078\" cy=\"48.1559\" fill=\"none\" r=\"2.8346\" stroke=\"rgba(255,0,0,0.9412)\" stroke-miterlimit=\"10\"/>\n",
       "<circle cx=\"54.1973\" cy=\"91.1041\" fill=\"none\" r=\"2.8346\" stroke=\"rgba(255,0,0,0.9412)\" stroke-miterlimit=\"10\"/>\n",
       "<circle cx=\"158.0725\" cy=\"102.5312\" fill=\"none\" r=\"2.8346\" stroke=\"rgba(255,0,0,0.9412)\" stroke-miterlimit=\"10\"/>\n",
       "<circle cx=\"56.22\" cy=\"206.1032\" fill=\"none\" r=\"2.8346\" stroke=\"rgba(255,0,0,0.9412)\" stroke-miterlimit=\"10\"/>\n",
       "<circle cx=\"108.9167\" cy=\"116.4332\" fill=\"none\" r=\"2.8346\" stroke=\"rgba(255,0,0,0.9412)\" stroke-miterlimit=\"10\"/>\n",
       "<circle cx=\"268.7294\" cy=\"89.1661\" fill=\"none\" r=\"2.8346\" stroke=\"rgba(255,0,0,0.9412)\" stroke-miterlimit=\"10\"/>\n",
       "<circle cx=\"93.9133\" cy=\"209.3616\" fill=\"none\" r=\"2.8346\" stroke=\"rgba(255,0,0,0.9412)\" stroke-miterlimit=\"10\"/>\n",
       "<circle cx=\"132.139\" cy=\"128.0008\" fill=\"none\" r=\"2.8346\" stroke=\"rgba(255,0,0,0.9412)\" stroke-miterlimit=\"10\"/>\n",
       "<circle cx=\"98.3539\" cy=\"269.1052\" fill=\"none\" r=\"2.8346\" stroke=\"rgba(255,0,0,0.9412)\" stroke-miterlimit=\"10\"/>\n",
       "<circle cx=\"248.6688\" cy=\"281.8637\" fill=\"none\" r=\"2.8346\" stroke=\"rgba(255,0,0,0.9412)\" stroke-miterlimit=\"10\"/>\n",
       "<circle cx=\"97.1687\" cy=\"124.7517\" fill=\"none\" r=\"4.252\" stroke=\"rgba(64,220,64,0.9412)\" stroke-miterlimit=\"10\" stroke-width=\"1.5\"/>\n",
       "<circle cx=\"31.7191\" cy=\"157.6823\" fill=\"none\" r=\"4.252\" stroke=\"rgba(64,220,64,0.9412)\" stroke-miterlimit=\"10\" stroke-width=\"1.5\"/>\n",
       "<circle cx=\"205.2364\" cy=\"251.733\" fill=\"none\" r=\"4.252\" stroke=\"rgba(64,220,64,0.9412)\" stroke-miterlimit=\"10\" stroke-width=\"1.5\"/>\n",
       "<circle cx=\"166.4472\" cy=\"101.5928\" fill=\"none\" r=\"4.252\" stroke=\"rgba(64,220,64,0.9412)\" stroke-miterlimit=\"10\" stroke-width=\"1.5\"/>\n",
       "<circle cx=\"183.9466\" cy=\"192.3644\" fill=\"none\" r=\"4.252\" stroke=\"rgba(64,220,64,0.9412)\" stroke-miterlimit=\"10\" stroke-width=\"1.5\"/>\n",
       "<circle cx=\"97.2388\" cy=\"131.0484\" fill=\"none\" r=\"4.252\" stroke=\"rgba(64,220,64,0.9412)\" stroke-miterlimit=\"10\" stroke-width=\"1.5\"/>\n",
       "<circle cx=\"155.8337\" cy=\"152.5081\" fill=\"none\" r=\"4.252\" stroke=\"rgba(64,220,64,0.9412)\" stroke-miterlimit=\"10\" stroke-width=\"1.5\"/>\n",
       "<circle cx=\"183.7765\" cy=\"169.8124\" fill=\"none\" r=\"4.252\" stroke=\"rgba(64,220,64,0.9412)\" stroke-miterlimit=\"10\" stroke-width=\"1.5\"/>\n",
       "<circle cx=\"135.6361\" cy=\"192.723\" fill=\"none\" r=\"4.252\" stroke=\"rgba(64,220,64,0.9412)\" stroke-miterlimit=\"10\" stroke-width=\"1.5\"/>\n",
       "<circle cx=\"274.1215\" cy=\"56.7991\" fill=\"none\" r=\"4.252\" stroke=\"rgba(64,220,64,0.9412)\" stroke-miterlimit=\"10\" stroke-width=\"1.5\"/>\n",
       "<circle cx=\"127.5678\" cy=\"88.0533\" fill=\"none\" r=\"4.252\" stroke=\"rgba(64,220,64,0.9412)\" stroke-miterlimit=\"10\" stroke-width=\"1.5\"/>\n",
       "<circle cx=\"241.0287\" cy=\"184.0838\" fill=\"none\" r=\"4.252\" stroke=\"rgba(64,220,64,0.9412)\" stroke-miterlimit=\"10\" stroke-width=\"1.5\"/>\n",
       "<circle cx=\"192.7646\" cy=\"171.8039\" fill=\"none\" r=\"4.252\" stroke=\"rgba(64,220,64,0.9412)\" stroke-miterlimit=\"10\" stroke-width=\"1.5\"/>\n",
       "<circle cx=\"195.3477\" cy=\"91.6357\" fill=\"none\" r=\"4.252\" stroke=\"rgba(64,220,64,0.9412)\" stroke-miterlimit=\"10\" stroke-width=\"1.5\"/>\n",
       "<circle cx=\"159.7538\" cy=\"84.1563\" fill=\"none\" r=\"4.252\" stroke=\"rgba(64,220,64,0.9412)\" stroke-miterlimit=\"10\" stroke-width=\"1.5\"/>\n",
       "<circle cx=\"146.4747\" cy=\"140.4522\" fill=\"none\" r=\"4.252\" stroke=\"rgba(64,220,64,0.9412)\" stroke-miterlimit=\"10\" stroke-width=\"1.5\"/>\n",
       "<circle cx=\"208.918\" cy=\"51.8516\" fill=\"none\" r=\"4.252\" stroke=\"rgba(64,220,64,0.9412)\" stroke-miterlimit=\"10\" stroke-width=\"1.5\"/>\n",
       "<circle cx=\"288.8279\" cy=\"98.2712\" fill=\"none\" r=\"4.252\" stroke=\"rgba(64,220,64,0.9412)\" stroke-miterlimit=\"10\" stroke-width=\"1.5\"/>\n",
       "<circle cx=\"131.4371\" cy=\"143.2124\" fill=\"none\" r=\"4.252\" stroke=\"rgba(64,220,64,0.9412)\" stroke-miterlimit=\"10\" stroke-width=\"1.5\"/>\n",
       "<circle cx=\"37.8913\" cy=\"105.1909\" fill=\"none\" r=\"4.252\" stroke=\"rgba(64,220,64,0.9412)\" stroke-miterlimit=\"10\" stroke-width=\"1.5\"/>\n",
       "<circle cx=\"164.8431\" cy=\"175.6439\" fill=\"none\" r=\"4.252\" stroke=\"rgba(64,220,64,0.9412)\" stroke-miterlimit=\"10\" stroke-width=\"1.5\"/>\n",
       "<circle cx=\"78.2013\" cy=\"110.4544\" fill=\"none\" r=\"4.252\" stroke=\"rgba(64,220,64,0.9412)\" stroke-miterlimit=\"10\" stroke-width=\"1.5\"/>\n",
       "<circle cx=\"148.0304\" cy=\"85.8876\" fill=\"none\" r=\"4.252\" stroke=\"rgba(64,220,64,0.9412)\" stroke-miterlimit=\"10\" stroke-width=\"1.5\"/>\n",
       "<circle cx=\"124.4892\" cy=\"96.9779\" fill=\"none\" r=\"4.252\" stroke=\"rgba(64,220,64,0.9412)\" stroke-miterlimit=\"10\" stroke-width=\"1.5\"/>\n",
       "<circle cx=\"255.9269\" cy=\"245.1245\" fill=\"none\" r=\"4.252\" stroke=\"rgba(64,220,64,0.9412)\" stroke-miterlimit=\"10\" stroke-width=\"1.5\"/>\n",
       "<circle cx=\"201.0471\" cy=\"132.2792\" fill=\"none\" r=\"4.252\" stroke=\"rgba(64,220,64,0.9412)\" stroke-miterlimit=\"10\" stroke-width=\"1.5\"/>\n",
       "<circle cx=\"126.0846\" cy=\"109.807\" fill=\"none\" r=\"4.252\" stroke=\"rgba(64,220,64,0.9412)\" stroke-miterlimit=\"10\" stroke-width=\"1.5\"/>\n",
       "<circle cx=\"44.3598\" cy=\"104.3166\" fill=\"none\" r=\"4.252\" stroke=\"rgba(64,220,64,0.9412)\" stroke-miterlimit=\"10\" stroke-width=\"1.5\"/>\n",
       "<circle cx=\"131.2465\" cy=\"241.8189\" fill=\"none\" r=\"4.252\" stroke=\"rgba(64,220,64,0.9412)\" stroke-miterlimit=\"10\" stroke-width=\"1.5\"/>\n",
       "<circle cx=\"178.5162\" cy=\"226.7281\" fill=\"none\" r=\"4.252\" stroke=\"rgba(64,220,64,0.9412)\" stroke-miterlimit=\"10\" stroke-width=\"1.5\"/>\n",
       "<circle cx=\"214.8803\" cy=\"26.4788\" fill=\"none\" r=\"4.252\" stroke=\"rgba(64,220,64,0.9412)\" stroke-miterlimit=\"10\" stroke-width=\"1.5\"/>\n",
       "<circle cx=\"235.9201\" cy=\"104.113\" fill=\"none\" r=\"4.252\" stroke=\"rgba(64,220,64,0.9412)\" stroke-miterlimit=\"10\" stroke-width=\"1.5\"/>\n",
       "<circle cx=\"143.2748\" cy=\"174.0834\" fill=\"none\" r=\"4.252\" stroke=\"rgba(64,220,64,0.9412)\" stroke-miterlimit=\"10\" stroke-width=\"1.5\"/>\n",
       "<circle cx=\"126.9406\" cy=\"170.3751\" fill=\"none\" r=\"4.252\" stroke=\"rgba(64,220,64,0.9412)\" stroke-miterlimit=\"10\" stroke-width=\"1.5\"/>\n",
       "<circle cx=\"160.7761\" cy=\"176.5349\" fill=\"none\" r=\"4.252\" stroke=\"rgba(64,220,64,0.9412)\" stroke-miterlimit=\"10\" stroke-width=\"1.5\"/>\n",
       "<circle cx=\"55.0544\" cy=\"144.7562\" fill=\"none\" r=\"4.252\" stroke=\"rgba(64,220,64,0.9412)\" stroke-miterlimit=\"10\" stroke-width=\"1.5\"/>\n",
       "<circle cx=\"137.298\" cy=\"105.7389\" fill=\"none\" r=\"4.252\" stroke=\"rgba(64,220,64,0.9412)\" stroke-miterlimit=\"10\" stroke-width=\"1.5\"/>\n",
       "<circle cx=\"195.6432\" cy=\"97.9019\" fill=\"none\" r=\"4.252\" stroke=\"rgba(64,220,64,0.9412)\" stroke-miterlimit=\"10\" stroke-width=\"1.5\"/>\n",
       "<circle cx=\"180.7644\" cy=\"272.919\" fill=\"none\" r=\"4.252\" stroke=\"rgba(64,220,64,0.9412)\" stroke-miterlimit=\"10\" stroke-width=\"1.5\"/>\n",
       "<circle cx=\"102.7238\" cy=\"142.8614\" fill=\"none\" r=\"4.252\" stroke=\"rgba(64,220,64,0.9412)\" stroke-miterlimit=\"10\" stroke-width=\"1.5\"/>\n",
       "<circle cx=\"21.8162\" cy=\"118.6217\" fill=\"none\" r=\"4.252\" stroke=\"rgba(64,220,64,0.9412)\" stroke-miterlimit=\"10\" stroke-width=\"1.5\"/>\n",
       "<circle cx=\"242.4349\" cy=\"117.3594\" fill=\"none\" r=\"4.252\" stroke=\"rgba(64,220,64,0.9412)\" stroke-miterlimit=\"10\" stroke-width=\"1.5\"/>\n",
       "<circle cx=\"183.9308\" cy=\"169.3842\" fill=\"none\" r=\"4.252\" stroke=\"rgba(64,220,64,0.9412)\" stroke-miterlimit=\"10\" stroke-width=\"1.5\"/>\n",
       "<circle cx=\"109.2619\" cy=\"196.3248\" fill=\"none\" r=\"4.252\" stroke=\"rgba(64,220,64,0.9412)\" stroke-miterlimit=\"10\" stroke-width=\"1.5\"/>\n",
       "<circle cx=\"76.5233\" cy=\"251.9216\" fill=\"none\" r=\"4.252\" stroke=\"rgba(64,220,64,0.9412)\" stroke-miterlimit=\"10\" stroke-width=\"1.5\"/>\n",
       "<circle cx=\"32.4793\" cy=\"200.8683\" fill=\"none\" r=\"4.252\" stroke=\"rgba(64,220,64,0.9412)\" stroke-miterlimit=\"10\" stroke-width=\"1.5\"/>\n",
       "<circle cx=\"217.7409\" cy=\"117.733\" fill=\"none\" r=\"4.252\" stroke=\"rgba(64,220,64,0.9412)\" stroke-miterlimit=\"10\" stroke-width=\"1.5\"/>\n",
       "<circle cx=\"189.938\" cy=\"107.7127\" fill=\"none\" r=\"4.252\" stroke=\"rgba(64,220,64,0.9412)\" stroke-miterlimit=\"10\" stroke-width=\"1.5\"/>\n",
       "<circle cx=\"253.7876\" cy=\"225.1126\" fill=\"none\" r=\"4.252\" stroke=\"rgba(64,220,64,0.9412)\" stroke-miterlimit=\"10\" stroke-width=\"1.5\"/>\n",
       "<circle cx=\"161.3523\" cy=\"84.4056\" fill=\"none\" r=\"4.252\" stroke=\"rgba(64,220,64,0.9412)\" stroke-miterlimit=\"10\" stroke-width=\"1.5\"/>\n",
       "<circle cx=\"223.9984\" cy=\"99.1493\" fill=\"none\" r=\"4.252\" stroke=\"rgba(64,220,64,0.9412)\" stroke-miterlimit=\"10\" stroke-width=\"1.5\"/>\n",
       "<circle cx=\"277.1775\" cy=\"143.9924\" fill=\"none\" r=\"4.252\" stroke=\"rgba(64,220,64,0.9412)\" stroke-miterlimit=\"10\" stroke-width=\"1.5\"/>\n",
       "<circle cx=\"165.8466\" cy=\"198.1165\" fill=\"none\" r=\"4.252\" stroke=\"rgba(64,220,64,0.9412)\" stroke-miterlimit=\"10\" stroke-width=\"1.5\"/>\n",
       "<circle cx=\"79.7496\" cy=\"212.8638\" fill=\"none\" r=\"4.252\" stroke=\"rgba(64,220,64,0.9412)\" stroke-miterlimit=\"10\" stroke-width=\"1.5\"/>\n",
       "<circle cx=\"245.045\" cy=\"166.3361\" fill=\"none\" r=\"4.252\" stroke=\"rgba(64,220,64,0.9412)\" stroke-miterlimit=\"10\" stroke-width=\"1.5\"/>\n",
       "<circle cx=\"27.4432\" cy=\"77.2559\" fill=\"none\" r=\"4.252\" stroke=\"rgba(64,220,64,0.9412)\" stroke-miterlimit=\"10\" stroke-width=\"1.5\"/>\n",
       "<circle cx=\"173.7661\" cy=\"133.941\" fill=\"none\" r=\"4.252\" stroke=\"rgba(64,220,64,0.9412)\" stroke-miterlimit=\"10\" stroke-width=\"1.5\"/>\n",
       "<circle cx=\"163.6669\" cy=\"162.1576\" fill=\"none\" r=\"4.252\" stroke=\"rgba(64,220,64,0.9412)\" stroke-miterlimit=\"10\" stroke-width=\"1.5\"/>\n",
       "<circle cx=\"87.0219\" cy=\"168.6162\" fill=\"none\" r=\"4.252\" stroke=\"rgba(64,220,64,0.9412)\" stroke-miterlimit=\"10\" stroke-width=\"1.5\"/>\n",
       "<circle cx=\"36.3884\" cy=\"91.5762\" fill=\"none\" r=\"4.252\" stroke=\"rgba(64,220,64,0.9412)\" stroke-miterlimit=\"10\" stroke-width=\"1.5\"/>\n",
       "<circle cx=\"195.1412\" cy=\"62.3921\" fill=\"none\" r=\"4.252\" stroke=\"rgba(64,220,64,0.9412)\" stroke-miterlimit=\"10\" stroke-width=\"1.5\"/>\n",
       "<circle cx=\"71.3933\" cy=\"87.857\" fill=\"none\" r=\"4.252\" stroke=\"rgba(64,220,64,0.9412)\" stroke-miterlimit=\"10\" stroke-width=\"1.5\"/>\n",
       "<circle cx=\"82.9902\" cy=\"210.0359\" fill=\"none\" r=\"4.252\" stroke=\"rgba(64,220,64,0.9412)\" stroke-miterlimit=\"10\" stroke-width=\"1.5\"/>\n",
       "<circle cx=\"27.7143\" cy=\"215.793\" fill=\"none\" r=\"4.252\" stroke=\"rgba(64,220,64,0.9412)\" stroke-miterlimit=\"10\" stroke-width=\"1.5\"/>\n",
       "<circle cx=\"142.1047\" cy=\"34.5337\" fill=\"none\" r=\"4.252\" stroke=\"rgba(64,220,64,0.9412)\" stroke-miterlimit=\"10\" stroke-width=\"1.5\"/>\n",
       "<circle cx=\"183.6918\" cy=\"102.4758\" fill=\"none\" r=\"4.252\" stroke=\"rgba(64,220,64,0.9412)\" stroke-miterlimit=\"10\" stroke-width=\"1.5\"/>\n",
       "<circle cx=\"100.7762\" cy=\"208.4936\" fill=\"none\" r=\"4.252\" stroke=\"rgba(64,220,64,0.9412)\" stroke-miterlimit=\"10\" stroke-width=\"1.5\"/>\n",
       "<circle cx=\"23.8044\" cy=\"135.4742\" fill=\"none\" r=\"4.252\" stroke=\"rgba(64,220,64,0.9412)\" stroke-miterlimit=\"10\" stroke-width=\"1.5\"/>\n",
       "<circle cx=\"104.3046\" cy=\"130.3011\" fill=\"none\" r=\"4.252\" stroke=\"rgba(64,220,64,0.9412)\" stroke-miterlimit=\"10\" stroke-width=\"1.5\"/>\n",
       "<circle cx=\"136.5736\" cy=\"187.0059\" fill=\"none\" r=\"4.252\" stroke=\"rgba(64,220,64,0.9412)\" stroke-miterlimit=\"10\" stroke-width=\"1.5\"/>\n",
       "<circle cx=\"177.0462\" cy=\"150.9588\" fill=\"none\" r=\"4.252\" stroke=\"rgba(64,220,64,0.9412)\" stroke-miterlimit=\"10\" stroke-width=\"1.5\"/>\n",
       "<circle cx=\"93.9242\" cy=\"133.2753\" fill=\"none\" r=\"4.252\" stroke=\"rgba(64,220,64,0.9412)\" stroke-miterlimit=\"10\" stroke-width=\"1.5\"/>\n",
       "<circle cx=\"88.4434\" cy=\"160.4009\" fill=\"none\" r=\"4.252\" stroke=\"rgba(64,220,64,0.9412)\" stroke-miterlimit=\"10\" stroke-width=\"1.5\"/>\n",
       "<circle cx=\"147.1872\" cy=\"130.2092\" fill=\"none\" r=\"4.252\" stroke=\"rgba(64,220,64,0.9412)\" stroke-miterlimit=\"10\" stroke-width=\"1.5\"/>\n",
       "<circle cx=\"93.7319\" cy=\"134.7183\" fill=\"none\" r=\"4.252\" stroke=\"rgba(64,220,64,0.9412)\" stroke-miterlimit=\"10\" stroke-width=\"1.5\"/>\n",
       "<circle cx=\"84.6747\" cy=\"86.2588\" fill=\"none\" r=\"4.252\" stroke=\"rgba(64,220,64,0.9412)\" stroke-miterlimit=\"10\" stroke-width=\"1.5\"/>\n",
       "<circle cx=\"195.5335\" cy=\"130.0429\" fill=\"none\" r=\"4.252\" stroke=\"rgba(64,220,64,0.9412)\" stroke-miterlimit=\"10\" stroke-width=\"1.5\"/>\n",
       "<circle cx=\"168.4259\" cy=\"96.2086\" fill=\"none\" r=\"4.252\" stroke=\"rgba(64,220,64,0.9412)\" stroke-miterlimit=\"10\" stroke-width=\"1.5\"/>\n",
       "<circle cx=\"98.4633\" cy=\"119.6303\" fill=\"none\" r=\"4.252\" stroke=\"rgba(64,220,64,0.9412)\" stroke-miterlimit=\"10\" stroke-width=\"1.5\"/>\n",
       "<circle cx=\"107.0095\" cy=\"119.3218\" fill=\"none\" r=\"4.252\" stroke=\"rgba(64,220,64,0.9412)\" stroke-miterlimit=\"10\" stroke-width=\"1.5\"/>\n",
       "<circle cx=\"173.3703\" cy=\"174.6965\" fill=\"none\" r=\"4.252\" stroke=\"rgba(64,220,64,0.9412)\" stroke-miterlimit=\"10\" stroke-width=\"1.5\"/>\n",
       "<circle cx=\"13.9997\" cy=\"201.8257\" fill=\"none\" r=\"4.252\" stroke=\"rgba(64,220,64,0.9412)\" stroke-miterlimit=\"10\" stroke-width=\"1.5\"/>\n",
       "<circle cx=\"96.836\" cy=\"126.1274\" fill=\"none\" r=\"4.252\" stroke=\"rgba(64,220,64,0.9412)\" stroke-miterlimit=\"10\" stroke-width=\"1.5\"/>\n",
       "<circle cx=\"225.5507\" cy=\"235.0766\" fill=\"none\" r=\"4.252\" stroke=\"rgba(64,220,64,0.9412)\" stroke-miterlimit=\"10\" stroke-width=\"1.5\"/>\n",
       "<circle cx=\"193.8802\" cy=\"104.9913\" fill=\"none\" r=\"4.252\" stroke=\"rgba(64,220,64,0.9412)\" stroke-miterlimit=\"10\" stroke-width=\"1.5\"/>\n",
       "<circle cx=\"102.6329\" cy=\"182.7955\" fill=\"none\" r=\"4.252\" stroke=\"rgba(64,220,64,0.9412)\" stroke-miterlimit=\"10\" stroke-width=\"1.5\"/>\n",
       "<circle cx=\"64.6498\" cy=\"194.8382\" fill=\"none\" r=\"4.252\" stroke=\"rgba(64,220,64,0.9412)\" stroke-miterlimit=\"10\" stroke-width=\"1.5\"/>\n",
       "<circle cx=\"136.6268\" cy=\"160.5818\" fill=\"none\" r=\"4.252\" stroke=\"rgba(64,220,64,0.9412)\" stroke-miterlimit=\"10\" stroke-width=\"1.5\"/>\n",
       "<circle cx=\"148.2098\" cy=\"84.5369\" fill=\"none\" r=\"4.252\" stroke=\"rgba(64,220,64,0.9412)\" stroke-miterlimit=\"10\" stroke-width=\"1.5\"/>\n",
       "<circle cx=\"172.5401\" cy=\"131.8588\" fill=\"none\" r=\"4.252\" stroke=\"rgba(64,220,64,0.9412)\" stroke-miterlimit=\"10\" stroke-width=\"1.5\"/>\n",
       "<circle cx=\"204.7661\" cy=\"93.7218\" fill=\"none\" r=\"4.252\" stroke=\"rgba(64,220,64,0.9412)\" stroke-miterlimit=\"10\" stroke-width=\"1.5\"/>\n",
       "<circle cx=\"288.2442\" cy=\"111.8907\" fill=\"none\" r=\"4.252\" stroke=\"rgba(64,220,64,0.9412)\" stroke-miterlimit=\"10\" stroke-width=\"1.5\"/>\n",
       "<circle cx=\"68.158\" cy=\"108.8756\" fill=\"none\" r=\"4.252\" stroke=\"rgba(64,220,64,0.9412)\" stroke-miterlimit=\"10\" stroke-width=\"1.5\"/>\n",
       "<circle cx=\"175.4016\" cy=\"50.1878\" fill=\"none\" r=\"4.252\" stroke=\"rgba(64,220,64,0.9412)\" stroke-miterlimit=\"10\" stroke-width=\"1.5\"/>\n",
       "<circle cx=\"191.7866\" cy=\"134.9868\" fill=\"none\" r=\"4.252\" stroke=\"rgba(64,220,64,0.9412)\" stroke-miterlimit=\"10\" stroke-width=\"1.5\"/>\n",
       "<circle cx=\"161.6464\" cy=\"173.3464\" fill=\"none\" r=\"4.252\" stroke=\"rgba(64,220,64,0.9412)\" stroke-miterlimit=\"10\" stroke-width=\"1.5\"/>\n",
       "<circle cx=\"117.8477\" cy=\"181.2255\" fill=\"none\" r=\"4.252\" stroke=\"rgba(64,220,64,0.9412)\" stroke-miterlimit=\"10\" stroke-width=\"1.5\"/>\n",
       "<circle cx=\"185.6748\" cy=\"202.2755\" fill=\"none\" r=\"4.252\" stroke=\"rgba(64,220,64,0.9412)\" stroke-miterlimit=\"10\" stroke-width=\"1.5\"/>\n",
       "<circle cx=\"129.9435\" cy=\"88.1689\" fill=\"none\" r=\"4.252\" stroke=\"rgba(64,220,64,0.9412)\" stroke-miterlimit=\"10\" stroke-width=\"1.5\"/>\n",
       "<circle cx=\"135.902\" cy=\"153.1642\" fill=\"none\" r=\"4.252\" stroke=\"rgba(64,220,64,0.9412)\" stroke-miterlimit=\"10\" stroke-width=\"1.5\"/>\n",
       "<circle cx=\"133.2534\" cy=\"118.5887\" fill=\"none\" r=\"4.252\" stroke=\"rgba(64,220,64,0.9412)\" stroke-miterlimit=\"10\" stroke-width=\"1.5\"/>\n",
       "<circle cx=\"95.4216\" cy=\"161.6357\" fill=\"none\" r=\"4.252\" stroke=\"rgba(64,220,64,0.9412)\" stroke-miterlimit=\"10\" stroke-width=\"1.5\"/>\n",
       "<circle cx=\"233.3026\" cy=\"-23.8316\" fill=\"none\" r=\"4.252\" stroke=\"rgba(64,220,64,0.9412)\" stroke-miterlimit=\"10\" stroke-width=\"1.5\"/>\n",
       "<circle cx=\"114.736\" cy=\"89.2327\" fill=\"none\" r=\"4.252\" stroke=\"rgba(64,220,64,0.9412)\" stroke-miterlimit=\"10\" stroke-width=\"1.5\"/>\n",
       "<circle cx=\"212.4993\" cy=\"126.4107\" fill=\"none\" r=\"4.252\" stroke=\"rgba(64,220,64,0.9412)\" stroke-miterlimit=\"10\" stroke-width=\"1.5\"/>\n",
       "<circle cx=\"95.1917\" cy=\"115.7908\" fill=\"none\" r=\"4.252\" stroke=\"rgba(64,220,64,0.9412)\" stroke-miterlimit=\"10\" stroke-width=\"1.5\"/>\n",
       "<circle cx=\"49.1594\" cy=\"104.8158\" fill=\"none\" r=\"4.252\" stroke=\"rgba(64,220,64,0.9412)\" stroke-miterlimit=\"10\" stroke-width=\"1.5\"/>\n",
       "<circle cx=\"143.7744\" cy=\"197.842\" fill=\"none\" r=\"4.252\" stroke=\"rgba(64,220,64,0.9412)\" stroke-miterlimit=\"10\" stroke-width=\"1.5\"/>\n",
       "<circle cx=\"109.9435\" cy=\"162.0597\" fill=\"none\" r=\"4.252\" stroke=\"rgba(64,220,64,0.9412)\" stroke-miterlimit=\"10\" stroke-width=\"1.5\"/>\n",
       "<circle cx=\"102.6518\" cy=\"282.1971\" fill=\"none\" r=\"4.252\" stroke=\"rgba(64,220,64,0.9412)\" stroke-miterlimit=\"10\" stroke-width=\"1.5\"/>\n",
       "<circle cx=\"76.233\" cy=\"178.0894\" fill=\"none\" r=\"4.252\" stroke=\"rgba(64,220,64,0.9412)\" stroke-miterlimit=\"10\" stroke-width=\"1.5\"/>\n",
       "<circle cx=\"115.5755\" cy=\"154.4341\" fill=\"none\" r=\"4.252\" stroke=\"rgba(64,220,64,0.9412)\" stroke-miterlimit=\"10\" stroke-width=\"1.5\"/>\n",
       "<circle cx=\"225.407\" cy=\"177.6852\" fill=\"none\" r=\"4.252\" stroke=\"rgba(64,220,64,0.9412)\" stroke-miterlimit=\"10\" stroke-width=\"1.5\"/>\n",
       "<circle cx=\"122.5722\" cy=\"168.4882\" fill=\"none\" r=\"4.252\" stroke=\"rgba(64,220,64,0.9412)\" stroke-miterlimit=\"10\" stroke-width=\"1.5\"/>\n",
       "<circle cx=\"166.1078\" cy=\"164.9498\" fill=\"none\" r=\"4.252\" stroke=\"rgba(64,220,64,0.9412)\" stroke-miterlimit=\"10\" stroke-width=\"1.5\"/>\n",
       "<circle cx=\"174.2565\" cy=\"114.4026\" fill=\"none\" r=\"4.252\" stroke=\"rgba(64,220,64,0.9412)\" stroke-miterlimit=\"10\" stroke-width=\"1.5\"/>\n",
       "<circle cx=\"202.7557\" cy=\"1.4599\" fill=\"none\" r=\"4.252\" stroke=\"rgba(64,220,64,0.9412)\" stroke-miterlimit=\"10\" stroke-width=\"1.5\"/>\n",
       "<circle cx=\"132.6197\" cy=\"81.8022\" fill=\"none\" r=\"4.252\" stroke=\"rgba(64,220,64,0.9412)\" stroke-miterlimit=\"10\" stroke-width=\"1.5\"/>\n",
       "<circle cx=\"115.1724\" cy=\"53.0737\" fill=\"none\" r=\"4.252\" stroke=\"rgba(64,220,64,0.9412)\" stroke-miterlimit=\"10\" stroke-width=\"1.5\"/>\n",
       "<circle cx=\"123.6199\" cy=\"191.8046\" fill=\"none\" r=\"4.252\" stroke=\"rgba(64,220,64,0.9412)\" stroke-miterlimit=\"10\" stroke-width=\"1.5\"/>\n",
       "<circle cx=\"246.719\" cy=\"140.9276\" fill=\"none\" r=\"4.252\" stroke=\"rgba(64,220,64,0.9412)\" stroke-miterlimit=\"10\" stroke-width=\"1.5\"/>\n",
       "<circle cx=\"118.6896\" cy=\"192.3736\" fill=\"none\" r=\"4.252\" stroke=\"rgba(64,220,64,0.9412)\" stroke-miterlimit=\"10\" stroke-width=\"1.5\"/>\n",
       "<circle cx=\"164.1128\" cy=\"35.401\" fill=\"none\" r=\"4.252\" stroke=\"rgba(64,220,64,0.9412)\" stroke-miterlimit=\"10\" stroke-width=\"1.5\"/>\n",
       "<circle cx=\"87.1017\" cy=\"165.4255\" fill=\"none\" r=\"4.252\" stroke=\"rgba(64,220,64,0.9412)\" stroke-miterlimit=\"10\" stroke-width=\"1.5\"/>\n",
       "<circle cx=\"168.5548\" cy=\"152.4545\" fill=\"none\" r=\"4.252\" stroke=\"rgba(64,220,64,0.9412)\" stroke-miterlimit=\"10\" stroke-width=\"1.5\"/>\n",
       "<circle cx=\"285.816\" cy=\"135.3005\" fill=\"none\" r=\"4.252\" stroke=\"rgba(64,220,64,0.9412)\" stroke-miterlimit=\"10\" stroke-width=\"1.5\"/>\n",
       "<circle cx=\"147.1922\" cy=\"175.4381\" fill=\"none\" r=\"4.252\" stroke=\"rgba(64,220,64,0.9412)\" stroke-miterlimit=\"10\" stroke-width=\"1.5\"/>\n",
       "<circle cx=\"188.3269\" cy=\"172.437\" fill=\"none\" r=\"4.252\" stroke=\"rgba(64,220,64,0.9412)\" stroke-miterlimit=\"10\" stroke-width=\"1.5\"/>\n",
       "<circle cx=\"218.173\" cy=\"172.3178\" fill=\"none\" r=\"4.252\" stroke=\"rgba(64,220,64,0.9412)\" stroke-miterlimit=\"10\" stroke-width=\"1.5\"/>\n",
       "<circle cx=\"26.5857\" cy=\"142.1527\" fill=\"none\" r=\"4.252\" stroke=\"rgba(64,220,64,0.9412)\" stroke-miterlimit=\"10\" stroke-width=\"1.5\"/>\n",
       "<circle cx=\"59.9322\" cy=\"134.5618\" fill=\"none\" r=\"4.252\" stroke=\"rgba(64,220,64,0.9412)\" stroke-miterlimit=\"10\" stroke-width=\"1.5\"/>\n",
       "<circle cx=\"112.7334\" cy=\"250.8596\" fill=\"none\" r=\"4.252\" stroke=\"rgba(64,220,64,0.9412)\" stroke-miterlimit=\"10\" stroke-width=\"1.5\"/>\n",
       "<circle cx=\"157.0384\" cy=\"178.7735\" fill=\"none\" r=\"4.252\" stroke=\"rgba(64,220,64,0.9412)\" stroke-miterlimit=\"10\" stroke-width=\"1.5\"/>\n",
       "<circle cx=\"79.2449\" cy=\"95.2277\" fill=\"none\" r=\"4.252\" stroke=\"rgba(64,220,64,0.9412)\" stroke-miterlimit=\"10\" stroke-width=\"1.5\"/>\n",
       "<circle cx=\"138.9133\" cy=\"202.7082\" fill=\"none\" r=\"4.252\" stroke=\"rgba(64,220,64,0.9412)\" stroke-miterlimit=\"10\" stroke-width=\"1.5\"/>\n",
       "<circle cx=\"156.1403\" cy=\"198.3687\" fill=\"none\" r=\"4.252\" stroke=\"rgba(64,220,64,0.9412)\" stroke-miterlimit=\"10\" stroke-width=\"1.5\"/>\n",
       "<circle cx=\"110.9134\" cy=\"139.0552\" fill=\"none\" r=\"4.252\" stroke=\"rgba(64,220,64,0.9412)\" stroke-miterlimit=\"10\" stroke-width=\"1.5\"/>\n",
       "<circle cx=\"254.0821\" cy=\"196.3848\" fill=\"none\" r=\"4.252\" stroke=\"rgba(64,220,64,0.9412)\" stroke-miterlimit=\"10\" stroke-width=\"1.5\"/>\n",
       "<circle cx=\"112.7023\" cy=\"96.3117\" fill=\"none\" r=\"4.252\" stroke=\"rgba(64,220,64,0.9412)\" stroke-miterlimit=\"10\" stroke-width=\"1.5\"/>\n",
       "<circle cx=\"115.7352\" cy=\"113.1787\" fill=\"none\" r=\"4.252\" stroke=\"rgba(64,220,64,0.9412)\" stroke-miterlimit=\"10\" stroke-width=\"1.5\"/>\n",
       "<circle cx=\"157.9487\" cy=\"152.2646\" fill=\"none\" r=\"4.252\" stroke=\"rgba(64,220,64,0.9412)\" stroke-miterlimit=\"10\" stroke-width=\"1.5\"/>\n",
       "<circle cx=\"329.4322\" cy=\"114.3147\" fill=\"none\" r=\"4.252\" stroke=\"rgba(64,220,64,0.9412)\" stroke-miterlimit=\"10\" stroke-width=\"1.5\"/>\n",
       "<circle cx=\"250.2371\" cy=\"51.78\" fill=\"none\" r=\"4.252\" stroke=\"rgba(64,220,64,0.9412)\" stroke-miterlimit=\"10\" stroke-width=\"1.5\"/>\n",
       "<circle cx=\"52.838\" cy=\"52.0686\" fill=\"none\" r=\"4.252\" stroke=\"rgba(64,220,64,0.9412)\" stroke-miterlimit=\"10\" stroke-width=\"1.5\"/>\n",
       "<circle cx=\"182.5933\" cy=\"114.325\" fill=\"none\" r=\"4.252\" stroke=\"rgba(64,220,64,0.9412)\" stroke-miterlimit=\"10\" stroke-width=\"1.5\"/>\n",
       "<circle cx=\"148.631\" cy=\"144.1014\" fill=\"none\" r=\"4.252\" stroke=\"rgba(64,220,64,0.9412)\" stroke-miterlimit=\"10\" stroke-width=\"1.5\"/>\n",
       "<circle cx=\"89.0389\" cy=\"79.4474\" fill=\"none\" r=\"4.252\" stroke=\"rgba(64,220,64,0.9412)\" stroke-miterlimit=\"10\" stroke-width=\"1.5\"/>\n",
       "<circle cx=\"115.8205\" cy=\"104.2548\" fill=\"none\" r=\"4.252\" stroke=\"rgba(64,220,64,0.9412)\" stroke-miterlimit=\"10\" stroke-width=\"1.5\"/>\n",
       "<circle cx=\"170.1992\" cy=\"95.3798\" fill=\"none\" r=\"4.252\" stroke=\"rgba(64,220,64,0.9412)\" stroke-miterlimit=\"10\" stroke-width=\"1.5\"/>\n",
       "<circle cx=\"168.6085\" cy=\"-7.5443\" fill=\"none\" r=\"4.252\" stroke=\"rgba(64,220,64,0.9412)\" stroke-miterlimit=\"10\" stroke-width=\"1.5\"/>\n",
       "<circle cx=\"113.7767\" cy=\"178.4114\" fill=\"none\" r=\"4.252\" stroke=\"rgba(64,220,64,0.9412)\" stroke-miterlimit=\"10\" stroke-width=\"1.5\"/>\n",
       "<circle cx=\"145.9903\" cy=\"203.0994\" fill=\"none\" r=\"4.252\" stroke=\"rgba(64,220,64,0.9412)\" stroke-miterlimit=\"10\" stroke-width=\"1.5\"/>\n",
       "<circle cx=\"97.0492\" cy=\"93.172\" fill=\"none\" r=\"4.252\" stroke=\"rgba(64,220,64,0.9412)\" stroke-miterlimit=\"10\" stroke-width=\"1.5\"/>\n",
       "<circle cx=\"134.7787\" cy=\"197.9364\" fill=\"none\" r=\"4.252\" stroke=\"rgba(64,220,64,0.9412)\" stroke-miterlimit=\"10\" stroke-width=\"1.5\"/>\n",
       "<circle cx=\"203.2753\" cy=\"242.6401\" fill=\"none\" r=\"4.252\" stroke=\"rgba(64,220,64,0.9412)\" stroke-miterlimit=\"10\" stroke-width=\"1.5\"/>\n",
       "<circle cx=\"176.2593\" cy=\"71.6452\" fill=\"none\" r=\"4.252\" stroke=\"rgba(64,220,64,0.9412)\" stroke-miterlimit=\"10\" stroke-width=\"1.5\"/>\n",
       "<circle cx=\"170.5978\" cy=\"195.0028\" fill=\"none\" r=\"4.252\" stroke=\"rgba(64,220,64,0.9412)\" stroke-miterlimit=\"10\" stroke-width=\"1.5\"/>\n",
       "<circle cx=\"38.7216\" cy=\"92.4703\" fill=\"none\" r=\"4.252\" stroke=\"rgba(64,220,64,0.9412)\" stroke-miterlimit=\"10\" stroke-width=\"1.5\"/>\n",
       "<circle cx=\"85.7827\" cy=\"124.7538\" fill=\"none\" r=\"4.252\" stroke=\"rgba(64,220,64,0.9412)\" stroke-miterlimit=\"10\" stroke-width=\"1.5\"/>\n",
       "<circle cx=\"158.5315\" cy=\"267.8501\" fill=\"none\" r=\"4.252\" stroke=\"rgba(64,220,64,0.9412)\" stroke-miterlimit=\"10\" stroke-width=\"1.5\"/>\n",
       "<circle cx=\"131.514\" cy=\"128.9231\" fill=\"none\" r=\"4.252\" stroke=\"rgba(64,220,64,0.9412)\" stroke-miterlimit=\"10\" stroke-width=\"1.5\"/>\n",
       "<circle cx=\"124.9535\" cy=\"117.2557\" fill=\"none\" r=\"4.252\" stroke=\"rgba(64,220,64,0.9412)\" stroke-miterlimit=\"10\" stroke-width=\"1.5\"/>\n",
       "<circle cx=\"130.6656\" cy=\"132.8925\" fill=\"none\" r=\"4.252\" stroke=\"rgba(64,220,64,0.9412)\" stroke-miterlimit=\"10\" stroke-width=\"1.5\"/>\n",
       "<circle cx=\"177.0819\" cy=\"41.0089\" fill=\"none\" r=\"4.252\" stroke=\"rgba(64,220,64,0.9412)\" stroke-miterlimit=\"10\" stroke-width=\"1.5\"/>\n",
       "<circle cx=\"168.5714\" cy=\"9.875\" fill=\"none\" r=\"4.252\" stroke=\"rgba(64,220,64,0.9412)\" stroke-miterlimit=\"10\" stroke-width=\"1.5\"/>\n",
       "<circle cx=\"218.5296\" cy=\"171.4896\" fill=\"none\" r=\"4.252\" stroke=\"rgba(64,220,64,0.9412)\" stroke-miterlimit=\"10\" stroke-width=\"1.5\"/>\n",
       "<circle cx=\"196.6777\" cy=\"204.3459\" fill=\"none\" r=\"4.252\" stroke=\"rgba(64,220,64,0.9412)\" stroke-miterlimit=\"10\" stroke-width=\"1.5\"/>\n",
       "<circle cx=\"144.6094\" cy=\"180.9234\" fill=\"none\" r=\"4.252\" stroke=\"rgba(64,220,64,0.9412)\" stroke-miterlimit=\"10\" stroke-width=\"1.5\"/>\n",
       "<circle cx=\"74.746\" cy=\"121.1003\" fill=\"none\" r=\"4.252\" stroke=\"rgba(64,220,64,0.9412)\" stroke-miterlimit=\"10\" stroke-width=\"1.5\"/>\n",
       "<circle cx=\"157.4458\" cy=\"144.8941\" fill=\"none\" r=\"4.252\" stroke=\"rgba(64,220,64,0.9412)\" stroke-miterlimit=\"10\" stroke-width=\"1.5\"/>\n",
       "<circle cx=\"107.8428\" cy=\"86.7392\" fill=\"none\" r=\"4.252\" stroke=\"rgba(64,220,64,0.9412)\" stroke-miterlimit=\"10\" stroke-width=\"1.5\"/>\n",
       "<circle cx=\"270.0251\" cy=\"170.813\" fill=\"none\" r=\"4.252\" stroke=\"rgba(64,220,64,0.9412)\" stroke-miterlimit=\"10\" stroke-width=\"1.5\"/>\n",
       "<circle cx=\"128.6755\" cy=\"208.315\" fill=\"none\" r=\"4.252\" stroke=\"rgba(64,220,64,0.9412)\" stroke-miterlimit=\"10\" stroke-width=\"1.5\"/>\n",
       "<circle cx=\"198.4202\" cy=\"70.9181\" fill=\"none\" r=\"4.252\" stroke=\"rgba(64,220,64,0.9412)\" stroke-miterlimit=\"10\" stroke-width=\"1.5\"/>\n",
       "<circle cx=\"168.8871\" cy=\"81.2583\" fill=\"none\" r=\"4.252\" stroke=\"rgba(64,220,64,0.9412)\" stroke-miterlimit=\"10\" stroke-width=\"1.5\"/>\n",
       "<circle cx=\"130.9642\" cy=\"213.9257\" fill=\"none\" r=\"4.252\" stroke=\"rgba(64,220,64,0.9412)\" stroke-miterlimit=\"10\" stroke-width=\"1.5\"/>\n",
       "<circle cx=\"107.0027\" cy=\"148.8268\" fill=\"none\" r=\"4.252\" stroke=\"rgba(64,220,64,0.9412)\" stroke-miterlimit=\"10\" stroke-width=\"1.5\"/>\n",
       "<circle cx=\"161.1658\" cy=\"210.3174\" fill=\"none\" r=\"4.252\" stroke=\"rgba(64,220,64,0.9412)\" stroke-miterlimit=\"10\" stroke-width=\"1.5\"/>\n",
       "<circle cx=\"193.5106\" cy=\"135.961\" fill=\"none\" r=\"4.252\" stroke=\"rgba(64,220,64,0.9412)\" stroke-miterlimit=\"10\" stroke-width=\"1.5\"/>\n",
       "<circle cx=\"199.5763\" cy=\"15.9336\" fill=\"none\" r=\"4.252\" stroke=\"rgba(64,220,64,0.9412)\" stroke-miterlimit=\"10\" stroke-width=\"1.5\"/>\n",
       "<circle cx=\"222.4201\" cy=\"145.8914\" fill=\"none\" r=\"4.252\" stroke=\"rgba(64,220,64,0.9412)\" stroke-miterlimit=\"10\" stroke-width=\"1.5\"/>\n",
       "<circle cx=\"164.2021\" cy=\"219.2808\" fill=\"none\" r=\"4.252\" stroke=\"rgba(64,220,64,0.9412)\" stroke-miterlimit=\"10\" stroke-width=\"1.5\"/>\n",
       "<circle cx=\"166.5319\" cy=\"103.2865\" fill=\"none\" r=\"4.252\" stroke=\"rgba(64,220,64,0.9412)\" stroke-miterlimit=\"10\" stroke-width=\"1.5\"/>\n",
       "<circle cx=\"177.1426\" cy=\"101.6632\" fill=\"none\" r=\"4.252\" stroke=\"rgba(64,220,64,0.9412)\" stroke-miterlimit=\"10\" stroke-width=\"1.5\"/>\n",
       "<circle cx=\"133.5597\" cy=\"163.5042\" fill=\"none\" r=\"4.252\" stroke=\"rgba(64,220,64,0.9412)\" stroke-miterlimit=\"10\" stroke-width=\"1.5\"/>\n",
       "<circle cx=\"76.318\" cy=\"136.6775\" fill=\"none\" r=\"4.252\" stroke=\"rgba(64,220,64,0.9412)\" stroke-miterlimit=\"10\" stroke-width=\"1.5\"/>\n",
       "<circle cx=\"150.3593\" cy=\"182.7174\" fill=\"none\" r=\"4.252\" stroke=\"rgba(64,220,64,0.9412)\" stroke-miterlimit=\"10\" stroke-width=\"1.5\"/>\n",
       "<circle cx=\"117.6047\" cy=\"79.4051\" fill=\"none\" r=\"4.252\" stroke=\"rgba(64,220,64,0.9412)\" stroke-miterlimit=\"10\" stroke-width=\"1.5\"/>\n",
       "<circle cx=\"102.9888\" cy=\"154.4667\" fill=\"none\" r=\"4.252\" stroke=\"rgba(64,220,64,0.9412)\" stroke-miterlimit=\"10\" stroke-width=\"1.5\"/>\n",
       "<circle cx=\"94.0265\" cy=\"152.599\" fill=\"none\" r=\"4.252\" stroke=\"rgba(64,220,64,0.9412)\" stroke-miterlimit=\"10\" stroke-width=\"1.5\"/>\n",
       "<circle cx=\"158.7838\" cy=\"92.1551\" fill=\"none\" r=\"4.252\" stroke=\"rgba(64,220,64,0.9412)\" stroke-miterlimit=\"10\" stroke-width=\"1.5\"/>\n",
       "<circle cx=\"130.4686\" cy=\"151.2525\" fill=\"none\" r=\"4.252\" stroke=\"rgba(64,220,64,0.9412)\" stroke-miterlimit=\"10\" stroke-width=\"1.5\"/>\n",
       "<circle cx=\"144.6645\" cy=\"219.6296\" fill=\"none\" r=\"4.252\" stroke=\"rgba(64,220,64,0.9412)\" stroke-miterlimit=\"10\" stroke-width=\"1.5\"/>\n",
       "<circle cx=\"143.3538\" cy=\"194.9224\" fill=\"none\" r=\"4.252\" stroke=\"rgba(64,220,64,0.9412)\" stroke-miterlimit=\"10\" stroke-width=\"1.5\"/>\n",
       "<circle cx=\"72.5569\" cy=\"196.4236\" fill=\"none\" r=\"4.252\" stroke=\"rgba(64,220,64,0.9412)\" stroke-miterlimit=\"10\" stroke-width=\"1.5\"/>\n",
       "<circle cx=\"93.2525\" cy=\"65.2783\" fill=\"none\" r=\"4.252\" stroke=\"rgba(64,220,64,0.9412)\" stroke-miterlimit=\"10\" stroke-width=\"1.5\"/>\n",
       "<circle cx=\"76.4777\" cy=\"94.7291\" fill=\"none\" r=\"4.252\" stroke=\"rgba(64,220,64,0.9412)\" stroke-miterlimit=\"10\" stroke-width=\"1.5\"/>\n",
       "<circle cx=\"72.3667\" cy=\"76.1696\" fill=\"none\" r=\"4.252\" stroke=\"rgba(64,220,64,0.9412)\" stroke-miterlimit=\"10\" stroke-width=\"1.5\"/>\n",
       "<circle cx=\"244.3446\" cy=\"158.9462\" fill=\"none\" r=\"4.252\" stroke=\"rgba(64,220,64,0.9412)\" stroke-miterlimit=\"10\" stroke-width=\"1.5\"/>\n",
       "<circle cx=\"205.0339\" cy=\"164.0458\" fill=\"none\" r=\"4.252\" stroke=\"rgba(64,220,64,0.9412)\" stroke-miterlimit=\"10\" stroke-width=\"1.5\"/>\n",
       "<circle cx=\"173.2374\" cy=\"203.0386\" fill=\"none\" r=\"4.252\" stroke=\"rgba(64,220,64,0.9412)\" stroke-miterlimit=\"10\" stroke-width=\"1.5\"/>\n",
       "<circle cx=\"103.6356\" cy=\"82.1232\" fill=\"none\" r=\"4.252\" stroke=\"rgba(64,220,64,0.9412)\" stroke-miterlimit=\"10\" stroke-width=\"1.5\"/>\n",
       "<circle cx=\"279.4156\" cy=\"91.6018\" fill=\"none\" r=\"4.252\" stroke=\"rgba(64,220,64,0.9412)\" stroke-miterlimit=\"10\" stroke-width=\"1.5\"/>\n",
       "<circle cx=\"173.4148\" cy=\"252.4438\" fill=\"none\" r=\"4.252\" stroke=\"rgba(64,220,64,0.9412)\" stroke-miterlimit=\"10\" stroke-width=\"1.5\"/>\n",
       "<circle cx=\"206.7967\" cy=\"204.1541\" fill=\"none\" r=\"4.252\" stroke=\"rgba(64,220,64,0.9412)\" stroke-miterlimit=\"10\" stroke-width=\"1.5\"/>\n",
       "<circle cx=\"157.0769\" cy=\"155.8793\" fill=\"none\" r=\"4.252\" stroke=\"rgba(64,220,64,0.9412)\" stroke-miterlimit=\"10\" stroke-width=\"1.5\"/>\n",
       "<circle cx=\"162.5026\" cy=\"115.5356\" fill=\"none\" r=\"4.252\" stroke=\"rgba(64,220,64,0.9412)\" stroke-miterlimit=\"10\" stroke-width=\"1.5\"/>\n",
       "<circle cx=\"159.567\" cy=\"152.6363\" fill=\"none\" r=\"4.252\" stroke=\"rgba(64,220,64,0.9412)\" stroke-miterlimit=\"10\" stroke-width=\"1.5\"/>\n",
       "<circle cx=\"232.9619\" cy=\"117.4916\" fill=\"none\" r=\"4.252\" stroke=\"rgba(64,220,64,0.9412)\" stroke-miterlimit=\"10\" stroke-width=\"1.5\"/>\n",
       "<circle cx=\"98.1415\" cy=\"117.1019\" fill=\"none\" r=\"4.252\" stroke=\"rgba(64,220,64,0.9412)\" stroke-miterlimit=\"10\" stroke-width=\"1.5\"/>\n",
       "<circle cx=\"69.771\" cy=\"72.3965\" fill=\"none\" r=\"4.252\" stroke=\"rgba(64,220,64,0.9412)\" stroke-miterlimit=\"10\" stroke-width=\"1.5\"/>\n",
       "<circle cx=\"67.3313\" cy=\"122.2178\" fill=\"none\" r=\"4.252\" stroke=\"rgba(64,220,64,0.9412)\" stroke-miterlimit=\"10\" stroke-width=\"1.5\"/>\n",
       "<circle cx=\"153.4606\" cy=\"105.689\" fill=\"none\" r=\"4.252\" stroke=\"rgba(64,220,64,0.9412)\" stroke-miterlimit=\"10\" stroke-width=\"1.5\"/>\n",
       "<circle cx=\"71.9709\" cy=\"134.6679\" fill=\"none\" r=\"4.252\" stroke=\"rgba(64,220,64,0.9412)\" stroke-miterlimit=\"10\" stroke-width=\"1.5\"/>\n",
       "<circle cx=\"188.4986\" cy=\"171.2572\" fill=\"none\" r=\"4.252\" stroke=\"rgba(64,220,64,0.9412)\" stroke-miterlimit=\"10\" stroke-width=\"1.5\"/>\n",
       "<circle cx=\"84.1052\" cy=\"240.034\" fill=\"none\" r=\"4.252\" stroke=\"rgba(64,220,64,0.9412)\" stroke-miterlimit=\"10\" stroke-width=\"1.5\"/>\n",
       "<circle cx=\"186.7462\" cy=\"124.1656\" fill=\"none\" r=\"4.252\" stroke=\"rgba(64,220,64,0.9412)\" stroke-miterlimit=\"10\" stroke-width=\"1.5\"/>\n",
       "<circle cx=\"254.21\" cy=\"63.9457\" fill=\"none\" r=\"4.252\" stroke=\"rgba(64,220,64,0.9412)\" stroke-miterlimit=\"10\" stroke-width=\"1.5\"/>\n",
       "<circle cx=\"149.4112\" cy=\"34.4226\" fill=\"none\" r=\"4.252\" stroke=\"rgba(64,220,64,0.9412)\" stroke-miterlimit=\"10\" stroke-width=\"1.5\"/>\n",
       "<circle cx=\"69.5079\" cy=\"190.0707\" fill=\"none\" r=\"4.252\" stroke=\"rgba(64,220,64,0.9412)\" stroke-miterlimit=\"10\" stroke-width=\"1.5\"/>\n",
       "<circle cx=\"135.782\" cy=\"180.1762\" fill=\"none\" r=\"4.252\" stroke=\"rgba(64,220,64,0.9412)\" stroke-miterlimit=\"10\" stroke-width=\"1.5\"/>\n",
       "<circle cx=\"145.4786\" cy=\"59.9996\" fill=\"none\" r=\"4.252\" stroke=\"rgba(64,220,64,0.9412)\" stroke-miterlimit=\"10\" stroke-width=\"1.5\"/>\n",
       "<circle cx=\"105.8777\" cy=\"163.1654\" fill=\"none\" r=\"4.252\" stroke=\"rgba(64,220,64,0.9412)\" stroke-miterlimit=\"10\" stroke-width=\"1.5\"/>\n",
       "<circle cx=\"135.2235\" cy=\"128.8678\" fill=\"none\" r=\"4.252\" stroke=\"rgba(64,220,64,0.9412)\" stroke-miterlimit=\"10\" stroke-width=\"1.5\"/>\n",
       "<circle cx=\"248.196\" cy=\"110.0376\" fill=\"none\" r=\"4.252\" stroke=\"rgba(64,220,64,0.9412)\" stroke-miterlimit=\"10\" stroke-width=\"1.5\"/>\n",
       "<circle cx=\"200.6264\" cy=\"189.9541\" fill=\"none\" r=\"4.252\" stroke=\"rgba(64,220,64,0.9412)\" stroke-miterlimit=\"10\" stroke-width=\"1.5\"/>\n",
       "<circle cx=\"197.2637\" cy=\"185.5865\" fill=\"none\" r=\"4.252\" stroke=\"rgba(64,220,64,0.9412)\" stroke-miterlimit=\"10\" stroke-width=\"1.5\"/>\n",
       "<circle cx=\"39.3907\" cy=\"207.2611\" fill=\"none\" r=\"4.252\" stroke=\"rgba(64,220,64,0.9412)\" stroke-miterlimit=\"10\" stroke-width=\"1.5\"/>\n",
       "<circle cx=\"142.108\" cy=\"139.4191\" fill=\"none\" r=\"4.252\" stroke=\"rgba(64,220,64,0.9412)\" stroke-miterlimit=\"10\" stroke-width=\"1.5\"/>\n",
       "<circle cx=\"180.117\" cy=\"244.6585\" fill=\"none\" r=\"4.252\" stroke=\"rgba(64,220,64,0.9412)\" stroke-miterlimit=\"10\" stroke-width=\"1.5\"/>\n",
       "<circle cx=\"136.4992\" cy=\"119.3476\" fill=\"none\" r=\"4.252\" stroke=\"rgba(64,220,64,0.9412)\" stroke-miterlimit=\"10\" stroke-width=\"1.5\"/>\n",
       "<circle cx=\"189.7222\" cy=\"39.6672\" fill=\"none\" r=\"4.252\" stroke=\"rgba(64,220,64,0.9412)\" stroke-miterlimit=\"10\" stroke-width=\"1.5\"/>\n",
       "<circle cx=\"178.3756\" cy=\"108.7531\" fill=\"none\" r=\"4.252\" stroke=\"rgba(64,220,64,0.9412)\" stroke-miterlimit=\"10\" stroke-width=\"1.5\"/>\n",
       "<circle cx=\"39.0975\" cy=\"169.9503\" fill=\"none\" r=\"4.252\" stroke=\"rgba(64,220,64,0.9412)\" stroke-miterlimit=\"10\" stroke-width=\"1.5\"/>\n",
       "<circle cx=\"122.2442\" cy=\"109.1785\" fill=\"none\" r=\"4.252\" stroke=\"rgba(64,220,64,0.9412)\" stroke-miterlimit=\"10\" stroke-width=\"1.5\"/>\n",
       "<circle cx=\"143.8452\" cy=\"149.0931\" fill=\"none\" r=\"4.252\" stroke=\"rgba(64,220,64,0.9412)\" stroke-miterlimit=\"10\" stroke-width=\"1.5\"/>\n",
       "<circle cx=\"166.2387\" cy=\"146.2651\" fill=\"none\" r=\"4.252\" stroke=\"rgba(64,220,64,0.9412)\" stroke-miterlimit=\"10\" stroke-width=\"1.5\"/>\n",
       "<circle cx=\"89.3553\" cy=\"154.5609\" fill=\"none\" r=\"4.252\" stroke=\"rgba(64,220,64,0.9412)\" stroke-miterlimit=\"10\" stroke-width=\"1.5\"/>\n",
       "<circle cx=\"158.2561\" cy=\"66.2752\" fill=\"none\" r=\"4.252\" stroke=\"rgba(64,220,64,0.9412)\" stroke-miterlimit=\"10\" stroke-width=\"1.5\"/>\n",
       "<circle cx=\"159.1952\" cy=\"37.9434\" fill=\"none\" r=\"4.252\" stroke=\"rgba(64,220,64,0.9412)\" stroke-miterlimit=\"10\" stroke-width=\"1.5\"/>\n",
       "<circle cx=\"192.6462\" cy=\"88.0339\" fill=\"none\" r=\"4.252\" stroke=\"rgba(64,220,64,0.9412)\" stroke-miterlimit=\"10\" stroke-width=\"1.5\"/>\n",
       "<circle cx=\"136.5213\" cy=\"180.6711\" fill=\"none\" r=\"4.252\" stroke=\"rgba(64,220,64,0.9412)\" stroke-miterlimit=\"10\" stroke-width=\"1.5\"/>\n",
       "<circle cx=\"167.1867\" cy=\"145.1514\" fill=\"none\" r=\"4.252\" stroke=\"rgba(64,220,64,0.9412)\" stroke-miterlimit=\"10\" stroke-width=\"1.5\"/>\n",
       "<circle cx=\"228.4694\" cy=\"127.123\" fill=\"none\" r=\"4.252\" stroke=\"rgba(64,220,64,0.9412)\" stroke-miterlimit=\"10\" stroke-width=\"1.5\"/>\n",
       "<circle cx=\"117.2684\" cy=\"205.1975\" fill=\"none\" r=\"4.252\" stroke=\"rgba(64,220,64,0.9412)\" stroke-miterlimit=\"10\" stroke-width=\"1.5\"/>\n",
       "<circle cx=\"172.5755\" cy=\"115.0429\" fill=\"none\" r=\"4.252\" stroke=\"rgba(64,220,64,0.9412)\" stroke-miterlimit=\"10\" stroke-width=\"1.5\"/>\n",
       "<circle cx=\"2.5422\" cy=\"193.5159\" fill=\"none\" r=\"4.252\" stroke=\"rgba(64,220,64,0.9412)\" stroke-miterlimit=\"10\" stroke-width=\"1.5\"/>\n",
       "<circle cx=\"153.6281\" cy=\"58.4511\" fill=\"none\" r=\"4.252\" stroke=\"rgba(64,220,64,0.9412)\" stroke-miterlimit=\"10\" stroke-width=\"1.5\"/>\n",
       "<circle cx=\"169.0211\" cy=\"240.6906\" fill=\"none\" r=\"4.252\" stroke=\"rgba(64,220,64,0.9412)\" stroke-miterlimit=\"10\" stroke-width=\"1.5\"/>\n",
       "<circle cx=\"148.49\" cy=\"232.2713\" fill=\"none\" r=\"4.252\" stroke=\"rgba(64,220,64,0.9412)\" stroke-miterlimit=\"10\" stroke-width=\"1.5\"/>\n",
       "<circle cx=\"188.1432\" cy=\"1.8\" fill=\"none\" r=\"4.252\" stroke=\"rgba(64,220,64,0.9412)\" stroke-miterlimit=\"10\" stroke-width=\"1.5\"/>\n",
       "<circle cx=\"128.2977\" cy=\"101.9208\" fill=\"none\" r=\"4.252\" stroke=\"rgba(64,220,64,0.9412)\" stroke-miterlimit=\"10\" stroke-width=\"1.5\"/>\n",
       "<circle cx=\"200.092\" cy=\"87.8904\" fill=\"none\" r=\"4.252\" stroke=\"rgba(64,220,64,0.9412)\" stroke-miterlimit=\"10\" stroke-width=\"1.5\"/>\n",
       "<circle cx=\"185.6203\" cy=\"190.9936\" fill=\"none\" r=\"4.252\" stroke=\"rgba(64,220,64,0.9412)\" stroke-miterlimit=\"10\" stroke-width=\"1.5\"/>\n",
       "<circle cx=\"134.1066\" cy=\"117.5423\" fill=\"none\" r=\"4.252\" stroke=\"rgba(64,220,64,0.9412)\" stroke-miterlimit=\"10\" stroke-width=\"1.5\"/>\n",
       "<circle cx=\"216.4917\" cy=\"113.4889\" fill=\"none\" r=\"4.252\" stroke=\"rgba(64,220,64,0.9412)\" stroke-miterlimit=\"10\" stroke-width=\"1.5\"/>\n",
       "<circle cx=\"20.1343\" cy=\"174.8498\" fill=\"none\" r=\"4.252\" stroke=\"rgba(64,220,64,0.9412)\" stroke-miterlimit=\"10\" stroke-width=\"1.5\"/>\n",
       "<circle cx=\"107.8137\" cy=\"158.3366\" fill=\"none\" r=\"4.252\" stroke=\"rgba(64,220,64,0.9412)\" stroke-miterlimit=\"10\" stroke-width=\"1.5\"/>\n",
       "<circle cx=\"95.151\" cy=\"119.3955\" fill=\"none\" r=\"4.252\" stroke=\"rgba(64,220,64,0.9412)\" stroke-miterlimit=\"10\" stroke-width=\"1.5\"/>\n",
       "<circle cx=\"197.9701\" cy=\"138.1103\" fill=\"none\" r=\"4.252\" stroke=\"rgba(64,220,64,0.9412)\" stroke-miterlimit=\"10\" stroke-width=\"1.5\"/>\n",
       "<circle cx=\"126.7034\" cy=\"171.633\" fill=\"none\" r=\"4.252\" stroke=\"rgba(64,220,64,0.9412)\" stroke-miterlimit=\"10\" stroke-width=\"1.5\"/>\n",
       "<circle cx=\"79.6823\" cy=\"274.2674\" fill=\"none\" r=\"4.252\" stroke=\"rgba(64,220,64,0.9412)\" stroke-miterlimit=\"10\" stroke-width=\"1.5\"/>\n",
       "<circle cx=\"81.313\" cy=\"132.4998\" fill=\"none\" r=\"4.252\" stroke=\"rgba(64,220,64,0.9412)\" stroke-miterlimit=\"10\" stroke-width=\"1.5\"/>\n",
       "<circle cx=\"109.7517\" cy=\"70.0988\" fill=\"none\" r=\"4.252\" stroke=\"rgba(64,220,64,0.9412)\" stroke-miterlimit=\"10\" stroke-width=\"1.5\"/>\n",
       "<circle cx=\"134.8911\" cy=\"103.0517\" fill=\"none\" r=\"4.252\" stroke=\"rgba(64,220,64,0.9412)\" stroke-miterlimit=\"10\" stroke-width=\"1.5\"/>\n",
       "<circle cx=\"201.2193\" cy=\"228.4064\" fill=\"none\" r=\"4.252\" stroke=\"rgba(64,220,64,0.9412)\" stroke-miterlimit=\"10\" stroke-width=\"1.5\"/>\n",
       "<circle cx=\"84.4569\" cy=\"211.2263\" fill=\"none\" r=\"4.252\" stroke=\"rgba(64,220,64,0.9412)\" stroke-miterlimit=\"10\" stroke-width=\"1.5\"/>\n",
       "<circle cx=\"115.4726\" cy=\"89.5422\" fill=\"none\" r=\"4.252\" stroke=\"rgba(64,220,64,0.9412)\" stroke-miterlimit=\"10\" stroke-width=\"1.5\"/>\n",
       "<circle cx=\"120.4276\" cy=\"202.1638\" fill=\"none\" r=\"4.252\" stroke=\"rgba(64,220,64,0.9412)\" stroke-miterlimit=\"10\" stroke-width=\"1.5\"/>\n",
       "<circle cx=\"177.5552\" cy=\"142.3301\" fill=\"none\" r=\"4.252\" stroke=\"rgba(64,220,64,0.9412)\" stroke-miterlimit=\"10\" stroke-width=\"1.5\"/>\n",
       "<circle cx=\"124.1655\" cy=\"92.7503\" fill=\"none\" r=\"4.252\" stroke=\"rgba(64,220,64,0.9412)\" stroke-miterlimit=\"10\" stroke-width=\"1.5\"/>\n",
       "<circle cx=\"111.2759\" cy=\"192.5332\" fill=\"none\" r=\"4.252\" stroke=\"rgba(64,220,64,0.9412)\" stroke-miterlimit=\"10\" stroke-width=\"1.5\"/>\n",
       "<circle cx=\"71.6349\" cy=\"11.2704\" fill=\"none\" r=\"4.252\" stroke=\"rgba(64,220,64,0.9412)\" stroke-miterlimit=\"10\" stroke-width=\"1.5\"/>\n",
       "<circle cx=\"79.8461\" cy=\"120.5306\" fill=\"none\" r=\"4.252\" stroke=\"rgba(64,220,64,0.9412)\" stroke-miterlimit=\"10\" stroke-width=\"1.5\"/>\n",
       "<circle cx=\"35.9461\" cy=\"59.8156\" fill=\"none\" r=\"4.252\" stroke=\"rgba(64,220,64,0.9412)\" stroke-miterlimit=\"10\" stroke-width=\"1.5\"/>\n",
       "<circle cx=\"79.5302\" cy=\"116.7662\" fill=\"none\" r=\"4.252\" stroke=\"rgba(64,220,64,0.9412)\" stroke-miterlimit=\"10\" stroke-width=\"1.5\"/>\n",
       "<circle cx=\"168.862\" cy=\"153.09\" fill=\"none\" r=\"4.252\" stroke=\"rgba(64,220,64,0.9412)\" stroke-miterlimit=\"10\" stroke-width=\"1.5\"/>\n",
       "<circle cx=\"57.931\" cy=\"171.5155\" fill=\"none\" r=\"4.252\" stroke=\"rgba(64,220,64,0.9412)\" stroke-miterlimit=\"10\" stroke-width=\"1.5\"/>\n",
       "<circle cx=\"179.6343\" cy=\"169.7686\" fill=\"none\" r=\"4.252\" stroke=\"rgba(64,220,64,0.9412)\" stroke-miterlimit=\"10\" stroke-width=\"1.5\"/>\n",
       "<circle cx=\"80.7625\" cy=\"202.8594\" fill=\"none\" r=\"4.252\" stroke=\"rgba(64,220,64,0.9412)\" stroke-miterlimit=\"10\" stroke-width=\"1.5\"/>\n",
       "<circle cx=\"199.8231\" cy=\"246.9871\" fill=\"none\" r=\"4.252\" stroke=\"rgba(64,220,64,0.9412)\" stroke-miterlimit=\"10\" stroke-width=\"1.5\"/>\n",
       "<circle cx=\"116.6835\" cy=\"185.2348\" fill=\"none\" r=\"4.252\" stroke=\"rgba(64,220,64,0.9412)\" stroke-miterlimit=\"10\" stroke-width=\"1.5\"/>\n",
       "<circle cx=\"108.9848\" cy=\"88.0018\" fill=\"none\" r=\"4.252\" stroke=\"rgba(64,220,64,0.9412)\" stroke-miterlimit=\"10\" stroke-width=\"1.5\"/>\n",
       "<circle cx=\"166.3516\" cy=\"142.5915\" fill=\"none\" r=\"4.252\" stroke=\"rgba(64,220,64,0.9412)\" stroke-miterlimit=\"10\" stroke-width=\"1.5\"/>\n",
       "<circle cx=\"218.8374\" cy=\"47.9269\" fill=\"none\" r=\"4.252\" stroke=\"rgba(64,220,64,0.9412)\" stroke-miterlimit=\"10\" stroke-width=\"1.5\"/>\n",
       "<circle cx=\"103.8487\" cy=\"224.5853\" fill=\"none\" r=\"4.252\" stroke=\"rgba(64,220,64,0.9412)\" stroke-miterlimit=\"10\" stroke-width=\"1.5\"/>\n",
       "<circle cx=\"118.8254\" cy=\"100.74\" fill=\"none\" r=\"4.252\" stroke=\"rgba(64,220,64,0.9412)\" stroke-miterlimit=\"10\" stroke-width=\"1.5\"/>\n",
       "<circle cx=\"245.6404\" cy=\"156.0943\" fill=\"none\" r=\"4.252\" stroke=\"rgba(64,220,64,0.9412)\" stroke-miterlimit=\"10\" stroke-width=\"1.5\"/>\n",
       "<circle cx=\"65.3124\" cy=\"112.4832\" fill=\"none\" r=\"4.252\" stroke=\"rgba(64,220,64,0.9412)\" stroke-miterlimit=\"10\" stroke-width=\"1.5\"/>\n",
       "<circle cx=\"153.7315\" cy=\"39.7208\" fill=\"none\" r=\"4.252\" stroke=\"rgba(64,220,64,0.9412)\" stroke-miterlimit=\"10\" stroke-width=\"1.5\"/>\n",
       "<circle cx=\"192.662\" cy=\"227.0473\" fill=\"none\" r=\"4.252\" stroke=\"rgba(64,220,64,0.9412)\" stroke-miterlimit=\"10\" stroke-width=\"1.5\"/>\n",
       "<circle cx=\"229.4193\" cy=\"143.9763\" fill=\"none\" r=\"4.252\" stroke=\"rgba(64,220,64,0.9412)\" stroke-miterlimit=\"10\" stroke-width=\"1.5\"/>\n",
       "<circle cx=\"215.5944\" cy=\"110.6945\" fill=\"none\" r=\"4.252\" stroke=\"rgba(64,220,64,0.9412)\" stroke-miterlimit=\"10\" stroke-width=\"1.5\"/>\n",
       "<circle cx=\"32.5989\" cy=\"121.1598\" fill=\"none\" r=\"4.252\" stroke=\"rgba(64,220,64,0.9412)\" stroke-miterlimit=\"10\" stroke-width=\"1.5\"/>\n",
       "<circle cx=\"240.454\" cy=\"171.0512\" fill=\"none\" r=\"4.252\" stroke=\"rgba(64,220,64,0.9412)\" stroke-miterlimit=\"10\" stroke-width=\"1.5\"/>\n",
       "<circle cx=\"215.7972\" cy=\"162.5038\" fill=\"none\" r=\"4.252\" stroke=\"rgba(64,220,64,0.9412)\" stroke-miterlimit=\"10\" stroke-width=\"1.5\"/>\n",
       "<circle cx=\"123.8149\" cy=\"53.3916\" fill=\"none\" r=\"4.252\" stroke=\"rgba(64,220,64,0.9412)\" stroke-miterlimit=\"10\" stroke-width=\"1.5\"/>\n",
       "<circle cx=\"181.9651\" cy=\"169.0749\" fill=\"none\" r=\"4.252\" stroke=\"rgba(64,220,64,0.9412)\" stroke-miterlimit=\"10\" stroke-width=\"1.5\"/>\n",
       "<circle cx=\"109.5102\" cy=\"167.0834\" fill=\"none\" r=\"4.252\" stroke=\"rgba(64,220,64,0.9412)\" stroke-miterlimit=\"10\" stroke-width=\"1.5\"/>\n",
       "<circle cx=\"170.0175\" cy=\"120.5987\" fill=\"none\" r=\"4.252\" stroke=\"rgba(64,220,64,0.9412)\" stroke-miterlimit=\"10\" stroke-width=\"1.5\"/>\n",
       "<circle cx=\"230.1492\" cy=\"95.8031\" fill=\"none\" r=\"4.252\" stroke=\"rgba(64,220,64,0.9412)\" stroke-miterlimit=\"10\" stroke-width=\"1.5\"/>\n",
       "<circle cx=\"123.434\" cy=\"193.5301\" fill=\"none\" r=\"4.252\" stroke=\"rgba(64,220,64,0.9412)\" stroke-miterlimit=\"10\" stroke-width=\"1.5\"/>\n",
       "<circle cx=\"170.6655\" cy=\"180.8421\" fill=\"none\" r=\"4.252\" stroke=\"rgba(64,220,64,0.9412)\" stroke-miterlimit=\"10\" stroke-width=\"1.5\"/>\n",
       "<circle cx=\"150.7467\" cy=\"199.0623\" fill=\"none\" r=\"4.252\" stroke=\"rgba(64,220,64,0.9412)\" stroke-miterlimit=\"10\" stroke-width=\"1.5\"/>\n",
       "<circle cx=\"211.6725\" cy=\"102.6687\" fill=\"none\" r=\"4.252\" stroke=\"rgba(64,220,64,0.9412)\" stroke-miterlimit=\"10\" stroke-width=\"1.5\"/>\n",
       "<circle cx=\"203.7399\" cy=\"133.0014\" fill=\"none\" r=\"4.252\" stroke=\"rgba(64,220,64,0.9412)\" stroke-miterlimit=\"10\" stroke-width=\"1.5\"/>\n",
       "<circle cx=\"137.3431\" cy=\"44.8806\" fill=\"none\" r=\"4.252\" stroke=\"rgba(64,220,64,0.9412)\" stroke-miterlimit=\"10\" stroke-width=\"1.5\"/>\n",
       "<circle cx=\"123.5905\" cy=\"207.3937\" fill=\"none\" r=\"4.252\" stroke=\"rgba(64,220,64,0.9412)\" stroke-miterlimit=\"10\" stroke-width=\"1.5\"/>\n",
       "<circle cx=\"55.0037\" cy=\"211.1244\" fill=\"none\" r=\"4.252\" stroke=\"rgba(64,220,64,0.9412)\" stroke-miterlimit=\"10\" stroke-width=\"1.5\"/>\n",
       "<circle cx=\"105.8481\" cy=\"148.808\" fill=\"none\" r=\"4.252\" stroke=\"rgba(64,220,64,0.9412)\" stroke-miterlimit=\"10\" stroke-width=\"1.5\"/>\n",
       "<circle cx=\"236.6699\" cy=\"233.0999\" fill=\"none\" r=\"4.252\" stroke=\"rgba(64,220,64,0.9412)\" stroke-miterlimit=\"10\" stroke-width=\"1.5\"/>\n",
       "<circle cx=\"189.7034\" cy=\"132.3962\" fill=\"none\" r=\"4.252\" stroke=\"rgba(64,220,64,0.9412)\" stroke-miterlimit=\"10\" stroke-width=\"1.5\"/>\n",
       "<circle cx=\"169.8029\" cy=\"29.5751\" fill=\"none\" r=\"4.252\" stroke=\"rgba(64,220,64,0.9412)\" stroke-miterlimit=\"10\" stroke-width=\"1.5\"/>\n",
       "<circle cx=\"177.7005\" cy=\"201.7139\" fill=\"none\" r=\"4.252\" stroke=\"rgba(64,220,64,0.9412)\" stroke-miterlimit=\"10\" stroke-width=\"1.5\"/>\n",
       "<circle cx=\"177.3168\" cy=\"217.4733\" fill=\"none\" r=\"4.252\" stroke=\"rgba(64,220,64,0.9412)\" stroke-miterlimit=\"10\" stroke-width=\"1.5\"/>\n",
       "<circle cx=\"133.2604\" cy=\"129.2063\" fill=\"none\" r=\"4.252\" stroke=\"rgba(64,220,64,0.9412)\" stroke-miterlimit=\"10\" stroke-width=\"1.5\"/>\n",
       "<circle cx=\"158.7386\" cy=\"91.2143\" fill=\"none\" r=\"4.252\" stroke=\"rgba(64,220,64,0.9412)\" stroke-miterlimit=\"10\" stroke-width=\"1.5\"/>\n",
       "<circle cx=\"232.6921\" cy=\"105.6366\" fill=\"none\" r=\"4.252\" stroke=\"rgba(64,220,64,0.9412)\" stroke-miterlimit=\"10\" stroke-width=\"1.5\"/>\n",
       "<circle cx=\"75.6879\" cy=\"174.8207\" fill=\"none\" r=\"4.252\" stroke=\"rgba(64,220,64,0.9412)\" stroke-miterlimit=\"10\" stroke-width=\"1.5\"/>\n",
       "<circle cx=\"118.626\" cy=\"68.3242\" fill=\"none\" r=\"4.252\" stroke=\"rgba(64,220,64,0.9412)\" stroke-miterlimit=\"10\" stroke-width=\"1.5\"/>\n",
       "<circle cx=\"93.605\" cy=\"101.2916\" fill=\"none\" r=\"4.252\" stroke=\"rgba(64,220,64,0.9412)\" stroke-miterlimit=\"10\" stroke-width=\"1.5\"/>\n",
       "<circle cx=\"176.4017\" cy=\"119.9687\" fill=\"none\" r=\"4.252\" stroke=\"rgba(64,220,64,0.9412)\" stroke-miterlimit=\"10\" stroke-width=\"1.5\"/>\n",
       "<circle cx=\"90.1915\" cy=\"92.1357\" fill=\"none\" r=\"4.252\" stroke=\"rgba(64,220,64,0.9412)\" stroke-miterlimit=\"10\" stroke-width=\"1.5\"/>\n",
       "<circle cx=\"-21.1975\" cy=\"175.0197\" fill=\"none\" r=\"4.252\" stroke=\"rgba(64,220,64,0.9412)\" stroke-miterlimit=\"10\" stroke-width=\"1.5\"/>\n",
       "<circle cx=\"181.9852\" cy=\"186.3825\" fill=\"none\" r=\"4.252\" stroke=\"rgba(64,220,64,0.9412)\" stroke-miterlimit=\"10\" stroke-width=\"1.5\"/>\n",
       "<circle cx=\"108.6558\" cy=\"190.9934\" fill=\"none\" r=\"4.252\" stroke=\"rgba(64,220,64,0.9412)\" stroke-miterlimit=\"10\" stroke-width=\"1.5\"/>\n",
       "<circle cx=\"173.496\" cy=\"105.3063\" fill=\"none\" r=\"4.252\" stroke=\"rgba(64,220,64,0.9412)\" stroke-miterlimit=\"10\" stroke-width=\"1.5\"/>\n",
       "<circle cx=\"156.3046\" cy=\"189.3822\" fill=\"none\" r=\"4.252\" stroke=\"rgba(64,220,64,0.9412)\" stroke-miterlimit=\"10\" stroke-width=\"1.5\"/>\n",
       "<circle cx=\"172.2029\" cy=\"96.6687\" fill=\"none\" r=\"4.252\" stroke=\"rgba(64,220,64,0.9412)\" stroke-miterlimit=\"10\" stroke-width=\"1.5\"/>\n",
       "<circle cx=\"105.9112\" cy=\"192.9024\" fill=\"none\" r=\"4.252\" stroke=\"rgba(64,220,64,0.9412)\" stroke-miterlimit=\"10\" stroke-width=\"1.5\"/>\n",
       "<circle cx=\"16.0807\" cy=\"178.5516\" fill=\"none\" r=\"4.252\" stroke=\"rgba(64,220,64,0.9412)\" stroke-miterlimit=\"10\" stroke-width=\"1.5\"/>\n",
       "<circle cx=\"166.3059\" cy=\"86.146\" fill=\"none\" r=\"4.252\" stroke=\"rgba(64,220,64,0.9412)\" stroke-miterlimit=\"10\" stroke-width=\"1.5\"/>\n",
       "<circle cx=\"202.7229\" cy=\"132.1431\" fill=\"none\" r=\"4.252\" stroke=\"rgba(64,220,64,0.9412)\" stroke-miterlimit=\"10\" stroke-width=\"1.5\"/>\n",
       "<circle cx=\"66.7092\" cy=\"144.9853\" fill=\"none\" r=\"4.252\" stroke=\"rgba(64,220,64,0.9412)\" stroke-miterlimit=\"10\" stroke-width=\"1.5\"/>\n",
       "<circle cx=\"128.7991\" cy=\"66.077\" fill=\"none\" r=\"4.252\" stroke=\"rgba(64,220,64,0.9412)\" stroke-miterlimit=\"10\" stroke-width=\"1.5\"/>\n",
       "<circle cx=\"78.9175\" cy=\"73.4008\" fill=\"none\" r=\"4.252\" stroke=\"rgba(64,220,64,0.9412)\" stroke-miterlimit=\"10\" stroke-width=\"1.5\"/>\n",
       "<circle cx=\"141.0626\" cy=\"81.2162\" fill=\"none\" r=\"4.252\" stroke=\"rgba(64,220,64,0.9412)\" stroke-miterlimit=\"10\" stroke-width=\"1.5\"/>\n",
       "<circle cx=\"62.2413\" cy=\"94.1233\" fill=\"none\" r=\"4.252\" stroke=\"rgba(64,220,64,0.9412)\" stroke-miterlimit=\"10\" stroke-width=\"1.5\"/>\n",
       "<circle cx=\"170.6133\" cy=\"197.0632\" fill=\"none\" r=\"4.252\" stroke=\"rgba(64,220,64,0.9412)\" stroke-miterlimit=\"10\" stroke-width=\"1.5\"/>\n",
       "<circle cx=\"139.698\" cy=\"233.7484\" fill=\"none\" r=\"4.252\" stroke=\"rgba(64,220,64,0.9412)\" stroke-miterlimit=\"10\" stroke-width=\"1.5\"/>\n",
       "<circle cx=\"142.5495\" cy=\"108.2427\" fill=\"none\" r=\"4.252\" stroke=\"rgba(64,220,64,0.9412)\" stroke-miterlimit=\"10\" stroke-width=\"1.5\"/>\n",
       "<circle cx=\"229.8115\" cy=\"185.2799\" fill=\"none\" r=\"4.252\" stroke=\"rgba(64,220,64,0.9412)\" stroke-miterlimit=\"10\" stroke-width=\"1.5\"/>\n",
       "<circle cx=\"205.8293\" cy=\"211.1509\" fill=\"none\" r=\"4.252\" stroke=\"rgba(64,220,64,0.9412)\" stroke-miterlimit=\"10\" stroke-width=\"1.5\"/>\n",
       "<circle cx=\"96.6494\" cy=\"193.7024\" fill=\"none\" r=\"4.252\" stroke=\"rgba(64,220,64,0.9412)\" stroke-miterlimit=\"10\" stroke-width=\"1.5\"/>\n",
       "<circle cx=\"165.6758\" cy=\"130.7821\" fill=\"none\" r=\"4.252\" stroke=\"rgba(64,220,64,0.9412)\" stroke-miterlimit=\"10\" stroke-width=\"1.5\"/>\n",
       "<circle cx=\"54.5706\" cy=\"150.146\" fill=\"none\" r=\"4.252\" stroke=\"rgba(64,220,64,0.9412)\" stroke-miterlimit=\"10\" stroke-width=\"1.5\"/>\n",
       "<circle cx=\"97.5476\" cy=\"75.1382\" fill=\"none\" r=\"4.252\" stroke=\"rgba(64,220,64,0.9412)\" stroke-miterlimit=\"10\" stroke-width=\"1.5\"/>\n",
       "<circle cx=\"102.6111\" cy=\"45.8123\" fill=\"none\" r=\"4.252\" stroke=\"rgba(64,220,64,0.9412)\" stroke-miterlimit=\"10\" stroke-width=\"1.5\"/>\n",
       "<circle cx=\"95.1832\" cy=\"111.3497\" fill=\"none\" r=\"4.252\" stroke=\"rgba(64,220,64,0.9412)\" stroke-miterlimit=\"10\" stroke-width=\"1.5\"/>\n",
       "<circle cx=\"172.5203\" cy=\"124.9284\" fill=\"none\" r=\"4.252\" stroke=\"rgba(64,220,64,0.9412)\" stroke-miterlimit=\"10\" stroke-width=\"1.5\"/>\n",
       "<circle cx=\"102.3695\" cy=\"168.7987\" fill=\"none\" r=\"4.252\" stroke=\"rgba(64,220,64,0.9412)\" stroke-miterlimit=\"10\" stroke-width=\"1.5\"/>\n",
       "<circle cx=\"190.1297\" cy=\"175.1268\" fill=\"none\" r=\"4.252\" stroke=\"rgba(64,220,64,0.9412)\" stroke-miterlimit=\"10\" stroke-width=\"1.5\"/>\n",
       "<circle cx=\"54.1077\" cy=\"63.6756\" fill=\"none\" r=\"4.252\" stroke=\"rgba(64,220,64,0.9412)\" stroke-miterlimit=\"10\" stroke-width=\"1.5\"/>\n",
       "<circle cx=\"93.6781\" cy=\"117.5756\" fill=\"none\" r=\"4.252\" stroke=\"rgba(64,220,64,0.9412)\" stroke-miterlimit=\"10\" stroke-width=\"1.5\"/>\n",
       "<circle cx=\"166.3666\" cy=\"107.8687\" fill=\"none\" r=\"4.252\" stroke=\"rgba(64,220,64,0.9412)\" stroke-miterlimit=\"10\" stroke-width=\"1.5\"/>\n",
       "<circle cx=\"-5.9046\" cy=\"123.6519\" fill=\"none\" r=\"4.252\" stroke=\"rgba(64,220,64,0.9412)\" stroke-miterlimit=\"10\" stroke-width=\"1.5\"/>\n",
       "<circle cx=\"135.7718\" cy=\"130.1716\" fill=\"none\" r=\"4.252\" stroke=\"rgba(64,220,64,0.9412)\" stroke-miterlimit=\"10\" stroke-width=\"1.5\"/>\n",
       "<circle cx=\"156.6551\" cy=\"116.3921\" fill=\"none\" r=\"4.252\" stroke=\"rgba(64,220,64,0.9412)\" stroke-miterlimit=\"10\" stroke-width=\"1.5\"/>\n",
       "<circle cx=\"233.4775\" cy=\"109.4163\" fill=\"none\" r=\"4.252\" stroke=\"rgba(64,220,64,0.9412)\" stroke-miterlimit=\"10\" stroke-width=\"1.5\"/>\n",
       "<circle cx=\"121.4081\" cy=\"144.9068\" fill=\"none\" r=\"4.252\" stroke=\"rgba(64,220,64,0.9412)\" stroke-miterlimit=\"10\" stroke-width=\"1.5\"/>\n",
       "<circle cx=\"163.4208\" cy=\"196.8161\" fill=\"none\" r=\"4.252\" stroke=\"rgba(64,220,64,0.9412)\" stroke-miterlimit=\"10\" stroke-width=\"1.5\"/>\n",
       "<circle cx=\"88.1668\" cy=\"82.9747\" fill=\"none\" r=\"4.252\" stroke=\"rgba(64,220,64,0.9412)\" stroke-miterlimit=\"10\" stroke-width=\"1.5\"/>\n",
       "<circle cx=\"54.9046\" cy=\"241.0942\" fill=\"none\" r=\"4.252\" stroke=\"rgba(64,220,64,0.9412)\" stroke-miterlimit=\"10\" stroke-width=\"1.5\"/>\n",
       "<circle cx=\"58.113\" cy=\"179.9902\" fill=\"none\" r=\"4.252\" stroke=\"rgba(64,220,64,0.9412)\" stroke-miterlimit=\"10\" stroke-width=\"1.5\"/>\n",
       "<circle cx=\"136.7984\" cy=\"193.9912\" fill=\"none\" r=\"4.252\" stroke=\"rgba(64,220,64,0.9412)\" stroke-miterlimit=\"10\" stroke-width=\"1.5\"/>\n",
       "<circle cx=\"167.0193\" cy=\"21.1691\" fill=\"none\" r=\"4.252\" stroke=\"rgba(64,220,64,0.9412)\" stroke-miterlimit=\"10\" stroke-width=\"1.5\"/>\n",
       "<circle cx=\"136.9952\" cy=\"157.8071\" fill=\"none\" r=\"4.252\" stroke=\"rgba(64,220,64,0.9412)\" stroke-miterlimit=\"10\" stroke-width=\"1.5\"/>\n",
       "<circle cx=\"132.2945\" cy=\"109.2451\" fill=\"none\" r=\"4.252\" stroke=\"rgba(64,220,64,0.9412)\" stroke-miterlimit=\"10\" stroke-width=\"1.5\"/>\n",
       "<circle cx=\"68.9595\" cy=\"194.8956\" fill=\"none\" r=\"4.252\" stroke=\"rgba(64,220,64,0.9412)\" stroke-miterlimit=\"10\" stroke-width=\"1.5\"/>\n",
       "<circle cx=\"94.8395\" cy=\"70.0726\" fill=\"none\" r=\"4.252\" stroke=\"rgba(64,220,64,0.9412)\" stroke-miterlimit=\"10\" stroke-width=\"1.5\"/>\n",
       "<circle cx=\"166.1305\" cy=\"81.5572\" fill=\"none\" r=\"4.252\" stroke=\"rgba(64,220,64,0.9412)\" stroke-miterlimit=\"10\" stroke-width=\"1.5\"/>\n",
       "<circle cx=\"216.6848\" cy=\"172.5738\" fill=\"none\" r=\"4.252\" stroke=\"rgba(64,220,64,0.9412)\" stroke-miterlimit=\"10\" stroke-width=\"1.5\"/>\n",
       "<circle cx=\"119.9511\" cy=\"152.6197\" fill=\"none\" r=\"4.252\" stroke=\"rgba(64,220,64,0.9412)\" stroke-miterlimit=\"10\" stroke-width=\"1.5\"/>\n",
       "<circle cx=\"140.8131\" cy=\"148.6802\" fill=\"none\" r=\"4.252\" stroke=\"rgba(64,220,64,0.9412)\" stroke-miterlimit=\"10\" stroke-width=\"1.5\"/>\n",
       "<circle cx=\"236.1151\" cy=\"164.5787\" fill=\"none\" r=\"4.252\" stroke=\"rgba(64,220,64,0.9412)\" stroke-miterlimit=\"10\" stroke-width=\"1.5\"/>\n",
       "<circle cx=\"133.3625\" cy=\"176.6555\" fill=\"none\" r=\"4.252\" stroke=\"rgba(64,220,64,0.9412)\" stroke-miterlimit=\"10\" stroke-width=\"1.5\"/>\n",
       "<circle cx=\"139.3111\" cy=\"115.6686\" fill=\"none\" r=\"4.252\" stroke=\"rgba(64,220,64,0.9412)\" stroke-miterlimit=\"10\" stroke-width=\"1.5\"/>\n",
       "<circle cx=\"27.0966\" cy=\"233.2599\" fill=\"none\" r=\"4.252\" stroke=\"rgba(64,220,64,0.9412)\" stroke-miterlimit=\"10\" stroke-width=\"1.5\"/>\n",
       "<circle cx=\"228.9561\" cy=\"137.1642\" fill=\"none\" r=\"4.252\" stroke=\"rgba(64,220,64,0.9412)\" stroke-miterlimit=\"10\" stroke-width=\"1.5\"/>\n",
       "<circle cx=\"57.6811\" cy=\"171.5369\" fill=\"none\" r=\"4.252\" stroke=\"rgba(64,220,64,0.9412)\" stroke-miterlimit=\"10\" stroke-width=\"1.5\"/>\n",
       "<circle cx=\"89.8602\" cy=\"181.6841\" fill=\"none\" r=\"4.252\" stroke=\"rgba(64,220,64,0.9412)\" stroke-miterlimit=\"10\" stroke-width=\"1.5\"/>\n",
       "<circle cx=\"211.7251\" cy=\"114.8993\" fill=\"none\" r=\"4.252\" stroke=\"rgba(64,220,64,0.9412)\" stroke-miterlimit=\"10\" stroke-width=\"1.5\"/>\n",
       "<circle cx=\"211.0167\" cy=\"190.7792\" fill=\"none\" r=\"4.252\" stroke=\"rgba(64,220,64,0.9412)\" stroke-miterlimit=\"10\" stroke-width=\"1.5\"/>\n",
       "<circle cx=\"147.0318\" cy=\"205.8972\" fill=\"none\" r=\"4.252\" stroke=\"rgba(64,220,64,0.9412)\" stroke-miterlimit=\"10\" stroke-width=\"1.5\"/>\n",
       "<circle cx=\"196.2183\" cy=\"165.7704\" fill=\"none\" r=\"4.252\" stroke=\"rgba(64,220,64,0.9412)\" stroke-miterlimit=\"10\" stroke-width=\"1.5\"/>\n",
       "<circle cx=\"173.3918\" cy=\"137.8141\" fill=\"none\" r=\"4.252\" stroke=\"rgba(64,220,64,0.9412)\" stroke-miterlimit=\"10\" stroke-width=\"1.5\"/>\n",
       "<circle cx=\"26.4972\" cy=\"76.0082\" fill=\"none\" r=\"4.252\" stroke=\"rgba(64,220,64,0.9412)\" stroke-miterlimit=\"10\" stroke-width=\"1.5\"/>\n",
       "<circle cx=\"179.5748\" cy=\"237.7204\" fill=\"none\" r=\"4.252\" stroke=\"rgba(64,220,64,0.9412)\" stroke-miterlimit=\"10\" stroke-width=\"1.5\"/>\n",
       "<circle cx=\"117.8689\" cy=\"185.3953\" fill=\"none\" r=\"4.252\" stroke=\"rgba(64,220,64,0.9412)\" stroke-miterlimit=\"10\" stroke-width=\"1.5\"/>\n",
       "<circle cx=\"170.8854\" cy=\"166.4445\" fill=\"none\" r=\"4.252\" stroke=\"rgba(64,220,64,0.9412)\" stroke-miterlimit=\"10\" stroke-width=\"1.5\"/>\n",
       "<circle cx=\"190.8773\" cy=\"165.7097\" fill=\"none\" r=\"4.252\" stroke=\"rgba(64,220,64,0.9412)\" stroke-miterlimit=\"10\" stroke-width=\"1.5\"/>\n",
       "<circle cx=\"98.7009\" cy=\"133.8371\" fill=\"none\" r=\"4.252\" stroke=\"rgba(64,220,64,0.9412)\" stroke-miterlimit=\"10\" stroke-width=\"1.5\"/>\n",
       "<circle cx=\"138.5956\" cy=\"177.854\" fill=\"none\" r=\"4.252\" stroke=\"rgba(64,220,64,0.9412)\" stroke-miterlimit=\"10\" stroke-width=\"1.5\"/>\n",
       "<circle cx=\"113.1082\" cy=\"111.5883\" fill=\"none\" r=\"4.252\" stroke=\"rgba(64,220,64,0.9412)\" stroke-miterlimit=\"10\" stroke-width=\"1.5\"/>\n",
       "<circle cx=\"133.4494\" cy=\"161.9109\" fill=\"none\" r=\"4.252\" stroke=\"rgba(64,220,64,0.9412)\" stroke-miterlimit=\"10\" stroke-width=\"1.5\"/>\n",
       "<circle cx=\"213.8666\" cy=\"48.1792\" fill=\"none\" r=\"4.252\" stroke=\"rgba(64,220,64,0.9412)\" stroke-miterlimit=\"10\" stroke-width=\"1.5\"/>\n",
       "<circle cx=\"202.399\" cy=\"165.6556\" fill=\"none\" r=\"4.252\" stroke=\"rgba(64,220,64,0.9412)\" stroke-miterlimit=\"10\" stroke-width=\"1.5\"/>\n",
       "<circle cx=\"205.1966\" cy=\"89.7379\" fill=\"none\" r=\"4.252\" stroke=\"rgba(64,220,64,0.9412)\" stroke-miterlimit=\"10\" stroke-width=\"1.5\"/>\n",
       "<circle cx=\"137.3899\" cy=\"172.9253\" fill=\"none\" r=\"4.252\" stroke=\"rgba(64,220,64,0.9412)\" stroke-miterlimit=\"10\" stroke-width=\"1.5\"/>\n",
       "<circle cx=\"160.3665\" cy=\"137.8847\" fill=\"none\" r=\"4.252\" stroke=\"rgba(64,220,64,0.9412)\" stroke-miterlimit=\"10\" stroke-width=\"1.5\"/>\n",
       "<circle cx=\"129.2822\" cy=\"209.5927\" fill=\"none\" r=\"5.6693\" stroke=\"rgba(0,128,255,0.9412)\" stroke-miterlimit=\"10\" stroke-width=\"2\"/>\n",
       "<circle cx=\"120.1436\" cy=\"174.346\" fill=\"none\" r=\"5.6693\" stroke=\"rgba(0,128,255,0.9412)\" stroke-miterlimit=\"10\" stroke-width=\"2\"/>\n",
       "<circle cx=\"165.9516\" cy=\"110.6983\" fill=\"none\" r=\"5.6693\" stroke=\"rgba(0,128,255,0.9412)\" stroke-miterlimit=\"10\" stroke-width=\"2\"/>\n",
       "<circle cx=\"217.3923\" cy=\"59.2828\" fill=\"none\" r=\"5.6693\" stroke=\"rgba(0,128,255,0.9412)\" stroke-miterlimit=\"10\" stroke-width=\"2\"/>\n",
       "<circle cx=\"147.5003\" cy=\"101.5081\" fill=\"none\" r=\"5.6693\" stroke=\"rgba(0,128,255,0.9412)\" stroke-miterlimit=\"10\" stroke-width=\"2\"/>\n",
       "<circle cx=\"173.2477\" cy=\"218.2496\" fill=\"none\" r=\"5.6693\" stroke=\"rgba(0,128,255,0.9412)\" stroke-miterlimit=\"10\" stroke-width=\"2\"/>\n",
       "<circle cx=\"209.4066\" cy=\"158.1659\" fill=\"none\" r=\"5.6693\" stroke=\"rgba(0,128,255,0.9412)\" stroke-miterlimit=\"10\" stroke-width=\"2\"/>\n",
       "<circle cx=\"90.9014\" cy=\"127.3332\" fill=\"none\" r=\"5.6693\" stroke=\"rgba(0,128,255,0.9412)\" stroke-miterlimit=\"10\" stroke-width=\"2\"/>\n",
       "<circle cx=\"184.9191\" cy=\"148.3704\" fill=\"none\" r=\"5.6693\" stroke=\"rgba(0,128,255,0.9412)\" stroke-miterlimit=\"10\" stroke-width=\"2\"/>\n",
       "<circle cx=\"157.6031\" cy=\"101.7622\" fill=\"none\" r=\"5.6693\" stroke=\"rgba(0,128,255,0.9412)\" stroke-miterlimit=\"10\" stroke-width=\"2\"/>\n",
       "<circle cx=\"81.8104\" cy=\"184.1901\" fill=\"none\" r=\"5.6693\" stroke=\"rgba(0,128,255,0.9412)\" stroke-miterlimit=\"10\" stroke-width=\"2\"/>\n",
       "<circle cx=\"71.5364\" cy=\"213.4075\" fill=\"none\" r=\"5.6693\" stroke=\"rgba(0,128,255,0.9412)\" stroke-miterlimit=\"10\" stroke-width=\"2\"/>\n",
       "<circle cx=\"124.7792\" cy=\"125.3106\" fill=\"none\" r=\"5.6693\" stroke=\"rgba(0,128,255,0.9412)\" stroke-miterlimit=\"10\" stroke-width=\"2\"/>\n",
       "<circle cx=\"158.8532\" cy=\"222.242\" fill=\"none\" r=\"5.6693\" stroke=\"rgba(0,128,255,0.9412)\" stroke-miterlimit=\"10\" stroke-width=\"2\"/>\n",
       "<circle cx=\"131.8772\" cy=\"99.8185\" fill=\"none\" r=\"5.6693\" stroke=\"rgba(0,128,255,0.9412)\" stroke-miterlimit=\"10\" stroke-width=\"2\"/>\n",
       "<circle cx=\"90.1795\" cy=\"110.5509\" fill=\"none\" r=\"5.6693\" stroke=\"rgba(0,128,255,0.9412)\" stroke-miterlimit=\"10\" stroke-width=\"2\"/>\n",
       "<circle cx=\"62.1605\" cy=\"107.2803\" fill=\"none\" r=\"5.6693\" stroke=\"rgba(0,128,255,0.9412)\" stroke-miterlimit=\"10\" stroke-width=\"2\"/>\n",
       "<circle cx=\"129.3023\" cy=\"158.9224\" fill=\"none\" r=\"5.6693\" stroke=\"rgba(0,128,255,0.9412)\" stroke-miterlimit=\"10\" stroke-width=\"2\"/>\n",
       "<circle cx=\"133.4364\" cy=\"143.8342\" fill=\"none\" r=\"5.6693\" stroke=\"rgba(0,128,255,0.9412)\" stroke-miterlimit=\"10\" stroke-width=\"2\"/>\n",
       "<circle cx=\"127.6719\" cy=\"159.1488\" fill=\"none\" r=\"5.6693\" stroke=\"rgba(0,128,255,0.9412)\" stroke-miterlimit=\"10\" stroke-width=\"2\"/>\n",
       "<circle cx=\"164.6962\" cy=\"187.6136\" fill=\"none\" r=\"5.6693\" stroke=\"rgba(0,128,255,0.9412)\" stroke-miterlimit=\"10\" stroke-width=\"2\"/>\n",
       "<circle cx=\"79.4494\" cy=\"78.7111\" fill=\"none\" r=\"5.6693\" stroke=\"rgba(0,128,255,0.9412)\" stroke-miterlimit=\"10\" stroke-width=\"2\"/>\n",
       "<circle cx=\"173.1459\" cy=\"65.8641\" fill=\"none\" r=\"5.6693\" stroke=\"rgba(0,128,255,0.9412)\" stroke-miterlimit=\"10\" stroke-width=\"2\"/>\n",
       "<circle cx=\"159.3795\" cy=\"161.6098\" fill=\"none\" r=\"5.6693\" stroke=\"rgba(0,128,255,0.9412)\" stroke-miterlimit=\"10\" stroke-width=\"2\"/>\n",
       "<circle cx=\"136.5003\" cy=\"91.3317\" fill=\"none\" r=\"5.6693\" stroke=\"rgba(0,128,255,0.9412)\" stroke-miterlimit=\"10\" stroke-width=\"2\"/>\n",
       "<circle cx=\"126.7315\" cy=\"172.4519\" fill=\"none\" r=\"5.6693\" stroke=\"rgba(0,128,255,0.9412)\" stroke-miterlimit=\"10\" stroke-width=\"2\"/>\n",
       "<circle cx=\"98.5774\" cy=\"159.3893\" fill=\"none\" r=\"5.6693\" stroke=\"rgba(0,128,255,0.9412)\" stroke-miterlimit=\"10\" stroke-width=\"2\"/>\n",
       "<circle cx=\"125.1908\" cy=\"135.6357\" fill=\"none\" r=\"5.6693\" stroke=\"rgba(0,128,255,0.9412)\" stroke-miterlimit=\"10\" stroke-width=\"2\"/>\n",
       "<circle cx=\"223.4532\" cy=\"179.7454\" fill=\"none\" r=\"5.6693\" stroke=\"rgba(0,128,255,0.9412)\" stroke-miterlimit=\"10\" stroke-width=\"2\"/>\n",
       "<circle cx=\"95.3691\" cy=\"133.5989\" fill=\"none\" r=\"5.6693\" stroke=\"rgba(0,128,255,0.9412)\" stroke-miterlimit=\"10\" stroke-width=\"2\"/>\n",
       "<circle cx=\"193.8656\" cy=\"205.1095\" fill=\"none\" r=\"5.6693\" stroke=\"rgba(0,128,255,0.9412)\" stroke-miterlimit=\"10\" stroke-width=\"2\"/>\n",
       "<circle cx=\"181.2264\" cy=\"99.5681\" fill=\"none\" r=\"5.6693\" stroke=\"rgba(0,128,255,0.9412)\" stroke-miterlimit=\"10\" stroke-width=\"2\"/>\n",
       "<circle cx=\"206.0927\" cy=\"186.3576\" fill=\"none\" r=\"5.6693\" stroke=\"rgba(0,128,255,0.9412)\" stroke-miterlimit=\"10\" stroke-width=\"2\"/>\n",
       "<circle cx=\"107.8134\" cy=\"127.8988\" fill=\"none\" r=\"5.6693\" stroke=\"rgba(0,128,255,0.9412)\" stroke-miterlimit=\"10\" stroke-width=\"2\"/>\n",
       "<circle cx=\"158.2784\" cy=\"127.039\" fill=\"none\" r=\"5.6693\" stroke=\"rgba(0,128,255,0.9412)\" stroke-miterlimit=\"10\" stroke-width=\"2\"/>\n",
       "<circle cx=\"205.9568\" cy=\"219.7876\" fill=\"none\" r=\"5.6693\" stroke=\"rgba(0,128,255,0.9412)\" stroke-miterlimit=\"10\" stroke-width=\"2\"/>\n",
       "<circle cx=\"197.3502\" cy=\"180.1606\" fill=\"none\" r=\"5.6693\" stroke=\"rgba(0,128,255,0.9412)\" stroke-miterlimit=\"10\" stroke-width=\"2\"/>\n",
       "<circle cx=\"180.4466\" cy=\"168.9224\" fill=\"none\" r=\"5.6693\" stroke=\"rgba(0,128,255,0.9412)\" stroke-miterlimit=\"10\" stroke-width=\"2\"/>\n",
       "<circle cx=\"147.4783\" cy=\"184.8915\" fill=\"none\" r=\"5.6693\" stroke=\"rgba(0,128,255,0.9412)\" stroke-miterlimit=\"10\" stroke-width=\"2\"/>\n",
       "<circle cx=\"156.7577\" cy=\"57.8744\" fill=\"none\" r=\"5.6693\" stroke=\"rgba(0,128,255,0.9412)\" stroke-miterlimit=\"10\" stroke-width=\"2\"/>\n",
       "<circle cx=\"116.3305\" cy=\"157.3425\" fill=\"none\" r=\"5.6693\" stroke=\"rgba(0,128,255,0.9412)\" stroke-miterlimit=\"10\" stroke-width=\"2\"/>\n",
       "<circle cx=\"126.5226\" cy=\"131.4749\" fill=\"none\" r=\"5.6693\" stroke=\"rgba(0,128,255,0.9412)\" stroke-miterlimit=\"10\" stroke-width=\"2\"/>\n",
       "<circle cx=\"135.5141\" cy=\"85.583\" fill=\"none\" r=\"5.6693\" stroke=\"rgba(0,128,255,0.9412)\" stroke-miterlimit=\"10\" stroke-width=\"2\"/>\n",
       "<circle cx=\"165.1285\" cy=\"109.012\" fill=\"none\" r=\"5.6693\" stroke=\"rgba(0,128,255,0.9412)\" stroke-miterlimit=\"10\" stroke-width=\"2\"/>\n",
       "<circle cx=\"129.9024\" cy=\"160.0559\" fill=\"none\" r=\"5.6693\" stroke=\"rgba(0,128,255,0.9412)\" stroke-miterlimit=\"10\" stroke-width=\"2\"/>\n",
       "<circle cx=\"215.3234\" cy=\"113.2033\" fill=\"none\" r=\"5.6693\" stroke=\"rgba(0,128,255,0.9412)\" stroke-miterlimit=\"10\" stroke-width=\"2\"/>\n",
       "<circle cx=\"192.9925\" cy=\"96.9289\" fill=\"none\" r=\"5.6693\" stroke=\"rgba(0,128,255,0.9412)\" stroke-miterlimit=\"10\" stroke-width=\"2\"/>\n",
       "<circle cx=\"123.9764\" cy=\"87.8505\" fill=\"none\" r=\"5.6693\" stroke=\"rgba(0,128,255,0.9412)\" stroke-miterlimit=\"10\" stroke-width=\"2\"/>\n",
       "<circle cx=\"99.2197\" cy=\"93.4098\" fill=\"none\" r=\"5.6693\" stroke=\"rgba(0,128,255,0.9412)\" stroke-miterlimit=\"10\" stroke-width=\"2\"/>\n",
       "<circle cx=\"147.6738\" cy=\"138.99\" fill=\"none\" r=\"5.6693\" stroke=\"rgba(0,128,255,0.9412)\" stroke-miterlimit=\"10\" stroke-width=\"2\"/>\n",
       "<circle cx=\"171.3675\" cy=\"80.4853\" fill=\"none\" r=\"5.6693\" stroke=\"rgba(0,128,255,0.9412)\" stroke-miterlimit=\"10\" stroke-width=\"2\"/>\n",
       "<circle cx=\"131.7686\" cy=\"125.2992\" fill=\"none\" r=\"5.6693\" stroke=\"rgba(0,128,255,0.9412)\" stroke-miterlimit=\"10\" stroke-width=\"2\"/>\n",
       "<circle cx=\"90.3507\" cy=\"125.0572\" fill=\"none\" r=\"5.6693\" stroke=\"rgba(0,128,255,0.9412)\" stroke-miterlimit=\"10\" stroke-width=\"2\"/>\n",
       "<circle cx=\"178.1691\" cy=\"165.7734\" fill=\"none\" r=\"5.6693\" stroke=\"rgba(0,128,255,0.9412)\" stroke-miterlimit=\"10\" stroke-width=\"2\"/>\n",
       "<circle cx=\"57.0678\" cy=\"178.1605\" fill=\"none\" r=\"5.6693\" stroke=\"rgba(0,128,255,0.9412)\" stroke-miterlimit=\"10\" stroke-width=\"2\"/>\n",
       "<circle cx=\"155.7357\" cy=\"94.803\" fill=\"none\" r=\"5.6693\" stroke=\"rgba(0,128,255,0.9412)\" stroke-miterlimit=\"10\" stroke-width=\"2\"/>\n",
       "<circle cx=\"195.5959\" cy=\"155.0143\" fill=\"none\" r=\"5.6693\" stroke=\"rgba(0,128,255,0.9412)\" stroke-miterlimit=\"10\" stroke-width=\"2\"/>\n",
       "<circle cx=\"105.9557\" cy=\"115.6873\" fill=\"none\" r=\"5.6693\" stroke=\"rgba(0,128,255,0.9412)\" stroke-miterlimit=\"10\" stroke-width=\"2\"/>\n",
       "<circle cx=\"155.4872\" cy=\"57.3154\" fill=\"none\" r=\"5.6693\" stroke=\"rgba(0,128,255,0.9412)\" stroke-miterlimit=\"10\" stroke-width=\"2\"/>\n",
       "<circle cx=\"100.0975\" cy=\"140.7351\" fill=\"none\" r=\"5.6693\" stroke=\"rgba(0,128,255,0.9412)\" stroke-miterlimit=\"10\" stroke-width=\"2\"/>\n",
       "<circle cx=\"82.4394\" cy=\"129.0558\" fill=\"none\" r=\"5.6693\" stroke=\"rgba(0,128,255,0.9412)\" stroke-miterlimit=\"10\" stroke-width=\"2\"/>\n",
       "<circle cx=\"151.011\" cy=\"83.5297\" fill=\"none\" r=\"5.6693\" stroke=\"rgba(0,128,255,0.9412)\" stroke-miterlimit=\"10\" stroke-width=\"2\"/>\n",
       "<circle cx=\"69.7079\" cy=\"202.1278\" fill=\"none\" r=\"5.6693\" stroke=\"rgba(0,128,255,0.9412)\" stroke-miterlimit=\"10\" stroke-width=\"2\"/>\n",
       "<circle cx=\"89.1542\" cy=\"159.9041\" fill=\"none\" r=\"5.6693\" stroke=\"rgba(0,128,255,0.9412)\" stroke-miterlimit=\"10\" stroke-width=\"2\"/>\n",
       "<circle cx=\"127.1527\" cy=\"146.1687\" fill=\"none\" r=\"5.6693\" stroke=\"rgba(0,128,255,0.9412)\" stroke-miterlimit=\"10\" stroke-width=\"2\"/>\n",
       "<circle cx=\"223.4956\" cy=\"178.2233\" fill=\"none\" r=\"5.6693\" stroke=\"rgba(0,128,255,0.9412)\" stroke-miterlimit=\"10\" stroke-width=\"2\"/>\n",
       "<circle cx=\"75.5918\" cy=\"71.4362\" fill=\"none\" r=\"5.6693\" stroke=\"rgba(0,128,255,0.9412)\" stroke-miterlimit=\"10\" stroke-width=\"2\"/>\n",
       "<circle cx=\"113.2827\" cy=\"80.4497\" fill=\"none\" r=\"5.6693\" stroke=\"rgba(0,128,255,0.9412)\" stroke-miterlimit=\"10\" stroke-width=\"2\"/>\n",
       "<circle cx=\"204.6076\" cy=\"110.3306\" fill=\"none\" r=\"5.6693\" stroke=\"rgba(0,128,255,0.9412)\" stroke-miterlimit=\"10\" stroke-width=\"2\"/>\n",
       "<circle cx=\"155.4728\" cy=\"190.8854\" fill=\"none\" r=\"5.6693\" stroke=\"rgba(0,128,255,0.9412)\" stroke-miterlimit=\"10\" stroke-width=\"2\"/>\n",
       "<circle cx=\"88.3556\" cy=\"218.4179\" fill=\"none\" r=\"5.6693\" stroke=\"rgba(0,128,255,0.9412)\" stroke-miterlimit=\"10\" stroke-width=\"2\"/>\n",
       "<circle cx=\"216.4635\" cy=\"134.7618\" fill=\"none\" r=\"5.6693\" stroke=\"rgba(0,128,255,0.9412)\" stroke-miterlimit=\"10\" stroke-width=\"2\"/>\n",
       "<circle cx=\"120.1544\" cy=\"178.5925\" fill=\"none\" r=\"5.6693\" stroke=\"rgba(0,128,255,0.9412)\" stroke-miterlimit=\"10\" stroke-width=\"2\"/>\n",
       "<circle cx=\"183.8718\" cy=\"197.7258\" fill=\"none\" r=\"5.6693\" stroke=\"rgba(0,128,255,0.9412)\" stroke-miterlimit=\"10\" stroke-width=\"2\"/>\n",
       "<circle cx=\"87.1567\" cy=\"117.2457\" fill=\"none\" r=\"5.6693\" stroke=\"rgba(0,128,255,0.9412)\" stroke-miterlimit=\"10\" stroke-width=\"2\"/>\n",
       "<circle cx=\"213.9751\" cy=\"215.0363\" fill=\"none\" r=\"5.6693\" stroke=\"rgba(0,128,255,0.9412)\" stroke-miterlimit=\"10\" stroke-width=\"2\"/>\n",
       "<circle cx=\"182.0643\" cy=\"148.5871\" fill=\"none\" r=\"5.6693\" stroke=\"rgba(0,128,255,0.9412)\" stroke-miterlimit=\"10\" stroke-width=\"2\"/>\n",
       "<circle cx=\"148.1027\" cy=\"127.3772\" fill=\"none\" r=\"5.6693\" stroke=\"rgba(0,128,255,0.9412)\" stroke-miterlimit=\"10\" stroke-width=\"2\"/>\n",
       "<circle cx=\"84.1458\" cy=\"103.8525\" fill=\"none\" r=\"5.6693\" stroke=\"rgba(0,128,255,0.9412)\" stroke-miterlimit=\"10\" stroke-width=\"2\"/>\n",
       "<circle cx=\"161.6553\" cy=\"130.4814\" fill=\"none\" r=\"5.6693\" stroke=\"rgba(0,128,255,0.9412)\" stroke-miterlimit=\"10\" stroke-width=\"2\"/>\n",
       "<circle cx=\"155.4667\" cy=\"70.1011\" fill=\"none\" r=\"5.6693\" stroke=\"rgba(0,128,255,0.9412)\" stroke-miterlimit=\"10\" stroke-width=\"2\"/>\n",
       "<circle cx=\"207.8428\" cy=\"84.1666\" fill=\"none\" r=\"5.6693\" stroke=\"rgba(0,128,255,0.9412)\" stroke-miterlimit=\"10\" stroke-width=\"2\"/>\n",
       "<circle cx=\"126.4592\" cy=\"71.7643\" fill=\"none\" r=\"5.6693\" stroke=\"rgba(0,128,255,0.9412)\" stroke-miterlimit=\"10\" stroke-width=\"2\"/>\n",
       "<circle cx=\"142.01\" cy=\"214.6632\" fill=\"none\" r=\"5.6693\" stroke=\"rgba(0,128,255,0.9412)\" stroke-miterlimit=\"10\" stroke-width=\"2\"/>\n",
       "<circle cx=\"106.7587\" cy=\"118.8587\" fill=\"none\" r=\"5.6693\" stroke=\"rgba(0,128,255,0.9412)\" stroke-miterlimit=\"10\" stroke-width=\"2\"/>\n",
       "<circle cx=\"162.7256\" cy=\"164.4949\" fill=\"none\" r=\"5.6693\" stroke=\"rgba(0,128,255,0.9412)\" stroke-miterlimit=\"10\" stroke-width=\"2\"/>\n",
       "<circle cx=\"91.7582\" cy=\"102.2207\" fill=\"none\" r=\"5.6693\" stroke=\"rgba(0,128,255,0.9412)\" stroke-miterlimit=\"10\" stroke-width=\"2\"/>\n",
       "<circle cx=\"198.2067\" cy=\"196.9687\" fill=\"none\" r=\"5.6693\" stroke=\"rgba(0,128,255,0.9412)\" stroke-miterlimit=\"10\" stroke-width=\"2\"/>\n",
       "<circle cx=\"111.5247\" cy=\"146.3741\" fill=\"none\" r=\"5.6693\" stroke=\"rgba(0,128,255,0.9412)\" stroke-miterlimit=\"10\" stroke-width=\"2\"/>\n",
       "<circle cx=\"108.6609\" cy=\"58.283\" fill=\"none\" r=\"5.6693\" stroke=\"rgba(0,128,255,0.9412)\" stroke-miterlimit=\"10\" stroke-width=\"2\"/>\n",
       "<circle cx=\"170.8471\" cy=\"117.2178\" fill=\"none\" r=\"5.6693\" stroke=\"rgba(0,128,255,0.9412)\" stroke-miterlimit=\"10\" stroke-width=\"2\"/>\n",
       "<circle cx=\"165.8937\" cy=\"77.8573\" fill=\"none\" r=\"5.6693\" stroke=\"rgba(0,128,255,0.9412)\" stroke-miterlimit=\"10\" stroke-width=\"2\"/>\n",
       "<circle cx=\"150.5459\" cy=\"114.8834\" fill=\"none\" r=\"5.6693\" stroke=\"rgba(0,128,255,0.9412)\" stroke-miterlimit=\"10\" stroke-width=\"2\"/>\n",
       "<circle cx=\"56.8148\" cy=\"121.1339\" fill=\"none\" r=\"5.6693\" stroke=\"rgba(0,128,255,0.9412)\" stroke-miterlimit=\"10\" stroke-width=\"2\"/>\n",
       "<circle cx=\"147.3644\" cy=\"118.8089\" fill=\"none\" r=\"5.6693\" stroke=\"rgba(0,128,255,0.9412)\" stroke-miterlimit=\"10\" stroke-width=\"2\"/>\n",
       "<circle cx=\"141.5423\" cy=\"98.1307\" fill=\"none\" r=\"5.6693\" stroke=\"rgba(0,128,255,0.9412)\" stroke-miterlimit=\"10\" stroke-width=\"2\"/>\n",
       "<circle cx=\"94.3424\" cy=\"66.0515\" fill=\"none\" r=\"5.6693\" stroke=\"rgba(0,128,255,0.9412)\" stroke-miterlimit=\"10\" stroke-width=\"2\"/>\n",
       "<circle cx=\"175.4539\" cy=\"219.0329\" fill=\"none\" r=\"5.6693\" stroke=\"rgba(0,128,255,0.9412)\" stroke-miterlimit=\"10\" stroke-width=\"2\"/>\n",
       "<circle cx=\"161.0495\" cy=\"109.8661\" fill=\"none\" r=\"5.6693\" stroke=\"rgba(0,128,255,0.9412)\" stroke-miterlimit=\"10\" stroke-width=\"2\"/>\n",
       "<circle cx=\"221.8265\" cy=\"169.1792\" fill=\"none\" r=\"5.6693\" stroke=\"rgba(0,128,255,0.9412)\" stroke-miterlimit=\"10\" stroke-width=\"2\"/>\n",
       "<circle cx=\"137.064\" cy=\"148.4903\" fill=\"none\" r=\"5.6693\" stroke=\"rgba(0,128,255,0.9412)\" stroke-miterlimit=\"10\" stroke-width=\"2\"/>\n",
       "<circle cx=\"125.7334\" cy=\"103.1782\" fill=\"none\" r=\"5.6693\" stroke=\"rgba(0,128,255,0.9412)\" stroke-miterlimit=\"10\" stroke-width=\"2\"/>\n",
       "<circle cx=\"115.565\" cy=\"128.0713\" fill=\"none\" r=\"5.6693\" stroke=\"rgba(0,128,255,0.9412)\" stroke-miterlimit=\"10\" stroke-width=\"2\"/>\n",
       "<circle cx=\"113.6838\" cy=\"159.4727\" fill=\"none\" r=\"5.6693\" stroke=\"rgba(0,128,255,0.9412)\" stroke-miterlimit=\"10\" stroke-width=\"2\"/>\n",
       "<circle cx=\"65.9603\" cy=\"185.6983\" fill=\"none\" r=\"5.6693\" stroke=\"rgba(0,128,255,0.9412)\" stroke-miterlimit=\"10\" stroke-width=\"2\"/>\n",
       "<circle cx=\"169.5642\" cy=\"122.0596\" fill=\"none\" r=\"5.6693\" stroke=\"rgba(0,128,255,0.9412)\" stroke-miterlimit=\"10\" stroke-width=\"2\"/>\n",
       "<circle cx=\"147.4137\" cy=\"211.86\" fill=\"none\" r=\"5.6693\" stroke=\"rgba(0,128,255,0.9412)\" stroke-miterlimit=\"10\" stroke-width=\"2\"/>\n",
       "<circle cx=\"143.9346\" cy=\"123.2184\" fill=\"none\" r=\"5.6693\" stroke=\"rgba(0,128,255,0.9412)\" stroke-miterlimit=\"10\" stroke-width=\"2\"/>\n",
       "<circle cx=\"164.2571\" cy=\"135.3943\" fill=\"none\" r=\"5.6693\" stroke=\"rgba(0,128,255,0.9412)\" stroke-miterlimit=\"10\" stroke-width=\"2\"/>\n",
       "<circle cx=\"69.4869\" cy=\"180.2441\" fill=\"none\" r=\"5.6693\" stroke=\"rgba(0,128,255,0.9412)\" stroke-miterlimit=\"10\" stroke-width=\"2\"/>\n",
       "<circle cx=\"64.1795\" cy=\"114.3716\" fill=\"none\" r=\"5.6693\" stroke=\"rgba(0,128,255,0.9412)\" stroke-miterlimit=\"10\" stroke-width=\"2\"/>\n",
       "<circle cx=\"225.8683\" cy=\"107.6949\" fill=\"none\" r=\"5.6693\" stroke=\"rgba(0,128,255,0.9412)\" stroke-miterlimit=\"10\" stroke-width=\"2\"/>\n",
       "<circle cx=\"127.8968\" cy=\"74.3557\" fill=\"none\" r=\"5.6693\" stroke=\"rgba(0,128,255,0.9412)\" stroke-miterlimit=\"10\" stroke-width=\"2\"/>\n",
       "<circle cx=\"157.6463\" cy=\"161.7921\" fill=\"none\" r=\"5.6693\" stroke=\"rgba(0,128,255,0.9412)\" stroke-miterlimit=\"10\" stroke-width=\"2\"/>\n",
       "<circle cx=\"182.8735\" cy=\"117.9502\" fill=\"none\" r=\"5.6693\" stroke=\"rgba(0,128,255,0.9412)\" stroke-miterlimit=\"10\" stroke-width=\"2\"/>\n",
       "<circle cx=\"130.6907\" cy=\"144.7262\" fill=\"none\" r=\"5.6693\" stroke=\"rgba(0,128,255,0.9412)\" stroke-miterlimit=\"10\" stroke-width=\"2\"/>\n",
       "<circle cx=\"103.2549\" cy=\"99.1725\" fill=\"none\" r=\"5.6693\" stroke=\"rgba(0,128,255,0.9412)\" stroke-miterlimit=\"10\" stroke-width=\"2\"/>\n",
       "<circle cx=\"220.8969\" cy=\"183.0409\" fill=\"none\" r=\"5.6693\" stroke=\"rgba(0,128,255,0.9412)\" stroke-miterlimit=\"10\" stroke-width=\"2\"/>\n",
       "<circle cx=\"119.8514\" cy=\"184.0205\" fill=\"none\" r=\"5.6693\" stroke=\"rgba(0,128,255,0.9412)\" stroke-miterlimit=\"10\" stroke-width=\"2\"/>\n",
       "<circle cx=\"176.8095\" cy=\"128.903\" fill=\"none\" r=\"5.6693\" stroke=\"rgba(0,128,255,0.9412)\" stroke-miterlimit=\"10\" stroke-width=\"2\"/>\n",
       "<circle cx=\"226.5368\" cy=\"99.2901\" fill=\"none\" r=\"5.6693\" stroke=\"rgba(0,128,255,0.9412)\" stroke-miterlimit=\"10\" stroke-width=\"2\"/>\n",
       "<circle cx=\"185.7712\" cy=\"180.1274\" fill=\"none\" r=\"5.6693\" stroke=\"rgba(0,128,255,0.9412)\" stroke-miterlimit=\"10\" stroke-width=\"2\"/>\n",
       "<circle cx=\"191.6817\" cy=\"106.159\" fill=\"none\" r=\"5.6693\" stroke=\"rgba(0,128,255,0.9412)\" stroke-miterlimit=\"10\" stroke-width=\"2\"/>\n",
       "<circle cx=\"225.9401\" cy=\"104.4863\" fill=\"none\" r=\"5.6693\" stroke=\"rgba(0,128,255,0.9412)\" stroke-miterlimit=\"10\" stroke-width=\"2\"/>\n",
       "<circle cx=\"161.7408\" cy=\"150.7247\" fill=\"none\" r=\"5.6693\" stroke=\"rgba(0,128,255,0.9412)\" stroke-miterlimit=\"10\" stroke-width=\"2\"/>\n",
       "<circle cx=\"147.6043\" cy=\"156.2024\" fill=\"none\" r=\"5.6693\" stroke=\"rgba(0,128,255,0.9412)\" stroke-miterlimit=\"10\" stroke-width=\"2\"/>\n",
       "<circle cx=\"110.3888\" cy=\"155.9793\" fill=\"none\" r=\"5.6693\" stroke=\"rgba(0,128,255,0.9412)\" stroke-miterlimit=\"10\" stroke-width=\"2\"/>\n",
       "<circle cx=\"152.5657\" cy=\"144.3342\" fill=\"none\" r=\"5.6693\" stroke=\"rgba(0,128,255,0.9412)\" stroke-miterlimit=\"10\" stroke-width=\"2\"/>\n",
       "<circle cx=\"98.894\" cy=\"137.7608\" fill=\"none\" r=\"5.6693\" stroke=\"rgba(0,128,255,0.9412)\" stroke-miterlimit=\"10\" stroke-width=\"2\"/>\n",
       "<circle cx=\"168.8626\" cy=\"175.5111\" fill=\"none\" r=\"5.6693\" stroke=\"rgba(0,128,255,0.9412)\" stroke-miterlimit=\"10\" stroke-width=\"2\"/>\n",
       "<circle cx=\"133.3\" cy=\"165.871\" fill=\"none\" r=\"5.6693\" stroke=\"rgba(0,128,255,0.9412)\" stroke-miterlimit=\"10\" stroke-width=\"2\"/>\n",
       "<circle cx=\"186.24\" cy=\"80.2174\" fill=\"none\" r=\"5.6693\" stroke=\"rgba(0,128,255,0.9412)\" stroke-miterlimit=\"10\" stroke-width=\"2\"/>\n",
       "<circle cx=\"122.9776\" cy=\"112.3852\" fill=\"none\" r=\"5.6693\" stroke=\"rgba(0,128,255,0.9412)\" stroke-miterlimit=\"10\" stroke-width=\"2\"/>\n",
       "<circle cx=\"194.0399\" cy=\"152.6726\" fill=\"none\" r=\"5.6693\" stroke=\"rgba(0,128,255,0.9412)\" stroke-miterlimit=\"10\" stroke-width=\"2\"/>\n",
       "<circle cx=\"98.4481\" cy=\"107.0787\" fill=\"none\" r=\"5.6693\" stroke=\"rgba(0,128,255,0.9412)\" stroke-miterlimit=\"10\" stroke-width=\"2\"/>\n",
       "<circle cx=\"110.2313\" cy=\"186.424\" fill=\"none\" r=\"5.6693\" stroke=\"rgba(0,128,255,0.9412)\" stroke-miterlimit=\"10\" stroke-width=\"2\"/>\n",
       "<circle cx=\"122.293\" cy=\"132.6866\" fill=\"none\" r=\"5.6693\" stroke=\"rgba(0,128,255,0.9412)\" stroke-miterlimit=\"10\" stroke-width=\"2\"/>\n",
       "<circle cx=\"88.2341\" cy=\"96.75\" fill=\"none\" r=\"5.6693\" stroke=\"rgba(0,128,255,0.9412)\" stroke-miterlimit=\"10\" stroke-width=\"2\"/>\n",
       "<circle cx=\"157.608\" cy=\"220.0763\" fill=\"none\" r=\"5.6693\" stroke=\"rgba(0,128,255,0.9412)\" stroke-miterlimit=\"10\" stroke-width=\"2\"/>\n",
       "<circle cx=\"217.3945\" cy=\"68.4332\" fill=\"none\" r=\"5.6693\" stroke=\"rgba(0,128,255,0.9412)\" stroke-miterlimit=\"10\" stroke-width=\"2\"/>\n",
       "<circle cx=\"101.4516\" cy=\"132.3479\" fill=\"none\" r=\"5.6693\" stroke=\"rgba(0,128,255,0.9412)\" stroke-miterlimit=\"10\" stroke-width=\"2\"/>\n",
       "<circle cx=\"130.8059\" cy=\"93.8596\" fill=\"none\" r=\"5.6693\" stroke=\"rgba(0,128,255,0.9412)\" stroke-miterlimit=\"10\" stroke-width=\"2\"/>\n",
       "<circle cx=\"124.7891\" cy=\"145.6987\" fill=\"none\" r=\"5.6693\" stroke=\"rgba(0,128,255,0.9412)\" stroke-miterlimit=\"10\" stroke-width=\"2\"/>\n",
       "<circle cx=\"115.8994\" cy=\"132.2768\" fill=\"none\" r=\"5.6693\" stroke=\"rgba(0,128,255,0.9412)\" stroke-miterlimit=\"10\" stroke-width=\"2\"/>\n",
       "<circle cx=\"81.2207\" cy=\"172.6444\" fill=\"none\" r=\"5.6693\" stroke=\"rgba(0,128,255,0.9412)\" stroke-miterlimit=\"10\" stroke-width=\"2\"/>\n",
       "<circle cx=\"193.4502\" cy=\"143.0489\" fill=\"none\" r=\"5.6693\" stroke=\"rgba(0,128,255,0.9412)\" stroke-miterlimit=\"10\" stroke-width=\"2\"/>\n",
       "<circle cx=\"200.6779\" cy=\"135.8168\" fill=\"none\" r=\"5.6693\" stroke=\"rgba(0,128,255,0.9412)\" stroke-miterlimit=\"10\" stroke-width=\"2\"/>\n",
       "<circle cx=\"65.264\" cy=\"90.692\" fill=\"none\" r=\"5.6693\" stroke=\"rgba(0,128,255,0.9412)\" stroke-miterlimit=\"10\" stroke-width=\"2\"/>\n",
       "<circle cx=\"198.1386\" cy=\"101.7159\" fill=\"none\" r=\"5.6693\" stroke=\"rgba(0,128,255,0.9412)\" stroke-miterlimit=\"10\" stroke-width=\"2\"/>\n",
       "<circle cx=\"178.6726\" cy=\"139.8183\" fill=\"none\" r=\"5.6693\" stroke=\"rgba(0,128,255,0.9412)\" stroke-miterlimit=\"10\" stroke-width=\"2\"/>\n",
       "<circle cx=\"97.2264\" cy=\"84.1142\" fill=\"none\" r=\"5.6693\" stroke=\"rgba(0,128,255,0.9412)\" stroke-miterlimit=\"10\" stroke-width=\"2\"/>\n",
       "<circle cx=\"109.0379\" cy=\"115.8039\" fill=\"none\" r=\"5.6693\" stroke=\"rgba(0,128,255,0.9412)\" stroke-miterlimit=\"10\" stroke-width=\"2\"/>\n",
       "<circle cx=\"152.519\" cy=\"147.926\" fill=\"none\" r=\"5.6693\" stroke=\"rgba(0,128,255,0.9412)\" stroke-miterlimit=\"10\" stroke-width=\"2\"/>\n",
       "<circle cx=\"157.8354\" cy=\"168.5094\" fill=\"none\" r=\"5.6693\" stroke=\"rgba(0,128,255,0.9412)\" stroke-miterlimit=\"10\" stroke-width=\"2\"/>\n",
       "<circle cx=\"168.9767\" cy=\"148.9787\" fill=\"none\" r=\"5.6693\" stroke=\"rgba(0,128,255,0.9412)\" stroke-miterlimit=\"10\" stroke-width=\"2\"/>\n",
       "<circle cx=\"89.9191\" cy=\"156.8051\" fill=\"none\" r=\"5.6693\" stroke=\"rgba(0,128,255,0.9412)\" stroke-miterlimit=\"10\" stroke-width=\"2\"/>\n",
       "<circle cx=\"68.8683\" cy=\"152.5029\" fill=\"none\" r=\"5.6693\" stroke=\"rgba(0,128,255,0.9412)\" stroke-miterlimit=\"10\" stroke-width=\"2\"/>\n",
       "<circle cx=\"172.064\" cy=\"101.7784\" fill=\"none\" r=\"5.6693\" stroke=\"rgba(0,128,255,0.9412)\" stroke-miterlimit=\"10\" stroke-width=\"2\"/>\n",
       "<circle cx=\"63.1158\" cy=\"119.2413\" fill=\"none\" r=\"5.6693\" stroke=\"rgba(0,128,255,0.9412)\" stroke-miterlimit=\"10\" stroke-width=\"2\"/>\n",
       "<circle cx=\"118.8421\" cy=\"86.8922\" fill=\"none\" r=\"5.6693\" stroke=\"rgba(0,128,255,0.9412)\" stroke-miterlimit=\"10\" stroke-width=\"2\"/>\n",
       "<circle cx=\"170.6973\" cy=\"219.8698\" fill=\"none\" r=\"5.6693\" stroke=\"rgba(0,128,255,0.9412)\" stroke-miterlimit=\"10\" stroke-width=\"2\"/>\n",
       "<circle cx=\"159.8201\" cy=\"152.0257\" fill=\"none\" r=\"5.6693\" stroke=\"rgba(0,128,255,0.9412)\" stroke-miterlimit=\"10\" stroke-width=\"2\"/>\n",
       "<circle cx=\"118.1266\" cy=\"223.1499\" fill=\"none\" r=\"5.6693\" stroke=\"rgba(0,128,255,0.9412)\" stroke-miterlimit=\"10\" stroke-width=\"2\"/>\n",
       "<circle cx=\"118.8353\" cy=\"164.4646\" fill=\"none\" r=\"5.6693\" stroke=\"rgba(0,128,255,0.9412)\" stroke-miterlimit=\"10\" stroke-width=\"2\"/>\n",
       "<circle cx=\"199.5491\" cy=\"172.4864\" fill=\"none\" r=\"5.6693\" stroke=\"rgba(0,128,255,0.9412)\" stroke-miterlimit=\"10\" stroke-width=\"2\"/>\n",
       "<circle cx=\"112.1715\" cy=\"109.9085\" fill=\"none\" r=\"5.6693\" stroke=\"rgba(0,128,255,0.9412)\" stroke-miterlimit=\"10\" stroke-width=\"2\"/>\n",
       "<circle cx=\"126.7172\" cy=\"121.3405\" fill=\"none\" r=\"5.6693\" stroke=\"rgba(0,128,255,0.9412)\" stroke-miterlimit=\"10\" stroke-width=\"2\"/>\n",
       "<circle cx=\"108.5142\" cy=\"82.3811\" fill=\"none\" r=\"5.6693\" stroke=\"rgba(0,128,255,0.9412)\" stroke-miterlimit=\"10\" stroke-width=\"2\"/>\n",
       "<circle cx=\"201.0908\" cy=\"160.5179\" fill=\"none\" r=\"5.6693\" stroke=\"rgba(0,128,255,0.9412)\" stroke-miterlimit=\"10\" stroke-width=\"2\"/>\n",
       "<circle cx=\"92.5595\" cy=\"214.3645\" fill=\"none\" r=\"5.6693\" stroke=\"rgba(0,128,255,0.9412)\" stroke-miterlimit=\"10\" stroke-width=\"2\"/>\n",
       "<circle cx=\"134.5077\" cy=\"66.5684\" fill=\"none\" r=\"5.6693\" stroke=\"rgba(0,128,255,0.9412)\" stroke-miterlimit=\"10\" stroke-width=\"2\"/>\n",
       "<circle cx=\"121.2377\" cy=\"162.5602\" fill=\"none\" r=\"5.6693\" stroke=\"rgba(0,128,255,0.9412)\" stroke-miterlimit=\"10\" stroke-width=\"2\"/>\n",
       "<circle cx=\"131.8696\" cy=\"175.8442\" fill=\"none\" r=\"5.6693\" stroke=\"rgba(0,128,255,0.9412)\" stroke-miterlimit=\"10\" stroke-width=\"2\"/>\n",
       "<circle cx=\"206.2902\" cy=\"77.0319\" fill=\"none\" r=\"5.6693\" stroke=\"rgba(0,128,255,0.9412)\" stroke-miterlimit=\"10\" stroke-width=\"2\"/>\n",
       "<circle cx=\"175.628\" cy=\"103.0059\" fill=\"none\" r=\"5.6693\" stroke=\"rgba(0,128,255,0.9412)\" stroke-miterlimit=\"10\" stroke-width=\"2\"/>\n",
       "<circle cx=\"136.1204\" cy=\"120.1091\" fill=\"none\" r=\"5.6693\" stroke=\"rgba(0,128,255,0.9412)\" stroke-miterlimit=\"10\" stroke-width=\"2\"/>\n",
       "<circle cx=\"75.9648\" cy=\"114.5548\" fill=\"none\" r=\"5.6693\" stroke=\"rgba(0,128,255,0.9412)\" stroke-miterlimit=\"10\" stroke-width=\"2\"/>\n",
       "<circle cx=\"153.9667\" cy=\"201.5347\" fill=\"none\" r=\"5.6693\" stroke=\"rgba(0,128,255,0.9412)\" stroke-miterlimit=\"10\" stroke-width=\"2\"/>\n",
       "<circle cx=\"182.3879\" cy=\"68.386\" fill=\"none\" r=\"5.6693\" stroke=\"rgba(0,128,255,0.9412)\" stroke-miterlimit=\"10\" stroke-width=\"2\"/>\n",
       "<circle cx=\"104.9325\" cy=\"130.9599\" fill=\"none\" r=\"5.6693\" stroke=\"rgba(0,128,255,0.9412)\" stroke-miterlimit=\"10\" stroke-width=\"2\"/>\n",
       "<circle cx=\"149.4892\" cy=\"85.8389\" fill=\"none\" r=\"5.6693\" stroke=\"rgba(0,128,255,0.9412)\" stroke-miterlimit=\"10\" stroke-width=\"2\"/>\n",
       "<circle cx=\"191.0569\" cy=\"209.2293\" fill=\"none\" r=\"5.6693\" stroke=\"rgba(0,128,255,0.9412)\" stroke-miterlimit=\"10\" stroke-width=\"2\"/>\n",
       "<circle cx=\"155.3685\" cy=\"155.0131\" fill=\"none\" r=\"5.6693\" stroke=\"rgba(0,128,255,0.9412)\" stroke-miterlimit=\"10\" stroke-width=\"2\"/>\n",
       "<circle cx=\"128.9271\" cy=\"124.7197\" fill=\"none\" r=\"5.6693\" stroke=\"rgba(0,128,255,0.9412)\" stroke-miterlimit=\"10\" stroke-width=\"2\"/>\n",
       "<circle cx=\"170.6181\" cy=\"120.6687\" fill=\"none\" r=\"5.6693\" stroke=\"rgba(0,128,255,0.9412)\" stroke-miterlimit=\"10\" stroke-width=\"2\"/>\n",
       "<circle cx=\"157.2601\" cy=\"141.3808\" fill=\"none\" r=\"5.6693\" stroke=\"rgba(0,128,255,0.9412)\" stroke-miterlimit=\"10\" stroke-width=\"2\"/>\n",
       "<circle cx=\"153.9885\" cy=\"143.8371\" fill=\"none\" r=\"5.6693\" stroke=\"rgba(0,128,255,0.9412)\" stroke-miterlimit=\"10\" stroke-width=\"2\"/>\n",
       "<circle cx=\"189.3565\" cy=\"201.9228\" fill=\"none\" r=\"5.6693\" stroke=\"rgba(0,128,255,0.9412)\" stroke-miterlimit=\"10\" stroke-width=\"2\"/>\n",
       "<circle cx=\"209.5136\" cy=\"85.6256\" fill=\"none\" r=\"5.6693\" stroke=\"rgba(0,128,255,0.9412)\" stroke-miterlimit=\"10\" stroke-width=\"2\"/>\n",
       "<circle cx=\"116.3087\" cy=\"174.6224\" fill=\"none\" r=\"5.6693\" stroke=\"rgba(0,128,255,0.9412)\" stroke-miterlimit=\"10\" stroke-width=\"2\"/>\n",
       "<circle cx=\"87.5392\" cy=\"157.8667\" fill=\"none\" r=\"5.6693\" stroke=\"rgba(0,128,255,0.9412)\" stroke-miterlimit=\"10\" stroke-width=\"2\"/>\n",
       "<circle cx=\"211.408\" cy=\"204.8165\" fill=\"none\" r=\"5.6693\" stroke=\"rgba(0,128,255,0.9412)\" stroke-miterlimit=\"10\" stroke-width=\"2\"/>\n",
       "<circle cx=\"178.9557\" cy=\"77.5699\" fill=\"none\" r=\"5.6693\" stroke=\"rgba(0,128,255,0.9412)\" stroke-miterlimit=\"10\" stroke-width=\"2\"/>\n",
       "<circle cx=\"108.94\" cy=\"121.8886\" fill=\"none\" r=\"5.6693\" stroke=\"rgba(0,128,255,0.9412)\" stroke-miterlimit=\"10\" stroke-width=\"2\"/>\n",
       "<circle cx=\"59.3774\" cy=\"113.0568\" fill=\"none\" r=\"5.6693\" stroke=\"rgba(0,128,255,0.9412)\" stroke-miterlimit=\"10\" stroke-width=\"2\"/>\n",
       "<circle cx=\"109.4277\" cy=\"96.523\" fill=\"none\" r=\"5.6693\" stroke=\"rgba(0,128,255,0.9412)\" stroke-miterlimit=\"10\" stroke-width=\"2\"/>\n",
       "<circle cx=\"138.4168\" cy=\"180.4511\" fill=\"none\" r=\"5.6693\" stroke=\"rgba(0,128,255,0.9412)\" stroke-miterlimit=\"10\" stroke-width=\"2\"/>\n",
       "<circle cx=\"109.0547\" cy=\"96.8172\" fill=\"none\" r=\"5.6693\" stroke=\"rgba(0,128,255,0.9412)\" stroke-miterlimit=\"10\" stroke-width=\"2\"/>\n",
       "<circle cx=\"131.73\" cy=\"219.5248\" fill=\"none\" r=\"5.6693\" stroke=\"rgba(0,128,255,0.9412)\" stroke-miterlimit=\"10\" stroke-width=\"2\"/>\n",
       "<circle cx=\"116.101\" cy=\"105.5349\" fill=\"none\" r=\"5.6693\" stroke=\"rgba(0,128,255,0.9412)\" stroke-miterlimit=\"10\" stroke-width=\"2\"/>\n",
       "<circle cx=\"86.2809\" cy=\"111.7403\" fill=\"none\" r=\"5.6693\" stroke=\"rgba(0,128,255,0.9412)\" stroke-miterlimit=\"10\" stroke-width=\"2\"/>\n",
       "<circle cx=\"156.1648\" cy=\"82.8171\" fill=\"none\" r=\"5.6693\" stroke=\"rgba(0,128,255,0.9412)\" stroke-miterlimit=\"10\" stroke-width=\"2\"/>\n",
       "<circle cx=\"157.1679\" cy=\"171.8664\" fill=\"none\" r=\"5.6693\" stroke=\"rgba(0,128,255,0.9412)\" stroke-miterlimit=\"10\" stroke-width=\"2\"/>\n",
       "<circle cx=\"115.3021\" cy=\"78.1883\" fill=\"none\" r=\"5.6693\" stroke=\"rgba(0,128,255,0.9412)\" stroke-miterlimit=\"10\" stroke-width=\"2\"/>\n",
       "<circle cx=\"200.0944\" cy=\"161.551\" fill=\"none\" r=\"5.6693\" stroke=\"rgba(0,128,255,0.9412)\" stroke-miterlimit=\"10\" stroke-width=\"2\"/>\n",
       "<circle cx=\"170.384\" cy=\"90.748\" fill=\"none\" r=\"5.6693\" stroke=\"rgba(0,128,255,0.9412)\" stroke-miterlimit=\"10\" stroke-width=\"2\"/>\n",
       "<circle cx=\"71.5154\" cy=\"189.8288\" fill=\"none\" r=\"5.6693\" stroke=\"rgba(0,128,255,0.9412)\" stroke-miterlimit=\"10\" stroke-width=\"2\"/>\n",
       "<circle cx=\"106.9781\" cy=\"112.8129\" fill=\"none\" r=\"5.6693\" stroke=\"rgba(0,128,255,0.9412)\" stroke-miterlimit=\"10\" stroke-width=\"2\"/>\n",
       "<circle cx=\"157.4826\" cy=\"69.8238\" fill=\"none\" r=\"5.6693\" stroke=\"rgba(0,128,255,0.9412)\" stroke-miterlimit=\"10\" stroke-width=\"2\"/>\n",
       "<circle cx=\"152.0862\" cy=\"102.4653\" fill=\"none\" r=\"5.6693\" stroke=\"rgba(0,128,255,0.9412)\" stroke-miterlimit=\"10\" stroke-width=\"2\"/>\n",
       "<circle cx=\"199.6692\" cy=\"128.9559\" fill=\"none\" r=\"5.6693\" stroke=\"rgba(0,128,255,0.9412)\" stroke-miterlimit=\"10\" stroke-width=\"2\"/>\n",
       "<circle cx=\"200.1066\" cy=\"215.5584\" fill=\"none\" r=\"5.6693\" stroke=\"rgba(0,128,255,0.9412)\" stroke-miterlimit=\"10\" stroke-width=\"2\"/>\n",
       "<circle cx=\"160.7807\" cy=\"147.0124\" fill=\"none\" r=\"5.6693\" stroke=\"rgba(0,128,255,0.9412)\" stroke-miterlimit=\"10\" stroke-width=\"2\"/>\n",
       "<circle cx=\"76.7129\" cy=\"187.6931\" fill=\"none\" r=\"5.6693\" stroke=\"rgba(0,128,255,0.9412)\" stroke-miterlimit=\"10\" stroke-width=\"2\"/>\n",
       "<circle cx=\"115.8815\" cy=\"149.6463\" fill=\"none\" r=\"5.6693\" stroke=\"rgba(0,128,255,0.9412)\" stroke-miterlimit=\"10\" stroke-width=\"2\"/>\n",
       "<circle cx=\"79.1266\" cy=\"174.5949\" fill=\"none\" r=\"5.6693\" stroke=\"rgba(0,128,255,0.9412)\" stroke-miterlimit=\"10\" stroke-width=\"2\"/>\n",
       "<circle cx=\"134.6037\" cy=\"120.5839\" fill=\"none\" r=\"5.6693\" stroke=\"rgba(0,128,255,0.9412)\" stroke-miterlimit=\"10\" stroke-width=\"2\"/>\n",
       "<circle cx=\"165.5839\" cy=\"214.8842\" fill=\"none\" r=\"5.6693\" stroke=\"rgba(0,128,255,0.9412)\" stroke-miterlimit=\"10\" stroke-width=\"2\"/>\n",
       "<circle cx=\"159.8076\" cy=\"155.5942\" fill=\"none\" r=\"5.6693\" stroke=\"rgba(0,128,255,0.9412)\" stroke-miterlimit=\"10\" stroke-width=\"2\"/>\n",
       "<circle cx=\"200.3737\" cy=\"192.391\" fill=\"none\" r=\"5.6693\" stroke=\"rgba(0,128,255,0.9412)\" stroke-miterlimit=\"10\" stroke-width=\"2\"/>\n",
       "<circle cx=\"107.1582\" cy=\"185.2293\" fill=\"none\" r=\"5.6693\" stroke=\"rgba(0,128,255,0.9412)\" stroke-miterlimit=\"10\" stroke-width=\"2\"/>\n",
       "<circle cx=\"163.9333\" cy=\"98.6535\" fill=\"none\" r=\"5.6693\" stroke=\"rgba(0,128,255,0.9412)\" stroke-miterlimit=\"10\" stroke-width=\"2\"/>\n",
       "<circle cx=\"151.0899\" cy=\"145.9828\" fill=\"none\" r=\"5.6693\" stroke=\"rgba(0,128,255,0.9412)\" stroke-miterlimit=\"10\" stroke-width=\"2\"/>\n",
       "<circle cx=\"134.2165\" cy=\"153.9881\" fill=\"none\" r=\"5.6693\" stroke=\"rgba(0,128,255,0.9412)\" stroke-miterlimit=\"10\" stroke-width=\"2\"/>\n",
       "<circle cx=\"130.0386\" cy=\"72.1623\" fill=\"none\" r=\"5.6693\" stroke=\"rgba(0,128,255,0.9412)\" stroke-miterlimit=\"10\" stroke-width=\"2\"/>\n",
       "<circle cx=\"178.5848\" cy=\"193.2791\" fill=\"none\" r=\"5.6693\" stroke=\"rgba(0,128,255,0.9412)\" stroke-miterlimit=\"10\" stroke-width=\"2\"/>\n",
       "<circle cx=\"114.1128\" cy=\"118.9094\" fill=\"none\" r=\"5.6693\" stroke=\"rgba(0,128,255,0.9412)\" stroke-miterlimit=\"10\" stroke-width=\"2\"/>\n",
       "<circle cx=\"130.6537\" cy=\"65.3973\" fill=\"none\" r=\"5.6693\" stroke=\"rgba(0,128,255,0.9412)\" stroke-miterlimit=\"10\" stroke-width=\"2\"/>\n",
       "<circle cx=\"93.5766\" cy=\"157.1581\" fill=\"none\" r=\"5.6693\" stroke=\"rgba(0,128,255,0.9412)\" stroke-miterlimit=\"10\" stroke-width=\"2\"/>\n",
       "<circle cx=\"146.2112\" cy=\"118.954\" fill=\"none\" r=\"5.6693\" stroke=\"rgba(0,128,255,0.9412)\" stroke-miterlimit=\"10\" stroke-width=\"2\"/>\n",
       "<circle cx=\"133.2658\" cy=\"174.1612\" fill=\"none\" r=\"5.6693\" stroke=\"rgba(0,128,255,0.9412)\" stroke-miterlimit=\"10\" stroke-width=\"2\"/>\n",
       "<circle cx=\"158.0529\" cy=\"196.8585\" fill=\"none\" r=\"5.6693\" stroke=\"rgba(0,128,255,0.9412)\" stroke-miterlimit=\"10\" stroke-width=\"2\"/>\n",
       "<circle cx=\"164.4312\" cy=\"132.2477\" fill=\"none\" r=\"5.6693\" stroke=\"rgba(0,128,255,0.9412)\" stroke-miterlimit=\"10\" stroke-width=\"2\"/>\n",
       "<circle cx=\"67.5791\" cy=\"115.793\" fill=\"none\" r=\"5.6693\" stroke=\"rgba(0,128,255,0.9412)\" stroke-miterlimit=\"10\" stroke-width=\"2\"/>\n",
       "<circle cx=\"172.7389\" cy=\"150.5668\" fill=\"none\" r=\"5.6693\" stroke=\"rgba(0,128,255,0.9412)\" stroke-miterlimit=\"10\" stroke-width=\"2\"/>\n",
       "<circle cx=\"95.946\" cy=\"114.6306\" fill=\"none\" r=\"5.6693\" stroke=\"rgba(0,128,255,0.9412)\" stroke-miterlimit=\"10\" stroke-width=\"2\"/>\n",
       "<circle cx=\"96.8402\" cy=\"125.1618\" fill=\"none\" r=\"5.6693\" stroke=\"rgba(0,128,255,0.9412)\" stroke-miterlimit=\"10\" stroke-width=\"2\"/>\n",
       "<circle cx=\"180.4736\" cy=\"107.3288\" fill=\"none\" r=\"5.6693\" stroke=\"rgba(0,128,255,0.9412)\" stroke-miterlimit=\"10\" stroke-width=\"2\"/>\n",
       "<circle cx=\"124.1663\" cy=\"184.7775\" fill=\"none\" r=\"5.6693\" stroke=\"rgba(0,128,255,0.9412)\" stroke-miterlimit=\"10\" stroke-width=\"2\"/>\n",
       "<circle cx=\"197.0409\" cy=\"155.1452\" fill=\"none\" r=\"5.6693\" stroke=\"rgba(0,128,255,0.9412)\" stroke-miterlimit=\"10\" stroke-width=\"2\"/>\n",
       "<circle cx=\"96.0703\" cy=\"112.512\" fill=\"none\" r=\"5.6693\" stroke=\"rgba(0,128,255,0.9412)\" stroke-miterlimit=\"10\" stroke-width=\"2\"/>\n",
       "<circle cx=\"147.7777\" cy=\"144.0915\" fill=\"none\" r=\"5.6693\" stroke=\"rgba(0,128,255,0.9412)\" stroke-miterlimit=\"10\" stroke-width=\"2\"/>\n",
       "<circle cx=\"171.7574\" cy=\"128.3106\" fill=\"none\" r=\"5.6693\" stroke=\"rgba(0,128,255,0.9412)\" stroke-miterlimit=\"10\" stroke-width=\"2\"/>\n",
       "<circle cx=\"167.2543\" cy=\"95.8205\" fill=\"none\" r=\"5.6693\" stroke=\"rgba(0,128,255,0.9412)\" stroke-miterlimit=\"10\" stroke-width=\"2\"/>\n",
       "<circle cx=\"202.8816\" cy=\"203.0794\" fill=\"none\" r=\"5.6693\" stroke=\"rgba(0,128,255,0.9412)\" stroke-miterlimit=\"10\" stroke-width=\"2\"/>\n",
       "<circle cx=\"91.6549\" cy=\"221.6891\" fill=\"none\" r=\"5.6693\" stroke=\"rgba(0,128,255,0.9412)\" stroke-miterlimit=\"10\" stroke-width=\"2\"/>\n",
       "<circle cx=\"223.8737\" cy=\"120.6555\" fill=\"none\" r=\"5.6693\" stroke=\"rgba(0,128,255,0.9412)\" stroke-miterlimit=\"10\" stroke-width=\"2\"/>\n",
       "<circle cx=\"163.7539\" cy=\"67.5422\" fill=\"none\" r=\"5.6693\" stroke=\"rgba(0,128,255,0.9412)\" stroke-miterlimit=\"10\" stroke-width=\"2\"/>\n",
       "<circle cx=\"220.0174\" cy=\"113.3209\" fill=\"none\" r=\"5.6693\" stroke=\"rgba(0,128,255,0.9412)\" stroke-miterlimit=\"10\" stroke-width=\"2\"/>\n",
       "<circle cx=\"143.4162\" cy=\"168.0579\" fill=\"none\" r=\"5.6693\" stroke=\"rgba(0,128,255,0.9412)\" stroke-miterlimit=\"10\" stroke-width=\"2\"/>\n",
       "<circle cx=\"120.4066\" cy=\"119.1016\" fill=\"none\" r=\"5.6693\" stroke=\"rgba(0,128,255,0.9412)\" stroke-miterlimit=\"10\" stroke-width=\"2\"/>\n",
       "<circle cx=\"187.8158\" cy=\"168.3413\" fill=\"none\" r=\"5.6693\" stroke=\"rgba(0,128,255,0.9412)\" stroke-miterlimit=\"10\" stroke-width=\"2\"/>\n",
       "<circle cx=\"197.6499\" cy=\"124.4509\" fill=\"none\" r=\"5.6693\" stroke=\"rgba(0,128,255,0.9412)\" stroke-miterlimit=\"10\" stroke-width=\"2\"/>\n",
       "<circle cx=\"77.7576\" cy=\"163.5617\" fill=\"none\" r=\"5.6693\" stroke=\"rgba(0,128,255,0.9412)\" stroke-miterlimit=\"10\" stroke-width=\"2\"/>\n",
       "<circle cx=\"155.9974\" cy=\"188.2331\" fill=\"none\" r=\"5.6693\" stroke=\"rgba(0,128,255,0.9412)\" stroke-miterlimit=\"10\" stroke-width=\"2\"/>\n",
       "<circle cx=\"183.6447\" cy=\"164.3089\" fill=\"none\" r=\"5.6693\" stroke=\"rgba(0,128,255,0.9412)\" stroke-miterlimit=\"10\" stroke-width=\"2\"/>\n",
       "<circle cx=\"102.7102\" cy=\"139.3131\" fill=\"none\" r=\"5.6693\" stroke=\"rgba(0,128,255,0.9412)\" stroke-miterlimit=\"10\" stroke-width=\"2\"/>\n",
       "<circle cx=\"121.7777\" cy=\"194.3503\" fill=\"none\" r=\"5.6693\" stroke=\"rgba(0,128,255,0.9412)\" stroke-miterlimit=\"10\" stroke-width=\"2\"/>\n",
       "<circle cx=\"135.6177\" cy=\"143.6423\" fill=\"none\" r=\"5.6693\" stroke=\"rgba(0,128,255,0.9412)\" stroke-miterlimit=\"10\" stroke-width=\"2\"/>\n",
       "<circle cx=\"185.3355\" cy=\"67.2679\" fill=\"none\" r=\"5.6693\" stroke=\"rgba(0,128,255,0.9412)\" stroke-miterlimit=\"10\" stroke-width=\"2\"/>\n",
       "<circle cx=\"191.8616\" cy=\"92.5006\" fill=\"none\" r=\"5.6693\" stroke=\"rgba(0,128,255,0.9412)\" stroke-miterlimit=\"10\" stroke-width=\"2\"/>\n",
       "<circle cx=\"195.0186\" cy=\"209.5916\" fill=\"none\" r=\"5.6693\" stroke=\"rgba(0,128,255,0.9412)\" stroke-miterlimit=\"10\" stroke-width=\"2\"/>\n",
       "<circle cx=\"183.8113\" cy=\"96.1309\" fill=\"none\" r=\"5.6693\" stroke=\"rgba(0,128,255,0.9412)\" stroke-miterlimit=\"10\" stroke-width=\"2\"/>\n",
       "<circle cx=\"72.5972\" cy=\"110.4261\" fill=\"none\" r=\"5.6693\" stroke=\"rgba(0,128,255,0.9412)\" stroke-miterlimit=\"10\" stroke-width=\"2\"/>\n",
       "<circle cx=\"163.3587\" cy=\"148.9494\" fill=\"none\" r=\"5.6693\" stroke=\"rgba(0,128,255,0.9412)\" stroke-miterlimit=\"10\" stroke-width=\"2\"/>\n",
       "<circle cx=\"165.1049\" cy=\"74.1572\" fill=\"none\" r=\"5.6693\" stroke=\"rgba(0,128,255,0.9412)\" stroke-miterlimit=\"10\" stroke-width=\"2\"/>\n",
       "<circle cx=\"145.7114\" cy=\"176.9916\" fill=\"none\" r=\"5.6693\" stroke=\"rgba(0,128,255,0.9412)\" stroke-miterlimit=\"10\" stroke-width=\"2\"/>\n",
       "<circle cx=\"168.9558\" cy=\"135.8827\" fill=\"none\" r=\"5.6693\" stroke=\"rgba(0,128,255,0.9412)\" stroke-miterlimit=\"10\" stroke-width=\"2\"/>\n",
       "<circle cx=\"191.2361\" cy=\"206.3648\" fill=\"none\" r=\"5.6693\" stroke=\"rgba(0,128,255,0.9412)\" stroke-miterlimit=\"10\" stroke-width=\"2\"/>\n",
       "<circle cx=\"121.1033\" cy=\"100.4889\" fill=\"none\" r=\"5.6693\" stroke=\"rgba(0,128,255,0.9412)\" stroke-miterlimit=\"10\" stroke-width=\"2\"/>\n",
       "<circle cx=\"79.2007\" cy=\"177.3393\" fill=\"none\" r=\"5.6693\" stroke=\"rgba(0,128,255,0.9412)\" stroke-miterlimit=\"10\" stroke-width=\"2\"/>\n",
       "<circle cx=\"135.9058\" cy=\"168.4301\" fill=\"none\" r=\"5.6693\" stroke=\"rgba(0,128,255,0.9412)\" stroke-miterlimit=\"10\" stroke-width=\"2\"/>\n",
       "<circle cx=\"182.1988\" cy=\"168.1626\" fill=\"none\" r=\"5.6693\" stroke=\"rgba(0,128,255,0.9412)\" stroke-miterlimit=\"10\" stroke-width=\"2\"/>\n",
       "<circle cx=\"105.8131\" cy=\"166.6465\" fill=\"none\" r=\"5.6693\" stroke=\"rgba(0,128,255,0.9412)\" stroke-miterlimit=\"10\" stroke-width=\"2\"/>\n",
       "<circle cx=\"59.0484\" cy=\"199.7889\" fill=\"none\" r=\"5.6693\" stroke=\"rgba(0,128,255,0.9412)\" stroke-miterlimit=\"10\" stroke-width=\"2\"/>\n",
       "<circle cx=\"126.6064\" cy=\"202.6419\" fill=\"none\" r=\"5.6693\" stroke=\"rgba(0,128,255,0.9412)\" stroke-miterlimit=\"10\" stroke-width=\"2\"/>\n",
       "<circle cx=\"71.8465\" cy=\"116.4093\" fill=\"none\" r=\"5.6693\" stroke=\"rgba(0,128,255,0.9412)\" stroke-miterlimit=\"10\" stroke-width=\"2\"/>\n",
       "<circle cx=\"195.1426\" cy=\"129.7778\" fill=\"none\" r=\"5.6693\" stroke=\"rgba(0,128,255,0.9412)\" stroke-miterlimit=\"10\" stroke-width=\"2\"/>\n",
       "<circle cx=\"57.0165\" cy=\"220.2314\" fill=\"none\" r=\"5.6693\" stroke=\"rgba(0,128,255,0.9412)\" stroke-miterlimit=\"10\" stroke-width=\"2\"/>\n",
       "<circle cx=\"184.9858\" cy=\"158.3749\" fill=\"none\" r=\"5.6693\" stroke=\"rgba(0,128,255,0.9412)\" stroke-miterlimit=\"10\" stroke-width=\"2\"/>\n",
       "<circle cx=\"146.2584\" cy=\"138.6142\" fill=\"none\" r=\"5.6693\" stroke=\"rgba(0,128,255,0.9412)\" stroke-miterlimit=\"10\" stroke-width=\"2\"/>\n",
       "<circle cx=\"85.9696\" cy=\"219.9562\" fill=\"none\" r=\"5.6693\" stroke=\"rgba(0,128,255,0.9412)\" stroke-miterlimit=\"10\" stroke-width=\"2\"/>\n",
       "<circle cx=\"203.5952\" cy=\"210.7082\" fill=\"none\" r=\"5.6693\" stroke=\"rgba(0,128,255,0.9412)\" stroke-miterlimit=\"10\" stroke-width=\"2\"/>\n",
       "<circle cx=\"91.2878\" cy=\"146.5723\" fill=\"none\" r=\"5.6693\" stroke=\"rgba(0,128,255,0.9412)\" stroke-miterlimit=\"10\" stroke-width=\"2\"/>\n",
       "<circle cx=\"82.8676\" cy=\"109.2284\" fill=\"none\" r=\"5.6693\" stroke=\"rgba(0,128,255,0.9412)\" stroke-miterlimit=\"10\" stroke-width=\"2\"/>\n",
       "<circle cx=\"139.8541\" cy=\"178.4491\" fill=\"none\" r=\"5.6693\" stroke=\"rgba(0,128,255,0.9412)\" stroke-miterlimit=\"10\" stroke-width=\"2\"/>\n",
       "<circle cx=\"148.5121\" cy=\"166.5212\" fill=\"none\" r=\"5.6693\" stroke=\"rgba(0,128,255,0.9412)\" stroke-miterlimit=\"10\" stroke-width=\"2\"/>\n",
       "<circle cx=\"75.4976\" cy=\"95.2346\" fill=\"none\" r=\"5.6693\" stroke=\"rgba(0,128,255,0.9412)\" stroke-miterlimit=\"10\" stroke-width=\"2\"/>\n",
       "<circle cx=\"115.156\" cy=\"210.9292\" fill=\"none\" r=\"5.6693\" stroke=\"rgba(0,128,255,0.9412)\" stroke-miterlimit=\"10\" stroke-width=\"2\"/>\n",
       "<circle cx=\"168.8195\" cy=\"222.2849\" fill=\"none\" r=\"5.6693\" stroke=\"rgba(0,128,255,0.9412)\" stroke-miterlimit=\"10\" stroke-width=\"2\"/>\n",
       "<circle cx=\"163.2222\" cy=\"69.8193\" fill=\"none\" r=\"5.6693\" stroke=\"rgba(0,128,255,0.9412)\" stroke-miterlimit=\"10\" stroke-width=\"2\"/>\n",
       "<circle cx=\"169.6418\" cy=\"144.1642\" fill=\"none\" r=\"5.6693\" stroke=\"rgba(0,128,255,0.9412)\" stroke-miterlimit=\"10\" stroke-width=\"2\"/>\n",
       "<circle cx=\"150.5607\" cy=\"105.983\" fill=\"none\" r=\"5.6693\" stroke=\"rgba(0,128,255,0.9412)\" stroke-miterlimit=\"10\" stroke-width=\"2\"/>\n",
       "<circle cx=\"127.223\" cy=\"143.6656\" fill=\"none\" r=\"5.6693\" stroke=\"rgba(0,128,255,0.9412)\" stroke-miterlimit=\"10\" stroke-width=\"2\"/>\n",
       "<circle cx=\"101.9776\" cy=\"73.1729\" fill=\"none\" r=\"5.6693\" stroke=\"rgba(0,128,255,0.9412)\" stroke-miterlimit=\"10\" stroke-width=\"2\"/>\n",
       "<circle cx=\"120.3586\" cy=\"77.2703\" fill=\"none\" r=\"5.6693\" stroke=\"rgba(0,128,255,0.9412)\" stroke-miterlimit=\"10\" stroke-width=\"2\"/>\n",
       "<circle cx=\"173.4584\" cy=\"189.2665\" fill=\"none\" r=\"5.6693\" stroke=\"rgba(0,128,255,0.9412)\" stroke-miterlimit=\"10\" stroke-width=\"2\"/>\n",
       "<circle cx=\"81.2619\" cy=\"144.463\" fill=\"none\" r=\"5.6693\" stroke=\"rgba(0,128,255,0.9412)\" stroke-miterlimit=\"10\" stroke-width=\"2\"/>\n",
       "<circle cx=\"163.7757\" cy=\"117.0195\" fill=\"none\" r=\"5.6693\" stroke=\"rgba(0,128,255,0.9412)\" stroke-miterlimit=\"10\" stroke-width=\"2\"/>\n",
       "<circle cx=\"143.3679\" cy=\"119.1464\" fill=\"none\" r=\"5.6693\" stroke=\"rgba(0,128,255,0.9412)\" stroke-miterlimit=\"10\" stroke-width=\"2\"/>\n",
       "<circle cx=\"82.9851\" cy=\"131.7737\" fill=\"none\" r=\"5.6693\" stroke=\"rgba(0,128,255,0.9412)\" stroke-miterlimit=\"10\" stroke-width=\"2\"/>\n",
       "<circle cx=\"172.0836\" cy=\"89.057\" fill=\"none\" r=\"5.6693\" stroke=\"rgba(0,128,255,0.9412)\" stroke-miterlimit=\"10\" stroke-width=\"2\"/>\n",
       "<circle cx=\"108.9549\" cy=\"111.9923\" fill=\"none\" r=\"5.6693\" stroke=\"rgba(0,128,255,0.9412)\" stroke-miterlimit=\"10\" stroke-width=\"2\"/>\n",
       "<circle cx=\"219.1344\" cy=\"146.6846\" fill=\"none\" r=\"5.6693\" stroke=\"rgba(0,128,255,0.9412)\" stroke-miterlimit=\"10\" stroke-width=\"2\"/>\n",
       "<circle cx=\"105.7459\" cy=\"177.5391\" fill=\"none\" r=\"5.6693\" stroke=\"rgba(0,128,255,0.9412)\" stroke-miterlimit=\"10\" stroke-width=\"2\"/>\n",
       "<circle cx=\"143.6785\" cy=\"96.422\" fill=\"none\" r=\"5.6693\" stroke=\"rgba(0,128,255,0.9412)\" stroke-miterlimit=\"10\" stroke-width=\"2\"/>\n",
       "<circle cx=\"89.1929\" cy=\"208.5201\" fill=\"none\" r=\"5.6693\" stroke=\"rgba(0,128,255,0.9412)\" stroke-miterlimit=\"10\" stroke-width=\"2\"/>\n",
       "<circle cx=\"166.2722\" cy=\"141.2862\" fill=\"none\" r=\"5.6693\" stroke=\"rgba(0,128,255,0.9412)\" stroke-miterlimit=\"10\" stroke-width=\"2\"/>\n",
       "<circle cx=\"102.4979\" cy=\"206.2392\" fill=\"none\" r=\"5.6693\" stroke=\"rgba(0,128,255,0.9412)\" stroke-miterlimit=\"10\" stroke-width=\"2\"/>\n",
       "<circle cx=\"178.4323\" cy=\"178.0072\" fill=\"none\" r=\"5.6693\" stroke=\"rgba(0,128,255,0.9412)\" stroke-miterlimit=\"10\" stroke-width=\"2\"/>\n",
       "<circle cx=\"138.3987\" cy=\"143.6426\" fill=\"none\" r=\"5.6693\" stroke=\"rgba(0,128,255,0.9412)\" stroke-miterlimit=\"10\" stroke-width=\"2\"/>\n",
       "<circle cx=\"172.2511\" cy=\"191.3931\" fill=\"none\" r=\"5.6693\" stroke=\"rgba(0,128,255,0.9412)\" stroke-miterlimit=\"10\" stroke-width=\"2\"/>\n",
       "<circle cx=\"197.7209\" cy=\"115.9625\" fill=\"none\" r=\"5.6693\" stroke=\"rgba(0,128,255,0.9412)\" stroke-miterlimit=\"10\" stroke-width=\"2\"/>\n",
       "<circle cx=\"114.3998\" cy=\"95.2345\" fill=\"none\" r=\"5.6693\" stroke=\"rgba(0,128,255,0.9412)\" stroke-miterlimit=\"10\" stroke-width=\"2\"/>\n",
       "<circle cx=\"158.0054\" cy=\"187.4009\" fill=\"none\" r=\"5.6693\" stroke=\"rgba(0,128,255,0.9412)\" stroke-miterlimit=\"10\" stroke-width=\"2\"/>\n",
       "<circle cx=\"120.0465\" cy=\"140.3337\" fill=\"none\" r=\"5.6693\" stroke=\"rgba(0,128,255,0.9412)\" stroke-miterlimit=\"10\" stroke-width=\"2\"/>\n",
       "<circle cx=\"82.5216\" cy=\"93.7606\" fill=\"none\" r=\"5.6693\" stroke=\"rgba(0,128,255,0.9412)\" stroke-miterlimit=\"10\" stroke-width=\"2\"/>\n",
       "<circle cx=\"167.3195\" cy=\"155.397\" fill=\"none\" r=\"5.6693\" stroke=\"rgba(0,128,255,0.9412)\" stroke-miterlimit=\"10\" stroke-width=\"2\"/>\n",
       "<circle cx=\"119.0915\" cy=\"112.8239\" fill=\"none\" r=\"5.6693\" stroke=\"rgba(0,128,255,0.9412)\" stroke-miterlimit=\"10\" stroke-width=\"2\"/>\n",
       "<circle cx=\"105.8594\" cy=\"149.2037\" fill=\"none\" r=\"5.6693\" stroke=\"rgba(0,128,255,0.9412)\" stroke-miterlimit=\"10\" stroke-width=\"2\"/>\n",
       "<circle cx=\"123.9997\" cy=\"159.772\" fill=\"none\" r=\"5.6693\" stroke=\"rgba(0,128,255,0.9412)\" stroke-miterlimit=\"10\" stroke-width=\"2\"/>\n",
       "<circle cx=\"102.3253\" cy=\"192.3547\" fill=\"none\" r=\"5.6693\" stroke=\"rgba(0,128,255,0.9412)\" stroke-miterlimit=\"10\" stroke-width=\"2\"/>\n",
       "<circle cx=\"171.6617\" cy=\"146.3056\" fill=\"none\" r=\"5.6693\" stroke=\"rgba(0,128,255,0.9412)\" stroke-miterlimit=\"10\" stroke-width=\"2\"/>\n",
       "<circle cx=\"185.6438\" cy=\"76.3441\" fill=\"none\" r=\"5.6693\" stroke=\"rgba(0,128,255,0.9412)\" stroke-miterlimit=\"10\" stroke-width=\"2\"/>\n",
       "<circle cx=\"176.2885\" cy=\"194.4055\" fill=\"none\" r=\"5.6693\" stroke=\"rgba(0,128,255,0.9412)\" stroke-miterlimit=\"10\" stroke-width=\"2\"/>\n",
       "<circle cx=\"148.9447\" cy=\"224.5699\" fill=\"none\" r=\"5.6693\" stroke=\"rgba(0,128,255,0.9412)\" stroke-miterlimit=\"10\" stroke-width=\"2\"/>\n",
       "<circle cx=\"132.4503\" cy=\"100.1499\" fill=\"none\" r=\"5.6693\" stroke=\"rgba(0,128,255,0.9412)\" stroke-miterlimit=\"10\" stroke-width=\"2\"/>\n",
       "<circle cx=\"90.715\" cy=\"195.4334\" fill=\"none\" r=\"5.6693\" stroke=\"rgba(0,128,255,0.9412)\" stroke-miterlimit=\"10\" stroke-width=\"2\"/>\n",
       "<circle cx=\"157.207\" cy=\"63.7941\" fill=\"none\" r=\"5.6693\" stroke=\"rgba(0,128,255,0.9412)\" stroke-miterlimit=\"10\" stroke-width=\"2\"/>\n",
       "<circle cx=\"200.3981\" cy=\"171.5402\" fill=\"none\" r=\"5.6693\" stroke=\"rgba(0,128,255,0.9412)\" stroke-miterlimit=\"10\" stroke-width=\"2\"/>\n",
       "<circle cx=\"113.3863\" cy=\"115.6652\" fill=\"none\" r=\"5.6693\" stroke=\"rgba(0,128,255,0.9412)\" stroke-miterlimit=\"10\" stroke-width=\"2\"/>\n",
       "<circle cx=\"62.1285\" cy=\"126.1428\" fill=\"none\" r=\"5.6693\" stroke=\"rgba(0,128,255,0.9412)\" stroke-miterlimit=\"10\" stroke-width=\"2\"/>\n",
       "<circle cx=\"99.5695\" cy=\"104.251\" fill=\"none\" r=\"5.6693\" stroke=\"rgba(0,128,255,0.9412)\" stroke-miterlimit=\"10\" stroke-width=\"2\"/>\n",
       "<circle cx=\"95.7673\" cy=\"147.2799\" fill=\"none\" r=\"5.6693\" stroke=\"rgba(0,128,255,0.9412)\" stroke-miterlimit=\"10\" stroke-width=\"2\"/>\n",
       "<circle cx=\"81.6881\" cy=\"119.5548\" fill=\"none\" r=\"5.6693\" stroke=\"rgba(0,128,255,0.9412)\" stroke-miterlimit=\"10\" stroke-width=\"2\"/>\n",
       "<circle cx=\"142.1492\" cy=\"98.3117\" fill=\"none\" r=\"5.6693\" stroke=\"rgba(0,128,255,0.9412)\" stroke-miterlimit=\"10\" stroke-width=\"2\"/>\n",
       "<circle cx=\"216.2411\" cy=\"187.3694\" fill=\"none\" r=\"5.6693\" stroke=\"rgba(0,128,255,0.9412)\" stroke-miterlimit=\"10\" stroke-width=\"2\"/>\n",
       "<circle cx=\"127.5395\" cy=\"201.7017\" fill=\"none\" r=\"5.6693\" stroke=\"rgba(0,128,255,0.9412)\" stroke-miterlimit=\"10\" stroke-width=\"2\"/>\n",
       "<circle cx=\"126.2606\" cy=\"162.9366\" fill=\"none\" r=\"5.6693\" stroke=\"rgba(0,128,255,0.9412)\" stroke-miterlimit=\"10\" stroke-width=\"2\"/>\n",
       "<circle cx=\"189.1817\" cy=\"115.9009\" fill=\"none\" r=\"5.6693\" stroke=\"rgba(0,128,255,0.9412)\" stroke-miterlimit=\"10\" stroke-width=\"2\"/>\n",
       "<circle cx=\"138.9022\" cy=\"130.6029\" fill=\"none\" r=\"5.6693\" stroke=\"rgba(0,128,255,0.9412)\" stroke-miterlimit=\"10\" stroke-width=\"2\"/>\n",
       "<circle cx=\"86.1569\" cy=\"196.4589\" fill=\"none\" r=\"5.6693\" stroke=\"rgba(0,128,255,0.9412)\" stroke-miterlimit=\"10\" stroke-width=\"2\"/>\n",
       "<circle cx=\"137.1037\" cy=\"140.0507\" fill=\"none\" r=\"5.6693\" stroke=\"rgba(0,128,255,0.9412)\" stroke-miterlimit=\"10\" stroke-width=\"2\"/>\n",
       "<circle cx=\"85.9526\" cy=\"132.8789\" fill=\"none\" r=\"5.6693\" stroke=\"rgba(0,128,255,0.9412)\" stroke-miterlimit=\"10\" stroke-width=\"2\"/>\n",
       "<circle cx=\"179.4612\" cy=\"197.8744\" fill=\"none\" r=\"5.6693\" stroke=\"rgba(0,128,255,0.9412)\" stroke-miterlimit=\"10\" stroke-width=\"2\"/>\n",
       "<circle cx=\"166.3727\" cy=\"74.0783\" fill=\"none\" r=\"5.6693\" stroke=\"rgba(0,128,255,0.9412)\" stroke-miterlimit=\"10\" stroke-width=\"2\"/>\n",
       "<circle cx=\"180.2268\" cy=\"87.2743\" fill=\"none\" r=\"5.6693\" stroke=\"rgba(0,128,255,0.9412)\" stroke-miterlimit=\"10\" stroke-width=\"2\"/>\n",
       "<circle cx=\"195.2936\" cy=\"167.8857\" fill=\"none\" r=\"5.6693\" stroke=\"rgba(0,128,255,0.9412)\" stroke-miterlimit=\"10\" stroke-width=\"2\"/>\n",
       "<circle cx=\"189.5846\" cy=\"128.3472\" fill=\"none\" r=\"5.6693\" stroke=\"rgba(0,128,255,0.9412)\" stroke-miterlimit=\"10\" stroke-width=\"2\"/>\n",
       "<circle cx=\"133.9812\" cy=\"129.6749\" fill=\"none\" r=\"5.6693\" stroke=\"rgba(0,128,255,0.9412)\" stroke-miterlimit=\"10\" stroke-width=\"2\"/>\n",
       "<circle cx=\"188.6401\" cy=\"198.6608\" fill=\"none\" r=\"5.6693\" stroke=\"rgba(0,128,255,0.9412)\" stroke-miterlimit=\"10\" stroke-width=\"2\"/>\n",
       "<circle cx=\"96.8529\" cy=\"121.584\" fill=\"none\" r=\"5.6693\" stroke=\"rgba(0,128,255,0.9412)\" stroke-miterlimit=\"10\" stroke-width=\"2\"/>\n",
       "<circle cx=\"151.603\" cy=\"184.8327\" fill=\"none\" r=\"5.6693\" stroke=\"rgba(0,128,255,0.9412)\" stroke-miterlimit=\"10\" stroke-width=\"2\"/>\n",
       "<circle cx=\"116.8821\" cy=\"190.0029\" fill=\"none\" r=\"5.6693\" stroke=\"rgba(0,128,255,0.9412)\" stroke-miterlimit=\"10\" stroke-width=\"2\"/>\n",
       "<circle cx=\"91.7588\" cy=\"180.5601\" fill=\"none\" r=\"5.6693\" stroke=\"rgba(0,128,255,0.9412)\" stroke-miterlimit=\"10\" stroke-width=\"2\"/>\n",
       "<circle cx=\"71.975\" cy=\"95.6366\" fill=\"none\" r=\"5.6693\" stroke=\"rgba(0,128,255,0.9412)\" stroke-miterlimit=\"10\" stroke-width=\"2\"/>\n",
       "<circle cx=\"202.8445\" cy=\"167.7564\" fill=\"none\" r=\"5.6693\" stroke=\"rgba(0,128,255,0.9412)\" stroke-miterlimit=\"10\" stroke-width=\"2\"/>\n",
       "<circle cx=\"184.4367\" cy=\"190.6862\" fill=\"none\" r=\"5.6693\" stroke=\"rgba(0,128,255,0.9412)\" stroke-miterlimit=\"10\" stroke-width=\"2\"/>\n",
       "<circle cx=\"141.5\" cy=\"173.2428\" fill=\"none\" r=\"5.6693\" stroke=\"rgba(0,128,255,0.9412)\" stroke-miterlimit=\"10\" stroke-width=\"2\"/>\n",
       "<circle cx=\"185.068\" cy=\"133.4302\" fill=\"none\" r=\"5.6693\" stroke=\"rgba(0,128,255,0.9412)\" stroke-miterlimit=\"10\" stroke-width=\"2\"/>\n",
       "<circle cx=\"173.7948\" cy=\"158.1155\" fill=\"none\" r=\"5.6693\" stroke=\"rgba(0,128,255,0.9412)\" stroke-miterlimit=\"10\" stroke-width=\"2\"/>\n",
       "<circle cx=\"76.8533\" cy=\"155.5673\" fill=\"none\" r=\"5.6693\" stroke=\"rgba(0,128,255,0.9412)\" stroke-miterlimit=\"10\" stroke-width=\"2\"/>\n",
       "<circle cx=\"210.0359\" cy=\"177.0551\" fill=\"none\" r=\"5.6693\" stroke=\"rgba(0,128,255,0.9412)\" stroke-miterlimit=\"10\" stroke-width=\"2\"/>\n",
       "<circle cx=\"98.7899\" cy=\"100.226\" fill=\"none\" r=\"5.6693\" stroke=\"rgba(0,128,255,0.9412)\" stroke-miterlimit=\"10\" stroke-width=\"2\"/>\n",
       "<circle cx=\"97.0223\" cy=\"83.1474\" fill=\"none\" r=\"5.6693\" stroke=\"rgba(0,128,255,0.9412)\" stroke-miterlimit=\"10\" stroke-width=\"2\"/>\n",
       "<circle cx=\"175.8771\" cy=\"184.0328\" fill=\"none\" r=\"5.6693\" stroke=\"rgba(0,128,255,0.9412)\" stroke-miterlimit=\"10\" stroke-width=\"2\"/>\n",
       "<circle cx=\"120.4634\" cy=\"60.9577\" fill=\"none\" r=\"5.6693\" stroke=\"rgba(0,128,255,0.9412)\" stroke-miterlimit=\"10\" stroke-width=\"2\"/>\n",
       "<circle cx=\"154.0058\" cy=\"161.3753\" fill=\"none\" r=\"5.6693\" stroke=\"rgba(0,128,255,0.9412)\" stroke-miterlimit=\"10\" stroke-width=\"2\"/>\n",
       "<circle cx=\"191.7123\" cy=\"153.9209\" fill=\"none\" r=\"5.6693\" stroke=\"rgba(0,128,255,0.9412)\" stroke-miterlimit=\"10\" stroke-width=\"2\"/>\n",
       "<circle cx=\"184.0175\" cy=\"201.9279\" fill=\"none\" r=\"5.6693\" stroke=\"rgba(0,128,255,0.9412)\" stroke-miterlimit=\"10\" stroke-width=\"2\"/>\n",
       "<circle cx=\"202.7455\" cy=\"159.2776\" fill=\"none\" r=\"5.6693\" stroke=\"rgba(0,128,255,0.9412)\" stroke-miterlimit=\"10\" stroke-width=\"2\"/>\n",
       "<circle cx=\"80.0729\" cy=\"217.1275\" fill=\"none\" r=\"5.6693\" stroke=\"rgba(0,128,255,0.9412)\" stroke-miterlimit=\"10\" stroke-width=\"2\"/>\n",
       "<circle cx=\"171.0516\" cy=\"217.0481\" fill=\"none\" r=\"5.6693\" stroke=\"rgba(0,128,255,0.9412)\" stroke-miterlimit=\"10\" stroke-width=\"2\"/>\n",
       "<circle cx=\"107.9368\" cy=\"70.8411\" fill=\"none\" r=\"5.6693\" stroke=\"rgba(0,128,255,0.9412)\" stroke-miterlimit=\"10\" stroke-width=\"2\"/>\n",
       "<circle cx=\"156.221\" cy=\"136.9647\" fill=\"none\" r=\"5.6693\" stroke=\"rgba(0,128,255,0.9412)\" stroke-miterlimit=\"10\" stroke-width=\"2\"/>\n",
       "<circle cx=\"222.1552\" cy=\"219.0469\" fill=\"none\" r=\"5.6693\" stroke=\"rgba(0,128,255,0.9412)\" stroke-miterlimit=\"10\" stroke-width=\"2\"/>\n",
       "<circle cx=\"128.8449\" cy=\"76.6876\" fill=\"none\" r=\"5.6693\" stroke=\"rgba(0,128,255,0.9412)\" stroke-miterlimit=\"10\" stroke-width=\"2\"/>\n",
       "<circle cx=\"129.9033\" cy=\"118.7303\" fill=\"none\" r=\"5.6693\" stroke=\"rgba(0,128,255,0.9412)\" stroke-miterlimit=\"10\" stroke-width=\"2\"/>\n",
       "<circle cx=\"98.558\" cy=\"185.4382\" fill=\"none\" r=\"5.6693\" stroke=\"rgba(0,128,255,0.9412)\" stroke-miterlimit=\"10\" stroke-width=\"2\"/>\n",
       "<circle cx=\"77.6265\" cy=\"122.2347\" fill=\"none\" r=\"5.6693\" stroke=\"rgba(0,128,255,0.9412)\" stroke-miterlimit=\"10\" stroke-width=\"2\"/>\n",
       "<circle cx=\"141.3856\" cy=\"93.6933\" fill=\"none\" r=\"5.6693\" stroke=\"rgba(0,128,255,0.9412)\" stroke-miterlimit=\"10\" stroke-width=\"2\"/>\n",
       "<circle cx=\"114.0492\" cy=\"180.1167\" fill=\"none\" r=\"5.6693\" stroke=\"rgba(0,128,255,0.9412)\" stroke-miterlimit=\"10\" stroke-width=\"2\"/>\n",
       "<circle cx=\"152.3795\" cy=\"172.4703\" fill=\"none\" r=\"5.6693\" stroke=\"rgba(0,128,255,0.9412)\" stroke-miterlimit=\"10\" stroke-width=\"2\"/>\n",
       "<circle cx=\"151.0446\" cy=\"63.5085\" fill=\"none\" r=\"5.6693\" stroke=\"rgba(0,128,255,0.9412)\" stroke-miterlimit=\"10\" stroke-width=\"2\"/>\n",
       "<circle cx=\"59.6906\" cy=\"159.4557\" fill=\"none\" r=\"5.6693\" stroke=\"rgba(0,128,255,0.9412)\" stroke-miterlimit=\"10\" stroke-width=\"2\"/>\n",
       "<circle cx=\"100.1666\" cy=\"123.3426\" fill=\"none\" r=\"5.6693\" stroke=\"rgba(0,128,255,0.9412)\" stroke-miterlimit=\"10\" stroke-width=\"2\"/>\n",
       "<circle cx=\"205.8394\" cy=\"98.8755\" fill=\"none\" r=\"5.6693\" stroke=\"rgba(0,128,255,0.9412)\" stroke-miterlimit=\"10\" stroke-width=\"2\"/>\n",
       "<circle cx=\"166.6004\" cy=\"125.4294\" fill=\"none\" r=\"5.6693\" stroke=\"rgba(0,128,255,0.9412)\" stroke-miterlimit=\"10\" stroke-width=\"2\"/>\n",
       "<circle cx=\"85.4202\" cy=\"148.8981\" fill=\"none\" r=\"5.6693\" stroke=\"rgba(0,128,255,0.9412)\" stroke-miterlimit=\"10\" stroke-width=\"2\"/>\n",
       "<circle cx=\"115.5251\" cy=\"89.234\" fill=\"none\" r=\"5.6693\" stroke=\"rgba(0,128,255,0.9412)\" stroke-miterlimit=\"10\" stroke-width=\"2\"/>\n",
       "<circle cx=\"159.2698\" cy=\"103.8854\" fill=\"none\" r=\"5.6693\" stroke=\"rgba(0,128,255,0.9412)\" stroke-miterlimit=\"10\" stroke-width=\"2\"/>\n",
       "<circle cx=\"198.0506\" cy=\"173.2279\" fill=\"none\" r=\"5.6693\" stroke=\"rgba(0,128,255,0.9412)\" stroke-miterlimit=\"10\" stroke-width=\"2\"/>\n",
       "<circle cx=\"162.0386\" cy=\"107.3508\" fill=\"none\" r=\"5.6693\" stroke=\"rgba(0,128,255,0.9412)\" stroke-miterlimit=\"10\" stroke-width=\"2\"/>\n",
       "<circle cx=\"74.0897\" cy=\"175.9218\" fill=\"none\" r=\"5.6693\" stroke=\"rgba(0,128,255,0.9412)\" stroke-miterlimit=\"10\" stroke-width=\"2\"/>\n",
       "<circle cx=\"162.9676\" cy=\"194.6861\" fill=\"none\" r=\"5.6693\" stroke=\"rgba(0,128,255,0.9412)\" stroke-miterlimit=\"10\" stroke-width=\"2\"/>\n",
       "<circle cx=\"152.9838\" cy=\"146.3961\" fill=\"none\" r=\"5.6693\" stroke=\"rgba(0,128,255,0.9412)\" stroke-miterlimit=\"10\" stroke-width=\"2\"/>\n",
       "<circle cx=\"126.7824\" cy=\"96.2143\" fill=\"none\" r=\"5.6693\" stroke=\"rgba(0,128,255,0.9412)\" stroke-miterlimit=\"10\" stroke-width=\"2\"/>\n",
       "<circle cx=\"184.7517\" cy=\"154.3014\" fill=\"none\" r=\"5.6693\" stroke=\"rgba(0,128,255,0.9412)\" stroke-miterlimit=\"10\" stroke-width=\"2\"/>\n",
       "<circle cx=\"217.4533\" cy=\"195.3379\" fill=\"none\" r=\"5.6693\" stroke=\"rgba(0,128,255,0.9412)\" stroke-miterlimit=\"10\" stroke-width=\"2\"/>\n",
       "<circle cx=\"140.9432\" cy=\"140.882\" fill=\"none\" r=\"5.6693\" stroke=\"rgba(0,128,255,0.9412)\" stroke-miterlimit=\"10\" stroke-width=\"2\"/>\n",
       "</svg>"
      ],
      "text/plain": [
       "<IPython.core.display.SVG object>"
      ]
     },
     "metadata": {},
     "output_type": "display_data"
    }
   ],
   "source": [
    "d = document(100, 100, 'mm')\n",
    "page = d.addpage()\n",
    "uniform_fig = shape().nostroke().stroke(rgba(255, 0, 0, 240)).width(1).nofill()\n",
    "normal_fig = shape().nostroke().stroke(rgba(64, 220, 64, 240)).width(1.5).nofill()\n",
    "t_normal_fig = shape().nostroke().stroke(rgba(0, 128, 255, 240)).width(2).nofill()\n",
    "mu = 50 # center of normal distributions\n",
    "sigma = 20 # standard deviation of normal distributions\n",
    "sample_n = 400 # number of \"samples\" (i.e. circles to draw for each distribution)\n",
    "for i in range(sample_n):\n",
    "    c = uniform_fig.circle(uniform(100), uniform(100), 1)\n",
    "    page.place(c)\n",
    "for i in range(sample_n):\n",
    "    c = normal_fig.circle(normal(mu, sigma), normal(mu, sigma), 1.5)\n",
    "    page.place(c)\n",
    "for i in range(sample_n):\n",
    "    c = t_normal_fig.circle(t_normal(20, 80, mu, sigma), t_normal(20, 80, mu, sigma), 2)\n",
    "    page.place(c)\n",
    "show(page)"
   ]
  },
  {
   "cell_type": "markdown",
   "metadata": {},
   "source": [
    "> Exercise: Copy the visualization above, but rewrite it to visualize three normal distributions with different standard deviations."
   ]
  },
  {
   "cell_type": "markdown",
   "metadata": {},
   "source": [
    "## Random compositions\n",
    "\n",
    "The following code uses random numbers to set the stroke color, fill color, and position of a rectangle on the page. (Run it multiple times to see the results.)"
   ]
  },
  {
   "cell_type": "code",
   "execution_count": 32,
   "metadata": {},
   "outputs": [
    {
     "data": {
      "image/svg+xml": [
       "<svg height=\"283.4646pt\" version=\"1.1\" viewBox=\"0 0 283.4646 283.4646\" width=\"283.4646pt\" xmlns=\"http://www.w3.org/2000/svg\" xmlns:xlink=\"http://www.w3.org/1999/xlink\">\n",
       "<title>Untitled</title>\n",
       "<rect fill=\"rgba(95,174,56,0.1569)\" height=\"69.739\" stroke=\"rgba(67,20,164,1)\" stroke-miterlimit=\"10\" stroke-width=\"4.4007\" width=\"112.033\" x=\"66.937\" y=\"91.9616\"/>\n",
       "</svg>"
      ],
      "text/plain": [
       "<IPython.core.display.SVG object>"
      ]
     },
     "metadata": {},
     "output_type": "display_data"
    }
   ],
   "source": [
    "d = document(100, 100, 'mm')\n",
    "page = d.addpage()\n",
    "stroke_c = rgba(int(t_normal(0, 100, 50, 25)),\n",
    "                int(t_normal(0, 100, 50, 25)),\n",
    "                int(uniform(255)),\n",
    "                255)\n",
    "fill_c = rgba(int(uniform(255)),\n",
    "              int(uniform(255)),\n",
    "              int(uniform(255)),\n",
    "              choice([40, 255], p=[0.9, 0.1]))\n",
    "figure = shape().stroke(stroke_c).fill(fill_c).width(uniform(5))\n",
    "rect = figure.rectangle(\n",
    "    normal(25, 10), normal(25, 10),\n",
    "    normal(50, 10), normal(20, 10))\n",
    "page.place(rect)\n",
    "show(page)"
   ]
  },
  {
   "cell_type": "markdown",
   "metadata": {},
   "source": [
    "Play around with the parameters a bit until you understand how it works. Anywhere you see a call to `uniform()`, `normal()`, `t_normal()` or `choice()`, you can replace it with a call to another one of those same functions. (Note that colors values *always* have to be integers and always need to be between 0–255.)\n",
    "\n",
    "The cell below uses a `for` loop to draw multiple rectangles:"
   ]
  },
  {
   "cell_type": "code",
   "execution_count": 33,
   "metadata": {},
   "outputs": [
    {
     "data": {
      "image/svg+xml": [
       "<svg height=\"283.4646pt\" version=\"1.1\" viewBox=\"0 0 283.4646 283.4646\" width=\"283.4646pt\" xmlns=\"http://www.w3.org/2000/svg\" xmlns:xlink=\"http://www.w3.org/1999/xlink\">\n",
       "<title>Untitled</title>\n",
       "<rect fill=\"rgba(22,40,85,0.1569)\" height=\"85.5093\" stroke=\"rgba(55,91,207,1)\" stroke-miterlimit=\"10\" stroke-width=\"2.8968\" width=\"169.0104\" x=\"82.7859\" y=\"52.7036\"/>\n",
       "<rect fill=\"rgba(79,35,41,0.1569)\" height=\"60.3233\" stroke=\"rgba(88,85,122,1)\" stroke-miterlimit=\"10\" stroke-width=\"2.6452\" width=\"130.6011\" x=\"16.3206\" y=\"55.7977\"/>\n",
       "<rect fill=\"rgba(251,91,231,0.1569)\" height=\"80.3803\" stroke=\"rgba(42,23,248,1)\" stroke-miterlimit=\"10\" stroke-width=\"3.4571\" width=\"139.0063\" x=\"58.5167\" y=\"66.241\"/>\n",
       "<rect fill=\"rgba(98,241,184,0.1569)\" height=\"124.214\" stroke=\"rgba(87,67,201,1)\" stroke-miterlimit=\"10\" stroke-width=\"3.7632\" width=\"183.393\" x=\"64.6055\" y=\"65.7547\"/>\n",
       "<rect fill=\"rgba(149,214,126,0.1569)\" height=\"55.2156\" stroke=\"rgba(45,40,156,1)\" stroke-miterlimit=\"10\" stroke-width=\"3.5748\" width=\"177.0706\" x=\"72.019\" y=\"92.3374\"/>\n",
       "<rect fill=\"rgba(105,254,16,0.1569)\" height=\"22.2758\" stroke=\"rgba(63,22,20,1)\" stroke-miterlimit=\"10\" stroke-width=\"1.118\" width=\"173.8504\" x=\"101.8142\" y=\"59.4747\"/>\n",
       "<rect fill=\"rgba(60,207,45,0.1569)\" height=\"11.7225\" stroke=\"rgba(75,79,114,1)\" stroke-miterlimit=\"10\" stroke-width=\"1.0247\" width=\"141.367\" x=\"114.6081\" y=\"46.0303\"/>\n",
       "<rect fill=\"rgba(124,207,238,1)\" height=\"79.0911\" stroke=\"rgba(71,35,71,1)\" stroke-miterlimit=\"10\" stroke-width=\"3.8856\" width=\"161.7709\" x=\"97.4296\" y=\"72.4822\"/>\n",
       "<rect fill=\"rgba(53,91,209,1)\" height=\"50.3923\" stroke=\"rgba(29,22,115,1)\" stroke-miterlimit=\"10\" stroke-width=\"2.0665\" width=\"129.7417\" x=\"88.57\" y=\"140.1248\"/>\n",
       "<rect fill=\"rgba(242,54,155,0.1569)\" height=\"75.372\" stroke=\"rgba(69,39,153,1)\" stroke-miterlimit=\"10\" stroke-width=\"4.4755\" width=\"142.2809\" x=\"49.8092\" y=\"76.5908\"/>\n",
       "<rect fill=\"rgba(194,101,188,0.1569)\" height=\"46.0703\" stroke=\"rgba(28,65,186,1)\" stroke-miterlimit=\"10\" stroke-width=\"4.9167\" width=\"139.0192\" x=\"96.3066\" y=\"96.8267\"/>\n",
       "<rect fill=\"rgba(250,72,145,0.1569)\" height=\"78.7181\" stroke=\"rgba(37,45,216,1)\" stroke-miterlimit=\"10\" stroke-width=\"1.3957\" width=\"148.9899\" x=\"93.2989\" y=\"96.9483\"/>\n",
       "<rect fill=\"rgba(108,82,63,0.1569)\" height=\"66.2787\" stroke=\"rgba(82,46,161,1)\" stroke-miterlimit=\"10\" stroke-width=\"4.6647\" width=\"189.607\" x=\"42.7092\" y=\"66.2164\"/>\n",
       "<rect fill=\"rgba(2,75,79,1)\" height=\"100.8777\" stroke=\"rgba(56,52,70,1)\" stroke-miterlimit=\"10\" stroke-width=\"2.7722\" width=\"129.7536\" x=\"90.4067\" y=\"71.1282\"/>\n",
       "<rect fill=\"rgba(220,152,243,0.1569)\" height=\"93.1239\" stroke=\"rgba(21,54,250,1)\" stroke-miterlimit=\"10\" stroke-width=\"4.7367\" width=\"121.2154\" x=\"65.368\" y=\"99.1945\"/>\n",
       "<rect fill=\"rgba(20,125,123,0.1569)\" height=\"-40.2067\" stroke=\"rgba(35,23,35,1)\" stroke-miterlimit=\"10\" stroke-width=\"1.9564\" width=\"137.5822\" x=\"3.2315\" y=\"141.4213\"/>\n",
       "<rect fill=\"rgba(232,134,184,0.1569)\" height=\"61.3043\" stroke=\"rgba(36,23,213,1)\" stroke-miterlimit=\"10\" stroke-width=\"2.7182\" width=\"141.0431\" x=\"67.6596\" y=\"27.3222\"/>\n",
       "<rect fill=\"rgba(253,137,98,0.1569)\" height=\"47.7597\" stroke=\"rgba(96,48,180,1)\" stroke-miterlimit=\"10\" stroke-width=\"4.4926\" width=\"127.5594\" x=\"12.8713\" y=\"94.6327\"/>\n",
       "<rect fill=\"rgba(57,166,89,0.1569)\" height=\"51.7108\" stroke=\"rgba(81,82,62,1)\" stroke-miterlimit=\"10\" stroke-width=\"1.7575\" width=\"124.8312\" x=\"60.9696\" y=\"55.1562\"/>\n",
       "<rect fill=\"rgba(252,229,43,0.1569)\" height=\"79.3591\" stroke=\"rgba(44,38,110,1)\" stroke-miterlimit=\"10\" stroke-width=\"2.0072\" width=\"167.6569\" x=\"93.9374\" y=\"54.1406\"/>\n",
       "<rect fill=\"rgba(230,65,90,0.1569)\" height=\"61.0554\" stroke=\"rgba(69,38,27,1)\" stroke-miterlimit=\"10\" stroke-width=\"3.897\" width=\"153.1449\" x=\"43.7804\" y=\"39.2192\"/>\n",
       "</svg>"
      ],
      "text/plain": [
       "<IPython.core.display.SVG object>"
      ]
     },
     "metadata": {},
     "output_type": "display_data"
    }
   ],
   "source": [
    "d = document(100, 100, 'mm')\n",
    "page = d.addpage()\n",
    "for i in range(int(uniform(8, 24))):\n",
    "    stroke_c = rgba(int(t_normal(0, 100, 50, 25)),\n",
    "                    int(t_normal(0, 100, 50, 25)),\n",
    "                    int(uniform(255)),\n",
    "                    255)\n",
    "    fill_c = rgba(int(uniform(255)),\n",
    "                  int(uniform(255)),\n",
    "                  int(uniform(255)),\n",
    "                  choice([40, 255], p=[0.9, 0.1]))\n",
    "    figure = shape().stroke(stroke_c).fill(fill_c).width(uniform(5))\n",
    "    rect = figure.rectangle(normal(25, 10), normal(25, 10),\n",
    "                            normal(50, 10), normal(20, 10))\n",
    "    page.place(rect)\n",
    "show(page)"
   ]
  },
  {
   "cell_type": "markdown",
   "metadata": {},
   "source": [
    "Here's another example that uses circles instead of rectangles:"
   ]
  },
  {
   "cell_type": "code",
   "execution_count": 34,
   "metadata": {},
   "outputs": [
    {
     "data": {
      "image/svg+xml": [
       "<svg height=\"283.4646pt\" version=\"1.1\" viewBox=\"0 0 283.4646 283.4646\" width=\"283.4646pt\" xmlns=\"http://www.w3.org/2000/svg\" xmlns:xlink=\"http://www.w3.org/1999/xlink\">\n",
       "<title>Untitled</title>\n",
       "<circle cx=\"110.1254\" cy=\"166.0644\" fill=\"rgba(0,0,34,0.3137)\" r=\"94.2269\"/>\n",
       "<circle cx=\"198.4966\" cy=\"148.0732\" fill=\"rgba(0,0,101,0.3137)\" r=\"21.7348\"/>\n",
       "<circle cx=\"89.1989\" cy=\"111.6928\" fill=\"rgba(0,0,161,0.1569)\" r=\"122.3014\"/>\n",
       "<circle cx=\"109.6399\" cy=\"152.3666\" fill=\"rgba(0,0,183,0.3137)\" r=\"32.7109\"/>\n",
       "<circle cx=\"166.0088\" cy=\"145.3176\" fill=\"rgba(0,0,185,0.3137)\" r=\"57.9697\"/>\n",
       "<circle cx=\"164.8021\" cy=\"126.3741\" fill=\"rgba(0,0,30,0.3137)\" r=\"60.7735\"/>\n",
       "<circle cx=\"171.5311\" cy=\"147.3752\" fill=\"rgba(0,0,170,0.3137)\" r=\"41.3466\"/>\n",
       "<circle cx=\"65.9702\" cy=\"104.9175\" fill=\"rgba(0,0,95,0.1569)\" r=\"56.6292\"/>\n",
       "<circle cx=\"145.7306\" cy=\"134.1763\" fill=\"rgba(0,0,64,0.1569)\" r=\"47.7272\"/>\n",
       "<circle cx=\"138.3606\" cy=\"118.8675\" fill=\"rgba(0,0,18,0.1569)\" r=\"113.1724\"/>\n",
       "<circle cx=\"124.6467\" cy=\"147.3103\" fill=\"rgba(0,0,79,0.3137)\" r=\"62.7677\"/>\n",
       "<circle cx=\"176.0526\" cy=\"111.8734\" fill=\"rgba(0,0,223,0.1569)\" r=\"58.0055\"/>\n",
       "</svg>"
      ],
      "text/plain": [
       "<IPython.core.display.SVG object>"
      ]
     },
     "metadata": {},
     "output_type": "display_data"
    }
   ],
   "source": [
    "d = document(100, 100, 'mm')\n",
    "page = d.addpage()\n",
    "for i in range(12):\n",
    "    fill_c = rgba(0, 0, int(uniform(255)), choice([40, 80], p=[0.5, 0.5]))\n",
    "    figure = shape().nostroke().fill(fill_c).width(np.random.uniform(5))\n",
    "    rect = figure.circle(normal(50, 10), normal(50, 10), t_normal(0, 100, 25, 15))\n",
    "    page.place(rect)\n",
    "show(page)"
   ]
  },
  {
   "cell_type": "markdown",
   "metadata": {},
   "source": [
    "> Exercise: Write code to generate random compositions by copying one of the cells above and modifying the parameters. Also try adding in new shapes or combining different kinds of shapes.\n",
    "\n",
    "> Exercise: Can you figure out how to make the \"page\" bigger? How do you need to adjust the parameters in the random number-generating functions to compensate?"
   ]
  },
  {
   "cell_type": "markdown",
   "metadata": {},
   "source": [
    "## Saving to disk\n",
    "\n",
    "If you make something with Flat that you really like, you can save it to disk for later use. You can do this in a number of ways, outputting to a number of formats. The `page` object's `.svg()` function returns a string of SVG:"
   ]
  },
  {
   "cell_type": "code",
   "execution_count": 35,
   "metadata": {
    "scrolled": true
   },
   "outputs": [
    {
     "data": {
      "text/plain": [
       "b'<?xml version=\"1.0\" encoding=\"UTF-8\"?>\\n<!-- Flat -->\\n<svg version=\"1.1\" xmlns=\"http://www.w3.org/2000/svg\" xmlns:xlink=\"http://www.w3.org/1999/xlink\" width=\"283.4646pt\" height=\"283.4646pt\" viewBox=\"0 0 283.4646 283.4646\">\\n<title>Untitled</title>\\n<circle cx=\"110.1254\" cy=\"166.0644\" r=\"94.2269\" fill=\"rgba(0,0,34,0.3137)\" />\\n<circle cx=\"198.4966\" cy=\"148.0732\" r=\"21.7348\" fill=\"rgba(0,0,101,0.3137)\" />\\n<circle cx=\"89.1989\" cy=\"111.6928\" r=\"122.3014\" fill=\"rgba(0,0,161,0.1569)\" />\\n<circle cx=\"109.6399\" cy=\"152.3666\" r=\"32.7109\" fill=\"rgba(0,0,183,0.3137)\" />\\n<circle cx=\"166.0088\" cy=\"145.3176\" r=\"57.9697\" fill=\"rgba(0,0,185,0.3137)\" />\\n<circle cx=\"164.8021\" cy=\"126.3741\" r=\"60.7735\" fill=\"rgba(0,0,30,0.3137)\" />\\n<circle cx=\"171.5311\" cy=\"147.3752\" r=\"41.3466\" fill=\"rgba(0,0,170,0.3137)\" />\\n<circle cx=\"65.9702\" cy=\"104.9175\" r=\"56.6292\" fill=\"rgba(0,0,95,0.1569)\" />\\n<circle cx=\"145.7306\" cy=\"134.1763\" r=\"47.7272\" fill=\"rgba(0,0,64,0.1569)\" />\\n<circle cx=\"138.3606\" cy=\"118.8675\" r=\"113.1724\" fill=\"rgba(0,0,18,0.1569)\" />\\n<circle cx=\"124.6467\" cy=\"147.3103\" r=\"62.7677\" fill=\"rgba(0,0,79,0.3137)\" />\\n<circle cx=\"176.0526\" cy=\"111.8734\" r=\"58.0055\" fill=\"rgba(0,0,223,0.1569)\" />\\n</svg>'"
      ]
     },
     "execution_count": 35,
     "metadata": {},
     "output_type": "execute_result"
    }
   ],
   "source": [
    "page.svg()"
   ]
  },
  {
   "cell_type": "markdown",
   "metadata": {},
   "source": [
    "Which you can then write to disk using the following code:"
   ]
  },
  {
   "cell_type": "code",
   "execution_count": 42,
   "metadata": {},
   "outputs": [],
   "source": [
    "with open(\"test.svg\", \"wb\") as fh:\n",
    "    fh.write(page.svg())"
   ]
  },
  {
   "cell_type": "markdown",
   "metadata": {},
   "source": [
    "You can open this SVG file with most vector editors (Inkscape, Illustrator, etc.), though note that if you use `rgba` colors, the file might not work in some editors.\n",
    "\n",
    "You can also save as an image using the `page` object's `.image()` method. For example, to save as a PNG:"
   ]
  },
  {
   "cell_type": "code",
   "execution_count": 49,
   "metadata": {},
   "outputs": [],
   "source": [
    "with open(\"test.png\", \"wb\") as fh:\n",
    "    fh.write(page.image(ppi=72, kind=\"rgba\").png())"
   ]
  },
  {
   "cell_type": "markdown",
   "metadata": {},
   "source": [
    "Adjust the DPI with the `ppi` parameter. Note that Flat's PNG rasterizer is very slow, so preview at lower DPI before waiting for a higher-resolution render."
   ]
  },
  {
   "cell_type": "markdown",
   "metadata": {},
   "source": [
    "## Polylines\n",
    "\n",
    "Okay, so, random numbers are good! But how does this help us model pen strokes? Good question. We're getting there! The next step in our asemic journey is to create a *series of lines* linking a given list of points (specified as (x, y) coordinates). The name for this shape—a series of connected lines—is a *polyline*.\n",
    "\n",
    "The first step in making a polyline is to generate some points. The following cell creates a Python list with randomly-generated points:"
   ]
  },
  {
   "cell_type": "code",
   "execution_count": 51,
   "metadata": {},
   "outputs": [],
   "source": [
    "pts = []\n",
    "for i in range(10):\n",
    "    pts.append([uniform(100), uniform(100)])"
   ]
  },
  {
   "cell_type": "markdown",
   "metadata": {},
   "source": [
    "Here's what the points look like. This is a data structure called a *list of lists* (i.e., a list that has other lists as its elements), which for various reasons is a convenient way to store polylines and polygons."
   ]
  },
  {
   "cell_type": "code",
   "execution_count": 52,
   "metadata": {
    "scrolled": true
   },
   "outputs": [
    {
     "data": {
      "text/plain": [
       "[[60.36032459908069, 65.3547158977641],\n",
       " [62.280674203797, 56.94104586013925],\n",
       " [83.91142491866088, 26.302416224592136],\n",
       " [4.390702053990822, 80.75201414951343],\n",
       " [93.01380401589927, 96.38233118569023],\n",
       " [82.47451022960348, 93.1129012325444],\n",
       " [75.35808534409213, 12.869157039321635],\n",
       " [18.112911517764715, 43.14229924748643],\n",
       " [19.140594247817674, 11.413486577310124],\n",
       " [28.01777525187366, 64.2754919556746]]"
      ]
     },
     "execution_count": 52,
     "metadata": {},
     "output_type": "execute_result"
    }
   ],
   "source": [
    "pts"
   ]
  },
  {
   "cell_type": "markdown",
   "metadata": {},
   "source": [
    "And here's some code to draw the points on a page, using a circle to mark each point."
   ]
  },
  {
   "cell_type": "code",
   "execution_count": 53,
   "metadata": {},
   "outputs": [
    {
     "data": {
      "image/svg+xml": [
       "<svg height=\"283.4646pt\" version=\"1.1\" viewBox=\"0 0 283.4646 283.4646\" width=\"283.4646pt\" xmlns=\"http://www.w3.org/2000/svg\" xmlns:xlink=\"http://www.w3.org/1999/xlink\">\n",
       "<title>Untitled</title>\n",
       "<circle cx=\"171.1001\" cy=\"185.2575\" fill=\"none\" r=\"5.6693\" stroke=\"rgba(0,0,0,1)\" stroke-miterlimit=\"10\"/>\n",
       "<circle cx=\"176.5436\" cy=\"161.4077\" fill=\"none\" r=\"5.6693\" stroke=\"rgba(0,0,0,1)\" stroke-miterlimit=\"10\"/>\n",
       "<circle cx=\"237.8592\" cy=\"74.558\" fill=\"none\" r=\"5.6693\" stroke=\"rgba(0,0,0,1)\" stroke-miterlimit=\"10\"/>\n",
       "<circle cx=\"12.4461\" cy=\"228.9033\" fill=\"none\" r=\"5.6693\" stroke=\"rgba(0,0,0,1)\" stroke-miterlimit=\"10\"/>\n",
       "<circle cx=\"263.6612\" cy=\"273.2098\" fill=\"none\" r=\"5.6693\" stroke=\"rgba(0,0,0,1)\" stroke-miterlimit=\"10\"/>\n",
       "<circle cx=\"233.786\" cy=\"263.9421\" fill=\"none\" r=\"5.6693\" stroke=\"rgba(0,0,0,1)\" stroke-miterlimit=\"10\"/>\n",
       "<circle cx=\"213.6135\" cy=\"36.4795\" fill=\"none\" r=\"5.6693\" stroke=\"rgba(0,0,0,1)\" stroke-miterlimit=\"10\"/>\n",
       "<circle cx=\"51.3437\" cy=\"122.2931\" fill=\"none\" r=\"5.6693\" stroke=\"rgba(0,0,0,1)\" stroke-miterlimit=\"10\"/>\n",
       "<circle cx=\"54.2568\" cy=\"32.3532\" fill=\"none\" r=\"5.6693\" stroke=\"rgba(0,0,0,1)\" stroke-miterlimit=\"10\"/>\n",
       "<circle cx=\"79.4205\" cy=\"182.1982\" fill=\"none\" r=\"5.6693\" stroke=\"rgba(0,0,0,1)\" stroke-miterlimit=\"10\"/>\n",
       "</svg>"
      ],
      "text/plain": [
       "<IPython.core.display.SVG object>"
      ]
     },
     "metadata": {},
     "output_type": "display_data"
    }
   ],
   "source": [
    "d = document(100, 100, 'mm')\n",
    "page = d.addpage()\n",
    "figure = shape().stroke(rgba(0, 0, 0, 255)).width(1)\n",
    "for item in pts: # loop through the pts list, assigning each point to variable item\n",
    "    c = figure.circle(item[0], item[1], 2)\n",
    "    page.place(c)\n",
    "show(page)"
   ]
  },
  {
   "cell_type": "markdown",
   "metadata": {},
   "source": [
    "The flat library has a built-in shape type, `.polyline()`, which draws lines connecting points. But the function wants the points as a list of points with the `x` and `y` coordinates directly following one another:"
   ]
  },
  {
   "cell_type": "code",
   "execution_count": 54,
   "metadata": {},
   "outputs": [
    {
     "data": {
      "image/svg+xml": [
       "<svg height=\"283.4646pt\" version=\"1.1\" viewBox=\"0 0 283.4646 283.4646\" width=\"283.4646pt\" xmlns=\"http://www.w3.org/2000/svg\" xmlns:xlink=\"http://www.w3.org/1999/xlink\">\n",
       "<title>Untitled</title>\n",
       "<polyline fill=\"none\" points=\"56.6929 28.3465 113.3858 212.5984 255.1181 240.9449 42.5197 42.5197\" stroke=\"rgba(0,0,0,1)\" stroke-miterlimit=\"10\"/>\n",
       "</svg>"
      ],
      "text/plain": [
       "<IPython.core.display.SVG object>"
      ]
     },
     "metadata": {},
     "output_type": "display_data"
    }
   ],
   "source": [
    "d = document(100, 100, 'mm')\n",
    "page = d.addpage()\n",
    "figure = shape().stroke(rgba(0, 0, 0, 255)).width(1)\n",
    "lines = figure.polyline([20, 10, 40, 75, 90, 85, 15, 15])\n",
    "page.place(lines)\n",
    "show(page)"
   ]
  },
  {
   "cell_type": "markdown",
   "metadata": {},
   "source": [
    "To get around this requirement of the library, the function below takes a list of lists and flattens it into a list (with the `x` and `y` components of the coordinates appropriately interleaved)."
   ]
  },
  {
   "cell_type": "code",
   "execution_count": 55,
   "metadata": {},
   "outputs": [],
   "source": [
    "def flatten(t):\n",
    "    from itertools import chain\n",
    "    return list(chain(*t))"
   ]
  },
  {
   "cell_type": "markdown",
   "metadata": {},
   "source": [
    "The code in the cell below draws a polyline from our randomly-generated points and draws circles where each point lies:"
   ]
  },
  {
   "cell_type": "code",
   "execution_count": 56,
   "metadata": {},
   "outputs": [
    {
     "data": {
      "image/svg+xml": [
       "<svg height=\"283.4646pt\" version=\"1.1\" viewBox=\"0 0 283.4646 283.4646\" width=\"283.4646pt\" xmlns=\"http://www.w3.org/2000/svg\" xmlns:xlink=\"http://www.w3.org/1999/xlink\">\n",
       "<title>Untitled</title>\n",
       "<polyline fill=\"none\" points=\"171.1001 185.2575 176.5436 161.4077 237.8592 74.558 12.4461 228.9033 263.6612 273.2098 233.786 263.9421 213.6135 36.4795 51.3437 122.2931 54.2568 32.3532 79.4205 182.1982\" stroke=\"rgba(0,0,0,1)\" stroke-miterlimit=\"10\"/>\n",
       "<circle cx=\"171.1001\" cy=\"185.2575\" fill=\"none\" r=\"5.6693\" stroke=\"rgba(0,0,0,1)\" stroke-miterlimit=\"10\"/>\n",
       "<circle cx=\"176.5436\" cy=\"161.4077\" fill=\"none\" r=\"5.6693\" stroke=\"rgba(0,0,0,1)\" stroke-miterlimit=\"10\"/>\n",
       "<circle cx=\"237.8592\" cy=\"74.558\" fill=\"none\" r=\"5.6693\" stroke=\"rgba(0,0,0,1)\" stroke-miterlimit=\"10\"/>\n",
       "<circle cx=\"12.4461\" cy=\"228.9033\" fill=\"none\" r=\"5.6693\" stroke=\"rgba(0,0,0,1)\" stroke-miterlimit=\"10\"/>\n",
       "<circle cx=\"263.6612\" cy=\"273.2098\" fill=\"none\" r=\"5.6693\" stroke=\"rgba(0,0,0,1)\" stroke-miterlimit=\"10\"/>\n",
       "<circle cx=\"233.786\" cy=\"263.9421\" fill=\"none\" r=\"5.6693\" stroke=\"rgba(0,0,0,1)\" stroke-miterlimit=\"10\"/>\n",
       "<circle cx=\"213.6135\" cy=\"36.4795\" fill=\"none\" r=\"5.6693\" stroke=\"rgba(0,0,0,1)\" stroke-miterlimit=\"10\"/>\n",
       "<circle cx=\"51.3437\" cy=\"122.2931\" fill=\"none\" r=\"5.6693\" stroke=\"rgba(0,0,0,1)\" stroke-miterlimit=\"10\"/>\n",
       "<circle cx=\"54.2568\" cy=\"32.3532\" fill=\"none\" r=\"5.6693\" stroke=\"rgba(0,0,0,1)\" stroke-miterlimit=\"10\"/>\n",
       "<circle cx=\"79.4205\" cy=\"182.1982\" fill=\"none\" r=\"5.6693\" stroke=\"rgba(0,0,0,1)\" stroke-miterlimit=\"10\"/>\n",
       "</svg>"
      ],
      "text/plain": [
       "<IPython.core.display.SVG object>"
      ]
     },
     "metadata": {},
     "output_type": "display_data"
    }
   ],
   "source": [
    "d = document(100, 100, 'mm')\n",
    "page = d.addpage()\n",
    "figure = shape().stroke(rgba(0, 0, 0, 255)).width(1)\n",
    "lines = figure.polyline(flatten(pts))\n",
    "page.place(lines)\n",
    "for item in pts:\n",
    "    c = figure.circle(item[0], item[1], 2)\n",
    "    page.place(c)\n",
    "show(page)"
   ]
  },
  {
   "cell_type": "markdown",
   "metadata": {},
   "source": [
    "Combining all of this in the same cell, and getting rid of the circles on the points, gives us some code that generates designs that *almost* look like alien glyphs:"
   ]
  },
  {
   "cell_type": "code",
   "execution_count": 57,
   "metadata": {},
   "outputs": [
    {
     "data": {
      "image/svg+xml": [
       "<svg height=\"283.4646pt\" version=\"1.1\" viewBox=\"0 0 283.4646 283.4646\" width=\"283.4646pt\" xmlns=\"http://www.w3.org/2000/svg\" xmlns:xlink=\"http://www.w3.org/1999/xlink\">\n",
       "<title>Untitled</title>\n",
       "<polyline fill=\"none\" points=\"234.2748 241.346 96.9937 103.0389 233.7625 219.4385 231.3858 134.4883 19.5152 10.6996 214.1296 64.3294 9.4499 229.8132 21.057 102.9907 248.3504 84.9917 26.2382 104.8148\" stroke=\"rgba(0,0,0,1)\" stroke-miterlimit=\"10\"/>\n",
       "</svg>"
      ],
      "text/plain": [
       "<IPython.core.display.SVG object>"
      ]
     },
     "metadata": {},
     "output_type": "display_data"
    }
   ],
   "source": [
    "pts = []\n",
    "for i in range(10):\n",
    "    pts.append([uniform(100), uniform(100)])\n",
    "\n",
    "d = document(100, 100, 'mm')\n",
    "page = d.addpage()\n",
    "figure = shape().stroke(rgba(0, 0, 0, 255)).width(1)\n",
    "lines = figure.polyline(flatten(pts))\n",
    "page.place(lines)\n",
    "show(page)"
   ]
  },
  {
   "cell_type": "markdown",
   "metadata": {},
   "source": [
    "## Polylines on a grid\n",
    "\n",
    "Let's pursue this aesthetic a little bit further. Introducing further constraints to the randomness will result in designs that give the impression of conforming to an underlying system (and, let's hypothesize, thereby give an impression of being more like \"writing\"). The code below also uses random polylines, but constrains the polylines to begin and end on certain points in the grid."
   ]
  },
  {
   "cell_type": "code",
   "execution_count": 82,
   "metadata": {},
   "outputs": [
    {
     "data": {
      "image/svg+xml": [
       "<svg height=\"283.4646pt\" version=\"1.1\" viewBox=\"0 0 283.4646 283.4646\" width=\"283.4646pt\" xmlns=\"http://www.w3.org/2000/svg\" xmlns:xlink=\"http://www.w3.org/1999/xlink\">\n",
       "<title>Untitled</title>\n",
       "<polyline fill=\"none\" points=\"269.2913 14.1732 141.7323 141.7323 269.2913 269.2913 14.1732 141.7323 269.2913 14.1732 141.7323 14.1732 14.1732 141.7323 141.7323 14.1732 141.7323 14.1732 14.1732 269.2913 14.1732 14.1732 269.2913 14.1732\" stroke=\"rgba(0,0,0,1)\" stroke-linejoin=\"round\" stroke-width=\"4\"/>\n",
       "</svg>"
      ],
      "text/plain": [
       "<IPython.core.display.SVG object>"
      ]
     },
     "metadata": {},
     "output_type": "display_data"
    }
   ],
   "source": [
    "d = document(100, 100, 'mm')\n",
    "page = d.addpage()\n",
    "figure = shape().stroke(rgba(0, 0, 0, 255)).width(4).join('round')\n",
    "pts = []\n",
    "for i in range(12):\n",
    "    x = 5 + choice([0, 0.5, 1]) * 90\n",
    "    y = 5 + choice([0, 0.5, 1]) * 90\n",
    "    pts.append([x, y])\n",
    "lines = figure.polyline(flatten(pts))\n",
    "page.place(lines)\n",
    "show(page)"
   ]
  },
  {
   "cell_type": "markdown",
   "metadata": {},
   "source": [
    "The key bit of code here is:"
   ]
  },
  {
   "cell_type": "code",
   "execution_count": 59,
   "metadata": {},
   "outputs": [
    {
     "data": {
      "text/plain": [
       "5.0"
      ]
     },
     "execution_count": 59,
     "metadata": {},
     "output_type": "execute_result"
    }
   ],
   "source": [
    "5 + choice([0, 0.5, 1]) * 90"
   ]
  },
  {
   "cell_type": "markdown",
   "metadata": {},
   "source": [
    "... which is a Python expression that returns one of `0`, `0.5`, and `1` (at random), multiplies the result by 90 and adds five. Using this expression for both the `x` and `y` coordinate of each point on the polyline leads to a result wherein each polyline randomly connects one of nine points on a grid.\n",
    "\n",
    "The cell below defines a function, `make_char()`, that generates a series of points using a more general version of this expression, allowing you to specify an x-offset and y-offset (to set the upper left-hand corner of the grid) and a size (the multiplier). It adds four to twelve segments to the polyline (randomly determined)."
   ]
  },
  {
   "cell_type": "code",
   "execution_count": 60,
   "metadata": {},
   "outputs": [],
   "source": [
    "def make_char(xoffset, yoffset, size):\n",
    "    pts = []\n",
    "    for i in range(int(t_normal(4, 12, 8, 2))):\n",
    "        x = xoffset + (choice([0, 0.5, 1]) * size)\n",
    "        y = yoffset + (choice([0, 0.5, 1]) * size)\n",
    "        pts.append([x, y])\n",
    "    return pts"
   ]
  },
  {
   "cell_type": "markdown",
   "metadata": {},
   "source": [
    "The results of the `make_char()` function:"
   ]
  },
  {
   "cell_type": "code",
   "execution_count": 61,
   "metadata": {
    "scrolled": true
   },
   "outputs": [
    {
     "data": {
      "text/plain": [
       "[[5.0, 0.0],\n",
       " [5.0, 10.0],\n",
       " [5.0, 0.0],\n",
       " [10.0, 5.0],\n",
       " [5.0, 0.0],\n",
       " [10.0, 5.0],\n",
       " [5.0, 5.0],\n",
       " [10.0, 10.0],\n",
       " [0.0, 5.0],\n",
       " [10.0, 10.0]]"
      ]
     },
     "execution_count": 61,
     "metadata": {},
     "output_type": "execute_result"
    }
   ],
   "source": [
    "make_char(0, 0, 10)"
   ]
  },
  {
   "cell_type": "markdown",
   "metadata": {},
   "source": [
    "The following cell draws these \"characters\" on a grid, so we can see many variations at once:"
   ]
  },
  {
   "cell_type": "code",
   "execution_count": 62,
   "metadata": {},
   "outputs": [
    {
     "data": {
      "image/svg+xml": [
       "<svg height=\"425.1969pt\" version=\"1.1\" viewBox=\"0 0 425.1969 425.1969\" width=\"425.1969pt\" xmlns=\"http://www.w3.org/2000/svg\" xmlns:xlink=\"http://www.w3.org/1999/xlink\">\n",
       "<title>Untitled</title>\n",
       "<polyline fill=\"none\" points=\"26.3091 26.3091 8.5039 26.3091 8.5039 26.3091 44.1142 44.1142 44.1142 44.1142 8.5039 44.1142 44.1142 26.3091 8.5039 26.3091 44.1142 8.5039\" stroke=\"rgba(0,0,0,1)\" stroke-linejoin=\"round\" stroke-width=\"2\"/>\n",
       "<polyline fill=\"none\" points=\"44.1142 79.4587 26.3091 97.2638 26.3091 61.6535 44.1142 61.6535 8.5039 61.6535 26.3091 79.4587 26.3091 61.6535\" stroke=\"rgba(0,0,0,1)\" stroke-linejoin=\"round\" stroke-width=\"2\"/>\n",
       "<polyline fill=\"none\" points=\"26.3091 132.6083 8.5039 150.4134 44.1142 150.4134 26.3091 114.8031 44.1142 132.6083 44.1142 132.6083 26.3091 132.6083\" stroke=\"rgba(0,0,0,1)\" stroke-linejoin=\"round\" stroke-width=\"2\"/>\n",
       "<polyline fill=\"none\" points=\"8.5039 185.7579 26.3091 185.7579 44.1142 167.9528 44.1142 167.9528 8.5039 203.563 44.1142 203.563\" stroke=\"rgba(0,0,0,1)\" stroke-linejoin=\"round\" stroke-width=\"2\"/>\n",
       "<polyline fill=\"none\" points=\"44.1142 256.7126 26.3091 238.9075 44.1142 238.9075 8.5039 256.7126 44.1142 221.1024 26.3091 256.7126 26.3091 256.7126\" stroke=\"rgba(0,0,0,1)\" stroke-linejoin=\"round\" stroke-width=\"2\"/>\n",
       "<polyline fill=\"none\" points=\"44.1142 292.0571 26.3091 309.8622 26.3091 309.8622 44.1142 274.252 44.1142 309.8622 44.1142 309.8622 26.3091 292.0571 44.1142 274.252 8.5039 292.0571\" stroke=\"rgba(0,0,0,1)\" stroke-linejoin=\"round\" stroke-width=\"2\"/>\n",
       "<polyline fill=\"none\" points=\"8.5039 363.0118 44.1142 363.0118 8.5039 345.2067 26.3091 327.4016 26.3091 363.0118 26.3091 363.0118\" stroke=\"rgba(0,0,0,1)\" stroke-linejoin=\"round\" stroke-width=\"2\"/>\n",
       "<polyline fill=\"none\" points=\"44.1142 398.3563 8.5039 380.5512 8.5039 398.3563 8.5039 416.1614 44.1142 398.3563 8.5039 380.5512 26.3091 380.5512 44.1142 398.3563 8.5039 398.3563\" stroke=\"rgba(0,0,0,1)\" stroke-linejoin=\"round\" stroke-width=\"2\"/>\n",
       "<polyline fill=\"none\" points=\"79.4587 26.3091 79.4587 8.5039 97.2638 44.1142 79.4587 44.1142 79.4587 44.1142 97.2638 44.1142\" stroke=\"rgba(0,0,0,1)\" stroke-linejoin=\"round\" stroke-width=\"2\"/>\n",
       "<polyline fill=\"none\" points=\"79.4587 79.4587 97.2638 79.4587 61.6535 61.6535 79.4587 61.6535 61.6535 79.4587\" stroke=\"rgba(0,0,0,1)\" stroke-linejoin=\"round\" stroke-width=\"2\"/>\n",
       "<polyline fill=\"none\" points=\"97.2638 150.4134 79.4587 132.6083 61.6535 150.4134 97.2638 132.6083 79.4587 150.4134\" stroke=\"rgba(0,0,0,1)\" stroke-linejoin=\"round\" stroke-width=\"2\"/>\n",
       "<polyline fill=\"none\" points=\"97.2638 167.9528 61.6535 167.9528 79.4587 203.563 79.4587 203.563 97.2638 203.563 61.6535 185.7579 97.2638 185.7579 97.2638 203.563 97.2638 185.7579 61.6535 185.7579\" stroke=\"rgba(0,0,0,1)\" stroke-linejoin=\"round\" stroke-width=\"2\"/>\n",
       "<polyline fill=\"none\" points=\"79.4587 256.7126 97.2638 221.1024 79.4587 256.7126 79.4587 256.7126 79.4587 256.7126 61.6535 256.7126 79.4587 256.7126 79.4587 238.9075 61.6535 256.7126 61.6535 238.9075 61.6535 221.1024\" stroke=\"rgba(0,0,0,1)\" stroke-linejoin=\"round\" stroke-width=\"2\"/>\n",
       "<polyline fill=\"none\" points=\"97.2638 309.8622 61.6535 274.252 97.2638 292.0571 79.4587 309.8622 61.6535 274.252 79.4587 309.8622 79.4587 292.0571 79.4587 309.8622 61.6535 274.252\" stroke=\"rgba(0,0,0,1)\" stroke-linejoin=\"round\" stroke-width=\"2\"/>\n",
       "<polyline fill=\"none\" points=\"61.6535 345.2067 61.6535 327.4016 97.2638 345.2067 97.2638 363.0118 97.2638 363.0118 97.2638 327.4016 97.2638 363.0118\" stroke=\"rgba(0,0,0,1)\" stroke-linejoin=\"round\" stroke-width=\"2\"/>\n",
       "<polyline fill=\"none\" points=\"61.6535 380.5512 61.6535 416.1614 79.4587 398.3563 61.6535 398.3563 79.4587 380.5512 79.4587 416.1614 97.2638 398.3563\" stroke=\"rgba(0,0,0,1)\" stroke-linejoin=\"round\" stroke-width=\"2\"/>\n",
       "<polyline fill=\"none\" points=\"114.8031 26.3091 132.6083 8.5039 150.4134 44.1142 150.4134 26.3091\" stroke=\"rgba(0,0,0,1)\" stroke-linejoin=\"round\" stroke-width=\"2\"/>\n",
       "<polyline fill=\"none\" points=\"132.6083 61.6535 132.6083 79.4587 114.8031 79.4587 150.4134 61.6535 132.6083 97.2638 114.8031 61.6535 132.6083 61.6535 150.4134 79.4587 150.4134 61.6535 150.4134 79.4587 132.6083 79.4587\" stroke=\"rgba(0,0,0,1)\" stroke-linejoin=\"round\" stroke-width=\"2\"/>\n",
       "<polyline fill=\"none\" points=\"114.8031 132.6083 132.6083 114.8031 132.6083 132.6083 114.8031 132.6083 132.6083 132.6083 150.4134 150.4134 150.4134 132.6083 150.4134 114.8031\" stroke=\"rgba(0,0,0,1)\" stroke-linejoin=\"round\" stroke-width=\"2\"/>\n",
       "<polyline fill=\"none\" points=\"150.4134 203.563 114.8031 203.563 132.6083 167.9528 150.4134 167.9528 150.4134 185.7579 132.6083 203.563 150.4134 167.9528 150.4134 203.563 132.6083 185.7579 150.4134 185.7579\" stroke=\"rgba(0,0,0,1)\" stroke-linejoin=\"round\" stroke-width=\"2\"/>\n",
       "<polyline fill=\"none\" points=\"114.8031 238.9075 150.4134 256.7126 150.4134 221.1024 114.8031 221.1024 114.8031 256.7126 114.8031 221.1024 114.8031 256.7126\" stroke=\"rgba(0,0,0,1)\" stroke-linejoin=\"round\" stroke-width=\"2\"/>\n",
       "<polyline fill=\"none\" points=\"150.4134 309.8622 150.4134 292.0571 150.4134 274.252 132.6083 274.252 132.6083 274.252 132.6083 292.0571 132.6083 309.8622 132.6083 292.0571\" stroke=\"rgba(0,0,0,1)\" stroke-linejoin=\"round\" stroke-width=\"2\"/>\n",
       "<polyline fill=\"none\" points=\"150.4134 327.4016 114.8031 327.4016 132.6083 363.0118 132.6083 327.4016 132.6083 327.4016 132.6083 327.4016 150.4134 327.4016 114.8031 327.4016 132.6083 363.0118 150.4134 327.4016\" stroke=\"rgba(0,0,0,1)\" stroke-linejoin=\"round\" stroke-width=\"2\"/>\n",
       "<polyline fill=\"none\" points=\"132.6083 416.1614 114.8031 380.5512 114.8031 380.5512 132.6083 398.3563 114.8031 398.3563 114.8031 416.1614 114.8031 416.1614 132.6083 398.3563\" stroke=\"rgba(0,0,0,1)\" stroke-linejoin=\"round\" stroke-width=\"2\"/>\n",
       "<polyline fill=\"none\" points=\"203.563 44.1142 167.9528 8.5039 167.9528 26.3091 167.9528 26.3091 167.9528 8.5039 203.563 8.5039 203.563 8.5039 167.9528 8.5039\" stroke=\"rgba(0,0,0,1)\" stroke-linejoin=\"round\" stroke-width=\"2\"/>\n",
       "<polyline fill=\"none\" points=\"167.9528 97.2638 185.7579 97.2638 203.563 61.6535 167.9528 97.2638 185.7579 61.6535 203.563 97.2638 185.7579 79.4587 185.7579 61.6535 203.563 97.2638\" stroke=\"rgba(0,0,0,1)\" stroke-linejoin=\"round\" stroke-width=\"2\"/>\n",
       "<polyline fill=\"none\" points=\"167.9528 132.6083 167.9528 132.6083 185.7579 150.4134 203.563 132.6083 185.7579 150.4134 185.7579 114.8031\" stroke=\"rgba(0,0,0,1)\" stroke-linejoin=\"round\" stroke-width=\"2\"/>\n",
       "<polyline fill=\"none\" points=\"167.9528 167.9528 167.9528 185.7579 203.563 203.563 185.7579 185.7579 203.563 167.9528 203.563 203.563 185.7579 167.9528 167.9528 185.7579 203.563 203.563\" stroke=\"rgba(0,0,0,1)\" stroke-linejoin=\"round\" stroke-width=\"2\"/>\n",
       "<polyline fill=\"none\" points=\"185.7579 238.9075 185.7579 256.7126 167.9528 256.7126 167.9528 256.7126 203.563 221.1024 167.9528 221.1024 203.563 238.9075 167.9528 256.7126\" stroke=\"rgba(0,0,0,1)\" stroke-linejoin=\"round\" stroke-width=\"2\"/>\n",
       "<polyline fill=\"none\" points=\"167.9528 292.0571 203.563 274.252 203.563 309.8622 185.7579 274.252 167.9528 274.252 167.9528 309.8622 185.7579 292.0571 167.9528 274.252 185.7579 292.0571 203.563 292.0571 203.563 274.252\" stroke=\"rgba(0,0,0,1)\" stroke-linejoin=\"round\" stroke-width=\"2\"/>\n",
       "<polyline fill=\"none\" points=\"167.9528 363.0118 167.9528 363.0118 203.563 327.4016 167.9528 363.0118 203.563 363.0118 185.7579 363.0118 167.9528 345.2067 203.563 345.2067 167.9528 327.4016 167.9528 345.2067\" stroke=\"rgba(0,0,0,1)\" stroke-linejoin=\"round\" stroke-width=\"2\"/>\n",
       "<polyline fill=\"none\" points=\"167.9528 416.1614 185.7579 398.3563 203.563 416.1614 185.7579 398.3563 185.7579 398.3563 203.563 380.5512 185.7579 398.3563 203.563 416.1614 185.7579 416.1614 185.7579 398.3563\" stroke=\"rgba(0,0,0,1)\" stroke-linejoin=\"round\" stroke-width=\"2\"/>\n",
       "<polyline fill=\"none\" points=\"238.9075 26.3091 221.1024 26.3091 256.7126 8.5039 256.7126 26.3091 221.1024 44.1142 238.9075 26.3091 256.7126 8.5039\" stroke=\"rgba(0,0,0,1)\" stroke-linejoin=\"round\" stroke-width=\"2\"/>\n",
       "<polyline fill=\"none\" points=\"238.9075 61.6535 256.7126 97.2638 256.7126 97.2638 238.9075 79.4587 238.9075 79.4587 238.9075 61.6535 238.9075 61.6535 238.9075 61.6535 221.1024 79.4587 256.7126 61.6535 238.9075 97.2638\" stroke=\"rgba(0,0,0,1)\" stroke-linejoin=\"round\" stroke-width=\"2\"/>\n",
       "<polyline fill=\"none\" points=\"238.9075 114.8031 238.9075 132.6083 256.7126 132.6083 256.7126 132.6083 256.7126 114.8031 221.1024 114.8031 256.7126 150.4134\" stroke=\"rgba(0,0,0,1)\" stroke-linejoin=\"round\" stroke-width=\"2\"/>\n",
       "<polyline fill=\"none\" points=\"221.1024 185.7579 256.7126 185.7579 256.7126 203.563 221.1024 167.9528 256.7126 167.9528 256.7126 185.7579 238.9075 185.7579 238.9075 185.7579 221.1024 185.7579\" stroke=\"rgba(0,0,0,1)\" stroke-linejoin=\"round\" stroke-width=\"2\"/>\n",
       "<polyline fill=\"none\" points=\"256.7126 256.7126 221.1024 221.1024 238.9075 238.9075 221.1024 256.7126 238.9075 238.9075 238.9075 221.1024 256.7126 238.9075 256.7126 221.1024 238.9075 238.9075\" stroke=\"rgba(0,0,0,1)\" stroke-linejoin=\"round\" stroke-width=\"2\"/>\n",
       "<polyline fill=\"none\" points=\"221.1024 292.0571 238.9075 274.252 256.7126 292.0571 221.1024 309.8622 221.1024 309.8622 238.9075 292.0571 256.7126 292.0571 256.7126 309.8622 221.1024 292.0571 256.7126 292.0571\" stroke=\"rgba(0,0,0,1)\" stroke-linejoin=\"round\" stroke-width=\"2\"/>\n",
       "<polyline fill=\"none\" points=\"238.9075 327.4016 256.7126 345.2067 221.1024 345.2067 238.9075 345.2067 238.9075 327.4016 238.9075 327.4016\" stroke=\"rgba(0,0,0,1)\" stroke-linejoin=\"round\" stroke-width=\"2\"/>\n",
       "<polyline fill=\"none\" points=\"238.9075 398.3563 238.9075 398.3563 238.9075 380.5512 238.9075 398.3563 256.7126 398.3563\" stroke=\"rgba(0,0,0,1)\" stroke-linejoin=\"round\" stroke-width=\"2\"/>\n",
       "<polyline fill=\"none\" points=\"274.252 26.3091 274.252 8.5039 309.8622 26.3091 292.0571 26.3091 292.0571 8.5039 274.252 26.3091 274.252 44.1142 309.8622 26.3091 292.0571 8.5039 274.252 44.1142\" stroke=\"rgba(0,0,0,1)\" stroke-linejoin=\"round\" stroke-width=\"2\"/>\n",
       "<polyline fill=\"none\" points=\"309.8622 97.2638 292.0571 97.2638 292.0571 79.4587 309.8622 97.2638 292.0571 97.2638 274.252 97.2638 309.8622 61.6535\" stroke=\"rgba(0,0,0,1)\" stroke-linejoin=\"round\" stroke-width=\"2\"/>\n",
       "<polyline fill=\"none\" points=\"309.8622 150.4134 309.8622 132.6083 274.252 150.4134 274.252 114.8031 292.0571 114.8031 309.8622 150.4134 309.8622 114.8031\" stroke=\"rgba(0,0,0,1)\" stroke-linejoin=\"round\" stroke-width=\"2\"/>\n",
       "<polyline fill=\"none\" points=\"309.8622 185.7579 274.252 185.7579 274.252 185.7579 309.8622 167.9528 309.8622 203.563 292.0571 203.563 292.0571 185.7579 274.252 167.9528\" stroke=\"rgba(0,0,0,1)\" stroke-linejoin=\"round\" stroke-width=\"2\"/>\n",
       "<polyline fill=\"none\" points=\"309.8622 221.1024 309.8622 221.1024 274.252 256.7126 274.252 238.9075 309.8622 238.9075 309.8622 256.7126 292.0571 238.9075 292.0571 256.7126\" stroke=\"rgba(0,0,0,1)\" stroke-linejoin=\"round\" stroke-width=\"2\"/>\n",
       "<polyline fill=\"none\" points=\"292.0571 292.0571 292.0571 274.252 309.8622 292.0571 274.252 309.8622 274.252 309.8622 292.0571 309.8622 309.8622 309.8622\" stroke=\"rgba(0,0,0,1)\" stroke-linejoin=\"round\" stroke-width=\"2\"/>\n",
       "<polyline fill=\"none\" points=\"309.8622 363.0118 292.0571 345.2067 274.252 345.2067 292.0571 345.2067 309.8622 327.4016 309.8622 363.0118 274.252 345.2067\" stroke=\"rgba(0,0,0,1)\" stroke-linejoin=\"round\" stroke-width=\"2\"/>\n",
       "<polyline fill=\"none\" points=\"309.8622 398.3563 309.8622 416.1614 274.252 380.5512 292.0571 416.1614 274.252 398.3563 292.0571 416.1614 309.8622 398.3563 292.0571 398.3563 309.8622 398.3563 292.0571 416.1614\" stroke=\"rgba(0,0,0,1)\" stroke-linejoin=\"round\" stroke-width=\"2\"/>\n",
       "<polyline fill=\"none\" points=\"345.2067 8.5039 327.4016 8.5039 345.2067 44.1142 363.0118 26.3091 327.4016 8.5039\" stroke=\"rgba(0,0,0,1)\" stroke-linejoin=\"round\" stroke-width=\"2\"/>\n",
       "<polyline fill=\"none\" points=\"345.2067 61.6535 327.4016 79.4587 363.0118 79.4587 345.2067 97.2638 345.2067 61.6535\" stroke=\"rgba(0,0,0,1)\" stroke-linejoin=\"round\" stroke-width=\"2\"/>\n",
       "<polyline fill=\"none\" points=\"345.2067 114.8031 327.4016 114.8031 363.0118 150.4134 363.0118 150.4134 363.0118 132.6083 345.2067 150.4134 363.0118 150.4134\" stroke=\"rgba(0,0,0,1)\" stroke-linejoin=\"round\" stroke-width=\"2\"/>\n",
       "<polyline fill=\"none\" points=\"327.4016 185.7579 327.4016 203.563 363.0118 167.9528 327.4016 185.7579 363.0118 167.9528 327.4016 185.7579 327.4016 185.7579 327.4016 167.9528\" stroke=\"rgba(0,0,0,1)\" stroke-linejoin=\"round\" stroke-width=\"2\"/>\n",
       "<polyline fill=\"none\" points=\"345.2067 238.9075 327.4016 256.7126 345.2067 256.7126 363.0118 221.1024\" stroke=\"rgba(0,0,0,1)\" stroke-linejoin=\"round\" stroke-width=\"2\"/>\n",
       "<polyline fill=\"none\" points=\"363.0118 274.252 327.4016 292.0571 327.4016 274.252 363.0118 274.252 345.2067 309.8622 327.4016 292.0571 363.0118 292.0571 363.0118 274.252 327.4016 309.8622\" stroke=\"rgba(0,0,0,1)\" stroke-linejoin=\"round\" stroke-width=\"2\"/>\n",
       "<polyline fill=\"none\" points=\"345.2067 363.0118 363.0118 363.0118 345.2067 327.4016 327.4016 327.4016 327.4016 327.4016 345.2067 363.0118 363.0118 327.4016 363.0118 327.4016 345.2067 327.4016\" stroke=\"rgba(0,0,0,1)\" stroke-linejoin=\"round\" stroke-width=\"2\"/>\n",
       "<polyline fill=\"none\" points=\"327.4016 416.1614 363.0118 416.1614 345.2067 416.1614 345.2067 416.1614 345.2067 416.1614 363.0118 416.1614 363.0118 380.5512\" stroke=\"rgba(0,0,0,1)\" stroke-linejoin=\"round\" stroke-width=\"2\"/>\n",
       "<polyline fill=\"none\" points=\"416.1614 26.3091 380.5512 44.1142 416.1614 44.1142 416.1614 8.5039 416.1614 44.1142 416.1614 8.5039 416.1614 44.1142 416.1614 26.3091 398.3563 26.3091\" stroke=\"rgba(0,0,0,1)\" stroke-linejoin=\"round\" stroke-width=\"2\"/>\n",
       "<polyline fill=\"none\" points=\"380.5512 61.6535 416.1614 61.6535 398.3563 61.6535 398.3563 79.4587 398.3563 79.4587 380.5512 97.2638\" stroke=\"rgba(0,0,0,1)\" stroke-linejoin=\"round\" stroke-width=\"2\"/>\n",
       "<polyline fill=\"none\" points=\"416.1614 150.4134 380.5512 114.8031 380.5512 150.4134 416.1614 150.4134 416.1614 114.8031\" stroke=\"rgba(0,0,0,1)\" stroke-linejoin=\"round\" stroke-width=\"2\"/>\n",
       "<polyline fill=\"none\" points=\"380.5512 203.563 398.3563 167.9528 416.1614 167.9528 380.5512 167.9528 398.3563 167.9528 380.5512 185.7579\" stroke=\"rgba(0,0,0,1)\" stroke-linejoin=\"round\" stroke-width=\"2\"/>\n",
       "<polyline fill=\"none\" points=\"380.5512 221.1024 416.1614 221.1024 416.1614 238.9075 398.3563 238.9075 380.5512 221.1024 416.1614 221.1024 416.1614 256.7126\" stroke=\"rgba(0,0,0,1)\" stroke-linejoin=\"round\" stroke-width=\"2\"/>\n",
       "<polyline fill=\"none\" points=\"380.5512 292.0571 416.1614 309.8622 416.1614 292.0571 398.3563 292.0571 398.3563 292.0571 416.1614 292.0571 416.1614 274.252\" stroke=\"rgba(0,0,0,1)\" stroke-linejoin=\"round\" stroke-width=\"2\"/>\n",
       "<polyline fill=\"none\" points=\"398.3563 327.4016 416.1614 327.4016 416.1614 363.0118 416.1614 327.4016 398.3563 363.0118 416.1614 363.0118 416.1614 363.0118\" stroke=\"rgba(0,0,0,1)\" stroke-linejoin=\"round\" stroke-width=\"2\"/>\n",
       "<polyline fill=\"none\" points=\"398.3563 416.1614 398.3563 380.5512 398.3563 416.1614 416.1614 398.3563 416.1614 380.5512 398.3563 416.1614 416.1614 416.1614\" stroke=\"rgba(0,0,0,1)\" stroke-linejoin=\"round\" stroke-width=\"2\"/>\n",
       "</svg>"
      ],
      "text/plain": [
       "<IPython.core.display.SVG object>"
      ]
     },
     "metadata": {},
     "output_type": "display_data"
    }
   ],
   "source": [
    "size = 150 # change the size of the page\n",
    "d = document(size, size, 'mm')\n",
    "page = d.addpage()\n",
    "figure = shape().stroke(rgba(0, 0, 0, 255)).width(2).join('round')\n",
    "grid_n = 8 # change the number of elements in the grid on one side\n",
    "grid_size = size / grid_n\n",
    "for i in range(grid_n):\n",
    "    for j in range(grid_n):\n",
    "        pts = make_char(3 + i * grid_size, 3 + j * grid_size, grid_size * 0.67)\n",
    "        lines = figure.polyline(flatten(pts))\n",
    "        page.place(lines)\n",
    "show(page)"
   ]
  },
  {
   "cell_type": "markdown",
   "metadata": {},
   "source": [
    "Now we're getting somewhere. When your sci-fi author friend texts you and says \"Hey, I need something that looks like a writing system for space aliens for the cover of my next book,\" you've got something all ready to go.\n",
    "\n",
    "> Exercise: Can you make these polylines fall on a 4x4 grid instead of a 3x3 grid? Or a 5x5 grid?\n",
    "\n",
    "> Exercise: Add some randomness to each point's placement, so not all points fall directly on the grid.\n",
    "\n",
    "> Exercise: Change the aspect ratio of the \"characters\"—make them wider than they are tall, or taller than they are wide."
   ]
  },
  {
   "cell_type": "markdown",
   "metadata": {},
   "source": [
    "## Interpolating curves\n",
    "\n",
    "Due to certain properties of human physiology, handwriting hardly ever consists of exactly straight lines. To simulate the curved lines of conventional handwriting, we need to find a way to change our polylines into *curves*. One way of doing this is a [Catmull-Rom spline](https://en.wikipedia.org/wiki/Centripetal_Catmull%E2%80%93Rom_spline), which produces a sequence of [Bézier curves](https://pomax.github.io/bezierinfo/) that pass through a given set of points. My Bezmerizing library has a function `smooth_point_path()` that uses Catmull-Rom to produce a path (i.e., a sequence of drawing instructions) that can draw such a curve given a set of points.\n",
    "\n",
    "The following cell generates some points with a normal distribution:"
   ]
  },
  {
   "cell_type": "code",
   "execution_count": 63,
   "metadata": {},
   "outputs": [],
   "source": [
    "pts = []\n",
    "for i in range(10):\n",
    "    pts.append([normal(50, 25), normal(50, 25)])"
   ]
  },
  {
   "cell_type": "markdown",
   "metadata": {},
   "source": [
    "And then this cell calls `smooth_point_path()` on the points, returning a list of curves:"
   ]
  },
  {
   "cell_type": "code",
   "execution_count": 64,
   "metadata": {},
   "outputs": [],
   "source": [
    "curve_path = smooth_point_path(pts)"
   ]
  },
  {
   "cell_type": "markdown",
   "metadata": {},
   "source": [
    "For our purpose, the exact nature of Bézier curves and the flat library's path commands are not consequential. Suffice it to say that you can pass the result of `smooth_point_path()` to the `.path()` method of a flat `shape` object. The cell below draws both the points and the curve passing through those points:"
   ]
  },
  {
   "cell_type": "code",
   "execution_count": 65,
   "metadata": {},
   "outputs": [
    {
     "data": {
      "image/svg+xml": [
       "<svg height=\"283.4646pt\" version=\"1.1\" viewBox=\"0 0 283.4646 283.4646\" width=\"283.4646pt\" xmlns=\"http://www.w3.org/2000/svg\" xmlns:xlink=\"http://www.w3.org/1999/xlink\">\n",
       "<title>Untitled</title>\n",
       "<polyline fill=\"none\" points=\"116.8602 246.2843 56.5681 276.9179 142.6876 133.7916 66.1064 139.9252 182.7881 24.4419 193.9557 130.655 167.6546 101.918 133.3923 95.2434 149.4039 73.2822 189.5417 100.379\" stroke=\"rgba(0,0,255,0.502)\" stroke-miterlimit=\"10\"/>\n",
       "<path d=\"M56.5681,276.9179 C60.8727,258.1691,141.0979,156.6237,142.6876,133.7916 M142.6876,133.7916 C144.2773,110.9594,59.423,158.1502,66.1064,139.9252 M66.1064,139.9252 C72.7898,121.7003,161.4798,25.9869,182.7881,24.4419 M182.7881,24.4419 C204.0963,22.8968,196.4779,117.7423,193.9557,130.655 M193.9557,130.655 C191.4334,143.5677,177.7485,107.82,167.6546,101.918 M167.6546,101.918 C157.5607,96.0161,136.434,100.0161,133.3923,95.2434 M133.3923,95.2434 C130.3505,90.4708,140.0457,72.4263,149.4039,73.2822\" fill=\"none\" stroke=\"rgba(255,0,0,1)\" stroke-miterlimit=\"10\" stroke-width=\"4\"/>\n",
       "</svg>"
      ],
      "text/plain": [
       "<IPython.core.display.SVG object>"
      ]
     },
     "metadata": {},
     "output_type": "display_data"
    }
   ],
   "source": [
    "d = document(100, 100, 'mm')\n",
    "page = d.addpage()\n",
    "line_figure = shape().stroke(rgba(0, 0, 255, 128)).width(1)\n",
    "curve_figure = shape().stroke(rgba(255, 0, 0, 255)).width(4)\n",
    "lines = line_figure.polyline(flatten(pts))\n",
    "curve = curve_figure.path(curve_path)\n",
    "page.place(lines)\n",
    "page.place(curve)\n",
    "show(page)"
   ]
  },
  {
   "cell_type": "markdown",
   "metadata": {},
   "source": [
    "You can give any list of points to `smooth_point_path()`. The following example copies the grid of alien letterforms above, but uses `smooth_point_path()` to convert the points to curves before drawing. The results are much more \"organic\":"
   ]
  },
  {
   "cell_type": "code",
   "execution_count": 66,
   "metadata": {},
   "outputs": [
    {
     "data": {
      "image/svg+xml": [
       "<svg height=\"425.1969pt\" version=\"1.1\" viewBox=\"0 0 425.1969 425.1969\" width=\"425.1969pt\" xmlns=\"http://www.w3.org/2000/svg\" xmlns:xlink=\"http://www.w3.org/1999/xlink\">\n",
       "<title>Untitled</title>\n",
       "<path d=\"M26.3091,8.5039 C26.3091,8.5039,47.0817,38.1791,44.1142,44.1142 M44.1142,44.1142 C41.1467,50.0492,14.439,44.1142,8.5039,44.1142 M8.5039,44.1142 C2.5689,44.1142,8.5039,44.1142,8.5039,44.1142 M8.5039,44.1142 C8.5039,44.1142,5.5364,50.0492,8.5039,44.1142 M8.5039,44.1142 C11.4715,38.1791,20.374,14.439,26.3091,8.5039 M26.3091,8.5039 C32.2441,2.5689,44.1142,8.5039,44.1142,8.5039 M44.1142,8.5039 C44.1142,8.5039,29.2766,2.5689,26.3091,8.5039\" fill=\"none\" stroke=\"rgba(0,0,0,1)\" stroke-linejoin=\"round\" stroke-width=\"2\"/>\n",
       "<path d=\"M44.1142,97.2638 C44.1142,94.2963,14.439,79.4587,8.5039,79.4587 M8.5039,79.4587 C2.5689,79.4587,5.5364,94.2963,8.5039,97.2638 M8.5039,97.2638 C11.4715,100.2313,26.3091,97.2638,26.3091,97.2638 M26.3091,97.2638 C26.3091,97.2638,8.5039,100.2313,8.5039,97.2638 M8.5039,97.2638 C8.5039,94.2963,20.374,79.4587,26.3091,79.4587\" fill=\"none\" stroke=\"rgba(0,0,0,1)\" stroke-linejoin=\"round\" stroke-width=\"2\"/>\n",
       "<path d=\"M44.1142,132.6083 C44.1142,135.5758,26.3091,150.4134,26.3091,150.4134 M26.3091,150.4134 C26.3091,150.4134,47.0817,135.5758,44.1142,132.6083 M44.1142,132.6083 C41.1467,129.6407,11.4715,135.5758,8.5039,132.6083 M8.5039,132.6083 C5.5364,129.6407,20.374,117.7707,26.3091,114.8031\" fill=\"none\" stroke=\"rgba(0,0,0,1)\" stroke-linejoin=\"round\" stroke-width=\"2\"/>\n",
       "<path d=\"M44.1142,203.563 C47.0817,200.5955,44.1142,173.8878,44.1142,167.9528 M44.1142,167.9528 C44.1142,162.0177,44.1142,164.9852,44.1142,167.9528 M44.1142,167.9528 C44.1142,170.9203,47.0817,182.7904,44.1142,185.7579 M44.1142,185.7579 C41.1467,188.7254,26.3091,188.7254,26.3091,185.7579 M26.3091,185.7579 C26.3091,182.7904,44.1142,170.9203,44.1142,167.9528 M44.1142,167.9528 C44.1142,164.9852,29.2766,164.9852,26.3091,167.9528 M26.3091,167.9528 C23.3415,170.9203,29.2766,185.7579,26.3091,185.7579\" fill=\"none\" stroke=\"rgba(0,0,0,1)\" stroke-linejoin=\"round\" stroke-width=\"2\"/>\n",
       "<path d=\"M26.3091,238.9075 C29.2766,244.8425,23.3415,253.7451,26.3091,256.7126 M26.3091,256.7126 C29.2766,259.6801,41.1467,256.7126,44.1142,256.7126 M44.1142,256.7126 C47.0817,256.7126,47.0817,256.7126,44.1142,256.7126 M44.1142,256.7126 C41.1467,256.7126,32.2441,256.7126,26.3091,256.7126\" fill=\"none\" stroke=\"rgba(0,0,0,1)\" stroke-linejoin=\"round\" stroke-width=\"2\"/>\n",
       "<path d=\"M8.5039,274.252 C8.5039,280.187,8.5039,306.8947,8.5039,309.8622 M8.5039,309.8622 C8.5039,312.8297,8.5039,297.9921,8.5039,292.0571 M8.5039,292.0571 C8.5039,286.122,8.5039,274.252,8.5039,274.252 M8.5039,274.252 C8.5039,274.252,5.5364,289.0896,8.5039,292.0571\" fill=\"none\" stroke=\"rgba(0,0,0,1)\" stroke-linejoin=\"round\" stroke-width=\"2\"/>\n",
       "<path d=\"M26.3091,363.0118 C32.2441,360.0443,41.1467,333.3366,44.1142,327.4016 M44.1142,327.4016 C47.0817,321.4665,50.0492,324.4341,44.1142,327.4016 M44.1142,327.4016 C38.1791,330.3691,14.439,342.2392,8.5039,345.2067 M8.5039,345.2067 C2.5689,348.1742,2.5689,342.2392,8.5039,345.2067\" fill=\"none\" stroke=\"rgba(0,0,0,1)\" stroke-linejoin=\"round\" stroke-width=\"2\"/>\n",
       "<path d=\"M44.1142,380.5512 C38.1791,380.5512,8.5039,416.1614,8.5039,416.1614 M8.5039,416.1614 C8.5039,416.1614,38.1791,380.5512,44.1142,380.5512 M44.1142,380.5512 C50.0492,380.5512,44.1142,410.2264,44.1142,416.1614 M44.1142,416.1614 C44.1142,422.0965,47.0817,422.0965,44.1142,416.1614 M44.1142,416.1614 C41.1467,410.2264,26.3091,383.5187,26.3091,380.5512 M26.3091,380.5512 C26.3091,377.5837,47.0817,392.4213,44.1142,398.3563 M44.1142,398.3563 C41.1467,404.2913,14.439,416.1614,8.5039,416.1614 M8.5039,416.1614 C2.5689,416.1614,8.5039,401.3238,8.5039,398.3563\" fill=\"none\" stroke=\"rgba(0,0,0,1)\" stroke-linejoin=\"round\" stroke-width=\"2\"/>\n",
       "<path d=\"M97.2638,26.3091 C100.2313,23.3415,100.2313,5.5364,97.2638,8.5039 M97.2638,8.5039 C94.2963,11.4715,85.3937,44.1142,79.4587,44.1142 M79.4587,44.1142 C73.5236,44.1142,64.6211,14.439,61.6535,8.5039 M61.6535,8.5039 C58.686,2.5689,55.7185,8.5039,61.6535,8.5039 M61.6535,8.5039 C67.5886,8.5039,97.2638,5.5364,97.2638,8.5039 M97.2638,8.5039 C97.2638,11.4715,61.6535,20.374,61.6535,26.3091 M61.6535,26.3091 C61.6535,32.2441,91.3287,41.1467,97.2638,44.1142\" fill=\"none\" stroke=\"rgba(0,0,0,1)\" stroke-linejoin=\"round\" stroke-width=\"2\"/>\n",
       "<path d=\"M97.2638,79.4587 C103.1988,82.4262,97.2638,100.2313,97.2638,97.2638 M97.2638,97.2638 C97.2638,94.2963,100.2313,64.6211,97.2638,61.6535 M97.2638,61.6535 C94.2963,58.686,82.4262,76.4911,79.4587,79.4587 M79.4587,79.4587 C76.4911,82.4262,76.4911,79.4587,79.4587,79.4587 M79.4587,79.4587 C82.4262,79.4587,97.2638,76.4911,97.2638,79.4587 M97.2638,79.4587 C97.2638,82.4262,82.4262,94.2963,79.4587,97.2638\" fill=\"none\" stroke=\"rgba(0,0,0,1)\" stroke-linejoin=\"round\" stroke-width=\"2\"/>\n",
       "<path d=\"M79.4587,132.6083 C76.4911,132.6083,61.6535,135.5758,61.6535,132.6083 M61.6535,132.6083 C61.6535,129.6407,76.4911,111.8356,79.4587,114.8031 M79.4587,114.8031 C82.4262,117.7707,82.4262,144.4783,79.4587,150.4134 M79.4587,150.4134 C76.4911,156.3484,58.686,150.4134,61.6535,150.4134 M61.6535,150.4134 C64.6211,150.4134,97.2638,150.4134,97.2638,150.4134 M97.2638,150.4134 C97.2638,150.4134,61.6535,153.3809,61.6535,150.4134 M61.6535,150.4134 C61.6535,147.4459,91.3287,135.5758,97.2638,132.6083\" fill=\"none\" stroke=\"rgba(0,0,0,1)\" stroke-linejoin=\"round\" stroke-width=\"2\"/>\n",
       "<path d=\"M61.6535,203.563 C64.6211,206.5305,94.2963,209.498,97.2638,203.563 M97.2638,203.563 C100.2313,197.628,85.3937,170.9203,79.4587,167.9528 M79.4587,167.9528 C73.5236,164.9852,58.686,182.7904,61.6535,185.7579 M61.6535,185.7579 C64.6211,188.7254,94.2963,185.7579,97.2638,185.7579\" fill=\"none\" stroke=\"rgba(0,0,0,1)\" stroke-linejoin=\"round\" stroke-width=\"2\"/>\n",
       "<path d=\"M79.4587,221.1024 C73.5236,221.1024,64.6211,238.9075,61.6535,238.9075 M61.6535,238.9075 C58.686,238.9075,55.7185,218.1348,61.6535,221.1024 M61.6535,221.1024 C67.5886,224.0699,97.2638,256.7126,97.2638,256.7126 M97.2638,256.7126 C97.2638,256.7126,61.6535,221.1024,61.6535,221.1024 M61.6535,221.1024 C61.6535,221.1024,94.2963,256.7126,97.2638,256.7126 M97.2638,256.7126 C100.2313,256.7126,82.4262,227.0374,79.4587,221.1024\" fill=\"none\" stroke=\"rgba(0,0,0,1)\" stroke-linejoin=\"round\" stroke-width=\"2\"/>\n",
       "<path d=\"M79.4587,292.0571 C82.4262,289.0896,94.2963,271.2844,97.2638,274.252 M97.2638,274.252 C100.2313,277.2195,100.2313,303.9272,97.2638,309.8622 M97.2638,309.8622 C94.2963,315.7972,85.3937,312.8297,79.4587,309.8622 M79.4587,309.8622 C73.5236,306.8947,61.6535,292.0571,61.6535,292.0571 M61.6535,292.0571 C61.6535,292.0571,73.5236,309.8622,79.4587,309.8622 M79.4587,309.8622 C85.3937,309.8622,97.2638,297.9921,97.2638,292.0571 M97.2638,292.0571 C97.2638,286.122,82.4262,274.252,79.4587,274.252\" fill=\"none\" stroke=\"rgba(0,0,0,1)\" stroke-linejoin=\"round\" stroke-width=\"2\"/>\n",
       "<path d=\"M61.6535,327.4016 C61.6535,330.3691,61.6535,357.0768,61.6535,363.0118 M61.6535,363.0118 C61.6535,368.9469,58.686,368.9469,61.6535,363.0118 M61.6535,363.0118 C64.6211,357.0768,76.4911,330.3691,79.4587,327.4016 M79.4587,327.4016 C82.4262,324.4341,79.4587,342.2392,79.4587,345.2067\" fill=\"none\" stroke=\"rgba(0,0,0,1)\" stroke-linejoin=\"round\" stroke-width=\"2\"/>\n",
       "<path d=\"M79.4587,416.1614 C85.3937,422.0965,100.2313,419.1289,97.2638,416.1614 M97.2638,416.1614 C94.2963,413.1939,64.6211,398.3563,61.6535,398.3563 M61.6535,398.3563 C58.686,398.3563,73.5236,419.1289,79.4587,416.1614\" fill=\"none\" stroke=\"rgba(0,0,0,1)\" stroke-linejoin=\"round\" stroke-width=\"2\"/>\n",
       "<path d=\"M114.8031,44.1142 C117.7707,44.1142,150.4134,26.3091,150.4134,26.3091 M150.4134,26.3091 C150.4134,26.3091,120.7382,47.0817,114.8031,44.1142 M114.8031,44.1142 C108.8681,41.1467,111.8356,8.5039,114.8031,8.5039\" fill=\"none\" stroke=\"rgba(0,0,0,1)\" stroke-linejoin=\"round\" stroke-width=\"2\"/>\n",
       "<path d=\"M114.8031,97.2638 C111.8356,97.2638,111.8356,103.1988,114.8031,97.2638 M114.8031,97.2638 C117.7707,91.3287,129.6407,64.6211,132.6083,61.6535 M132.6083,61.6535 C135.5758,58.686,132.6083,73.5236,132.6083,79.4587 M132.6083,79.4587 C132.6083,85.3937,132.6083,97.2638,132.6083,97.2638 M132.6083,97.2638 C132.6083,97.2638,129.6407,82.4262,132.6083,79.4587\" fill=\"none\" stroke=\"rgba(0,0,0,1)\" stroke-linejoin=\"round\" stroke-width=\"2\"/>\n",
       "<path d=\"M150.4134,150.4134 C156.3484,147.4459,153.3809,114.8031,150.4134,114.8031 M150.4134,114.8031 C147.4459,114.8031,135.5758,150.4134,132.6083,150.4134 M132.6083,150.4134 C129.6407,150.4134,132.6083,117.7707,132.6083,114.8031 M132.6083,114.8031 C132.6083,111.8356,135.5758,132.6083,132.6083,132.6083 M132.6083,132.6083 C129.6407,132.6083,111.8356,111.8356,114.8031,114.8031 M114.8031,114.8031 C117.7707,117.7707,147.4459,150.4134,150.4134,150.4134\" fill=\"none\" stroke=\"rgba(0,0,0,1)\" stroke-linejoin=\"round\" stroke-width=\"2\"/>\n",
       "<path d=\"M114.8031,185.7579 C117.7707,182.7904,147.4459,188.7254,150.4134,185.7579 M150.4134,185.7579 C153.3809,182.7904,132.6083,164.9852,132.6083,167.9528 M132.6083,167.9528 C132.6083,170.9203,147.4459,203.563,150.4134,203.563 M150.4134,203.563 C153.3809,203.563,150.4134,173.8878,150.4134,167.9528 M150.4134,167.9528 C150.4134,162.0177,156.3484,167.9528,150.4134,167.9528\" fill=\"none\" stroke=\"rgba(0,0,0,1)\" stroke-linejoin=\"round\" stroke-width=\"2\"/>\n",
       "<path d=\"M150.4134,256.7126 C156.3484,256.7126,150.4134,244.8425,150.4134,238.9075 M150.4134,238.9075 C150.4134,232.9724,153.3809,218.1348,150.4134,221.1024 M150.4134,221.1024 C147.4459,224.0699,132.6083,253.7451,132.6083,256.7126 M132.6083,256.7126 C132.6083,259.6801,147.4459,241.875,150.4134,238.9075 M150.4134,238.9075 C153.3809,235.94,153.3809,235.94,150.4134,238.9075\" fill=\"none\" stroke=\"rgba(0,0,0,1)\" stroke-linejoin=\"round\" stroke-width=\"2\"/>\n",
       "<path d=\"M114.8031,292.0571 C114.8031,292.0571,144.4783,295.0246,150.4134,292.0571 M150.4134,292.0571 C156.3484,289.0896,156.3484,274.252,150.4134,274.252\" fill=\"none\" stroke=\"rgba(0,0,0,1)\" stroke-linejoin=\"round\" stroke-width=\"2\"/>\n",
       "<path d=\"M132.6083,345.2067 C132.6083,348.1742,132.6083,360.0443,132.6083,363.0118 M132.6083,363.0118 C132.6083,365.9793,135.5758,368.9469,132.6083,363.0118 M132.6083,363.0118 C129.6407,357.0768,114.8031,327.4016,114.8031,327.4016 M114.8031,327.4016 C114.8031,327.4016,126.6732,363.0118,132.6083,363.0118 M132.6083,363.0118 C138.5433,363.0118,150.4134,327.4016,150.4134,327.4016 M150.4134,327.4016 C150.4134,327.4016,135.5758,360.0443,132.6083,363.0118 M132.6083,363.0118 C129.6407,365.9793,135.5758,351.1417,132.6083,345.2067\" fill=\"none\" stroke=\"rgba(0,0,0,1)\" stroke-linejoin=\"round\" stroke-width=\"2\"/>\n",
       "<path d=\"M114.8031,398.3563 C108.8681,395.3888,111.8356,383.5187,114.8031,380.5512 M114.8031,380.5512 C117.7707,377.5837,129.6407,377.5837,132.6083,380.5512 M132.6083,380.5512 C135.5758,383.5187,129.6407,392.4213,132.6083,398.3563 M132.6083,398.3563 C135.5758,404.2913,147.4459,413.1939,150.4134,416.1614 M150.4134,416.1614 C153.3809,419.1289,150.4134,422.0965,150.4134,416.1614\" fill=\"none\" stroke=\"rgba(0,0,0,1)\" stroke-linejoin=\"round\" stroke-width=\"2\"/>\n",
       "<path d=\"M203.563,26.3091 C203.563,26.3091,185.7579,41.1467,185.7579,44.1142 M185.7579,44.1142 C185.7579,47.0817,203.563,44.1142,203.563,44.1142 M203.563,44.1142 C203.563,44.1142,191.6929,47.0817,185.7579,44.1142 M185.7579,44.1142 C179.8228,41.1467,164.9852,32.2441,167.9528,26.3091 M167.9528,26.3091 C170.9203,20.374,197.628,5.5364,203.563,8.5039\" fill=\"none\" stroke=\"rgba(0,0,0,1)\" stroke-linejoin=\"round\" stroke-width=\"2\"/>\n",
       "<path d=\"M203.563,97.2638 C200.5955,100.2313,170.9203,85.3937,167.9528,79.4587 M167.9528,79.4587 C164.9852,73.5236,185.7579,61.6535,185.7579,61.6535 M185.7579,61.6535 C185.7579,61.6535,167.9528,73.5236,167.9528,79.4587 M167.9528,79.4587 C167.9528,85.3937,182.7904,97.2638,185.7579,97.2638 M185.7579,97.2638 C188.7254,97.2638,185.7579,79.4587,185.7579,79.4587 M185.7579,79.4587 C185.7579,79.4587,182.7904,94.2963,185.7579,97.2638\" fill=\"none\" stroke=\"rgba(0,0,0,1)\" stroke-linejoin=\"round\" stroke-width=\"2\"/>\n",
       "<path d=\"M185.7579,132.6083 C185.7579,132.6083,167.9528,114.8031,167.9528,114.8031 M167.9528,114.8031 C167.9528,114.8031,185.7579,129.6407,185.7579,132.6083 M185.7579,132.6083 C185.7579,135.5758,170.9203,132.6083,167.9528,132.6083 M167.9528,132.6083 C164.9852,132.6083,162.0177,135.5758,167.9528,132.6083 M167.9528,132.6083 C173.8878,129.6407,203.563,117.7707,203.563,114.8031 M203.563,114.8031 C203.563,111.8356,167.9528,108.8681,167.9528,114.8031\" fill=\"none\" stroke=\"rgba(0,0,0,1)\" stroke-linejoin=\"round\" stroke-width=\"2\"/>\n",
       "<path d=\"M203.563,185.7579 C203.563,185.7579,203.563,167.9528,203.563,167.9528 M203.563,167.9528 C203.563,167.9528,203.563,182.7904,203.563,185.7579 M203.563,185.7579 C203.563,188.7254,203.563,185.7579,203.563,185.7579 M203.563,185.7579 C203.563,185.7579,203.563,185.7579,203.563,185.7579 M203.563,185.7579 C203.563,185.7579,206.5305,185.7579,203.563,185.7579\" fill=\"none\" stroke=\"rgba(0,0,0,1)\" stroke-linejoin=\"round\" stroke-width=\"2\"/>\n",
       "<path d=\"M185.7579,238.9075 C185.7579,235.94,167.9528,224.0699,167.9528,221.1024 M167.9528,221.1024 C167.9528,218.1348,179.8228,215.1673,185.7579,221.1024 M185.7579,221.1024 C191.6929,227.0374,200.5955,256.7126,203.563,256.7126\" fill=\"none\" stroke=\"rgba(0,0,0,1)\" stroke-linejoin=\"round\" stroke-width=\"2\"/>\n",
       "<path d=\"M167.9528,309.8622 C164.9852,309.8622,162.0177,297.9921,167.9528,292.0571 M167.9528,292.0571 C173.8878,286.122,203.563,274.252,203.563,274.252 M203.563,274.252 C203.563,274.252,173.8878,286.122,167.9528,292.0571 M167.9528,292.0571 C162.0177,297.9921,164.9852,306.8947,167.9528,309.8622\" fill=\"none\" stroke=\"rgba(0,0,0,1)\" stroke-linejoin=\"round\" stroke-width=\"2\"/>\n",
       "<path d=\"M185.7579,327.4016 C185.7579,321.4665,203.563,321.4665,203.563,327.4016 M203.563,327.4016 C203.563,333.3366,191.6929,357.0768,185.7579,363.0118 M185.7579,363.0118 C179.8228,368.9469,170.9203,363.0118,167.9528,363.0118 M167.9528,363.0118 C164.9852,363.0118,164.9852,363.0118,167.9528,363.0118 M167.9528,363.0118 C170.9203,363.0118,179.8228,363.0118,185.7579,363.0118 M185.7579,363.0118 C191.6929,363.0118,206.5305,368.9469,203.563,363.0118\" fill=\"none\" stroke=\"rgba(0,0,0,1)\" stroke-linejoin=\"round\" stroke-width=\"2\"/>\n",
       "<path d=\"M203.563,398.3563 C209.498,404.2913,203.563,413.1939,203.563,416.1614 M203.563,416.1614 C203.563,419.1289,206.5305,416.1614,203.563,416.1614 M203.563,416.1614 C200.5955,416.1614,191.6929,419.1289,185.7579,416.1614 M185.7579,416.1614 C179.8228,413.1939,167.9528,398.3563,167.9528,398.3563\" fill=\"none\" stroke=\"rgba(0,0,0,1)\" stroke-linejoin=\"round\" stroke-width=\"2\"/>\n",
       "<path d=\"M238.9075,26.3091 C244.8425,26.3091,253.7451,44.1142,256.7126,44.1142 M256.7126,44.1142 C259.6801,44.1142,259.6801,29.2766,256.7126,26.3091 M256.7126,26.3091 C253.7451,23.3415,241.875,23.3415,238.9075,26.3091 M238.9075,26.3091 C235.94,29.2766,238.9075,41.1467,238.9075,44.1142 M238.9075,44.1142 C238.9075,47.0817,235.94,44.1142,238.9075,44.1142\" fill=\"none\" stroke=\"rgba(0,0,0,1)\" stroke-linejoin=\"round\" stroke-width=\"2\"/>\n",
       "<path d=\"M256.7126,61.6535 C256.7126,61.6535,244.8425,97.2638,238.9075,97.2638 M238.9075,97.2638 C232.9724,97.2638,224.0699,67.5886,221.1024,61.6535 M221.1024,61.6535 C218.1348,55.7185,221.1024,58.686,221.1024,61.6535 M221.1024,61.6535 C221.1024,64.6211,221.1024,73.5236,221.1024,79.4587 M221.1024,79.4587 C221.1024,85.3937,218.1348,100.2313,221.1024,97.2638\" fill=\"none\" stroke=\"rgba(0,0,0,1)\" stroke-linejoin=\"round\" stroke-width=\"2\"/>\n",
       "<path d=\"M256.7126,150.4134 C256.7126,156.3484,238.9075,156.3484,238.9075,150.4134 M238.9075,150.4134 C238.9075,144.4783,256.7126,117.7707,256.7126,114.8031 M256.7126,114.8031 C256.7126,111.8356,241.875,129.6407,238.9075,132.6083 M238.9075,132.6083 C235.94,135.5758,235.94,132.6083,238.9075,132.6083\" fill=\"none\" stroke=\"rgba(0,0,0,1)\" stroke-linejoin=\"round\" stroke-width=\"2\"/>\n",
       "<path d=\"M256.7126,167.9528 C250.7776,173.8878,224.0699,203.563,221.1024,203.563 M221.1024,203.563 C218.1348,203.563,232.9724,167.9528,238.9075,167.9528 M238.9075,167.9528 C244.8425,167.9528,253.7451,203.563,256.7126,203.563 M256.7126,203.563 C259.6801,203.563,259.6801,170.9203,256.7126,167.9528 M256.7126,167.9528 C253.7451,164.9852,244.8425,182.7904,238.9075,185.7579 M238.9075,185.7579 C232.9724,188.7254,221.1024,188.7254,221.1024,185.7579\" fill=\"none\" stroke=\"rgba(0,0,0,1)\" stroke-linejoin=\"round\" stroke-width=\"2\"/>\n",
       "<path d=\"M256.7126,238.9075 C256.7126,238.9075,224.0699,241.875,221.1024,238.9075 M221.1024,238.9075 C218.1348,235.94,235.94,218.1348,238.9075,221.1024 M238.9075,221.1024 C241.875,224.0699,241.875,253.7451,238.9075,256.7126 M238.9075,256.7126 C235.94,259.6801,218.1348,244.8425,221.1024,238.9075 M221.1024,238.9075 C224.0699,232.9724,256.7126,224.0699,256.7126,221.1024 M256.7126,221.1024 C256.7126,218.1348,227.0374,221.1024,221.1024,221.1024 M221.1024,221.1024 C215.1673,221.1024,215.1673,215.1673,221.1024,221.1024\" fill=\"none\" stroke=\"rgba(0,0,0,1)\" stroke-linejoin=\"round\" stroke-width=\"2\"/>\n",
       "<path d=\"M238.9075,274.252 C241.875,271.2844,238.9075,292.0571,238.9075,292.0571\" fill=\"none\" stroke=\"rgba(0,0,0,1)\" stroke-linejoin=\"round\" stroke-width=\"2\"/>\n",
       "<path d=\"M256.7126,327.4016 C253.7451,327.4016,241.875,324.4341,238.9075,327.4016 M238.9075,327.4016 C235.94,330.3691,241.875,339.2717,238.9075,345.2067 M238.9075,345.2067 C235.94,351.1417,218.1348,363.0118,221.1024,363.0118 M221.1024,363.0118 C224.0699,363.0118,253.7451,348.1742,256.7126,345.2067 M256.7126,345.2067 C259.6801,342.2392,241.875,342.2392,238.9075,345.2067\" fill=\"none\" stroke=\"rgba(0,0,0,1)\" stroke-linejoin=\"round\" stroke-width=\"2\"/>\n",
       "<path d=\"M221.1024,398.3563 C227.0374,398.3563,250.7776,377.5837,256.7126,380.5512 M256.7126,380.5512 C262.6476,383.5187,256.7126,410.2264,256.7126,416.1614 M256.7126,416.1614 C256.7126,422.0965,259.6801,422.0965,256.7126,416.1614 M256.7126,416.1614 C253.7451,410.2264,241.875,380.5512,238.9075,380.5512\" fill=\"none\" stroke=\"rgba(0,0,0,1)\" stroke-linejoin=\"round\" stroke-width=\"2\"/>\n",
       "<path d=\"M292.0571,26.3091 C295.0246,29.2766,309.8622,26.3091,309.8622,26.3091 M309.8622,26.3091 C309.8622,26.3091,292.0571,23.3415,292.0571,26.3091 M292.0571,26.3091 C292.0571,29.2766,306.8947,41.1467,309.8622,44.1142 M309.8622,44.1142 C312.8297,47.0817,315.7972,44.1142,309.8622,44.1142\" fill=\"none\" stroke=\"rgba(0,0,0,1)\" stroke-linejoin=\"round\" stroke-width=\"2\"/>\n",
       "<path d=\"M292.0571,97.2638 C295.0246,97.2638,312.8297,82.4262,309.8622,79.4587 M309.8622,79.4587 C306.8947,76.4911,277.2195,79.4587,274.252,79.4587 M274.252,79.4587 C271.2844,79.4587,292.0571,76.4911,292.0571,79.4587 M292.0571,79.4587 C292.0571,82.4262,274.252,100.2313,274.252,97.2638 M274.252,97.2638 C274.252,94.2963,289.0896,61.6535,292.0571,61.6535 M292.0571,61.6535 C295.0246,61.6535,292.0571,94.2963,292.0571,97.2638\" fill=\"none\" stroke=\"rgba(0,0,0,1)\" stroke-linejoin=\"round\" stroke-width=\"2\"/>\n",
       "<path d=\"M309.8622,132.6083 C306.8947,135.5758,277.2195,132.6083,274.252,132.6083 M274.252,132.6083 C271.2844,132.6083,286.122,135.5758,292.0571,132.6083 M292.0571,132.6083 C297.9921,129.6407,309.8622,111.8356,309.8622,114.8031 M309.8622,114.8031 C309.8622,117.7707,295.0246,150.4134,292.0571,150.4134 M292.0571,150.4134 C289.0896,150.4134,292.0571,114.8031,292.0571,114.8031 M292.0571,114.8031 C292.0571,114.8031,292.0571,144.4783,292.0571,150.4134\" fill=\"none\" stroke=\"rgba(0,0,0,1)\" stroke-linejoin=\"round\" stroke-width=\"2\"/>\n",
       "<path d=\"M274.252,185.7579 C274.252,185.7579,274.252,200.5955,274.252,203.563 M274.252,203.563 C274.252,206.5305,274.252,203.563,274.252,203.563 M274.252,203.563 C274.252,203.563,271.2844,209.498,274.252,203.563 M274.252,203.563 C277.2195,197.628,289.0896,170.9203,292.0571,167.9528\" fill=\"none\" stroke=\"rgba(0,0,0,1)\" stroke-linejoin=\"round\" stroke-width=\"2\"/>\n",
       "<path d=\"M292.0571,238.9075 C295.0246,238.9075,309.8622,256.7126,309.8622,256.7126 M309.8622,256.7126 C309.8622,256.7126,295.0246,241.875,292.0571,238.9075 M292.0571,238.9075 C289.0896,235.94,289.0896,241.875,292.0571,238.9075 M292.0571,238.9075 C295.0246,235.94,312.8297,224.0699,309.8622,221.1024\" fill=\"none\" stroke=\"rgba(0,0,0,1)\" stroke-linejoin=\"round\" stroke-width=\"2\"/>\n",
       "<path d=\"M309.8622,274.252 C306.8947,274.252,274.252,306.8947,274.252,309.8622\" fill=\"none\" stroke=\"rgba(0,0,0,1)\" stroke-linejoin=\"round\" stroke-width=\"2\"/>\n",
       "<path d=\"M309.8622,345.2067 C315.7972,351.1417,312.8297,365.9793,309.8622,363.0118 M309.8622,363.0118 C306.8947,360.0443,297.9921,330.3691,292.0571,327.4016 M292.0571,327.4016 C286.122,324.4341,271.2844,345.2067,274.252,345.2067 M274.252,345.2067 C277.2195,345.2067,306.8947,324.4341,309.8622,327.4016 M309.8622,327.4016 C312.8297,330.3691,295.0246,357.0768,292.0571,363.0118 M292.0571,363.0118 C289.0896,368.9469,295.0246,368.9469,292.0571,363.0118\" fill=\"none\" stroke=\"rgba(0,0,0,1)\" stroke-linejoin=\"round\" stroke-width=\"2\"/>\n",
       "<path d=\"M292.0571,398.3563 C289.0896,404.2913,289.0896,413.1939,292.0571,416.1614 M292.0571,416.1614 C295.0246,419.1289,306.8947,419.1289,309.8622,416.1614\" fill=\"none\" stroke=\"rgba(0,0,0,1)\" stroke-linejoin=\"round\" stroke-width=\"2\"/>\n",
       "<path d=\"M327.4016,8.5039 C330.3691,8.5039,342.2392,23.3415,345.2067,26.3091 M345.2067,26.3091 C348.1742,29.2766,348.1742,23.3415,345.2067,26.3091 M345.2067,26.3091 C342.2392,29.2766,330.3691,44.1142,327.4016,44.1142\" fill=\"none\" stroke=\"rgba(0,0,0,1)\" stroke-linejoin=\"round\" stroke-width=\"2\"/>\n",
       "<path d=\"M363.0118,61.6535 C360.0443,61.6535,333.3366,79.4587,327.4016,79.4587 M327.4016,79.4587 C321.4665,79.4587,321.4665,58.686,327.4016,61.6535 M327.4016,61.6535 C333.3366,64.6211,363.0118,97.2638,363.0118,97.2638 M363.0118,97.2638 C363.0118,97.2638,330.3691,61.6535,327.4016,61.6535 M327.4016,61.6535 C324.4341,61.6535,342.2392,94.2963,345.2067,97.2638\" fill=\"none\" stroke=\"rgba(0,0,0,1)\" stroke-linejoin=\"round\" stroke-width=\"2\"/>\n",
       "<path d=\"M327.4016,114.8031 C333.3366,117.7707,363.0118,147.4459,363.0118,150.4134\" fill=\"none\" stroke=\"rgba(0,0,0,1)\" stroke-linejoin=\"round\" stroke-width=\"2\"/>\n",
       "<path d=\"M327.4016,203.563 C333.3366,209.498,360.0443,206.5305,363.0118,203.563 M363.0118,203.563 C365.9793,200.5955,351.1417,191.6929,345.2067,185.7579 M345.2067,185.7579 C339.2717,179.8228,324.4341,167.9528,327.4016,167.9528\" fill=\"none\" stroke=\"rgba(0,0,0,1)\" stroke-linejoin=\"round\" stroke-width=\"2\"/>\n",
       "<path d=\"M327.4016,256.7126 C333.3366,253.7451,360.0443,238.9075,363.0118,238.9075 M363.0118,238.9075 C365.9793,238.9075,351.1417,259.6801,345.2067,256.7126 M345.2067,256.7126 C339.2717,253.7451,330.3691,221.1024,327.4016,221.1024 M327.4016,221.1024 C324.4341,221.1024,324.4341,256.7126,327.4016,256.7126 M327.4016,256.7126 C330.3691,256.7126,345.2067,227.0374,345.2067,221.1024\" fill=\"none\" stroke=\"rgba(0,0,0,1)\" stroke-linejoin=\"round\" stroke-width=\"2\"/>\n",
       "<path d=\"M345.2067,309.8622 C348.1742,312.8297,345.2067,315.7972,345.2067,309.8622 M345.2067,309.8622 C345.2067,303.9272,345.2067,274.252,345.2067,274.252 M345.2067,274.252 C345.2067,274.252,342.2392,309.8622,345.2067,309.8622 M345.2067,309.8622 C348.1742,309.8622,360.0443,280.187,363.0118,274.252 M363.0118,274.252 C365.9793,268.3169,368.9469,268.3169,363.0118,274.252\" fill=\"none\" stroke=\"rgba(0,0,0,1)\" stroke-linejoin=\"round\" stroke-width=\"2\"/>\n",
       "<path d=\"M345.2067,327.4016 C348.1742,330.3691,360.0443,339.2717,363.0118,345.2067 M363.0118,345.2067 C365.9793,351.1417,365.9793,365.9793,363.0118,363.0118 M363.0118,363.0118 C360.0443,360.0443,348.1742,330.3691,345.2067,327.4016 M345.2067,327.4016 C342.2392,324.4341,345.2067,342.2392,345.2067,345.2067 M345.2067,345.2067 C345.2067,348.1742,345.2067,345.2067,345.2067,345.2067 M345.2067,345.2067 C345.2067,345.2067,342.2392,345.2067,345.2067,345.2067 M345.2067,345.2067 C348.1742,345.2067,365.9793,348.1742,363.0118,345.2067\" fill=\"none\" stroke=\"rgba(0,0,0,1)\" stroke-linejoin=\"round\" stroke-width=\"2\"/>\n",
       "<path d=\"M327.4016,416.1614 C324.4341,410.2264,327.4016,386.4862,327.4016,380.5512 M327.4016,380.5512 C327.4016,374.6161,321.4665,380.5512,327.4016,380.5512 M327.4016,380.5512 C333.3366,380.5512,357.0768,374.6161,363.0118,380.5512 M363.0118,380.5512 C368.9469,386.4862,368.9469,413.1939,363.0118,416.1614 M363.0118,416.1614 C357.0768,419.1289,330.3691,401.3238,327.4016,398.3563 M327.4016,398.3563 C324.4341,395.3888,339.2717,395.3888,345.2067,398.3563\" fill=\"none\" stroke=\"rgba(0,0,0,1)\" stroke-linejoin=\"round\" stroke-width=\"2\"/>\n",
       "<path d=\"M380.5512,44.1142 C377.5837,50.0492,380.5512,47.0817,380.5512,44.1142 M380.5512,44.1142 C380.5512,41.1467,380.5512,29.2766,380.5512,26.3091 M380.5512,26.3091 C380.5512,23.3415,377.5837,29.2766,380.5512,26.3091 M380.5512,26.3091 C383.5187,23.3415,392.4213,5.5364,398.3563,8.5039 M398.3563,8.5039 C404.2913,11.4715,413.1939,44.1142,416.1614,44.1142 M416.1614,44.1142 C419.1289,44.1142,422.0965,8.5039,416.1614,8.5039\" fill=\"none\" stroke=\"rgba(0,0,0,1)\" stroke-linejoin=\"round\" stroke-width=\"2\"/>\n",
       "<path d=\"M380.5512,97.2638 C380.5512,100.2313,416.1614,79.4587,416.1614,79.4587 M416.1614,79.4587 C416.1614,79.4587,380.5512,97.2638,380.5512,97.2638 M380.5512,97.2638 C380.5512,97.2638,413.1939,85.3937,416.1614,79.4587 M416.1614,79.4587 C419.1289,73.5236,401.3238,61.6535,398.3563,61.6535 M398.3563,61.6535 C395.3888,61.6535,398.3563,79.4587,398.3563,79.4587 M398.3563,79.4587 C398.3563,79.4587,401.3238,61.6535,398.3563,61.6535 M398.3563,61.6535 C395.3888,61.6535,383.5187,76.4911,380.5512,79.4587\" fill=\"none\" stroke=\"rgba(0,0,0,1)\" stroke-linejoin=\"round\" stroke-width=\"2\"/>\n",
       "<path d=\"M380.5512,150.4134 C386.4862,150.4134,416.1614,132.6083,416.1614,132.6083 M416.1614,132.6083 C416.1614,132.6083,383.5187,153.3809,380.5512,150.4134 M380.5512,150.4134 C377.5837,147.4459,395.3888,117.7707,398.3563,114.8031 M398.3563,114.8031 C401.3238,111.8356,398.3563,129.6407,398.3563,132.6083\" fill=\"none\" stroke=\"rgba(0,0,0,1)\" stroke-linejoin=\"round\" stroke-width=\"2\"/>\n",
       "<path d=\"M416.1614,167.9528 C416.1614,170.9203,416.1614,203.563,416.1614,203.563 M416.1614,203.563 C416.1614,203.563,419.1289,170.9203,416.1614,167.9528 M416.1614,167.9528 C413.1939,164.9852,401.3238,179.8228,398.3563,185.7579 M398.3563,185.7579 C395.3888,191.6929,401.3238,203.563,398.3563,203.563\" fill=\"none\" stroke=\"rgba(0,0,0,1)\" stroke-linejoin=\"round\" stroke-width=\"2\"/>\n",
       "<path d=\"M398.3563,256.7126 C392.4213,262.6476,383.5187,259.6801,380.5512,256.7126 M380.5512,256.7126 C377.5837,253.7451,374.6161,241.875,380.5512,238.9075 M380.5512,238.9075 C386.4862,235.94,410.2264,235.94,416.1614,238.9075 M416.1614,238.9075 C422.0965,241.875,416.1614,259.6801,416.1614,256.7126 M416.1614,256.7126 C416.1614,253.7451,419.1289,221.1024,416.1614,221.1024\" fill=\"none\" stroke=\"rgba(0,0,0,1)\" stroke-linejoin=\"round\" stroke-width=\"2\"/>\n",
       "<path d=\"M398.3563,274.252 C398.3563,268.3169,398.3563,271.2844,398.3563,274.252 M398.3563,274.252 C398.3563,277.2195,395.3888,286.122,398.3563,292.0571 M398.3563,292.0571 C401.3238,297.9921,416.1614,309.8622,416.1614,309.8622 M416.1614,309.8622 C416.1614,309.8622,401.3238,292.0571,398.3563,292.0571 M398.3563,292.0571 C395.3888,292.0571,401.3238,312.8297,398.3563,309.8622\" fill=\"none\" stroke=\"rgba(0,0,0,1)\" stroke-linejoin=\"round\" stroke-width=\"2\"/>\n",
       "<path d=\"M398.3563,345.2067 C398.3563,342.2392,413.1939,330.3691,416.1614,327.4016 M416.1614,327.4016 C419.1289,324.4341,419.1289,324.4341,416.1614,327.4016 M416.1614,327.4016 C413.1939,330.3691,404.2913,342.2392,398.3563,345.2067 M398.3563,345.2067 C392.4213,348.1742,377.5837,345.2067,380.5512,345.2067 M380.5512,345.2067 C383.5187,345.2067,410.2264,348.1742,416.1614,345.2067 M416.1614,345.2067 C422.0965,342.2392,419.1289,327.4016,416.1614,327.4016\" fill=\"none\" stroke=\"rgba(0,0,0,1)\" stroke-linejoin=\"round\" stroke-width=\"2\"/>\n",
       "<path d=\"M416.1614,416.1614 C416.1614,419.1289,380.5512,401.3238,380.5512,398.3563 M380.5512,398.3563 C380.5512,395.3888,410.2264,401.3238,416.1614,398.3563\" fill=\"none\" stroke=\"rgba(0,0,0,1)\" stroke-linejoin=\"round\" stroke-width=\"2\"/>\n",
       "</svg>"
      ],
      "text/plain": [
       "<IPython.core.display.SVG object>"
      ]
     },
     "metadata": {},
     "output_type": "display_data"
    }
   ],
   "source": [
    "size = 150\n",
    "d = document(size, size, 'mm')\n",
    "page = d.addpage()\n",
    "figure = shape().stroke(rgba(0, 0, 0, 255)).width(2).join('round')\n",
    "grid_n = 8\n",
    "grid_size = size / grid_n\n",
    "for i in range(grid_n):\n",
    "    for j in range(grid_n):\n",
    "        pts = make_char(3 + i * grid_size, 3 + j * grid_size, grid_size * 0.67)\n",
    "        instrs = smooth_point_path(pts)\n",
    "        curve = figure.path(instrs)\n",
    "        page.place(curve)\n",
    "show(page)"
   ]
  },
  {
   "cell_type": "markdown",
   "metadata": {},
   "source": [
    "## Scribbling in a line\n",
    "\n",
    "Writing in certain alphabets proceeds in a linear direction across the page with connected letters; English cursive does this in particular. To simulate this, I wrote a function that generates a polyline with random points evenly spaced along a line horizontally, with the y-coordinate of each point set according to a random number selected from a normal distribution centered on zero."
   ]
  },
  {
   "cell_type": "code",
   "execution_count": 67,
   "metadata": {},
   "outputs": [],
   "source": [
    "def make_scribble(xoffset, yoffset, width, height, steps, stddev=0):\n",
    "    pts = []\n",
    "    for i in range(steps):\n",
    "        x = xoffset + ((width / steps) * i) + normal(0, stddev)\n",
    "        y = yoffset + normal(0, height)\n",
    "        pts.append([x, y])\n",
    "    return pts"
   ]
  },
  {
   "cell_type": "markdown",
   "metadata": {},
   "source": [
    "Here's what it looks like. (The green line is the original polyline; the black line is the smoothed curve.)"
   ]
  },
  {
   "cell_type": "code",
   "execution_count": 68,
   "metadata": {},
   "outputs": [
    {
     "data": {
      "image/svg+xml": [
       "<svg height=\"141.7323pt\" version=\"1.1\" viewBox=\"0 0 566.9291 141.7323\" width=\"566.9291pt\" xmlns=\"http://www.w3.org/2000/svg\" xmlns:xlink=\"http://www.w3.org/1999/xlink\">\n",
       "<title>Untitled</title>\n",
       "<path d=\"M33.4488,89.6483 C35.1496,88.8439,36.8504,74.6602,38.5512,71.6079 M38.5512,71.6079 C40.252,68.5556,41.9528,72.2107,43.6535,71.3345 M43.6535,71.3345 C45.3543,70.4583,47.0551,64.3019,48.7559,66.3507 M48.7559,66.3507 C50.4567,68.3994,52.1575,83.149,53.8583,83.6269 M53.8583,83.6269 C55.5591,84.1048,57.2598,70.0129,58.9606,69.218 M58.9606,69.218 C60.6614,68.4231,62.3622,77.3265,64.063,78.8573 M64.063,78.8573 C65.7638,80.3882,67.4646,79.9971,69.1654,78.4029 M69.1654,78.4029 C70.8661,76.8088,72.5669,72.71,74.2677,69.2924 M74.2677,69.2924 C75.9685,65.8749,77.6693,59.3676,79.3701,57.8977 M79.3701,57.8977 C81.0709,56.4279,82.7717,59.2269,84.4724,60.4734 M84.4724,60.4734 C86.1732,61.72,87.874,68.7634,89.5748,65.3769 M89.5748,65.3769 C91.2756,61.9904,92.9764,42.1201,94.6772,40.1544 M94.6772,40.1544 C96.378,38.1887,98.0787,50.0811,99.7795,53.5828 M99.7795,53.5828 C101.4803,57.0845,103.1811,59.4905,104.8819,61.1645 M104.8819,61.1645 C106.5827,62.8385,108.2835,56.3737,109.9843,63.627 M109.9843,63.627 C111.685,70.8803,113.3858,101.875,115.0866,104.6843 M115.0866,104.6843 C116.7874,107.4935,118.4882,85.2027,120.189,80.4826 M120.189,80.4826 C121.8898,75.7624,123.5906,73.0628,125.2913,76.3635 M125.2913,76.3635 C126.9921,79.6642,128.6929,98.7256,130.3937,100.2868 M130.3937,100.2868 C132.0945,101.848,133.7953,89.4004,135.4961,85.7308 M135.4961,85.7308 C137.1969,82.0612,138.8976,80.017,140.5984,78.2692 M140.5984,78.2692 C142.2992,76.5214,144,74.3108,145.7008,75.2441 M145.7008,75.2441 C147.4016,76.1774,149.1024,84.9824,150.8031,83.8691 M150.8031,83.8691 C152.5039,82.7559,154.2047,70.2586,155.9055,68.5646 M155.9055,68.5646 C157.6063,66.8706,159.3071,75.7807,161.0079,73.7051 M161.0079,73.7051 C162.7087,71.6295,164.4094,57.9355,166.1102,56.1111 M166.1102,56.1111 C167.811,54.2868,169.5118,59.1561,171.2126,62.7588 M171.2126,62.7588 C172.9134,66.3616,174.6142,77.8505,176.315,77.7276 M176.315,77.7276 C178.0157,77.6047,179.7165,63.032,181.4173,62.0213 M181.4173,62.0213 C183.1181,61.0106,184.8189,70.8237,186.5197,71.6634 M186.5197,71.6634 C188.2205,72.5032,189.9213,67.6828,191.622,67.0597 M191.622,67.0597 C193.3228,66.4365,195.0236,67.7284,196.7244,67.9247 M196.7244,67.9247 C198.4252,68.1211,200.126,64.3261,201.8268,68.2377 M201.8268,68.2377 C203.5276,72.1493,205.2283,96.8066,206.9291,91.3942 M206.9291,91.3942 C208.6299,85.9819,210.3307,35.9652,212.0315,35.7636 M212.0315,35.7636 C213.7323,35.562,215.4331,87.2446,217.1339,90.1846 M217.1339,90.1846 C218.8346,93.1246,220.5354,59.9394,222.2362,53.4036 M222.2362,53.4036 C223.937,46.8678,225.6378,51.1193,227.3386,50.9698 M227.3386,50.9698 C229.0394,50.8202,230.7402,42.8947,232.4409,52.5063 M232.4409,52.5063 C234.1417,62.1179,235.8425,106.9275,237.5433,108.6392 M237.5433,108.6392 C239.2441,110.3508,240.9449,73.3042,242.6457,62.7761 M242.6457,62.7761 C244.3465,52.248,246.0472,48.7209,247.748,45.4708 M247.748,45.4708 C249.4488,42.2206,251.1496,40.456,252.8504,43.2752 M252.8504,43.2752 C254.5512,46.0944,256.252,61.7659,257.9528,62.386 M257.9528,62.386 C259.6535,63.006,261.3543,47.6573,263.0551,46.9955 M263.0551,46.9955 C264.7559,46.3337,266.4567,54.8178,268.1575,58.4154 M268.1575,58.4154 C269.8583,62.013,271.5591,68.0202,273.2598,68.5812 M273.2598,68.5812 C274.9606,69.1421,276.6614,62.9359,278.3622,61.7811 M278.3622,61.7811 C280.063,60.6263,281.7638,56.8958,283.4646,61.6523 M283.4646,61.6523 C285.1654,66.4089,286.8661,89.4584,288.5669,90.3205 M288.5669,90.3205 C290.2677,91.1826,291.9685,68.5213,293.6693,66.8251 M293.6693,66.8251 C295.3701,65.1289,297.0709,82.4622,298.7717,80.1433 M298.7717,80.1433 C300.4724,77.8244,302.1732,57.069,303.874,52.9116 M303.874,52.9116 C305.5748,48.7542,307.2756,52.4206,308.9764,55.1987 M308.9764,55.1987 C310.6772,57.9768,312.378,65.4201,314.0787,69.5805 M314.0787,69.5805 C315.7795,73.7409,317.4803,80.0089,319.1811,80.1612 M319.1811,80.1612 C320.8819,80.3135,322.5827,69.6206,324.2835,70.4945 M324.2835,70.4945 C325.9843,71.3684,327.685,86.0095,329.3858,85.4048 M329.3858,85.4048 C331.0866,84.8002,332.7874,68.7364,334.4882,66.8666 M334.4882,66.8666 C336.189,64.9967,337.8898,75.5719,339.5906,74.1857 M339.5906,74.1857 C341.2913,72.7994,342.9921,61.1882,344.6929,58.5491 M344.6929,58.5491 C346.3937,55.91,348.0945,55.6562,349.7953,58.3512 M349.7953,58.3512 C351.4961,61.0461,353.1969,74.2048,354.8976,74.7189 M354.8976,74.7189 C356.5984,75.233,358.2992,60.9786,360,61.4358 M360,61.4358 C361.7008,61.893,363.4016,75.9988,365.1024,77.4621 M365.1024,77.4621 C366.8031,78.9254,368.5039,71.5751,370.2047,70.2155 M370.2047,70.2155 C371.9055,68.8559,373.6063,66.5946,375.3071,69.3045 M375.3071,69.3045 C377.0079,72.0143,378.7087,85.8545,380.4094,86.4747 M380.4094,86.4747 C382.1102,87.095,383.811,76.9263,385.5118,73.026 M385.5118,73.026 C387.2126,69.1258,388.9134,66.3314,390.6142,63.073 M390.6142,63.073 C392.315,59.8147,394.0157,54.592,395.7165,53.4759 M395.7165,53.4759 C397.4173,52.3598,399.1181,55.0828,400.8189,56.3762 M400.8189,56.3762 C402.5197,57.6697,404.2205,57.3274,405.9213,61.2365 M405.9213,61.2365 C407.622,65.1456,409.3228,77.7464,411.0236,79.8308 M411.0236,79.8308 C412.7244,81.9151,414.4252,75.425,416.126,73.7427 M416.126,73.7427 C417.8268,72.0603,419.5276,73.9084,421.2283,69.7366 M421.2283,69.7366 C422.9291,65.5649,424.6299,48.6433,426.3307,48.7121 M426.3307,48.7121 C428.0315,48.7809,429.7323,67.8007,431.4331,70.1493 M431.4331,70.1493 C433.1339,72.4979,434.8346,64.979,436.5354,62.8035 M436.5354,62.8035 C438.2362,60.628,439.937,55.1855,441.6378,57.0963 M441.6378,57.0963 C443.3386,59.0072,445.0394,69.5342,446.7402,74.2687 M446.7402,74.2687 C448.4409,79.0031,450.1417,89.2847,451.8425,85.5029 M451.8425,85.5029 C453.5433,81.7211,455.2441,51.9393,456.9449,51.578 M456.9449,51.578 C458.6457,51.2168,460.3465,79.5205,462.0472,83.3354 M462.0472,83.3354 C463.748,87.1503,465.4488,74.9283,467.1496,74.4672 M467.1496,74.4672 C468.8504,74.0062,470.5512,80.0745,472.252,80.5691 M472.252,80.5691 C473.9528,81.0636,475.6535,79.4866,477.3543,77.4346 M477.3543,77.4346 C479.0551,75.3826,480.7559,65.8946,482.4567,68.257 M482.4567,68.257 C484.1575,70.6195,485.8583,93.7671,487.5591,91.6095 M487.5591,91.6095 C489.2598,89.452,490.9606,53.9821,492.6614,55.3117 M492.6614,55.3117 C494.3622,56.6412,496.063,97.018,497.7638,99.5868 M497.7638,99.5868 C499.4646,102.1555,501.1654,75.5806,502.8661,70.7244 M502.8661,70.7244 C504.5669,65.8682,506.2677,70.076,507.9685,70.4497 M507.9685,70.4497 C509.6693,70.8234,511.3701,77.1058,513.0709,72.9666 M513.0709,72.9666 C514.7717,68.8274,516.4724,42.8015,518.1732,45.6145 M518.1732,45.6145 C519.874,48.4275,521.5748,88.1537,523.2756,89.8445 M523.2756,89.8445 C524.9764,91.5354,526.6772,58.7858,528.378,55.7595\" fill=\"none\" stroke=\"rgba(0,0,0,1)\" stroke-miterlimit=\"10\" stroke-width=\"2\"/>\n",
       "<polyline fill=\"none\" points=\"28.3465 76.434 33.4488 89.6483 38.5512 71.6079 43.6535 71.3345 48.7559 66.3507 53.8583 83.6269 58.9606 69.218 64.063 78.8573 69.1654 78.4029 74.2677 69.2924 79.3701 57.8977 84.4724 60.4734 89.5748 65.3769 94.6772 40.1544 99.7795 53.5828 104.8819 61.1645 109.9843 63.627 115.0866 104.6843 120.189 80.4826 125.2913 76.3635 130.3937 100.2868 135.4961 85.7308 140.5984 78.2692 145.7008 75.2441 150.8031 83.8691 155.9055 68.5646 161.0079 73.7051 166.1102 56.1111 171.2126 62.7588 176.315 77.7276 181.4173 62.0213 186.5197 71.6634 191.622 67.0597 196.7244 67.9247 201.8268 68.2377 206.9291 91.3942 212.0315 35.7636 217.1339 90.1846 222.2362 53.4036 227.3386 50.9698 232.4409 52.5063 237.5433 108.6392 242.6457 62.7761 247.748 45.4708 252.8504 43.2752 257.9528 62.386 263.0551 46.9955 268.1575 58.4154 273.2598 68.5812 278.3622 61.7811 283.4646 61.6523 288.5669 90.3205 293.6693 66.8251 298.7717 80.1433 303.874 52.9116 308.9764 55.1987 314.0787 69.5805 319.1811 80.1612 324.2835 70.4945 329.3858 85.4048 334.4882 66.8666 339.5906 74.1857 344.6929 58.5491 349.7953 58.3512 354.8976 74.7189 360 61.4358 365.1024 77.4621 370.2047 70.2155 375.3071 69.3045 380.4094 86.4747 385.5118 73.026 390.6142 63.073 395.7165 53.4759 400.8189 56.3762 405.9213 61.2365 411.0236 79.8308 416.126 73.7427 421.2283 69.7366 426.3307 48.7121 431.4331 70.1493 436.5354 62.8035 441.6378 57.0963 446.7402 74.2687 451.8425 85.5029 456.9449 51.578 462.0472 83.3354 467.1496 74.4672 472.252 80.5691 477.3543 77.4346 482.4567 68.257 487.5591 91.6095 492.6614 55.3117 497.7638 99.5868 502.8661 70.7244 507.9685 70.4497 513.0709 72.9666 518.1732 45.6145 523.2756 89.8445 528.378 55.7595 533.4803 71.6866\" stroke=\"rgba(0,255,0,1)\" stroke-miterlimit=\"10\"/>\n",
       "</svg>"
      ],
      "text/plain": [
       "<IPython.core.display.SVG object>"
      ]
     },
     "metadata": {},
     "output_type": "display_data"
    }
   ],
   "source": [
    "size = 200\n",
    "d = document(200, 50, 'mm')\n",
    "page = d.addpage()\n",
    "line_figure = shape().stroke(rgba(0, 255, 0, 255)).width(1)\n",
    "curve_figure = shape().stroke(rgba(0, 0, 0, 255)).width(2)\n",
    "pts = make_scribble(xoffset=10,\n",
    "                    yoffset=25,\n",
    "                    width=180,\n",
    "                    height=5,\n",
    "                    steps=100,\n",
    "                    stddev=0)\n",
    "lines = line_figure.polyline(flatten(pts))\n",
    "curve = curve_figure.path(smooth_point_path(pts))\n",
    "page.place(curve) # comment to hide curves\n",
    "page.place(lines) # comment to hide non-smooth lines\n",
    "show(page)"
   ]
  },
  {
   "cell_type": "markdown",
   "metadata": {},
   "source": [
    "The function also has a `stddev` parameter that allows you to adjust the standard deviation of a normally-distributed random number that adjusts the spacing of each point along the x-axis. This allows for the possibility of letters looping back on themselves:"
   ]
  },
  {
   "cell_type": "code",
   "execution_count": 69,
   "metadata": {},
   "outputs": [
    {
     "data": {
      "image/svg+xml": [
       "<svg height=\"141.7323pt\" version=\"1.1\" viewBox=\"0 0 566.9291 141.7323\" width=\"566.9291pt\" xmlns=\"http://www.w3.org/2000/svg\" xmlns:xlink=\"http://www.w3.org/1999/xlink\">\n",
       "<title>Untitled</title>\n",
       "<path d=\"M31.8337,69.2376 C36.0778,69.7449,46.2144,77.4217,46.9773,77.0733 M46.9773,77.0733 C47.7402,76.7249,34.888,64.2131,36.4112,67.1474 M36.4112,67.1474 C37.9344,70.0816,54.3678,97.8993,56.1163,94.6789 M56.1163,94.6789 C57.8647,91.4585,45.6604,53.6492,46.9018,47.8249 M46.9018,47.8249 C48.1433,42.0005,62.1216,54.2216,63.5651,59.7327 M63.5651,59.7327 C65.0086,65.2439,55.2915,77.8891,55.5629,80.8919 M55.5629,80.8919 C55.8342,83.8948,61.0187,79.6386,65.1929,77.7499 M65.1929,77.7499 C69.3672,75.8612,79.5591,72.5089,80.6084,69.5596 M80.6084,69.5596 C81.6577,66.6104,71.2674,56.045,71.4886,60.0546 M71.4886,60.0546 C71.7097,64.0642,78.8728,91.6705,81.9354,93.6173 M81.9354,93.6173 C84.998,95.5641,89.8015,75.3362,89.8641,71.7354 M89.8641,71.7354 C89.9266,68.1345,81.1607,71.1946,82.3108,72.0122 M82.3108,72.0122 C83.461,72.8298,96.7425,75.1417,96.765,76.641 M96.765,76.641 C96.7875,78.1404,82.1417,79.721,82.446,81.0083 M82.446,81.0083 C82.7504,82.2956,90.982,87.7391,98.5911,84.365 M98.5911,84.365 C106.2002,80.991,125.0951,63.3521,128.1008,60.764 M128.1008,60.764 C131.1065,58.176,117.5168,67.0277,116.6254,68.8367 M116.6254,68.8367 C115.7341,70.6456,120.5415,69.8182,122.7528,71.6175 M122.7528,71.6175 C124.9641,73.4167,125.1042,82.5398,129.8933,79.632 M129.8933,79.632 C134.6823,76.7242,149.9274,54.8752,151.4872,54.1705 M151.4872,54.1705 C153.0469,53.4658,139.4896,69.8956,139.252,75.4039 M139.252,75.4039 C139.0145,80.9123,146.0704,88.1794,150.0618,87.2205 M150.0618,87.2205 C154.0532,86.2617,162.2647,69.9472,163.2006,69.6509 M163.2006,69.6509 C164.1366,69.3547,153.9785,88.4344,155.6775,85.4429 M155.6775,85.4429 C157.3764,82.4514,173.0261,52.6211,173.3942,51.7018 M173.3942,51.7018 C173.7622,50.7825,159.8075,76.2594,157.8858,79.9268 M157.8858,79.9268 C155.9641,83.5942,160.841,76.502,161.8639,73.706 M161.8639,73.706 C162.8867,70.91,160.3199,63.3263,164.0229,63.1507 M164.0229,63.1507 C167.726,62.9752,178.4507,72.2507,184.0822,72.6526 M184.0822,72.6526 C189.7137,73.0546,195.9866,62.6454,197.8119,65.5624 M197.8119,65.5624 C199.6372,68.4794,196.7988,89.6451,195.034,90.1546 M195.034,90.1546 C193.2692,90.6641,184.8242,71.1015,187.223,68.6195 M187.223,68.6195 C189.6217,66.1374,206.7513,73.9854,209.4265,75.2623 M209.4265,75.2623 C212.1017,76.5392,203.5733,78.693,203.2742,76.281 M203.2742,76.281 C202.9751,73.869,206.8936,61.3919,207.632,60.7905 M207.632,60.7905 C208.3703,60.189,203.4743,71.4361,207.7042,72.6724 M207.7042,72.6724 C211.9341,73.9087,231.4255,68.1517,233.0113,68.2082 M233.0113,68.2082 C234.5972,68.2646,217.6102,74.5918,217.2193,73.0113 M217.2193,73.0113 C216.8284,71.4308,229.313,59.4336,230.6661,58.7253 M230.6661,58.7253 C232.0193,58.0171,224.8537,73.4758,225.3383,68.7618 M225.3383,68.7618 C225.823,64.0479,230.2123,29.6362,233.5742,30.4418 M233.5742,30.4418 C236.936,31.2475,241.8662,66.681,245.5094,73.5957 M245.5094,73.5957 C249.1526,80.5104,254.2214,75.9754,255.4336,71.9299 M255.4336,71.9299 C256.6458,67.8845,251.4622,47.3834,252.7828,49.323 M252.7828,49.323 C254.1034,51.2626,260.4623,79.5125,263.3572,83.5675 M263.3572,83.5675 C266.252,87.6224,268.0251,78.1603,270.1517,73.6526 M270.1517,73.6526 C272.2782,69.1449,277.0362,54.31,276.1166,56.5212 M276.1166,56.5212 C275.197,58.7325,262.5806,85.1845,264.6341,86.92 M264.6341,86.92 C266.6876,88.6555,286.1002,67.418,288.4373,66.934 M288.4373,66.934 C290.7745,66.4501,279.2805,87.1078,278.6569,84.0164 M278.6569,84.0164 C278.0333,80.9251,281.3543,53.6598,284.6958,48.3861 M284.6958,48.3861 C288.0373,43.1125,295.1234,52.0842,298.7059,52.3747 M298.7059,52.3747 C302.2884,52.6651,304.1265,47.8886,306.191,50.129 M306.191,50.129 C308.2555,52.3694,310.4457,61.5149,311.093,65.8172 M311.093,65.8172 C311.7404,70.1196,308.6155,74.6032,310.0749,75.9431 M310.0749,75.9431 C311.5342,77.283,317.4612,75.2927,319.8491,73.8567 M319.8491,73.8567 C322.2371,72.4207,325.7105,70.73,324.4025,67.327 M324.4025,67.327 C323.0946,63.9239,310.6735,51.8689,312.0014,53.4385 M312.0014,53.4385 C313.3293,55.008,325.9854,74.7022,332.3699,76.7442 M332.3699,76.7442 C338.7543,78.7861,348.1661,67.6122,350.3082,65.6902 M350.3082,65.6902 C352.4503,63.7682,346.0544,65.5984,345.2223,65.2121 M345.2223,65.2121 C344.3902,64.8258,342.8403,65.8812,345.3157,63.3725 M345.3157,63.3725 C347.7911,60.8637,359.0592,51.4705,360.0746,50.1597 M360.0746,50.1597 C361.0899,48.8488,351.207,55.3533,351.4076,55.5074 M351.4076,55.5074 C351.6083,55.6614,358.3502,45.8392,361.2784,51.0837 M361.2784,51.0837 C364.2067,56.3283,365.5649,85.1485,368.9773,86.9747 M368.9773,86.9747 C372.3897,88.8008,383.0889,61.6279,381.7529,62.0407 M381.7529,62.0407 C380.4169,62.4536,360.8174,90.9695,360.9614,89.4519 M360.9614,89.4519 C361.1054,87.9343,376.4806,54.4727,382.617,52.9352 M382.617,52.9352 C388.7534,51.3977,394.7525,83.1543,397.78,80.227 M397.78,80.227 C400.8076,77.2997,399.5979,38.0256,400.7822,35.3716 M400.7822,35.3716 C401.9666,32.7175,404.5762,56.4405,404.8859,64.3027 M404.8859,64.3027 C405.1957,72.1649,401.6398,81.2377,402.6408,82.5449 M402.6408,82.5449 C403.6419,83.8521,408.3409,74.8214,410.8922,72.1461 M410.8922,72.1461 C413.4434,69.4708,417.6021,67.2976,417.9485,66.4932 M417.9485,66.4932 C418.2949,65.6889,409.8829,62.8964,412.9705,67.3202 M412.9705,67.3202 C416.0581,71.744,431.9163,92.4629,436.4741,93.0361 M436.4741,93.0361 C441.0318,93.6092,437.7507,74.7572,440.3169,70.759 M440.3169,70.759 C442.8831,66.7608,450.8586,72.3429,451.8712,69.0468 M451.8712,69.0468 C452.8839,65.7507,447.8612,50.6142,446.3927,50.9825 M446.3927,50.9825 C444.9242,51.3509,442.2053,69.8575,443.06,71.257 M443.06,71.257 C443.9147,72.6565,449.3918,58.5017,451.5209,59.3795 M451.5209,59.3795 C453.65,60.2574,454.8547,75.4034,455.8346,76.5241 M455.8346,76.5241 C456.8145,77.6448,454.428,64.7531,457.4002,66.1038 M457.4002,66.1038 C460.3725,67.4544,470.679,86.2753,473.668,84.6282 M473.668,84.6282 C476.657,82.981,475.1837,58.9806,475.3342,56.221 M475.3342,56.221 C475.4848,53.4614,475.1774,62.8529,474.5715,68.0706 M474.5715,68.0706 C473.9657,73.2883,470.9919,90.8215,471.6992,87.5272 M471.6992,87.5272 C472.4065,84.233,477.5348,55.0941,478.8153,48.3051 M478.8153,48.3051 C480.0958,41.516,473.5345,39.3242,479.3822,46.793 M479.3822,46.793 C485.2299,54.2619,510.6239,88.9466,513.9016,93.1181 M513.9016,93.1181 C517.1792,97.2897,500.1057,77.1817,499.0478,71.822 M499.0478,71.822 C497.99,66.4624,503.7867,63.2528,507.5544,60.96 M507.5544,60.96 C511.3221,58.6672,519.76,59.596,521.6542,58.0652 M521.6542,58.0652 C523.5483,56.5344,519.6814,53.4127,518.9192,51.7753 M518.9192,51.7753 C518.1571,50.1379,516.3481,38.2358,517.0812,48.2408 M517.0812,48.2408 C517.8142,58.2457,522.1104,108.0722,523.3176,111.8048\" fill=\"none\" stroke=\"rgba(0,0,0,1)\" stroke-miterlimit=\"10\" stroke-width=\"2\"/>\n",
       "</svg>"
      ],
      "text/plain": [
       "<IPython.core.display.SVG object>"
      ]
     },
     "metadata": {},
     "output_type": "display_data"
    }
   ],
   "source": [
    "size = 200\n",
    "d = document(200, 50, 'mm')\n",
    "page = d.addpage()\n",
    "line_figure = shape().stroke(rgba(0, 255, 0, 255)).width(1)\n",
    "pts = make_scribble(xoffset=10,\n",
    "                    yoffset=25,\n",
    "                    width=180,\n",
    "                    height=5,\n",
    "                    steps=100,\n",
    "                    stddev=3)\n",
    "curve = curve_figure.path(smooth_point_path(pts))\n",
    "page.place(curve)\n",
    "show(page)"
   ]
  },
  {
   "cell_type": "markdown",
   "metadata": {},
   "source": [
    "The following example displays multiple \"lines\" of these scribbles, moving down the page, using a `for` loop:"
   ]
  },
  {
   "cell_type": "code",
   "execution_count": 70,
   "metadata": {},
   "outputs": [
    {
     "data": {
      "image/svg+xml": [
       "<svg height=\"566.9291pt\" version=\"1.1\" viewBox=\"0 0 566.9291 566.9291\" width=\"566.9291pt\" xmlns=\"http://www.w3.org/2000/svg\" xmlns:xlink=\"http://www.w3.org/1999/xlink\">\n",
       "<title>Untitled</title>\n",
       "<path d=\"M27.8253,9.8816 C28.4427,7.3145,32.2755,21.8583,34.4776,21.7276 M34.4776,21.7276 C36.6796,21.5969,39.2069,7.7973,41.0377,9.0975 M41.0377,9.0975 C42.8686,10.3976,44.3068,26.1447,45.4627,29.5283 M45.4627,29.5283 C46.6186,32.912,46.3325,30.6691,47.9731,29.3994 M47.9731,29.3994 C49.6137,28.1296,53.5812,20.6777,55.3062,21.91 M55.3062,21.91 C57.0313,23.1423,56.5654,34.4418,58.3233,36.7932 M58.3233,36.7932 C60.0812,39.1446,64.328,39.3233,65.8536,36.0183 M65.8536,36.0183 C67.3791,32.7133,66.0264,17.9165,67.4763,16.9632 M67.4763,16.9632 C68.9263,16.0099,71.9805,30.0832,74.5532,30.2984 M74.5532,30.2984 C77.1259,30.5135,81.503,18.486,82.9126,18.2541 M82.9126,18.2541 C84.3221,18.0222,81.6106,29.3259,83.0106,28.9068 M83.0106,28.9068 C84.4106,28.4878,89.2707,13.6741,91.3127,15.74 M91.3127,15.74 C93.3546,17.8059,93.4093,39.1351,95.2624,41.3022 M95.2624,41.3022 C97.1155,43.4693,101.385,30.6046,102.4313,28.7425 M102.4313,28.7425 C103.4777,26.8805,101.1203,28.7917,101.5405,30.1299 M101.5405,30.1299 C101.9607,31.468,102.4741,36.4576,104.9524,36.7714 M104.9524,36.7714 C107.4308,37.0851,114.772,34.134,116.4106,32.0122 M116.4106,32.0122 C118.0493,29.8904,113.7534,25.514,114.7842,24.0407 M114.7842,24.0407 C115.8151,22.5674,121.0156,21.8262,122.5955,23.1726 M122.5955,23.1726 C124.1753,24.5191,123.3689,30.5726,124.2633,32.1193 M124.2633,32.1193 C125.1578,33.6661,126.5132,32.1781,127.962,32.4529 M127.962,32.4529 C129.4107,32.7278,131.1745,33.4203,132.9556,33.7685 M132.9556,33.7685 C134.7368,34.1166,136.847,35.9236,138.649,34.5417 M138.649,34.5417 C140.451,33.1598,141.7653,24.8811,143.7679,25.477 M143.7679,25.477 C145.7704,26.073,150.2259,33.1928,150.6643,38.1176 M150.6643,38.1176 C151.1027,43.0425,144.7357,57.5717,146.3985,55.0263 M146.3985,55.0263 C148.0614,52.4809,157.2641,27.2363,160.6414,22.8452 M160.6414,22.8452 C164.0187,18.4541,165.7643,28.8817,166.6623,28.6796 M166.6623,28.6796 C167.5604,28.4775,165.1875,20.6768,166.0297,21.6327 M166.0297,21.6327 C166.8719,22.5886,170.0994,32.7172,171.7156,34.4149 M171.7156,34.4149 C173.3318,36.1126,173.7776,34.5555,175.7267,31.8189 M175.7267,31.8189 C177.6757,29.0823,180.4834,16.7831,183.4098,17.9954 M183.4098,17.9954 C186.3363,19.2077,191.814,38.0379,193.2854,39.0927 M193.2854,39.0927 C194.7568,40.1476,190.8668,25.9226,192.238,24.3244 M192.238,24.3244 C193.6093,22.7262,199.83,25.3514,201.5131,29.5034 M201.5131,29.5034 C203.1962,33.6554,202.558,49.6067,202.3366,49.2364 M202.3366,49.2364 C202.1153,48.8661,198.6987,30.2314,200.185,27.2818 M200.185,27.2818 C201.6714,24.3321,208.5416,29.0294,211.2549,31.5385 M211.2549,31.5385 C213.9681,34.0475,215.2608,43.3334,216.4644,42.336 M216.4644,42.336 C217.6681,41.3387,217.3028,28.4272,218.4768,25.5542 M218.4768,25.5542 C219.6508,22.6813,222.3531,24.8268,223.5084,25.0981 M223.5084,25.0981 C224.6636,25.3694,224.1451,23.4603,225.4084,27.182 M225.4084,27.182 C226.6716,30.9037,229.1893,46.9367,231.088,47.4284 M231.088,47.4284 C232.9866,47.92,235.8596,35.3383,236.8001,30.1321 M236.8001,30.1321 C237.7407,24.9259,234.8896,17.9069,236.7312,16.191 M236.7312,16.191 C238.5728,14.4752,245.4623,15.4829,247.8496,19.8369 M247.8496,19.8369 C250.2369,24.1909,249.5542,39.6845,251.0551,42.3152 M251.0551,42.3152 C252.5559,44.9458,255.7415,38.4379,256.855,35.621 M256.855,35.621 C257.9685,32.804,256.5393,25.6578,257.7362,25.4136 M257.7362,25.4136 C258.933,25.1694,262.0034,35.8096,264.0362,34.1559 M264.0362,34.1559 C266.069,32.5022,268.0214,16.9245,269.933,15.4913 M269.933,15.4913 C271.8447,14.0581,274.2046,25.8688,275.5062,25.5568 M275.5062,25.5568 C276.8078,25.2449,277.611,16.4196,277.7424,13.6196 M277.7424,13.6196 C277.8738,10.8195,274.8307,4.4674,276.2947,8.7566 M276.2947,8.7566 C277.7586,13.0458,283.9183,36.6721,286.5261,39.355 M286.5261,39.355 C289.1338,42.038,290.1758,28.8866,291.9411,24.8545 M291.9411,24.8545 C293.7064,20.8224,295.8541,12.5695,297.1179,15.1624 M297.1179,15.1624 C298.3818,17.7552,298.282,39.5256,299.5241,40.4118 M299.5241,40.4118 C300.7661,41.2979,302.7226,22.707,304.5701,20.4791 M304.5701,20.4791 C306.4177,18.2512,307.7397,25.3176,310.6093,27.0444 M310.6093,27.0444 C313.479,28.7711,320.4618,34.3413,321.7881,30.8397 M321.7881,30.8397 C323.1143,27.3382,317.7453,5.9808,318.5667,6.0352 M318.5667,6.0352 C319.3881,6.0897,324.5681,28.9877,326.7163,31.1665 M326.7163,31.1665 C328.8646,33.3454,330.4521,19.2409,331.4562,19.1083 M331.4562,19.1083 C332.4602,18.9758,332.2541,31.1893,332.7405,30.3712 M332.7405,30.3712 C333.2269,29.5531,333.2193,13.3191,334.3746,14.1996 M334.3746,14.1996 C335.53,15.0802,336.9241,35.0275,339.6726,35.6547 M339.6726,35.6547 C342.421,36.2819,348.4393,20.1152,350.8651,17.963 M350.8651,17.963 C353.2908,15.8109,352.9706,19.9369,354.2269,22.7418 M354.2269,22.7418 C355.4832,25.5466,356.5751,34.9152,358.4031,34.7923 M358.4031,34.7923 C360.2311,34.6695,363.2327,26.6593,365.1949,22.0046 M365.1949,22.0046 C367.1571,17.35,368.7622,6.8661,370.1761,6.8646 M370.1761,6.8646 C371.5901,6.8631,373.4344,18.1802,373.6786,21.9955 M373.6786,21.9955 C373.9229,25.8108,369.4634,31.9481,371.6416,29.7565 M371.6416,29.7565 C373.8199,27.5649,384.3358,12.23,386.748,8.846 M386.748,8.846 C389.1603,5.462,386.0197,5.2974,386.1152,9.4525 M386.1152,9.4525 C386.2107,13.6076,386.3024,32.5558,387.3212,33.7765 M387.3212,33.7765 C388.3401,34.9972,389.9107,16.9783,392.2285,16.7769 M392.2285,16.7769 C394.5462,16.5754,398.7512,30.5479,401.2276,32.5676 M401.2276,32.5676 C403.704,34.5874,405.7707,31.3805,407.0867,28.8953 M407.0867,28.8953 C408.4026,26.4102,408.0824,18.1182,409.1234,17.6568 M409.1234,17.6568 C410.1644,17.1955,411.8069,24.616,413.3328,26.1273 M413.3328,26.1273 C414.8587,27.6386,416.3317,26.1978,418.2787,26.7248 M418.2787,26.7248 C420.2258,27.2518,423.6404,30.5041,425.0151,29.2891 M425.0151,29.2891 C426.3899,28.0742,425.664,18.0677,426.5272,19.4351 M426.5272,19.4351 C427.3904,20.8025,429.1425,35.1379,430.1942,37.4935 M430.1942,37.4935 C431.2458,39.8491,432.2514,35.9389,432.837,33.5688 M432.837,33.5688 C433.4226,31.1987,430.8742,25.3996,433.7079,23.2728 M433.7079,23.2728 C436.5416,21.1461,446.2699,19.3431,449.8395,20.8084 M449.8395,20.8084 C453.4091,22.2738,453.6742,33.1616,455.1256,32.0651 M455.1256,32.0651 C456.5769,30.9686,457.8102,13.7556,458.5477,14.2293 M458.5477,14.2293 C459.2851,14.7029,458.1855,31.7971,459.5501,34.9072 M459.5501,34.9072 C460.9147,38.0172,465.2333,33.4441,466.7351,32.8897 M466.7351,32.8897 C468.2369,32.3354,466.8394,29.2443,468.5609,31.5811 M468.5609,31.5811 C470.2823,33.9179,475.9554,47.7405,477.0637,46.9105 M477.0637,46.9105 C478.1721,46.0805,473.603,29.4873,475.2109,26.6011 M475.2109,26.6011 C476.8187,23.715,483.7361,27.6885,486.7107,29.5936 M486.7107,29.5936 C489.6852,31.4986,491.7999,34.1144,493.0582,38.0314 M493.0582,38.0314 C494.3165,41.9484,493.3559,55.8472,494.2605,53.0956 M494.2605,53.0956 C495.1652,50.344,497.7327,27.397,498.486,21.5218 M498.486,21.5218 C499.2393,15.6466,498.0542,14.9893,498.7803,17.8444 M498.7803,17.8444 C499.5065,20.6995,501.1382,38.2647,502.8429,38.6524 M502.8429,38.6524 C504.5477,39.04,506.8867,22.0158,509.009,20.1704 M509.009,20.1704 C511.1312,18.325,513.2573,24.6542,515.5765,27.5798 M515.5765,27.5798 C517.8957,30.5054,521.1268,36.0272,522.9242,37.724 M522.9242,37.724 C524.7216,39.4207,524.6047,40.133,526.361,37.7603 M526.361,37.7603 C528.1173,35.3877,531.0025,22.9873,533.462,23.4881\" fill=\"none\" stroke=\"rgba(0,0,0,1)\" stroke-miterlimit=\"10\" stroke-width=\"2\"/>\n",
       "<path d=\"M29.6085,63.6577 C30.3063,63.9377,34.1303,57.6726,36.1553,53.6746 M36.1553,53.6746 C38.1802,49.6766,41.3684,39.5488,41.7583,39.6695 M41.7583,39.6695 C42.1481,39.7903,37.8318,50.597,38.4944,54.3992 M38.4944,54.3992 C39.157,58.2015,44.5533,62.8993,45.734,62.4831 M45.734,62.4831 C46.9146,62.0669,44.5743,50.4119,45.5782,51.9019 M45.5782,51.9019 C46.5821,53.3919,49.9478,67.976,51.7576,71.4231 M51.7576,71.4231 C53.5674,74.8703,55.9982,74.9757,56.4372,72.5848 M56.4372,72.5848 C56.8762,70.194,53.1346,59.3474,54.3917,57.0781 M54.3917,57.0781 C55.6487,54.8088,61.4313,57.0891,63.9793,58.9692 M63.9793,58.9692 C66.5272,60.8492,68.4833,69.0038,69.6794,68.3586 M69.6794,68.3586 C70.8755,67.7134,71.3058,58.4059,71.156,55.098 M71.156,55.098 C71.0061,51.7902,67.9663,46.7649,68.7804,48.5114 M68.7804,48.5114 C69.5944,50.2578,74.022,62.0903,76.0402,65.5768 M76.0402,65.5768 C78.0584,69.0634,79.487,68.5073,80.8895,69.4307 M80.8895,69.4307 C82.2919,70.3542,82.9468,74.2184,84.4551,71.1177 M84.4551,71.1177 C85.9633,68.017,88.9803,53.1534,89.9389,50.8265 M89.9389,50.8265 C90.8976,48.4995,90.2064,55.9204,90.2069,57.1561 M90.2069,57.1561 C90.2073,58.3918,88.464,59.5977,89.9417,58.2406 M89.9417,58.2406 C91.4194,56.8835,96.6499,47.0444,99.0729,49.0135 M99.0729,49.0135 C101.496,50.9826,104.0971,68.915,104.48,70.0551 M104.48,70.0551 C104.8628,71.1952,101.3139,58.377,101.3701,55.8541 M101.3701,55.8541 C101.4262,53.3312,103.0944,52.6858,104.8169,54.9176 M104.8169,54.9176 C106.5394,57.1494,111.3607,67.6215,111.7049,69.2451 M111.7049,69.2451 C112.049,70.8686,106.1525,66.2458,106.882,64.659 M106.882,64.659 C107.6115,63.0723,113.1121,60.853,116.0818,59.7247 M116.0818,59.7247 C119.0514,58.5963,122.8059,56.1445,124.7,57.8887 M124.7,57.8887 C126.5941,59.6329,125.8883,66.0436,127.4462,70.19 M127.4462,70.19 C129.0041,74.3365,133.9533,82.4529,134.0475,82.7674 M134.0475,82.7674 C134.1417,83.0819,128.5796,76.6251,128.0114,72.077 M128.0114,72.077 C127.4433,67.529,128.9481,54.4413,130.6388,55.4792 M130.6388,55.4792 C132.3294,56.5172,135.2213,77.2798,138.1552,78.3049 M138.1552,78.3049 C141.0892,79.3299,146.9247,62.6772,148.2424,61.6295 M148.2424,61.6295 C149.5601,60.5817,146.4562,72.4166,146.0617,72.0185 M146.0617,72.0185 C145.6671,71.6204,144.4222,61.0652,145.875,59.2408 M145.875,59.2408 C147.3278,57.4164,153.8197,61.2361,154.7784,61.0721 M154.7784,61.0721 C155.737,60.9081,149.6338,61.1729,151.627,58.257 M151.627,58.257 C153.6202,55.341,164.7572,45.1228,166.7377,43.5763 M166.7377,43.5763 C168.7182,42.0299,164.5565,47.5499,163.5099,48.9781 M163.5099,48.9781 C162.4634,50.4062,158.8494,53.541,160.4585,52.1453 M160.4585,52.1453 C162.0675,50.7496,170.9327,37.7217,173.1643,40.6041 M173.1643,40.6041 C175.3959,43.4865,173.2358,67.4725,173.8478,69.4396 M173.8478,69.4396 C174.4599,71.4067,175.9946,55.7947,176.8367,52.4068 M176.8367,52.4068 C177.6787,49.0188,177.8701,47.0146,178.9,49.112 M178.9,49.112 C179.9298,51.2095,180.2339,62.9375,183.0157,64.9917 M183.0157,64.9917 C185.7975,67.046,194.8993,64.852,195.5907,61.4376 M195.5907,61.4376 C196.2821,58.0232,187.2216,45.7997,187.1642,44.5052 M187.1642,44.5052 C187.1068,43.2108,193.3804,52.443,195.2464,53.6708 M195.2464,53.6708 C197.1124,54.8985,197.2126,52.2829,198.3602,51.872 M198.3602,51.872 C199.5078,51.4611,200.3963,48.943,202.1319,51.2055 M202.1319,51.2055 C203.8675,53.468,208.24,62.3194,208.7738,65.4468 M208.7738,65.4468 C209.3076,68.5741,204.5851,69.1778,205.3347,69.9697 M205.3347,69.9697 C206.0843,70.7615,212.31,72.6132,213.2712,70.198 M213.2712,70.198 C214.2324,67.7827,210.4416,57.9309,211.1019,55.4784 M211.1019,55.4784 C211.7621,53.0259,215.0858,52.3199,217.2329,55.4828 M217.2329,55.4828 C219.38,58.6457,223.9352,72.941,223.9845,74.4556 M223.9845,74.4556 C224.0338,75.9702,216.1282,66.8015,217.5289,64.5703 M217.5289,64.5703 C218.9297,62.3391,231.3699,59.5737,232.3889,61.0682 M232.3889,61.0682 C233.4078,62.5628,222.7614,72.8826,223.6427,73.5378 M223.6427,73.5378 C224.5241,74.1931,234.6966,65.1886,237.6769,64.9997 M237.6769,64.9997 C240.6573,64.8109,241.2094,73.8744,241.5247,72.4044 M241.5247,72.4044 C241.8401,70.9345,239.3539,60.2265,239.5689,56.1802 M239.5689,56.1802 C239.784,52.1338,240.9414,47.253,242.815,48.1263 M242.815,48.1263 C244.6887,48.9996,250.1564,59.8704,250.811,61.4199 M250.811,61.4199 C251.4656,62.9693,247.2519,56.4722,246.7425,57.4231 M246.7425,57.4231 C246.2332,58.374,245.4073,66.4275,247.755,67.1253 M247.755,67.1253 C250.1026,67.8232,259.537,64.251,260.8287,61.6101 M260.8287,61.6101 C262.1203,58.9691,255.0267,50.7206,255.5049,51.2797 M255.5049,51.2797 C255.983,51.8388,260.5842,63.7554,263.6977,64.9649 M263.6977,64.9649 C266.8112,66.1744,271.9262,56.5027,274.1857,58.5365 M274.1857,58.5365 C276.4451,60.5703,277.1341,77.7334,277.2542,77.1679 M277.2542,77.1679 C277.3744,76.6024,274.0076,56.032,274.9065,55.1434 M274.9065,55.1434 C275.8055,54.2547,281.5018,70.7453,282.648,71.8362 M282.648,71.8362 C283.7942,72.927,281.151,64.9532,281.7837,61.6885 M281.7837,61.6885 C282.4163,58.4238,285.7303,48.4752,286.4441,52.2481 M286.4441,52.2481 C287.1579,56.021,285.0804,83.6465,286.0663,84.3261 M286.0663,84.3261 C287.0521,85.0056,291.7325,59.5409,292.3591,56.3255 M292.3591,56.3255 C292.9857,53.11,288.8017,63.1257,289.8257,65.0333 M289.8257,65.0333 C290.8498,66.9408,296.0326,70.1726,298.5034,67.7708 M298.5034,67.7708 C300.9742,65.3691,303.3367,51.6421,304.6506,50.6227 M304.6506,50.6227 C305.9644,49.6034,305.4128,60.445,306.3867,61.6547 M306.3867,61.6547 C307.3606,62.8643,310.2841,56.5933,310.4938,57.8804 M310.4938,57.8804 C310.7035,59.1676,307.0489,71.6109,307.6447,69.3774 M307.6447,69.3774 C308.2405,67.144,311.9152,43.9537,314.0684,44.4797 M314.0684,44.4797 C316.2215,45.0057,317.9768,71.4373,320.5634,72.5334 M320.5634,72.5334 C323.1499,73.6296,328.0729,52.2622,329.5876,51.0566 M329.5876,51.0566 C331.1022,49.8511,328.8622,64.8106,329.6515,65.3 M329.6515,65.3 C330.4408,65.7895,333.4388,54.2282,334.3235,53.9933 M334.3235,53.9933 C335.2083,53.7583,335.9143,63.5176,334.9597,63.8904 M334.9597,63.8904 C334.0052,64.2632,329.1411,55.7067,328.5962,56.2301 M328.5962,56.2301 C328.0513,56.7535,330.4372,67.6551,331.6902,67.0307 M331.6902,67.0307 C332.9432,66.4063,333.8483,54.5079,336.1144,52.4836 M336.1144,52.4836 C338.3806,50.4593,343.1984,54.7302,345.2871,54.8849 M345.2871,54.8849 C347.3758,55.0395,346.7374,52.1283,348.6463,53.4114 M348.6463,53.4114 C350.5553,54.6945,355.2131,61.2318,356.741,62.5834 M356.741,62.5834 C358.269,63.935,356.9091,63.3697,357.8138,61.5211 M357.8138,61.5211 C358.7185,59.6724,359.9685,49.5752,362.1694,51.4913 M362.1694,51.4913 C364.3702,53.4075,371.8033,73.4984,371.0189,73.0181 M371.0189,73.0181 C370.2344,72.5377,356.3484,50.188,357.4625,48.6094 M357.4625,48.6094 C358.5767,47.0309,376.8059,63.3154,377.704,63.5468 M377.704,63.5468 C378.602,63.7782,361.6836,51.8791,362.8509,49.9976 M362.8509,49.9976 C364.0183,48.1161,380.7169,49.5782,384.7083,52.258 M384.7083,52.258 C388.6997,54.9379,385.6966,60.6435,386.7995,66.0767 M386.7995,66.0767 C387.9023,71.5099,391.1155,84.6913,391.3255,84.8573 M391.3255,84.8573 C391.5355,85.0232,388.0808,68.3265,388.0595,67.0723 M388.0595,67.0723 C388.0382,65.818,389.8798,76.2241,391.1976,77.3318 M391.1976,77.3318 C392.5154,78.4395,395.5887,78.3286,395.9664,73.7185 M395.9664,73.7185 C396.344,69.1084,393.2475,50.9406,393.4634,49.6712 M393.4634,49.6712 C393.6794,48.4018,394.3345,62.505,397.2621,66.1022 M397.2621,66.1022 C400.1897,69.6994,409.603,74.1743,411.0287,71.2545 M411.0287,71.2545 C412.4544,68.3347,405.4344,50.4796,405.8164,48.5832 M405.8164,48.5832 C406.1984,46.6868,411.4243,55.2424,413.3206,59.8762 M413.3206,59.8762 C415.2169,64.5101,416.6921,77.7006,417.1942,76.3863 M417.1942,76.3863 C417.6962,75.072,415.0788,53.4213,416.333,51.9906 M416.333,51.9906 C417.5872,50.5598,422.9945,68.0967,424.7192,67.8019 M424.7192,67.8019 C426.4439,67.5071,426.7617,52.6688,426.681,50.2219 M426.681,50.2219 C426.6003,47.7749,421.9144,50.5507,424.2352,53.1204 M424.2352,53.1204 C426.5559,55.69,437.3141,62.2391,440.6057,65.6398 M440.6057,65.6398 C443.8972,69.0405,443.5185,73.9709,443.9843,73.5246 M443.9843,73.5246 C444.4502,73.0783,444.2315,64.1896,443.401,62.9622 M443.401,62.9622 C442.5704,61.7348,438.6437,66.9442,439.0012,66.1601 M439.0012,66.1601 C439.3586,65.3759,444.6078,58.6562,445.5459,58.2573 M445.5459,58.2573 C446.4839,57.8584,444.21,60.5784,444.6292,63.7666 M444.6292,63.7666 C445.0484,66.9548,446.2238,79.229,448.0611,77.3866 M448.0611,77.3866 C449.8983,75.5442,453.1165,54.9667,455.6528,52.7121 M455.6528,52.7121 C458.1892,50.4576,462.5591,62.0349,463.2794,63.8595 M463.2794,63.8595 C463.9997,65.684,459.9351,64.3648,459.9745,63.6593 M459.9745,63.6593 C460.0138,62.9539,460.798,59.7574,463.5152,59.6268 M463.5152,59.6268 C466.2325,59.4962,474.1981,63.3393,476.2778,62.8755 M476.2778,62.8755 C478.3575,62.4118,474.8575,54.8453,475.9936,56.8445 M475.9936,56.8445 C477.1296,58.8437,483.3644,75.3443,483.0941,74.8706 M483.0941,74.8706 C482.8238,74.3969,474.9424,53.8975,474.3718,54.0024 M474.3718,54.0024 C473.8013,54.1073,476.6961,74.0184,479.6708,75.5001 M479.6708,75.5001 C482.6455,76.9817,490.3751,64.5214,492.22,62.8924 M492.22,62.8924 C494.0649,61.2634,491.3357,65.7642,490.7401,65.7263 M490.7401,65.7263 C490.1444,65.6883,488.3773,61.7998,488.6459,62.6647 M488.6459,62.6647 C488.9145,63.5295,490.2962,71.1264,492.3517,70.9152 M492.3517,70.9152 C494.4072,70.7041,498.8645,62.8832,500.979,61.398 M500.979,61.398 C503.0934,59.9128,503.1624,60.1304,505.0385,62.0041 M505.0385,62.0041 C506.9145,63.8779,510.4516,73.2195,512.2353,72.6404 M512.2353,72.6404 C514.019,72.0613,515.3744,60.9706,515.7407,58.5294 M515.7407,58.5294 C516.107,56.0882,515.0659,57.2163,514.4332,57.9932 M514.4332,57.9932 C513.8004,58.77,509.8994,64.8436,511.9443,63.1908 M511.9443,63.1908 C513.9892,61.5379,524.9211,45.9945,526.7024,48.0761 M526.7024,48.0761 C528.4836,50.1577,520.7049,76.0453,522.632,75.6805 M522.632,75.6805 C524.5592,75.3156,536.3729,46.004,538.2653,45.887 M538.2653,45.887 C540.1577,45.77,534.5636,70.5247,533.9864,74.9787\" fill=\"none\" stroke=\"rgba(0,0,0,1)\" stroke-miterlimit=\"10\" stroke-width=\"2\"/>\n",
       "<path d=\"M31.2135,94.2628 C32.9203,99.2549,37.8313,119.1212,38.6996,120.1334 M38.6996,120.1334 C39.5678,121.1457,36.3541,103.9792,36.4229,100.3363 M36.4229,100.3363 C36.4917,96.6933,38.7828,99.0083,39.1125,98.2756 M39.1125,98.2756 C39.4423,97.5428,35.7865,96.9773,38.4014,95.9399 M38.4014,95.9399 C41.0164,94.9025,51.7896,88.7322,54.8022,92.051 M54.8022,92.051 C57.8149,95.3697,56.4735,115.2112,56.4775,115.8525 M56.4775,115.8525 C56.4814,116.4939,53.6234,102.9693,54.8261,95.8991 M54.8261,95.8991 C56.0287,88.829,61.2006,74.2769,63.6935,73.4315 M63.6935,73.4315 C66.1865,72.5862,67.9679,89.7,69.7837,90.827 M69.7837,90.827 C71.5995,91.9541,74.6129,80.3981,74.5882,80.1938 M74.5882,80.1938 C74.5635,79.9895,68.8454,85.1723,69.6353,89.6013 M69.6353,89.6013 C70.4251,94.0303,77.1135,106.9212,79.3273,106.768 M79.3273,106.768 C81.5411,106.6148,83.046,93.5739,82.9179,88.6822 M82.9179,88.6822 C82.7898,83.7904,77.6926,77.1707,78.5588,77.4173 M78.5588,77.4173 C79.4251,77.6638,87.872,87.0631,88.1155,90.1617 M88.1155,90.1617 C88.3589,93.2602,79.1937,95.2487,80.0196,96.0086 M80.0196,96.0086 C80.8454,96.7684,89.6605,94.4778,93.0705,94.7206 M93.0705,94.7206 C96.4804,94.9635,100.0341,95.7426,100.4795,97.4657 M100.4795,97.4657 C100.9249,99.1888,95.621,103.5787,95.7427,105.0593 M95.7427,105.0593 C95.8645,106.54,100.4599,108.0314,101.2098,106.3495 M101.2098,106.3495 C101.9597,104.6676,98.3374,95.1043,100.2421,94.9679 M100.2421,94.9679 C102.1468,94.8315,109.6612,105.5963,112.6379,105.531 M112.6379,105.531 C115.6145,105.4657,117.2925,97.6878,118.1019,94.5763 M118.1019,94.5763 C118.9113,91.4648,116.485,87.2479,117.4943,86.862 M117.4943,86.862 C118.5036,86.476,122.3169,92.3607,124.1577,92.2607 M124.1577,92.2607 C125.9985,92.1607,129.233,87.7764,128.5391,86.262 M128.5391,86.262 C127.8453,84.7476,118.6865,82.3818,119.9945,83.1742 M119.9945,83.1742 C121.3024,83.9666,134.0625,88.993,136.3868,91.0165 M136.3868,91.0165 C138.7111,93.04,134.2744,93.8762,133.9405,95.3153 M133.9405,95.3153 C133.6065,96.7544,132.8397,99.5767,134.3831,99.6512 M134.3831,99.6512 C135.9265,99.7257,141.476,95.9845,143.2009,95.7623 M143.2009,95.7623 C144.9259,95.5401,143.3175,98.6205,144.7328,98.318 M144.7328,98.318 C146.1481,98.0155,149.9032,94.1852,151.6927,93.9472 M151.6927,93.9472 C153.4823,93.7092,154.6948,95.3437,155.4703,96.8901 M155.4703,96.8901 C156.2459,98.4365,155.3005,105.5263,156.3462,103.2256 M156.3462,103.2256 C157.3919,100.925,160.3369,84.8146,161.7445,83.0862 M161.7445,83.0862 C163.1521,81.3577,164.1131,89.6203,164.7917,92.8551 M164.7917,92.8551 C165.4703,96.0898,164.3405,103.9041,165.8161,102.4947 M165.8161,102.4947 C167.2917,101.0854,172.7487,84.6185,173.6455,84.3989 M173.6455,84.3989 C174.5424,84.1792,168.7468,97.8414,171.197,101.1767 M171.197,101.1767 C173.6471,104.5121,185.9509,104.2534,188.3464,104.411 M188.3464,104.411 C190.7419,104.5686,185.8321,105.3081,185.57,102.1226 M185.57,102.1226 C185.3079,98.9371,185.813,85.8588,186.7739,85.2981 M186.7739,85.2981 C187.7348,84.7374,189.6513,96.3333,191.3354,98.7584 M191.3354,98.7584 C193.0194,101.1835,196.36,101.3112,196.8783,99.8486 M196.8783,99.8486 C197.3966,98.386,194.5636,88.5339,194.4452,89.9826 M194.4452,89.9826 C194.3267,91.4314,194.2108,105.4484,196.1675,108.5411 M196.1675,108.5411 C198.1241,111.6338,203.7327,111.7612,206.1849,108.5388 M206.1849,108.5388 C208.637,105.3164,210.2514,92.2815,210.8804,89.2067 M210.8804,89.2067 C211.5093,86.132,207.9455,92.8747,209.9587,90.0902 M209.9587,90.0902 C211.9718,87.3058,220.7776,71.7022,222.9593,72.5001 M222.9593,72.5001 C225.141,73.2981,222.9954,89.9225,223.0489,94.878 M223.0489,94.878 C223.1023,99.8336,222.9509,100.7045,223.2799,102.2337 M223.2799,102.2337 C223.6089,103.7628,224.7502,105.5193,225.0229,104.0528 M225.0229,104.0528 C225.2956,102.5863,222.5513,96.885,224.9161,93.4344 M224.9161,93.4344 C227.2809,89.9837,237.0871,82.5019,239.2116,83.349 M239.2116,83.349 C241.3361,84.196,236.0276,97.2424,237.6632,98.5167 M237.6632,98.5167 C239.2989,99.791,247.8184,94.2971,249.0255,90.9947 M249.0255,90.9947 C250.2326,87.6923,245.4161,77.1762,244.906,78.7024 M244.906,78.7024 C244.3959,80.2285,244.171,94.6093,245.965,100.1517 M245.965,100.1517 C247.759,105.6941,254.3534,113.4482,255.6702,111.9568 M255.6702,111.9568 C256.9869,110.4654,253.6343,94.698,253.8657,91.2032 M253.8657,91.2032 C254.0971,87.7083,255.5964,90.1903,257.0586,90.9876 M257.0586,90.9876 C258.5208,91.7848,260.3769,96.0976,262.6391,95.9868 M262.6391,95.9868 C264.9012,95.876,268.8374,90.3726,270.6315,90.3229 M270.6315,90.3229 C272.4257,90.2733,271.5472,96.7496,273.4041,95.689 M273.4041,95.689 C275.2611,94.6284,281.7266,83.7455,281.7734,83.9593 M281.7734,83.9593 C281.8201,84.1732,273.7815,98.5356,273.6848,96.9721 M273.6848,96.9721 C273.588,95.4087,280.0691,76.841,281.1929,74.5785 M281.1929,74.5785 C282.3167,72.316,280.0787,79.1356,280.4275,83.3971 M280.4275,83.3971 C280.7763,87.6587,280.896,99.0268,283.2857,100.1478 M283.2857,100.1478 C285.6755,101.2687,293.0152,90.4751,294.7659,90.123 M294.7659,90.123 C296.5166,89.7709,292.1808,96.4622,293.7899,98.0353 M293.7899,98.0353 C295.3991,99.6085,302.6875,100.8636,304.4208,99.5617 M304.4208,99.5617 C306.154,98.2598,303.9577,92.089,304.1895,90.2239 M304.1895,90.2239 C304.4212,88.3588,305.5872,89.2758,305.8111,88.3711 M305.8111,88.3711 C306.035,87.4663,303.9022,84.6846,305.5329,84.7955 M305.5329,84.7955 C307.1636,84.9064,313.7291,89.0634,315.5954,89.0367 M315.5954,89.0367 C317.4617,89.0099,315.57,82.87,316.7306,84.6352 M316.7306,84.6352 C317.8912,86.4003,321.2063,95.7178,322.5589,99.6277 M322.5589,99.6277 C323.9115,103.5377,324.0815,108.4653,324.8463,108.0949 M324.8463,108.0949 C325.6112,107.7245,326.0123,99.1776,327.1481,97.4055 M327.1481,97.4055 C328.2839,95.6334,329.6703,98.4391,331.6611,97.4623 M331.6611,97.4623 C333.6519,96.4856,337.819,91.1806,339.0929,91.545 M339.0929,91.545 C340.3667,91.9093,339.1534,99.8881,339.3043,99.6485 M339.3043,99.6485 C339.4552,99.4089,339.2396,92.3697,339.9982,90.1073 M339.9982,90.1073 C340.7569,87.845,341.323,81.6017,343.856,86.0744 M343.856,86.0744 C346.3891,90.5471,353.3282,117.6515,355.1964,116.9436 M355.1964,116.9436 C357.0646,116.2357,353.5715,84.2619,355.0651,81.827 M355.0651,81.827 C356.5588,79.3922,363.3764,100.8497,364.1581,102.3347 M364.1581,102.3347 C364.9399,103.8197,359.5295,89.8885,359.7556,90.7371 M359.7556,90.7371 C359.9817,91.5857,363.3478,108.4082,365.5146,107.4263 M365.5146,107.4263 C367.6814,106.4445,372.6672,88.1529,372.7563,84.846 M372.7563,84.846 C372.8455,81.539,364.7211,86.952,366.0494,87.5847 M366.0494,87.5847 C367.3777,88.2174,378.41,88.6077,380.7261,88.6424 M380.7261,88.6424 C383.0423,88.677,379.4292,89.0585,379.9461,87.7927 M379.9461,87.7927 C380.4631,86.5268,383.3851,79.4348,383.8278,81.0473 M383.8278,81.0473 C384.2705,82.6598,382.0327,93.8276,382.6024,97.4675 M382.6024,97.4675 C383.172,101.1075,384.5046,102.2777,387.2457,102.887 M387.2457,102.887 C389.9867,103.4963,396.9891,100.0266,399.0486,101.1231 M399.0486,101.1231 C401.108,102.2196,398.5884,111.3986,399.6024,109.4662 M399.6024,109.4662 C400.6164,107.5337,404.2205,95.306,405.1324,89.5284 M405.1324,89.5284 C406.0444,83.7509,404.7837,73.2639,405.0742,74.8008 M405.0742,74.8008 C405.3647,76.3377,405.6492,94.9261,406.8757,98.7498 M406.8757,98.7498 C408.1022,102.5734,410.3119,99.2682,412.4334,97.7426 M412.4334,97.7426 C414.5548,96.217,417.6076,88.8747,419.6043,89.5963 M419.6043,89.5963 C421.601,90.3179,423.9068,102.0161,424.4135,102.0721 M424.4135,102.0721 C424.9203,102.1282,421.7961,90.9901,422.6449,89.9325 M422.6449,89.9325 C423.4937,88.875,427.9689,96.3395,429.5063,95.727 M429.5063,95.727 C431.0437,95.1145,431.0688,85.6581,431.8694,86.2574 M431.8694,86.2574 C432.6699,86.8566,432.578,96.8808,434.3096,99.3222 M434.3096,99.3222 C436.0412,101.7637,442.3567,101.477,442.2591,100.906 M442.2591,100.906 C442.1614,100.335,433.4653,96.328,433.7238,95.8962 M433.7238,95.8962 C433.9823,95.4643,441.9362,98.0736,443.8101,98.3151 M443.8101,98.3151 C445.6839,98.5567,443.1041,97.3682,444.967,97.3455 M444.967,97.3455 C446.8299,97.3229,454.2273,97.1167,454.9876,98.179 M454.9876,98.179 C455.748,99.2414,449.4808,104.0098,449.5291,103.7198 M449.5291,103.7198 C449.5774,103.4297,453.6079,96.8052,455.2776,96.4389 M455.2776,96.4389 C456.9473,96.0726,457.9067,100.7629,459.5474,101.5222 M459.5474,101.5222 C461.1881,102.2815,463.2038,103.1638,465.1219,100.9948 M465.1219,100.9948 C467.0401,98.8258,469.9004,89.7326,471.0562,88.5081 M471.0562,88.5081 C472.212,87.2836,470.9071,92.5973,472.0567,93.648 M472.0567,93.648 C473.2063,94.6988,476.2753,92.3906,477.9539,94.8126 M477.9539,94.8126 C479.6325,97.2346,480.0313,107.6993,482.1284,108.1799 M482.1284,108.1799 C484.2255,108.6606,489.674,99.7561,490.5363,97.6963 M490.5363,97.6963 C491.3987,95.6366,487.8013,96.6493,487.3024,95.8212 M487.3024,95.8212 C486.8034,94.993,486.4689,95.7188,487.5424,92.7275 M487.5424,92.7275 C488.6159,89.7362,492.1818,78.2801,493.7434,77.8733 M493.7434,77.8733 C495.3051,77.4664,495.4861,87.4921,496.9124,90.2864 M496.9124,90.2864 C498.3387,93.0808,500.8639,95.5154,502.3011,94.6395 M502.3011,94.6395 C503.7384,93.7635,504.7015,85.0268,505.5357,85.0308 M505.5357,85.0308 C506.3699,85.0348,506.2401,94.7686,507.3064,94.6633 M507.3064,94.6633 C508.3728,94.558,510.5438,85.3514,511.9339,84.399 M511.9339,84.399 C513.3241,83.4465,514.0579,85.2692,515.6473,88.9487 M515.6473,88.9487 C517.2367,92.6281,519.7124,104.6733,521.4702,106.4758 M521.4702,106.4758 C523.228,108.2782,525.1317,101.798,526.1941,99.7636 M526.1941,99.7636 C527.2565,97.7293,526.7578,95.2564,527.8448,94.2697 M527.8448,94.2697 C528.9319,93.2829,531.9834,94.1092,532.7162,93.8434\" fill=\"none\" stroke=\"rgba(0,0,0,1)\" stroke-miterlimit=\"10\" stroke-width=\"2\"/>\n",
       "<path d=\"M30.6799,137.8609 C31.9649,138.8304,39.0078,123.8875,39.5255,121.9031 M39.5255,121.9031 C40.0431,119.9188,33.2729,125.5218,33.786,125.9549 M33.786,125.9549 C34.299,126.388,41.1782,123.5638,42.6037,124.5017 M42.6037,124.5017 C44.0292,125.4397,43.0277,131.8087,42.3389,131.5829 M42.3389,131.5829 C41.6501,131.357,38.6083,123.6842,38.471,123.1464 M38.471,123.1464 C38.3337,122.6087,38.7942,128.8473,41.5148,128.3562 M41.5148,128.3562 C44.2355,127.8652,53.2645,119.8831,54.7949,120.2 M54.7949,120.2 C56.3253,120.5169,50.8075,129.6301,50.6972,130.2576 M50.6972,130.2576 C50.5869,130.8852,52.0164,124.1081,54.133,123.965 M54.133,123.965 C56.2496,123.8219,62.5745,130.2744,63.3969,129.3989 M63.3969,129.3989 C64.2193,128.5234,59.0472,119.2275,59.0673,118.712 M59.0673,118.712 C59.0873,118.1965,62.8833,122.4876,63.5171,126.3057 M63.5171,126.3057 C64.151,130.1239,62.0387,141.2415,62.8704,141.6209 M62.8704,141.6209 C63.702,142.0002,65.8845,128.7369,68.5068,128.5816 M68.5068,128.5816 C71.1291,128.4262,77.6799,141.6955,78.6043,140.6888 M78.6043,140.6888 C79.5288,139.6821,75.4969,122.7825,74.0534,122.5413 M74.0534,122.5413 C72.6099,122.3001,70.3037,138.8141,69.9432,139.2415 M69.9432,139.2415 C69.5827,139.669,69.6731,125.8084,71.8905,125.1062 M71.8905,125.1062 C74.1079,124.404,81.0165,135.1373,83.2477,135.0283 M83.2477,135.0283 C85.479,134.9192,84.3984,123.6967,85.2781,124.4517 M85.2781,124.4517 C86.1579,125.2067,87.7468,138.8019,88.5262,139.5582 M88.5262,139.5582 C89.3056,140.3146,89.0892,131.6866,89.9546,128.9897 M89.9546,128.9897 C90.8201,126.2928,93.4984,122.4643,93.7187,123.3769 M93.7187,123.3769 C93.9389,124.2894,90.8568,131.8283,91.2762,134.4647 M91.2762,134.4647 C91.6956,137.1011,96.1096,138.9268,96.235,139.1953 M96.235,139.1953 C96.3604,139.4638,91.7395,138.206,92.0285,136.0758 M92.0285,136.0758 C92.3176,133.9456,96.8395,127.8859,97.9695,126.4142 M97.9695,126.4142 C99.0994,124.9424,100.0195,126.4395,98.8083,127.2453 M98.8083,127.2453 C97.597,128.051,89.6196,133.3392,90.702,131.2486 M90.702,131.2486 C91.7843,129.1579,102.8812,114.5172,105.3022,114.7012 M105.3022,114.7012 C107.7232,114.8853,103.0927,128.5198,105.2279,132.3528 M105.2279,132.3528 C107.363,136.1858,115.9697,137.098,118.113,137.6992 M118.113,137.6992 C120.2562,138.3004,117.7309,137.1775,118.0873,135.96 M118.0873,135.96 C118.4438,134.7426,120.0858,131.0472,120.2516,130.3943 M120.2516,130.3943 C120.4175,129.7415,118.5367,132.3691,119.0822,132.0428 M119.0822,132.0428 C119.6277,131.7165,122.0396,127.5145,123.5247,128.4363 M123.5247,128.4363 C125.0097,129.3582,127.43,135.8481,127.9927,137.5741 M127.9927,137.5741 C128.5554,139.3,125.7456,140.4853,126.9008,138.792 M126.9008,138.792 C128.0561,137.0988,133.9246,128.0688,134.924,127.4145 M134.924,127.4145 C135.9234,126.7602,132.6257,135.0042,132.8974,134.8663 M132.8974,134.8663 C133.1691,134.7283,136.1673,127.2119,136.5542,126.5867 M136.5542,126.5867 C136.9411,125.9615,133.499,131.0408,135.2186,131.115 M135.2186,131.115 C136.9382,131.1892,145.1942,129.3254,146.8717,127.0319 M146.8717,127.0319 C148.5492,124.7383,144.6747,119.7328,145.2839,117.3536 M145.2839,117.3536 C145.893,114.9744,149.9312,110.6976,150.5265,112.7567 M150.5265,112.7567 C151.1218,114.8157,148.846,126.3257,148.8559,129.708 M148.8559,129.708 C148.8658,133.0903,149.6534,132.7674,150.5858,133.0503 M150.5858,133.0503 C151.5182,133.3332,152.7894,132.8677,154.4503,131.4053 M154.4503,131.4053 C156.1112,129.9429,159.0844,126.1072,160.5513,124.2759 M160.5513,124.2759 C162.0182,122.4446,162.9189,122.2021,163.2517,120.4176 M163.2517,120.4176 C163.5845,118.633,161.495,110.8629,162.548,113.5688 M162.548,113.5688 C163.6011,116.2746,168.6122,134.5023,169.5699,136.6529 M169.5699,136.6529 C170.5276,138.8035,168.1901,128.6273,168.2941,126.4723 M168.2941,126.4723 C168.3982,124.3172,168.4615,124.3113,170.1942,123.7225 M170.1942,123.7225 C171.9269,123.1337,177.1564,122.3098,178.6903,122.9395 M178.6903,122.9395 C180.2241,123.5691,179.349,127.186,179.3973,127.5005 M179.3973,127.5005 C179.4456,127.8149,178.4582,125.364,178.9802,124.826 M178.9802,124.826 C179.5022,124.2879,181.5034,124.2241,182.5292,124.2723 M182.5292,124.2723 C183.555,124.3205,184.0954,124.3415,185.1348,125.115 M185.1348,125.115 C186.1743,125.8885,187.601,127.3659,188.7659,128.9135 M188.7659,128.9135 C189.9308,130.4611,192.4305,130.8481,192.1243,134.4007 M192.1243,134.4007 C191.8182,137.9533,186.7291,151.7888,186.9292,150.2293 M186.9292,150.2293 C187.1293,148.6698,193.3445,128.9749,193.3249,125.0437 M193.3249,125.0437 C193.3053,121.1124,185.253,126.0417,186.8119,126.6418 M186.8119,126.6418 C188.3707,127.242,200.2479,129.1334,202.6781,128.6446 M202.6781,128.6446 C205.1083,128.1558,201.7072,122.2759,201.3931,123.7091 M201.3931,123.7091 C201.0789,125.1422,199.6781,137.2777,200.793,137.2434 M200.793,137.2434 C201.9078,137.209,206.5843,125.9235,208.0821,123.5027 M208.0821,123.5027 C209.5798,121.0819,209.632,123.4241,209.7796,122.7185 M209.7796,122.7185 C209.9273,122.0129,208.4832,118.5496,208.968,119.2692 M208.968,119.2692 C209.4528,119.9887,211.9726,126.0582,212.6883,127.0358 M212.6883,127.0358 C213.4041,128.0134,211.6482,124.2703,213.2624,125.1349 M213.2624,125.1349 C214.8766,125.9994,220.6085,134.2214,222.3734,132.2231 M222.3734,132.2231 C224.1384,130.2247,223.0387,116.7907,223.8523,113.1448 M223.8523,113.1448 C224.6659,109.499,227.1734,109.7283,227.2549,110.3482 M227.2549,110.3482 C227.3364,110.9681,224.1375,113.6171,224.3414,116.8641 M224.3414,116.8641 C224.5453,120.111,227.8601,125.9882,228.4782,129.8298 M228.4782,129.8298 C229.0963,133.6715,226.8221,142.4363,228.0498,139.914 M228.0498,139.914 C229.2776,137.3918,233.9871,115.2752,235.8446,114.6963 M235.8446,114.6963 C237.7022,114.1174,238.3375,133.2483,239.1951,136.4407 M239.1951,136.4407 C240.0527,139.6331,239.998,135.0888,240.9903,133.8507 M240.9903,133.8507 C241.9825,132.6126,244.3002,127.7674,245.1484,129.0121 M245.1484,129.0121 C245.9966,130.2569,244.9011,141.3631,246.0794,141.319 M246.0794,141.319 C247.2577,141.275,250.686,131.357,252.2183,128.7478 M252.2183,128.7478 C253.7506,126.1387,255.1749,125.5874,255.2731,125.6642 M255.2731,125.6642 C255.3713,125.7409,253.0848,127.9344,252.8074,129.2084 M252.8074,129.2084 C252.53,130.4823,253.3023,132.7875,253.6085,133.3079 M253.6085,133.3079 C253.9148,133.8282,254.2037,132.49,254.645,132.3304 M254.645,132.3304 C255.0863,132.1707,254.2116,135.0889,256.2566,132.3499 M256.2566,132.3499 C258.3015,129.6109,264.7121,117.5408,266.9147,115.8963 M266.9147,115.8963 C269.1174,114.2517,269.5358,119.9239,269.4724,122.4825 M269.4724,122.4825 C269.4091,125.0411,266.6709,128.8989,266.5346,131.2478 M266.5346,131.2478 C266.3983,133.5966,267.7552,136.7473,268.6546,136.5757 M268.6546,136.5757 C269.554,136.404,271.8327,131.1773,271.931,130.2178 M271.931,130.2178 C272.0292,129.2582,269.3274,132.4207,269.2442,130.8184 M269.2442,130.8184 C269.161,129.2161,268.9791,123.1287,271.4316,120.6039 M271.4316,120.6039 C273.884,118.079,281.3536,115.0033,283.9591,115.6694 M283.9591,115.6694 C286.5645,116.3356,286.1188,121.9745,287.0641,124.6009 M287.0641,124.6009 C288.0094,127.2273,288.0788,129.7889,289.631,131.4278 M289.631,131.4278 C291.1832,133.0667,295.7683,135.4799,296.3773,134.4343 M296.3773,134.4343 C296.9862,133.3887,294.301,129.9729,293.2848,125.1542 M293.2848,125.1542 C292.2685,120.3355,289.0621,106.0815,290.2795,105.5221 M290.2795,105.5221 C291.4969,104.9627,299.0395,117.3595,300.5892,121.7979 M300.5892,121.7979 C302.139,126.2363,298.7873,130.0808,299.578,132.1526 M299.578,132.1526 C300.3686,134.2243,305.0829,134.6609,305.3334,134.2286 M305.3334,134.2286 C305.5838,133.7963,300.5331,130.0859,301.0805,129.5589 M301.0805,129.5589 C301.628,129.0319,306.531,131.2867,308.6181,131.0666 M308.6181,131.0666 C310.7051,130.8464,312.4749,128.1917,313.6026,128.2381 M313.6026,128.2381 C314.7303,128.2845,315.0864,130.2889,315.3844,131.3449 M315.3844,131.3449 C315.6823,132.4008,315.2751,132.9795,315.3903,134.5739 M315.3903,134.5739 C315.5054,136.1682,315.2251,139.5095,316.0751,140.9109 M316.0751,140.9109 C316.9251,142.3123,318.5623,144.0849,320.49,142.9823 M320.49,142.9823 C322.4177,141.8797,327.1692,136.1876,327.6412,134.2953 M327.6412,134.2953 C328.1131,132.4029,322.6245,135.9372,323.3215,131.6282 M323.3215,131.6282 C324.0185,127.3192,329.9735,108.0042,331.8232,108.441 M331.8232,108.441 C333.6729,108.8779,333.6383,128.8762,334.4198,134.2494 M334.4198,134.2494 C335.2013,139.6225,336.1294,141.9786,336.5121,140.68 M336.5121,140.68 C336.8948,139.3814,336.5618,126.4518,336.716,126.458 M336.716,126.458 C336.8702,126.4641,336.1901,141.7783,337.4372,140.7167 M337.4372,140.7167 C338.6843,139.6551,343.6893,122.9174,344.1985,120.0883 M344.1985,120.0883 C344.7077,117.2591,339.3133,122.6724,340.4924,123.7418 M340.4924,123.7418 C341.6715,124.8113,349.4755,125.7819,351.273,126.5048 M351.273,126.5048 C353.0705,127.2276,351.3046,126.4592,351.2776,128.0789 M351.2776,128.0789 C351.2506,129.6987,350.8702,137.9758,351.1112,136.2233 M351.1112,136.2233 C351.3521,134.4707,350.9311,117.676,352.7234,117.5637 M352.7234,117.5637 C354.5156,117.4514,360.9206,132.4441,361.8647,135.5493 M361.8647,135.5493 C362.8088,138.6545,359.3712,137.6336,358.3881,136.1949 M358.3881,136.1949 C357.4049,134.7563,354.093,128.388,355.9658,126.9175 M355.9658,126.9175 C357.8387,125.447,368.0416,128.2606,369.625,127.3719 M369.625,127.3719 C371.2084,126.4831,363.8712,121.9975,365.4661,121.585 M365.4661,121.585 C367.0611,121.1724,377.5276,122.4558,379.1947,124.8963 M379.1947,124.8963 C380.8619,127.3369,375.5953,137.1485,375.469,136.2284 M375.469,136.2284 C375.3427,135.3083,378.6531,120.9045,378.4368,119.3757 M378.4368,119.3757 C378.2206,117.8469,373.4196,126.3213,374.1717,127.0557 M374.1717,127.0557 C374.9238,127.79,380.7721,122.8322,382.9496,123.7819 M382.9496,123.7819 C385.127,124.7316,386.6433,132.3768,387.2362,132.7541 M387.2362,132.7541 C387.8291,133.1313,385.2805,126.2856,386.5069,126.0454 M386.5069,126.0454 C387.7332,125.8053,394.1309,131.6694,394.5942,131.3133 M394.5942,131.3133 C395.0576,130.9573,389.4632,125.3215,389.2871,123.9092 M389.2871,123.9092 C389.1111,122.4969,392.1735,121.8151,393.5377,122.8394 M393.5377,122.8394 C394.9019,123.8637,396.4244,130.6287,397.4723,130.0551 M397.4723,130.0551 C398.5202,129.4816,398.2779,119.9718,399.825,119.398 M399.825,119.398 C401.372,118.8242,405.7293,124.8417,406.7545,126.6124 M406.7545,126.6124 C407.7796,128.3831,406.186,131.2446,405.976,130.0221 M405.976,130.0221 C405.766,128.7997,403.6593,119.2312,405.4944,119.2779 M405.4944,119.2779 C407.3296,119.3246,416.3299,129.2417,416.9869,130.3023 M416.9869,130.3023 C417.6439,131.363,409.8257,126.9163,409.4365,125.6418 M409.4365,125.6418 C409.0473,124.3673,414.164,125.2742,414.6517,122.6555 M414.6517,122.6555 C415.1394,120.0368,411.2946,108.6589,412.3628,109.9298 M412.3628,109.9298 C413.4311,111.2006,418.9003,126.7787,421.0613,130.2805 M421.0613,130.2805 C423.2224,133.7823,424.8652,132.7049,425.329,130.9404 M425.329,130.9404 C425.7929,129.1759,423.8233,119.2712,423.8447,119.6935 M423.8447,119.6935 C423.8662,120.1158,423.9435,132.7123,425.4578,133.4741 M425.4578,133.4741 C426.9722,134.2359,431.7379,125.97,432.9307,124.2645 M432.9307,124.2645 C434.1235,122.559,431.3909,121.8966,432.6147,123.2411 M432.6147,123.2411 C433.8385,124.5856,439.9792,129.8889,440.2733,132.3316 M440.2733,132.3316 C440.5674,134.7743,434.2635,138.0321,434.3795,137.8972 M434.3795,137.8972 C434.4955,137.7623,440.2109,135.6214,440.9693,131.5223 M440.9693,131.5223 C441.7278,127.4232,437.1649,112.6267,438.9301,113.3028 M438.9301,113.3028 C440.6953,113.9788,450.5201,134.5232,451.5604,135.5785 M451.5604,135.5785 C452.6007,136.6338,445.3417,119.2178,445.1718,119.6345 M445.1718,119.6345 C445.0018,120.0512,448.0039,136.9678,450.5408,138.0787 M450.5408,138.0787 C453.0777,139.1896,459.2532,127.7277,460.3932,126.3 M460.3932,126.3 C461.5333,124.8722,458.0046,126.3721,457.381,129.5122 M457.381,129.5122 C456.7573,132.6522,455.498,142.1764,456.6513,145.1405 M456.6513,145.1405 C457.8046,148.1045,463.7061,149.504,464.3006,147.2963 M464.3006,147.2963 C464.8951,145.0886,460.0868,134.9962,460.2182,131.8943 M460.2182,131.8943 C460.3495,128.7924,463.3866,128.2772,465.0888,128.685 M465.0888,128.685 C466.7909,129.0928,469.0118,132.1658,470.4312,134.3411 M470.4312,134.3411 C471.8505,136.5165,473.588,143.3947,473.6047,141.7369 M473.6047,141.7369 C473.6214,140.0791,470.3865,128.2461,470.5315,124.3945 M470.5315,124.3945 C470.6764,120.5429,472.5725,116.5048,474.4746,118.6275 M474.4746,118.6275 C476.3766,120.7502,481.5804,136.9565,481.9437,137.1309 M481.9437,137.1309 C482.307,137.3052,477.3425,123.845,476.6542,119.6737 M476.6542,119.6737 C475.9658,115.5025,475.5515,111.877,477.8134,112.1034 M477.8134,112.1034 C480.0754,112.3297,489.6318,119.5549,490.226,121.0317 M490.226,121.0317 C490.8202,122.5086,481.291,120.4267,481.3786,120.9644 M481.3786,120.9644 C481.4661,121.5021,489.064,124.9614,490.7514,124.258 M490.7514,124.258 C492.4387,123.5546,490.8774,116.1317,491.5026,116.744 M491.5026,116.744 C492.1279,117.3563,492.9863,124.8966,494.503,127.9319 M494.503,127.9319 C496.0197,130.9672,500.1416,133.3628,500.6027,134.9558 M500.6027,134.9558 C501.0638,136.5489,496.8969,141.24,497.2696,137.4903 M497.2696,137.4903 C497.6423,133.7405,500.99,111.7424,502.8389,112.4571 M502.8389,112.4571 C504.6877,113.1717,507.0897,138.3295,508.3627,141.7783 M508.3627,141.7783 C509.6357,145.2271,508.7805,136.1735,510.4768,133.1498 M510.4768,133.1498 C512.1731,130.1261,517.4799,126.3866,518.5404,123.6361 M518.5404,123.6361 C519.6008,120.8856,516.7527,115.1404,516.8394,116.6469 M516.8394,116.6469 C516.9261,118.1534,518.7117,130.253,519.0606,132.6752 M519.0606,132.6752 C519.4095,135.0975,517.0114,131.5015,518.933,131.1803 M518.933,131.1803 C520.8546,130.8591,528.6562,130.3385,530.5904,130.748 M530.5904,130.748 C532.5246,131.1575,531.6471,133.4061,530.5383,133.6372 M530.5383,133.6372 C529.4294,133.8683,524.197,133.6907,523.9371,132.1347 M523.9371,132.1347 C523.6773,130.5786,527.359,123.8984,528.9791,124.3012 M528.9791,124.3012 C530.5992,124.704,532.3247,136.702,533.6577,134.5515\" fill=\"none\" stroke=\"rgba(0,0,0,1)\" stroke-miterlimit=\"10\" stroke-width=\"2\"/>\n",
       "<path d=\"M20.4512,176.2037 C22.3556,177.2286,38.6703,167.4633,41.971,165.9811 M41.971,165.9811 C45.2716,164.499,39.3318,168.7033,40.2549,167.3108 M40.2549,167.3108 C41.1779,165.9184,45.0942,157.5798,47.5094,157.6263 M47.5094,157.6263 C49.9247,157.6729,53.3243,166.9741,54.7463,167.5902 M54.7463,167.5902 C56.1684,168.2062,54.5683,162.674,56.0417,161.3228 M56.0417,161.3228 C57.515,159.9715,62.2335,159.5204,63.5865,159.4826 M63.5865,159.4826 C64.9394,159.4448,65.3843,159.0674,64.1594,161.0961 M64.1594,161.0961 C62.9345,163.1247,55.9962,170.1209,56.2371,171.6546 M56.2371,171.6546 C56.478,173.1884,64.1161,174.1313,65.6049,170.2985 M65.6049,170.2985 C67.0937,166.4656,64.2273,151.0196,65.1698,148.6577 M65.1698,148.6577 C66.1122,146.2958,68.215,151.6739,71.2595,156.127 M71.2595,156.127 C74.304,160.58,80.7238,175.49,83.4367,175.3759 M83.4367,175.3759 C86.1495,175.2618,86.4883,158.1435,87.5367,155.4422 M87.5367,155.4422 C88.5851,152.741,88.3764,157.97,89.7269,159.1683 M89.7269,159.1683 C91.0775,160.3666,92.752,164.307,95.6402,162.632 M95.6402,162.632 C98.5284,160.9569,104.9959,150.7776,107.056,149.1181 M107.056,149.1181 C109.116,147.4586,107.5384,152.6965,108.0004,152.6748 M108.0004,152.6748 C108.4624,152.6532,109.5978,148.5579,109.8282,148.9882 M109.8282,148.9882 C110.0587,149.4185,108.2685,152.8103,109.3831,155.2566 M109.3831,155.2566 C110.4976,157.703,114.4704,161.6189,116.5157,163.6661 M116.5157,163.6661 C118.561,165.7133,119.6367,168.7761,121.6548,167.5397 M121.6548,167.5397 C123.6729,166.3033,126.2659,156.8073,128.6243,156.2476 M128.6243,156.2476 C130.9826,155.6878,135.2518,165.1458,135.8047,164.181 M135.8047,164.181 C136.3576,163.2162,132.4595,148.927,131.9419,150.4587 M131.9419,150.4587 C131.4243,151.9904,130.5156,168.2667,132.6989,173.3714 M132.6989,173.3714 C134.8822,178.4761,141.988,185.3247,145.0417,181.0869 M145.0417,181.0869 C148.0954,176.849,150.2111,153.5804,151.0212,147.9444 M151.0212,147.9444 C151.8312,142.3084,150.7909,144.9941,149.9019,147.2709 M149.9019,147.2709 C149.013,149.5477,143.4361,159.8108,145.6876,161.6052 M145.6876,161.6052 C147.9391,163.3997,160.9342,157.4362,163.4109,158.0377 M163.4109,158.0377 C165.8876,158.6391,160.0848,165.0134,160.5478,165.2141 M160.5478,165.2141 C161.0108,165.4147,165.4222,159.118,166.1886,159.2417 M166.1886,159.2417 C166.9551,159.3653,163.1481,167.0692,165.1465,165.9562 M165.1465,165.9562 C167.1449,164.8432,174.1077,153.9478,178.179,152.5638 M178.179,152.5638 C182.2502,151.1798,188.6504,154.4766,189.5743,157.6519 M189.5743,157.6519 C190.4981,160.8273,183.8251,170.3029,183.7221,171.6161 M183.7221,171.6161 C183.6192,172.9292,186.1749,166.9105,188.9566,165.5308 M188.9566,165.5308 C191.7383,164.151,198.4662,163.4426,200.4125,163.3376 M200.4125,163.3376 C202.3588,163.2327,200.2914,166.5966,200.6345,164.9008 M200.6345,164.9008 C200.9775,163.2051,200.5598,154.9496,202.4709,153.1632 M202.4709,153.1632 C204.3819,151.3768,210.5848,149.279,212.1006,154.1825 M212.1006,154.1825 C213.6165,159.086,209.8574,180.1394,211.5659,182.5841 M211.5659,182.5841 C213.2743,185.0289,220.1384,170.9771,222.3514,168.8511 M222.3514,168.8511 C224.5644,166.7251,224.2707,168.8404,224.8441,169.8279 M224.8441,169.8279 C225.4174,170.8154,224.7326,174.6085,225.7917,174.7762 M225.7917,174.7762 C226.8508,174.9438,230.6502,174.5706,231.1986,170.8336 M231.1986,170.8336 C231.747,167.0967,227.1678,152.7849,229.0822,152.3546 M229.0822,152.3546 C230.9966,151.9243,240.6926,166.8207,242.6848,168.2518 M242.6848,168.2518 C244.677,169.6829,240.4319,158.1624,241.0353,160.9413 M241.0353,160.9413 C241.6388,163.7202,243.7815,184.2254,246.3054,184.9252 M246.3054,184.9252 C248.8293,185.625,254.7336,167.649,256.1786,165.1398 M256.1786,165.1398 C257.6235,162.6307,254.0725,169.5353,254.9751,169.8703 M254.9751,169.8703 C255.8776,170.2054,258.6144,164.9201,261.594,167.15 M261.594,167.15 C264.5736,169.3798,271.7842,185.511,272.8527,183.2494 M272.8527,183.2494 C273.9212,180.9879,268.1868,157.2645,268.0051,153.5807 M268.0051,153.5807 C267.8234,149.8969,269.6693,161.5198,271.7623,161.1465 M271.7623,161.1465 C273.8553,160.7732,277.569,150.7062,280.5633,151.3409 M280.5633,151.3409 C283.5575,151.9757,289.2,164.8862,289.7276,164.9552 M289.7276,164.9552 C290.2553,165.0241,284.4872,153.4566,283.7289,151.7547 M283.7289,151.7547 C282.9706,150.0529,284.5074,153.9484,285.1777,154.7439 M285.1777,154.7439 C285.848,155.5394,286.046,153.804,287.7506,156.5278 M287.7506,156.5278 C289.4553,159.2515,293.4858,173.3337,295.4058,171.0864 M295.4058,171.0864 C297.3258,168.839,297.9024,142.6575,299.2707,143.0438 M299.2707,143.0438 C300.6389,143.43,300.48,170.4338,303.6153,173.4038 M303.6153,173.4038 C306.7505,176.3739,315.9545,163.0202,318.0821,160.8639 M318.0821,160.8639 C320.2097,158.7077,317.451,161.5995,316.3808,160.4664 M316.3808,160.4664 C315.3107,159.3332,308.9342,153.203,311.6612,154.0652 M311.6612,154.0652 C314.3883,154.9275,330.9931,165.5055,332.7431,165.6398 M332.7431,165.6398 C334.4932,165.774,323.1785,156.3951,322.1618,154.8705 M322.1618,154.8705 C321.145,153.346,324.6868,155.7744,326.6427,156.4922 M326.6427,156.4922 C328.5986,157.21,330.8889,157.9193,333.8971,159.1774 M333.8971,159.1774 C336.9053,160.4354,342.9539,164.2281,344.6917,164.0405 M344.6917,164.0405 C346.4296,163.8529,344.2844,158.7155,344.3242,158.0517 M344.3242,158.0517 C344.364,157.3879,342.6854,164.0583,344.9304,160.0575 M344.9304,160.0575 C347.1754,156.0566,356.4435,135.7884,357.7942,134.0467 M357.7942,134.0467 C359.1449,132.305,351.8307,144.2798,353.0345,149.6073 M353.0345,149.6073 C354.2383,154.9349,363.0644,164.0332,365.017,166.0119 M365.017,166.0119 C366.9696,167.9906,363.3924,162.3545,364.7502,161.4795 M364.7502,161.4795 C366.1079,160.6046,371.1126,160.763,373.1635,160.7622 M373.1635,160.7622 C375.2144,160.7615,375.5193,162.5337,377.0556,161.475 M377.0556,161.475 C378.5919,160.4163,381.1069,152.5321,382.3812,154.41 M382.3812,154.41 C383.6555,156.2879,383.4422,172.0938,384.7015,172.7426 M384.7015,172.7426 C385.9607,173.3914,388.2769,158.397,389.9368,158.3026 M389.9368,158.3026 C391.5968,158.2083,393.9592,172.3905,394.6612,172.1764 M394.6612,172.1764 C395.3632,171.9624,393.1375,161.0719,394.1488,157.0183 M394.1488,157.0183 C395.1601,152.9647,399.1882,150.3772,400.7291,147.8547 M400.7291,147.8547 C402.27,145.3321,401.9621,140.8979,403.3941,141.883 M403.3941,141.883 C404.8261,142.8682,407.8672,149.0493,409.3209,153.7656 M409.3209,153.7656 C410.7746,158.4819,410.9078,166.8208,412.1161,170.1807 M412.1161,170.1807 C413.3244,173.5406,415.4492,171.9383,416.5707,173.9249 M416.5707,173.9249 C417.6922,175.9116,417.581,183.9824,418.8452,182.1004 M418.8452,182.1004 C420.1095,180.2185,422.139,167.9475,424.1563,162.6331 M424.1563,162.6331 C426.1736,157.3187,429.2943,149.7338,430.9492,150.2143 M430.9492,150.2143 C432.6041,150.6948,432.8982,161.5631,434.0856,165.516 M434.0856,165.516 C435.2729,169.469,437.2613,176.7423,438.0732,173.9317 M438.0732,173.9317 C438.8852,171.1212,436.605,151.2917,438.9572,148.6529 M438.9572,148.6529 C441.3093,146.0142,450.5932,157.0751,452.1862,158.0995 M452.1862,158.0995 C453.7792,159.1238,449.3742,153.7933,448.5152,154.7992 M448.5152,154.7992 C447.6562,155.8051,446.2505,163.3521,447.0324,164.1349 M447.0324,164.1349 C447.8143,164.9177,449.2606,161.552,453.2068,159.496 M453.2068,159.496 C457.1529,157.44,467.7225,152.1708,470.7093,151.7987 M470.7093,151.7987 C473.6962,151.4267,469.4301,154.9645,471.1279,157.2637 M471.1279,157.2637 C472.8258,159.5628,480.9918,165.7352,480.8965,165.5937 M480.8965,165.5937 C480.8012,165.4522,469.9722,158.3068,470.5562,156.4146 M470.5562,156.4146 C471.1401,154.5223,481.8699,153.3762,484.4001,154.24 M484.4001,154.24 C486.9303,155.1039,484.8657,158.2361,485.7375,161.5978 M485.7375,161.5978 C486.6094,164.9596,488.6065,177.2174,489.6311,174.4104 M489.6311,174.4104 C490.6557,171.6035,490.1655,145.4146,491.8854,144.7563 M491.8854,144.7563 C493.6052,144.098,498.7548,169.5145,499.9504,170.4607 M499.9504,170.4607 C501.146,171.407,497.8896,151.6624,499.0589,150.4337 M499.0589,150.4337 C500.2282,149.2051,504.5534,162.1159,506.9662,163.0888 M506.9662,163.0888 C509.379,164.0618,512.1119,155.6437,513.5356,156.2715 M513.5356,156.2715 C514.9594,156.8994,515.065,165.458,515.5087,166.8558 M515.5087,166.8558 C515.9524,168.2535,514.9099,166.4472,516.1979,164.658 M516.1979,164.658 C517.486,162.8688,519.8279,157.054,523.2368,156.1206 M523.2368,156.1206 C526.6457,155.1873,534.4063,157.0361,536.6513,159.0577\" fill=\"none\" stroke=\"rgba(0,0,0,1)\" stroke-miterlimit=\"10\" stroke-width=\"2\"/>\n",
       "<path d=\"M35.8613,196.9047 C34.6542,194.703,28.8815,189.8739,29.7582,188.8637 M29.7582,188.8637 C30.6348,187.8534,41.2778,190.8237,41.121,190.8431 M41.121,190.8431 C40.9642,190.8624,27.0146,189.1542,28.8172,188.9798 M28.8172,188.9798 C30.6198,188.8054,48.729,189.5791,51.9366,189.7967 M51.9366,189.7967 C55.1443,190.0142,47.8803,187.995,48.0632,190.2852 M48.0632,190.2852 C48.2462,192.5754,52.4835,204.8934,53.0343,203.538 M53.0343,203.538 C53.585,202.1826,51.903,184.9038,51.3677,182.1528 M51.3677,182.1528 C50.8325,179.4018,50.4671,186.7602,49.8228,187.032 M49.8228,187.032 C49.1785,187.3037,46.6254,183.3984,47.5017,183.7834 M47.5017,183.7834 C48.3781,184.1684,53.2594,188.7015,55.081,189.3418 M55.081,189.3418 C56.9025,189.9821,57.4489,186.6291,58.431,187.6253 M58.431,187.6253 C59.4131,188.6215,60.9866,193.7331,60.9738,195.3193 M60.9738,195.3193 C60.9609,196.9055,57.0298,196.8501,58.354,197.1425 M58.354,197.1425 C59.6781,197.435,70.0376,196.616,68.9186,197.0742 M68.9186,197.0742 C67.7996,197.5323,51.052,199.3808,51.64,199.8914 M51.64,199.8914 C52.228,200.4021,71.1886,200.2075,72.4467,200.1383 M72.4467,200.1383 C73.7048,200.069,58.575,199.5136,59.1886,199.4761 M59.1886,199.4761 C59.8022,199.4387,74.6717,201.9288,76.1281,199.9134 M76.1281,199.9134 C77.5846,197.898,68.6339,186.974,67.9271,187.3839 M67.9271,187.3839 C67.2204,187.7938,69.3892,201.1697,71.8876,202.3728 M71.8876,202.3728 C74.3861,203.5759,82.9296,195.2825,82.918,194.6023 M82.918,194.6023 C82.9064,193.9221,72.16,199.5885,71.8182,198.2917 M71.8182,198.2917 C71.4764,196.9949,77.3638,189.1681,80.8671,186.8214 M80.8671,186.8214 C84.3704,184.4747,91.9921,185.4372,92.838,184.2115 M92.838,184.2115 C93.684,182.9857,86.4153,179.086,85.9428,179.4668 M85.9428,179.4668 C85.4704,179.8477,89.9218,183.9421,90.0033,186.4966 M90.0033,186.4966 C90.0848,189.0512,85.3963,192.1885,86.4318,194.7942 M86.4318,194.7942 C87.4673,197.3999,94.4706,201.2034,96.2161,202.1307 M96.2161,202.1307 C97.9616,203.0579,96.4628,197.1908,96.9047,200.3578 M96.9047,200.3578 C97.3467,203.5248,98.8949,220.4235,98.8678,221.1326 M98.8678,221.1326 C98.8407,221.8416,97.5601,211.291,96.7421,204.6123 M96.7421,204.6123 C95.9241,197.9336,93.0906,184.2051,93.9599,181.0605 M93.9599,181.0605 C94.8292,177.9158,99.5492,182.229,101.958,185.7443 M101.958,185.7443 C104.3667,189.2595,107.6888,200.7759,108.4125,202.1521 M108.4125,202.1521 C109.1363,203.5282,105.1965,194.9541,106.3006,194.0009 M106.3006,194.0009 C107.4046,193.0478,115.3583,196.8547,115.0369,196.4332 M115.0369,196.4332 C114.7156,196.0117,105.566,191.5676,104.3723,191.4718 M104.3723,191.4718 C103.1786,191.3761,105.592,193.2773,107.8748,195.8589 M107.8748,195.8589 C110.1577,198.4405,115.7894,209.213,118.0694,206.9613 M118.0694,206.9613 C120.3494,204.7096,121.5753,185.8141,121.5547,182.3484 M121.5547,182.3484 C121.5342,178.8828,117.7453,183.8118,117.946,186.1674 M117.946,186.1674 C118.1468,188.5231,122.3399,195.9794,122.7594,196.4823 M122.7594,196.4823 C123.1788,196.9852,119.9368,186.8778,120.4626,189.1849 M120.4626,189.1849 C120.9883,191.492,124.2725,209.7171,125.914,210.325 M125.914,210.325 C127.5554,210.9328,129.7671,194.1469,130.3111,192.8321 M130.3111,192.8321 C130.8551,191.5173,129.5904,203.0646,129.178,202.436 M129.178,202.436 C128.7656,201.8075,125.2925,191.0876,127.8365,189.0608 M127.8365,189.0608 C130.3806,187.034,144.1912,189.2566,144.4423,190.2754 M144.4423,190.2754 C144.6934,191.2941,130.4908,195.1895,129.3431,195.1734 M129.3431,195.1734 C128.1953,195.1573,135.1037,192.112,137.5558,190.1787 M137.5558,190.1787 C140.0079,188.2454,143.4197,180.2739,144.0559,183.5735 M144.0559,183.5735 C144.692,186.873,141.0594,206.2233,141.3727,209.9761 M141.3727,209.9761 C141.686,213.7288,145.1195,209.5707,145.9357,206.09 M145.9357,206.09 C146.7518,202.6092,144.6374,188.6626,146.2698,189.0916 M146.2698,189.0916 C147.9023,189.5207,154.0075,210.1977,155.7303,208.6641 M155.7303,208.6641 C157.453,207.1306,158.4309,181.4204,156.6063,179.8901 M156.6063,179.8901 C154.7818,178.3598,145.8222,197.6276,144.7829,199.4825 M144.7829,199.4825 C143.7437,201.3373,147.926,190.0094,150.3708,191.0193 M150.3708,191.0193 C152.8156,192.0292,157.9788,204.8223,159.4516,205.5419 M159.4516,205.5419 C160.9243,206.2615,158.8862,195.421,159.2075,195.3369 M159.2075,195.3369 C159.5288,195.2528,160.7165,203.4311,161.3794,205.0372 M161.3794,205.0372 C162.0423,206.6434,161.4735,208.5614,163.1848,204.9736 M163.1848,204.9736 C164.896,201.3857,170.8144,183.7162,171.6469,183.51 M171.6469,183.51 C172.4794,183.3038,168.0577,204.4318,168.1798,203.7365 M168.1798,203.7365 C168.3019,203.0411,170.6861,180.7603,172.3795,179.338 M172.3795,179.338 C174.0728,177.9156,177.4683,190.6226,178.3399,195.2023 M178.3399,195.2023 C179.2114,199.7821,177.0947,207.8648,177.6085,206.8164 M177.6085,206.8164 C178.1224,205.768,182.3725,190.0966,181.423,188.9117 M181.423,188.9117 C180.4734,187.7268,172.8612,199.8516,171.9112,199.7068 M171.9112,199.7068 C170.9611,199.562,173.9303,186.5183,175.7226,188.0428 M175.7226,188.0428 C177.5149,189.5672,180.4169,208.0218,182.6649,208.8535 M182.6649,208.8535 C184.9128,209.6853,187.5975,194.6825,189.2101,193.0335 M189.2101,193.0335 C190.8228,191.3844,191.2679,197.4115,192.3409,198.9591 M192.3409,198.9591 C193.4139,200.5067,195.3826,206.6076,195.6482,202.319 M195.6482,202.319 C195.9138,198.0304,193.4942,175.0912,193.9346,173.2274 M193.9346,173.2274 C194.3751,171.3636,198.5127,189.8817,198.2909,191.1363 M198.2909,191.1363 C198.0691,192.3908,193.1933,179.2311,192.6039,180.7546 M192.6039,180.7546 C192.0145,182.2782,192.7354,196.3349,194.7544,200.2774 M194.7544,200.2774 C196.7734,204.2198,203.2565,204.8098,204.7179,204.4093 M204.7179,204.4093 C206.1793,204.0088,202.9095,202.4078,203.5227,197.8743 M203.5227,197.8743 C204.1359,193.3408,207.7533,176.7086,208.3971,177.2082 M208.3971,177.2082 C209.0409,177.7077,207.2883,196.5844,207.3854,200.8717 M207.3854,200.8717 C207.4825,205.159,208.6792,203.6376,208.9798,202.9319 M208.9798,202.9319 C209.2805,202.2262,207.6268,197.8276,209.1894,196.6376 M209.1894,196.6376 C210.752,195.4476,216.6176,195.8312,218.3552,195.7918 M218.3552,195.7918 C220.0927,195.7525,221.3074,194.7943,219.6147,196.4015 M219.6147,196.4015 C217.922,198.0088,208.5727,204.0127,208.1989,205.435 M208.1989,205.435 C207.8252,206.8574,214.8158,205.8985,217.3722,204.9358 M217.3722,204.9358 C219.9285,203.9732,223.5227,199.2031,223.537,199.6591 M223.537,199.6591 C223.5513,200.1151,216.7017,210.3174,217.4579,207.6718 M217.4579,207.6718 C218.2142,205.0261,225.5643,183.0561,228.0745,183.7852 M228.0745,183.7852 C230.5848,184.5142,230.8406,208.5679,232.5194,212.0461 M232.5194,212.0461 C234.1983,215.5244,239.1289,206.0008,238.1478,204.6545 M238.1478,204.6545 C237.1668,203.3082,225.6157,203.1711,226.6332,203.9685 M226.6332,203.9685 C227.6508,204.7658,241.2873,212.6684,244.2531,209.4388 M244.2531,209.4388 C247.2188,206.2092,245.9739,188.8512,244.4276,184.5907 M244.4276,184.5907 C242.8814,180.3303,235.2152,182.0928,234.9757,183.8761 M234.9757,183.8761 C234.7363,185.6594,243.0368,193.6716,242.9909,195.2905 M242.9909,195.2905 C242.945,196.9093,235.9004,194.0075,234.7003,193.5891 M234.7003,193.5891 C233.5002,193.1708,233.6452,190.8632,235.7902,192.7806 M235.7902,192.7806 C237.9352,194.6979,244.517,201.2484,247.5702,205.0931 M247.5702,205.0931 C250.6234,208.9378,253.8669,217.8209,254.1095,215.8485 M254.1095,215.8485 C254.3521,213.8762,249.4319,196.312,249.0258,193.259 M249.0258,193.259 C248.6198,190.206,250.4625,198.2366,251.6731,197.5306 M251.6731,197.5306 C252.8837,196.8245,254.2833,192.0202,256.2896,189.0227 M256.2896,189.0227 C258.2959,186.0253,263.1431,178.4972,263.7108,179.5459 M263.7108,179.5459 C264.2784,180.5946,259.3609,191.3971,259.6957,195.3149 M259.6957,195.3149 C260.0305,199.2327,266.4509,204.925,265.7197,203.0528 M265.7197,203.0528 C264.9884,201.1806,254.6362,185.7946,255.3082,184.0818 M255.3082,184.0818 C255.9802,182.3691,266.3814,192.0291,269.7518,192.7764 M269.7518,192.7764 C273.1221,193.5236,275.0401,188.1327,275.5304,188.5653 M275.5304,188.5653 C276.0207,188.9979,273.19,195.2225,272.6936,195.3718 M272.6936,195.3718 C272.1973,195.5211,271.7389,188.3549,272.5522,189.4613 M272.5522,189.4613 C273.3655,190.5677,277.4406,202.3064,277.5733,202.0101 M277.5733,202.0101 C277.7061,201.7137,272.9105,187.0032,273.3489,187.6832 M273.3489,187.6832 C273.7873,188.3631,279.1043,205.1924,280.2036,206.0899 M280.2036,206.0899 C281.303,206.9874,277.8234,195.5446,279.9451,193.0683 M279.9451,193.0683 C282.0668,190.5921,292.9046,188.6661,292.9338,191.2323 M292.9338,191.2323 C292.9631,193.7984,280.0051,204.008,280.1207,208.4652 M280.1207,208.4652 C280.2363,212.9223,291.6212,220.2306,293.6275,217.9753 M293.6275,217.9753 C295.6338,215.72,292.1412,200.6468,292.1584,194.9333 M292.1584,194.9333 C292.1756,189.2199,293.2756,184.2503,293.7306,183.6944 M293.7306,183.6944 C294.1856,183.1385,294.5376,186.7997,294.8886,191.598 M294.8886,191.598 C295.2396,196.3963,295.1836,212.4126,295.8365,212.4842 M295.8365,212.4842 C296.4895,212.5559,297.0331,195.8858,298.8064,192.0278 M298.8064,192.0278 C300.5797,188.1699,304.9105,189.128,306.4764,189.3366 M306.4764,189.3366 C308.0423,189.5452,308.6551,190.7697,308.202,193.2794 M308.202,193.2794 C307.7489,195.7892,302.9558,204.7342,303.7576,204.3951 M303.7576,204.3951 C304.5595,204.0561,312.1492,195.1135,313.0133,191.2451 M313.0133,191.2451 C313.8773,187.3767,308.4361,183.0403,308.9417,181.1849 M308.9417,181.1849 C309.4473,179.3294,313.8947,179.1559,316.0468,180.1123 M316.0468,180.1123 C318.1989,181.0687,321.2373,183.9101,321.8543,186.9234 M321.8543,186.9234 C322.4714,189.9368,321.187,196.8614,319.749,198.1923 M319.749,198.1923 C318.3109,199.5232,313.5522,197.5784,313.226,194.909 M313.226,194.909 C312.8997,192.2396,317.8989,181.8885,317.7915,182.1761 M317.7915,182.1761 C317.6842,182.4636,311.9369,195.6769,312.5818,196.6342 M312.5818,196.6342 C313.2268,197.5916,319.1915,189.1343,321.6611,187.9202 M321.6611,187.9202 C324.1307,186.7061,326.0191,188.6476,327.3995,189.3496 M327.3995,189.3496 C328.7798,190.0516,329.1724,190.7867,329.9434,192.1324 M329.9434,192.1324 C330.7144,193.4781,331.6392,198.0132,332.0255,197.4238 M332.0255,197.4238 C332.4118,196.8343,330.8194,188.1763,332.2611,188.5954 M332.2611,188.5954 C333.7029,189.0146,339.1931,199.2746,340.676,199.9386 M340.676,199.9386 C342.1589,200.6026,342.1912,194.0793,341.1585,192.5792 M341.1585,192.5792 C340.1259,191.0791,333.8223,185.9963,334.4802,190.9379 M334.4802,190.9379 C335.1381,195.8795,342.2891,221.6329,345.106,222.2287 M345.106,222.2287 C347.923,222.8245,349.8033,196.6631,351.3819,194.5126 M351.3819,194.5126 C352.9604,192.3621,355.1115,209.7911,354.5773,209.3257 M354.5773,209.3257 C354.0432,208.8602,348.5306,195.2086,348.177,191.72 M348.177,191.72 C347.8233,188.2313,351.6941,187.1628,352.4556,188.3939 M352.4556,188.3939 C353.2172,189.625,352.1555,197.3523,352.7463,199.1065 M352.7463,199.1065 C353.337,200.8608,355.1974,198.5387,356.0003,198.9195 M356.0003,198.9195 C356.8032,199.3003,356.6759,201.7381,357.5638,201.3914 M357.5638,201.3914 C358.4516,201.0447,362.2835,193.6584,361.3275,196.8392 M361.3275,196.8392 C360.3716,200.02,353.1842,220.4162,351.8278,220.4761 M351.8278,220.4761 C350.4714,220.5361,351.7683,200.9364,353.1891,197.1992 M353.1891,197.1992 C354.6099,193.462,358.7865,198.9775,360.3525,198.0527 M360.3525,198.0527 C361.9185,197.1279,360.9932,191.2605,362.5852,191.6504 M362.5852,191.6504 C364.1772,192.0403,367.7406,199.3014,369.9044,200.3923 M369.9044,200.3923 C372.0682,201.4832,374.713,198.172,375.5681,198.1957 M375.5681,198.1957 C376.4231,198.2194,374.8609,203.3767,375.0348,200.5345 M375.0348,200.5345 C375.2088,197.6923,376.098,181.1743,376.6117,181.1425 M376.6117,181.1425 C377.1254,181.1106,377.7689,199.2495,378.1169,200.3435 M378.1169,200.3435 C378.4649,201.4374,379.1035,186.5536,378.6996,187.7061 M378.6996,187.7061 C378.2957,188.8586,373.9798,208.4984,375.6935,207.2587 M375.6935,207.2587 C377.4072,206.019,386.6671,180.2313,388.9819,180.2679 M388.9819,180.2679 C391.2967,180.3046,389.5978,205.6543,389.5822,207.4785 M389.5822,207.4785 C389.5665,209.3026,389.5352,196.0764,388.888,191.213 M388.888,191.213 C388.2409,186.3495,385.1515,175.603,385.6993,178.2979 M385.6993,178.2979 C386.2471,180.9928,391.0405,206.128,392.175,207.3824 M392.175,207.3824 C393.3094,208.6368,391.5496,188.5297,392.5062,185.8245 M392.5062,185.8245 C393.4628,183.1192,396.8218,188.9251,397.9147,191.1509 M397.9147,191.1509 C399.0077,193.3767,398.3195,201.5539,399.0641,199.1792 M399.0641,199.1792 C399.8086,196.8044,401.8237,178.703,402.3819,176.9022 M402.3819,176.9022 C402.9401,175.1014,403.4652,185.1456,402.4134,188.3744 M402.4134,188.3744 C401.3615,191.6032,394.9253,197.5939,396.0707,196.275 M396.0707,196.275 C397.2161,194.9562,407.0432,178.3221,409.2858,180.4614 M409.2858,180.4614 C411.5284,182.6007,408.71,208.1363,409.5265,209.111 M409.5265,209.111 C410.343,210.0858,412.8897,188.6967,414.1848,186.3101 M414.1848,186.3101 C415.4799,183.9235,416.2482,194.3578,417.297,194.7914 M417.297,194.7914 C418.3458,195.2251,418.7847,189.8725,420.4777,188.9122 M420.4777,188.9122 C422.1707,187.9519,426.7408,187.2684,427.4549,189.0296 M427.4549,189.0296 C428.1691,190.7908,424.5464,198.819,424.7628,199.4794 M424.7628,199.4794 C424.9791,200.1398,429.2125,193.7554,428.7533,192.9921 M428.7533,192.9921 C428.294,192.2287,421.421,195.8505,422.0071,194.8992 M422.0071,194.8992 C422.5932,193.9479,430.5265,189.5315,432.2698,187.2843 M432.2698,187.2843 C434.013,185.037,433.8956,178.2623,432.4664,181.4157 M432.4664,181.4157 C431.0373,184.5691,422.0352,202.8154,423.6951,206.2045 M423.6951,206.2045 C425.3549,209.5937,439.4872,204.9475,442.4257,201.7506 M442.4257,201.7506 C445.3642,198.5537,442.9372,186.6187,441.3261,187.023 M441.3261,187.023 C439.715,187.4274,431.9459,204.0622,432.7591,204.1769 M432.7591,204.1769 C433.5723,204.2915,442.8573,190.3614,446.2052,187.7109 M446.2052,187.7109 C449.5531,185.0603,453.4004,185.3155,452.8466,188.2736 M452.8466,188.2736 C452.2929,191.2317,442.6929,202.067,442.8827,205.4596 M442.8827,205.4596 C443.0724,208.8522,450.8344,211.2038,453.9849,208.629 M453.9849,208.629 C457.1354,206.0543,460.73,193.8836,461.7856,190.011 M461.7856,190.011 C462.8412,186.1385,463.2215,184.9553,460.3185,185.3938 M460.3185,185.3938 C457.4155,185.8322,445.9144,190.8333,444.3675,192.6418 M444.3675,192.6418 C442.8207,194.4503,448.6487,195.5271,451.0376,196.2449 M451.0376,196.2449 C453.4264,196.9627,458.2896,197.384,458.7006,196.9488 M458.7006,196.9488 C459.1117,196.5136,453.4714,191.356,453.5041,193.6339 M453.5041,193.6339 C453.5368,195.9117,457.5308,211.2763,458.8966,210.6156 M458.8966,210.6156 C460.2625,209.9549,459.9958,189.0751,461.6993,189.6699 M461.6993,189.6699 C463.4028,190.2646,466.8502,215.2887,469.1178,214.1841 M469.1178,214.1841 C471.3853,213.0796,475.0553,186.7298,475.3047,183.0426 M475.3047,183.0426 C475.5541,179.3554,470.5707,189.707,470.614,192.0608 M470.614,192.0608 C470.6574,194.4146,474.6965,198.2687,475.565,197.1654 M475.565,197.1654 C476.4335,196.062,474.9426,185.3704,475.825,185.4407 M475.825,185.4407 C476.7073,185.5109,480.3977,193.96,480.859,197.5868 M480.859,197.5868 C481.3204,201.2136,478.3287,206.6636,478.5931,207.2015 M478.5931,207.2015 C478.8574,207.7395,482.8319,202.8891,482.4451,200.8147 M482.4451,200.8147 C482.0583,198.7403,475.3515,196.9547,476.2722,194.755 M476.2722,194.755 C477.1929,192.5552,486.4224,189.7247,487.9691,187.6162 M487.9691,187.6162 C489.5157,185.5076,484.6902,182.2991,485.5522,182.1036 M485.5522,182.1036 C486.4142,181.9081,491.6917,185.0137,493.141,186.4432 M493.141,186.4432 C494.5903,187.8727,493.7469,187.7061,494.2481,190.6805 M494.2481,190.6805 C494.7494,193.655,495.4864,205.6095,496.1486,204.2899 M496.1486,204.2899 C496.8107,202.9704,496.9674,184.3091,498.2209,182.7633 M498.2209,182.7633 C499.4744,181.2175,504.6299,193.3252,503.6694,195.0154 M503.6694,195.0154 C502.709,196.7055,491.4381,194.2962,492.4582,192.9042 M492.4582,192.9042 C493.4783,191.5122,507.4929,186.2074,509.79,186.6637 M509.79,186.6637 C512.0871,187.1199,506.2035,193.9542,506.2408,195.6417 M506.2408,195.6417 C506.278,197.3292,509.2176,198.4837,510.0133,196.7887 M510.0133,196.7887 C510.8091,195.0937,508.2066,180.9734,511.015,185.4718 M511.015,185.4718 C513.8235,189.9702,525.5659,220.3463,526.864,223.7791 M526.864,223.7791 C528.1621,227.2119,519.8128,212.6988,518.8037,206.0683 M518.8037,206.0683 C517.7945,199.4379,520.2636,184.335,520.8089,183.9963 M520.8089,183.9963 C521.3541,183.6576,522.8395,202.0728,522.0752,204.036 M522.0752,204.036 C521.311,205.9992,514.6144,196.6002,516.2235,195.7753 M516.2235,195.7753 C517.8325,194.9504,528.9486,198.9426,531.7297,199.0866 M531.7297,199.0866 C534.5109,199.2307,533.1511,198.3931,532.9106,196.6396 M532.9106,196.6396 C532.6701,194.8861,531.1557,189.1003,530.2866,188.5658 M530.2866,188.5658 C529.4175,188.0313,527.2869,192.542,527.6959,193.4323 M527.6959,193.4323 C528.1048,194.3227,532.4069,193.1356,532.7403,193.9078 M532.7403,193.9078 C533.0738,194.6799,528.2795,198.8639,529.6968,198.0651\" fill=\"none\" stroke=\"rgba(0,0,0,1)\" stroke-miterlimit=\"10\" stroke-width=\"2\"/>\n",
       "<path d=\"M44.0135,230.283 C45.7784,233.0248,41.6495,245.5303,42.7361,243.8405 M42.7361,243.8405 C43.8227,242.1507,49.6411,222.9068,50.533,220.1443 M50.533,220.1443 C51.425,217.3818,46.6355,225.869,48.0878,227.2655 M48.0878,227.2655 C49.54,228.6619,55.5909,226.3513,59.2463,228.5229 M59.2463,228.5229 C62.9016,230.6946,67.6708,241.2261,70.0198,240.2954 M70.0198,240.2954 C72.3688,239.3648,72.1735,225.2129,73.3403,222.9392 M73.3403,222.9392 C74.5072,220.6655,75.5438,226.8064,77.0211,226.6532 M77.0211,226.6532 C78.4985,226.5,78.7139,220.3847,82.2045,222.0198 M82.2045,222.0198 C85.6951,223.6548,95.1,233.7524,97.9646,236.4637 M97.9646,236.4637 C100.8292,239.1751,98.9623,238.7272,99.3922,238.2879 M99.3922,238.2879 C99.822,237.8486,96.7912,236.8509,100.5438,233.828 M100.5438,233.828 C104.2964,230.8051,119.1992,222.8129,121.9079,220.1505 M121.9079,220.1505 C124.6166,217.4881,116.1444,215.2767,116.796,217.8535 M116.796,217.8535 C117.4475,220.4303,123.5784,232.3539,125.8174,235.6114 M125.8174,235.6114 C128.0563,238.869,128.4078,239.1735,130.2299,237.3989 M130.2299,237.3989 C132.0519,235.6243,134.486,226.8088,136.7496,224.9638 M136.7496,224.9638 C139.0131,223.1188,141.6216,225.6315,143.8112,226.3289 M143.8112,226.3289 C146.0008,227.0263,145.6679,227.0886,149.8872,229.1484 M149.8872,229.1484 C154.1066,231.2082,168.8116,237.9214,169.1273,238.6876 M169.1273,238.6876 C169.4429,239.4539,150.7377,236.0639,151.7811,233.7459 M151.7811,233.7459 C152.8246,231.4279,171.0706,224.4199,175.388,224.7798 M175.388,224.7798 C179.7053,225.1397,174.4133,235.5237,177.6853,235.9053 M177.6853,235.9053 C180.9573,236.2869,193.5099,228.4041,195.0199,227.0692 M195.0199,227.0692 C196.53,225.7343,186.9248,226.9089,186.7455,227.8961 M186.7455,227.8961 C186.5663,228.8832,191.147,231.7469,193.9444,232.9922 M193.9444,232.9922 C196.7418,234.2376,201.975,234.6065,203.53,235.368 M203.53,235.368 C205.085,236.1296,201.5043,239.5096,203.2744,237.5616 M203.2744,237.5616 C205.0445,235.6136,210.7321,225.8619,214.1505,223.6799 M214.1505,223.6799 C217.5689,221.4978,221.4496,224.96,223.7847,224.4693 M223.7847,224.4693 C226.1199,223.9786,226.4776,221.5759,228.1615,220.7358 M228.1615,220.7358 C229.8454,219.8957,232.6064,219.2001,233.8882,219.4288 M233.8882,219.4288 C235.17,219.6575,234.1954,221.7266,235.8522,222.108 M235.8522,222.108 C237.5091,222.4893,241.232,219.8555,243.8294,221.717 M243.8294,221.717 C246.4268,223.5784,248.408,233.7041,251.4366,233.2769 M251.4366,233.2769 C254.4652,232.8497,258.4834,220.6365,262.0011,219.1535 M262.0011,219.1535 C265.5189,217.6704,272.0938,226.2323,272.543,224.3785 M272.543,224.3785 C272.9921,222.5247,264.1897,206.3411,264.6962,208.0306 M264.6962,208.0306 C265.2026,209.7201,271.9357,232.0058,275.5817,234.5154 M275.5817,234.5154 C279.2276,237.0249,283.9543,225.7067,286.5718,223.0878 M286.5718,223.0878 C289.1894,220.4689,289.1876,219.5698,291.287,218.8019 M291.287,218.8019 C293.3864,218.0339,297.9248,215.1164,299.1683,218.4802 M299.1683,218.4802 C300.4118,221.8439,295.4571,236.6166,298.7482,238.9843 M298.7482,238.9843 C302.0393,241.352,315.7999,231.5125,318.9148,232.6865 M318.9148,232.6865 C322.0298,233.8605,317.6034,244.9265,317.4379,246.0283 M317.4379,246.0283 C317.2724,247.1301,316.4812,240.2108,317.922,239.2974 M317.922,239.2974 C319.3627,238.384,321.4575,241.0636,326.0825,240.5481 M326.0825,240.5481 C330.7075,240.0327,341.9531,238.7638,345.6719,236.2047 M345.6719,236.2047 C349.3906,233.6455,346.8001,226.2394,348.395,225.1935 M348.395,225.1935 C349.9899,224.1475,353.9773,229.7883,355.2412,229.9291 M355.2412,229.9291 C356.505,230.0699,353.7533,225.8765,355.9782,226.0382 M355.9782,226.0382 C358.203,226.1998,366.7426,230.7892,368.5902,230.8991 M368.5902,230.8991 C370.4378,231.0091,365.4224,229.5349,367.0639,226.698 M367.0639,226.698 C368.7054,223.861,374.2651,211.0773,378.439,213.8777 M378.439,213.8777 C382.613,216.6781,389.6913,241.639,392.1075,243.5005 M392.1075,243.5005 C394.5238,245.362,392.063,226.6949,392.9365,225.0467 M392.9365,225.0467 C393.8101,223.3985,395.9356,233.9241,397.3488,233.6113 M397.3488,233.6113 C398.762,233.2985,399.0023,221.3214,401.4158,223.1699 M401.4158,223.1699 C403.8293,225.0183,408.676,244.2432,411.8297,244.7021 M411.8297,244.7021 C414.9835,245.1609,418.229,227.3628,420.338,225.923 M420.338,225.923 C422.447,224.4833,423.2848,234.4307,424.4835,236.0634 M424.4835,236.0634 C425.6823,237.6961,425.6082,235.368,427.5305,235.7193 M427.5305,235.7193 C429.4528,236.0705,434.5766,242.4979,436.0173,238.171 M436.0173,238.171 C437.458,233.8441,433.2898,209.4018,436.1748,209.7579 M436.1748,209.7579 C439.0597,210.114,449.3501,235.4576,453.3271,240.3076 M453.3271,240.3076 C457.304,245.1577,458.6592,240.9094,460.0365,238.8582 M460.0365,238.8582 C461.4139,236.8069,460.9258,231.1396,461.5912,228.0003 M461.5912,228.0003 C462.2567,224.8611,461.626,220.231,464.0293,220.0226 M464.0293,220.0226 C466.4325,219.8142,472.879,225.1955,476.0108,226.75 M476.0108,226.75 C479.1426,228.3046,480.126,229.6369,482.82,229.3496 M482.82,229.3496 C485.514,229.0623,490.1858,224.2167,492.1749,225.0262 M492.1749,225.0262 C494.1639,225.8358,494.0522,232.4166,494.7543,234.207 M494.7543,234.207 C495.4563,235.9974,494.6611,236.3057,496.3872,235.7686 M496.3872,235.7686 C498.1132,235.2315,502.0639,233.5647,505.1107,230.9844 M505.1107,230.9844 C508.1574,228.4041,512.1667,220.6138,514.6677,220.287 M514.6677,220.287 C517.1688,219.9603,518.6832,230.0466,520.1169,229.0238 M520.1169,229.0238 C521.5506,228.001,521.3726,212.9206,523.27,214.1503\" fill=\"none\" stroke=\"rgba(0,0,0,1)\" stroke-miterlimit=\"10\" stroke-width=\"2\"/>\n",
       "<path d=\"M26.6804,261.5881 C27.105,262.9649,36.3596,255.6152,37.7955,258.4866 M37.7955,258.4866 C39.2313,261.358,34.7478,276.4301,35.2956,278.8165 M35.2956,278.8165 C35.8434,281.2029,39.5826,273.7453,41.0822,272.805 M41.0822,272.805 C42.5818,271.8648,43.9815,278.5018,44.2932,273.1748 M44.2932,273.1748 C44.6048,267.8478,43.307,242.2517,42.9521,240.8432 M42.9521,240.8432 C42.5972,239.4346,40.6182,259.0438,42.1638,264.7236 M42.1638,264.7236 C43.7094,270.4034,49.5337,272.0288,52.2258,274.9222 M52.2258,274.9222 C54.9179,277.8156,56.5874,285.2819,58.3165,282.0841 M58.3165,282.0841 C60.0455,278.8863,62.1859,260.9428,62.6,255.7354 M62.6,255.7354 C63.014,250.5279,61.2773,252.8061,60.8006,250.8394 M60.8006,250.8394 C60.3239,248.8728,59.6691,243.5006,59.74,243.9353 M59.74,243.9353 C59.8109,244.37,60.4621,250.7535,61.2261,253.4478 M61.2261,253.4478 C61.9902,256.142,63.3826,259.8805,64.3242,260.1005 M64.3242,260.1005 C65.2658,260.3206,66.7642,253.3293,66.8758,254.7679 M66.8758,254.7679 C66.9873,256.2066,63.5803,265.8477,64.9937,268.7323 M64.9937,268.7323 C66.4071,271.617,73.5347,275.7481,75.3561,272.0761 M75.3561,272.0761 C77.1776,268.4041,75.4684,248.7643,75.9225,246.7004 M75.9225,246.7004 C76.3767,244.6365,76.4685,257.6797,78.0811,259.6928 M78.0811,259.6928 C79.6936,261.7059,85.3751,260.637,85.598,258.7789 M85.598,258.7789 C85.8209,256.9209,77.6238,246.7448,79.4184,248.5446 M79.4184,248.5446 C81.213,250.3444,94.8627,267.6669,96.3655,269.5779 M96.3655,269.5779 C97.8683,271.4889,89.5711,257.7885,88.4351,260.0106 M88.4351,260.0106 C87.2992,262.2327,88.3163,282.2919,89.55,282.9105 M89.55,282.9105 C90.7837,283.5291,93.3766,267.3242,95.8374,263.722 M95.8374,263.722 C98.2982,260.1197,103.5443,262.0101,104.315,261.297 M104.315,261.297 C105.0858,260.5838,100.4313,259.8539,100.4619,259.4429 M100.4619,259.4429 C100.4924,259.0318,103.5003,257.0714,104.4982,258.8306 M104.4982,258.8306 C105.4961,260.5898,106.1786,269.8806,106.4491,269.9978 M106.4491,269.9978 C106.7197,270.115,105.1316,259.0396,106.1216,259.5335 M106.1216,259.5335 C107.1115,260.0275,110.1647,273.3761,112.3889,272.9613 M112.3889,272.9613 C114.6132,272.5466,119.4472,256.3431,119.4672,257.0451 M119.4672,257.0451 C119.4873,257.7471,112.5384,274.6587,112.5094,277.1732 M112.5094,277.1732 C112.4804,279.6877,117.6409,273.0929,119.2935,272.1322 M119.2935,272.1322 C120.946,271.1715,120.4487,274.2145,122.4249,271.4089 M122.4249,271.4089 C124.401,268.6033,130.1403,257.9462,131.1502,255.2987 M131.1502,255.2987 C132.1601,252.6513,129.2066,253.579,128.4843,255.5241 M128.4843,255.5241 C127.762,257.4692,127.13,268.0182,126.8162,266.9695 M126.8162,266.9695 C126.5024,265.9208,125.0478,251.388,126.6015,249.2319 M126.6015,249.2319 C128.1551,247.0758,134.5156,254.24,136.138,254.0329 M136.138,254.0329 C137.7604,253.8257,134.8279,246.1727,136.3358,247.9893 M136.3358,247.9893 C137.8436,249.8058,144.0725,262.3439,145.1851,264.9322 M145.1851,264.9322 C146.2978,267.5206,143.0948,266.798,143.0118,263.5193 M143.0118,263.5193 C142.9287,260.2407,143.83,246.0612,144.6866,245.2603 M144.6866,245.2603 C145.5432,244.4593,146.9478,257.5536,148.1514,258.7137 M148.1514,258.7137 C149.355,259.8739,150.2176,248.9573,151.9079,252.2212 M151.9079,252.2212 C153.5983,255.4852,156.1405,274.2807,158.2936,278.2975 M158.2936,278.2975 C160.4467,282.3142,163.5985,280.7067,164.8267,276.3219 M164.8267,276.3219 C166.0549,271.9371,165.7149,254.5628,165.6627,251.9885 M165.6627,251.9885 C165.6105,249.4142,164.8989,259.6393,164.5135,260.8762 M164.5135,260.8762 C164.128,262.113,163.2473,260.9363,163.3501,259.4097 M163.3501,259.4097 C163.4529,257.8831,163.3414,252.2784,165.1303,251.7166 M165.1303,251.7166 C166.9192,251.1548,171.529,253.772,174.0835,256.0389 M174.0835,256.0389 C176.638,258.3058,180.4324,266.2269,180.4572,265.318 M180.4572,265.318 C180.4821,264.4091,174.4541,253.6069,174.2327,250.5854 M174.2327,250.5854 C174.0113,247.564,177.7362,245.1173,179.1291,247.1894 M179.1291,247.1894 C180.522,249.2614,181.1632,259.1237,182.59,263.0177 M182.59,263.0177 C184.0168,266.9117,186.4304,269.2583,187.6897,270.5533 M187.6897,270.5533 C188.949,271.8482,188.7633,273.4615,190.1459,270.7873 M190.1459,270.7873 C191.5284,268.1132,194.9658,256.4692,195.9849,254.5082 M195.9849,254.5082 C197.004,252.5472,195.5733,256.1642,196.2604,259.0214 M196.2604,259.0214 C196.9476,261.8787,200.6707,270.5395,200.1079,271.6516 M200.1079,271.6516 C199.5451,272.7637,192.0094,266.5129,192.8836,265.6941 M192.8836,265.6941 C193.7578,264.8752,204.1571,268.2785,205.3529,266.7383 M205.3529,266.7383 C206.5486,265.1982,199.184,257.1191,200.0581,256.4533 M200.0581,256.4533 C200.9322,255.7874,209.5495,263.298,210.5976,262.7432 M210.5976,262.7432 C211.6458,262.1884,205.9237,253.6738,206.347,253.1243 M206.347,253.1243 C206.7702,252.5749,210.6092,256.7853,213.137,259.4463 M213.137,259.4463 C215.6647,262.1074,220.4707,269.9842,221.5132,269.0906 M221.5132,269.0906 C222.5557,268.1969,219.3616,256.0877,219.3922,254.0845 M219.3922,254.0845 C219.4228,252.0812,221.8114,256.018,221.6967,257.071 M221.6967,257.071 C221.582,258.124,217.4405,259.0076,218.704,260.4023 M218.704,260.4023 C219.9676,261.797,227.8388,263.5788,229.2782,265.4392 M229.2782,265.4392 C230.7175,267.2995,226.0923,272.8431,227.3402,271.5643 M227.3402,271.5643 C228.588,270.2856,235.6743,261.5782,236.7651,257.7667 M236.7651,257.7667 C237.8558,253.9551,234.1957,249.0434,233.8846,248.6949 M233.8846,248.6949 C233.5734,248.3463,233.9421,250.9835,234.8982,255.6754 M234.8982,255.6754 C235.8542,260.3673,237.6805,274.1127,239.6211,276.8462 M239.6211,276.8462 C241.5617,279.5797,246.5134,273.2001,246.5418,272.0764 M246.5418,272.0764 C246.5701,270.9526,239.9425,272.6772,239.7912,270.1038 M239.7912,270.1038 C239.6398,267.5304,243.8999,258.4834,245.6337,256.6358 M245.6337,256.6358 C247.3676,254.7883,249.2724,259.3245,250.1942,259.0186 M250.1942,259.0186 C251.1159,258.7127,249.6955,256.2781,251.1642,254.8004 M251.1642,254.8004 C252.6329,253.3228,257.349,250.9338,259.0064,250.1528 M259.0064,250.1528 C260.6638,249.3717,260.6777,249.333,261.1083,250.1144 M261.1083,250.1144 C261.5389,250.8958,261.2449,252.7254,261.5901,254.841 M261.5901,254.841 C261.9354,256.9566,261.8357,259.2278,263.18,262.808 M263.18,262.808 C264.5243,266.3881,268.414,277.7942,269.656,276.3218 M269.656,276.3218 C270.898,274.8495,270.2402,255.4111,270.6322,253.9736 M270.6322,253.9736 C271.0242,252.5361,271.7627,268.0768,272.008,267.6968 M272.008,267.6968 C272.2532,267.3169,270.7849,249.0772,272.1037,251.6937 M272.1037,251.6937 C273.4225,254.3103,279.1204,281.3747,279.9206,283.396 M279.9206,283.396 C280.7209,285.4172,277.7361,268.0323,276.9052,263.8213 M276.9052,263.8213 C276.0743,259.6103,273.8313,258.5202,274.9351,258.1301 M274.9351,258.1301 C276.0389,257.7399,281.5858,260.6368,283.5279,261.4804 M283.5279,261.4804 C285.47,262.324,285.5108,263.7078,286.588,263.1917 M286.588,263.1917 C287.6651,262.6756,288.6107,259.9101,289.9908,258.384 M289.9908,258.384 C291.371,256.8579,293.8772,252.7594,294.8689,254.0349 M294.8689,254.0349 C295.8607,255.3105,295.1227,266.6699,295.9414,266.0375 M295.9414,266.0375 C296.7601,265.4051,299.2958,249.2384,299.7812,250.2406 M299.7812,250.2406 C300.2665,251.2427,297.8778,271.0374,298.8534,272.0504 M298.8534,272.0504 C299.829,273.0634,305.2223,258.8737,305.6349,256.3186 M305.6349,256.3186 C306.0475,253.7636,300.6388,254.6115,301.3291,256.72 M301.3291,256.72 C302.0195,258.8284,307.7659,268.0291,309.7769,268.9691 M309.7769,268.9691 C311.7879,269.9091,313.3939,265.5923,313.3952,262.3599 M313.3952,262.3599 C313.3965,259.1274,309.0278,249.7505,309.7847,249.5742 M309.7847,249.5742 C310.5417,249.3979,314.4157,258.1317,317.9367,261.3022 M317.9367,261.3022 C321.4578,264.4726,329.8382,267.2665,330.9109,268.5969 M330.9109,268.5969 C331.9836,269.9273,325.9464,267.9186,324.3728,269.2845 M324.3728,269.2845 C322.7992,270.6504,320.1813,277.7247,321.4693,276.7924 M321.4693,276.7924 C322.7573,275.8602,330.7848,267.8439,332.1007,263.6909 M332.1007,263.6909 C333.4166,259.5379,328.7107,251.6017,329.3645,251.8745 M329.3645,251.8745 C330.0183,252.1473,334.1975,264.1715,336.0234,265.3277 M336.0234,265.3277 C337.8493,266.484,338.3639,257.6996,340.3199,258.8121 M340.3199,258.8121 C342.276,259.9246,346.3225,270.8359,347.7597,272.0028 M347.7597,272.0028 C349.197,273.1697,349.5511,266.7405,348.9434,265.8134 M348.9434,265.8134 C348.3356,264.8863,345.536,267.9824,344.1132,266.4399 M344.1132,266.4399 C342.6904,264.8974,339.0042,256.6391,340.4066,256.5584 M340.4066,256.5584 C341.8089,256.4778,351.0262,263.7231,352.5274,265.9561 M352.5274,265.9561 C354.0285,268.1891,347.8532,270.3118,349.4137,269.9566 M349.4137,269.9566 C350.9742,269.6013,360.8239,267.3024,361.8904,263.8246 M361.8904,263.8246 C362.9569,260.3468,356.3404,249.5396,355.8126,249.0899 M355.8126,249.0899 C355.2848,248.6402,357.4,257.8848,358.7236,261.1263 M358.7236,261.1263 C360.0471,264.3679,363.0831,269.6068,363.754,268.5389 M363.754,268.5389 C364.4249,267.471,361.9092,259.1715,362.749,254.719 M362.749,254.719 C363.5888,250.2665,366.5333,236.6866,368.7927,241.824 M368.7927,241.824 C371.0521,246.9615,375.1257,282.5632,376.3055,285.5436 M376.3055,285.5436 C377.4854,288.524,375.8604,261.6835,375.8717,259.7064 M375.8717,259.7064 C375.883,257.7294,375.6696,274.1133,376.3734,273.6812 M376.3734,273.6812 C377.0772,273.249,379.6462,257.8375,380.0943,257.1136 M380.0943,257.1136 C380.5425,256.3897,377.274,267.0522,379.0622,269.3375 M379.0622,269.3375 C380.8504,271.6229,388.586,269.9462,390.8238,270.8255 M390.8238,270.8255 C393.0615,271.7048,392.3072,275.666,392.4885,274.6133 M392.4885,274.6133 C392.6698,273.5606,390.8931,267.6685,391.9115,264.5092 M391.9115,264.5092 C392.9299,261.3498,398.2717,253.7435,398.5989,255.657 M398.5989,255.657 C398.9262,257.5705,393.6575,273.2216,393.8751,275.9902 M393.8751,275.9902 C394.0927,278.7589,398.5454,273.5233,399.9046,272.2688 M399.9046,272.2688 C401.2638,271.0142,401.0294,269.189,402.0305,268.4629 M402.0305,268.4629 C403.0316,267.7368,404.8246,271.6801,405.9111,267.9124 M405.9111,267.9124 C406.9976,264.1446,407.116,245.8251,408.5496,245.8565 M408.5496,245.8565 C409.9832,245.888,413.1133,264.7517,414.5127,268.1012 M414.5127,268.1012 C415.912,271.4506,416.8468,266.8938,416.9456,265.953 M416.9456,265.953 C417.0445,265.0122,415.3379,263.8007,415.1055,262.4563 M415.1055,262.4563 C414.8732,261.1119,414.1941,257.4119,415.5514,257.8866 M415.5514,257.8866 C416.9088,258.3612,422.8916,264.8734,423.2496,265.3044 M423.2496,265.3044 C423.6077,265.7353,415.946,261.2637,417.6997,260.4723 M417.6997,260.4723 C419.4534,259.6808,431.536,260.872,433.7719,260.5557 M433.7719,260.5557 C436.0078,260.2393,431.9827,259.4669,431.115,258.5741 M431.115,258.5741 C430.2473,257.6813,427.3842,253.2155,428.5656,255.1988 M428.5656,255.1988 C429.7471,257.1821,436.1113,268.5607,438.2039,270.4738 M438.2039,270.4738 C440.2966,272.3868,441.328,268.778,441.1214,266.6772 M441.1214,266.6772 C440.9148,264.5764,437.7524,257.9414,436.9642,257.8688 M436.9642,257.8688 C436.1761,257.7962,434.8123,264.8888,436.3923,266.2416 M436.3923,266.2416 C437.9724,267.5944,445.3819,268.1214,446.4443,265.9858 M446.4443,265.9858 C447.5068,263.8503,442.376,253.3824,442.7669,253.4283 M442.7669,253.4283 C443.1578,253.4743,447.599,263.0178,448.7898,266.2613 M448.7898,266.2613 C449.9805,269.5048,448.8627,269.7719,449.9113,272.8891 M449.9113,272.8891 C450.96,276.0063,453.6371,287.097,455.0819,284.9643 M455.0819,284.9643 C456.5266,282.8317,456.6369,266.9377,458.5799,260.0934 M458.5799,260.0934 C460.5229,253.249,463.3276,242.4039,466.7399,243.8981 M466.7399,243.8981 C470.1521,245.3922,479.9054,263.854,479.0535,269.0583 M479.0535,269.0583 C478.2016,274.2626,462.1878,274.532,461.6284,275.124 M461.6284,275.124 C461.069,275.7161,473.5042,274.0758,475.697,272.6108 M475.697,272.6108 C477.8899,271.1459,475.5105,269.3502,474.7856,266.3344 M474.7856,266.3344 C474.0607,263.3186,471.0663,254.744,471.3478,254.5161 M471.3478,254.5161 C471.6294,254.2881,475.4515,263.2781,476.4747,264.9668 M476.4747,264.9668 C477.4978,266.6555,475.6603,266.276,477.4868,264.6482 M477.4868,264.6482 C479.3133,263.0204,485.4993,255.5445,487.4337,255.2002 M487.4337,255.2002 C489.368,254.856,489.497,263.611,489.0927,262.5829 M489.0927,262.5829 C488.6884,261.5547,484.7039,248.3167,485.0078,249.0312 M485.0078,249.0312 C485.3116,249.7457,489.7586,262.263,490.9159,266.8699 M490.9159,266.8699 C492.0731,271.4767,491.6547,277.5269,491.9512,276.6724 M491.9512,276.6724 C492.2477,275.8179,492.4569,264.5953,492.695,261.7429 M492.695,261.7429 C492.933,258.8906,492.3704,258.772,493.3794,259.5582 M493.3794,259.5582 C494.3885,260.3444,497.5263,266.6449,498.7493,266.46 M498.7493,266.46 C499.9723,266.2752,498.5264,256.6809,500.7175,258.449 M500.7175,258.449 C502.9087,260.2172,508.8254,275.6852,511.8962,277.0689 M511.8962,277.0689 C514.967,278.4527,518.8883,269.1122,519.1425,266.7514 M519.1425,266.7514 C519.3966,264.3905,512.3326,263.798,513.421,262.9038 M513.421,262.9038 C514.5094,262.0095,525.7615,262.2052,525.6729,261.386 M525.6729,261.386 C525.5844,260.5668,514.0132,256.4012,512.8898,257.9884 M512.8898,257.9884 C511.7664,259.5756,516.8138,271.6373,518.9324,270.909 M518.9324,270.909 C521.0511,270.1807,525.1613,257.2526,525.6019,253.6185 M525.6019,253.6185 C526.0424,249.9845,519.8887,248.0562,521.576,249.1048 M521.576,249.1048 C523.2632,250.1535,534.2719,257.8221,535.7254,259.9104 M535.7254,259.9104 C537.1788,261.9987,530.886,261.934,530.2966,261.6347\" fill=\"none\" stroke=\"rgba(0,0,0,1)\" stroke-miterlimit=\"10\" stroke-width=\"2\"/>\n",
       "<path d=\"M31.1166,298.2759 C31.4245,299.6184,29.351,305.8576,30.3061,306.1023 M30.3061,306.1023 C31.2613,306.3469,35.4015,302.2629,36.8475,299.744 M36.8475,299.744 C38.2935,297.225,39.2229,292.786,38.9824,290.9885 M38.9824,290.9885 C38.7418,289.1909,33.5789,291.2191,35.4043,288.9588 M35.4043,288.9588 C37.2297,286.6985,48.4872,276.4197,49.9347,277.4266 M49.9347,277.4266 C51.3821,278.4335,44.1435,291.3622,44.0889,295.0004 M44.0889,295.0004 C44.0344,298.6385,48.7746,296.1839,49.6074,299.2556 M49.6074,299.2556 C50.4401,302.3274,49.5636,312.4542,49.0854,313.4311 M49.0854,313.4311 C48.6071,314.408,45.4944,309.2246,46.7378,305.1172 M46.7378,305.1172 C47.9813,301.0097,54.7231,292.1271,56.546,288.7864 M56.546,288.7864 C58.3689,285.4457,56.7765,281.0135,57.6753,285.073 M57.6753,285.073 C58.574,289.1325,61.7845,307.873,61.9386,313.1435 M61.9386,313.1435 C62.0926,318.414,59.1179,320.5626,58.5996,316.6958 M58.5996,316.6958 C58.0813,312.8289,58.3824,292.2988,58.8289,289.9425 M58.8289,289.9425 C59.2754,287.5863,60.2146,301.8424,61.2787,302.5584 M61.2787,302.5584 C62.3429,303.2745,63.2178,296.5906,65.2139,294.239 M65.2139,294.239 C67.21,291.8874,71.7688,288.4147,73.2556,288.4487 M73.2556,288.4487 C74.7423,288.4827,74.6821,294.1451,74.1344,294.443 M74.1344,294.443 C73.5867,294.741,69.5133,290.1267,69.9694,290.2364 M69.9694,290.2364 C70.4254,290.3461,75.0771,292.9382,76.8708,295.1011 M76.8708,295.1011 C78.6645,297.264,79.7157,302.7986,80.7316,303.2139 M80.7316,303.2139 C81.7476,303.6291,82.6769,298.7267,82.9665,297.5926 M82.9665,297.5926 C83.2561,296.4586,81.8109,297.425,82.4689,296.4094 M82.4689,296.4094 C83.127,295.3938,86.5363,296.8158,86.9148,291.499 M86.9148,291.499 C87.2932,286.1822,83.7978,263.3501,84.7395,264.5087 M84.7395,264.5087 C85.6812,265.6674,89.3792,292.6569,92.5648,298.4508 M92.5648,298.4508 C95.7503,304.2447,103.6985,297.9052,103.853,299.2723 M103.853,299.2723 C104.0075,300.6394,93.9183,308.4572,93.4917,306.6533 M93.4917,306.6533 C93.0651,304.8493,101.0508,289.8698,101.2934,288.4488 M101.2934,288.4488 C101.536,287.0278,95.1068,294.8172,94.9473,298.1275 M94.9473,298.1275 C94.7878,301.4378,99.0916,310.1479,100.3363,308.3104 M100.3363,308.3104 C101.581,306.4729,101.6874,288.517,102.4155,287.1025 M102.4155,287.1025 C103.1436,285.6879,103.9704,300.5356,104.7051,299.8232 M104.7051,299.8232 C105.4398,299.1108,105.7507,285.415,106.8238,282.8282 M106.8238,282.8282 C107.897,280.2413,109.7856,281.8888,111.144,284.3023 M111.144,284.3023 C112.5025,286.7158,113.1842,297.5536,114.9745,297.3091 M114.9745,297.3091 C116.7648,297.0646,123.0453,282.5892,121.8858,282.8354 M121.8858,282.8354 C120.7263,283.0815,107.9035,299.8611,108.0176,298.7859 M108.0176,298.7859 C108.1316,297.7107,119.5592,276.5446,122.57,276.384 M122.57,276.384 C125.5807,276.2233,125.6718,294.8128,126.082,297.822 M126.082,297.822 C126.4921,300.8312,125.6085,293.3375,125.0309,294.4393 M125.0309,294.4393 C124.4533,295.5412,121.4711,306.2893,122.6163,304.4332 M122.6163,304.4332 C123.7615,302.577,130.2754,286.4235,131.9022,283.3024 M131.9022,283.3024 C133.5289,280.1812,132.0017,282.8861,132.3767,285.7063 M132.3767,285.7063 C132.7516,288.5265,133.1999,297.8556,134.152,300.2235 M134.152,300.2235 C135.1042,302.5913,135.9737,299.266,138.0896,299.9134 M138.0896,299.9134 C140.2056,300.5608,146.0818,306.5726,146.8475,304.1078 M146.8475,304.1078 C147.6131,301.6431,142.7274,285.6144,142.6833,285.1249 M142.6833,285.1249 C142.6393,284.6354,144.7003,298.7594,146.5831,301.1709 M146.5831,301.1709 C148.4658,303.5824,154.2836,302.1375,153.9798,299.5939 M153.9798,299.5939 C153.676,297.0502,144.9607,287.5165,144.7601,285.9091 M144.7601,285.9091 C144.5596,284.3016,151.7658,288.7534,152.7767,289.949 M152.7767,289.949 C153.7876,291.1446,150.5782,295.3329,150.8256,293.0826 M150.8256,293.0826 C151.073,290.8323,153.3685,275.5,154.261,276.4474 M154.261,276.4474 C155.1536,277.3949,154.8144,297.4539,156.1808,298.7673 M156.1808,298.7673 C157.5472,300.0806,161.4482,283.0814,162.4594,284.3275 M162.4594,284.3275 C163.4706,285.5736,162.1567,306.5352,162.2479,306.2437 M162.2479,306.2437 C162.339,305.9522,161.973,284.2052,163.0062,282.5787 M163.0062,282.5787 C164.0393,280.9521,166.9618,293.1511,168.4469,296.4844 M168.4469,296.4844 C169.932,299.8176,171.5895,302.0895,171.9166,302.5781 M171.9166,302.5781 C172.2437,303.0668,170.073,299.5433,170.4096,299.4162 M170.4096,299.4162 C170.7462,299.289,172.9151,304.4824,173.9363,301.8152 M173.9363,301.8152 C174.9575,299.1481,176.1773,285.229,176.5369,283.4132 M176.5369,283.4132 C176.8965,281.5973,175.8543,285.884,176.0937,290.9201 M176.0937,290.9201 C176.3331,295.9562,176.4365,316.2495,177.9734,313.6298 M177.9734,313.6298 C179.5104,311.01,184.7956,276.7855,185.3152,275.2017 M185.3152,275.2017 C185.8349,273.6179,180.9179,299.7919,181.0911,304.1268 M181.0911,304.1268 C181.2643,308.4618,184.7461,302.4004,186.3543,301.2113 M186.3543,301.2113 C187.9625,300.0222,189.7593,296.881,190.7404,296.9922 M190.7404,296.9922 C191.7215,297.1035,191.0128,304.7353,192.2409,301.8786 M192.2409,301.8786 C193.469,299.0219,196.3717,282.2608,198.1088,279.8522 M198.1088,279.8522 C199.846,277.4437,202.8486,284.6152,202.6636,287.4272 M202.6636,287.4272 C202.4786,290.2392,197.4277,299.0651,196.9987,296.7242 M196.9987,296.7242 C196.5697,294.3833,199.3829,274.6986,200.0895,273.3817 M200.0895,273.3817 C200.7961,272.0649,200.1184,281.7135,201.2385,288.8231 M201.2385,288.8231 C202.3587,295.9328,205.5334,317.3462,206.8102,316.0394 M206.8102,316.0394 C208.087,314.7327,207.2223,283.4973,208.8995,280.9828 M208.8995,280.9828 C210.5767,278.4683,215.8802,294.9195,216.8731,300.9525 M216.8731,300.9525 C217.8661,306.9854,214.6256,317.3998,214.8569,317.1804 M214.8569,317.1804 C215.0882,316.9609,217.6406,305.5406,218.261,299.6356 M218.261,299.6356 C218.8813,293.7305,219.2792,283.4282,218.5791,281.75 M218.5791,281.75 C217.879,280.0718,213.2774,284.6431,214.0605,289.5665 M214.0605,289.5665 C214.8436,294.4899,221.4725,311.7822,223.2777,311.2904 M223.2777,311.2904 C225.0829,310.7987,224.1697,288.943,224.8917,286.6159 M224.8917,286.6159 C225.6138,284.2888,226.9502,295.3879,227.61,297.3278 M227.61,297.3278 C228.2698,299.2677,228.1585,299.2594,228.8505,298.2554 M228.8505,298.2554 C229.5424,297.2514,230.7808,290.1007,231.7617,291.3036 M231.7617,291.3036 C232.7426,292.5065,233.9126,305.883,234.7358,305.473 M234.7358,305.473 C235.5589,305.0629,237.2896,291.1102,236.7006,288.8431 M236.7006,288.8431 C236.1115,286.576,229.8881,290.7737,231.2016,291.8703 M231.2016,291.8703 C232.515,292.9669,241.9506,292.5777,244.5812,295.4226 M244.5812,295.4226 C247.2118,298.2676,245.9685,309.1875,246.9852,308.94 M246.9852,308.94 C248.0019,308.6925,250.6485,298.9563,250.6814,293.9375 M250.6814,293.9375 C250.7144,288.9187,246.7439,277.8615,247.183,278.8274 M247.183,278.8274 C247.6221,279.7933,252.6827,294.8767,253.3161,299.733 M253.3161,299.733 C253.9494,304.5893,250.4241,309.2964,250.9831,307.9651 M250.9831,307.9651 C251.542,306.6338,255.679,295.8282,256.6699,291.7452 M256.6699,291.7452 C257.6607,287.6621,256.4529,279.1562,256.928,283.4669 M256.928,283.4669 C257.4031,287.7775,258.2477,316.6011,259.5206,317.609 M259.5206,317.609 C260.7935,318.6168,264.7801,291.9287,264.5653,289.5137 M264.5653,289.5137 C264.3505,287.0988,257.4657,301.2152,258.2319,303.1195 M258.2319,303.1195 C258.9982,305.0238,267.6872,301.214,269.1628,300.9393 M269.1628,300.9393 C270.6385,300.6647,266.7799,302.2332,267.0858,301.4717 M267.0858,301.4717 C267.3916,300.7103,270.061,297.8073,270.9977,296.3707 M270.9977,296.3707 C271.9344,294.9341,271.6768,290.7767,272.7061,292.8522 M272.7061,292.8522 C273.7354,294.9277,276.9526,308.0095,277.1733,308.8238 M277.1733,308.8238 C277.394,309.6381,274.2251,303.6451,274.0302,297.738 M274.0302,297.738 C273.8352,291.8309,274.0648,274.7027,276.0038,273.3812 M276.0038,273.3812 C277.9427,272.0597,284.1843,286.3144,285.664,289.809 M285.664,289.809 C287.1437,293.3037,284.1288,290.5474,284.8821,294.3491 M284.8821,294.3491 C285.6354,298.1508,290.1308,313.3237,290.1838,312.6194 M290.1838,312.6194 C290.2368,311.915,284.6152,294.3927,285.2002,290.1229 M285.2002,290.1229 C285.7852,285.853,292.6022,286.7785,293.6938,287.0003 M293.6938,287.0003 C294.7854,287.222,291.7925,290.5997,291.7498,291.4533 M291.7498,291.4533 C291.7072,292.3069,292.295,290.3141,293.4378,292.1218 M293.4378,292.1218 C294.5806,293.9295,297.4541,300.9482,298.6067,302.2994 M298.6067,302.2994 C299.7592,303.6507,299.8909,300.1982,300.3532,300.2293 M300.3532,300.2293 C300.8155,300.2604,300.9242,304.1993,301.3804,302.4862 M301.3804,302.4862 C301.8367,300.773,301.8717,289.2875,303.0907,289.9505 M303.0907,289.9505 C304.3097,290.6135,307.7377,307.5984,308.6943,306.4641 M308.6943,306.4641 C309.6509,305.3298,307.621,284.4383,308.8303,283.1445 M308.8303,283.1445 C310.0397,281.8507,314.5576,296.3299,315.9503,298.7012 M315.9503,298.7012 C317.3431,301.0725,316.9561,297.0206,317.1868,297.3722 M317.1868,297.3722 C317.4175,297.7238,316.8195,300.155,317.3344,300.8109 M317.3344,300.8109 C317.8492,301.4667,319.1951,302.3876,320.2759,301.3074 M320.2759,301.3074 C321.3567,300.2271,322.703,296.0325,323.8191,294.3296 M323.8191,294.3296 C324.9353,292.6267,326.2592,289.5579,326.9727,291.0898 M326.9727,291.0898 C327.6863,292.6217,328.3408,303.9955,328.1005,303.521 M328.1005,303.521 C327.8601,303.0464,324.8825,292.0771,325.5306,288.2427 M325.5306,288.2427 C326.1788,284.4083,330.631,280.0852,331.9892,280.5146 M331.9892,280.5146 C333.3474,280.944,332.3089,289.565,333.6798,290.8192 M333.6798,290.8192 C335.0508,292.0733,339.2984,287.8868,340.2148,288.0396 M340.2148,288.0396 C341.1311,288.1924,338.9481,288.0908,339.1778,291.7359 M339.1778,291.7359 C339.4076,295.3811,341.1193,312.8371,341.5933,309.9105 M341.5933,309.9105 C342.0674,306.9839,340.9576,276.8831,342.022,274.1765 M342.022,274.1765 C343.0865,271.4699,347.2406,289.5699,347.9801,293.6711 M347.9801,293.6711 C348.7197,297.7723,345.8783,297.0395,346.4592,298.7839 M346.4592,298.7839 C347.0401,300.5283,350.8508,305.6085,351.4657,304.1373 M351.4657,304.1373 C352.0807,302.6662,349.9447,292.0208,350.1491,289.9571 M350.1491,289.9571 C350.3534,287.8934,352.5509,291.2581,352.6917,291.7552 M352.6917,291.7552 C352.8326,292.2522,350.6127,292.7657,350.9943,292.9394 M350.9943,292.9394 C351.3759,293.113,354.0766,291.6533,354.9812,292.7971 M354.9812,292.7971 C355.8858,293.941,356.1015,301.5043,356.4218,299.8027 M356.4218,299.8027 C356.7421,298.1011,355.3881,283.7371,356.9031,282.5876 M356.9031,282.5876 C358.4182,281.438,363.9229,289.9963,365.5122,292.9054 M365.5122,292.9054 C367.1015,295.8145,366.1921,298.8134,366.4388,300.0422 M366.4388,300.0422 C366.6856,301.2711,365.8975,300.809,366.9927,300.2784 M366.9927,300.2784 C368.0879,299.7477,371.8495,298.0103,373.0101,296.8586 M373.0101,296.8586 C374.1707,295.7068,373.099,293.8372,373.9562,293.3679 M373.9562,293.3679 C374.8133,292.8986,376.7618,298.4688,378.1529,294.0428 M378.1529,294.0428 C379.5441,289.6169,381.2452,263.7113,382.3029,266.8121 M382.3029,266.8121 C383.3606,269.913,383.5821,308.8643,384.4991,312.6479 M384.4991,312.6479 C385.4162,316.4314,387.4862,291.6962,387.8053,289.5134 M387.8053,289.5134 C388.1243,287.3306,386.5959,298.0058,386.4135,299.551 M386.4135,299.551 C386.2311,301.0962,386.1272,298.7822,386.7109,298.7844 M386.7109,298.7844 C387.2947,298.7866,388.644,300.0975,389.9159,299.5642 M389.9159,299.5642 C391.1878,299.0309,393.9482,296.0349,394.3424,295.5848 M394.3424,295.5848 C394.7367,295.1346,391.7939,295.7661,392.2816,296.8631 M392.2816,296.8631 C392.7693,297.9602,395.3798,303.6256,397.2686,302.1671 M397.2686,302.1671 C399.1574,300.7086,403.1203,288.9092,403.6144,288.1121 M403.6144,288.1121 C404.1085,287.3149,399.8831,295.2456,400.2331,297.3842 M400.2331,297.3842 C400.5831,299.5228,404.0399,302.6953,405.7144,300.9438 M405.7144,300.9438 C407.3889,299.1923,409.2109,288.0126,410.2801,286.8753 M410.2801,286.8753 C411.3493,285.738,411.9867,292.1315,412.1295,294.1201 M412.1295,294.1201 C412.2723,296.1087,411.0155,299.0024,411.1372,298.8068 M411.1372,298.8068 C411.2588,298.6113,412.3728,296.0427,412.8595,292.9466 M412.8595,292.9466 C413.3462,289.8506,413.0614,281.5809,414.0574,280.2306 M414.0574,280.2306 C415.0533,278.8803,418.4761,282.1023,418.835,284.8446 M418.835,284.8446 C419.1939,287.587,416.3762,294.9934,416.2106,296.6845 M416.2106,296.6845 C416.0451,298.3757,416.1227,296.4082,417.842,294.9913 M417.842,294.9913 C419.5613,293.5745,424.8272,286.0715,426.5263,288.1835 M426.5263,288.1835 C428.2255,290.2955,426.6381,306.6946,428.0367,307.6634 M428.0367,307.6634 C429.4352,308.6322,434.4696,295.6463,434.9176,293.9961 M434.9176,293.9961 C435.3657,292.3459,430.5924,297.1754,430.725,297.7622 M430.725,297.7622 C430.8575,298.349,434.989,298.3511,435.713,297.5167 M435.713,297.5167 C436.437,296.6823,434.0972,294.5011,435.069,292.7557 M435.069,292.7557 C436.0407,291.0103,439.8506,283.7172,441.5435,287.0441 M441.5435,287.0441 C443.2365,290.371,445.7488,310.6071,445.2267,312.7171 M445.2267,312.7171 C444.7046,314.8271,438.1853,303.3267,438.4109,299.7041 M438.4109,299.7041 C438.6365,296.0814,445.6119,291.642,446.5801,290.981 M446.5801,290.981 C447.5483,290.32,442.9593,294.2763,444.2202,295.7379 M444.2202,295.7379 C445.4811,297.1995,452.2509,298.9358,454.1454,299.7504 M454.1454,299.7504 C456.04,300.5649,456.1097,300.3168,455.5877,300.6249 M455.5877,300.6249 C455.0658,300.9331,451.0644,300.5923,451.0135,301.5994 M451.0135,301.5994 C450.9627,302.6064,454.1442,304.4752,455.2826,306.6674 M455.2826,306.6674 C456.421,308.8595,456.9295,317.2871,457.8439,314.7523 M457.8439,314.7523 C458.7583,312.2175,459.2899,297.7082,460.7692,291.4584 M460.7692,291.4584 C462.2486,285.2085,464.5914,277.1462,466.7199,277.2532 M466.7199,277.2532 C468.8484,277.3603,472.5934,287.9146,473.5404,292.1007 M473.5404,292.1007 C474.4874,296.2867,471.4038,301.9949,472.4017,302.3695 M472.4017,302.3695 C473.3996,302.7441,479.2422,293.331,479.5279,294.3484 M479.5279,294.3484 C479.8136,295.3658,474.0771,311.2178,474.1158,308.474 M474.1158,308.474 C474.1545,305.7301,479.0397,279.818,479.7599,277.8855 M479.7599,277.8855 C480.4801,275.953,477.8304,296.943,478.4369,296.8788 M478.4369,296.8788 C479.0434,296.8147,482.6144,279.2019,483.3991,277.5007 M483.3991,277.5007 C484.1838,275.7995,482.8638,285.1525,483.1451,286.6717 M483.1451,286.6717 C483.4265,288.1909,484.5102,281.3832,485.0872,286.6159 M485.0872,286.6159 C485.6641,291.8487,485.1018,317.6305,486.6069,318.0683 M486.6069,318.0683 C488.112,318.5061,493.3617,290.2973,494.1178,289.2428 M494.1178,289.2428 C494.8739,288.1882,490.9747,311.7929,491.1434,311.7411 M491.1434,311.7411 C491.3121,311.6892,494.3657,291.3073,495.13,288.9316 M495.13,288.9316 C495.8943,286.5559,496.188,296.0638,495.7291,297.4868 M495.7291,297.4868 C495.2703,298.9098,490.9343,298.7816,492.3769,297.4695 M492.3769,297.4695 C493.8195,296.1575,502.6176,290.1786,504.3847,289.6145 M504.3847,289.6145 C506.1517,289.0505,502.3773,292.1142,502.9791,294.0855 M502.9791,294.0855 C503.5808,296.0567,506.478,303.2904,507.9952,301.4421 M507.9952,301.4421 C509.5125,299.5938,511.9096,283.8547,512.0828,282.9956 M512.0828,282.9956 C512.2561,282.1365,508.7693,295.0273,509.0345,296.2873 M509.0345,296.2873 C509.2997,297.5474,513.3255,292.7865,513.6739,290.5559 M513.6739,290.5559 C514.0223,288.3252,509.2766,281.6897,511.1251,282.9035 M511.1251,282.9035 C512.9736,284.1174,523.3099,294.1731,524.7649,297.8389 M524.7649,297.8389 C526.2198,301.5048,519.9064,304.2191,519.8548,304.8986 M519.8548,304.8986 C519.8032,305.5781,522.9817,302.3438,524.4554,301.9156 M524.4554,301.9156 C525.9291,301.4875,528.3502,301.7536,528.6971,302.3297 M528.6971,302.3297 C529.0439,302.9058,525.5941,305.4006,526.5366,305.3724 M526.5366,305.3724 C527.479,305.3442,533.173,304.9355,534.3518,302.1605 M534.3518,302.1605 C535.5306,299.3855,533.2954,292.7992,533.6094,288.7224 M533.6094,288.7224 C533.9234,284.6456,536.4868,279.3237,536.2357,277.6997\" fill=\"none\" stroke=\"rgba(0,0,0,1)\" stroke-miterlimit=\"10\" stroke-width=\"2\"/>\n",
       "<path d=\"M33.2051,326.6212 C36.3183,324.4085,38.1104,323.4263,39.4628,325.7337 M39.4628,325.7337 C40.8152,328.0411,41.3447,340.504,41.3197,340.4656 M41.3197,340.4656 C41.2947,340.4272,37.7374,326.3614,39.3128,325.5034 M39.3128,325.5034 C40.8882,324.6453,48.7427,335.2481,50.7721,335.3173 M50.7721,335.3173 C52.8015,335.3864,50.2721,327.0995,51.4891,325.9183 M51.4891,325.9183 C52.7061,324.7371,56.6318,328.1574,58.074,328.2299 M58.074,328.2299 C59.5161,328.3025,58.4836,326.6429,60.142,326.3536 M60.142,326.3536 C61.8003,326.0643,66.4037,325.8365,68.0241,326.494 M68.0241,326.494 C69.6445,327.1515,68.9602,329.9237,69.8645,330.2985 M69.8645,330.2985 C70.7687,330.6733,72.8878,328.3223,73.4496,328.7431 M73.4496,328.7431 C74.0115,329.1638,71.5293,331.463,73.2353,332.823 M73.2353,332.823 C74.9413,334.183,81.7195,336.5964,83.6856,336.903 M83.6856,336.903 C85.6516,337.2096,85.5309,333.6973,85.0315,334.6628 M85.0315,334.6628 C84.5321,335.6283,78.5327,343.3182,80.6893,342.6959 M80.6893,342.6959 C82.8458,342.0737,95.2036,333.1227,97.9709,330.9294 M97.9709,330.9294 C100.7382,328.736,96.3856,328.9591,97.2931,329.5359 M97.2931,329.5359 C98.2006,330.1127,102.8983,330.9642,103.4159,334.3901 M103.4159,334.3901 C103.9336,337.8159,99.9919,351.501,100.399,350.0911 M100.399,350.0911 C100.8061,348.6811,104.5711,329.0602,105.8583,325.9302 M105.8583,325.9302 C107.1455,322.8002,106.3683,332.905,108.1222,331.311 M108.1222,331.311 C109.8761,329.717,112.7477,318.4314,116.3817,316.3661 M116.3817,316.3661 C120.0157,314.3007,128.3117,315.163,129.9262,318.919 M129.9262,318.919 C131.5408,322.675,125.8571,338.6634,126.0689,338.9022 M126.0689,338.9022 C126.2807,339.1411,129.9074,321.236,131.1972,320.3523 M131.1972,320.3523 C132.487,319.4686,133.4062,332.5788,133.8078,333.6003 M133.8078,333.6003 C134.2093,334.6219,132.8261,325.2982,133.6065,326.4817 M133.6065,326.4817 C134.3869,327.6652,136.373,337.4479,138.49,340.7013 M138.49,340.7013 C140.607,343.9547,145.2405,347.514,146.3084,346.0023 M146.3084,346.0023 C147.3763,344.4907,143.0496,335.2692,144.8975,331.6316 M144.8975,331.6316 C146.7454,327.994,155.9346,324.0077,157.3958,324.177 M157.3958,324.177 C158.8569,324.3463,152.8766,332.0796,153.6646,332.6473 M153.6646,332.6473 C154.4526,333.215,159.6053,328.5354,162.1235,327.5832 M162.1235,327.5832 C164.6418,326.631,167.3874,327.6255,168.7741,326.9344 M168.7741,326.9344 C170.1608,326.2433,171.0638,320.8162,170.4437,323.4364 M170.4437,323.4364 C169.8235,326.0567,163.7324,339.4195,165.0531,342.656 M165.0531,342.656 C166.3737,345.8925,174.6843,345.5685,178.3677,342.8555 M178.3677,342.8555 C182.051,340.1424,185.2467,328.5779,187.1531,326.3779 M187.1531,326.3779 C189.0594,324.1778,189.3672,329.0439,189.8056,329.6552 M189.8056,329.6552 C190.2441,330.2665,188.3136,331.6684,189.7838,330.0457 M189.7838,330.0457 C191.2539,328.4231,196.1551,321.4787,198.6266,319.9194 M198.6266,319.9194 C201.0982,318.36,204.1968,320.0098,204.6129,320.6897 M204.6129,320.6897 C205.029,321.3696,200.2441,323.3593,201.1231,323.9986 M201.1231,323.9986 C202.002,324.638,207.2963,321.6469,209.8865,324.5258 M209.8865,324.5258 C212.4767,327.4046,217.0398,342.4249,216.6642,341.2717 M216.6642,341.2717 C216.2886,340.1185,207.0354,321.3044,207.6328,317.6065 M207.6328,317.6065 C208.2303,313.9085,218.0922,317.7875,220.2488,319.0839 M220.2488,319.0839 C222.4054,320.3802,218.8964,324.9498,220.5725,325.3847 M220.5725,325.3847 C222.2486,325.8195,227.3941,320.8382,230.3053,321.693 M230.3053,321.693 C233.2166,322.5478,237.2559,330.7929,238.04,330.5133 M238.04,330.5133 C238.8241,330.2337,235.4675,318.7603,235.0099,320.0154 M235.0099,320.0154 C234.5523,321.2704,235.2778,335.491,235.2945,338.0436 M235.2945,338.0436 C235.3111,340.5962,232.1279,335.6046,235.1096,335.3311 M235.1096,335.3311 C238.0913,335.0576,249.7851,337.7575,253.1848,336.4025 M253.1848,336.4025 C256.5845,335.0475,253.9659,325.9184,255.5079,327.2011 M255.5079,327.2011 C257.0498,328.4839,262.1221,341.9066,262.4363,344.0991 M262.4363,344.0991 C262.7506,346.2917,256.1102,342.4275,257.3933,340.3563 M257.3933,340.3563 C258.6763,338.2851,269.3957,331.2888,270.1345,331.6719 M270.1345,331.6719 C270.8733,332.0551,261.29,343.6662,261.8262,342.6554 M261.8262,342.6554 C262.3624,341.6446,271.2777,327.5203,273.3518,325.6071 M273.3518,325.6071 C275.4258,323.694,272.7117,329.2162,274.2704,331.1762 M274.2704,331.1762 C275.8291,333.1363,280.6672,335.928,282.7038,337.3674 M282.7038,337.3674 C284.7404,338.8069,285.966,342.0202,286.4899,339.8131 M286.4899,339.8131 C287.0139,337.6059,282.8786,325.2671,285.8474,324.1244 M285.8474,324.1244 C288.8163,322.9816,302.9558,332.5867,304.3031,332.9564 M304.3031,332.9564 C305.6505,333.326,294.8401,325.927,293.9316,326.3421 M293.9316,326.3421 C293.0231,326.7571,297.0787,335.7403,298.8522,335.4467 M298.8522,335.4467 C300.6257,335.1532,303.8165,326.1613,304.5727,324.5809 M304.5727,324.5809 C305.3289,323.0004,301.6738,326.0811,303.3895,325.9641 M303.3895,325.9641 C305.1052,325.847,312.4737,326.5183,314.8667,323.8785 M314.8667,323.8785 C317.2598,321.2387,317.1082,310.0627,317.7478,310.1251 M317.7478,310.1251 C318.3873,310.1875,316.0891,318.1706,318.704,324.2531 M318.704,324.2531 C321.319,330.3355,332.7746,344.3319,333.4376,346.6198 M333.4376,346.6198 C334.1007,348.9077,321.9462,341.0643,322.6823,337.9805 M322.6823,337.9805 C323.4185,334.8967,335.3223,329.8853,337.8544,328.1169 M337.8544,328.1169 C340.3865,326.3486,338.0603,328.1921,337.8751,327.3703 M337.8751,327.3703 C337.6899,326.5485,336.1027,321.2466,336.7434,323.186 M336.7434,323.186 C337.384,325.1254,339.9329,337.3705,341.7189,339.0067 M341.7189,339.0067 C343.5049,340.6429,346.504,331.1341,347.4593,333.0033 M347.4593,333.0033 C348.4147,334.8725,345.699,348.2631,347.4509,350.2219 M347.4509,350.2219 C349.2028,352.1808,354.9692,350.8448,357.9707,344.7564 M357.9707,344.7564 C360.9722,338.668,364.8861,315.0891,365.4598,313.6917 M365.4598,313.6917 C366.0335,312.2943,360.4866,333.2964,361.4131,336.372 M361.4131,336.372 C362.3396,339.4477,367.3177,332.4483,371.0187,332.1455 M371.0187,332.1455 C374.7196,331.8426,381.6257,332.8328,383.6189,334.5551 M383.6189,334.5551 C385.6121,336.2774,383.7335,342.1392,382.9778,342.4794 M382.9778,342.4794 C382.222,342.8196,377.1952,341.1397,379.0844,336.5963 M379.0844,336.5963 C380.9737,332.053,392.7332,315.8555,394.3131,315.2191 M394.3131,315.2191 C395.8931,314.5827,389.2028,330.5647,388.564,332.778 M388.564,332.778 C387.9251,334.9914,388.4278,326.0949,390.4798,328.4994 M390.4798,328.4994 C392.5319,330.904,399.2268,347.5061,400.8764,347.2055 M400.8764,347.2055 C402.526,346.905,397.6416,326.7135,400.3777,326.6962 M400.3777,326.6962 C403.1138,326.6788,416.2222,345.6903,417.293,347.1013 M417.293,347.1013 C418.3639,348.5124,406.9411,337.4793,406.8028,335.1626 M406.8028,335.1626 C406.6644,332.846,415.056,334.4632,416.4629,333.2017 M416.4629,333.2017 C417.8698,331.9402,413.8544,328.3348,415.2443,327.5937 M415.2443,327.5937 C416.6341,326.8527,422.2631,328.028,424.8021,328.7553 M424.8021,328.7553 C427.341,329.4826,428.0567,333.1659,430.478,331.9577 M430.478,331.9577 C432.8992,330.7494,438.6315,322.5718,439.3293,321.5058 M439.3293,321.5058 C440.0272,320.4399,434.8377,324.6947,434.6649,325.5622 M434.6649,325.5622 C434.492,326.4297,437.2697,327.5205,438.2923,326.711 M438.2923,326.711 C439.3148,325.9014,439.7081,320.4308,440.8003,320.7047 M440.8003,320.7047 C441.8925,320.9786,443.8271,325.0677,444.8454,328.3542 M444.8454,328.3542 C445.8637,331.6408,445.848,340.2841,446.9101,340.4239 M446.9101,340.4239 C447.9721,340.5638,447.6614,332.23,451.2176,329.1934 M451.2176,329.1934 C454.7739,326.1568,465.9315,322.5393,468.2475,322.2044 M468.2475,322.2044 C470.5634,321.8695,465.0118,327.6533,465.1133,327.184 M465.1133,327.184 C465.2147,326.7147,466.5856,320.5297,468.8561,319.3885 M468.8561,319.3885 C471.1267,318.2473,477.1383,320.1211,478.7367,320.337 M478.7367,320.337 C480.3351,320.5528,477.0339,318.7465,478.4466,320.6835 M478.4466,320.6835 C479.8594,322.6206,485.685,328.4317,487.2131,331.9594 M487.2131,331.9594 C488.7412,335.4872,487.0588,341.8998,487.6153,341.85 M487.6153,341.85 C488.1718,341.8002,489.357,335.6093,490.5521,331.6606 M490.5521,331.6606 C491.7472,327.7119,494.0175,319.5739,494.7861,318.1579 M494.7861,318.1579 C495.5546,316.7418,493.3273,322.092,495.1632,323.1642 M495.1632,323.1642 C496.9991,324.2364,504.2999,322.3656,505.8014,324.5911 M505.8014,324.5911 C507.3028,326.8166,503.4214,334.5033,504.1719,336.5173 M504.1719,336.5173 C504.9223,338.5314,509.2545,340.1834,510.304,336.6756 M510.304,336.6756 C511.3536,333.1678,508.8291,316.5238,510.4694,315.4706 M510.4694,315.4706 C512.1096,314.4173,517.7582,329.942,520.1454,330.3559 M520.1454,330.3559 C522.5327,330.7698,523.3519,315.9475,524.793,317.954 M524.793,317.954 C526.2342,319.9605,527.5705,341.7912,528.7923,342.3952 M528.7923,342.3952 C530.014,342.9992,531.2998,324.2606,532.1236,321.5781\" fill=\"none\" stroke=\"rgba(0,0,0,1)\" stroke-miterlimit=\"10\" stroke-width=\"2\"/>\n",
       "<path d=\"M31.8965,377.6099 C32.6477,377.994,34.8058,368.5323,35.7381,364.3685 M35.7381,364.3685 C36.6704,360.2048,37.8181,351.3042,37.4902,352.6273 M37.4902,352.6273 C37.1623,353.9504,32.6922,369.9023,33.7706,372.3071 M33.7706,372.3071 C34.849,374.7119,43.3263,369.0735,43.9605,367.0561 M43.9605,367.0561 C44.5947,365.0386,37.3977,361.7558,37.5759,360.2025 M37.5759,360.2025 C37.754,358.6493,43.4413,357.8782,45.0293,357.7365 M45.0293,357.7365 C46.6172,357.5947,45.6774,357.1941,47.1035,359.3519 M47.1035,359.3519 C48.5297,361.5097,53.4407,369.1266,53.5863,370.6832 M53.5863,370.6832 C53.7319,372.2398,47.0217,368.997,47.977,368.6914 M47.977,368.6914 C48.9324,368.3857,58.2854,370.3018,59.3185,368.8495 M59.3185,368.8495 C60.3515,367.3971,53.7793,360.2847,54.1755,359.9771 M54.1755,359.9771 C54.5716,359.6695,59.0253,367.7671,61.6954,367.0038 M61.6954,367.0038 C64.3654,366.2405,70.2658,357.0435,70.196,355.3974 M70.196,355.3974 C70.1262,353.7514,61.8917,357.7462,61.2764,357.1275 M61.2764,357.1275 C60.6611,356.5088,65.1223,351.1777,66.5039,351.6853 M66.5039,351.6853 C67.8856,352.1929,68.3914,356.0132,69.5665,360.1729 M69.5665,360.1729 C70.7417,364.3326,71.9934,374.691,73.5548,376.6438 M73.5548,376.6438 C75.1162,378.5966,76.7896,373.548,78.9349,371.8898 M78.9349,371.8898 C81.0802,370.2317,86.5787,368.7737,86.4267,366.6951 M86.4267,366.6951 C86.2747,364.6164,78.3177,360.1219,78.0227,359.4182 M78.0227,359.4182 C77.7277,358.7145,83.3878,362.7459,84.6566,362.4728 M84.6566,362.4728 C85.9255,362.1997,83.4066,357.6204,85.6358,357.7795 M85.6358,357.7795 C87.865,357.9386,94.7932,359.7484,98.0317,363.4273 M98.0317,363.4273 C101.2703,367.1062,105.5184,376.4897,105.0672,379.8529 M105.0672,379.8529 C104.616,383.2161,95.6958,387.1325,95.3247,383.6066 M95.3247,383.6066 C94.9535,380.0808,99.9999,361.4964,102.8405,358.6978 M102.8405,358.6978 C105.6811,355.8991,111.5783,365.0353,112.3682,366.8146 M112.3682,366.8146 C113.158,368.5938,108.49,371.2846,107.5798,369.3734 M107.5798,369.3734 C106.6696,367.4623,106.9064,356.4065,106.9071,355.3476 M106.9071,355.3476 C106.9078,354.2888,105.8791,361.1769,107.5841,363.0204 M107.5841,363.0204 C109.289,364.8638,115.2761,367.5562,117.1368,366.4083 M117.1368,366.4083 C118.9976,365.2604,116.8296,356.3167,118.7485,356.1329 M118.7485,356.1329 C120.6675,355.9492,127.7361,363.32,128.6505,365.3058 M128.6505,365.3058 C129.565,367.2915,124.8579,365.9675,124.2354,368.0474 M124.2354,368.0474 C123.6129,370.1273,123.5509,379.3352,124.9156,377.7852 M124.9156,377.7852 C126.2803,376.2351,130.9846,359.5594,132.4236,358.7472 M132.4236,358.7472 C133.8626,357.9349,131.8192,371.6962,133.5496,372.9117 M133.5496,372.9117 C135.28,374.1273,141.9378,366.5538,142.806,366.0402 M142.806,366.0402 C143.6742,365.5266,139.3697,370.8668,138.7585,369.8303 M138.7585,369.8303 C138.1474,368.7938,137.6649,361.6595,139.139,359.8211 M139.139,359.8211 C140.6131,357.9827,145.8334,359.6427,147.6033,358.8001 M147.6033,358.8001 C149.3731,357.9574,150.0664,352.6272,149.7582,354.7653 M149.7582,354.7653 C149.4499,356.9034,146.8643,371.5031,145.7536,371.6289 M145.7536,371.6289 C144.6428,371.7546,142.4517,356.5935,143.0937,355.5197 M143.0937,355.5197 C143.7356,354.4459,147.4134,363.5357,149.6054,365.186 M149.6054,365.186 C151.7973,366.8362,155.0653,367.4482,156.2453,365.4214 M156.2453,365.4214 C157.4253,363.3947,154.9262,353.2453,156.6851,353.0256 M156.6851,353.0256 C158.444,352.8059,165.7241,363.1687,166.7986,364.1033 M166.7986,364.1033 C167.8732,365.0378,163.4054,360.6349,163.1322,358.633 M163.1322,358.633 C162.8589,356.6311,164.1295,352.5003,165.159,352.0918 M165.159,352.0918 C166.1885,351.6833,167.4723,353.606,169.3093,356.1818 M169.3093,356.1818 C171.1464,358.7576,175.3087,363.1695,176.1813,367.5466 M176.1813,367.5466 C177.0538,371.9237,173.2051,383.9669,174.5446,382.4447 M174.5446,382.4447 C175.884,380.9225,182.7853,361.9374,184.218,358.4133 M184.218,358.4133 C185.6507,354.8892,184.6027,361.9574,183.1407,361.2999 M183.1407,361.2999 C181.6788,360.6425,174.6758,355.062,175.4463,354.4685 M175.4463,354.4685 C176.2168,353.8751,185.0573,357.6457,187.7637,357.7392 M187.7637,357.7392 C190.47,357.8326,191.1422,353.9163,191.6843,355.0292 M191.6843,355.0292 C192.2264,356.1421,190.1748,363.2382,191.0161,364.4165 M191.0161,364.4165 C191.8573,365.5947,195.594,363.4669,196.732,362.0986 M196.732,362.0986 C197.8699,360.7303,197.144,357.8257,197.8438,356.2068 M197.8438,356.2068 C198.5436,354.5878,200.1213,350.0499,200.9307,352.3849 M200.9307,352.3849 C201.7401,354.7198,200.9933,367.725,202.7,370.2164 M202.7,370.2164 C204.4068,372.7078,210.0362,368.932,211.1713,367.3332 M211.1713,367.3332 C212.3065,365.7345,210.0915,360.2636,209.5108,360.6237 M209.5108,360.6237 C208.9301,360.9838,206.63,368.6784,207.6871,369.4938 M207.6871,369.4938 C208.7442,370.3092,215.2325,365.574,215.8534,365.5161 M215.8534,365.5161 C216.4744,365.4582,211.2243,367.7757,211.4128,369.1463 M211.4128,369.1463 C211.6014,370.5169,214.9373,374.8778,216.9849,373.7399 M216.9849,373.7399 C219.0324,372.602,221.606,362.7262,223.698,362.319 M223.698,362.319 C225.7899,361.9117,229.4454,371.4664,229.5368,371.2964 M229.5368,371.2964 C229.6282,371.1265,224.6649,361.8864,224.2465,361.2992 M224.2465,361.2992 C223.8281,360.7121,225.8572,366.9371,227.0264,367.7735 M227.0264,367.7735 C228.1956,368.6099,229.4777,366.6288,231.2614,366.3175 M231.2614,366.3175 C233.0452,366.0062,237.8209,368.5063,237.729,365.9059 M237.729,365.9059 C237.6372,363.3054,230.1887,353.4259,230.7102,350.715 M230.7102,350.715 C231.2318,348.004,238.8455,349.3576,240.8582,349.64 M240.8582,349.64 C242.8709,349.9225,242.1098,351.2776,242.7865,352.4096 M242.7865,352.4096 C243.4632,353.5417,244.1337,352.9887,244.9184,356.4323 M244.9184,356.4323 C245.703,359.8759,245.8868,371.7521,247.4944,373.0711 M247.4944,373.0711 C249.102,374.3901,254.079,366.4015,254.5642,364.3463 M254.5642,364.3463 C255.0494,362.2912,251.0688,359.6521,250.4054,360.7404 M250.4054,360.7404 C249.7421,361.8287,249.3368,372.8895,250.5843,370.8762 M250.5843,370.8762 C251.8318,368.8629,255.564,348.3537,257.8905,348.6606 M257.8905,348.6606 C260.2169,348.9674,262.8212,371.066,264.5431,372.7171 M264.5431,372.7171 C266.265,374.3682,267.4196,358.4689,268.2217,358.5672 M268.2217,358.5672 C269.0239,358.6654,269.6277,371.1032,269.356,373.3066 M269.356,373.3066 C269.0844,375.5101,265.7937,373.4071,266.5917,371.788 M266.5917,371.788 C267.3898,370.1688,272.3389,367.4569,274.1444,363.5918 M274.1444,363.5918 C275.95,359.7266,278.0614,350.271,277.4249,348.597 M277.4249,348.597 C276.7884,346.923,268.9269,353.1054,270.3256,353.5479 M270.3256,353.5479 C271.7244,353.9903,283.9743,347.8796,285.8175,351.2519 M285.8175,351.2519 C287.6607,354.6243,281.265,370.8087,281.385,373.7821 M281.385,373.7821 C281.5051,376.7554,286.145,373.2547,286.5377,369.0922 M286.5377,369.0922 C286.9304,364.9296,282.7935,349.099,283.7411,348.8067 M283.7411,348.8067 C284.6888,348.5144,290.6104,364.674,292.2234,367.3382 M292.2234,367.3382 C293.8365,370.0025,291.7799,366.7387,293.4192,364.7923 M293.4192,364.7923 C295.0585,362.8458,301.8226,358.0151,302.0592,355.6595 M302.0592,355.6595 C302.2959,353.3039,294.5925,350.7267,294.8391,350.6587 M294.8391,350.6587 C295.0857,350.5907,301.7511,354.1989,303.5388,355.2516 M303.5388,355.2516 C305.3266,356.3044,304.8645,356.2437,305.5654,356.975 M305.5654,356.975 C306.2663,357.7064,306.8363,358.421,307.7443,359.6396 M307.7443,359.6396 C308.6522,360.8583,308.9875,363.7648,311.0131,364.287 M311.0131,364.287 C313.0388,364.8092,318.7269,363.3954,319.8983,362.7729 M319.8983,362.7729 C321.0697,362.1503,318.4475,360.6654,318.0416,360.5514 M318.0416,360.5514 C317.6356,360.4375,317.0581,361.6274,317.4625,362.089 M317.4625,362.089 C317.867,362.5506,318.6066,362.8126,320.4684,363.3212 M320.4684,363.3212 C322.3302,363.8297,328.568,365.9113,328.6333,365.1403 M328.6333,365.1403 C328.6985,364.3693,319.8454,357.548,320.8597,358.6951 M320.8597,358.6951 C321.8741,359.8423,332.948,369.8102,334.7193,372.0231 M334.7193,372.0231 C336.4905,374.2361,331.6087,374.2412,331.4873,371.9731 M331.4873,371.9731 C331.366,369.7049,332.7986,360.7395,333.9913,358.4142 M333.9913,358.4142 C335.184,356.089,337.683,356.7942,338.6434,358.0215 M338.6434,358.0215 C339.6037,359.2488,339.613,366.1985,339.7533,365.7779 M339.7533,365.7779 C339.8936,365.3573,337.0461,356.0085,339.4851,355.4978 M339.4851,355.4978 C341.924,354.9871,352.7493,361.2259,354.387,362.7138 M354.387,362.7138 C356.0248,364.2016,349.6476,364.0905,349.3116,364.425 M349.3116,364.425 C348.9756,364.7595,351.1978,365.2003,352.3709,364.7207 M352.3709,364.7207 C353.5441,364.2412,355.7398,361.872,356.3503,361.5478 M356.3503,361.5478 C356.9609,361.2236,354.2925,364.1513,356.0342,362.7757 M356.0342,362.7757 C357.7759,361.4001,365.6089,353.6784,366.8004,353.2944 M366.8004,353.2944 C367.992,352.9103,363.5614,359.4059,363.1834,360.4712 M363.1834,360.4712 C362.8055,361.5364,363.3862,361.7622,364.533,359.6859 M364.533,359.6859 C365.6797,357.6096,369.1081,350.1423,370.0641,348.0132 M370.0641,348.0132 C371.0201,345.8842,369.4922,345.6015,370.2689,346.9114 M370.2689,346.9114 C371.0457,348.2214,373.941,355.0845,374.7244,355.8728 M374.7244,355.8728 C375.5078,356.6611,375.5331,350.7178,374.9694,351.6412 M374.9694,351.6412 C374.4056,352.5646,369.7369,358.464,371.342,361.4132 M371.342,361.4132 C372.9471,364.3623,381.3697,371.8272,384.6,369.3363 M384.6,369.3363 C387.8302,366.8453,390.3565,346.5346,390.7236,346.4674 M390.7236,346.4674 C391.0907,346.4002,386.8599,365.9576,386.8026,368.9328 M386.8026,368.9328 C386.7454,371.908,388.5737,364.562,390.38,364.3185 M390.38,364.3185 C392.1863,364.0751,396.1887,365.432,397.6402,367.4719 M397.6402,367.4719 C399.0917,369.5118,398.4933,376.7247,399.089,376.558 M399.089,376.558 C399.6847,376.3912,401.8147,371.0134,401.2141,366.4717 M401.2141,366.4717 C400.6136,361.93,395.2669,349.6197,395.4858,349.3077 M395.4858,349.3077 C395.7047,348.9957,401.0703,363.73,402.5278,364.5997 M402.5278,364.5997 C403.9853,365.4695,403.99,355.9508,404.2307,354.5262 M404.2307,354.5262 C404.4714,353.1016,402.5166,355.3735,403.972,356.052 M403.972,356.052 C405.4274,356.7304,412.9058,358.5877,412.963,358.5969 M412.963,358.5969 C413.0201,358.606,403.3432,354.8697,404.3148,356.1069 M404.3148,356.1069 C405.2864,357.3441,416.0145,362.6122,418.7925,366.0202 M418.7925,366.0202 C421.5705,369.4283,421.9372,376.4718,420.9827,376.5552 M420.9827,376.5552 C420.0282,376.6385,412.3515,369.4912,413.0654,366.5204 M413.0654,366.5204 C413.7792,363.5496,423.3144,358.6683,425.2657,358.7303 M425.2657,358.7303 C427.217,358.7922,423.682,366.8055,424.7733,366.8922 M424.7733,366.8922 C425.8646,366.9789,430.5962,361.8693,431.8132,359.2507 M431.8132,359.2507 C433.0302,356.632,431.2261,351.0597,432.0752,351.1805 M432.0752,351.1805 C432.9244,351.3012,435.5838,359.9328,436.9082,359.9753 M436.9082,359.9753 C438.2326,360.0178,438.5237,350.9497,440.0216,351.4356 M440.0216,351.4356 C441.5196,351.9214,444.9569,361.7542,445.8961,362.8906 M445.8961,362.8906 C446.8353,364.0271,445.2801,359.5248,445.6569,358.2543 M445.6569,358.2543 C446.0338,356.9837,446.4445,356.5914,448.1573,355.2673 M448.1573,355.2673 C449.87,353.9431,455.9029,346.352,455.9334,350.3093 M455.9334,350.3093 C455.9639,354.2666,447.8384,376.9438,448.3403,379.011 M448.3403,379.011 C448.8421,381.0783,457.5145,368.0339,458.9443,362.7127 M458.9443,362.7127 C460.374,357.3916,455.9543,346.132,456.9188,347.0842 M456.9188,347.0842 C457.8834,348.0364,462.7955,364.3892,464.7316,368.4261 M464.7316,368.4261 C466.6677,372.463,467.7407,372.7206,468.5354,371.3054 M468.5354,371.3054 C469.33,369.8902,469.2993,362.3805,469.4997,359.9347 M469.4997,359.9347 C469.7001,357.4888,469.3718,357.6336,469.7377,356.6303 M469.7377,356.6303 C470.1036,355.627,469.9531,350.852,471.6953,353.915 M471.6953,353.915 C473.4375,356.9781,478.934,374.8526,480.191,375.0085 M480.191,375.0085 C481.448,375.1645,479.6522,355.0135,479.2375,354.8509 M479.2375,354.8509 C478.8227,354.6883,477.4006,371.562,477.7022,374.0331 M477.7022,374.0331 C478.0039,376.5043,479.7153,370.0295,481.0475,369.6777 M481.0475,369.6777 C482.3796,369.326,483.4653,372.4851,485.6952,371.9227 M485.6952,371.9227 C487.9251,371.3603,493.1259,367.9173,494.4267,366.3032 M494.4267,366.3032 C495.7275,364.6891,493.6567,364.2644,493.5001,362.238 M493.5001,362.238 C493.3435,360.2117,491.7425,355.2997,493.4871,354.145 M493.4871,354.145 C495.2316,352.9902,502.4576,352.7929,503.9674,355.3095 M503.9674,355.3095 C505.4772,357.8261,502.2813,368.3955,502.5459,369.2444 M502.5459,369.2444 C502.8105,370.0933,503.891,362.0636,505.555,360.403 M505.555,360.403 C507.2189,358.7424,511.9382,358.9169,512.5295,359.281 M512.5295,359.281 C513.1209,359.6452,510.3796,362.8261,509.103,362.5877 M509.103,362.5877 C507.8264,362.3493,504.7299,355.3195,504.8701,357.8507 M504.8701,357.8507 C505.0102,360.382,509.0762,377.5443,509.9439,377.7752 M509.9439,377.7752 C510.8116,378.0062,508.2201,361.8265,510.0764,359.2364 M510.0764,359.2364 C511.9326,356.6463,518.7252,364.6249,521.0816,362.2348 M521.0816,362.2348 C523.438,359.8446,525.6796,344.9216,524.2148,344.8955 M524.2148,344.8955 C522.75,344.8694,512.0271,359.8606,512.2928,362.0783 M512.2928,362.0783 C512.5586,364.296,522.19,358.5273,525.8095,358.2018 M525.8095,358.2018 C529.429,357.8762,533.145,358.1483,534.01,360.1249 M534.01,360.1249 C534.8751,362.1015,530.5392,371.5958,530.9997,370.0615\" fill=\"none\" stroke=\"rgba(0,0,0,1)\" stroke-miterlimit=\"10\" stroke-width=\"2\"/>\n",
       "<path d=\"M36.837,388.4669 C38.0254,389.3551,27.7017,389.5021,29.3603,389.1243 M29.3603,389.1243 C31.0188,388.7464,45.3892,385.6951,46.7883,386.1998 M46.7883,386.1998 C48.1874,386.7044,37.6424,392.6011,37.755,392.1521 M37.755,392.1521 C37.8675,391.7031,45.1404,384.1104,47.4634,383.5058 M47.4634,383.5058 C49.7864,382.9012,52.0923,389.5451,51.6928,388.5244 M51.6928,388.5244 C51.2933,387.5036,43.1339,375.7845,45.0666,377.3814 M45.0666,377.3814 C46.9993,378.9783,59.6384,395.9666,63.289,398.1057 M63.289,398.1057 C66.9396,400.2449,67.6104,392.0721,66.9699,390.2162 M66.9699,390.2162 C66.3294,388.3602,59.7076,388.4676,59.446,386.9701 M59.446,386.9701 C59.1844,385.4726,64.0208,378.8283,65.4003,381.2312 M65.4003,381.2312 C66.7798,383.6342,68.1578,397.9324,67.7229,401.388 M67.7229,401.388 C67.288,404.8435,63.5237,401.837,62.7907,401.9645 M62.7907,401.9645 C62.0576,402.092,60.6476,403.81,63.3247,402.153 M63.3247,402.153 C66.0017,400.496,75.49,395.4701,78.8532,392.0222 M78.8532,392.0222 C82.2164,388.5743,82.8218,383.3464,83.5039,381.4656 M83.5039,381.4656 C84.1861,379.5849,82.0381,379.3055,82.9459,380.7379 M82.9459,380.7379 C83.8538,382.1703,88.5019,387.9918,88.9509,390.0598 M88.9509,390.0598 C89.3999,392.1278,85.2172,391.2154,85.64,393.1458 M85.64,393.1458 C86.0627,395.0763,88.701,402.3563,91.4874,401.6424 M91.4874,401.6424 C94.2739,400.9285,101.7577,390.4809,102.3586,388.8626 M102.3586,388.8626 C102.9594,387.2443,96.1101,390.3177,95.0925,391.9326 M95.0925,391.9326 C94.0749,393.5475,95.3999,393.6978,96.2533,398.552 M96.2533,398.552 C97.1066,403.4062,98.1754,420.9096,100.2127,421.0578 M100.2127,421.0578 C102.2501,421.206,107.0784,403.9058,108.4772,399.4409 M108.4772,399.4409 C109.8761,394.976,106.0711,394.9771,108.6057,394.2685 M108.6057,394.2685 C111.1403,393.5599,121.3468,393.5561,123.6851,395.1894 M123.6851,395.1894 C126.0234,396.8226,122.1169,403.4188,122.6354,404.0679 M122.6354,404.0679 C123.1539,404.717,128.0429,399.2042,126.7959,399.0839 M126.7959,399.0839 C125.549,398.9637,115.8317,407.4503,115.1537,403.3464 M115.1537,403.3464 C114.4756,399.2425,120.667,374.7471,122.7276,374.4603 M122.7276,374.4603 C124.7882,374.1735,127.4102,401.2654,127.5171,401.6256 M127.5171,401.6256 C127.624,401.9859,120.9297,377.9639,123.3692,376.6219 M123.3692,376.6219 C125.8087,375.28,139.7944,391.5446,142.1541,393.5738 M142.1541,393.5738 C144.5138,395.6031,138.0229,386.5892,137.5272,388.7973 M137.5272,388.7973 C137.0314,391.0053,138.1367,404.9069,139.1796,406.8221 M139.1796,406.8221 C140.2224,408.7374,142.1389,401.955,143.7843,400.2885 M143.7843,400.2885 C145.4298,398.6221,148.9853,400.4062,149.0524,396.8236 M149.0524,396.8236 C149.1195,393.2411,143.6563,378.9582,144.187,378.793 M144.187,378.793 C144.7176,378.6279,150.0535,395.3047,152.2362,395.8329 M152.2362,395.8329 C154.4189,396.361,155.9781,385.5594,157.2832,381.962 M157.2832,381.962 C158.5883,378.3645,159.0618,373.6591,160.0669,374.2483 M160.0669,374.2483 C161.072,374.8375,161.3486,382.8963,163.3136,385.4973 M163.3136,385.4973 C165.2787,388.0983,171.294,390.4286,171.8572,389.8541 M171.8572,389.8541 C172.4204,389.2797,167.0042,382.053,166.6929,382.0507 M166.6929,382.0507 C166.3816,382.0484,168.8086,386.9251,169.9895,389.8402 M169.9895,389.8402 C171.1704,392.7553,170.8263,397.1933,173.778,399.5411 M173.778,399.5411 C176.7297,401.8889,184.4685,405.1961,187.6999,403.927 M187.6999,403.927 C190.9314,402.658,193.8971,392.6464,193.1668,391.927 M193.1668,391.927 C192.4364,391.2076,183.5686,396.5171,183.318,399.6108 M183.318,399.6108 C183.0673,402.7045,190.869,410.1554,191.663,410.4892 M191.663,410.4892 C192.4569,410.823,187.7618,404.039,188.0817,401.6135 M188.0817,401.6135 C188.4017,399.1881,192.1819,397.1403,193.5826,395.9363 M193.5826,395.9363 C194.9832,394.7323,195.2612,394.6713,196.4857,394.3896 M196.4857,394.3896 C197.7101,394.108,198.5871,393.6798,200.9292,394.2465 M200.9292,394.2465 C203.2714,394.8131,209.5334,396.2485,210.5385,397.7893 M210.5385,397.7893 C211.5435,399.3301,208.0831,403.8977,206.9595,403.4911 M206.9595,403.4911 C205.8359,403.0844,201.8478,397.0429,203.7967,395.3495 M203.7967,395.3495 C205.7457,393.6561,217.235,393.5008,218.6531,393.3307 M218.6531,393.3307 C220.0713,393.1605,211.1993,392.9338,212.3057,394.3285 M212.3057,394.3285 C213.4121,395.7232,225.3807,400.3865,225.2916,401.6987 M225.2916,401.6987 C225.2024,403.0109,209.2461,402.9277,211.7708,402.2016 M211.7708,402.2016 C214.2955,401.4756,236.6652,397.9904,240.4397,397.3425 M240.4397,397.3425 C244.2143,396.6946,235.2424,398.4247,234.4182,398.314 M234.4182,398.314 C233.594,398.2032,235.3075,396.6696,235.4943,396.6779 M235.4943,396.6779 C235.6811,396.6862,233.7285,398.7229,235.5388,398.3637 M235.5388,398.3637 C237.3492,398.0046,245.0375,395.0127,246.3564,394.523 M246.3564,394.523 C247.6753,394.0333,244.4037,393.9567,243.4522,395.4256 M243.4522,395.4256 C242.5006,396.8944,240.0458,403.4027,240.647,403.336 M240.647,403.336 C241.2482,403.2693,243.7294,397.3473,247.0595,395.0252 M247.0595,395.0252 C250.3897,392.7031,259.1058,387.9292,260.6279,389.4034 M260.6279,389.4034 C262.15,390.8775,257.3735,402.8814,256.1921,403.8703 M256.1921,403.8703 C255.0108,404.8593,254.0737,398.7118,253.54,395.3371 M253.54,395.3371 C253.0062,391.9623,250.9947,382.9547,252.9897,383.6217 M252.9897,383.6217 C254.9846,384.2888,262.6877,400.0113,265.5097,399.3394 M265.5097,399.3394 C268.3316,398.6676,269.06,380.0129,269.9214,379.5907 M269.9214,379.5907 C270.7827,379.1684,270.7129,395.2468,270.6775,396.806 M270.6775,396.806 C270.6422,398.3651,268.6545,388.5477,269.7091,388.9453 M269.7091,388.9453 C270.7637,389.343,274.3364,397.2189,277.0049,399.1918 M277.0049,399.1918 C279.6734,401.1647,283.9114,403.5936,285.7201,400.7828 M285.7201,400.7828 C287.5287,397.9719,287.8007,385.4131,287.8567,382.3267 M287.8567,382.3267 C287.9128,379.2404,285.247,380.8332,286.0563,382.2647 M286.0563,382.2647 C286.8655,383.6961,292.3215,387.9979,292.7121,390.9155 M292.7121,390.9155 C293.1026,393.8331,287.4139,399.7431,288.3995,399.7704 M288.3995,399.7704 C289.3852,399.7976,296.5032,392.2036,298.626,391.079 M298.626,391.079 C300.7489,389.9544,301.2375,390.6077,301.1367,393.0227 M301.1367,393.0227 C301.036,395.4377,296.8543,409.1942,298.0216,405.5689 M298.0216,405.5689 C299.1889,401.9437,308.0126,373.0403,308.1407,371.2714 M308.1407,371.2714 C308.2687,369.5025,298.413,390.1227,298.79,394.9556 M298.79,394.9556 C299.1669,399.7885,306.6738,399.4549,310.4021,400.2688 M310.4021,400.2688 C314.1304,401.0826,319.263,400.2735,321.1598,399.8388 M321.1598,399.8388 C323.0566,399.404,322.3495,398.385,321.7828,397.6601 M321.7828,397.6601 C321.2162,396.9352,317.0075,393.7116,317.7597,395.4893 M317.7597,395.4893 C318.5119,397.2669,324.6941,406.2697,326.2961,408.326 M326.2961,408.326 C327.898,410.3824,326.0657,411.4073,327.3715,407.8274 M327.3715,407.8274 C328.6773,404.2475,333.2623,390.2457,334.1311,386.8467 M334.1311,386.8467 C334.9999,383.4478,331.9511,388.7273,332.5842,387.4336 M332.5842,387.4336 C333.2174,386.14,336.0944,377.5362,337.9297,379.0846 M337.9297,379.0846 C339.7651,380.633,342.3261,393.9215,343.5963,396.7241 M343.5963,396.7241 C344.8665,399.5267,344.2261,397.5525,345.5508,395.9002 M345.5508,395.9002 C346.8756,394.2478,350.5153,386.8769,351.5448,386.8101 M351.5448,386.8101 C352.5744,386.7433,351.6735,394.9197,351.7282,395.4992 M351.7282,395.4992 C351.783,396.0788,351.347,392.0465,351.8733,390.2873 M351.8733,390.2873 C352.3996,388.5281,354.2076,382.3718,354.8863,384.9442 M354.8863,384.9442 C355.5649,387.5166,355.0261,402.0068,355.9452,405.7217 M355.9452,405.7217 C356.8642,409.4365,358.0723,411.6487,360.4005,407.2333 M360.4005,407.2333 C362.7288,402.8179,368.4276,383.0603,369.9146,379.2293 M369.9146,379.2293 C371.4017,375.3982,369.9678,384.3125,369.323,384.2471 M369.323,384.2471 C368.6782,384.1817,366.3863,375.0097,366.0458,378.8368 M366.0458,378.8368 C365.7054,382.664,366.1862,404.8564,367.2802,407.2099 M367.2802,407.2099 C368.3743,409.5633,369.585,393.7525,372.6099,392.9573 M372.6099,392.9573 C375.6349,392.1622,385.1403,400.9273,385.4298,402.4391 M385.4298,402.4391 C385.7193,403.951,372.5091,404.2254,374.3469,402.0283 M374.3469,402.0283 C376.1847,399.8312,393.5371,390.5137,396.4567,389.2565 M396.4567,389.2565 C399.3763,387.9992,392.1393,392.8225,391.8646,394.4849 M391.8646,394.4849 C391.5899,396.1473,393.8489,399.2119,394.8086,399.231 M394.8086,399.231 C395.7683,399.25,396.6791,393.0448,397.6228,394.5991 M397.6228,394.5991 C398.5665,396.1534,398.8805,409.2293,400.4706,408.5566 M400.4706,408.5566 C402.0608,407.8838,405.8248,390.8967,407.1636,390.5627 M407.1636,390.5627 C408.5023,390.2288,408.5442,406.3635,408.5031,406.5528 M408.5031,406.5528 C408.462,406.7421,406.0587,394.647,406.9167,391.6987 M406.9167,391.6987 C407.7747,388.7504,411.6018,389.7424,413.6513,388.863 M413.6513,388.863 C415.7007,387.9835,419.5388,385.3881,419.2134,386.4219 M419.2134,386.4219 C418.8881,387.4558,411.7786,392.4142,411.6991,395.066 M411.6991,395.066 C411.6196,397.7178,415.8812,402.0752,418.7363,402.3325 M418.7363,402.3325 C421.5915,402.5898,426.0524,399.0317,428.8301,396.6098 M428.8301,396.6098 C431.6077,394.188,435.2353,387.7744,435.4022,387.8014 M435.4022,387.8014 C435.569,387.8285,429.3632,395.0384,429.8312,396.7721 M429.8312,396.7721 C430.2991,398.5057,437.2669,398.187,438.21,398.2035 M438.21,398.2035 C439.153,398.2201,434.5227,397.5329,435.4895,396.8715 M435.4895,396.8715 C436.4564,396.2101,443.3533,392.096,444.0111,394.2353 M444.0111,394.2353 C444.6689,396.3746,439.8473,407.3758,439.4363,409.7073 M439.4363,409.7073 C439.0253,412.0388,440.6616,408.3225,441.545,408.2241 M441.545,408.2241 C442.4284,408.1257,441.9884,411.4641,444.7367,409.1169 M444.7367,409.1169 C447.4851,406.7697,456.5215,395.3712,458.0351,394.141 M458.0351,394.141 C459.5488,392.9107,454.3725,400.4986,453.8186,401.7355 M453.8186,401.7355 C453.2647,402.9725,452.6184,400.5103,454.7117,401.5626 M454.7117,401.5626 C456.8051,402.6148,465.3299,407.0084,466.3788,408.0489 M466.3788,408.0489 C467.4276,409.0895,459.8735,411.305,461.0048,407.8058 M461.0048,407.8058 C462.1361,404.3067,471.9215,391.9174,473.1666,387.0539 M473.1666,387.0539 C474.4117,382.1905,467.6467,379.6964,468.4752,378.6251 M468.4752,378.6251 C469.3038,377.5539,476.3438,376.4601,478.138,380.6265 M478.138,380.6265 C479.9322,384.793,478.3758,400.7065,479.2404,403.6238 M479.2404,403.6238 C480.105,406.541,481.9335,401.6096,483.3256,398.1302 M483.3256,398.1302 C484.7177,394.6509,485.3499,384.6851,487.593,382.7476 M487.593,382.7476 C489.8361,380.8102,496.263,384.9904,496.7843,386.5056 M496.7843,386.5056 C497.3055,388.0208,491.1766,390.0347,490.7207,391.8389 M490.7207,391.8389 C490.2647,393.6431,493.3631,396.8169,494.0486,397.3308 M494.0486,397.3308 C494.7342,397.8446,493.4211,396.007,494.8339,394.922 M494.8339,394.922 C496.2467,393.837,500.6423,391.154,502.5255,390.8208 M502.5255,390.8208 C504.4086,390.4877,505.8026,390.252,506.1329,392.9232 M506.1329,392.9232 C506.4631,395.5945,502.5054,406.6449,504.5068,406.8484 M504.5068,406.8484 C506.5081,407.0519,516.6037,394.3366,518.141,394.1441 M518.141,394.1441 C519.6783,393.9517,514.6991,405.1485,513.7307,405.6938 M513.7307,405.6938 C512.7624,406.239,510.9422,397.5694,512.3308,397.4155 M512.3308,397.4155 C513.7195,397.2616,520.0527,404.5041,522.0627,404.7704 M522.0627,404.7704 C524.0726,405.0366,523.695,398.2946,524.3905,399.0128 M524.3905,399.0128 C525.0859,399.7311,525.0058,409.4038,526.2354,409.0799 M526.2354,409.0799 C527.4649,408.7559,530.0601,397.1958,531.768,397.0692 M531.768,397.0692 C533.4759,396.9425,535.3643,409.9754,536.4826,408.3201\" fill=\"none\" stroke=\"rgba(0,0,0,1)\" stroke-miterlimit=\"10\" stroke-width=\"2\"/>\n",
       "<path d=\"M35.6069,429.4522 C38.5675,427.8965,43.2519,424.3598,42.5527,424.5502 M42.5527,424.5502 C41.8535,424.7405,31.3785,429.4733,31.4115,430.5942 M31.4115,430.5942 C31.4446,431.7151,40.096,431.2764,42.7512,431.2754 M42.7512,431.2754 C45.4063,431.2744,48.3882,433.4346,47.3423,430.5883 M47.3423,430.5883 C46.2964,427.7419,36.7652,415.1014,36.4757,414.1976 M36.4757,414.1976 C36.1862,413.2937,44.2823,422.9361,45.6054,425.1654 M45.6054,425.1654 C46.9285,427.3947,44.7407,424.9492,44.4143,427.5734 M44.4143,427.5734 C44.0879,430.1976,41.9698,442.0709,43.6468,440.9106 M43.6468,440.9106 C45.3238,439.7502,53.063,422.409,54.4764,420.6115 M54.4764,420.6115 C55.8898,418.814,51.9649,430.4544,52.127,430.1256 M52.127,430.1256 C52.289,429.7968,54.8629,416.8696,55.4487,418.6387 M55.4487,418.6387 C56.0344,420.4077,55.508,439.1674,55.6415,440.7399 M55.6415,440.7399 C55.775,442.3124,56.6793,430.5922,56.2496,428.0738 M56.2496,428.0738 C55.82,425.5554,51.7405,426.9376,53.0634,425.6295 M53.0634,425.6295 C54.3863,424.3214,62.5169,420.8356,64.1873,420.2254 M64.1873,420.2254 C65.8577,419.6152,62.7462,420.0279,63.0857,421.9683 M63.0857,421.9683 C63.4253,423.9087,65.5815,429.8197,66.2248,431.8678 M66.2248,431.8678 C66.8682,433.9159,66.2555,435.7192,66.9459,434.2569 M66.9459,434.2569 C67.6364,432.7947,69.6841,426.2427,70.3676,423.0944 M70.3676,423.0944 C71.051,419.9462,70.1506,414.6853,71.0466,415.3673 M71.0466,415.3673 C71.9426,416.0493,74.6167,424.5281,75.7436,427.1865 M75.7436,427.1865 C76.8705,429.845,77.4169,431.1928,77.808,431.3179 M77.808,431.3179 C78.1991,431.443,76.779,427.9527,78.0902,427.9371 M78.0902,427.9371 C79.4013,427.9215,84.8105,431.8308,85.675,431.2244 M85.675,431.2244 C86.5395,430.6179,82.4928,424.0454,83.277,424.2983 M83.277,424.2983 C84.0613,424.5512,89.0967,431.5477,90.3806,432.7415 M90.3806,432.7415 C91.6645,433.9354,89.9104,433.0824,90.9806,431.4615 M90.9806,431.4615 C92.0508,429.8407,97.5169,423.9876,96.8017,423.0163 M96.8017,423.0163 C96.0865,422.0451,88.9369,423.5702,86.6895,425.634 M86.6895,425.634 C84.4421,427.6979,80.6779,436.637,83.3173,435.3994 M83.3173,435.3994 C85.9568,434.1617,100.3844,418.5318,102.5262,418.208 M102.5262,418.208 C104.668,417.8841,96.8558,429.9217,96.1682,433.4562 M96.1682,433.4562 C95.4806,436.9907,97.9823,439.1805,98.4006,439.415 M98.4006,439.415 C98.8189,439.6495,98.0902,438.0254,98.6779,434.8631 M98.6779,434.8631 C99.2655,431.7009,101.361,422.4507,101.9265,420.4414 M101.9265,420.4414 C102.4921,418.432,100.8493,422.2917,102.0713,422.807 M102.0713,422.807 C103.2932,423.3223,107.1244,425.1602,109.2582,423.5333 M109.2582,423.5333 C111.3921,421.9064,115.187,414.1683,114.8743,413.0454 M114.8743,413.0454 C114.5616,411.9225,107.2341,415.1572,107.3822,416.7957 M107.3822,416.7957 C107.5304,418.4342,113.589,422.6309,115.7631,422.8765 M115.7631,422.8765 C117.9372,423.1221,119.8334,418.7909,120.4268,418.2692 M120.4268,418.2692 C121.0202,417.7476,120.1454,418.4278,119.3234,419.7465 M119.3234,419.7465 C118.5014,421.0653,115.3582,423.6221,115.4947,426.1817 M115.4947,426.1817 C115.6311,428.7413,119.7521,434.9432,120.1422,435.1042 M120.1422,435.1042 C120.5323,435.2651,117.7361,427.6939,117.8352,427.1476 M117.8352,427.1476 C117.9343,426.6013,119.4169,430.3479,120.7369,431.8263 M120.7369,431.8263 C122.057,433.3047,124.205,437.4594,125.7555,436.0182 M125.7555,436.0182 C127.306,434.5771,129.6721,423.0893,130.0399,423.1795 M130.0399,423.1795 C130.4077,423.2696,126.4743,433.4007,127.9623,436.559 M127.9623,436.559 C129.4503,439.7174,137.2415,444.8845,138.9678,442.1294 M138.9678,442.1294 C140.6942,439.3744,138.0052,421.3688,138.3205,420.0288 M138.3205,420.0288 C138.6358,418.6888,140.1301,431.0726,140.8595,434.0895 M140.8595,434.0895 C141.5889,437.1064,142.0461,436.7957,142.697,438.1302 M142.697,438.1302 C143.3478,439.4648,145.1133,443.0172,144.7645,442.0969 M144.7645,442.0969 C144.4157,441.1766,140.8203,436.0472,140.6043,432.6085 M140.6043,432.6085 C140.3882,429.1699,141.4257,421.5208,143.4681,421.4649 M143.4681,421.4649 C145.5105,421.4091,151.1687,431.5135,152.8587,432.2736 M152.8587,432.2736 C154.5488,433.0338,154.6461,428.0876,153.6083,426.026 M153.6083,426.026 C152.5705,423.9644,145.8855,418.0897,146.6321,419.9041 M146.6321,419.9041 C147.3788,421.7186,157.0489,434.0314,158.0883,436.9126 M158.0883,436.9126 C159.1276,439.7938,152.6185,437.9951,152.8683,437.1913 M152.8683,437.1913 C153.1181,436.3874,157.8416,429.1403,159.5869,432.0895 M159.5869,432.0895 C161.3322,435.0387,161.0624,456.4013,163.3402,454.8865 M163.3402,454.8865 C165.618,453.3718,173.8307,426.431,173.2537,423.0009 M173.2537,423.0009 C172.6768,419.5709,160.3761,433.4821,159.8783,434.306 M159.8783,434.306 C159.3806,435.1299,168.5427,428.4397,170.2672,427.9445 M170.2672,427.9445 C171.9917,427.4493,170.8826,433.9699,170.2254,431.3347 M170.2254,431.3347 C169.5683,428.6995,167.3923,411.4145,166.3245,412.1333 M166.3245,412.1333 C165.2567,412.8521,163.7047,433.4956,163.8187,435.6474 M163.8187,435.6474 C163.9327,437.7993,165.3494,425.8514,167.0086,425.0445 M167.0086,425.0445 C168.6678,424.2376,172.9357,431.7638,173.774,430.8061 M173.774,430.8061 C174.6123,429.8484,171.0014,420.6909,172.0384,419.2983 M172.0384,419.2983 C173.0755,417.9056,178.3306,421.0328,179.9963,422.4503 M179.9963,422.4503 C181.6619,423.8677,180.5283,428.1625,182.0321,427.8029 M182.0321,427.8029 C183.5359,427.4433,188.3399,421.3273,189.0189,420.2925 M189.0189,420.2925 C189.6979,419.2578,185.4824,425.2412,186.1062,421.5946 M186.1062,421.5946 C186.73,417.9479,192.1741,399.5004,192.7617,398.4127 M192.7617,398.4127 C193.3493,397.3251,190.5779,410.161,189.6319,415.0688 M189.6319,415.0688 C188.6859,419.9765,186.7051,426.4948,187.0856,427.8593 M187.0856,427.8593 C187.4661,429.2238,189.0157,422.6822,191.9149,423.2559 M191.9149,423.2559 C194.8141,423.8297,203.6184,430.3436,204.4809,431.3018 M204.4809,431.3018 C205.3435,432.26,197.9631,429.7161,197.0901,429.0051 M197.0901,429.0051 C196.2172,428.2942,198.3603,427.6785,199.2432,427.036 M199.2432,427.036 C200.1261,426.3936,201.6067,425.8054,202.3877,425.1506 M202.3877,425.1506 C203.1687,424.4957,203.0214,422.3188,203.9293,423.107 M203.9293,423.107 C204.8373,423.8953,206.4311,429.7871,207.8355,429.88 M207.8355,429.88 C209.2398,429.973,210.5372,424.945,212.3554,423.6647 M212.3554,423.6647 C214.1737,422.3843,218.6204,422.3683,218.7448,422.1979 M218.7448,422.1979 C218.8693,422.0274,213.5173,419.1035,213.1021,422.6418 M213.1021,422.6418 C212.6869,426.1802,216.8817,442.9366,216.2536,443.428 M216.2536,443.428 C215.6255,443.9195,208.4995,427.7923,209.3338,425.5907 M209.3338,425.5907 C210.168,423.3891,218.5351,428.1788,221.259,430.2186 M221.259,430.2186 C223.9829,432.2584,225.1683,439.7721,225.6772,437.8294 M225.6772,437.8294 C226.1861,435.8868,225.2783,419.311,224.3124,418.5626 M224.3124,418.5626 C223.3466,417.8142,220.6099,430.0085,219.8821,433.3392 M219.8821,433.3392 C219.1544,436.6698,217.8971,438.9991,219.9459,438.5465 M219.9459,438.5465 C221.9948,438.0939,230.3727,432.1349,232.1751,430.6235 M232.1751,430.6235 C233.9776,429.112,230.8789,430.5182,230.7607,429.4778 M230.7607,429.4778 C230.6425,428.4374,230.2963,425.636,231.466,424.3809 M231.466,424.3809 C232.6358,423.1257,236.8559,423.267,237.779,421.9468 M237.779,421.9468 C238.7021,420.6266,236.6524,414.764,237.0046,416.4595 M237.0046,416.4595 C237.3567,418.1551,239.553,429.3795,239.8918,432.12 M239.8918,432.12 C240.2305,434.8605,237.9477,433.932,239.037,432.9028 M239.037,432.9028 C240.1263,431.8736,245.3115,427.7162,246.4277,425.9448 M246.4277,425.9448 C247.544,424.1734,244.516,422.3532,245.7345,422.2745 M245.7345,422.2745 C246.9529,422.1958,251.4991,424.8822,253.7385,425.4728 M253.7385,425.4728 C255.978,426.0634,259.1969,425.8204,259.1712,425.8182 M259.1712,425.8182 C259.1456,425.816,253.9149,423.9749,253.5846,425.4594 M253.5846,425.4594 C253.2544,426.9439,257.2537,433.1613,257.1897,434.7252 M257.1897,434.7252 C257.1257,436.2891,253.0712,435.574,253.2008,434.8428 M253.2008,434.8428 C253.3305,434.1116,256.9096,433.4619,257.9674,430.3383 M257.9674,430.3383 C259.0252,427.2146,258.1397,416.3835,259.5475,416.1011 M259.5475,416.1011 C260.9553,415.8187,264.565,426.3315,266.4142,428.644 M266.4142,428.644 C268.2634,430.9566,271.248,430.4547,270.6426,429.9764 M270.6426,429.9764 C270.0372,429.498,262.3284,427.388,262.7816,425.7739 M262.7816,425.7739 C263.2348,424.1598,269.9592,417.5289,273.3617,420.2918 M273.3617,420.2918 C276.7643,423.0548,283.4722,441.1759,283.1971,442.3517 M283.1971,442.3517 C282.9221,443.5274,272.8984,427.8761,271.7115,427.3463 M271.7115,427.3463 C270.5245,426.8165,274.4854,438.4616,276.0756,439.173 M276.0756,439.173 C277.6657,439.8845,281.9757,432.1849,281.2523,431.6149 M281.2523,431.6149 C280.5289,431.0449,271.4422,437.582,271.7352,435.7532 M271.7352,435.7532 C272.0281,433.9244,279.9129,422.1683,283.0102,420.642 M283.0102,420.642 C286.1075,419.1157,289.2746,425.6321,290.319,426.5952 M290.319,426.5952 C291.3635,427.5584,289.5903,424.9832,289.2768,426.421 M289.2768,426.421 C288.9634,427.8587,288.6661,434.7722,288.4382,435.2218 M288.4382,435.2218 C288.2104,435.6714,287.2072,432.1057,287.9097,429.1187 M287.9097,429.1187 C288.6123,426.1316,291.8485,413.3503,292.6533,417.2997 M292.6533,417.2997 C293.4582,421.2491,292.5806,451.5769,292.7387,452.815 M292.7387,452.815 C292.8968,454.0532,291.5002,430.8618,293.602,424.7284 M293.602,424.7284 C295.7038,418.595,304.205,414.1795,305.3497,416.0146 M305.3497,416.0146 C306.4943,417.8496,301.2404,436.9299,300.4702,435.7389 M300.4702,435.7389 C299.7,434.5479,299.0945,410.4376,300.7285,408.8685 M300.7285,408.8685 C302.3625,407.2993,310.5751,423.0354,310.2742,426.3238 M310.2742,426.3238 C309.9733,429.6123,298.3333,428.1226,298.9231,428.5993 M298.9231,428.5993 C299.5129,429.076,311.7383,428.5133,313.8129,429.1843 M313.8129,429.1843 C315.8874,429.8553,309.4325,430.9152,311.3705,432.6251 M311.3705,432.6251 C313.3084,434.335,324.6798,438.4517,325.4406,439.4439 M325.4406,439.4439 C326.2015,440.4362,317.2614,439.5687,315.9355,438.5786 M315.9355,438.5786 C314.6097,437.5885,318.2999,435.074,317.4855,433.5034 M317.4855,433.5034 C316.671,431.9328,310.3707,430.3337,311.0489,429.155 M311.0489,429.155 C311.727,427.9762,318.8963,426.6368,321.5544,426.4311 M321.5544,426.4311 C324.2125,426.2253,326.8009,427.5147,326.9974,427.9204 M326.9974,427.9204 C327.1939,428.3261,322.6942,430.3699,322.7336,428.8652 M322.7336,428.8652 C322.7729,427.3606,326.5384,417.3073,327.2333,418.8924 M327.2333,418.8924 C327.9282,420.4775,326.0389,435.0594,326.9028,438.3757 M326.9028,438.3757 C327.7668,441.692,331.2663,441.0582,332.4169,438.7902 M332.4169,438.7902 C333.5675,436.5223,334.4438,426.7555,333.8063,424.7678 M333.8063,424.7678 C333.1687,422.7801,327.2694,425.8763,328.5916,426.8642 M328.5916,426.8642 C329.9138,427.8521,339.8932,430.2738,341.7394,430.6953 M341.7394,430.6953 C343.5857,431.1169,339.8287,429.3921,339.6691,429.3936 M339.6691,429.3936 C339.5095,429.3951,341.0216,428.6739,340.7818,430.7043 M340.7818,430.7043 C340.542,432.7347,337.1412,443.8901,338.2301,441.576 M338.2301,441.576 C339.319,439.2618,345.4688,416.3883,347.3152,416.8195 M347.3152,416.8195 C349.1615,417.2506,348.9206,441.0498,349.3082,444.1629 M349.3082,444.1629 C349.6957,447.276,349.8449,435.9479,349.6407,435.4982 M349.6407,435.4982 C349.4365,435.0484,347.3297,444.0234,348.0829,441.4646 M348.0829,441.4646 C348.836,438.9058,353.5567,423.0814,354.1594,420.1453 M354.1594,420.1453 C354.762,417.2093,352.8217,421.861,351.6988,423.8482 M351.6988,423.8482 C350.576,425.8353,345.6668,431.4081,347.4222,432.0684 M347.4222,432.0684 C349.1777,432.7287,359.8346,426.7414,362.2313,427.8101 M362.2313,427.8101 C364.6281,428.8787,362.9657,436.888,361.8029,438.4804 M361.8029,438.4804 C360.6402,440.0728,354.9612,439.5115,355.2547,437.3645 M355.2547,437.3645 C355.5481,435.2176,362.161,429.9529,363.5639,425.5987 M363.5639,425.5987 C364.9667,421.2445,362.0015,409.0695,363.6717,411.2391 M363.6717,411.2391 C365.3419,413.4087,372.7578,435.3714,373.5848,438.6165 M373.5848,438.6165 C374.4119,441.8616,369.7712,433.9331,368.6342,430.7099 M368.6342,430.7099 C367.4971,427.4867,365.2495,418.0609,366.7627,419.2772 M366.7627,419.2772 C368.2759,420.4935,376.5336,436.097,377.7135,438.0075 M377.7135,438.0075 C378.8933,439.918,373.8376,431.9959,373.8417,430.7404 M373.8417,430.7404 C373.8458,429.4849,375.6471,430.0778,377.7381,430.4746 M377.7381,430.4746 C379.829,430.8713,385.3319,433.1754,386.3873,433.1209 M386.3873,433.1209 C387.4427,433.0663,384.2868,432.0744,384.0705,430.1471 M384.0705,430.1471 C383.8542,428.2197,384.1567,421.6224,385.0895,421.5567 M385.0895,421.5567 C386.0223,421.4909,389.6734,429.5293,389.6675,429.7525 M389.6675,429.7525 C389.6616,429.9756,383.9347,424.3889,385.0542,422.8956 M385.0542,422.8956 C386.1736,421.4023,395.2459,417.9806,396.3843,420.7926 M396.3843,420.7926 C397.5228,423.6046,391.3131,439.528,391.8848,439.7675 M391.8848,439.7675 C392.4565,440.0069,398.5648,425.6533,399.8143,422.2291 M399.8143,422.2291 C401.0639,418.8048,399.1111,416.459,399.3822,419.222 M399.3822,419.222 C399.6533,421.985,400.4226,438.5617,401.4411,438.8068 M401.4411,438.8068 C402.4596,439.052,403.7777,422.3689,405.4931,420.6929 M405.4931,420.6929 C407.2085,419.0169,411.1963,429.8918,411.7332,428.751 M411.7332,428.751 C412.2701,427.6102,408.7953,415.6044,408.7143,413.8482 M408.7143,413.8482 C408.6333,412.0919,412.4972,414.1628,411.2471,418.2136 M411.2471,418.2136 C409.9971,422.2643,400.592,438.2278,401.2141,438.1526 M401.2141,438.1526 C401.8362,438.0774,413.073,420.5926,414.9797,417.7625 M414.9797,417.7625 C416.8864,414.9324,412.5087,419.9397,412.6543,421.1719 M412.6543,421.1719 C412.8,422.4042,414.5746,424.4306,415.8536,425.156 M415.8536,425.156 C417.1326,425.8814,420.0145,425.2779,420.3282,425.5243 M420.3282,425.5243 C420.642,425.7707,418.1825,427.1279,417.7363,426.6342 M417.7363,426.6342 C417.29,426.1406,415.9566,421.7694,417.651,422.5623 M417.651,422.5623 C419.3453,423.3551,426.016,430.2788,427.9021,431.3913 M427.9021,431.3913 C429.7882,432.5038,428.7866,428.6104,428.9676,429.2373 M428.9676,429.2373 C429.1487,429.8642,428.7676,435.9661,428.9886,435.1529 M428.9886,435.1529 C429.2097,434.3396,429.2081,424.0897,430.2938,424.3578 M430.2938,424.3578 C431.3795,424.6259,434.3282,434.7683,435.5027,436.7614 M435.5027,436.7614 C436.6771,438.7545,436.5111,438.1035,437.3405,436.3164 M437.3405,436.3164 C438.17,434.5292,440.2653,429.5147,440.4794,426.0385 M440.4794,426.0385 C440.6935,422.5622,438.7484,414.6672,438.6251,415.4588 M438.6251,415.4588 C438.5017,416.2503,437.9045,427.6121,439.7392,430.788 M439.7392,430.788 C441.5738,433.9638,448.139,434.8837,449.6329,434.5136 M449.6329,434.5136 C451.1268,434.1435,448.0714,429.6236,448.7028,428.5672 M448.7028,428.5672 C449.3342,427.5109,453.5135,427.41,453.4213,428.1758 M453.4213,428.1758 C453.3291,428.9415,447.6368,430.7686,448.1496,433.1619 M448.1496,433.1619 C448.6623,435.5553,455.2642,442.3208,456.4979,442.5359 M456.4979,442.5359 C457.7316,442.751,455.1739,437.892,455.5517,434.4525 M455.5517,434.4525 C455.9294,431.013,458.0612,420.4359,458.7645,421.899 M458.7645,421.899 C459.4677,423.3621,459.3783,441.049,459.7712,443.2312 M459.7712,443.2312 C460.1641,445.4134,459.6602,437.8778,461.1217,434.9922 M461.1217,434.9922 C462.5832,432.1066,467.9894,426.7265,468.5402,425.9177 M468.5402,425.9177 C469.0909,425.1089,463.4472,429.6016,464.4265,430.1393 M464.4265,430.1393 C465.4058,430.6771,472.9082,430.3233,474.4161,429.1442 M474.4161,429.1442 C475.9241,427.9651,473.8111,422.7999,473.4742,423.0647 M473.4742,423.0647 C473.1373,423.3294,472.4592,428.7599,472.3948,430.7327 M472.3948,430.7327 C472.3303,432.7054,473.1953,433.5452,473.0876,434.9012 M473.0876,434.9012 C472.9799,436.2572,471.6268,441.7889,471.7486,438.8688 M471.7486,438.8688 C471.8704,435.9486,471.4626,416.5684,473.8183,417.3804 M473.8183,417.3804 C476.1739,418.1924,484.4854,438.8031,485.8822,443.7408 M485.8822,443.7408 C487.2791,448.6785,482.7308,451.488,482.1994,447.0066 M482.1994,447.0066 C481.6681,442.5253,482.471,420.3391,482.694,416.8526 M482.694,416.8526 C482.9171,413.3662,482.3776,423.5029,483.5375,426.088 M483.5375,426.088 C484.6974,428.673,488.0465,432.7604,489.6534,432.363 M489.6534,432.363 C491.2603,431.9657,492.3863,426.1695,493.1787,423.7038 M493.1787,423.7038 C493.9712,421.238,494.3713,418.3124,494.4082,417.5686 M494.4082,417.5686 C494.4452,416.8248,492.7981,418.2148,493.4005,419.2409 M493.4005,419.2409 C494.0028,420.267,497.2781,421.7584,498.0222,423.7252 M498.0222,423.7252 C498.7663,425.692,497.312,431.9131,497.8651,431.0416 M497.8651,431.0416 C498.4183,430.17,500.1459,420.0073,501.3411,418.4959 M501.3411,418.4959 C502.5362,416.9846,503.8593,418.4858,505.036,421.9733 M505.036,421.9733 C506.2126,425.4608,508.8122,439.51,508.401,439.4208 M508.401,439.4208 C507.9898,439.3317,502.3104,423.9479,502.5687,421.4385 M502.5687,421.4385 C502.827,418.9291,508.3809,420.2364,509.9508,424.3644 M509.9508,424.3644 C511.5208,428.4923,513.1768,445.6651,511.9883,446.2063 M511.9883,446.2063 C510.7998,446.7475,502.8265,432.5867,502.8198,427.6116 M502.8198,427.6116 C502.8131,422.6365,509.9671,416.1114,511.9481,416.3558 M511.9481,416.3558 C513.9292,416.6001,513.5757,426.0949,514.706,429.0778 M514.706,429.0778 C515.8364,432.0606,517.1294,435.7625,518.7301,434.2529 M518.7301,434.2529 C520.3308,432.7433,524.8809,422.5422,524.3103,420.0203 M524.3103,420.0203 C523.7397,417.4984,515.3629,418.6003,515.3064,419.1213 M515.3064,419.1213 C515.25,419.6423,522.9269,421.4207,523.9716,423.1462 M523.9716,423.1462 C525.0162,424.8718,521.5921,431.2154,521.5743,429.4745 M521.5743,429.4745 C521.5566,427.7335,521.7211,410.1838,523.865,412.7006 M523.865,412.7006 C526.0089,415.2174,533.4611,441.6528,534.4375,444.5752 M534.4375,444.5752 C535.4139,447.4976,529.5738,434.817,529.7234,430.2352 M529.7234,430.2352 C529.8731,425.6534,533.6652,417.1243,535.3353,417.0843\" fill=\"none\" stroke=\"rgba(0,0,0,1)\" stroke-miterlimit=\"10\" stroke-width=\"2\"/>\n",
       "<path d=\"M46.6349,454.0652 C48.7356,455.0239,41.5656,459.4482,40.8067,460.0467 M40.8067,460.0467 C40.0478,460.6452,42.1688,454.3203,42.0816,457.6561 M42.0816,457.6561 C41.9945,460.992,37.6534,477.769,40.2838,480.062 M40.2838,480.062 C42.9143,482.3551,54.0587,473.657,57.8642,471.4145 M57.8642,471.4145 C61.6697,469.172,61.9022,470.4377,63.1169,466.6071 M63.1169,466.6071 C64.3316,462.7764,63.7994,447.5689,65.1526,448.4306 M65.1526,448.4306 C66.5058,449.2923,68.3394,472.6291,71.2363,471.7772 M71.2363,471.7772 C74.1331,470.9254,80.1202,446.9884,82.5338,443.3195 M82.5338,443.3195 C84.9474,439.6507,85.0455,448.9601,85.7179,449.7642 M85.7179,449.7642 C86.3904,450.5684,85.8778,443.0343,86.5684,448.1444 M86.5684,448.1444 C87.2591,453.2545,87.4849,477.0062,89.8618,480.4248 M89.8618,480.4248 C92.2388,483.8435,98.703,469.4015,100.8301,468.6562 M100.8301,468.6562 C102.9573,467.911,102.3953,481.4439,102.6249,475.9532 M102.6249,475.9532 C102.8544,470.4624,99.688,438.3801,102.2073,435.7119 M102.2073,435.7119 C104.7267,433.0438,114.871,456.4741,117.7409,459.9441 M117.7409,459.9441 C120.6108,463.4141,118.2634,455.7291,119.427,456.532 M119.427,456.532 C120.5906,457.3349,122.5391,462.4707,124.7225,464.7615 M124.7225,464.7615 C126.906,467.0522,129.7889,470.1179,132.5276,470.2764 M132.5276,470.2764 C135.2663,470.435,139.7002,468.512,141.1546,465.7131 M141.1546,465.7131 C142.609,462.9141,139.243,453.5046,141.2538,453.4826 M141.2538,453.4826 C143.2646,453.4606,150.9427,464.2794,153.2195,465.581 M153.2195,465.581 C155.4962,466.8826,153.3821,460.3966,154.9144,461.2922 M154.9144,461.2922 C156.4467,462.1878,159.3208,470.3149,162.4132,470.9544 M162.4132,470.9544 C165.5056,471.594,172.6463,468.5949,173.4686,465.1298 M173.4686,465.1298 C174.2909,461.6647,168.204,452.1531,167.3469,450.164 M167.3469,450.164 C166.4899,448.1749,166.0997,451.1724,168.3263,453.1953 M168.3263,453.1953 C170.553,455.2182,177.0225,463.1121,180.7069,462.3014 M180.7069,462.3014 C184.3913,461.4908,189.3068,446.7113,190.4328,448.3313 M190.4328,448.3313 C191.5588,449.9513,186.2513,470.8891,187.4629,472.0216 M187.4629,472.0216 C188.6744,473.154,196.0023,456.9943,197.7021,455.1262 M197.7021,455.1262 C199.4018,453.2581,195.9586,458.6567,197.6612,460.813 M197.6612,460.813 C199.3638,462.9693,203.6834,469.5901,207.9177,468.0641 M207.9177,468.0641 C212.152,466.5382,221.0302,453.0925,223.0672,451.6572 M223.0672,451.6572 C225.1042,450.2219,220.069,459.5849,220.1396,459.4523 M220.1396,459.4523 C220.2102,459.3198,221.3062,451.0868,223.4909,450.8621 M223.4909,450.8621 C225.6755,450.6374,228.776,457.5604,233.2475,458.1041 M233.2475,458.1041 C237.719,458.6478,249.603,453.6453,250.3199,454.1244 M250.3199,454.1244 C251.0369,454.6035,237.0264,459.1179,237.5489,460.9787 M237.5489,460.9787 C238.0714,462.8394,250.3863,462.7523,253.4549,465.2892 M253.4549,465.2892 C256.5235,467.826,255.0074,477.1709,255.9605,476.1996 M255.9605,476.1996 C256.9136,475.2284,258.1393,461.0389,259.1736,459.4619 M259.1736,459.4619 C260.208,457.8849,260.9021,466.4107,262.1665,466.7377 M262.1665,466.7377 C263.4309,467.0646,264.9876,460.5998,266.7599,461.4237 M266.7599,461.4237 C268.5322,462.2475,271.9543,472.1624,272.8003,471.6807 M272.8003,471.6807 C273.6464,471.199,269.5683,459.4538,271.8361,458.5334 M271.8361,458.5334 C274.1039,457.6129,282.4966,462.5955,286.4069,466.1579 M286.4069,466.1579 C290.3172,469.7204,293.0158,484.4988,295.2977,479.9081 M295.2977,479.9081 C297.5796,475.3175,298.6568,442.6506,300.0983,438.614 M300.0983,438.614 C301.5399,434.5775,302.8689,452.4477,303.947,455.6887 M303.947,455.6887 C305.0251,458.9296,304.306,456.8893,306.567,458.06 M306.567,458.06 C308.828,459.2308,315.5994,460.1213,317.5131,462.7133 M317.5131,462.7133 C319.4269,465.3053,316.0217,474.2517,318.0496,473.612 M318.0496,473.612 C320.0775,472.9723,327.107,460.3411,329.6803,458.8751 M329.6803,458.8751 C332.2536,457.4091,332.1785,467.0059,333.4892,464.8161 M333.4892,464.8161 C334.8,462.6263,336.9668,447.5305,337.5451,445.7364 M337.5451,445.7364 C338.1233,443.9423,335.0662,452.4435,336.9587,454.0516 M336.9587,454.0516 C338.8511,455.6597,346.5776,455.7877,348.8996,455.3851 M348.8996,455.3851 C351.2216,454.9824,349.4836,450.955,350.8907,451.6356 M350.8907,451.6356 C352.2978,452.3162,355.9663,458.9779,357.3422,459.4687 M357.3422,459.4687 C358.7181,459.9595,357.7222,454.2946,359.1462,454.5805 M359.1462,454.5805 C360.5702,454.8664,362.9393,459.737,365.886,461.1841 M365.886,461.1841 C368.8328,462.6313,374.3975,463.8968,376.8266,463.2633 M376.8266,463.2633 C379.2558,462.6297,379.0764,458.9173,380.4608,457.3829 M380.4608,457.3829 C381.8452,455.8486,384.5998,451.187,385.1331,454.0572 M385.1331,454.0572 C385.6664,456.9273,380.7627,474.1672,383.6603,474.6038 M383.6603,474.6038 C386.558,475.0404,401.0117,458.48,402.5189,456.6768 M402.5189,456.6768 C404.026,454.8735,393.2236,463.679,392.7032,463.7843 M392.7032,463.7843 C392.1827,463.8895,395.8488,457.0632,399.396,457.3084 M399.396,457.3084 C402.9433,457.5537,409.8243,463.7325,413.9866,465.2557 M413.9866,465.2557 C418.149,466.779,423.7787,467.893,424.3701,466.448 M424.3701,466.448 C424.9614,465.003,418.1015,459.0888,417.5348,456.5858 M417.5348,456.5858 C416.9681,454.0828,419.2786,450.0524,420.97,451.4302 M420.97,451.4302 C422.6614,452.808,425.566,462.2819,427.6832,464.8527 M427.6832,464.8527 C429.8003,467.4235,430.101,466.5186,433.6729,466.8552 M433.6729,466.8552 C437.2448,467.1918,446.4823,468.5889,449.1145,466.8723 M449.1145,466.8723 C451.7467,465.1557,448.211,455.4018,449.4661,456.5556 M449.4661,456.5556 C450.7212,457.7094,454.16,471.9655,456.6452,473.795 M456.6452,473.795 C459.1303,475.6246,462.5023,471.1658,464.377,467.5329 M464.377,467.5329 C466.2516,463.9,466.1349,454.0675,467.8932,451.9976 M467.8932,451.9976 C469.6515,449.9277,473.2377,452.6525,474.9268,455.1132 M474.9268,455.1132 C476.616,457.574,475.1866,466.14,478.0282,466.7623 M478.0282,466.7623 C480.8699,467.3846,488.6639,457.1065,491.9767,458.8471 M491.9767,458.8471 C495.2895,460.5877,498.2623,476.2494,497.905,477.2059 M497.905,477.2059 C497.5477,478.1625,489.2314,462.1586,489.8327,464.5863 M489.8327,464.5863 C490.434,467.014,499.8266,494.1758,501.5127,491.7723 M501.5127,491.7723 C503.1988,489.3689,496.859,453.7902,499.9494,450.1656 M499.9494,450.1656 C503.0398,446.5409,518.499,466.1717,520.0549,470.0245 M520.0549,470.0245 C521.6109,473.8773,509.2436,478.2209,509.2853,473.2824 M509.2853,473.2824 C509.327,468.3439,516.8,441.7607,520.3052,440.3933 M520.3052,440.3933 C523.8105,439.026,527.858,462.7283,530.317,465.0784\" fill=\"none\" stroke=\"rgba(0,0,0,1)\" stroke-miterlimit=\"10\" stroke-width=\"2\"/>\n",
       "<path d=\"M24.5568,490.9714 C25.4147,493.8981,25.9284,493.6581,27.4332,492.7807 M27.4332,492.7807 C28.9379,491.9032,32.0024,487.8377,33.5852,485.7065 M33.5852,485.7065 C35.168,483.5754,37.4078,477.3723,36.93,479.994 M36.93,479.994 C36.4522,482.6157,30.5978,497.4928,30.7186,501.437 M30.7186,501.437 C30.8394,505.3812,35.9366,505.264,37.6548,503.6593 M37.6548,503.6593 C39.373,502.0547,39.5905,492.4628,41.0279,491.8092 M41.0279,491.8092 C42.4653,491.1556,43.7174,499.1555,46.2793,499.7377 M46.2793,499.7377 C48.8412,500.32,55.1924,498.2989,56.3995,495.3028 M56.3995,495.3028 C57.6065,492.3067,53.4248,480.846,53.5216,481.7612 M53.5216,481.7612 C53.6184,482.6763,55.636,498.3344,56.9803,500.7936 M56.9803,500.7936 C58.3247,503.2528,60.9612,497.0645,61.5876,496.5164 M61.5876,496.5164 C62.214,495.9683,60.4487,496.8022,60.7388,497.5052 M60.7388,497.5052 C61.0288,498.2082,62.8969,502.7592,63.3278,500.7343 M63.3278,500.7343 C63.7588,498.7094,63.2348,486.6278,63.3246,485.3558 M63.3246,485.3558 C63.4144,484.0838,63.1791,489.7589,63.8666,493.1021 M63.8666,493.1021 C64.5541,496.4453,65.9549,503.7364,67.4495,505.4152 M67.4495,505.4152 C68.9442,507.0939,72.6673,505.2253,72.8344,503.1746 M72.8344,503.1746 C73.0015,501.1239,68.6697,492.1944,68.4522,493.111 M68.4522,493.111 C68.2346,494.0276,69.5684,506.077,71.529,508.6743 M71.529,508.6743 C73.4896,511.2717,78.6508,510.7664,80.2159,508.6954 M80.2159,508.6954 C81.7811,506.6243,79.9289,496.9056,80.9202,496.2478 M80.9202,496.2478 C81.9115,495.59,85.6477,504.5644,86.1637,504.7483 M86.1637,504.7483 C86.6796,504.9323,83.7519,497.5693,84.0158,497.3517 M84.0158,497.3517 C84.2797,497.1342,87.3949,506.1409,87.7468,503.443 M87.7468,503.443 C88.0987,500.7452,85.7673,481.5322,86.1273,481.1647 M86.1273,481.1647 C86.4872,480.7972,89.1999,497.8041,89.9065,501.2378 M89.9065,501.2378 C90.613,504.6715,89.8543,502.8258,90.3666,501.7672 M90.3666,501.7672 C90.879,500.7085,91.8594,496.1595,92.9806,494.8859 M92.9806,494.8859 C94.1018,493.6124,95.1249,493.9279,97.0938,494.126 M97.0938,494.126 C99.0628,494.324,104.5079,495.1429,104.7941,496.0743 M104.7941,496.0743 C105.0802,497.0058,98.0897,497.9243,98.8109,499.7146 M98.8109,499.7146 C99.5321,501.5049,107.7308,507.047,109.1213,506.8161 M109.1213,506.8161 C110.5117,506.5852,106.5478,501.5833,107.1536,498.3294 M107.1536,498.3294 C107.7594,495.0755,113.3992,488.657,112.756,487.293 M112.756,487.293 C112.1128,485.929,103.1608,488.8528,103.2943,490.1455 M103.2943,490.1455 C103.4278,491.4381,111.4403,495.8067,113.5569,495.0489 M113.5569,495.0489 C115.6735,494.291,114.8026,487.2112,115.9939,485.5984 M115.9939,485.5984 C117.1852,483.9855,119.0563,483.4489,120.7045,485.3717 M120.7045,485.3717 C122.3527,487.2945,125.5884,497.2153,125.8831,497.135 M125.8831,497.135 C126.1777,497.0547,122.1028,487.0583,122.4724,484.8899 M122.4724,484.8899 C122.8419,482.7214,128.1383,480.8366,128.1005,484.1243 M128.1005,484.1243 C128.0626,487.412,122.8226,501.816,122.2452,504.616 M122.2452,504.616 C121.6678,507.416,121.1926,501.4585,124.6362,500.9242 M124.6362,500.9242 C128.0799,500.3898,142.1215,500.6812,142.9072,501.4101 M142.9072,501.4101 C143.6929,502.1389,130.6231,507.122,129.3505,505.2974 M129.3505,505.2974 C128.0778,503.4727,132.1111,492.9701,135.2712,490.4621 M135.2712,490.4621 C138.4313,487.954,147.7467,488.4275,148.3111,490.2491 M148.3111,490.2491 C148.8756,492.0707,139.2416,501.8062,138.6578,501.3916 M138.6578,501.3916 C138.074,500.9771,143.1552,491.6561,144.8084,487.7619 M144.8084,487.7619 C146.4616,483.8678,148.3313,476.125,148.5769,478.0269 M148.5769,478.0269 C148.8224,479.9287,145.8941,495.2601,146.2815,499.1729 M146.2815,499.1729 C146.6689,503.0857,150.4734,502.4009,150.9013,501.5039 M150.9013,501.5039 C151.3292,500.6069,150.4768,493.8008,148.8488,493.7909 M148.8488,493.7909 C147.2207,493.781,139.7335,501.1872,141.1329,501.4447 M141.1329,501.4447 C142.5323,501.7022,154.7909,496.1826,157.2453,495.3357 M157.2453,495.3357 C159.6997,494.4888,155.5721,494.9749,155.8591,496.3632 M155.8591,496.3632 C156.1461,497.7515,156.3498,501.7074,158.9672,503.6656 M158.9672,503.6656 C161.5846,505.6238,169.3341,510.0013,171.5635,508.1123 M171.5635,508.1123 C173.7928,506.2234,172.6107,492.8022,172.3433,492.3319 M172.3433,492.3319 C172.0759,491.8616,169.0361,507.6391,169.9592,505.2905 M169.9592,505.2905 C170.8823,502.9419,177.1298,481.2661,177.8819,478.2401 M177.8819,478.2401 C178.634,475.2141,174.394,482.6901,174.4721,487.1344 M174.4721,487.1344 C174.5501,491.5788,178.0922,503.7691,178.3503,504.9061 M178.3503,504.9061 C178.6084,506.043,175.7153,492.7416,176.0207,493.9561 M176.0207,493.9561 C176.3262,495.1706,178.7055,510.2453,180.1828,512.1932 M180.1828,512.1932 C181.6601,514.141,183.4757,510.4313,184.8845,505.6434 M184.8845,505.6434 C186.2933,500.8555,187.9723,486.336,188.6356,483.4659 M188.6356,483.4659 C189.299,480.5958,189.0732,487.8625,188.8646,488.4228 M188.8646,488.4228 C188.6561,488.9831,186.0823,486.107,187.3842,486.8277 M187.3842,486.8277 C188.6862,487.5483,196.3107,490.9427,196.6765,492.7466 M196.6765,492.7466 C197.0422,494.5505,190.4657,495.9342,189.5789,497.651 M189.5789,497.651 C188.692,499.3677,190.0094,505.1068,191.3554,503.0472 M191.3554,503.0472 C192.7014,500.9877,196.225,486.6753,197.6548,485.2935 M197.6548,485.2935 C199.0845,483.9118,197.8529,491.5574,199.9339,494.7567 M199.9339,494.7567 C202.0149,497.956,210.3824,505.0478,210.1408,504.4891 M210.1408,504.4891 C209.8992,503.9304,198.9055,490.9947,198.4842,491.4043 M198.4842,491.4043 C198.063,491.8138,206.0334,505.5965,207.6133,506.9464 M207.6133,506.9464 C209.1932,508.2962,206.9659,503.1698,207.9634,499.5033 M207.9634,499.5033 C208.9609,495.8368,212.4626,484.5738,213.5983,484.9475 M213.5983,484.9475 C214.7341,485.3212,215.3338,501.9658,214.7779,501.7457 M214.7779,501.7457 C214.222,501.5257,208.4489,483.4546,210.2631,483.6274 M210.2631,483.6274 C212.0772,483.8002,223.8777,501.9855,225.6627,502.7825 M225.6627,502.7825 C227.4477,503.5794,219.7851,487.8571,220.9732,488.4092 M220.9732,488.4092 C222.1613,488.9612,232.3258,504.959,232.7913,506.0947 M232.7913,506.0947 C233.2567,507.2304,224.9839,496.2072,223.7659,495.2233 M223.7659,495.2233 C222.5479,494.2395,223.7849,500.8093,225.4831,500.1916 M225.4831,500.1916 C227.1813,499.5739,232.3588,490.6077,233.9551,491.5172 M233.9551,491.5172 C235.5514,492.4268,234.674,503.9421,235.0611,505.6489 M235.0611,505.6489 C235.4482,507.3557,235.2562,501.3238,236.2777,501.758 M236.2777,501.758 C237.2992,502.1921,240.4196,510.8462,241.19,508.2538 M241.19,508.2538 C241.9603,505.6614,241.262,488.099,240.8997,486.2036 M240.8997,486.2036 C240.5373,484.3082,238.2607,493.2382,239.0158,496.8813 M239.0158,496.8813 C239.771,500.5244,243.743,507.3949,245.4306,508.0623 M245.4306,508.0623 C247.1182,508.7297,248.2303,500.449,249.1415,500.8855 M249.1415,500.8855 C250.0527,501.322,250.5488,509.3357,250.8978,510.6813 M250.8978,510.6813 C251.2469,512.027,250.5211,510.0232,251.2358,508.9592 M251.2358,508.9592 C251.9506,507.8952,253.9316,509.4135,255.1863,504.2973 M255.1863,504.2973 C256.441,499.1811,258.6661,480.5214,258.764,478.2618 M258.764,478.2618 C258.8619,476.0023,256.4706,489.1892,255.7736,490.74 M255.7736,490.74 C255.0767,492.2907,253.3667,486.9267,254.5825,487.5662 M254.5825,487.5662 C255.7982,488.2057,260.3534,493.2678,263.068,494.577 M263.068,494.577 C265.7826,495.8861,270.3425,496.7044,270.8701,495.4212 M270.8701,495.4212 C271.3976,494.1381,265.8522,487.1478,266.2334,486.8782 M266.2334,486.8782 C266.6146,486.6087,272.4388,492.5235,273.1572,493.8038 M273.1572,493.8038 C273.8756,495.0842,270.1661,493.9653,270.5441,494.5603 M270.5441,494.5603 C270.9221,495.1552,273.8617,496.3421,275.4251,497.3734 M275.4251,497.3734 C276.9885,498.4048,279.0897,500.9714,279.9246,500.7483 M279.9246,500.7483 C280.7596,500.5251,280.1431,497.8739,280.4349,496.0344 M280.4349,496.0344 C280.7268,494.195,280.5453,491.819,281.6758,489.7116 M281.6758,489.7116 C282.8063,487.6042,287.1412,484.1339,287.218,483.3901 M287.218,483.3901 C287.2948,482.6462,281.6911,485.7072,282.1366,485.2485 M282.1366,485.2485 C282.582,484.7897,288.2314,479.64,289.8908,480.6375 M289.8908,480.6375 C291.5502,481.6351,292.2167,487.0886,292.0931,491.2338 M292.0931,491.2338 C291.9695,495.3791,290.2026,504.129,289.1492,505.509 M289.1492,505.509 C288.0958,506.889,284.2401,502.7029,285.7728,499.5139 M285.7728,499.5139 C287.3055,496.3249,296.9838,485.6028,298.3453,486.3751 M298.3453,486.3751 C299.7069,487.1474,294.3102,503.254,293.9419,504.1476 M293.9419,504.1476 C293.5736,505.0413,294.088,495.0731,296.1357,491.7369 M296.1357,491.7369 C298.1834,488.4008,303.7801,482.9204,306.228,484.1306 M306.228,484.1306 C308.6758,485.3408,309.7091,496.6844,310.8229,498.9981 M310.8229,498.9981 C311.9367,501.3118,311.8556,496.4389,312.9107,498.0128 M312.9107,498.0128 C313.9657,499.5867,318.1833,507.9985,317.153,508.4414 M317.153,508.4414 C316.1226,508.8844,307.8145,502.7081,306.7285,500.6705 M306.7285,500.6705 C305.6424,498.6328,309.14,500.607,310.6366,496.2156 M310.6366,496.2156 C312.1332,491.8243,314.5995,472.6165,315.7079,474.3224 M315.7079,474.3224 C316.8162,476.0283,316.272,502.5576,317.2869,506.4512 M317.2869,506.4512 C318.3018,510.3447,319.6122,500.1545,321.7972,497.6837 M321.7972,497.6837 C323.9823,495.2128,329.7405,492.9706,330.3972,491.6259 M330.3972,491.6259 C331.0539,490.2812,324.9274,490.2874,325.7374,489.6155 M325.7374,489.6155 C326.5475,488.9436,334.3615,486.663,335.2576,487.5947 M335.2576,487.5947 C336.1537,488.5264,331.3396,493.4333,331.114,495.2059 M331.114,495.2059 C330.8885,496.9784,334.1145,498.3896,333.904,498.23 M333.904,498.23 C333.6935,498.0703,329.3679,493.9848,329.851,494.2477 M329.851,494.2477 C330.3342,494.5106,334.6385,499.2722,336.8029,499.8072 M336.8029,499.8072 C338.9673,500.3421,342.5056,500.1019,342.8374,497.4575 M342.8374,497.4575 C343.1691,494.813,338.3787,484.8728,338.7935,483.9403 M338.7935,483.9403 C339.2084,483.0078,346.1924,489.6767,345.3264,491.8627 M345.3264,491.8627 C344.4603,494.0486,332.3078,495.9212,333.5971,497.0558 M333.5971,497.0558 C334.8865,498.1904,349.6044,498.3655,353.0623,498.6703 M353.0623,498.6703 C356.5202,498.9752,353.6352,499.6829,354.3447,498.885 M354.3447,498.885 C355.0543,498.0871,356.4082,495.1921,357.3196,493.8829 M357.3196,493.8829 C358.231,492.5737,359.7548,490.991,359.8132,491.0299 M359.8132,491.0299 C359.8716,491.0687,357.6899,496.523,357.67,494.1159 M357.67,494.1159 C357.6502,491.7088,358.7364,476.6436,359.694,476.5873 M359.694,476.5873 C360.6516,476.531,362.4533,493.3374,363.4154,493.7782 M363.4154,493.7782 C364.3774,494.2189,365.4504,480.2658,365.4665,479.2318 M365.4665,479.2318 C365.4825,478.1978,361.7742,485.5436,363.5117,487.5742 M363.5117,487.5742 C365.2492,489.6047,373.8484,487.2752,375.8915,491.4151 M375.8915,491.4151 C377.9346,495.5549,377.2367,512.8255,375.77,512.4133 M375.77,512.4133 C374.3034,512.001,366.2669,492.1086,367.0914,488.9416 M367.0914,488.9416 C367.9159,485.7746,379.2649,491.6561,380.7168,493.4112 M380.7168,493.4112 C382.1686,495.1663,375.2463,496.715,375.8025,499.4724 M375.8025,499.4724 C376.3586,502.2297,383.283,510.5109,384.0536,509.9551 M384.0536,509.9551 C384.8241,509.3994,380.5752,497.7986,380.4257,496.1379 M380.4257,496.1379 C380.2761,494.4772,381.1262,501.0929,383.1563,499.9912 M383.1563,499.9912 C385.1864,498.8894,392.3456,489.1778,392.6062,489.5274 M392.6062,489.5274 C392.8667,489.877,383.8332,504.2654,384.7198,502.0885 M384.7198,502.0885 C385.6064,499.9116,394.5101,476.8099,397.9259,476.4662 M397.9259,476.4662 C401.3416,476.1225,405.1062,494.0453,405.2145,500.0263 M405.2145,500.0263 C405.3227,506.0073,399.0866,509.7921,398.5755,512.352 M398.5755,512.352 C398.0644,514.9118,401.5777,519.131,402.148,515.3855 M402.148,515.3855 C402.7182,511.6401,402.3232,494.4041,401.997,489.8792 M401.997,489.8792 C401.6708,485.3543,400.9208,487.3248,400.1908,488.2362 M400.1908,488.2362 C399.4609,489.1475,396.2218,493.8541,397.6171,495.3473 M397.6171,495.3473 C399.0123,496.8406,406.7629,496.8257,408.5624,497.1957 M408.5624,497.1957 C410.3619,497.5658,407.7083,499.5262,408.4139,497.5676 M408.4139,497.5676 C409.1196,495.6091,412.9322,485.2978,412.7962,485.4446 M412.7962,485.4446 C412.6601,485.5913,405.6989,494.9889,407.5976,498.4484 M407.5976,498.4484 C409.4963,501.9078,421.8055,508.5101,424.1883,506.2014 M424.1883,506.2014 C426.5712,503.8926,421.0407,485.101,421.8947,484.5957 M421.8947,484.5957 C422.7487,484.0905,428.7713,500.3712,429.3123,503.1698 M429.3123,503.1698 C429.8533,505.9684,425.7822,499.0089,425.1408,501.3874 M425.1408,501.3874 C424.4994,503.7659,424.9627,516.7939,425.4638,517.4407 M425.4638,517.4407 C425.965,518.0876,427.274,506.6562,428.1479,505.2685 M428.1479,505.2685 C429.0218,503.8808,429.6815,511.1515,430.7072,509.1147 M430.7072,509.1147 C431.7329,507.0779,433.3543,495.0242,434.302,493.0475 M434.302,493.0475 C435.2497,491.0709,435.7617,496.4082,436.3935,497.2546 M436.3935,497.2546 C437.0253,498.101,436.6838,498.9727,438.0929,498.1261 M438.0929,498.1261 C439.5021,497.2795,443.9162,490.4692,444.8483,492.1752 M444.8483,492.1752 C445.7804,493.8812,443.1205,508.5209,443.6857,508.3619 M443.6857,508.3619 C444.2509,508.2028,446.8695,493.225,448.2394,491.2208 M448.2394,491.2208 C449.6093,489.2167,451.6098,494.9272,451.9051,496.337 M451.9051,496.337 C452.2005,497.7468,449.2861,498.534,450.0115,499.6796 M450.0115,499.6796 C450.737,500.8252,455.3372,503.4583,456.2577,503.2104 M456.2577,503.2104 C457.1782,502.9625,455.1149,499.1799,455.5346,498.192 M455.5346,498.192 C455.9544,497.2041,457.643,500.3901,458.7764,497.2828 M458.7764,497.2828 C459.9097,494.1755,461.9362,481.7704,462.3349,479.5482 M462.3349,479.5482 C462.7336,477.326,461.0406,480.4616,461.1685,483.9496 M461.1685,483.9496 C461.2963,487.4375,462.9915,498.2583,463.1018,500.4759 M463.1018,500.4759 C463.2121,502.6935,459.533,497.8614,461.8303,497.2551 M461.8303,497.2551 C464.1277,496.6488,474.7576,496.4588,476.8858,496.8379 M476.8858,496.8379 C479.014,497.217,473.8935,498.7508,474.5996,499.5298 M474.5996,499.5298 C475.3057,500.3088,480.3064,502.7249,481.1222,501.5119 M481.1222,501.5119 C481.9381,500.2989,480.7866,494.4228,479.4948,492.2519 M479.4948,492.2519 C478.2029,490.0811,473.2246,487.6421,473.3713,488.4868 M473.3713,488.4868 C473.518,489.3316,479.7594,495.9133,480.375,497.3205 M480.375,497.3205 C480.9907,498.7277,476.3671,496.4191,477.0651,496.9299 M477.0651,496.9299 C477.763,497.4407,483.8138,500.9045,484.5628,500.3852 M484.5628,500.3852 C485.3118,499.8659,480.8214,494.0838,481.559,493.8139 M481.559,493.8139 C482.2966,493.5439,487.0309,499.0745,488.9883,498.7653 M488.9883,498.7653 C490.9458,498.4562,493.0133,492.381,493.3039,491.959 M493.3039,491.959 C493.5946,491.5371,490.3842,496.2544,490.7321,496.2339 M490.7321,496.2339 C491.0801,496.2133,493.3604,491.9762,495.3915,491.8357 M495.3915,491.8357 C497.4226,491.6951,502.0488,495.109,502.9188,495.3905 M502.9188,495.3905 C503.7887,495.6721,500.7888,492.51,500.6111,493.5251 M500.6111,493.5251 C500.4333,494.5402,500.6872,503.5062,501.8523,501.4812 M501.8523,501.4812 C503.0175,499.4563,505.4773,482.5083,507.6022,481.3755 M507.6022,481.3755 C509.7272,480.2427,514.0005,493.353,514.602,494.6843 M514.602,494.6843 C515.2035,496.0156,511.0178,488.9481,511.2112,489.3632 M511.2112,489.3632 C511.4046,489.7783,514.31,493.4938,515.7626,497.175 M515.7626,497.175 C517.2153,500.8562,519.2014,512.8306,519.9272,511.4505 M519.9272,511.4505 C520.653,510.0703,519.2639,492.0825,520.1177,488.894 M520.1177,488.894 C520.9714,485.7055,524.1483,492.2053,525.0495,492.3196 M525.0495,492.3196 C525.9507,492.4339,526.2137,489.498,525.525,489.5798 M525.525,489.5798 C524.8362,489.6616,520.4754,493.6144,520.9171,492.8104 M520.9171,492.8104 C521.3588,492.0063,526.6694,484.882,528.1753,484.7554 M528.1753,484.7554 C529.6812,484.6287,529.8959,490.7605,529.9527,492.0504 M529.9527,492.0504 C530.0094,493.3403,527.087,492.487,528.5157,492.4947 M528.5157,492.4947 C529.9444,492.5025,536.7795,491.6903,538.5249,492.097\" fill=\"none\" stroke=\"rgba(0,0,0,1)\" stroke-miterlimit=\"10\" stroke-width=\"2\"/>\n",
       "<path d=\"M24.7575,542.8188 C25.1716,540.0099,35.3022,515.1045,39.277,514.7982 M39.277,514.7982 C43.2519,514.4919,45.9016,537.857,48.6067,540.9809 M48.6067,540.9809 C51.3117,544.1048,54.0151,538.0971,55.5073,533.5416 M55.5073,533.5416 C56.9995,528.9862,56.1889,515.256,57.5597,513.648 M57.5597,513.648 C58.9306,512.0401,60.8783,519.825,63.7324,523.894 M63.7324,523.894 C66.5866,527.963,72.3505,535.3646,74.6847,538.062 M74.6847,538.062 C77.0189,540.7595,76.2438,539.5868,77.7375,540.0786 M77.7375,540.0786 C79.2312,540.5704,82.9502,542.0461,83.6467,541.0126 M83.6467,541.0126 C84.3432,539.9791,79.7542,534.5319,81.9167,533.8773 M81.9167,533.8773 C84.0792,533.2228,92.5716,537.861,96.622,537.0855 M96.622,537.0855 C100.6724,536.3099,104.6462,531.7406,106.2193,529.2241 M106.2193,529.2241 C107.7924,526.7076,105.4133,524.8828,106.0607,521.9865 M106.0607,521.9865 C106.7081,519.0902,108.3819,511.1756,110.1038,511.8463 M110.1038,511.8463 C111.8257,512.5171,112.489,521.224,116.392,526.0109 M116.392,526.0109 C120.2949,530.7978,130.5719,541.4584,133.5214,540.5677 M133.5214,540.5677 C136.471,539.677,133.2869,523.4011,134.0894,520.6667 M134.0894,520.6667 C134.892,517.9322,137.3164,523.0197,138.3368,524.1611 M138.3368,524.1611 C139.3571,525.3024,137.4484,527.899,140.2115,527.5147 M140.2115,527.5147 C142.9745,527.1305,152.2381,522.3581,154.9149,521.8556 M154.9149,521.8556 C157.5917,521.3531,156.5306,525.3015,156.2723,524.4998 M156.2723,524.4998 C156.0141,523.6982,151.8491,517.2588,153.3652,517.0459 M153.3652,517.0459 C154.8812,516.8329,161.504,519.0059,165.3688,523.2221 M165.3688,523.2221 C169.2336,527.4383,173.8547,540.4231,176.5539,542.343 M176.5539,542.343 C179.2532,544.2629,180.8409,536.2219,181.5642,534.7415 M181.5642,534.7415 C182.2875,533.2611,180.4997,534.3414,180.8937,533.4606 M180.8937,533.4606 C181.2877,532.5798,182.0044,530.7974,183.9281,529.4564 M183.9281,529.4564 C185.8519,528.1154,189.8245,526.1742,192.4362,525.4146 M192.4362,525.4146 C195.048,524.6551,196.9693,526.8262,199.5987,524.8992 M199.5987,524.8992 C202.228,522.9721,204.8652,514.7753,208.2123,513.8525 M208.2123,513.8525 C211.5594,512.9297,217.3622,517.8106,219.6811,519.3623 M219.6811,519.3623 C221.9999,520.9141,221.2237,522.0246,222.1255,523.1632 M222.1255,523.1632 C223.0272,524.3017,222.9629,523.4603,225.0916,526.1937 M225.0916,526.1937 C227.2203,528.927,231.9466,541.2445,234.8978,539.5634 M234.8978,539.5634 C237.849,537.8822,241.2991,516.2321,242.7989,516.1066 M242.7989,516.1066 C244.2987,515.9811,243.3377,536.6947,243.8969,538.8105 M243.8969,538.8105 C244.456,540.9264,243.4585,530.8909,246.1539,528.8017 M246.1539,528.8017 C248.8492,526.7125,257.2774,528.3865,260.069,526.2752 M260.069,526.2752 C262.8607,524.164,260.828,514.9964,262.9037,516.1344 M262.9037,516.1344 C264.9793,517.2724,270.0109,531.9457,272.5231,533.1032 M272.5231,533.1032 C275.0353,534.2607,277.1304,524.9848,277.9768,523.0794 M277.9768,523.0794 C278.8231,521.174,274.6318,519.1771,277.6015,521.6709 M277.6015,521.6709 C280.5711,524.1647,293.3996,536.1659,295.7948,538.0424 M295.7948,538.0424 C298.19,539.9189,291.8826,531.1035,291.9728,532.9299 M291.9728,532.9299 C292.0629,534.7563,295.0592,548.3003,296.3357,549.001 M296.3357,549.001 C297.6123,549.7016,296.6018,539.0945,299.6321,537.1336 M299.6321,537.1336 C302.6624,535.1728,312.0873,542.1269,314.5175,537.236 M314.5175,537.236 C316.9477,532.3451,311.7969,509.5171,314.2132,507.7883 M314.2132,507.7883 C316.6296,506.0595,326.4776,522.9644,329.0156,526.8633 M329.0156,526.8633 C331.5535,530.7623,328.3974,531.1095,329.441,531.1819 M329.441,531.1819 C330.4847,531.2542,333.4987,528.1307,335.2775,527.2973 M335.2775,527.2973 C337.0563,526.4639,338.6982,525.7361,340.1139,526.1815 M340.1139,526.1815 C341.5295,526.6269,340.4181,532.2674,343.7714,529.9697 M343.7714,529.9697 C347.1246,527.672,357.1878,510.9625,360.2335,512.3954 M360.2335,512.3954 C363.2791,513.8284,360.3361,534.3136,362.0451,538.5674 M362.0451,538.5674 C363.754,542.8211,369.7253,539.0694,370.487,537.918 M370.487,537.918 C371.2488,536.7666,364.2639,532.6196,366.6156,531.659 M366.6156,531.659 C368.9674,530.6984,381.3821,533.0165,384.5974,532.1543 M384.5974,532.1543 C387.8127,531.2921,385.705,526.3059,385.9073,526.486 M385.9073,526.486 C386.1096,526.6661,383.1312,531.8019,385.8112,533.235 M385.8112,533.235 C388.4912,534.668,398.6402,533.3719,401.9875,535.0841 M401.9875,535.0841 C405.3347,536.7963,404.5596,546.4238,405.8947,543.5084 M405.8947,543.5084 C407.2298,540.5929,408.3137,524.0086,409.9979,517.5914 M409.9979,517.5914 C411.6821,511.1743,414.4201,501.3321,415.9998,505.0055 M415.9998,505.0055 C417.5795,508.6788,417.2135,536.0755,419.4761,539.6315 M419.4761,539.6315 C421.7388,543.1875,427.3927,527.1237,429.5757,526.3415 M429.5757,526.3415 C431.7587,525.5592,432.8813,533.6211,432.5743,534.9379 M432.5743,534.9379 C432.2673,536.2548,425.4683,536.8171,427.7337,534.2427 M427.7337,534.2427 C429.9992,531.6682,442.6412,519.4039,446.1671,519.4915 M446.1671,519.4915 C449.6931,519.579,448.1231,531.892,448.8895,534.7679 M448.8895,534.7679 C449.6559,537.6439,448.8299,537.9448,450.7655,536.7472 M450.7655,536.7472 C452.7012,535.5496,458.3753,528.1237,460.5035,527.5825 M460.5035,527.5825 C462.6317,527.0413,460.1645,533.6451,463.5346,533.5002 M463.5346,533.5002 C466.9048,533.3552,477.6526,527.5089,480.7245,526.7129 M480.7245,526.7129 C483.7963,525.9169,481.3166,528.9882,481.9658,528.7243 M481.9658,528.7243 C482.615,528.4604,482.6015,525.4295,484.6195,525.1295 M484.6195,525.1295 C486.6374,524.8295,492.7726,527.8573,494.0734,526.9241 M494.0734,526.9241 C495.3742,525.991,490.2513,519.3409,492.4242,519.5305 M492.4242,519.5305 C494.5972,519.7201,504.8664,526.8112,507.1111,528.0619 M507.1111,528.0619 C509.3557,529.3125,503.9847,527.1124,505.8923,527.0345 M505.8923,527.0345 C507.7999,526.9566,515.9297,531.2115,518.5566,527.5944 M518.5566,527.5944 C521.1835,523.9774,522.237,503.9447,521.6537,505.3324 M521.6537,505.3324 C521.0703,506.7201,513.6291,533.6909,515.0563,535.9206\" fill=\"none\" stroke=\"rgba(0,0,0,1)\" stroke-miterlimit=\"10\" stroke-width=\"2\"/>\n",
       "</svg>"
      ],
      "text/plain": [
       "<IPython.core.display.SVG object>"
      ]
     },
     "metadata": {},
     "output_type": "display_data"
    }
   ],
   "source": [
    "size = 200\n",
    "d = document(size, size, 'mm')\n",
    "page = d.addpage()\n",
    "line_figure = shape().stroke(rgba(0, 255, 0, 255)).width(1)\n",
    "curve_figure = shape().stroke(rgba(0, 0, 0, 255)).width(2)\n",
    "row_n = 16\n",
    "for i in range(row_n):\n",
    "    pts = make_scribble(xoffset=10,\n",
    "                        yoffset=10+(i*(size/(row_n+1))), # row_n + 1 to leave some space at the bottom\n",
    "                        width=size-20,\n",
    "                        height=(size/row_n)*0.25,\n",
    "                        steps=int(uniform(25, 250)),\n",
    "                        stddev=uniform(2))\n",
    "    lines = line_figure.polyline(flatten(pts))\n",
    "    curve = curve_figure.path(smooth_point_path(pts))\n",
    "    page.place(curve)\n",
    "    #page.place(lines) # uncomment to see original lines\n",
    "show(page)"
   ]
  },
  {
   "cell_type": "markdown",
   "metadata": {},
   "source": [
    "> Exercise: Use the `i` parameter of the loop to control some other aspect of the line generation. (For example, make it so the number of steps increases as the scribbles move down the page.)\n",
    "\n",
    "> Exercise: Introduce randomly-placed crosses (like the cross in `t`) and dots (as in `i`)."
   ]
  },
  {
   "cell_type": "markdown",
   "metadata": {},
   "source": [
    "## Weighted strokes\n",
    "\n",
    "The strokes produced by the flat library have a uniform width and texture, which makes the resulting artifacts resemble drawings made with a very precise pen. The problem of how to simulate how different writing implements make marks on a page (\"brushes\" in a tool like PhotoShop) is an open area of research in computer graphics research. ([A recent review](https://onlinelibrary.wiley.com/doi/full/10.1002/cav.1435).)\n",
    "\n",
    "The Bezmerizing library implements a simple technique for simulating an ink brush or other kinds of pens, which works by drawing a polygon along the tangents of the curves composing the stroke. The function to generate the polygon is `fancy_curve()`:"
   ]
  },
  {
   "cell_type": "code",
   "execution_count": 71,
   "metadata": {},
   "outputs": [],
   "source": [
    "from bezmerizing import fancy_curve"
   ]
  },
  {
   "cell_type": "markdown",
   "metadata": {},
   "source": [
    "As an example, let's define a set of points:"
   ]
  },
  {
   "cell_type": "code",
   "execution_count": 72,
   "metadata": {},
   "outputs": [],
   "source": [
    "pts = [[10, 10], [15, 15], [15, 85], [50, 50], [85, 85], [85, 15], [90, 10]]"
   ]
  },
  {
   "cell_type": "markdown",
   "metadata": {},
   "source": [
    "... and then create the polygon around the curve with `fancy_curve`. The `samples_per` parameter controls the resolution of the polygon (lower values are faster to calculate but chunkier) and the `thicknesses` parameter controls the thickness of the polygon along the path."
   ]
  },
  {
   "cell_type": "code",
   "execution_count": 73,
   "metadata": {},
   "outputs": [],
   "source": [
    "curve_poly = fancy_curve(pts, samples_per=24, thicknesses=[0, 2, 10, 2, 8, 2])"
   ]
  },
  {
   "cell_type": "markdown",
   "metadata": {},
   "source": [
    "Here's an example that draws the Catmull-Rom curve on top of the polygon, just to show you how it works:"
   ]
  },
  {
   "cell_type": "code",
   "execution_count": 74,
   "metadata": {},
   "outputs": [
    {
     "data": {
      "image/svg+xml": [
       "<svg height=\"283.4646pt\" version=\"1.1\" viewBox=\"0 0 283.4646 283.4646\" width=\"283.4646pt\" xmlns=\"http://www.w3.org/2000/svg\" xmlns:xlink=\"http://www.w3.org/1999/xlink\">\n",
       "<title>Untitled</title>\n",
       "<polygon fill=\"rgba(0,0,0,0.9412)\" points=\"42.5197 42.5197 42.8611 47.7491 42.9893 54.1283 42.932 61.5332 42.7173 69.8427 42.3732 78.9367 41.9278 88.6954 41.409 98.9995 40.8449 109.7294 40.2635 120.7658 39.6928 131.9891 39.1607 143.2797 38.6952 154.5177 38.3243 165.5829 38.0758 176.3545 37.9776 186.711 38.0572 196.5298 38.3417 205.6859 38.8572 214.0508 39.6274 221.4897 41.1102 227.776 42.8419 232.7223 44.7035 236.0182 46.212 237.2526 46.634 236.8306 46.6171 236.202 46.1117 235.558 46.8223 234.591 48.6534 232.5536 51.185 229.3726 54.185 225.1772 57.5346 220.1178 61.1645 214.3376 65.0283 207.9712 69.0913 201.1469 73.3252 193.9882 77.7066 186.6148 82.2164 179.1423 86.8403 171.6824 92.5193 165.0659 98.2631 158.7243 104.063 152.7756 109.921 147.3356 115.8573 142.5207 121.9204 138.4561 128.1988 135.3017 134.8045 133.3146 141.7323 132.93 141.7323 133.5267 148.1792 135.0391 153.9034 137.9564 159.1239 141.8609 164.0643 146.5573 168.8603 151.9355 173.5798 157.9031 178.2514 164.3657 182.8823 171.223 187.4673 178.3692 192.8471 185.0915 198.1639 191.8959 203.3897 198.6544 208.4954 205.2376 213.4498 211.5139 218.2176 217.3482 222.7569 222.5992 227.0108 227.1152 230.892 230.7276 234.2402 233.243 236.7157 234.4611 237.5978 234.3899 236.2345 234.0497 234.5097 234.5097 234.1932 234.1932 233.9482 233.6342 234.4605 230.9382 235.0105 226.4672 235.3832 220.5694 236.4174 213.5447 237.2188 205.464 237.7986 196.5071 238.1775 186.829 238.3801 176.5712 238.4327 165.8672 238.3625 154.8459 238.1972 143.633 237.9647 132.3524 237.6927 121.1266 237.4095 110.0768 237.1429 99.3238 236.921 88.9876 236.772 79.1876 236.724 70.0426 236.8053 61.6704 237.0444 54.187 237.4708 47.7056 238.1165 42.3311 243.7732 42.7082 244.0346 47.7969 244.5029 54.0593 245.1544 61.3631 245.9625 69.5835 246.9 78.5992 247.9392 88.2902 249.0523 98.5376 250.2116 109.2232 251.3891 120.2295 252.5569 131.4394 253.6873 142.7368 254.7521 154.0063 255.7234 165.1343 256.5728 176.0087 257.2716 186.5209 257.7903 196.5667 258.0975 206.0501 258.158 214.8882 257.9272 223.0234 256.4546 230.2889 254.5234 236.7469 251.8626 242.508 247.6965 247.6965 247.3801 247.3801 240.9747 250.6941 234.2296 250.4517 229.0776 247.9668 224.9155 244.5044 221.0717 240.317 217.2553 235.449 213.355 229.9516 209.3323 223.9008 205.1794 217.3896 200.9032 210.5213 196.5173 203.4054 192.0396 196.1549 187.4898 188.8851 182.8888 181.7126 177.4278 175.388 171.9964 169.4431 166.6383 164.0168 161.4096 159.2535 156.3879 155.3032 151.69 152.3184 147.5005 150.4334 144.0919 149.6975 141.7323 149.9378 141.7323 150.5346 139.8535 151.422 137.3264 153.088 134.1949 155.7231 130.6197 159.3398 126.7383 163.8533 122.6481 169.1444 118.4183 175.0846 114.0998 181.5451 109.7327 188.3994 104.3759 194.8343 99.019 201.436 93.6969 208.0715 88.4393 214.612 83.2716 220.9323 78.2148 226.9115 73.2827 232.433 68.478 237.3871 63.7805 241.672 59.12 245.1938 54.3136 247.8369 48.99 249.2835 43.1028 248.5418 38.4054 245.0592 38.8274 244.6372 36.4148 240.124 35.1033 234.9628 34.3538 228.9801 33.9914 222.1031 33.4965 214.3821 33.2712 205.8282 33.2831 196.544 33.5024 186.6388 33.9005 176.2254 34.4488 165.4186 35.1193 154.3345 35.8839 143.0901 36.7148 131.8028 37.5838 120.5903 38.4632 109.5706 39.3249 98.8619 40.1411 88.5823 40.8838 78.8501 41.5253 69.7835 42.0375 61.5003 42.3926 54.1181 42.5627 47.7533 42.5197 42.5197\"/>\n",
       "<path d=\"M42.5197,42.5197 C44.8819,77.9528,25.9843,224.4094,42.5197,240.9449 M42.5197,240.9449 C59.0551,257.4803,108.6614,141.7323,141.7323,141.7323 M141.7323,141.7323 C174.8031,141.7323,224.4094,257.4803,240.9449,240.9449 M240.9449,240.9449 C257.4803,224.4094,238.5827,77.9528,240.9449,42.5197\" fill=\"none\" stroke=\"rgba(0,255,0,1)\" stroke-miterlimit=\"10\"/>\n",
       "</svg>"
      ],
      "text/plain": [
       "<IPython.core.display.SVG object>"
      ]
     },
     "metadata": {},
     "output_type": "display_data"
    }
   ],
   "source": [
    "d = document(100, 100, 'mm')\n",
    "page = d.addpage()\n",
    "curve_figure = shape().nostroke().fill(rgba(0, 0, 0, 240))\n",
    "smooth_figure = shape().stroke(rgba(0, 255, 0, 255))\n",
    "smooth_path = smooth_point_path(pts)\n",
    "poly = curve_figure.polygon(flatten(curve_poly))\n",
    "path = smooth_figure.path(smooth_path)\n",
    "page.place(poly)\n",
    "page.place(path)\n",
    "show(page)"
   ]
  },
  {
   "cell_type": "markdown",
   "metadata": {},
   "source": [
    "Here's the \"alien characters\" example above, except using `fancy_curve()` to generate polygons for each stroke. (Try playing around with the `thickness` parameter.)"
   ]
  },
  {
   "cell_type": "code",
   "execution_count": 78,
   "metadata": {},
   "outputs": [
    {
     "data": {
      "image/svg+xml": [
       "<svg height=\"425.1969pt\" version=\"1.1\" viewBox=\"0 0 425.1969 425.1969\" width=\"425.1969pt\" xmlns=\"http://www.w3.org/2000/svg\" xmlns:xlink=\"http://www.w3.org/1999/xlink\">\n",
       "<title>Untitled</title>\n",
       "<polygon fill=\"rgba(0,0,0,1)\" points=\"25.0414 5.9686 28.0808 5.4047 30.8822 6.0475 33.406 7.3994 35.7632 9.232 37.9825 11.4217 40.0365 13.8624 41.8715 16.4485 43.4224 19.0749 44.6176 21.6417 45.3784 24.066 45.5931 26.3091 45.5007 26.3091 45.0972 28.3917 44.1487 30.4 42.7892 32.3659 41.1056 34.299 39.1737 36.1854 37.0685 37.9986 34.8662 39.7061 32.6436 41.2723 30.4783 42.6599 28.4472 43.8311 26.626 44.748 25.9921 43.4803 27.6757 42.4977 29.5776 41.261 31.6127 39.8126 33.6976 38.195 35.7492 36.4511 37.684 34.6258 39.4174 32.7665 40.8641 30.9272 41.9393 29.1743 42.5693 27.5975 42.7277 26.3091 42.6352 26.3091 42.2881 24.9135 41.4704 23.0571 40.2309 20.9418 38.6515 18.7257 36.8212 16.5495 34.8352 14.549 32.8006 12.8592 30.8503 11.615 29.1736 10.9337 28.0421 10.8273 27.5767 11.0393\"/>\n",
       "<polygon fill=\"rgba(0,0,0,1)\" points=\"46.1186 99.2682 43.2888 100.6241 40.182 101.0494 36.4003 101.2007 32.0741 101.168 27.4391 100.9993 22.7583 100.7366 18.3042 100.4206 14.3533 100.0913 11.1839 99.7891 9.0753 99.554 8.5039 95.0926 8.5039 95.1529 9.3916 95.2891 11.2983 95.5218 14.1928 95.8213 17.8335 96.1475 21.9785 96.4603 26.3849 96.7198 30.8084 96.8861 35.0016 96.9201 38.7089 96.785 41.6514 96.4541 43.4668 95.9691 43.4871 96.0096 44.4239 95.3384 45.0323 94.3784 45.3803 93.0532 45.456 91.413 45.2862 89.5683 44.9312 87.6279 44.4644 85.6892 43.9636 83.8398 43.5066 82.1576 43.1707 80.7015 43.0436 79.4587 43.0738 79.4587 43.1889 78.5325 43.4499 77.7582 43.8209 77.1434 44.278 76.6891 44.8507 76.4027 45.6762 76.4701 46.2364 77.2265 46.1657 77.9161 45.8616 78.5223 45.3577 79.1873 44.6153 79.9598 43.6131 78.9576 44.2084 78.2586 44.5338 77.7463 44.6311 77.4696 44.6139 77.5706 44.96 78.0327 45.3842 78.1001 45.4486 78.108 45.3706 78.2423 45.26 78.5104 45.1732 78.9133 45.1545 79.4587 45.1847 79.4587 45.3251 80.2492 45.6849 81.5488 46.1911 83.1841 46.7604 85.0536 47.3103 87.0746 47.7579 89.1741 48.0162 91.289 47.9849 93.3677 47.5302 95.3601 46.4799 97.1559 44.7413 98.518 44.7615 98.5584 42.2428 99.4112 38.9782 99.9096 35.0872 100.1758 30.7725 100.2634 26.26 100.2157 21.7839 100.0738 17.5814 99.8783 13.8914 99.6694 10.9535 99.4874 9.0075 99.3722 8.5039 99.3747 8.5039 99.435 9.4576 95.1073 11.5494 95.22 14.6941 95.3994 18.609 95.6053 23.0107 95.7975 27.6137 95.9361 32.1287 95.9815 36.2569 95.8953 39.6722 95.6453 41.943 95.2411 42.1098 95.2594\"/>\n",
       "<polygon fill=\"rgba(0,0,0,1)\" points=\"42.1098 112.7988 44.8529 111.6214 47.7371 113.7218 48.1041 115.5833 48.0991 117.416 47.9455 119.4853 47.6995 121.7656 47.403 124.1669 47.0963 126.5792 46.8193 128.8819 46.6116 130.9434 46.5096 132.6083 46.4697 132.6083 46.4906 134.1257 46.6153 135.8224 46.8103 137.6384 47.0374 139.5236 47.2564 141.4345 47.4256 143.334 47.5004 145.1914 47.4295 146.9855 47.1438 148.7042 46.5371 150.3298 45.4693 151.7685 45.441 151.7402 44.122 152.7162 42.6145 153.4111 40.9578 153.886 39.1761 154.1754 37.2942 154.296 35.3406 154.2563 33.3472 154.0596 31.3475 153.7072 29.3767 153.1983 27.4707 152.5303 25.6663 151.6989 25.6797 151.6722 23.7502 150.4588 21.7028 148.8184 19.5619 146.8554 17.3875 144.68 15.2511 142.4072 13.2286 140.1541 11.3978 138.0392 9.8377 136.1817 8.6276 134.7011 7.8472 133.7173 8.5039 131.4205 8.5039 131.4405 9.7875 132.3398 10.9062 133.6601 12.586 135.6083 14.6661 137.9834 16.9852 140.5841 19.3817 143.2086 21.6926 145.654 23.7506 147.714 25.3706 149.1704 26.2005 149.7491 25.3608 150.4134 25.3808 150.4134 25.0586 149.4045 23.9701 147.1196 22.3008 144.0155 20.2225 140.3214 17.899 136.2452 15.492 131.9894 13.1621 127.7544 11.0689 123.7384 9.3707 120.1349 8.2237 117.1223 7.7953 114.8031 9.2126 114.8031 9.6136 116.6845 10.7407 119.531 12.4403 123.0443 14.5476 127.0011 16.8997 131.1938 19.3353 135.4192 21.6938 139.4763 23.8159 143.1665 25.5445 146.2962 26.7301 148.6933 27.2373 150.4134 27.2573 150.4134 25.5882 151.586 24.144 150.7199 22.3662 149.1798 20.2238 147.0929 17.8526 144.6422 15.4065 142.0229 13.0436 139.4332 10.9232 137.0728 9.2052 135.1416 8.0498 133.8399 8.5039 133.7761 8.5039 133.796 9.7225 132.1948 10.5206 133.1374 11.7452 134.573 13.3154 136.3808 15.15 138.4396 17.1674 140.6278 19.2849 142.823 21.418 144.9016 23.4776 146.7377 25.363 148.2009 26.9384 149.1546 26.9518 149.1278 28.5185 149.7679 30.1976 150.2772 31.9457 150.6511 33.7184 150.8873 35.4705 150.985 37.1556 150.9452 38.725 150.7716 40.1271 150.4723 41.3064 150.0644 42.2067 149.5821 42.7873 149.0865 42.7591 149.0583 43.029 148.5974 43.2516 147.8151 43.3673 146.6979 43.3499 145.3081 43.2107 143.7142 42.9785 141.9751 42.6892 140.1404 42.3812 138.2531 42.0946 136.3503 41.8715 134.4619 41.7586 132.6083 41.7187 132.6083 41.7506 130.6345 41.8907 128.4153 42.0952 126.0359 42.3236 123.6057 42.5355 121.2447 42.6908 119.0837 42.7511 117.2737 42.6927 116.0296 42.6584 115.8577 44.7132 117.2091 46.1186 116.8075\"/>\n",
       "<polygon fill=\"rgba(0,0,0,1)\" points=\"26.3091 206.3976 23.8157 205.5992 21.7983 204.2286 19.5468 202.3915 17.0971 200.1899 14.5749 197.7621 12.1254 195.2561 9.8972 192.82 8.0334 190.5905 6.6498 188.6492 5.7839 186.5924 8.5039 183.3624 8.5039 183.4023 10.8922 184.1624 13.381 185.5994 16.5264 187.6037 20.2057 190.0107 24.2356 192.6298 28.4182 195.2628 32.547 197.7078 36.4041 199.7595 39.7421 201.21 42.2182 201.8715 43.2571 201.8489 43.275 201.8846 44.0826 201.1432 45.0795 199.2298 45.928 196.373 46.5284 192.856 46.8529 188.9229 46.8927 184.7977 46.6464 180.697 46.117 176.8365 45.3155 173.4375 44.2749 170.7342 43.0979 168.9691 43.119 168.9479 41.3316 167.7246 38.4566 166.6156 34.8045 165.7471 30.6579 165.1534 26.2796 164.8451 21.9247 164.8251 17.8479 165.0924 14.3112 165.6394 11.5998 166.4366 10.045 167.3437 9.6917 167.9528 9.6717 167.9528 10.2593 169.4771 12.2404 172.2694 15.3294 175.7805 19.2172 179.7495 23.6118 183.9591 28.2272 188.2026 32.7804 192.2766 36.9895 195.9794 40.5739 199.1105 43.256 201.4721 44.7847 202.8925 44.7705 202.9066 43.7261 204.4594 43.0178 203.7229 41.5337 202.2106 39.4743 200.123 37.0404 197.6608 34.4326 195.0248 31.8515 192.4155 29.4979 190.0336 27.5723 188.0798 26.2754 186.7547 26.3091 185.0492 26.3091 186.4665 27.3059 185.7242 28.6309 187.0211 30.5848 188.9467 32.9666 191.3003 35.5759 193.8814 38.212 196.4892 40.6742 198.9232 42.7617 200.9825 44.2741 202.4666 45.0106 203.1749 43.4578 204.2194 43.4437 204.2335 41.9758 202.9249 39.2803 200.6045 35.6677 197.5018 31.4224 193.8204 26.8255 189.761 22.1572 185.5233 17.696 181.3052 13.718 177.3014 10.493 173.6958 8.2736 170.6289 7.3361 167.9528 7.3162 167.9528 8.3541 165.6188 10.6519 164.1715 13.773 163.2029 17.567 162.5728 21.8376 162.2514 26.3652 162.2314 30.9229 162.5117 35.2843 163.0952 39.2305 163.9925 42.5625 165.2379 45.1093 166.9576 45.1305 166.9364 46.8964 169.3718 48.2102 172.5277 49.1745 176.2454 49.8223 180.3578 50.1646 184.6847 50.2045 189.0407 49.9403 193.2409 49.3636 197.1082 48.4463 200.4852 47.0887 203.2538 44.9533 205.2413 44.9712 205.2771 41.8097 205.7628 38.4266 204.9795 34.6478 203.4336 30.5321 201.3383 26.2333 198.8872 21.9347 196.2764 17.8312 193.7051 14.1262 191.3765 11.0379 189.5014 8.8446 188.3165 8.5039 188.1134 8.5039 188.1533 10.5818 185.7528 10.8129 185.9701 11.9443 187.4265 13.6923 189.3976 15.8519 191.6435 18.2449 193.98 20.699 196.2342 23.0383 198.2332 25.0676 199.7938 26.5016 200.6974 26.3091 200.7283\"/>\n",
       "<polygon fill=\"rgba(0,0,0,1)\" points=\"26.3091 223.937 27.6348 223.3292 27.8514 222.9499 27.7076 223.5943 27.6396 224.8828 27.6907 226.5737 27.8363 228.5238 28.0392 230.6267 28.2598 232.7919 28.4575 234.9388 28.591 236.9957 28.6152 238.9075 28.5672 238.9075 28.5191 240.593 28.4711 242.3856 28.423 244.245 28.375 246.1312 28.3269 248.004 28.2789 249.8233 28.2308 251.549 28.1828 253.1409 28.1348 254.5589 28.0867 255.7628 28.0387 256.7126 27.9906 256.7126 27.9426 257.4483 27.8945 258.0369 27.8465 258.4784 27.7984 258.7727 27.7504 258.9198 24.9037 258.9198 24.9278 258.7727 24.9518 258.4784 24.9758 258.0369 24.9998 257.4483 25.0239 256.7126 25.0479 256.7126 25.0118 255.8251 24.8668 254.486 24.651 252.8324 24.4058 250.9596 24.1723 248.9518 23.9916 246.8888 23.9054 244.8467 23.9578 242.8964 24.2001 241.1005 24.7064 239.5114 25.6041 238.2025 25.6211 238.2195 27.1339 237.3473 29.0448 236.9098 31.2835 236.7234 33.7367 236.7198 36.2633 236.8525 38.7122 237.0795 40.9287 237.3605 42.7582 237.6559 44.0565 237.9293 44.9268 238.2973 44.1142 239.6161 44.1142 238.1988 43.9437 239.3839 43.717 239.4041 42.5004 239.1959 40.718 238.9562 38.5468 238.7288 36.1532 238.5545 33.7034 238.4732 31.3675 238.5231 29.3256 238.7381 27.7851 239.1299 26.997 239.5954 27.014 239.6124 26.574 240.3369 26.2509 241.5035 26.0919 243.0252 26.0908 244.7938 26.2186 246.7113 26.4392 248.6882 26.714 250.6401 27.0039 252.4862 27.2697 254.1502 27.4726 255.5668 27.5702 256.7126 27.5943 256.7126 27.6183 257.4483 27.6423 258.0369 27.6663 258.4784 27.6903 258.7727 27.7144 258.9198 24.8677 258.9198 24.8197 258.7727 24.7716 258.4784 24.7236 258.0369 24.6755 257.4483 24.6275 256.7126 24.5794 256.7126 24.5314 255.7628 24.4834 254.5589 24.4353 253.1409 24.3873 251.549 24.3392 249.8233 24.2912 248.004 24.2431 246.1312 24.1951 244.245 24.147 242.3856 24.099 240.593 24.0509 238.9075 24.0029 238.9075 23.8934 237.3144 23.6791 235.4385 23.3952 233.3848 23.0807 231.2426 22.7753 229.0915 22.5195 227.0017 22.3566 225.0272 22.3421 223.1855 22.5996 221.3951 23.6456 219.4373 26.3091 218.2677\"/>\n",
       "<polygon fill=\"rgba(0,0,0,1)\" points=\"23.7737 311.1299 22.9015 308.4341 22.4638 305.3445 22.281 301.8384 22.283 298.0038 22.4218 293.9701 22.6546 289.883 22.9404 285.8962 23.2385 282.1681 23.5084 278.8622 23.7094 276.1524 23.8026 274.252 23.8325 274.252 23.8125 273.2028 23.791 272.8945 24.3133 273.5289 26.3386 273.8549 27.1863 273.2153 27.2785 272.9905 27.2572 272.9514 27.2171 272.8391 27.0317 272.5004 26.5748 272.1507 26.3091 272.1036 26.3091 272.1334 27.279 272.1042 28.9616 271.9645 31.0963 271.7544 33.5046 271.5153 36.0233 271.288 38.4964 271.1131 40.7793 271.0319 42.7581 271.0924 44.4566 271.4084 46.1957 273.121 45.3801 275.5179 45.359 275.4968 43.503 276.7257 40.8564 277.9609 37.4423 279.3705 33.4579 280.9402 29.1312 282.636 24.6997 284.4191 20.4057 286.2477 16.4973 288.0762 13.2325 289.8494 10.8931 291.4762 9.785 292.6976 9.765 292.6876 9.5744 293.7787 10.0077 295.4919 11.1339 297.6146 12.8301 299.9124 14.9301 302.2133 17.2629 304.373 19.6557 306.2575 21.9279 307.7356 23.8705 308.6774 25.1701 308.9895 25.4282 308.9813 25.4387 308.9919 25.7166 308.1363 25.9513 305.6424 25.9265 302.1227 25.7027 297.932 25.3576 293.3721 24.9713 288.7305 24.6239 284.2882 24.396 280.3193 24.3703 277.0791 24.6644 274.7267 26.3091 273.1852 26.3091 273.2002 28.1614 274.3187 29.8003 276.5562 31.7203 279.7756 33.851 283.7465 36.0823 288.2022 38.2975 292.8673 40.3779 297.4642 42.2046 301.7151 43.6593 305.3449 44.6271 308.0923 45.0019 309.8622 44.9869 309.8622 43.4282 310.9302 42.0392 310.0549 40.295 308.4977 38.1824 306.3913 35.84 303.9201 33.4221 301.2799 31.087 298.6691 28.9943 296.2873 27.3039 294.3347 26.176 293.0115 26.3091 291.3484 26.3091 292.7657 27.2715 292.0658 28.4177 293.3646 30.1251 295.2914 32.2329 297.6451 34.5799 300.2247 37.0046 302.8283 39.3441 305.2533 41.432 307.2938 43.0856 308.7331 43.9708 309.3025 43.2414 309.8622 43.2265 309.8622 42.9056 308.6356 41.9472 306.0053 40.4856 302.4382 38.6469 298.2347 36.5536 293.6816 34.3276 289.0629 32.0909 284.6628 29.9676 280.7678 28.0885 277.6732 26.6238 275.7102 26.3091 275.3038 26.3091 275.3187 26.7497 275.3023 26.5623 277.1503 26.6169 280.2242 26.8705 284.1211 27.2455 288.5346 27.6618 293.1768 28.0391 297.7669 28.2969 302.0306 28.3524 305.7078 28.1054 308.5916 27.1794 310.7325 27.1899 310.7431 25.1471 311.5108 22.9954 311.0738 20.6573 309.9822 18.1404 308.3836 15.5569 306.3887 13.0471 304.1071 10.7594 301.6457 8.8437 299.101 7.455 296.5416 6.7914 293.9741 7.2429 291.4266 7.2229 291.4166 8.9775 289.2669 11.668 287.3086 15.1185 285.3629 19.1294 283.4191 23.4772 281.502 27.9281 279.6465 32.2431 277.891 36.1781 276.2769 39.4794 274.8505 41.8626 273.6778 42.8693 273.0071 42.8482 272.986 42.6747 274.0452 43.317 274.9285 42.5005 274.8432 40.8675 274.8501 38.7626 274.9829 36.3932 275.2093 33.9355 275.4904 31.5548 275.7864 29.4087 276.0579 27.64 276.266 26.3091 276.3705 26.3091 276.4003 24.7056 276.0857 23.4193 275.0404 22.8326 273.7385 22.739 272.556 22.9317 271.5002 23.4252 270.4728 24.7812 269.4051 27.3416 269.8382 28.3455 271.2752 28.6718 272.6257 28.7856 274.252 28.8155 274.252 28.7749 276.4182 28.6281 279.2199 28.4164 282.5491 28.1794 286.2587 27.9569 290.1913 27.7884 294.184 27.7132 298.0696 27.7687 301.6728 27.9872 304.8018 28.3789 307.2236 28.8444 308.5945\"/>\n",
       "<polygon fill=\"rgba(0,0,0,1)\" points=\"6.4995 329.406 5.249 327.9811 4.5067 327.0646 4.1926 326.5761 7.5378 323.1238 7.6647 323.425 7.9789 323.9135 8.4 324.509 8.848 325.1312 9.2424 325.6999 9.5031 326.1349 8.5039 325.9226 8.5039 326.0151 8.5039 326.0767 8.5039 326.1383 8.5039 326.1999 8.5039 326.2616 8.5039 326.3232 8.5039 326.3848 8.5039 326.4464 8.5039 326.508 8.5039 326.5697 8.5039 326.6313 8.5039 326.6929 8.5039 328.1102 8.5039 328.1719 8.5039 328.2335 8.5039 328.2951 8.5039 328.3567 8.5039 328.4183 8.5039 328.48 8.5039 328.5416 8.5039 328.6032 8.5039 328.6648 8.5039 328.7265 8.5039 328.7881 8.5039 328.8805 7.2372 328.4007 6.8023 328.1401 6.2336 327.7456 5.6113 327.2977 5.0158 326.8765 4.5274 326.5623 4.2262 326.4354 7.6785 323.0902 8.1669 323.4044 9.0835 324.1466 10.5083 325.3972\"/>\n",
       "<polygon fill=\"rgba(0,0,0,1)\" points=\"5.6693 380.5512 7.3684 377.557 9.4938 376.7707 11.604 376.5563 13.9106 376.5658 16.3711 376.718 18.8683 376.965 21.2602 377.2648 23.3959 377.5771 25.12 377.8618 26.2752 378.0789 26.3091 378.1557 26.3091 378.1956 25.2168 382.6511 23.9479 382.2731 22.0581 381.7628 19.7521 381.2007 17.2376 380.6674 14.7294 380.2429 12.4592 380.0036 10.7083 380.005 9.9019 380.1506 10.1477 379.6879 10.218 379.6941 10.1823 379.712 11.4363 381.571 14.0173 384.6099 17.5481 388.3955 21.7242 392.6546 26.2564 397.1366 30.8604 401.5968 35.2533 405.7924 39.1532 409.4816 42.2786 412.423 44.3483 414.3754 44.1142 414.7241 44.1142 414.7541 42.3914 416.5273 40.1239 414.5804 36.7316 411.6425 32.5349 407.954 27.8542 403.7547 23.0092 399.2842 18.3189 394.7806 14.0995 390.479 10.6617 386.6045 8.2977 383.3397 7.3162 380.5512 7.3361 380.5512 8.6966 378.2584 11.3774 377.2799 14.9438 376.8765 19.2284 376.8415 23.9588 377.0777 28.8317 377.5015 33.5339 378.0321 37.7481 378.589 41.1555 379.0921 43.4362 379.4611 44.1142 379.603 44.1142 379.6229 43.2739 381.3892 41.1806 381.1959 38.0315 380.9357 34.1079 380.6488 29.6914 380.3752 25.0639 380.1552 20.5084 380.0287 16.3103 380.0352 12.7613 380.2129 10.1789 380.5892 9.005 381.0523 8.0028 380.0501 9.8255 379.1754 12.6207 378.7223 16.2687 378.4987 20.525 378.4517 25.1196 378.5392 29.7759 378.7205 34.2151 378.9554 38.1573 379.2035 41.3223 379.4249 43.4295 379.5793 44.1142 381.4794 44.1142 381.4994 43.1334 381.3737 40.8658 381.0471 37.4776 380.587 33.2908 380.0738 28.6289 379.5877 23.8167 379.2089 19.1831 379.0169 15.0667 379.089 11.8375 379.4882 9.97 380.1685 9.6717 380.5512 9.6917 380.5512 10.3689 382.0969 12.5533 385.0391 15.911 388.7629 20.0926 392.9692 24.7663 397.4016 29.6065 401.8136 34.2899 405.9618 38.4941 409.6039 41.8974 412.4985 44.1782 414.4043 44.1142 417.5688 44.1142 417.5987 42.355 416.5562 40.2243 414.656 37.0356 411.7649 33.0697 408.1234 28.6069 403.9716 23.927 399.5492 19.3092 395.0953 15.0309 390.8464 11.3647 387.0338 8.5681 383.8656 6.8256 381.3904 6.7899 381.4082 6.3519 378.739 8.0424 376.6176 10.2325 375.9605 12.6285 375.8549 15.2544 376.0436 17.99 376.4217 20.666 376.9052 23.0956 377.4133 25.0852 377.8661 26.4381 378.1837 26.3091 382.9067 26.3091 382.9467 25.5135 382.8897 24.3945 382.759 22.7209 382.5621 20.6561 382.3393 18.366 382.1308 16.0206 381.9764 13.7991 381.9146 11.9052 381.9777 10.6176 382.1645 10.4689 382.2077 11.3386 380.5512\"/>\n",
       "<polygon fill=\"rgba(0,0,0,1)\" points=\"76.624 44.1142 76.6545 44.4643 75.7971 43.2249 74.2548 41.4297 72.259 39.3404 69.9965 37.115 67.6391 34.8878 65.353 32.7855 63.3017 30.9317 61.6475 29.4487 60.5523 28.458 61.6535 24.0029 61.6535 24.0509 63.7411 25.3464 64.8356 26.6816 66.4906 28.6441 68.5449 31.0325 70.8369 33.645 73.2038 36.279 75.4806 38.7294 77.4946 40.7855 79.0401 42.2145 79.6061 42.6819 77.729 44.1142 77.7771 44.1142 77.5144 43.1895 76.4626 40.5811 74.8255 37.0012 72.7784 32.7731 70.4865 28.1886 68.1015 23.5382 65.7848 19.105 63.7081 15.1652 62.0322 12.0002 60.9177 9.8912 61.6535 7.2187 61.6535 7.2428 63.1416 8.8535 64.0806 11.1321 65.5141 14.5334 67.3216 18.7361 69.3822 23.4183 71.575 28.258 73.7785 32.9318 75.8692 37.1139 77.7178 40.4703 79.1594 42.6312 79.4587 43.1172 79.4587 43.1413 79.146 43.0992 79.3771 41.2214 79.3613 38.133 79.1461 34.2265 78.8097 29.8068 78.4322 25.1617 78.0941 20.5734 77.8759 16.3198 77.8595 12.6704 78.137 9.865 78.9576 8.0028 79.9598 9.005 79.5764 10.1394 79.3723 12.7116 79.4362 16.2592 79.6996 20.46 80.0838 25.0217 80.509 29.6604 80.8949 34.0965 81.1613 38.0559 81.2258 41.2815 80.9753 43.6041 79.4587 45.0871 79.4587 45.1111 77.5908 43.9384 75.9289 41.551 73.9784 38.1118 71.8151 33.893 69.5505 29.2027 67.3021 24.3572 65.1891 19.6754 63.3311 15.4771 61.8484 12.0828 60.8611 9.8132 61.6535 9.7651 61.6535 9.7891 63.2188 8.6417 64.3784 10.7332 66.1003 13.8822 68.2241 17.8082 70.5894 22.2307 73.047 26.8642 75.4371 31.4297 77.5905 35.656 79.3512 39.2731 80.5735 42.0424 81.1402 44.1142 81.1883 44.1142 78.4818 46.0548 76.7737 45.0774 74.9214 43.51 72.7349 41.4191 70.3297 38.9735 67.8541 36.3635 65.464 33.7857 63.3178 31.4385 61.575 29.5216 60.3953 28.2349 61.6535 28.5672 61.6535 28.6152 63.5842 24.8557 64.7631 25.7913 66.5068 27.2246 68.6559 29.0362 71.0518 31.1076 73.537 33.3216 75.9565 35.5642 78.1612 37.7289 80.0167 39.7328 81.4335 41.5969 82.2933 44.1142\"/>\n",
       "<polygon fill=\"rgba(0,0,0,1)\" points=\"77.4543 99.2682 76.1121 97.5042 74.5291 95.0082 72.6397 91.7923 70.5363 88.0205 68.3309 83.8805 66.1395 79.5658 64.0795 75.2703 62.2678 71.1847 60.819 67.4891 59.8443 64.3256 59.4823 61.6535 59.5426 61.6535 60.1747 59.2503 61.6871 57.4786 63.6427 56.3566 65.8484 55.7085 68.22 55.4338 70.6771 55.4938 73.1289 55.8776 75.4778 56.5907 77.6202 57.6543 79.4359 59.1105 80.7533 61.0062 80.7129 61.0264 81.5224 63.4087 82.1087 66.4751 82.5302 70.1155 82.7986 74.1598 82.9172 78.4204 82.887 82.704 82.708 86.8163 82.3789 90.5649 81.8947 93.7655 81.233 96.2639 80.2156 98.0208 80.1943 97.9994 78.365 98.6619 76.4516 98.184 74.4128 97.0612 72.2225 95.4405 69.9554 93.4324 67.7149 91.1493 65.6133 88.7056 63.766 86.2148 62.2891 83.786 61.3014 81.5144 60.9449 79.4587 62.3622 79.4587 62.7013 81.0415 63.6399 83.0507 65.0793 85.3039 66.8973 87.6557 68.9694 89.9743 71.1702 92.1324 73.3711 94.0037 75.4348 95.4597 77.1951 96.3703 78.3852 96.6416 78.723 96.5281 78.7017 96.5068 79.1559 95.5347 79.6713 93.351 80.07 90.3179 80.3295 86.6822 80.4448 82.6611 80.4146 78.4636 80.239 74.2965 79.9188 70.3679 79.4573 66.8917 78.8664 64.0988 78.2045 62.2806 78.164 62.3009 77.3143 61.2536 76.0265 60.3554 74.3697 59.6532 72.4646 59.1891 70.4485 58.9844 68.4644 59.0443 66.6622 59.3582 65.2025 59.8873 64.2419 60.5311 63.828 61.1138 63.7644 61.6535 63.8248 61.6535 64.1584 63.182 65.1101 65.8777 66.5775 69.2988 68.4311 73.186 70.5448 77.3182 72.7947 81.4846 75.0572 85.478 77.2079 89.0905 79.1176 92.1084 80.6381 94.2944 81.4631 95.2594\"/>\n",
       "<polygon fill=\"rgba(0,0,0,1)\" points=\"94.4291 132.6083 94.4878 132.9415 93.653 131.677 92.1317 129.8558 90.1563 127.7403 87.914 125.4886 85.5767 123.2351 83.3105 121.1065 81.2791 119.2264 79.6449 117.7171 78.5695 116.7 79.4587 112.8594 79.4587 112.9404 80.8786 113.613 81.9892 114.4824 83.6637 115.7819 85.7421 117.4318 88.0651 119.3532 90.4868 121.4527 92.8515 123.656 94.9913 125.9087 96.7541 128.1538 97.9843 130.3693 98.4584 132.6083 98.4179 132.6083 97.971 134.784 96.8953 137.081 95.3432 139.4975 93.4301 141.9583 91.2697 144.3619 88.9766 146.5977 86.6642 148.5518 84.4401 150.1099 82.3935 151.1574 80.5497 151.5504 78.9576 150.9145 79.9598 149.9123 80.5347 150.0522 81.7944 149.6961 83.547 148.7103 85.5769 147.1917 87.7324 145.2663 89.8806 143.0609 91.894 140.7022 93.6462 138.3204 95.0103 136.0549 95.8609 134.0712 96.1097 132.6083 96.0692 132.6083 95.7139 131.3424 94.6699 129.625 93.0349 127.6696 90.9743 125.6149 88.6569 123.5642 86.236 121.6238 83.877 119.8798 81.755 118.3995 80.0316 117.2642 78.8681 116.5552 79.4587 116.6659 79.4587 116.7469 81.1772 113.6019 82.3759 114.5111 84.1395 115.9181 86.3086 117.7033 88.7245 119.7484 91.2297 121.9362 93.6694 124.1525 95.8945 126.291 97.771 128.2689 99.2103 130.108 100.0984 132.6083\"/>\n",
       "<polygon fill=\"rgba(0,0,0,1)\" points=\"58.8189 167.9528 59.5118 165.2113 61.1964 163.1915 63.3256 161.9378 65.6732 161.2217 68.1642 160.9093 70.7323 160.9487 73.2994 161.3273 75.7796 162.056 78.0812 163.1722 80.0885 164.7505 81.6012 166.8815 81.5655 166.8993 82.3982 169.6657 82.8095 173.0279 82.9779 176.9637 82.9654 181.2999 82.8172 185.8214 82.5749 190.2995 82.2791 194.4994 81.9702 198.1838 81.6882 201.114 81.4733 203.0506 79.4587 201.6466 79.4587 201.6865 77.6221 202.8005 77.6621 200.7003 77.702 197.5432 77.7419 193.6103 77.7818 189.1824 77.8218 184.5405 77.8617 179.9655 77.9016 175.7383 77.9415 172.1398 77.9815 169.451 78.0214 167.9528 78.0513 167.9528 80.846 167.5648 80.8261 167.9394 80.8061 168.956 80.7862 170.4944 80.7662 172.4341 80.7462 174.6548 80.7263 177.0359 80.7063 179.4572 80.6863 181.7982 80.6664 183.9386 80.6464 185.7579 80.6265 185.7579 80.5373 187.65 80.3407 189.8238 80.0785 192.1782 79.7909 194.5993 79.518 196.9682 79.2997 199.1615 79.1754 201.0487 79.1791 202.4768 79.286 203.1933 78.814 202.9831 78.7882 202.8925 78.8023 202.9066 79.6848 201.6176 81.0524 198.9915 82.7194 195.4226 84.5933 191.2121 86.5909 186.6464 88.631 182.0081 90.6339 177.5775 92.5213 173.6324 94.2196 170.4436 95.6834 168.2536 97.2638 167.2441 97.2638 168.6614 96.8108 169.1769 95.5189 171.1874 93.8997 174.3126 92.0681 178.2333 90.1114 182.6585 88.1116 187.304 86.1495 191.8884 84.3045 196.1322 82.654 199.7604 81.2659 202.5119 80.115 204.2194 80.1291 204.2335 78.7656 204.9188 77.4642 203.9594 77.1698 202.6426 77.12 200.994 77.2097 199.0017 77.3928 196.7538 77.6282 194.3604 77.8757 191.9389 78.095 189.6112 78.2463 187.5044 78.2909 185.7579 78.2709 185.7579 78.2509 183.9386 78.231 181.7982 78.211 179.4572 78.1911 177.0359 78.1711 174.6548 78.1511 172.4341 78.1312 170.4944 78.1112 168.956 78.0912 167.9394 78.0713 167.5648 80.866 167.9528 80.8959 167.9528 80.9359 169.451 80.9758 172.1398 81.0157 175.7383 81.0556 179.9655 81.0956 184.5405 81.1355 189.1824 81.1754 193.6103 81.2153 197.5432 81.2553 200.7003 81.2952 202.8005 79.4587 205.4394 79.4587 205.4794 77.5778 202.6842 77.7107 200.7681 77.9103 197.8658 78.1364 194.2195 78.349 190.072 78.5081 185.6675 78.5739 181.2531 78.5079 177.0813 78.2749 173.4188 77.8569 170.574 77.3518 169.0062 77.3161 169.024 76.6617 168.212 75.5654 167.4359 74.068 166.7863 72.2942 166.3378 70.3932 166.1278 68.5201 166.1673 66.8375 166.4434 65.5197 166.9045 64.7326 167.4166 64.4909 167.7512 64.4882 167.9528\"/>\n",
       "<polygon fill=\"rgba(0,0,0,1)\" points=\"99.7992 237.6398 100.3706 240.8172 99.4931 243.6319 97.8688 245.9779 95.7954 248.0893 93.4172 250.0679 90.87 251.9323 88.2989 253.667 85.859 255.2412 83.7159 256.613 82.0574 257.7207 81.1525 258.4065 81.1243 258.3782 80.4272 259.0189 79.9843 259.4053 79.7554 259.5777 76.595 256.4709 76.7302 256.3921 76.9591 256.2197 77.2415 255.9937 77.5373 255.7544 77.8063 255.5418 78.0085 255.3962 79.4587 254.7962 79.4587 254.8361 81.2952 256.7795 81.2553 256.9534 81.2153 257.1942 81.1754 257.4617 81.1355 257.7159 81.0956 257.9166 81.0556 258.0236 77.9016 257.9968 77.9415 257.7962 77.9815 257.3815 78.0214 256.7126 78.0513 256.7126 78.0713 255.6959 78.0912 254.3181 78.1112 252.6593 78.1312 250.7999 78.1511 248.82 78.1711 246.8001 78.1911 244.8202 78.211 242.9608 78.231 241.302 78.2509 239.9242 78.2709 238.9075 78.2909 238.9075 78.2959 238.6469 78.7934 239.1096 79.5399 239.0592 79.538 239.0508 79.3739 239.2517 79.2255 239.503 79.1645 239.6208 79.002 239.1344 78.1009 238.8009 78.2028 238.7396 78.7882 238.237 78.8023 238.2511 80.0305 237.1907 81.7877 235.813 83.9442 234.167 86.3465 232.3268 88.8359 230.3716 91.2511 228.3827 93.4288 226.4445 95.2017 224.6482 96.3964 223.1085 96.8611 222.0351 96.7627 221.6035 97.7649 220.6013 98.3086 222.203 97.6763 223.8853 96.3561 225.6631 94.5172 227.5857 92.3071 229.6072 89.8798 231.6582 87.3928 233.6627 85.006 235.5413 82.8818 237.2129 81.1877 238.5909 80.115 239.5638 80.1291 239.578 79.3768 240.2793 78.6494 240.6996 77.3469 240.2858 77.1308 239.3179 77.2839 238.7132 77.5368 238.1619 77.881 237.6405 78.4143 237.1505 79.6424 237.0198 80.4877 237.9642 80.6265 238.9075 80.6464 238.9075 80.6664 239.9242 80.6863 241.302 80.7063 242.9608 80.7263 244.8202 80.7462 246.8001 80.7662 248.82 80.7862 250.7999 80.8061 252.6593 80.8261 254.3181 80.846 255.6959 80.866 256.7126 80.8959 256.7126 80.9359 257.3815 80.9758 257.7962 81.0157 257.9968 77.8617 258.0236 77.8218 257.9166 77.7818 257.7159 77.7419 257.4617 77.702 257.1942 77.6621 256.9534 77.6221 256.7795 79.4587 258.5891 79.4587 258.629 80.7751 258.1628 80.6294 258.3649 80.4169 258.634 80.1775 258.9297 79.9516 259.2121 79.7792 259.441 79.7004 259.5763 76.5935 256.4159 76.7659 256.187 77.1524 255.7441 77.793 255.047 77.7648 255.0187 79.1608 253.8049 80.9536 252.5047 83.0912 251.0406 85.4404 249.4309 87.8457 247.7143 90.141 245.9401 92.1506 244.1731 93.689 242.5121 94.5796 241.1393 94.7991 240.3689 94.7284 240.1752\"/>\n",
       "<polygon fill=\"rgba(0,0,0,1)\" points=\"77.4543 294.0615 77.1535 293.7892 76.0671 293.2962 74.4624 292.8416 72.5462 292.4951 70.4833 292.2782 68.4216 292.1972 66.5066 292.2507 64.8943 292.4265 63.7774 292.6752 63.4187 292.7673 63.5973 292.0571 63.5163 292.0571 63.5533 292.0892 64.4425 293.2846 66.001 294.9184 68.0079 296.8032 70.2806 298.8313 72.6629 300.8978 74.9924 302.921 77.0991 304.8404 78.8348 306.5924 80.0734 308.1631 80.6533 309.8622 80.6128 309.8622 79.7526 311.457 78.2672 312.1974 76.4017 312.6423 74.2047 312.9097 71.7958 313.0206 69.3176 312.9802 66.9193 312.7888 64.7485 312.4434 62.9402 311.9304 61.5915 311.1758 60.9449 309.8622 62.3622 309.8622 62.545 310.0201 63.4705 310.4427 65.0599 310.8126 67.0895 311.0558 69.3733 311.1587 71.7377 311.1183 74.0108 310.9349 76.0143 310.6137 77.5466 310.1757 78.3353 309.7389 78.3046 309.8622 78.2641 309.8622 78.0146 309.528 76.979 308.3429 75.3169 306.7774 73.2231 304.9779 70.8706 303.0414 68.4104 301.0681 66.001 299.1365 63.8074 297.3024 61.9681 295.6186 60.5832 294.0583 59.7908 292.0571 59.7098 292.0571 60.584 289.8754 62.1516 288.7902 63.951 288.156 66.0041 287.7432 68.2627 287.5025 70.6423 287.4214 73.0474 287.4988 75.3852 287.741 77.5796 288.1693 79.5967 288.8535 81.4631 290.0527\"/>\n",
       "<polygon fill=\"rgba(0,0,0,1)\" points=\"97.2638 365.8465 95.1636 365.7984 92.2339 365.7504 88.6756 365.7023 84.6892 365.6543 80.4753 365.6062 76.2347 365.5582 72.1681 365.5101 68.4759 365.4621 65.359 365.4141 63.018 365.366 61.6535 365.318 61.6535 365.2699 61.2656 360.8017 61.6402 360.8498 62.6568 360.8978 64.1952 360.9459 66.1349 360.9939 68.3555 361.042 70.7367 361.09 73.158 361.1381 75.499 361.1861 77.6394 361.2342 79.4587 361.2822 79.4587 361.3302 81.3816 361.4485 83.5678 361.6742 85.9254 361.9649 88.3442 362.2806 90.7064 362.581 92.8895 362.8145 94.7589 362.942 96.1489 362.9434 96.7603 362.8664 96.3429 363.648 96.355 363.9206 96.372 363.9036 95.2461 363.1514 92.8264 361.9674 89.51 360.5408 85.5689 358.9305 81.2533 357.1811 76.8063 355.3335 72.4677 353.4267 68.4733 351.4972 65.0519 349.5746 62.4161 347.6636 60.7619 345.6525 60.7833 345.6418 60.3867 343.4451 61.0562 341.3102 62.445 339.2942 64.347 337.3411 66.608 335.4422 69.0766 333.6173 71.5975 331.8981 74.0126 330.3214 76.1603 328.9273 77.8725 327.7623 78.9576 326.9005 79.9598 327.9027 78.7439 328.9404 77.0048 330.1833 74.8717 331.6252 72.4978 333.2323 70.0424 334.9644 67.6684 336.7781 65.5417 338.6248 63.8319 340.4442 62.7058 342.147 62.2783 343.5973 62.5237 344.7716 62.5452 344.7609 63.7538 346.1209 66.1477 347.795 69.4418 349.5912 73.3667 351.4341 77.6698 353.273 82.1053 355.064 86.4313 356.7658 90.4097 358.3394 93.8086 359.7488 96.4187 360.9726 98.1556 362.12 98.1726 362.103 98.9605 363.7134 97.794 365.3243 96.372 365.6487 94.6854 365.7036 92.6753 365.617 90.4171 365.4492 88.017 365.2413 85.5933 365.0218 83.2689 364.831 81.1744 364.7089 79.4587 364.6934 79.4587 364.7414 77.6394 364.7895 75.499 364.8375 73.158 364.8856 70.7367 364.9336 68.3555 364.9816 66.1349 365.0297 64.1952 365.0777 62.6568 365.1258 61.6402 365.1738 61.2656 365.2219 61.6535 360.7537 61.6535 360.7057 63.018 360.6576 65.359 360.6096 68.4759 360.5615 72.1681 360.5135 76.2347 360.4654 80.4753 360.4174 84.6892 360.3693 88.6756 360.3213 92.2339 360.2733 95.1636 360.2252 97.2638 360.1772\"/>\n",
       "<polygon fill=\"rgba(0,0,0,1)\" points=\"79.4587 395.5217 82.1307 396.8061 83.1705 398.6681 83.6314 400.5937 83.846 402.6986 83.8831 404.9699 83.76 407.3341 83.4808 409.6964 83.0436 411.9557 82.4379 414.0143 81.6303 415.7886 80.5044 417.2072 80.4391 417.1418 78.9629 418.0845 77.1808 418.6974 75.1377 419.1097 72.9106 419.3558 70.5981 419.4465 68.3078 419.3849 66.1495 419.1708 64.2299 418.7997 62.6434 418.2532 61.4622 417.4473 60.9449 416.1614 62.3622 416.1614 62.5406 416.3471 63.2857 416.7183 64.6154 417.0547 66.3611 417.2722 68.3766 417.3525 70.5275 417.2908 72.683 417.0872 74.7098 416.7448 76.4659 416.2741 77.7874 415.7098 78.4782 415.181 78.4129 415.1156 78.7585 414.3671 79.1281 413.0379 79.4053 411.2974 79.5567 409.3027 79.5719 407.197 79.4488 405.12 79.1915 403.2175 78.8176 401.657 78.3955 400.6664 78.2581 400.6021 79.4587 401.1909\"/>\n",
       "<polygon fill=\"rgba(0,0,0,1)\" points=\"114.8031 23.4744 117.2616 24.889 118.0127 25.8527 119.1891 27.3084 120.7095 29.1346 122.4922 31.2097 124.4545 33.4113 126.512 35.6157 128.5771 37.6972 130.5547 39.5265 132.33 40.9668 133.7292 41.8724 133.7158 41.899 135.1763 42.5431 136.9169 43.0947 138.8317 43.5274 140.8214 43.8293 142.7901 43.9955 144.641 44.0255 146.2708 43.9252 147.5589 43.7151 148.3454 43.4688 148.455 43.4605 148.265 44.1142 148.2949 44.1142 148.2011 43.9722 147.4197 42.6651 146.0746 40.865 144.3254 38.7894 142.3093 36.5875 140.1557 34.3917 137.9929 32.3305 135.952 30.5324 134.1776 29.132 132.8713 28.2816 132.6083 28.0994 132.6083 28.0695 133.549 27.508 133.4632 27.963 133.4713 29.4267 133.6717 31.4326 133.9977 33.7404 134.3695 36.1665 134.7067 38.5483 134.9278 40.7424 134.9403 42.652 134.5136 44.362 132.6083 45.5464 132.6083 45.524 130.8959 45.0115 129.1778 43.9311 127.2084 42.4012 125.0433 40.5161 122.7841 38.3853 120.5427 36.1229 118.4345 33.844 116.5739 31.6617 115.0716 29.6794 114.0256 27.9609 113.5574 26.3091 113.5723 26.3091 114.5434 24.6285 116.11 24.0497 117.988 23.8406 120.1784 23.8272 122.572 23.9514 125.0268 24.1698 127.3905 24.4414 129.5067 24.726 131.2172 24.9835 132.3627 25.1738 132.6083 25.2423 132.6083 25.2573 132.4522 27.395 131.4724 27.5567 129.995 27.7856 128.1394 28.0414 126.0243 28.2839 123.7676 28.4728 121.4852 28.5672 119.289 28.5244 117.2826 28.2968 115.5515 27.816 114.1755 26.9367 114.186 26.9262 113.2819 25.7609 112.4769 24.2768 111.7754 22.5326 111.2056 20.5954 110.8036 18.5371 110.6094 16.4303 110.6668 14.3478 111.0254 12.3623 111.7435 10.5512 112.8841 9.0118 114.4862 7.8701 115.1201 9.1378 113.913 10.0294 113.047 11.2457 112.4809 12.7522 112.1973 14.4855 112.1745 16.3627 112.3816 18.2959 112.7823 20.1972 113.3361 21.9789 113.9991 23.5523 114.7191 24.8239 115.4203 25.6919 115.4308 25.6814 116.2219 26.1399 117.5944 26.4884 119.387 26.6621 121.4449 26.6729 123.6305 26.5532 125.815 26.3408 127.8736 26.075 129.6833 25.7957 131.1222 25.543 132.0688 25.3569 132.6083 27.3609 132.6083 27.3758 132.0244 27.3105 130.8958 27.153 129.2084 26.9289 127.1242 26.6784 124.8059 26.4417 122.4182 26.2588 120.1297 26.169 118.1196 26.2091 116.5999 26.4012 115.8923 26.6519 116.034 26.3091 116.0489 26.3091 116.2763 26.8243 117.1567 28.2094 118.5706 30.0262 120.3754 32.0978 122.4408 34.287 124.6407 36.4658 126.8495 38.5087 128.9384 40.289 130.7681 41.6753 132.1535 42.5212 132.6083 42.7043 132.6083 42.6819 131.9069 43.0369 131.9618 42.4728 131.894 40.9846 131.6335 38.9782 131.2483 36.678 130.8175 34.2616 130.4211 31.8873 130.14 29.6927 130.0678 27.7586 130.4635 25.9395 132.6083 24.5486 132.6083 24.5188 134.5123 25.0321 136.3095 26.108 138.3343 27.6239 140.5474 29.4912 142.8526 31.6036 145.1403 33.8491 147.2978 36.1152 149.214 38.2936 150.7851 40.2926 151.93 42.0891 152.5319 44.1142 152.5617 44.1142 151.81 46.2394 150.341 47.4082 148.6929 48.0448 146.8507 48.4234 144.8151 48.6173 142.6261 48.6474 140.3408 48.5192 138.023 48.2325 135.7374 47.7824 133.5451 47.1567 131.5007 46.3293 131.4874 46.356 129.3817 45.0945 127.2241 43.4312 125.0012 41.4613 122.7589 39.2889 120.5624 37.0253 118.4848 34.7856 116.6021 32.687 114.9922 30.8479 113.7339 29.3874 112.9066 28.4247 114.8031 29.1437\"/>\n",
       "<polygon fill=\"rgba(0,0,0,1)\" points=\"114.8031 58.8189 117.4058 59.4212 120.3227 60.5225 123.6692 62.0245 127.3591 63.8569 131.2593 65.9459 135.2508 68.1577 139.1836 70.4165 142.8729 72.702 146.1612 74.9363 148.8924 77.0438 150.9145 78.9576 149.9123 79.9598 147.8676 78.3687 145.0875 76.5433 141.7407 74.5771 137.9922 72.5551 134.0057 70.56 129.9173 68.7318 125.8981 67.1555 122.1504 65.8576 118.8617 64.9249 116.2672 64.4477 114.8031 64.4882\"/>\n",
       "<polygon fill=\"rgba(0,0,0,1)\" points=\"153.248 132.6083 152.2938 135.1465 150.8059 136.8367 148.9176 138.5687 146.6997 140.4245 144.28 142.3648 141.8067 144.3227 139.4379 146.2199 137.3396 147.9692 135.6919 149.4637 134.7105 150.5155 134.552 150.4134 134.471 150.4134 134.1569 149.7747 134.7311 150.1357 136.1628 150.5881 138.1096 150.942 140.3447 151.1635 142.6788 151.2242 144.9299 151.1234 146.9158 150.8865 148.4333 150.5362 149.2127 150.1964 149.2188 150.4134 149.2593 150.4134 149.1389 149.9665 148.4936 148.9152 147.3694 147.5446 145.869 145.961 144.0848 144.2254 142.1032 142.3861 140.0075 140.487 137.8796 138.5696 135.8004 136.6746 133.8499 134.8418 132.1072 133.1094 133.1094 132.1072 134.8715 133.7458 136.8539 135.4981 138.9751 137.322 141.1547 139.177 143.313 141.0234 145.3713 142.8228 147.2525 144.5386 148.8823 146.1388 150.1928 147.6041 151.126 148.9607 151.5675 150.4134 151.608 150.4134 150.7847 152.1019 149.2899 152.9393 147.4096 153.4719 145.1951 153.8236 142.7641 154.0171 140.2557 154.0778 137.8088 154.0049 135.5551 153.7702 133.5889 153.3398 131.8891 152.5235 130.7455 150.4134 130.6645 150.4134 131.3354 148.2779 132.6282 146.574 134.3783 144.7509 136.4804 142.7814 138.7936 140.7189 141.163 138.6368 143.4253 136.6176 145.4079 134.7544 146.9174 133.1689 147.7036 132.1033 147.5787 132.6083\"/>\n",
       "<polygon fill=\"rgba(0,0,0,1)\" points=\"148.409 205.5674 146.9763 203.9514 144.5128 201.1991 141.2155 197.5466 137.3202 193.2697 133.0671 188.6484 128.6975 183.9642 124.4544 179.5 120.5837 175.5413 117.3417 172.3815 115.0362 170.3473 114.8031 169.8965 114.8031 169.8155 116.1969 168.6991 116.4328 170.376 117.3299 173.4222 118.7655 177.3142 120.6097 181.7258 122.7555 186.3519 125.0778 190.9016 127.4329 195.095 129.6894 198.6384 131.6914 201.2215 133.1425 202.4945 133.1244 202.5307 134.3527 202.8373 135.9729 202.5634 137.892 201.6767 139.9535 200.2529 142.033 198.4109 144.0289 196.2767 145.8499 193.9771 147.4093 191.6394 148.623 189.3937 149.41 187.379 149.7047 185.7579 151.122 185.7579 150.8549 187.7753 150.0634 190.0414 148.8424 192.4777 147.2716 194.9825 145.4272 197.4453 143.3831 199.7524 141.2087 201.7897 138.9627 203.4427 136.6814 204.5893 134.3686 205.0645 132.0921 204.5953 132.074 204.6315 129.8865 202.908 127.6078 200.1134 125.1822 196.4599 122.6948 192.1988 120.2549 187.5986 117.9593 182.9408 115.9241 178.4966 114.283 174.5229 113.1468 171.255 112.6335 168.7314 114.8031 166.09 114.8031 166.009 117.4328 167.0832 120.1571 169.2494 123.6305 172.4037 127.6792 176.3109 132.0778 180.7024 136.5907 185.302 140.9792 189.8308 145.0033 194.0083 148.4214 197.5527 150.9878 200.1781 152.4178 201.5586\"/>\n",
       "<polygon fill=\"rgba(0,0,0,1)\" points=\"148.409 254.7082 147.9674 256.1691 147.7096 255.542 146.5155 253.9058 144.6355 251.8626 142.3255 249.6453 139.8112 247.4098 137.3056 245.2911 135.0158 243.4163 133.1461 241.9096 131.8997 240.8933 132.6083 236.9637 132.6083 237.0447 134.2829 238.0623 135.3627 239.2566 137.0043 241.0128 139.0473 243.1703 141.331 245.5686 143.7093 248.0328 146.0217 250.4025 148.0933 252.5313 149.7636 254.2589 150.872 255.4246 150.4134 255.518 150.4134 255.5585 149.213 256.9262 148.4656 255.7784 147.2915 254.0703 145.7716 251.963 143.987 249.6177 142.0196 247.1961 139.9525 244.8608 137.872 242.7752 135.8718 241.1044 134.0656 240.0108 132.6083 239.6161 132.6083 238.1988 134.6558 238.6336 136.7825 239.8141 138.9827 241.5411 141.2097 243.656 143.3966 246.0027 145.4691 248.4237 147.3499 250.7604 148.9602 252.8535 150.2208 254.5433 151.0519 255.6696 150.4134 257.8667 150.4134 257.9072 149.1253 257.1712 147.9596 256.0628 146.2321 254.3925 144.1032 252.3209 141.7336 250.0086 139.2694 247.6302 136.8711 245.3465 134.7136 243.3035 132.9574 241.6619 131.7631 240.5821 132.6083 240.7702 132.6083 240.8512 134.28 237.6173 135.6555 238.5273 137.6653 239.9368 140.111 241.7274 142.7958 243.7824 145.5254 245.9882 148.1114 248.2388 150.3784 250.4496 152.1808 252.6126 153.3677 255.089 152.4178 258.717\"/>\n",
       "<polygon fill=\"rgba(0,0,0,1)\" points=\"114.8031 307.0276 114.5808 307.0153 116.8925 306.1701 120.3264 304.8306 124.561 303.1174 129.2743 301.1516 134.1435 299.0543 138.8445 296.9479 143.0492 294.957 146.4176 293.2156 148.5583 291.9098 148.9344 292.0571 149.0269 292.0571 149.1999 292.634 147.4094 292.2289 144.3578 291.974 140.4733 291.8861 136.0706 291.9309 131.442 292.0693 126.8733 292.2614 122.6474 292.4671 119.0459 292.6463 116.3471 292.7591 114.8031 292.7657 114.8031 291.3484 116.2557 291.2213 118.9345 290.9863 122.53 290.6839 126.7586 290.3545 131.3399 290.0383 135.9951 289.7754 140.4481 289.6062 144.4294 289.5718 147.6919 289.7182 150.1018 290.1424 151.7999 292.0571 151.8923 292.0571 150.6097 294.3715 148.2021 296.1692 144.7749 298.2269 140.5787 300.49 135.9156 302.8516 131.0997 305.1956 126.4489 307.4034 122.2826 309.3557 118.9209 310.9324 116.6843 312.0135 114.8031 312.6969\"/>\n",
       "<polygon fill=\"rgba(0,0,0,1)\" points=\"151.6811 347.7421 149.5089 348.7404 146.543 350.0822 142.9611 351.699 138.9581 353.5131 134.7334 355.445 130.4878 357.4141 126.4242 359.339 122.7484 361.1364 119.6736 362.7182 117.4393 363.9764 116.4338 364.6425 116.3999 364.6085 116.6246 363.6254 115.6279 362.1024 115.9802 362.1892 117.2899 362.2576 119.1307 362.2037 121.3075 362.0552 123.6752 361.8508 126.1052 361.6306 128.4765 361.435 130.6762 361.3046 132.6083 361.2822 132.6083 361.3302 134.2938 361.3783 136.0864 361.4263 137.9458 361.4744 139.832 361.5224 141.7048 361.5705 143.5241 361.6065 145.2498 361.6305 146.8417 361.6545 148.2596 361.6786 149.4636 361.7026 150.4134 361.7266 150.4134 361.7506 151.5952 361.968 152.5928 362.4473 153.4201 363.0599 154.0832 363.7247 154.5775 364.3918 154.9028 365.1277 154.3027 366.5961 153.0241 366.5548 152.2009 366.0198 151.1376 365.1107 149.7084 363.7167 149.7254 363.6998 147.7091 361.6494 144.9704 358.8767 141.6698 355.5422 137.9679 351.8063 134.0252 347.8297 130.0023 343.7728 126.0596 339.7961 122.3577 336.0602 119.0571 332.7257 116.3184 329.953 114.3021 327.9027 115.3042 326.9005 117.3546 328.9168 120.1273 331.6556 123.4618 334.9561 127.1977 338.658 131.1743 342.6007 135.2313 346.6236 139.2079 350.5663 142.9438 354.2682 146.2783 357.5688 149.051 360.3075 151.1013 362.3239 151.1183 362.3069 152.4984 363.5883 153.4416 364.338 153.9026 364.6057 153.2663 364.6714 152.7464 365.7117 152.6703 365.645 152.362 365.2954 151.9014 364.8901 151.3643 364.5395 150.8368 364.3232 150.4134 364.273 150.4134 364.297 149.4636 364.321 148.2596 364.3451 146.8417 364.3691 145.2498 364.3931 143.5241 364.4171 141.7048 364.4532 139.832 364.5012 137.9458 364.5492 136.0864 364.5973 134.2938 364.6453 132.6083 364.6934 132.6083 364.7414 130.9017 364.8528 128.8207 365.0702 126.5099 365.3562 124.0974 365.6711 121.7028 365.975 119.4383 366.2278 117.3998 366.388 115.6327 366.4028 113.9516 366.0883 112.2058 363.7359 113.2064 361.4151 113.1725 361.3811 114.896 360.0139 117.3437 358.5164 120.5027 356.7806 124.2111 354.8592 128.2809 352.8244 132.5165 350.7535 136.7194 348.7258 140.6893 346.821 144.2241 345.1202 147.1174 343.7064 149.1457 342.6713\"/>\n",
       "<polygon fill=\"rgba(0,0,0,1)\" points=\"152.9488 414.8937 153.5637 416.2584 153.9244 417.1148 154.0712 417.5431 149.4047 419.9432 149.3517 419.7022 149.205 419.2739 149.0047 418.7386 148.7911 418.1765 148.6043 417.6679 148.4843 417.2932 150.4134 413.9902 150.4134 414.0505 150.4803 414.1108 150.6542 414.1711 150.895 414.2314 151.1625 414.2918 151.4167 414.3521 151.6173 414.4124 151.7244 414.4727 151.6976 417.7898 151.4969 417.7295 151.0822 417.6692 150.4134 417.6089 150.4134 417.5637 149.54 417.5929 148.2046 417.7312 146.5511 417.9408 144.6764 418.1801 142.6654 418.4078 140.5979 418.5828 138.5499 418.6632 136.5916 418.6045 134.7847 418.3546 133.18 417.837 131.8513 416.9184 131.8726 416.8971 131.049 415.4674 130.787 413.8224 130.8593 412.026 131.1386 410.101 131.5346 408.0977 131.9655 406.0836 132.3516 404.1359 132.6148 402.3405 132.6833 400.7944 132.5101 399.6089 132.1072 398.8574 133.1094 397.8552 133.9104 399.137 134.2188 400.7072 134.207 402.4787 133.9886 404.4022 133.6523 406.4142 133.2806 408.44 132.9542 410.3963 132.752 412.1902 132.744 413.7113 132.9636 414.8221 133.3439 415.4258 133.3652 415.4044 134.0699 415.8235 135.2208 416.1354 136.7315 416.2867 138.4922 416.2816 140.4038 416.1479 142.3763 415.9216 144.3249 415.641 146.1691 415.3452 147.8331 415.0732 149.2535 414.8637 150.4134 414.7592 150.4134 414.7139 151.0822 414.6536 151.4969 414.5933 151.6976 414.533 151.7244 417.8501 151.6173 417.9105 151.4167 417.9708 151.1625 418.0311 150.895 418.0914 150.6542 418.1517 150.4803 418.212 150.4134 418.2723 150.4134 418.3326 152.4762 415.2972 152.7041 415.6181 152.9988 416.0727 153.3203 416.5808 153.6284 417.0621 153.883 417.4365 154.044 417.6236 149.3241 419.9166 149.0694 419.5423 148.6008 418.7399 147.878 417.4291\"/>\n",
       "<polygon fill=\"rgba(0,0,0,1)\" points=\"188.5925 44.1142 182.9713 44.3683 183.0193 43.646 183.0674 42.1477 183.1154 40.0742 183.1635 37.6262 183.2115 35.0043 183.2595 32.4091 183.3076 30.0413 183.3556 28.1016 183.4037 26.7906 185.7579 24.0029 185.7579 24.0509 187.9679 26.7906 187.9199 28.1016 187.8718 30.0413 187.8238 32.4091 187.7758 35.0043 187.7277 37.6262 187.6797 40.0742 187.6316 42.1477 187.5836 43.646 187.5355 44.3683 184.0283 44.1142 184.0763 44.1142 184.1941 42.5191 184.4167 39.821 184.7053 36.2275 185.0203 32.012 185.3216 27.454 185.5574 22.8353 185.6876 18.4413 185.6854 14.5641 185.5165 11.5157 185.1957 9.7121 185.7579 9.7891 185.7579 9.7651 185.6983 10.0503 184.4162 11.9694 182.7709 15.0499 180.9047 18.9411 178.91 23.3435 176.8706 27.9698 174.8679 32.5371 172.9818 36.7654 171.2893 40.3794 169.8581 43.1186 168.6577 44.8191 168.6407 44.8021 167.043 45.353 165.9893 44.1716 165.7698 42.691 165.7652 40.8031 165.898 38.571 166.1244 36.1304 166.4036 33.6333 166.6954 31.2373 166.9597 29.103 167.1559 27.3962 167.2441 26.3091 168.6614 26.3091 168.6158 27.5228 168.4642 29.2673 168.2469 31.4137 168.0037 33.8068 167.7746 36.2861 167.5996 38.688 167.5184 40.8436 167.5673 42.5676 167.7491 43.6019 167.5248 43.5174 167.2648 43.4262 167.2478 43.4092 168.0808 42.1133 169.4052 39.4748 171.0304 35.8919 172.8631 31.6658 174.8201 27.083 176.8206 22.4254 178.7856 17.9721 180.6382 13.9975 182.3105 10.7639 183.7841 8.4826 185.7579 7.2428 185.7579 7.2187 187.6578 8.8208 188.1663 11.2176 188.3988 14.4833 188.45 18.4719 188.3663 22.9337 188.2007 27.5988 187.9937 32.1908 187.7736 36.4297 187.5806 40.0332 187.4554 42.7127 187.4394 44.1142 187.4875 44.1142 183.9802 44.3683 183.9322 43.646 183.8841 42.1477 183.8361 40.0742 183.788 37.6262 183.74 35.0043 183.6919 32.4091 183.6439 30.0413 183.5959 28.1016 183.5478 26.7906 185.7579 28.5672 185.7579 28.6152 188.1121 26.7906 188.1601 28.1016 188.2082 30.0413 188.2562 32.4091 188.3043 35.0043 188.3523 37.6262 188.4003 40.0742 188.4484 42.1477 188.4964 43.646 188.5445 44.3683 182.9232 44.1142\"/>\n",
       "<polygon fill=\"rgba(0,0,0,1)\" points=\"187.7623 77.4543 189.4728 79.3194 191.2579 81.3671 193.0894 83.5268 194.9326 85.7229 196.7487 87.8767 198.496 89.907 200.1287 91.7291 201.5924 93.2532 202.8093 94.3791 203.621 94.9919 203.563 95.0926 203.563 95.1529 202.8343 95.4806 203.0513 95.1845 203.4442 94.0784 203.7649 92.4548 203.9619 90.514 204.0221 88.4118 203.9428 86.2891 203.7264 84.2835 203.3833 82.5377 202.9474 81.2111 202.5395 80.4822 202.5715 80.4502 202.0057 80.0201 201.1104 79.6833 199.8986 79.4829 198.4354 79.4288 196.7862 79.5011 195.0075 79.667 193.1489 79.8889 191.255 80.1271 189.3671 80.3411 187.5233 80.4896 185.7579 80.5292 185.7579 80.499 183.9371 80.3997 181.9371 80.1926 179.8239 79.92 177.6717 79.6223 175.5589 79.3394 173.5672 79.1112 171.7827 78.9767 170.301 78.9713 169.2412 79.1124 168.7496 79.3186 168.6614 79.4587 167.2441 79.4587 167.7177 78.261 168.8046 77.6378 170.1796 77.3776 171.8281 77.3187 173.709 77.3982 175.7572 77.5713 177.8984 77.7968 180.0537 78.0341 182.1409 78.2431 184.0738 78.3839 185.7579 78.4183 185.7579 78.3881 187.3635 78.294 189.1048 78.0947 190.9358 77.8271 192.8143 77.5302 194.7013 77.2437 196.5613 77.0083 198.3634 76.8666 200.0839 76.8659 201.7081 77.0669 203.2207 77.5595 204.5545 78.4671 204.5865 78.4351 205.65 79.8733 206.3914 81.6503 206.9312 83.7036 207.3034 85.952 207.5183 88.2973 207.5786 90.6364 207.4812 92.8692 207.2133 94.911 206.7233 96.7211 205.7632 98.3514 203.563 99.3747 203.563 99.435 201.6054 98.9739 200.0092 98.0081 198.3902 96.6994 196.67 95.0932 194.8514 93.2499 192.9601 91.2402 191.0306 89.1401 189.1014 87.0288 187.214 84.988 185.414 83.1028 183.7535 81.4631\"/>\n",
       "<polygon fill=\"rgba(0,0,0,1)\" points=\"185.7579 153.248 182.5198 150.5138 182.2441 147.8858 182.3663 144.7556 182.6932 141.0111 183.1375 136.8165 183.6188 132.3895 184.0578 127.9653 184.3753 123.7903 184.4956 120.1262 184.3582 117.2755 184.0193 115.6724 184.0918 115.6362 183.4883 114.6654 182.5637 113.8963 181.2854 113.3178 179.7072 112.9647 177.9282 112.8484 176.0564 112.9737 174.1977 113.3092 172.446 113.7961 170.8955 114.3898 169.6439 115.0352 168.7975 115.6479 168.7688 115.6192 168.194 116.3542 167.6456 117.5397 167.198 119.0663 166.8784 120.8284 166.6965 122.7305 166.656 124.6824 166.7577 126.5967 166.9998 128.3863 167.3769 129.9621 167.8743 131.2321 168.4539 132.1072 167.4517 133.1094 166.5597 131.9511 165.8799 130.4654 165.3741 128.7237 165.0276 126.7943 164.835 124.749 164.7945 122.661 164.9069 120.6033 165.1759 118.6466 165.6113 116.8557 166.24 115.2854 167.1367 113.9871 167.108 113.9584 168.2949 112.9659 169.7991 112.0862 171.5661 111.3154 173.5333 110.6787 175.6343 110.2116 177.8024 109.9355 179.983 109.8995 182.1238 110.1885 184.163 110.8942 185.9941 112.1317 187.424 113.9701 187.4964 113.9339 188.3615 116.665 188.7057 120.0214 188.7457 123.9556 188.5817 128.2885 188.2982 132.8003 187.977 137.2558 187.6988 141.4085 187.5442 144.9948 187.5861 147.6971 187.792 148.9217 185.7579 147.5787\"/>\n",
       "<polygon fill=\"rgba(0,0,0,1)\" points=\"187.0256 170.4881 185.3858 171.3602 183.3434 172.6279 181.0695 174.1903 178.7048 175.956 176.3814 177.8358 174.23 179.7387 172.3842 181.5649 170.9856 183.1903 170.182 184.4112 170.0001 184.7681 169.6466 184.064 169.6184 184.0922 170.0843 184.3087 172.0753 184.8451 175.013 185.3006 178.5909 185.6256 182.5718 185.8095 186.738 185.8494 190.8777 185.7448 194.7789 185.497 198.2233 185.1102 200.9708 184.6002 202.706 184.0438 202.7238 184.0795 203.7954 183.3857 204.7208 182.3608 205.4721 181.0311 206.0095 179.4629 206.3051 177.7431 206.3449 175.9647 206.1263 174.2211 205.6565 172.603 204.9527 171.1939 204.0378 170.0597 202.9202 169.2383 202.9336 169.2115 201.0523 168.4754 198.2362 167.7224 194.7552 167.0348 190.8327 166.4619 186.6804 166.0464 182.5072 165.8288 178.5236 165.848 174.9459 166.1387 172.0061 166.7222 169.9645 167.5678 169.0151 168.4839 168.9973 168.475 168.7776 169.9196 169.2594 172.4143 170.4519 175.6135 172.2071 179.2731 174.3614 183.2023 176.7509 187.228 179.2134 191.1843 181.5877 194.9087 183.7141 198.2414 185.4358 201.0285 186.606 203.1389 186.5881 203.1479 187.306 204.6283 187.8768 205.8144 188.3004 206.7062 188.5768 207.3038 188.7061 207.607 187.242 208.339 187.1127 208.0358 186.8363 207.4383 186.4127 206.5465 185.8419 205.3603 185.124 203.8799 186.3917 203.2461 187.1453 204.7086 187.7518 205.8769 188.2111 206.7509 188.5232 207.3306 188.6882 207.6159 187.2241 208.348 187.0591 208.0626 186.747 207.4829 186.2877 206.609 185.6812 205.4407 184.9276 203.9781 184.9098 203.987 183.7791 202.0308 182.0494 199.3064 179.8951 196.0041 177.4803 192.2907 174.9665 188.3277 172.5135 184.2736 170.28 180.2834 168.4234 176.5052 167.1009 173.0694 166.4858 170.0526 166.9082 167.4305 166.8904 167.4216 168.67 165.5285 171.3105 164.3675 174.6044 163.6668 178.411 163.3153 182.5607 163.2543 186.8687 163.4381 191.1441 163.8252 195.1944 164.3759 198.8301 165.0528 201.8732 165.8248 204.1924 166.694 204.2058 166.6672 206.0312 167.8791 207.4706 169.5007 208.5327 171.4091 209.2401 173.5099 209.61 175.726 209.6499 177.9875 209.3569 180.2274 208.717 182.378 207.7025 184.3659 206.2736 186.0967 204.4022 187.4362 204.42 187.4719 201.9548 188.3871 198.843 189.0543 195.1707 189.5504 191.0991 189.8911 186.8111 190.0808 182.4961 190.1207 178.3436 190.0103 174.5373 189.7468 171.2412 189.3194 168.5502 188.6785 166.2871 187.4235 166.2589 187.4517 165.1296 184.7143 165.6968 182.3155 166.9265 180.2188 168.6046 178.1254 170.6383 175.9919 172.9281 173.8548 175.367 171.775 177.8449 169.8218 180.253 168.0666 182.4913 166.5786 184.4902 165.4174\"/>\n",
       "<polygon fill=\"rgba(0,0,0,1)\" points=\"203.563 253.878 200.8897 255.864 201.1191 254.7631 201.4149 253.1058 201.7369 251.0551 202.0451 248.7756 202.2996 246.4349 202.462 244.2081 202.4987 242.2886 202.4029 240.9267 202.3751 240.56 203.563 241.0787 203.563 241.0184 203.6981 240.9954 202.7678 241.673 201.4204 242.9737 199.8301 244.7128 198.0739 246.7421 196.204 248.9293 194.2638 251.1497 192.2912 253.283 190.3175 255.2127 188.3605 256.8259 186.4052 258.0073 186.385 257.9668 184.4423 258.7915 182.2101 259.5549 179.7895 260.229 177.2893 260.7782 174.8192 261.1638 172.4847 261.3441 170.3772 261.269 168.557 260.8529 167.0892 259.8662 166.4642 258.1295 166.9952 256.2338 167.0222 256.2473 168.5914 253.9861 171.1735 251.0239 174.5755 247.4624 178.5697 243.484 182.9199 239.2836 187.3875 235.0596 191.7327 231.0114 195.715 227.3394 199.0936 224.2442 201.6265 221.9277 203.0619 220.6013 204.0641 221.6035 202.6368 223.006 200.1398 225.3715 196.8031 228.5101 192.866 232.2223 188.5695 236.3076 184.1546 240.5647 179.8631 244.792 175.9379 248.7864 172.6246 252.3416 170.1768 255.2386 168.8833 257.1779 168.9103 257.1914 168.6654 258.1049 168.7896 258.3749 169.3551 258.6723 170.6116 258.8983 172.3836 258.9035 174.4903 258.6825 176.7826 258.2655 179.1249 257.691 181.3863 257.0006 183.4349 256.2389 185.1308 255.4584 185.1105 255.4179 186.5263 254.4322 188.1544 252.9419 189.8996 251.0724 191.6994 248.9517 193.5048 246.7041 195.2735 244.4501 196.9686 242.3057 198.5622 240.3795 200.0507 238.7639 201.5283 237.5152 203.563 236.7966 203.563 236.7363 206.0886 238.0843 206.8902 239.9918 207.1957 242.0277 207.2859 244.3086 207.2342 246.7639 207.0875 249.2658 206.8873 251.6683 206.6743 253.818 206.4885 255.5586 206.3701 256.7318 203.563 259.5472\"/>\n",
       "<polygon fill=\"rgba(0,0,0,1)\" points=\"185.7579 277.0866 184.4451 276.8963 183.0873 276.243 181.9845 274.7916 181.844 273.0473 182.4142 271.7815 183.3145 270.9479 184.5781 270.4801 186.2063 270.7008 187.4748 271.7763 187.9815 273.0391 188.064 274.252 188.016 274.252 188.0198 274.9443 188.1327 276.0591 188.3226 277.4642 188.5468 279.0879 188.7618 280.878 188.9243 282.7905 188.99 284.7857 188.9128 286.8261 188.643 288.8749 188.1263 290.8925 187.3049 292.8306 187.2619 292.8091 186.0036 294.759 184.3288 296.8049 182.3376 298.9351 180.1378 301.0943 177.8428 303.2131 175.577 305.2254 173.4581 307.0543 171.5969 308.6122 170.1128 309.8199 169.1258 310.5977 167.9528 308.577 167.9528 308.601 167.2732 308.7346 168.0877 307.7786 169.3313 306.3265 170.9242 304.4983 172.7867 302.4139 174.8395 300.1929 177.0039 297.9544 179.2025 295.817 181.3609 293.8974 183.412 292.3099 185.312 291.1654 185.3228 291.1869 187.2789 290.4205 189.5121 289.831 191.9221 289.4008 194.4002 289.1238 196.834 288.9975 199.1106 289.0216 201.1215 289.1985 202.7726 289.5402 204.0184 290.1185 204.6835 291.3065 204.0641 292.5582 203.0619 291.556 203.2184 291.3361 203.1344 291.3469 202.3468 291.0424 200.9211 290.7955 199.0526 290.6781 196.888 290.7022 194.5594 290.8702 192.195 291.1817 189.923 291.6345 187.8754 292.2221 186.193 292.9273 186.2037 292.9488 184.5989 293.9714 182.7171 295.4875 180.675 297.367 178.5662 299.4835 176.4766 301.713 174.4895 303.9333 172.6866 306.0226 171.1493 307.8597 169.9582 309.3239 169.1941 310.2942 167.9528 311.1234 167.9528 311.1474 167.4754 308.5649 168.4146 307.7641 169.8468 306.5372 171.651 304.9648 173.7057 303.1283 175.8812 301.1007 178.0542 298.9655 180.1083 296.8173 181.9163 294.7471 183.3451 292.86 184.2538 291.3051 184.2109 291.2836 184.7271 289.8506 185.0399 288.2831 185.1714 286.613 185.1476 284.8811 184.9993 283.1306 184.7605 281.4045 184.4672 279.7433 184.1563 278.1832 183.8646 276.7524 183.6297 275.4592 183.4998 274.252 183.4517 274.252 183.4005 274.1271 183.5594 274.5606 184.3463 275.2347 185.4394 275.4019 186.1946 275.1481 186.6936 274.7159 187.0498 273.9584 186.9628 272.7492 186.2614 271.7794 185.7329 271.4739 185.7579 271.4173\"/>\n",
       "<polygon fill=\"rgba(0,0,0,1)\" points=\"165.9484 361.0074 167.9292 359.6457 170.4792 358.3863 173.6922 356.9771 177.4324 355.4168 181.5193 353.7347 185.7591 351.9681 189.9512 350.1575 193.8898 348.3472 197.3607 346.5881 200.1323 344.95 201.9323 343.576 201.9663 343.61 202.9818 342.3578 203.6559 340.8778 204.0279 339.1772 204.121 337.3236 203.9765 335.4137 203.6547 333.5491 203.2269 331.8274 202.7697 330.3415 202.3619 329.1802 202.0839 328.4299 203.563 325.672 203.563 325.72 205.1965 327.6825 205.1485 328.4718 205.1004 329.6891 205.0524 331.2542 205.0043 333.0869 204.9683 335.1069 204.9443 337.2339 204.9203 339.3876 204.8962 341.4878 204.8722 343.4543 204.8482 345.2067 204.8242 345.2067 204.8001 346.8922 204.7761 348.6848 204.7521 350.5442 204.7281 352.4304 204.7041 354.3032 204.68 356.1225 204.656 357.8482 204.632 359.4401 204.608 360.8581 204.5839 362.062 204.5599 363.0118 204.5359 363.0118 204.5119 363.7476 204.4879 364.3362 204.4638 364.7776 204.4398 365.0719 204.4158 365.2191 202.7342 365.2191 202.7582 365.0719 202.7823 364.7776 202.8063 364.3362 202.8303 363.7476 202.8543 363.0118 204.2717 363.0118 204.2957 363.7476 204.3197 364.3362 204.3437 364.7776 204.3677 365.0719 204.3918 365.2191 202.7102 365.2191 202.6862 365.0719 202.6622 364.7776 202.6381 364.3362 202.6141 363.7476 202.5901 363.0118 202.5661 363.0118 202.542 362.062 202.518 360.8581 202.494 359.4401 202.47 357.8482 202.4459 356.1225 202.4219 354.3032 202.3979 352.4304 202.3739 350.5442 202.3499 348.6848 202.3258 346.8922 202.3018 345.2067 202.2778 345.2067 202.2538 343.4543 202.2297 341.4878 202.2057 339.3876 202.1817 337.2339 202.1577 335.1069 202.1216 333.0869 202.0736 331.2542 202.0256 329.6891 201.9775 328.4718 201.9295 327.6825 203.563 329.0831 203.563 329.1312 205.3097 326.9351 205.7272 327.7633 206.2827 329.0367 206.8956 330.681 207.4844 332.6247 207.9653 334.8 208.2489 337.1441 208.2349 339.5979 207.8043 342.0979 206.8196 344.5508 205.1597 346.8034 205.1937 346.8374 202.7932 348.8344 199.7056 350.7815 196.0598 352.7412 192.0255 354.7033 187.79 356.6384 183.5486 358.5103 179.5022 360.2796 175.8581 361.903 172.8373 363.3298 170.7053 364.4783 169.9572 365.0162\"/>\n",
       "<polygon fill=\"rgba(0,0,0,1)\" points=\"183.2225 379.2835 183.7675 378.2251 183.9145 377.9961 184.4057 379.5316 187.0601 380.4147 187.5571 380.1082 187.448 380.1382 187.2761 380.275 187.2114 380.2533 187.1611 379.6134 186.3358 378.5233 185.7579 378.38 185.7579 378.4403 186.5605 378.4449 187.877 378.3393 189.5302 378.1602 191.4143 377.9501 193.4415 377.7506 195.5314 377.6037 197.6094 377.552 199.6078 377.6415 201.4708 377.9289 203.1559 378.5032 204.5865 379.5277 204.5545 379.5596 205.4868 381.0132 205.9633 382.687 206.1566 384.5254 206.1552 386.495 206.0145 388.5432 205.7794 390.6048 205.492 392.6069 205.1932 394.472 204.9237 396.1183 204.7246 397.4545 204.6335 398.3563 204.6034 398.3563 204.5732 399.092 204.5431 399.6806 204.5129 400.1221 204.4827 400.4164 204.4526 400.5635 202.7036 400.5635 202.7337 400.4164 202.7639 400.1221 202.794 399.6806 202.8242 399.092 202.8543 398.3563 204.2717 398.3563 204.3018 399.092 204.332 399.6806 204.3621 400.1221 204.3923 400.4164 204.4224 400.5635 202.6734 400.5635 202.6432 400.4164 202.6131 400.1221 202.5829 399.6806 202.5528 399.092 202.5226 398.3563 202.4925 398.3563 202.5352 397.2247 202.6838 395.8053 202.8959 394.1339 203.1322 392.2802 203.3531 390.3227 203.5194 388.3443 203.5927 386.4329 203.5378 384.6835 203.3298 383.2045 202.9769 382.1225 202.5715 381.5427 202.5395 381.5747 201.9368 381.2614 200.8661 381.0063 199.4115 380.8924 197.6911 380.9284 195.8094 381.0907 193.8594 381.3451 191.927 381.6541 190.0922 381.979 188.4278 382.2815 186.9886 382.5237 185.7579 382.6621 185.7579 382.7224 183.976 382.3115 182.6691 380.5258 182.6991 378.9228 183.116 377.8309 183.6665 376.951 184.3599 376.1783 185.5794 375.4438 188.7154 376.4339 189.2868 378.7721 188.9522 380.2018 188.2933 381.8189\"/>\n",
       "<polygon fill=\"rgba(0,0,0,1)\" points=\"240.9119 24.3047 241.105 24.5386 240.6877 24.4515 239.6353 24.6295 238.8049 25.3525 238.5643 26.0342 238.6115 26.5751 238.9229 27.1828 239.7279 27.767 240.6317 27.835 240.8782 27.7114 240.5382 27.9398 240.5042 27.9058 239.3867 28.9554 237.8009 30.4732 235.8674 32.3387 233.7064 34.4318 231.4385 36.6318 229.1839 38.8184 227.063 40.8713 225.1964 42.67 223.7043 44.0942 222.7072 45.0234 221.1024 42.3846 221.1024 42.4326 220.1151 42.7367 220.9502 41.7934 222.2146 40.3539 223.8285 38.5381 225.7122 36.4659 227.7779 34.2487 229.9475 32.0048 232.1536 29.8599 234.3234 27.93 236.3941 26.3273 238.3327 25.1595 238.3435 25.181 240.2305 24.4574 242.189 24.0284 244.1774 23.8377 246.1601 23.8334 248.1025 23.9683 249.969 24.1983 251.7223 24.4807 253.3227 24.774 254.7264 25.0368 255.8817 25.2282 256.7126 25.3121 256.7126 25.3361 257.1622 25.319 257.2602 25.3145 257.1634 25.4856 257.1599 25.7111 257.2132 25.788 257.2472 25.7886 257.323 25.7908 257.4905 25.7471 257.5701 25.664 257.4923 25.8095 257.4213 26.3091 256.0039 26.3091 256.0666 25.4709 256.3367 24.787 256.8978 24.3025 257.6004 24.2054 258.1846 24.4216 258.6199 24.8235 258.8873 25.4088 258.8302 26.1694 258.3321 26.822 257.6007 27.1654 256.7126 27.282 256.7126 27.306 255.6439 27.2562 254.3913 27.0997 252.9591 26.8809 251.3756 26.6391 249.6776 26.4133 247.9055 26.2419 246.1023 26.1628 244.3126 26.212 242.5822 26.4226 240.9556 26.823 239.4715 27.4371 239.4822 27.4586 237.916 28.458 236.0538 29.9588 234.0232 31.828 231.9218 33.9371 229.8375 36.1612 227.8631 38.3852 226.0815 40.4867 224.5651 42.3363 223.3949 43.813 222.6515 44.796 221.1024 45.7957 221.1024 45.8438 220.1932 42.5094 221.1224 41.5122 222.5465 40.0201 224.3452 38.1535 226.3981 36.0327 228.5848 33.7781 230.7848 31.5101 232.8778 29.3491 234.7434 27.4156 236.2612 25.8299 237.3108 24.7123 237.2768 24.6784 238.4083 23.7028 239.8319 23.0976 241.6186 23.2458 243.0122 24.3116 243.618 25.6417 243.6652 26.9852 243.1302 28.3893 241.7113 29.5939 239.7759 29.8522 238.1814 29.2834 236.9031 28.3135\"/>\n",
       "<polygon fill=\"rgba(0,0,0,1)\" points=\"241.7421 61.6535 241.8659 62.2089 242.6883 64.5786 244.0397 67.8935 245.7783 71.8426 247.7765 76.166 249.9105 80.615 252.0574 84.9438 254.094 88.9064 255.8936 92.2522 257.3155 94.7119 258.087 95.8893 258.0298 95.9466 257.0786 95.8418 256.5492 96.2122 256.9019 95.4068 257.2429 93.8064 257.4628 91.7332 257.5234 89.3992 257.4215 86.9905 257.1789 84.6835 256.8032 82.659 256.3229 81.1179 255.8679 80.3034 255.8965 80.2747 255.1821 79.6731 254.1682 79.1338 252.8967 78.6962 251.4186 78.3821 249.784 78.2022 248.0402 78.1618 246.2324 78.2633 244.4045 78.5076 242.5992 78.8945 240.8587 79.4234 239.2244 80.0925 238.5906 78.8248 240.3273 78.0225 242.1719 77.3741 244.0855 76.8782 246.03 76.5338 247.9679 76.341 249.8626 76.3006 251.6793 76.415 253.385 76.6895 254.9495 77.1348 256.3435 77.7727 257.5287 78.6426 257.5573 78.614 258.5738 80.1003 259.2706 82.0106 259.7779 84.2668 260.1239 86.7488 260.3163 89.3164 260.3769 91.825 260.3025 94.1396 260.0549 96.151 259.5247 97.8605 257.8181 99.3278 255.3954 98.581 255.3382 98.6382 253.9426 96.953 252.2609 94.3828 250.2614 91.0132 248.0441 87.0564 245.723 82.7436 243.4157 78.3101 241.2402 73.9918 239.3134 70.0216 237.7486 66.6211 236.6447 63.9609 236.0728 61.6535\"/>\n",
       "<polygon fill=\"rgba(0,0,0,1)\" points=\"254.7082 116.8075 253.4197 115.9371 251.0123 115.088 247.7845 114.4771 244.0238 114.145 239.9789 114.0768 235.8782 114.2411 231.942 114.5995 228.3918 115.1094 225.4627 115.7192 223.4459 116.3402 222.8747 116.5755 222.8536 116.5544 223.2147 115.6312 223.463 116.3024 224.4818 117.8859 226.1271 119.8681 228.2012 122.0224 230.5223 124.1914 232.9155 126.2376 235.2057 128.0282 237.2056 129.4274 238.6693 130.2825 238.9075 130.4599 238.9075 130.4897 237.6475 131.2471 237.6951 130.9328 237.6875 129.5191 237.4894 127.5343 237.1647 125.2349 236.7929 122.8087 236.4544 120.4186 236.231 118.2035 236.2181 116.2438 236.683 114.3931 238.9075 113.0128 238.9075 113.0427 240.7712 113.6061 242.5228 114.724 244.5012 116.2796 246.667 118.1849 248.9236 120.3336 251.1607 122.6129 253.2643 124.9086 255.1208 127.1091 256.621 129.1133 257.6699 130.8656 258.1448 132.6083 258.1225 132.6083 257.2309 134.3706 255.7295 135.0323 254.031 135.2548 252.0789 135.269 249.9256 135.1439 247.6666 134.9248 245.4118 134.6533 243.2782 134.3699 241.3876 134.1152 239.8718 133.9302 238.9075 133.854 238.9075 133.8391 238.3055 133.8242 238.0647 133.8093 238.1048 131.4222 238.3456 131.4371 238.7068 131.452 239.1081 131.4669 239.4693 131.4819 239.7101 131.4968 239.7502 133.7048 239.5095 133.6899 238.9075 133.675 238.9075 133.6601 237.8908 133.6452 236.513 133.6302 234.8542 133.6153 232.9947 133.6004 231.0149 133.5855 228.9949 133.5706 227.0151 133.5556 225.1557 133.5407 223.4969 133.5258 222.119 133.5109 221.1024 133.496 221.1024 133.481 220.2997 133.4661 219.5372 133.4512 218.855 133.4363 218.2931 133.4214 217.8918 133.4064 217.6912 133.3915 217.7313 131.8399 218.0523 131.8548 218.6945 131.8698 219.6978 131.8847 221.1024 131.8996 221.1024 133.3169 219.6978 133.3318 218.6945 133.3468 218.0523 133.3617 217.7313 133.3766 217.6912 131.825 217.8918 131.8101 218.2931 131.7952 218.855 131.7803 219.5372 131.7653 220.2997 131.7504 221.1024 131.7355 221.1024 131.7206 222.119 131.7057 223.4969 131.6907 225.1557 131.6758 227.0151 131.6609 228.9949 131.646 231.0149 131.6311 232.9947 131.6161 234.8542 131.6012 236.513 131.5863 237.8908 131.5714 238.9075 131.5565 238.9075 131.5415 239.5095 131.5266 239.7502 131.5117 239.7101 133.7197 239.4693 133.7347 239.1081 133.7496 238.7068 133.7645 238.3456 133.7794 238.1048 133.7943 238.0647 131.4073 238.3055 131.3924 238.9075 131.3774 238.9075 131.3625 240.1103 131.4201 241.698 131.5829 243.6066 131.8098 245.7269 132.0615 247.9401 132.2983 250.1223 132.4806 252.1427 132.5694 253.856 132.5302 255.0738 132.3513 255.4987 132.1836 255.3027 132.6083 255.2804 132.6083 255.0597 132.1838 254.1823 130.8326 252.7663 129.0376 250.9574 126.9842 248.8873 124.8119 246.6831 122.6499 244.4717 120.6249 242.3836 118.8649 240.5628 117.5042 239.2109 116.6958 238.9075 116.5636 238.9075 116.5935 239.928 116.0426 239.9114 116.4661 239.9787 117.9042 240.2369 119.8895 240.6208 122.1814 241.0515 124.5978 241.4492 126.9804 241.7327 129.1961 241.8054 131.1802 241.3714 133.1401 238.9075 134.7268 238.9075 134.7566 236.8448 134.2384 234.8571 133.1672 232.5763 131.6502 230.0775 129.7754 227.4944 127.6479 224.9728 125.3757 222.6592 123.0619 220.6926 120.7901 219.1965 118.5746 218.3479 116.1422 219.3512 113.0519 219.3301 113.0308 221.4878 111.6608 224.153 110.7569 227.4578 110.0022 231.2917 109.3884 235.4889 108.9441 239.8694 108.7071 244.2521 108.7192 248.4643 109.0291 252.3532 109.7025 255.805 110.8599 258.717 112.7988\"/>\n",
       "<polygon fill=\"rgba(0,0,0,1)\" points=\"253.878 185.7579 253.8144 185.5874 253.1971 184.1503 252.1097 182.159 250.6621 179.8717 248.9512 177.4815 247.0726 175.167 245.1293 173.1044 243.2461 171.471 241.6026 170.4339 240.4778 170.0603 239.9788 170.0953 239.9609 170.0596 239.0164 170.9146 237.4027 173.2734 235.5897 176.697 233.7054 180.8228 231.8141 185.3378 229.9641 189.9484 228.1975 194.3713 226.5508 198.3331 225.0469 201.5822 223.6299 203.9571 221.1024 205.4794 221.1024 205.4394 218.7175 203.6756 218.0195 201.309 217.5905 198.2176 217.3282 194.455 217.2185 190.2141 217.2584 185.7177 217.4473 181.1965 217.7858 176.8823 218.2771 173.002 218.9327 169.765 219.8168 167.31 219.8436 167.3234 221.2607 165.5143 223.1586 164.3061 225.3308 163.5906 227.6596 163.2583 230.0488 163.235 232.3993 163.4674 234.6092 163.9128 236.579 164.5381 238.2222 165.3314 239.4772 166.3648 240.0952 167.9528 240.0753 167.9528 239.3363 169.6685 237.8801 171.1759 235.8728 172.8668 233.4705 174.7281 230.8596 176.6948 228.2369 178.6901 225.8047 180.6313 223.7723 182.4266 222.3623 183.9546 221.7936 184.9501 221.7728 185.0874 221.7587 185.1015 222.8691 185.6259 225.431 186.2053 228.9683 186.659 233.1572 186.9706 237.7032 187.1368 242.3191 187.1568 246.7188 187.0305 250.6145 186.7591 253.7084 186.3471 255.6522 185.8287 256.0039 185.7579 257.4213 185.7579 256.248 187.1586 253.9914 187.8173 250.7711 188.2882 246.801 188.6054 242.345 188.7735 237.6771 188.7935 233.0731 188.6653 228.8076 188.3883 225.1479 187.9592 222.3322 187.3613 220.446 186.4142 220.4319 186.4284 219.9028 184.5323 220.7788 182.7721 222.3653 180.9825 224.4799 179.0589 226.9438 177.0405 229.565 174.9959 232.1445 173.0029 234.4777 171.1453 236.3498 169.5186 237.5155 168.2703 237.7397 167.9528 237.7197 167.9528 237.6422 167.9355 236.9708 167.4439 235.6977 166.8726 234.0022 166.3743 232.0384 166.0171 229.9477 165.8481 227.8688 165.9051 225.9437 166.2149 224.3167 166.7836 223.1112 167.5819 222.3611 168.5821 222.3879 168.5955 221.8006 170.4748 221.2789 173.4448 220.8873 177.1628 220.6372 181.3565 220.5318 185.7713 220.5717 190.1574 220.7564 194.2639 221.0826 197.832 221.5365 200.5731 222.0157 202.0591 221.1024 201.6865 221.1024 201.6466 220.4743 201.6439 221.4653 199.8183 222.7974 196.7534 224.3344 192.8493 226.0191 188.4165 227.8078 183.7433 229.6622 179.1082 231.5502 174.7796 233.4561 171.0063 235.4275 167.9874 237.854 165.8459 237.8362 165.8102 240.842 165.2031 243.6501 165.9265 246.2071 167.4043 248.6314 169.3827 250.942 171.7078 253.1033 174.2359 255.0578 176.8221 256.7405 179.3238 258.0877 181.6132 259.0489 183.6274 259.5472 185.7579\"/>\n",
       "<polygon fill=\"rgba(0,0,0,1)\" points=\"259.248 222.3701 257.5078 224.945 254.8504 228.1496 251.399 231.9825 247.3649 236.2459 242.9777 240.7134 238.4722 245.151 234.0841 249.3229 230.046 252.9952 226.5796 255.9419 223.8456 257.9718 221.1024 259.0188 221.1024 258.9707 218.6682 255.5199 219.5603 252.8133 221.1573 249.3086 223.3022 245.0716 225.8098 240.3792 228.4853 235.5387 231.1303 230.8658 233.5458 226.6786 235.5316 223.2969 236.8876 221.0408 238.9075 219.3727 238.9075 219.4208 240.0653 222.5654 239.0552 224.8272 237.5496 228.2138 235.6687 232.4045 233.5326 237.0792 231.2717 241.923 229.0048 246.6182 226.8376 250.8448 224.8788 254.2985 223.1917 256.7214 221.1024 257.9978 221.1024 257.9738 219.2084 256.5328 218.3668 254.1688 217.6837 250.8979 217.1357 246.8936 216.7533 242.4085 216.5743 237.711 216.6391 233.0724 216.991 228.7606 217.6821 225.0305 218.8067 222.1022 220.6565 220.2107 220.6673 220.2322 223.1907 219.834 226.16 220.4448 229.5715 221.7626 233.335 223.6166 237.3152 225.8493 241.3623 228.3028 245.3201 230.8182 249.0302 233.2356 252.3313 235.3939 255.0585 237.1301 257.0295 238.2736 256.3957 239.5413 254.3 238.3839 251.5158 236.6688 248.1818 234.5465 244.4541 232.1748 240.4926 229.7139 236.4598 227.3248 232.5207 225.1697 228.8464 223.4119 225.6228 222.2148 223.0808 221.7286 221.5375 221.9726 221.5482 221.994 220.5888 223.099 219.7068 225.5484 219.1137 229.0152 218.8235 233.1578 218.808 237.6693 219.0303 242.2556 219.4505 246.6262 220.0263 250.4878 220.7077 253.5309 221.3911 255.3674 221.1024 255.4514 221.1024 255.4274 221.1801 255.0451 222.5965 252.9196 224.4369 249.5777 226.5236 245.4034 228.7248 240.7345 230.9051 235.8932 232.9427 231.2038 234.7272 226.9936 236.1378 223.5846 237.054 221.2981 238.9075 222.7839 238.9075 222.832 239.9642 222.8227 238.6983 225.1148 236.8047 228.5288 234.4846 232.7425 231.9393 237.4337 229.3708 242.2784 226.9824 246.95 224.9804 251.1139 223.5808 254.4048 223.0282 256.2465 221.1024 254.4545 221.1024 254.4064 221.2219 254.0622 223.5177 252.2394 226.7666 249.3536 230.648 245.6952 234.9015 241.5197 239.2785 237.0748 243.533 232.6063 247.4182 228.3618 250.6823 224.5964 253.0546 221.594 254.1772 219.8347\"/>\n",
       "<polygon fill=\"rgba(0,0,0,1)\" points=\"241.7421 309.8622 240.0425 312.8677 237.927 313.8019 235.6215 314.2812 233.0385 314.5546 230.2845 314.6629 227.5174 314.6148 224.903 314.4091 222.5832 314.0297 220.5842 313.377 218.6654 311.4799 219.4717 308.2315 219.5056 308.2655 221.2731 306.9856 223.7594 305.5769 226.956 303.9299 230.7018 302.0972 234.8091 300.151 239.0826 298.1686 243.3239 296.229 247.3333 294.4118 250.9098 292.7976 253.8496 291.4681 255.9391 290.5101 255.9606 290.553 257.4507 289.8969 258.5718 289.486 259.4246 289.273 260.4709 289.3079 261.3912 291.5396 260.7741 292.1722 260.1856 292.5193 259.4801 292.8292 258.6533 293.0956 257.7234 293.2828 256.7126 293.3423 256.7126 293.3183 255.7628 293.2942 254.5589 293.2702 253.1409 293.2462 251.549 293.2222 249.8233 293.1982 248.004 293.1741 246.1312 293.1501 244.245 293.1261 242.3856 293.1021 240.593 293.078 238.9075 293.054 238.9075 293.03 237.2908 293.0704 235.5367 293.2165 233.6938 293.431 231.8069 293.6743 229.9179 293.9064 228.0661 294.0865 226.2886 294.1725 224.619 294.1201 223.0876 293.8783 221.7277 293.3829 220.6013 292.5582 221.6035 291.556 222.3766 292.069 223.4246 292.4029 224.7292 292.5625 226.2434 292.5636 227.9172 292.4356 229.704 292.2143 231.5606 291.9381 233.4461 291.6464 235.3221 291.3793 237.1531 291.1776 238.9075 291.0842 238.9075 291.0602 240.593 291.0361 242.3856 291.0121 244.245 290.9881 246.1312 290.9641 248.004 290.94 249.8233 290.916 251.549 290.892 253.1409 290.868 254.5589 290.844 255.7628 290.8199 256.7126 290.7959 256.7126 290.7719 257.3071 290.6976 257.9022 290.537 258.4398 290.3219 258.8581 290.0966 259.0722 289.9354 258.8564 290.1666 259.6965 292.1843 260.1006 292.2727 259.6692 292.461 258.7837 292.8796 257.4646 293.5611 257.4861 293.6041 255.3752 294.6794 252.4557 296.1056 248.9155 297.809 244.9521 299.7107 240.7657 301.7307 236.558 303.7882 232.5319 305.8017 228.8935 307.6879 225.8563 309.3585 223.6606 310.7054 222.6991 311.4589 222.7331 311.4929 223.031 309.716 222.5569 308.9961 223.5545 309.2263 225.3816 309.4355 227.6632 309.5241 230.14 309.476 232.5764 309.29 234.729 308.9748 236.3029 308.5712 236.8093 308.3282 236.0728 309.8622\"/>\n",
       "<polygon fill=\"rgba(0,0,0,1)\" points=\"238.9075 360.1772 239.5763 360.2375 239.991 360.2978 240.1917 360.3581 240.2185 365.6052 240.1114 365.5449 239.9108 365.4846 239.6566 365.4243 239.3891 365.364 239.1483 365.3037 238.9744 365.2433 238.9075 360.8406 238.9075 360.9009 240.9581 363.1456 240.8978 363.4934 240.8375 363.975 240.7771 364.5101 240.7168 365.0184 240.6565 365.4197 240.5962 365.6338 237.2791 365.5802 237.3394 365.1789 237.3997 364.3495 237.46 363.0118 237.5052 363.0118 237.5354 360.9785 237.5655 358.2228 237.5957 354.9052 237.6259 351.1863 237.656 347.2267 237.6862 343.1867 237.7163 339.2271 237.7465 335.5082 237.7766 332.1906 237.8068 329.4349 237.8369 327.4016 237.8671 327.4016 237.8374 326.183 237.7433 325.5628 237.8234 325.5675 238.4622 325.6477 238.623 325.5178 238.5165 325.6737 238.4226 325.9756 238.4061 326.2778 238.453 326.4777 238.5556 326.6004 238.9075 326.6929 238.9075 328.1102 237.9216 327.9352 237.1949 327.3623 236.8404 326.599 236.7704 325.831 236.8905 325.1163 237.1854 324.4695 237.8545 323.9115 239.0284 324.0988 239.5901 324.9061 239.8438 325.9447 239.9479 327.4016 239.978 327.4016 240.0082 329.4349 240.0383 332.1906 240.0685 335.5082 240.0986 339.2271 240.1288 343.1867 240.1589 347.2267 240.1891 351.1863 240.2193 354.9052 240.2494 358.2228 240.2796 360.9785 240.3097 363.0118 240.355 363.0118 240.4153 364.3495 240.4756 365.1789 240.5359 365.5802 237.2188 365.6338 237.1584 365.4197 237.0981 365.0184 237.0378 364.5101 236.9775 363.975 236.9172 363.4934 236.8569 363.1456 238.9075 365.1227 238.9075 365.183 238.9744 360.7803 239.1483 360.72 239.3891 360.6597 239.6566 360.5993 239.9108 360.539 240.1114 360.4787 240.2185 360.4184 240.1917 365.6655 239.991 365.7258 239.5763 365.7861 238.9075 365.8465\"/>\n",
       "<polygon fill=\"rgba(0,0,0,1)\" points=\"241.4429 417.4291 240.7827 418.703 240.3933 419.517 240.248 419.8029 240.1481 418.8455 236.4678 417.2914 235.8777 417.8301 235.9674 417.7701 236.1627 417.4698 236.3617 417.0499 236.5163 416.5898 236.6013 416.1614 236.6494 416.1614 236.6456 415.4691 236.5326 414.3543 236.3427 412.9492 236.1186 411.3255 235.9035 409.5354 235.741 407.6229 235.6753 405.6277 235.7525 403.5873 236.0224 401.5385 236.539 399.5209 237.3605 397.5828 237.4034 397.6043 238.6944 395.6772 240.3948 393.7847 242.3988 391.8898 244.6001 390.0018 246.8865 388.1476 249.1339 386.353 251.2216 384.6578 253.0313 383.1179 254.4273 381.7949 255.2538 380.8083 255.4274 380.5512 255.4514 380.5512 255.4305 380.6307 254.6143 380.0691 253.093 379.4342 251.1143 378.8805 248.8761 378.4725 246.5591 378.2563 244.3427 378.2699 242.414 378.5391 240.9732 379.0531 240.1702 379.7151 239.9044 380.5512 239.8804 380.5512 240.231 382.4456 241.3138 385.4682 242.9723 389.2353 245.0393 393.4762 247.3511 397.9402 249.7457 402.3826 252.0616 406.5606 254.1378 410.2324 255.8134 413.1564 256.9278 415.0916 256.7126 415.4528 256.7126 416.8701 255.668 415.84 254.5082 413.9225 252.7861 411.0141 250.6618 407.3551 248.2957 403.1857 245.8477 398.7456 243.4775 394.2737 241.344 390.0066 239.6047 386.1754 238.4133 382.991 237.9346 380.5512 237.9105 380.5512 238.4742 378.5781 239.9453 377.2334 241.9023 376.4632 244.1741 376.0904 246.6397 376.0237 249.1653 376.2088 251.6091 376.6034 253.8309 377.1734 255.7074 377.903 257.1653 378.8664 257.9738 380.5512 257.9978 380.5512 257.4758 382.1936 256.376 383.615 254.8557 385.1279 253 386.7718 250.9141 388.528 248.7202 390.3719 246.5386 392.2634 244.486 394.1478 242.6908 395.9718 241.2877 397.6643 240.4115 399.1083 240.4545 399.1298 239.9382 400.5628 239.6255 402.1303 239.494 403.8003 239.5177 405.5323 239.666 407.2828 239.9048 409.0089 240.1981 410.6701 240.5091 412.2302 240.8007 413.661 241.0356 414.9542 241.1656 416.1614 241.2136 416.1614 241.1649 417.3383 240.9717 418.4032 240.6891 419.3478 240.3493 420.1712 239.9307 420.9138 238.9392 421.8539 235.0449 420.2195 234.9986 418.62 235.2546 417.6216 235.6945 416.429 236.3721 414.8937\"/>\n",
       "<polygon fill=\"rgba(0,0,0,1)\" points=\"289.5217 25.0414 289.9377 23.9875 290.1482 22.7004 290.1539 21.193 289.9804 19.5251 289.6805 17.7615 289.3229 15.9552 288.9844 14.1415 288.7521 12.3303 288.7444 10.4947 289.1759 8.5955 290.3632 6.8101 290.3915 6.8383 292.1376 5.7171 294.0128 5.1874 295.9756 4.988 298.023 4.9978 300.121 5.1509 302.214 5.3988 304.2341 5.6983 306.1054 6.0079 307.7439 6.2861 309.0498 6.4914 309.8622 6.5876 309.8622 6.6275 310.5311 6.6674 310.9458 6.7073 311.1464 6.7473 311.1732 10.2207 311.0662 10.1808 310.8655 10.1408 310.6113 10.1009 310.3438 10.061 310.103 10.0211 309.9291 9.9811 309.8622 7.0667 309.8622 7.0966 309.8622 7.1166 309.8622 7.1365 309.8622 7.1565 309.8622 7.1764 309.8622 7.1964 309.8622 7.2164 309.8622 7.2363 309.8622 7.2563 309.8622 7.2763 309.8622 7.2962 309.8622 7.3162 309.8622 7.3361 309.8622 7.3561 309.8622 7.3761 309.8622 7.396 309.8622 7.416 309.8622 7.436 309.8622 7.4559 309.8622 7.4759 309.8622 7.4958 309.8622 7.5158 309.8622 7.5358 309.8622 7.5557 309.8622 7.5757 309.1167 7.964 309.3085 7.6251 309.5671 7.1524 309.8525 6.6263 310.1245 6.1269 310.343 5.7345 310.4679 5.5294 311.8338 6.2792 311.6153 6.6716 311.1828 7.4921 310.4961 8.8209 309.2284 8.187 309.8794 6.8404 310.2762 6.002 310.459 5.5918 311.8784 6.2346 311.7893 6.4576 311.6065 6.8678 311.3702 7.3851 311.1205 7.9291 310.8975 8.4196 310.7415 8.7764 309.8622 9.4322 309.8622 9.4521 309.8622 9.4721 309.8622 9.4921 309.8622 9.512 309.8622 9.532 309.8622 9.552 309.8622 9.5719 309.8622 9.5919 309.8622 9.6118 309.8622 9.6318 309.8622 9.6518 309.8622 9.6717 309.8622 9.6917 309.8622 9.7117 309.8622 9.7316 309.8622 9.7516 309.8622 9.7715 309.8622 9.7915 309.8622 9.8115 309.8622 9.8314 309.8622 9.8514 309.8622 9.8714 309.8622 9.8913 309.8622 9.9113 309.8622 9.9412 309.9291 7.0267 310.103 6.9868 310.3438 6.9469 310.6113 6.907 310.8655 6.867 311.0662 6.8271 311.1732 6.7872 311.1464 10.2606 310.9458 10.3005 310.5311 10.3405 309.8622 10.3804 309.8622 10.4203 308.6413 10.3827 307.1914 10.2402 305.5124 10.0368 303.6648 9.8113 301.7252 9.6025 299.7783 9.4491 297.9167 9.3882 296.2451 9.4514 294.8904 9.6534 294.0099 9.953 293.7227 10.1696 293.7509 10.1978 293.7343 10.3119 293.6843 10.8207 293.7568 11.821 294.0061 13.1936 294.39 14.8313 294.835 16.6636 295.2575 18.6456 295.5655 20.7501 295.6516 22.9615 295.3804 25.2596 294.5925 27.5767\"/>\n",
       "<polygon fill=\"rgba(0,0,0,1)\" points=\"276.7874 80.7264 276.7224 80.9196 276.9464 81.6852 277.8401 83.0522 279.3809 84.7074 281.3927 86.4686 283.6902 88.2373 286.0979 89.9486 288.4499 91.5532 290.5911 93.0127 292.3893 94.3097 293.7958 95.525 293.7717 95.5492 294.6944 96.7454 295.2235 98.1958 295.0023 99.9256 293.9338 101.1966 292.6709 101.6869 291.4496 101.6533 290.2392 101.1127 289.2694 99.8597 289.1264 98.2356 289.6815 96.9067 290.6081 95.8148 290.6323 95.839 291.8718 94.7175 293.6383 93.1749 295.805 91.2976 298.218 89.1999 300.7183 87.001 303.144 84.8226 305.3304 82.7901 307.1055 81.0377 308.2723 79.7403 308.5448 79.4658 309.8622 81.098 309.8622 81.0638 308.9306 81.2959 306.5032 82.1899 303.1752 83.598 299.2271 85.3877 294.9106 87.4345 290.4748 89.6238 286.1639 91.8334 282.2182 93.9335 278.8851 95.7995 276.4252 97.2967 275.1878 98.1996 275.1757 98.1875 275.2188 97.6525 275.404 97.7561 276.6284 98.3249 278.5496 98.8621 280.8852 99.262 283.4015 99.4718 285.8752 99.4509 288.0766 99.1707 289.7557 98.6374 290.6786 97.9719 290.9386 97.2638 290.9557 97.2638 290.6611 95.4414 289.747 92.6091 288.3259 89.0966 286.5236 85.1354 284.4634 80.9371 282.2677 76.7072 280.058 72.6494 277.9564 68.9671 276.0861 65.8653 274.5764 63.5564 273.606 62.2995 273.618 62.2875 273.534 62.1448 273.6276 62.1439 273.2994 62.8874 273.0136 64.2983 272.8553 66.1633 272.8384 68.3304 272.9656 70.6662 273.2373 73.0429 273.6519 75.334 274.2052 77.4112 274.8858 79.1417 273.6181 79.7756 272.8273 77.8675 272.2034 75.664 271.735 73.2731 271.4181 70.8072 271.2511 68.3807 271.2341 66.1065 271.3701 64.0921 271.673 62.4263 272.2277 61.1365 273.4985 60.3864 274.8859 61.0196 274.898 61.0075 276.0946 62.4796 277.6884 64.8527 279.6173 67.9848 281.7697 71.6868 284.028 75.7623 286.2735 80.0136 288.3871 84.2429 290.2501 88.2546 291.7453 91.8587 292.7574 94.8857 293.1585 97.2638 293.1756 97.2638 292.4724 99.3649 290.7733 100.706 288.573 101.4569 286.0389 101.8188 283.3223 101.8782 280.5947 101.6866 278.0342 101.2839 275.8085 100.6974 274.0364 99.9017 272.7768 98.4803 273.3283 96.3401 273.3162 96.328 274.9415 95.0637 277.5114 93.4575 280.8937 91.5243 284.8673 89.3704 289.1981 87.1121 293.6448 84.8601 297.97 82.7332 301.9413 80.8575 305.3287 79.3494 307.9311 78.3171 309.8622 77.8535 309.8622 77.8193 311.8217 80.1471 310.9973 81.7989 309.6491 83.4178 307.8124 85.3308 305.6111 87.4719 303.1942 89.7349 300.7181 92.0039 298.3421 94.1602 296.228 96.0821 294.5433 97.6429 293.4819 98.6886 293.506 98.7127 293.2287 99.0924 293.3022 98.9406 293.2395 98.1995 292.7512 97.535 292.2633 97.2887 291.8446 97.2552 291.3041 97.4512 290.7172 98.1336 290.5762 98.9804 290.6237 99.2536 290.3425 98.9784 290.3183 99.0025 289.424 98.3183 287.7709 97.2073 285.6313 95.8309 283.1942 94.2517 280.6256 92.5117 278.0806 90.6417 275.7046 88.6574 273.6336 86.5401 272.0123 84.1883 271.1394 81.3688 271.7166 78.191\"/>\n",
       "<polygon fill=\"rgba(0,0,0,1)\" points=\"307.0276 150.4134 306.7211 149.7447 305.0838 147.357 302.3329 144.1777 298.7738 140.5184 294.6749 136.5827 290.289 132.547 285.8627 128.5787 281.6386 124.8406 277.8558 121.4919 274.7462 118.685 272.5132 116.5419 272.5374 116.5178 271.2541 115.2478 270.4451 114.5324 270.2477 114.352 271.9657 114.1959 273.0164 111.806 272.8966 111.5774 273.0573 111.8316 273.3785 112.1842 273.759 112.4956 274.0879 112.6864 274.252 112.754 274.252 112.7882 275.3355 112.8223 276.8873 112.8565 278.7869 112.8906 280.9138 112.9248 283.1478 112.9589 285.3685 112.9931 287.4553 113.0272 289.288 113.0614 290.7461 113.0955 291.7093 113.1297 292.0571 113.1638 292.0571 113.198 291.1681 116.1671 290.0687 115.7951 288.4136 115.2904 286.366 114.7335 284.0914 114.2046 281.7577 113.7917 279.5449 113.5717 277.6544 113.6009 276.3259 113.8892 275.739 114.2697 275.5754 114.8031 275.5583 114.8031 275.7933 116.6321 276.5372 119.4561 277.7169 122.9568 279.2484 126.904 281.0485 131.0857 283.0347 135.2952 285.1239 139.3266 287.231 142.9728 289.2643 146.0217 291.1105 148.2488 292.5573 149.413 292.5497 149.4283 293.8018 149.717 295.4237 149.4193 297.3318 148.5121 299.3764 147.0716 301.4362 145.2159 303.4104 143.0708 305.2079 140.7633 306.7419 138.4218 307.9277 136.1792 308.6838 134.1814 308.9486 132.6083 308.9657 132.6083 308.6871 131.1542 307.8122 129.3338 306.426 127.3083 304.6507 125.1959 302.6119 123.0936 300.4341 121.0896 298.2418 119.269 296.1601 117.7159 294.3186 116.5152 292.8653 115.7556 292.0571 115.5118 292.0571 114.0945 293.416 114.4126 295.0662 115.2314 297.0239 116.4654 299.1961 118.0426 301.4718 119.8874 303.7353 121.9233 305.8702 124.0749 307.7602 126.2701 309.2903 128.445 310.3416 130.5574 310.7587 132.6083 310.7758 132.6083 310.4788 134.6737 309.6564 136.9566 308.4075 139.3961 306.8112 141.8972 304.9434 144.352 302.8776 146.6482 300.6835 148.6718 298.4206 150.3081 296.1282 151.4342 293.8173 151.8856 291.5645 151.3985 291.5569 151.4138 289.4988 149.849 287.4121 147.3941 285.245 144.2092 283.0445 140.4711 280.8798 136.3692 278.8261 132.0975 276.9608 127.8516 275.362 123.8259 274.1071 120.2099 273.2725 117.1746 272.9456 114.8031 272.9286 114.8031 273.5943 112.6611 275.2816 111.3829 277.3508 110.8685 279.6608 110.7907 282.1301 110.9988 284.639 111.3885 287.0463 111.8763 289.1992 112.3895 290.9419 112.848 292.1167 113.1717 292.0571 116.4083 292.0571 116.4425 291.7093 116.4766 290.7461 116.5108 289.288 116.5449 287.4553 116.5791 285.3685 116.6132 283.1478 116.6474 280.9138 116.6815 278.7869 116.7157 276.8873 116.7498 275.3355 116.784 274.252 116.8181 274.252 116.8523 272.8107 116.6524 271.6147 116.1475 270.6306 115.4958 269.8282 114.7782 269.1862 114.0157 268.6651 112.9845 269.7961 110.1665 272.1562 110.1175 273.243 110.7397 274.4406 111.683 275.9666 113.0885 275.9907 113.0644 278.092 114.988 281.1894 117.6925 285.0049 120.9789 289.2887 124.6786 293.7984 128.6296 298.2951 132.6738 302.5435 136.6574 306.3151 140.4359 309.3967 143.8916 311.6121 147.0154 312.6969 150.4134\"/>\n",
       "<polygon fill=\"rgba(0,0,0,1)\" points=\"311.8666 183.7535 312.8456 187.4068 311.738 190.002 309.975 192.4232 307.7218 194.9345 305.1343 197.4788 302.3896 199.9314 299.6709 202.1506 297.1543 203.9937 294.9702 205.3348 292.872 206.0905 289.8859 203.563 289.9462 203.563 290.5849 201.3956 291.8452 198.9351 293.6241 195.7972 295.7867 192.1173 298.1805 188.0798 300.6476 183.8807 303.0277 179.7207 305.1586 175.8056 306.8756 172.3501 308.0094 169.6 308.4147 167.9528 308.46 167.9528 308.3541 167.3474 307.9616 166.9911 306.9259 166.6854 305.321 166.611 303.3564 166.7829 301.202 167.1418 299.0004 167.6119 296.8805 168.1142 294.9617 168.5695 293.3461 168.9003 292.0571 169.0233 292.0571 168.9931 291.4551 168.963 291.2143 168.9328 291.2545 167.0028 291.4952 167.033 291.8564 167.0632 292.2577 167.0933 292.6189 167.1235 292.8597 167.1536 292.8999 168.7217 292.6591 168.6916 292.0571 168.6614 292.0571 167.2441 292.6591 167.2139 292.8999 167.1838 292.8597 168.7519 292.6189 168.782 292.2577 168.8122 291.8564 168.8424 291.4952 168.8725 291.2545 168.9027 291.2143 166.9727 291.4551 166.9425 292.0571 166.9124 292.0571 166.8822 292.9352 166.7376 294.4231 166.3729 296.3034 165.865 298.4375 165.2971 300.7039 164.7505 302.9907 164.3068 305.1999 164.0506 307.2603 164.0832 309.1409 164.5802 310.6747 165.8826 311.2644 167.9528 311.3097 167.9528 310.8857 170.5059 309.7453 173.6151 308.0644 177.2763 305.9949 181.334 303.693 185.6018 301.3175 189.8838 299.0293 193.9797 296.9914 197.684 295.3725 200.7799 294.3586 203.0014 294.168 203.563 294.2283 203.563 292.2053 201.6776 292.7291 201.3363 294.4244 200.1625 296.6434 198.3937 299.115 196.2252 301.6142 193.8353 303.9228 191.4032 305.8165 189.1255 307.05 187.266 307.3872 186.4098 307.8578 187.7623\"/>\n",
       "<polygon fill=\"rgba(0,0,0,1)\" points=\"293.3248 254.1772 294.9023 254.9156 296.8623 255.6559 299.0454 256.3336 301.3078 256.8997 303.5065 257.311 305.4882 257.5309 307.0692 257.5409 307.9945 257.4006 308.0146 257.4883 307.8149 258.09 307.7196 257.7839 307.7553 257.766 306.671 256.1023 304.4667 253.4475 301.4348 250.1625 297.8044 246.4491 293.7866 242.4814 289.587 238.4254 285.4085 234.4441 281.4524 230.6989 277.9187 227.3498 275.0047 224.5539 272.8969 222.4574 272.9251 222.4292 271.4818 220.9295 270.3329 219.7241 269.4782 218.8129 268.9178 218.1961 268.6518 217.8736 270.9949 215.5304 271.261 215.8529 271.8214 216.4698 272.676 217.3809 273.825 218.5863 275.2683 220.086 275.2471 220.1072 277.3568 222.3126 280.2788 225.4371 283.824 229.2514 287.7942 233.5173 291.9894 237.9946 296.2084 242.4422 300.2493 246.6181 303.908 250.2784 306.9734 253.1741 309.201 255.0352 309.8622 255.5248 309.8622 255.5448 309.0406 256.0587 308.5694 254.2201 307.361 251.1338 305.5904 247.2303 303.4259 242.8169 301.0314 238.1831 298.5691 233.6139 296.2013 229.3933 294.0912 225.8066 292.4086 223.1474 291.3866 221.7728 291.4007 221.7587 291.4849 221.6222 292.0962 221.1961 292.1168 222.0034 292.3304 223.4948 292.6706 225.4308 293.0548 227.6688 293.4009 230.084 293.6267 232.5577 293.6479 234.9766 293.373 237.2338 292.6909 239.2244 291.4232 238.5906 291.9451 236.9425 292.1518 234.919 292.0927 232.6559 291.837 230.287 291.4607 227.9399 291.0422 225.7367 290.6601 223.7933 290.3921 222.2079 290.3325 220.9818 291.4253 219.8066 292.7135 220.446 292.7276 220.4319 294.0065 222.0538 295.7752 224.7723 297.9458 228.3825 300.367 232.6163 302.8811 237.1972 305.3291 241.8472 307.5524 246.2896 309.3937 250.2518 310.7002 253.4796 311.3259 255.8415 309.8622 257.8804 309.8622 257.9004 307.7944 256.9988 305.34 255.0073 302.1716 252.0705 298.446 248.4 294.3536 244.2285 290.0915 239.7936 285.859 235.3349 281.8563 231.0929 278.2848 227.3089 275.3476 224.2264 273.2568 222.0975 273.2357 222.1187 271.7359 220.6754 270.5305 219.5264 269.6194 218.6718 269.0025 218.1114 268.68 217.8453 271.0232 215.5022 271.3457 215.7682 271.9625 216.3286 272.8737 217.1833 274.0791 218.3322 275.5788 219.7755 275.6071 219.7473 277.6997 221.7175 280.6449 224.4331 284.228 227.719 288.2447 231.4116 292.4938 235.3496 296.7754 239.3735 300.891 243.3251 304.6448 247.0495 307.8468 250.3995 310.3245 253.2562 311.9691 255.6592 312.0048 255.6413 312.6854 258.1444 311.7366 260.7527 309.7234 262.1246 307.5719 262.6264 305.2735 262.7167 302.8139 262.5353 300.2503 262.144 297.6701 261.5863 295.1712 260.8996 292.8505 260.1148 290.7894 259.248\"/>\n",
       "<polygon fill=\"rgba(0,0,0,1)\" points=\"309.8622 307.0276 307.9356 312.0615 305.8434 311.0644 302.6931 309.5718 298.7652 307.7038 294.3398 305.5803 289.6965 303.3212 285.1138 301.0454 280.8675 298.8705 277.2259 296.9095 274.4289 295.2548 272.5132 293.7958 272.5374 293.7717 271.4739 291.2731 272.8621 288.82 274.6218 288.057 276.5088 287.7266 278.6544 287.5972 281.0243 287.6311 283.5336 287.8203 286.0822 288.1645 288.5677 288.6682 290.8926 289.3436 292.9735 290.2243 292.9582 290.2548 295.0299 291.6473 297.1223 293.5271 299.2746 295.7689 301.4452 298.2331 303.5684 300.7693 305.569 303.2207 307.3661 305.4253 308.8685 307.2112 309.9444 308.3746 309.9965 308.5621 308.2229 309.8622 308.257 309.8622 307.9765 308.9156 306.9104 306.3091 305.2602 302.734 303.2006 298.5117 300.8962 293.9334 298.502 289.2879 296.1791 284.8579 294.0963 280.9214 292.4143 277.7597 291.2938 275.6541 292.0571 272.9286 292.0571 272.9456 293.6048 274.3993 294.7282 276.5102 296.4138 279.6785 298.5011 283.6235 300.8298 288.0645 303.2396 292.7213 305.5706 297.3142 307.6634 301.5649 309.3604 305.1997 310.5108 307.9652 310.9807 309.8622 310.9636 309.8622 309.1059 311.0909 307.9943 310.1031 306.7434 308.5375 305.1816 306.4402 303.3661 303.9866 301.373 301.3715 299.2841 298.7958 297.1866 296.4641 295.1792 294.5859 293.3957 293.3723 292.0571 292.9707 292.0571 292.9536 290.6511 293.2801 288.8355 294.3134 286.8034 295.936 284.6822 297.981 282.5702 300.2802 280.5557 302.6684 278.7226 304.9822 277.1535 307.0592 275.9296 308.7379 275.1321 309.857 274.252 309.1535 274.252 310.5709 273.9337 309.0381 274.7147 307.883 275.9255 306.1638 277.4866 304.0404 279.3189 301.6722 281.3443 299.2178 283.4863 296.835 285.6725 294.6795 287.8409 292.9043 289.9582 291.6635 292.0571 291.1606 292.0571 291.1435 294.2233 291.7051 296.3727 293.1134 298.5658 295.1145 300.7757 297.5184 302.9408 300.1331 304.9877 302.7619 306.8375 305.2043 308.406 307.254 309.5897 308.685 310.0567 309.1418 308.7608 309.8622 308.7437 309.8622 308.3842 308.7627 307.2604 306.1506 305.5597 302.5884 303.452 298.3846 301.101 293.8275 298.6682 289.2005 296.3148 284.7858 294.2017 280.8649 292.4895 277.7192 291.3388 275.6297 292.0571 275.5583 292.0571 275.5754 293.6498 274.3748 294.8034 276.4697 296.5192 279.622 298.6368 283.5513 300.9961 287.9771 303.4443 292.6154 305.822 297.1872 307.9628 301.4193 309.7104 305.0412 310.9185 307.8123 311.4674 309.8622 311.5015 309.8622 309.1661 311.8044 307.6396 310.8949 306.2809 309.5434 304.653 307.7175 302.7847 305.5344 300.7455 303.1432 298.6146 300.7031 296.4778 298.3782 294.4296 296.3393 292.5892 294.7678 291.156 293.8593 291.1407 293.8899 289.583 293.299 287.6271 292.7973 285.4306 292.4181 283.1367 292.1737 280.8836 292.0686 278.8123 292.1025 277.0785 292.2674 275.8887 292.5256 275.615 292.6455 276.2542 291.3696 275.9666 290.3425 275.9907 290.3183 277.0716 291.0265 279.6522 292.4753 283.2076 294.3134 287.4157 296.3925 291.983 298.5847 296.6235 300.7668 301.0539 302.8171 304.9918 304.6144 308.1555 306.038 310.2638 306.9673 309.8622 312.6969\"/>\n",
       "<polygon fill=\"rgba(0,0,0,1)\" points=\"312.3976 346.4744 311.2294 348.4691 309.7349 350.7024 307.9735 353.1052 306.0145 355.5773 303.9295 358.0098 301.7879 360.2925 299.6513 362.3179 297.5578 363.9856 295.4685 365.2016 293.0998 365.7538 290.4264 364.6425 290.4604 364.6085 289.2441 362.0496 288.8211 359.0278 288.6597 355.2834 288.6803 350.9773 288.8364 346.3545 289.0865 341.6816 289.39 337.2329 289.7067 333.2856 289.9964 330.1187 290.2191 328.0118 292.0571 325.672 292.0571 325.72 293.7515 328.0242 293.8783 330.1379 294.0721 333.31 294.2926 337.2602 294.4998 341.7086 294.6655 346.3756 294.7493 350.9845 294.6981 355.2629 294.468 358.95 293.9961 361.8311 292.9659 363.9206 292.9489 363.9036 291.0267 364.6368 289.149 364.1243 287.3014 362.968 285.3602 361.3318 283.3408 359.3201 281.3007 357.0418 279.3105 354.6106 277.4452 352.1422 275.7814 349.7525 274.3952 347.5547 273.3603 345.6525 273.3818 345.6418 272.5749 343.8228 271.8156 341.7982 271.1403 339.6415 270.5876 337.4277 270.1978 335.2313 270.0128 333.124 270.0803 331.1729 270.4624 329.439 271.2539 327.9981 272.5422 327.0164 274.252 326.6929 274.252 328.1102 273.1525 328.3486 272.4342 328.9454 271.9416 329.9391 271.6815 331.3355 271.6687 333.0498 271.8851 334.9825 272.2979 337.04 272.8689 339.1337 273.5581 341.1775 274.3237 343.0858 275.1222 344.7716 275.1437 344.7609 276.142 346.4973 277.5116 348.5802 279.1653 350.8725 281.0189 353.2467 282.9884 355.5779 284.9882 357.7408 286.9285 359.6084 288.7062 361.049 290.1761 361.9261 291.0541 362.1627 291.1653 362.12 291.1483 362.103 291.4558 361.196 291.8133 358.6995 291.9845 355.1896 291.9868 351.0136 291.8566 346.4725 291.6209 341.8557 291.3198 337.4483 291.0053 333.5327 290.7174 330.3907 290.4965 328.304 292.0571 329.0831 292.0571 329.1312 293.7613 328.3163 293.6362 330.4099 293.4443 333.5571 293.2259 337.4756 293.0211 341.8826 292.8698 346.4936 292.8119 351.0208 292.8861 355.1691 293.126 358.6217 293.5323 360.9775 293.6538 361.4151 293.6878 361.3811 293.0477 361.0457 293.4347 360.8488 294.663 360.0314 296.2883 358.6224 298.1115 356.7683 300.0098 354.6098 301.8844 352.28 303.6443 349.9095 305.2005 347.6303 306.4617 345.5829 307.3268 343.939\"/>\n",
       "<polygon fill=\"rgba(0,0,0,1)\" points=\"311.1299 413.626 311.0379 413.6933 310.6516 413.874 310.9114 413.5046 311.3293 412.2927 311.5966 410.5078 311.6257 408.4127 311.3976 406.2296 310.9219 404.1655 310.2394 402.4263 309.4524 401.2077 308.7413 400.5981 308.7546 400.5714 307.2592 400.082 304.6113 399.6795 301.2069 399.4582 297.3143 399.4024 293.1614 399.4781 288.9614 399.647 284.9212 399.8696 281.2437 400.1062 278.128 400.317 275.7629 400.4627 274.252 400.5047 274.252 400.4748 275.9412 398.2045 274.8285 396.6246 275.6552 396.8487 277.0942 397.129 278.9515 397.4024 281.0878 397.6254 283.372 397.758 285.6727 397.7626 287.8533 397.6061 289.7673 397.2669 291.2564 396.755 291.2698 396.7817 292.6302 395.8801 294.2929 394.3185 296.102 392.2809 297.9769 389.9488 299.8625 387.4932 301.7152 385.0772 303.4998 382.8569 305.1982 380.9765 306.8483 379.5596 308.7245 378.7802 310.875 379.5384 310.8591 379.5543 311.8792 381.6242 312.3188 384.3586 312.511 387.8157 312.5233 391.8299 312.4005 396.1841 312.184 400.6467 311.9141 404.9812 311.6311 408.9482 311.3753 412.3066 311.1873 414.8095 311.108 416.1614 311.093 416.1614 308.6463 416.4825 308.6612 415.934 308.6761 414.6765 308.691 412.8706 308.706 410.6767 308.7209 408.2555 308.7358 405.7673 308.7507 403.3728 308.7656 401.2324 308.7806 399.5067 308.7955 398.3563 308.8104 398.3563 308.8253 397.7543 308.8402 397.5135 310.8692 397.5537 310.8543 397.7945 310.8394 398.1556 310.8245 398.557 310.8096 398.9181 310.7947 399.1589 308.9447 399.1991 308.9596 398.9583 308.9745 398.3563 308.9894 398.3563 309.1532 397.1126 309.5251 395.5202 310.0233 393.6156 310.5704 391.5023 311.0874 389.2976 311.4953 387.1254 311.7167 385.1167 311.6834 383.4163 311.3659 382.1866 310.8137 381.5109 309.8622 381.2598 309.8622 379.8425 311.5862 380.2871 312.6927 381.5377 313.1779 383.2242 313.2516 385.1893 313.045 387.3542 312.6502 389.6232 312.1505 391.8865 311.6274 394.0272 311.1625 395.9217 310.8388 397.4329 310.735 398.3563 310.7499 398.3563 310.7648 398.9583 310.7797 399.1991 308.9298 399.1589 308.9148 398.9181 308.8999 398.557 308.885 398.1556 308.8701 397.7945 308.8552 397.5537 310.8842 397.5135 310.8991 397.7543 310.914 398.3563 310.9289 398.3563 310.9438 399.5067 310.9588 401.2324 310.9737 403.3728 310.9886 405.7673 311.0035 408.2555 311.0184 410.6767 311.0334 412.8706 311.0483 414.6765 311.0632 415.934 311.0781 416.4825 308.6314 416.1614 308.6165 416.1614 308.6709 414.6506 308.8307 412.1236 309.0565 408.7667 309.3086 404.8144 309.547 400.5071 309.7318 396.0872 309.8231 391.7997 309.7819 387.8946 309.5727 384.6363 309.1829 382.3409 308.8653 381.5481 308.8495 381.5639 309.1004 381.6801 308.5686 381.9976 307.3828 383.0956 305.8973 384.8271 304.2307 386.9945 302.4447 389.4211 300.5847 391.9418 298.6872 394.3988 296.7774 396.6419 294.855 398.5316 292.8444 399.9309 292.8577 399.9576 290.7082 400.7835 288.3416 401.2737 285.8401 401.5185 283.2982 401.5766 280.8201 401.4951 278.5152 401.3168 276.493 401.0819 274.8554 400.8271 273.6487 400.5696 271.7868 398.6418 274.252 396.2378 274.252 396.2079 275.47 396.1161 277.7869 395.9141 280.9051 395.6433 284.6118 395.3447 288.7049 395.059 292.9861 394.8266 297.2609 394.6882 301.3411 394.686 305.0534 394.866 308.2648 395.2929 310.9698 396.1412 310.9831 396.1145 313.215 397.8058 314.7824 400.0385 315.8657 402.58 316.5672 405.305 316.9277 408.0983 316.9568 410.8457 316.6355 413.4485 315.8762 415.8485 314.3702 417.994 311.6295 419.2716 308.5945 418.6968\"/>\n",
       "<polygon fill=\"rgba(0,0,0,1)\" points=\"347.2111 6.4995 348.5136 9.4866 348.7211 12.6182 348.5991 16.3901 348.273 20.6937 347.8284 25.297 347.3461 29.9352 346.9063 34.3297 346.5888 38.188 346.4686 41.183 346.5565 42.8129 345.2067 42.1704 345.2067 42.2514 345.0241 42.1649 346.4547 40.5083 348.359 37.732 350.5235 34.1631 352.8075 30.0675 355.0655 25.6874 357.1729 21.2711 359.0248 17.0749 360.4978 13.3505 361.4665 10.3687 361.8172 8.5039 361.8577 8.5039 361.7398 7.6741 361.3949 7.2602 360.5687 6.9563 359.2133 6.8726 357.4819 7.0349 355.506 7.3864 353.3895 7.8506 351.2224 8.3473 349.0872 8.7953 347.0599 9.1125 345.2067 9.2126 345.2067 7.7953 346.8584 7.6278 348.7639 7.2494 350.8292 6.7342 352.9696 6.1607 355.1071 5.6083 357.1711 5.1572 359.105 4.8914 360.8799 4.9147 362.4884 5.4134 363.7219 6.6583 364.1659 8.5039 364.2064 8.5039 363.8615 10.9734 362.9039 14.1986 361.4606 18.0725 359.6472 22.3842 357.5809 26.9039 355.3976 31.4064 353.2136 35.6581 351.1241 39.42 349.2293 42.4762 347.5564 44.6722 345.2067 45.9769 345.2067 46.0579 342.653 43.8904 342.2593 41.3198 342.2193 38.0008 342.3834 33.9933 342.666 29.5321 342.9863 24.8865 343.2641 20.3397 343.4196 16.1889 343.3778 12.7638 343.1037 10.5178 343.2023 10.5083\"/>\n",
       "<polygon fill=\"rgba(0,0,0,1)\" points=\"348.0413 61.6535 347.8897 63.8312 347.6321 66.6289 347.3098 69.9504 346.9623 73.6524 346.629 77.5797 346.3496 81.5722 346.1633 85.4658 346.1082 89.0912 346.2188 92.2688 346.5149 94.7935 346.9452 96.3945 346.8728 96.4307 347.4847 97.2888 348.7366 98.1016 350.5515 98.7276 352.7258 99.0998 355.0548 99.2181 357.3446 99.0892 359.4033 98.7542 361.0345 98.2907 361.9973 97.8251 362.1169 97.85 362.1671 98.1085 362.1957 98.0799 360.9653 97.2164 358.3603 95.8367 354.8044 94.153 350.6036 92.2609 346.0463 90.2447 341.4156 88.1854 336.9922 86.1632 333.054 84.2564 329.872 82.5385 327.6894 81.0549 326.6929 79.4587 328.1102 79.4587 328.6388 79.8958 330.6566 81.1679 333.7887 82.7675 337.7163 84.5796 342.1487 86.5171 346.8018 88.4978 351.3945 90.4411 355.6481 92.268 359.2892 93.9018 362.0618 95.2778 363.8279 96.4477 363.8565 96.4191 364.5489 98.2828 363.5715 99.8327 362.0193 100.7317 360.0387 101.3918 357.7097 101.8594 355.1569 102.1319 352.5095 102.1698 349.8948 101.9 347.429 101.2418 345.2295 100.048 343.5406 98.0968 343.4681 98.1331 342.5608 95.6674 342.0275 92.6806 341.7367 89.2232 341.6282 85.4108 341.6559 81.3851 341.7778 77.2977 341.9529 73.3057 342.1404 69.57 342.2997 66.2563 342.3899 63.5426 342.372 61.6535\"/>\n",
       "<polygon fill=\"rgba(0,0,0,1)\" points=\"343.2023 116.8075 341.8454 115.6069 340.2567 114.6007 338.513 113.8159 336.7033 113.2716 334.9244 112.9767 333.2795 112.9277 331.8779 113.1022 330.826 113.4421 330.1815 113.842 329.8575 114.2324 329.7077 114.8031 329.6597 114.8031 329.838 116.3482 330.5237 118.9112 331.6544 122.1311 333.1432 125.792 334.9048 129.7126 336.8558 133.7218 338.9127 137.6526 340.9916 141.3383 343.0059 144.6101 344.8604 147.2924 346.4297 149.1904 346.3957 149.2243 347.8795 150.5835 349.4616 151.6799 351.1046 152.5133 352.7698 153.0834 354.4173 153.3911 356.0067 153.4273 357.4943 153.1984 358.8461 152.7246 360.037 152.0117 361.0487 151.0558 361.8623 149.8386 361.8838 149.8494 362.5502 148.002 363.1377 145.1952 363.594 141.7108 363.9085 137.7766 364.0782 133.6052 364.1022 129.404 363.9806 125.3792 363.7147 121.7393 363.3089 118.7002 362.7842 116.5058 362.3069 115.5081 362.3239 115.4911 362.1143 115.4794 360.8833 116.045 359.0776 117.4409 356.9827 119.45 354.7577 121.8527 352.5353 124.4396 350.4408 127.006 348.5969 129.349 347.1254 131.2666 346.1472 132.5574 345.2067 131.8996 345.2067 133.3169 344.9618 131.696 345.91 130.3648 347.3546 128.403 349.1761 126.0105 351.2553 123.3865 353.4741 120.7295 355.7172 118.2361 357.8762 116.0983 359.8696 114.4977 361.7422 113.6185 363.6998 114.1152 363.7167 114.0982 364.7109 115.8294 365.3634 118.3171 365.8405 121.5118 366.1632 125.2561 366.3359 129.3647 366.36 133.6446 366.2353 137.9009 365.9612 141.9396 365.5346 145.5719 364.945 148.6243 364.1398 150.9774 364.1613 150.9881 363.0753 152.7139 361.6792 154.1125 360.0341 155.1654 358.2021 155.8688 356.2384 156.2284 354.1891 156.2647 352.091 155.9838 349.9838 155.3766 347.908 154.4442 345.9049 153.1863 344.0176 151.6024 343.9837 151.6364 342.0482 149.4677 339.9698 146.6386 337.7835 143.2753 335.555 139.5232 333.358 135.5346 331.269 131.4641 329.3653 127.4653 327.7238 123.6885 326.4198 120.2732 325.527 117.3247 325.1435 114.8031 325.0954 114.8031 325.5074 112.4309 326.762 110.467 328.5521 109.101 330.6305 108.2637 332.8943 107.8496 335.2894 107.8007 337.7644 108.0943 340.2622 108.7272 342.7189 109.7082 345.0632 111.0564 347.2111 112.7988\"/>\n",
       "<polygon fill=\"rgba(0,0,0,1)\" points=\"324.5669 185.7579 327.5445 182.4552 330.4227 182.1778 334.0103 182.2669 338.2877 182.56 342.9973 182.9715 347.8359 183.4207 352.4843 183.8275 356.6082 184.1122 359.836 184.1995 361.6025 184.0782 360.7057 185.7579 360.7537 185.7579 360.6917 186.1059 359.0432 184.5732 356.2745 182.4824 352.7155 180.1001 348.6343 177.6112 344.2854 175.1856 339.9215 172.9892 335.8008 171.1873 332.2024 169.9444 329.4755 169.4069 328.1751 169.4998 328.1536 169.4568 327.401 170.2191 326.5227 172.3182 325.8765 175.4525 325.5186 179.2783 325.4314 183.5089 325.593 187.8809 325.9643 192.1391 326.4923 196.0316 327.1314 199.2995 327.8178 201.6538 328.3103 202.6542 328.2934 202.6712 328.2757 202.6551 329.1666 202.2985 330.6697 201.1851 332.4712 199.4681 334.4301 197.3331 336.4467 194.9533 338.4334 192.4949 340.3075 190.1208 341.9888 187.9905 343.4031 186.2579 344.5018 185.0529 344.5187 185.0699 345.346 184.351 346.0644 183.8758 346.7209 183.6087 347.4487 183.5892 348.1892 184.1986 348.2046 185.0031 347.8876 185.5209 347.4241 185.9132 346.8214 186.2158 346.0805 186.4105 345.2067 186.4665 345.2067 185.0492 345.8043 184.9714 346.2406 184.8183 346.5209 184.6394 346.646 184.4966 346.6233 184.5061 346.6387 184.9092 347.0848 185.3046 347.2241 185.3386 346.9977 185.4728 346.5388 185.827 345.8946 186.4458 345.9116 186.4628 344.977 187.5587 343.6355 189.2775 341.9993 191.4279 340.1545 193.8428 338.1816 196.3608 336.1582 198.8236 334.1574 201.0763 332.2401 202.9711 330.4256 204.3726 328.5608 205.113 326.5098 204.4548 326.4928 204.4718 325.38 202.6095 324.5415 199.9339 323.8161 196.4865 323.2204 192.4596 322.7891 188.0761 322.5493 183.5656 322.5424 179.1545 322.8266 175.0609 323.4646 171.4798 324.5929 168.5492 326.6496 166.4487 326.6281 166.4057 329.6619 165.8565 333.142 166.4159 337.1419 167.688 341.5291 169.498 346.1012 171.6893 350.6348 174.1062 354.9011 176.5936 358.6727 179.0004 361.7365 181.1904 363.9407 183.109 365.2699 185.7579 365.318 185.7579 362.7623 188.6415 359.9805 189.0018 356.4127 189.0088 352.1357 188.812 347.42 188.4964 342.5735 188.143 337.919 187.8321 333.7956 187.6436 330.5875 187.6524 328.9174 187.8566 330.2362 185.7579\"/>\n",
       "<polygon fill=\"rgba(0,0,0,1)\" points=\"324.5669 256.7126 325.7455 254.2289 327.3905 252.8453 329.3796 251.519 331.6785 250.0997 334.1747 248.5798 336.6898 246.9318 339.0689 245.1936 341.1912 243.4611 342.896 241.7873 344.0311 240.2432 344.498 238.9075 345.9154 238.9075 345.5529 240.9429 344.4138 242.9838 342.7209 245.0289 340.6427 247.0688 338.3398 249.0762 336.0123 251.0669 333.8265 252.9983 331.9249 254.7627 330.5162 256.2725 329.887 257.2967 330.2362 256.7126\"/>\n",
       "<polygon fill=\"rgba(0,0,0,1)\" points=\"347.7421 290.7894 348.5644 292.1851 349.938 293.9882 351.7099 296.0063 353.7396 298.1182 355.8956 300.226 358.051 302.2406 360.0815 304.0769 361.8643 305.652 363.2773 306.8836 364.199 307.6906 363.0118 307.4667 363.0118 307.5067 360.8924 310.9386 359.9685 309.7862 358.5514 308.0738 356.7624 305.9628 354.7229 303.615 352.5556 301.1928 350.3852 298.8605 348.3412 296.7859 346.5693 295.1467 345.2837 294.1493 345.2067 293.9735 345.2067 293.9335 346.2864 293.2767 346.1581 293.9437 346.1564 295.6661 346.3483 297.9442 346.6645 300.5046 347.0253 303.1257 347.3507 305.6055 347.5608 307.7646 347.5622 309.509 346.6187 311.3517 344.1904 310.8785 344.2116 310.8573 343.0225 309.2471 341.6163 306.8198 339.9557 303.6573 338.1038 299.9357 336.1357 295.8476 334.13 291.5905 332.1661 287.3635 330.3239 283.3669 328.6839 279.8016 327.3274 276.8704 326.3392 274.7831 326.3571 274.7742 325.6685 273.2105 325.2354 271.9196 325.021 270.8798 325.0087 270.017 325.476 269.0502 326.956 268.9502 327.5316 269.5989 327.8701 270.3835 328.1283 271.4022 328.2984 272.688 328.3498 274.252 328.3298 274.252 328.3099 276.2853 328.2899 279.041 328.2699 282.3586 328.25 286.0775 328.23 290.0371 328.21 294.0771 328.1901 298.0367 328.1701 301.7556 328.1502 305.0731 328.1302 307.8289 328.1102 309.8622 326.6929 309.8622 326.673 307.8289 326.653 305.0731 326.633 301.7556 326.6131 298.0367 326.5931 294.0771 326.5731 290.0371 326.5532 286.0775 326.5332 282.3586 326.5133 279.041 326.4933 276.2853 326.4733 274.252 326.4534 274.252 326.3709 272.873 326.1933 271.8043 325.9698 271.0572 325.7733 270.6646 325.8406 270.7248 326.9193 270.6247 327.1725 270.2465 327.2137 270.5609 327.4006 271.2869 327.797 272.3505 328.4461 273.7297 328.4639 273.7208 329.5091 275.834 330.9083 278.762 332.5859 282.3134 334.4626 286.2896 336.4583 290.4903 338.4925 294.7144 340.4841 298.7597 342.351 302.4223 344.008 305.4936 345.3576 307.7483 346.2018 308.8671 346.223 308.8459 344.9986 308.8811 344.5367 309.279 344.4578 308.0269 344.1863 306.0391 343.7894 303.6228 343.3476 301 342.9413 298.37 342.6517 295.9126 342.5698 293.7556 342.923 291.8006 345.2067 290.1806 345.2067 290.1407 347.2968 290.7943 349.1147 292.071 351.1419 293.8296 353.3519 295.9555 355.6495 298.3052 357.9235 300.7256 360.0577 303.0598 361.934 305.1493 363.4332 306.8347 364.4356 307.9564 363.0118 312.2178 363.0118 312.2577 361.129 311.472 360.1244 310.7004 358.6211 309.4974 356.7386 307.9422 354.5954 306.1132 352.3096 304.0878 349.9975 301.9416 347.7733 299.7461 345.7461 297.5637 344.0161 295.4339 342.6713 293.3248\"/>\n",
       "<polygon fill=\"rgba(0,0,0,1)\" points=\"329.406 329.406 329.0817 329.7396 328.6105 330.6479 328.1734 331.9816 327.836 333.5992 327.6224 335.3829 327.5415 337.2283 327.5946 339.0367 327.7769 340.709 328.0732 342.141 328.4422 343.2184 328.776 343.8322 328.7188 343.8895 329.2756 344.3456 330.5182 344.8998 332.2248 345.3786 334.217 345.7357 336.3451 345.9569 338.4708 346.0177 340.4546 345.9186 342.1537 345.6874 343.4033 345.3543 343.9943 345.0604 344.0121 345.2067 344.0526 345.2067 343.8107 344.7587 342.6362 343.3106 340.7713 341.4281 338.4533 339.2915 335.8949 337.0357 333.3009 334.7857 330.8727 332.6625 328.8075 330.783 327.2914 329.2501 326.4509 328.0252 327.4016 326.6929 327.4016 328.1102 327.8439 327.4735 328.4482 328.175 329.9286 329.5583 332.0103 331.3442 334.4782 333.3947 337.1281 335.586 339.76 337.7982 342.1775 339.9155 344.1921 341.8322 345.6396 343.4876 346.3608 345.2067 346.4013 345.2067 345.7235 346.8245 344.3882 347.7078 342.7215 348.2576 340.7552 348.615 338.5653 348.8102 336.2497 348.871 333.9099 348.7979 331.6481 348.5664 329.5556 348.1623 327.6947 347.5393 326.0844 346.5239 326.0271 346.5811 324.8894 345.1616 324.0813 343.4833 323.4947 341.5978 323.0884 339.5512 322.8472 337.3999 322.7663 335.2054 322.847 333.0295 323.0982 330.9282 323.5439 328.9443 324.2499 327.0968 325.3972 325.3972\"/>\n",
       "<polygon fill=\"rgba(0,0,0,1)\" points=\"345.2067 395.5217 347.981 398.8379 347.9207 400.1489 347.8604 402.0886 347.8001 404.4563 347.7398 407.0515 347.6795 409.6735 347.6192 412.1215 347.5588 414.195 347.4985 415.6932 347.4382 416.4156 343.0355 416.1614 343.0958 416.1614 343.0928 414.7847 342.9801 412.1076 342.7993 408.5027 342.5913 404.2609 342.3963 399.6645 342.2548 394.993 342.2071 390.5226 342.2948 386.5224 342.5649 383.2386 343.1201 380.8005 345.2067 379.1037 345.2067 379.1489 347.3707 380.4557 349.1934 382.9015 351.3502 386.3814 353.7411 390.6361 356.2183 395.3618 358.6261 400.2449 360.8069 404.97 362.6032 409.2247 363.8609 412.7115 364.4294 415.2361 363.0118 417.2319 363.0118 417.2018 360.9074 416.1402 358.1668 413.7843 354.5638 410.3409 350.3453 406.1066 345.7844 401.3959 341.1595 396.5274 336.7502 391.8211 332.8368 387.5975 329.7001 384.1771 327.6206 381.881 327.4016 379.8425 327.4016 381.2598 328.7076 380.8801 330.8285 383.1323 334.0058 386.5076 337.9583 390.6848 342.4048 395.3426 347.0636 400.1593 351.6528 404.8127 355.8887 408.9793 359.4826 412.3315 362.1197 414.5239 363.0118 415.121 363.0118 415.0909 362.2364 415.428 361.7079 413.4043 360.4507 410.0954 358.6351 405.9492 356.4281 401.3103 353.9934 396.5082 351.4943 391.8698 349.0961 387.7237 346.9722 384.4079 345.3436 382.3054 345.2067 381.9534 345.2067 381.9987 345.9556 381.8269 345.6814 383.5892 345.5502 386.6194 345.5843 390.4852 345.7507 394.8705 346.0105 399.4828 346.3239 404.0364 346.6509 408.249 346.9517 411.8411 347.1868 414.5416 347.3176 416.1614 347.3779 416.1614 342.9752 416.4156 342.9149 415.6932 342.8545 414.195 342.7942 412.1215 342.7339 409.6735 342.6736 407.0515 342.6133 404.4563 342.553 402.0886 342.4927 400.1489 342.4324 398.8379 345.2067 401.1909\"/>\n",
       "<polygon fill=\"rgba(0,0,0,1)\" points=\"383.0866 42.8465 383.2908 43.0282 384.8398 43.6055 387.5408 43.9973 391.0025 44.0944 394.934 43.9352 399.0948 43.5896 403.2661 43.1348 407.2404 42.6498 410.8205 42.2137 413.8275 41.9054 416.1614 41.808 416.1614 41.8561 418.0495 42.0775 419.6398 42.5993 420.9158 43.3529 421.8752 44.2977 422.501 45.5157 422.3666 47.3428 420.6804 48.6161 419.1696 48.4818 417.8889 47.8575 416.5156 46.8345 414.9384 45.3372 414.9724 45.3032 412.8677 43.1968 409.8057 40.2403 406.0411 36.6485 401.818 32.6252 397.3781 28.3718 392.9536 24.0974 388.7838 20.001 385.1146 16.2708 382.1777 13.0964 380.1825 10.6308 379.266 8.5039 379.29 8.5039 381.3909 6.8789 383.9464 7.313 387.4321 8.3803 391.6776 9.9607 396.3912 11.9394 401.2625 14.1997 405.978 16.6248 410.2255 19.1012 413.7018 21.5264 416.1282 23.8507 417.1583 26.3091 417.1343 26.3091 416.072 28.7223 413.6278 30.9971 410.1366 33.3742 405.8755 35.803 401.1478 38.1804 396.2663 40.3925 391.5463 42.3219 387.3017 43.8508 383.8366 44.8621 381.3867 45.2348 379.8425 44.1142 381.2598 44.1142 381.3745 43.7695 383.4728 43.393 386.8033 42.371 390.9597 40.8231 395.6037 38.8731 400.4073 36.6439 405.0438 34.2591 409.1836 31.8452 412.488 29.5403 414.592 27.5344 415.1885 26.3091 415.1645 26.3091 414.5358 25.1288 412.414 23.1724 409.0946 20.9156 404.9412 18.5494 400.2926 16.2122 395.4789 14.0312 390.8284 12.1306 386.673 10.6341 383.363 9.6681 381.3703 9.3531 381.8124 8.5039 381.8364 8.5039 382.3111 9.106 384.1685 11.3225 387.0641 14.3819 390.7256 18.0359 394.9033 22.0729 399.3613 26.2797 403.8573 30.4539 408.1422 34.4034 411.9759 37.9284 415.1209 40.8311 417.3505 42.9251 417.3844 42.8912 418.7502 44.0692 419.7313 44.705 420.2164 44.8834 419.8828 44.8561 418.7852 45.7013 418.6509 46.7258 418.688 46.9271 418.4702 46.8018 417.9804 46.5922 417.2164 46.4184 416.1614 46.3723 416.1614 46.4203 414.2948 46.5905 411.4427 46.9778 407.906 47.5049 403.9075 48.0901 399.6511 48.6519 395.3307 49.1089 391.1289 49.3778 387.2064 49.3679 383.6736 48.957 380.5405 47.8756 378.0158 45.3819\"/>\n",
       "<polygon fill=\"rgba(0,0,0,1)\" points=\"379.2835 59.1182 382.7322 58.479 386.3717 58.9574 390.4388 60.0936 394.8557 61.7415 399.4412 63.7844 403.9834 66.1092 408.2612 68.6053 412.0561 71.1703 415.1645 73.7298 417.4165 76.3215 418.4676 79.4587 418.4195 79.4587 417.2581 82.5041 414.9218 84.8399 411.766 87.0562 407.945 89.2463 403.6574 91.3777 399.1234 93.3871 394.5717 95.2022 390.2327 96.7474 386.3322 97.9465 383.0753 98.7243 380.5512 98.9934 380.5512 98.9453 378.2333 98.1559 376.9205 96.3218 376.4547 94.1829 376.4411 91.8509 376.7146 89.3814 377.1651 86.8823 377.7092 84.4896 378.2779 82.3545 378.7913 80.6317 379.1693 79.4781 380.5512 78.1735 380.5512 78.1975 381.7101 80.1078 381.5135 81.4065 381.2503 83.3317 380.9606 85.6819 380.6845 88.2546 380.4621 90.8455 380.333 93.2462 380.3341 95.2346 380.4782 96.5296 380.3389 96.6048 379.8462 96.5588 379.8632 96.5758 380.8301 95.2626 382.3752 92.6328 384.2847 89.0667 386.4272 84.8622 388.6791 80.3052 390.9189 75.6788 393.0257 71.2649 394.8789 67.3449 396.3579 64.2 397.3421 62.1115 398.3563 60.9449 398.3563 62.3622 398.6749 62.7206 397.7328 64.8325 396.2955 68.0017 394.4833 71.9475 392.4164 76.3893 390.215 81.0467 387.9989 85.6398 385.8874 89.8897 383.9978 93.5206 382.4394 96.2684 381.2391 97.9517 381.2561 97.9687 379.4257 98.4311 378.4571 97.0615 378.1998 95.3601 378.1474 93.2015 378.2324 90.7061 378.4113 88.0532 378.6435 85.4354 378.8889 83.0501 379.1072 81.096 379.2585 79.7727 380.5512 80.7198 380.5512 80.7439 381.6655 80.2686 381.3479 81.3892 380.8981 83.0641 380.3967 85.1295 379.9241 87.4188 379.572 89.7624 379.4173 91.9749 379.5108 93.8433 379.8476 95.1022 380.1936 95.5423 380.5512 95.5822 380.5512 95.5342 382.3613 95.2414 385.3114 94.4407 389.0092 93.2052 393.1781 91.6201 397.5624 89.7698 401.911 87.7393 405.9707 85.6167 409.4805 83.4993 412.1572 81.5151 413.6735 79.918 413.9033 79.4587 413.8553 79.4587 413.5151 78.9572 411.9145 77.2682 409.1904 75.1456 405.6545 72.8681 401.585 70.6019 397.2446 68.4854 392.8942 66.6489 388.8031 65.22 385.2719 64.3229 382.7044 64.0522 381.8189 64.1889\"/>\n",
       "<polygon fill=\"rgba(0,0,0,1)\" points=\"383.3858 114.8031 383.2674 117.0422 383.0431 120.0115 382.7538 123.5753 382.439 127.5484 382.1384 131.7339 381.8917 135.9297 381.7384 139.9288 381.7161 143.5148 381.8557 146.4477 382.1471 148.4064 382.1819 148.7827 382.1479 148.8167 381.2169 148.5427 381.4585 148.4194 382.6055 147.4567 384.1187 145.8109 385.8356 143.7055 387.6814 141.3289 389.6056 138.8523 391.5693 136.4373 393.5447 134.2374 395.5281 132.3969 397.5828 131.0613 397.6043 131.1042 399.761 130.4102 402.0079 130.1815 404.2856 130.2722 406.5443 130.5726 408.7239 130.9914 410.7563 131.4318 412.5582 131.8115 414.0217 132.0617 414.9776 132.1226 415.0991 132.1598 414.8762 132.6083 414.9002 132.6083 414.7358 131.994 414.0429 130.5835 412.8955 128.7492 411.3893 126.6619 409.6123 124.458 407.6503 122.2654 405.5894 120.2096 403.5189 118.4159 401.5367 117.0097 399.7623 116.1113 398.3563 115.8001 398.3563 115.7761 396.9259 116.0435 395.114 116.9067 393.0904 118.2832 390.9769 120.0504 388.8717 122.0824 386.8639 124.2539 385.039 126.4406 383.4811 128.5171 382.2753 130.3538 381.51 131.8027 381.2598 132.6083 379.8425 132.6083 380.1542 131.2468 380.9675 129.5921 382.1963 127.6296 383.7687 125.4522 385.6091 123.1709 387.6413 120.9012 389.7901 118.7594 391.984 116.8613 394.1608 115.3215 396.2819 114.2584 398.3563 113.8302 398.3563 113.8062 400.4551 114.1906 402.6137 115.2186 404.8319 116.7286 407.0689 118.6002 409.2619 120.7182 411.3399 122.9668 413.2283 125.2309 414.8523 127.3975 416.1396 129.3624 417.0252 131.0554 417.4226 132.6083 417.4466 132.6083 416.6619 134.2607 415.2049 134.7794 413.7261 134.7601 412.0593 134.5287 410.1959 134.186 408.1883 133.8239 406.114 133.5202 404.0652 133.3391 402.1425 133.3496 400.4564 133.6024 399.1083 134.1123 399.1298 134.1553 397.8134 135.1205 396.2117 136.7314 394.4682 138.8122 392.6595 141.1862 390.8382 143.6859 389.0453 146.1519 387.3109 148.4342 385.6403 150.4003 383.9514 151.9525 381.7851 152.9262 378.9545 152.0101 378.9205 152.0441 377.6175 149.6914 377.0795 146.9681 376.8179 143.6672 376.7421 139.869 376.8027 135.7346 376.9574 131.4493 377.1651 127.2071 377.3854 123.2074 377.5777 119.6545 377.7012 116.7646 377.7165 114.8031\"/>\n",
       "<polygon fill=\"rgba(0,0,0,1)\" points=\"401.1909 167.9528 401.0786 169.5602 400.8632 172.0966 400.5829 175.4477 400.2767 179.3872 399.9843 183.6766 399.7457 188.0727 399.6003 192.328 399.5863 196.1863 399.7355 199.3677 400.0411 201.5061 400.0502 201.8691 400.0219 201.8974 399.2857 201.579 400.257 201.2795 402.1165 200.2287 404.3738 198.5752 406.7783 196.508 409.1355 194.2072 411.2661 191.8514 412.9922 189.6302 414.1304 187.7784 414.5351 186.7216 414.8063 187.113 414.8346 187.0847 414.3193 186.9599 411.9254 186.711 408.4441 186.7106 404.2697 186.9085 399.7153 187.2281 395.0722 187.5894 390.6223 187.9123 386.6376 188.1161 383.3646 188.117 380.9206 187.7838 379.1139 185.7579 379.1438 185.7579 380.227 183.6668 382.3214 181.812 385.325 179.6317 389.0525 177.2203 393.2803 174.7231 397.7762 172.2948 402.3075 170.0922 406.6452 168.2726 410.5749 166.9938 413.931 166.4256 416.6926 166.8904 416.6837 166.9082 418.5127 168.8454 419.434 171.6755 419.8359 175.1927 419.871 179.2408 419.6345 183.6146 419.2102 188.0889 418.6794 192.4299 418.1228 196.3998 417.6211 199.7574 417.2557 202.2529 417.1096 203.563 417.0897 203.563 415.2531 203.8172 415.2731 203.0948 415.2931 201.5965 415.313 199.5231 415.333 197.075 415.3529 194.4531 415.3729 191.8579 415.3929 189.4901 415.4128 187.5504 415.4328 186.2395 416.1614 185.0492 416.1614 186.4665 416.89 186.2395 416.91 187.5504 416.93 189.4901 416.9499 191.8579 416.9699 194.4531 416.9899 197.075 417.0098 199.5231 417.0298 201.5965 417.0497 203.0948 417.0697 203.8172 415.2332 203.563 415.2132 203.563 415.3346 202.0104 415.6649 199.476 416.1264 196.1182 416.6399 192.1688 417.1258 187.8681 417.5041 183.4599 417.6957 179.192 417.6238 175.3207 417.223 172.1226 416.4856 169.9229 415.6392 168.9973 415.6302 169.0151 414.0576 168.8378 411.2067 169.3665 407.5381 170.6027 403.3679 172.395 398.9631 174.5801 394.5766 176.9943 390.4569 179.4734 386.8537 181.8511 384.0249 183.9515 382.2666 185.5481 381.9585 185.7579 381.9885 185.7579 381.7067 184.9359 383.4632 185.0843 386.5043 185.0049 390.3854 184.7271 394.7913 184.3277 399.432 183.8864 404.0276 183.4835 408.3077 183.1999 412.0233 183.1192 415.0071 183.3519 417.4883 184.431 417.5165 184.4028 418.4298 187.0951 417.7376 189.4896 416.3608 191.9185 414.4751 194.4864 412.218 197.1069 409.7327 199.6486 407.1608 201.9692 404.6291 203.9275 402.2078 205.3916 399.7278 206.1891 396.6907 205.2286 396.6624 205.2568 395.3338 202.7572 394.81 199.8657 394.5579 196.3318 394.4903 192.2707 394.559 187.8843 394.7217 183.3979 394.9377 179.0456 395.1666 175.0657 395.3678 171.7015 395.5002 169.2081 395.5217 167.9528\"/>\n",
       "<polygon fill=\"rgba(0,0,0,1)\" points=\"416.1614 218.2677 419.7629 220.226 421.0161 223.3604 421.4399 226.9606 421.4576 231.1143 421.1979 235.6671 420.7501 240.3845 420.1966 245.005 419.6183 249.2556 419.0963 252.8547 418.7136 255.5015 418.5569 256.7126 418.517 256.7126 414.6164 255.3719 414.5117 255.4467 414.9754 254.1298 415.5212 252.1739 416.047 249.838 416.4688 247.3474 416.7087 244.9303 416.7034 242.838 416.452 241.381 416.2161 240.8659 416.1614 240.8239 416.1614 240.7839 414.5971 241.1238 411.6618 242.3228 407.9237 244.1868 403.6894 246.4981 399.2194 249.0483 394.761 251.634 390.5553 254.0545 386.8357 256.1127 383.8124 257.6202 381.5337 258.4158 379.1139 256.7126 379.1438 256.7126 380.324 254.4489 382.7098 252.0187 386.1554 248.8848 390.3814 245.1968 395.0771 241.1447 399.9244 236.9265 404.6016 232.7439 408.7833 228.803 412.137 225.3203 414.3102 222.5589 414.9737 221.1024 414.9936 221.1024 414.6623 220.4506 413.1041 219.4941 410.3843 218.6526 406.8373 218.0634 402.748 217.7552 398.3772 217.7353 393.9775 218.0051 389.8004 218.5628 386.1014 219.4014 383.1478 220.4986 381.2217 221.7728 381.2076 221.7587 380.0509 223.5543 379.2578 226.2927 378.8497 229.7393 378.7774 233.6578 378.9694 237.8286 379.3481 242.0416 379.8342 246.0912 380.3479 249.7749 380.8094 252.8925 381.1395 255.2508 381.2598 256.7126 379.8425 256.7126 379.6953 255.4454 379.3298 253.1217 378.8282 250.0055 378.2717 246.3049 377.7411 242.2212 377.3172 237.9531 377.0811 233.6962 377.1158 229.6418 377.5104 225.9717 378.376 222.8509 379.8948 220.446 379.8807 220.4319 382.2888 218.7632 385.5422 217.5059 389.4415 216.5788 393.7723 215.9592 398.3086 215.6404 402.8203 215.6205 407.0784 215.9009 410.8622 216.4889 413.9749 217.4132 416.2693 218.8111 417.3292 221.1024 417.3492 221.1024 416.3539 223.8463 413.9788 226.9441 410.5369 230.5781 406.3177 234.61 401.6307 238.8551 396.7929 243.1181 392.1246 247.1993 387.9497 250.8956 384.5996 253.9955 382.4371 256.2473 381.9585 256.7126 381.9885 256.7126 380.9599 255.5177 382.5338 254.8685 385.343 253.3796 388.9541 251.2909 393.0958 248.8153 397.52 246.1571 401.9859 243.5169 406.2596 241.0926 410.1198 239.0773 413.3915 237.6543 416.1614 237.031 416.1614 236.9911 418.7821 237.9122 420.205 240.019 420.7563 242.4414 420.858 245.0848 420.6699 247.8579 420.289 250.6113 419.7981 253.1714 419.2737 255.3624 418.7743 257.0421 417.974 258.5617 413.8059 256.7126 413.7659 256.7126 413.8768 254.9272 414.1897 252.1964 414.6309 248.5985 415.1228 244.3946 415.5859 239.8651 415.9407 235.2987 416.1091 230.9958 416.0198 227.2836 415.6409 224.5698 415.2354 223.5038 416.1614 223.937\"/>\n",
       "<polygon fill=\"rgba(0,0,0,1)\" points=\"377.7165 309.8622 378.2756 307.5581 379.3606 305.0422 380.8989 301.8668 382.7951 298.1547 384.9372 294.0856 387.2082 289.8524 389.4891 285.6526 391.6602 281.6855 393.6008 278.1525 395.1883 275.258 396.2936 273.2206 396.3366 273.2421 396.8462 272.1298 397.0447 271.4214 397.0897 271.153 397.2353 271.3302 397.8519 271.7282 398.8439 271.6832 399.3599 271.2466 399.3877 271.1039 399.3328 271.4497 399.4532 272.2571 399.9033 273.4785 399.8603 273.4999 400.8485 275.6512 402.1872 278.6105 403.8033 282.1911 405.6182 286.1957 407.5521 290.4246 409.5354 294.672 411.4871 298.7359 413.3145 302.4178 414.9329 305.5102 416.2465 307.7905 417.0702 308.9534 417.0532 308.9704 416.8722 309.0132 416.5011 309.167 416.7832 308.5346 417.0655 307.1755 417.2283 305.3409 417.2522 303.1956 417.133 300.8783 416.8705 298.5197 416.4669 296.2489 415.928 294.1973 415.2697 292.5029 415.2912 292.4922 414.3479 290.8198 413.0264 288.8924 411.4143 286.8126 409.5961 284.6699 407.6551 282.5494 405.6739 280.5341 403.7354 278.707 401.9247 277.1514 400.3324 275.9526 399.0706 275.2003 398.3563 274.9606 398.3563 273.5433 399.6753 273.8655 401.1693 274.6917 402.8945 275.9276 404.8027 277.5022 406.8239 279.3405 408.8826 281.3652 410.9012 283.4986 412.8019 285.6634 414.5074 287.7841 415.9416 289.7895 417.0316 291.622 417.0531 291.6112 417.8664 293.5555 418.5046 295.7846 418.9839 298.1959 419.31 300.6798 419.4851 303.1248 419.509 305.4208 419.3775 307.4656 419.0712 309.1832 418.4704 310.5842 416.9222 311.487 415.2696 310.754 415.2526 310.771 414.0429 309.2049 412.6009 306.8032 410.9017 303.6618 409.0103 299.9595 407.0023 295.89 404.9457 291.6562 402.9199 287.4575 401.0159 283.4892 399.3145 279.9531 397.8975 277.0532 396.8523 275.004 396.8093 275.0255 396.0555 273.3039 395.6943 271.7568 395.7196 270.3369 396.229 269.017 397.4674 267.9918 399.262 267.9468 400.601 268.9334 401.2282 270.2877 401.3534 271.7851 401.0704 273.4312 400.376 275.2618 400.419 275.2833 399.3572 277.4464 397.8412 280.4112 395.9826 283.9948 393.8997 288.0006 391.7127 292.2284 389.5424 296.4764 387.5108 300.5407 385.7416 304.2128 384.3637 307.2712 383.5224 309.4373 383.3858 309.8622\"/>\n",
       "<polygon fill=\"rgba(0,0,0,1)\" points=\"383.0866 364.2795 383.0301 363.8057 382.626 363.1678 383.2077 363.4182 384.795 363.6926 386.949 363.7607 389.3569 363.6103 391.7616 363.273 393.9164 362.7975 395.5469 362.2633 396.2612 361.9138 395.8973 363.0118 395.9315 363.0118 395.9491 363.3162 395.0903 362.2342 393.5331 360.6675 391.5133 358.8339 389.2185 356.8485 386.8192 354.8023 384.4768 352.7765 382.345 350.8433 380.5626 349.0541 379.2295 347.3745 378.502 345.2067 378.5362 345.2067 380.0683 342.8389 381.986 342.4208 383.9541 342.4976 386.1623 342.7846 388.5414 343.1861 390.9571 343.6211 393.2514 344.0097 395.2443 344.2731 396.702 344.3449 397.1833 344.3169 396.717 345.2067 396.7511 345.2067 396.6322 345.0581 395.6865 343.8667 394.0881 342.2592 392.0478 340.4073 389.7443 338.4145 387.3394 336.3749 384.9946 334.3694 382.8711 332.4664 381.1154 330.7276 379.8486 329.159 379.2278 327.4016 379.2449 327.4016 380.2507 325.66 381.8435 325.0726 383.7322 324.8642 385.9279 324.8529 388.3243 324.9794 390.7809 325.2001 393.1457 325.474 395.2626 325.7609 396.9735 326.0206 398.1192 326.2131 398.3563 326.2831 398.3563 326.3002 398.0085 328.4859 397.0453 328.4688 395.5872 328.4518 393.7545 328.4347 391.6677 328.4176 389.4471 328.4005 387.2131 328.3835 385.0861 328.3664 383.1865 328.3493 381.6347 328.3322 380.5512 328.3152 380.5512 328.2981 379.8154 328.281 379.2268 328.2639 378.7854 328.2468 378.4911 328.2298 378.3439 328.2127 378.3439 326.6075 378.4911 326.6246 378.7854 326.6417 379.2268 326.6588 379.8154 326.6758 380.5512 326.6929 380.5512 328.1102 379.8154 328.1273 379.2268 328.1444 378.7854 328.1615 378.4911 328.1785 378.3439 328.1956 378.3439 326.5905 378.4911 326.5734 378.7854 326.5563 379.2268 326.5392 379.8154 326.5222 380.5512 326.5051 380.5512 326.488 381.6347 326.4709 383.1865 326.4538 385.0861 326.4368 387.2131 326.4197 389.4471 326.4026 391.6677 326.3855 393.7545 326.3685 395.5872 326.3514 397.0453 326.3343 398.0085 326.3172 398.3563 328.503 398.3563 328.5201 397.764 328.4563 396.6356 328.301 394.9487 328.0791 392.8651 327.8309 390.5479 327.5965 388.1619 327.4159 385.8763 327.3284 383.8715 327.3705 382.3624 327.5635 381.681 327.8054 381.8575 327.4016 381.8746 327.4016 382.0831 327.6775 383.0905 328.8646 384.7326 330.4433 386.8096 332.2592 389.1468 334.2134 391.5845 336.2137 393.963 338.1806 396.1231 340.0476 397.9225 341.7576 399.251 343.3219 399.9615 345.2067 399.9956 345.2067 398.6999 347.3005 396.9071 347.754 394.967 347.7456 392.7594 347.5273 390.3716 347.1936 387.9448 346.826 385.6419 346.5051 383.6496 346.3105 382.2199 346.3071 381.8635 346.3705 382.5662 345.2067 382.6003 345.2067 382.7022 345.0722 383.6433 346.1483 385.2587 347.6767 387.3274 349.4623 389.667 351.3962 392.1102 353.39 394.4975 355.3643 396.6781 357.2495 398.5188 359.0003 399.9341 360.6741 400.7811 363.0118 400.8153 363.0118 399.4882 365.7151 397.5806 366.8906 395.3317 367.7209 392.751 368.369 389.9653 368.8344 387.1293 369.0854 384.3872 369.0732 381.8276 368.7054 379.4127 367.6717 377.5639 365.0272 378.0158 361.7441\"/>\n",
       "<polygon fill=\"rgba(0,0,0,1)\" points=\"414.157 400.3607 414.0056 400.3179 411.7313 399.8495 408.3093 399.5361 404.1733 399.3869 399.6501 399.3694 395.0386 399.4454 390.6284 399.5752 386.7049 399.7185 383.5515 399.8355 381.4509 399.8857 380.5512 396.8774 380.5512 396.9698 381.4272 397.1032 383.5147 397.3378 386.658 397.6394 390.5759 397.9677 394.9868 398.2826 399.6087 398.5441 404.1587 398.7122 408.3517 398.7473 411.8962 398.6116 414.4763 398.2779 415.6603 397.8552 416.6625 398.8574 414.85 399.7724 412.0525 400.2681 408.4 400.5337 404.1386 400.6224 399.5386 400.5764 394.8767 400.4366 390.4318 400.2432 386.4839 400.0364 383.3132 399.8563 381.2002 399.7432 380.5512 399.7428 380.5512 399.8352 381.1764 396.6931 383.2763 396.3956 386.437 396.0309 390.3793 395.6392 394.8248 395.2606 399.4972 394.9352 404.124 394.7038 408.4425 394.6081 412.2174 394.696 415.3208 395.057 418.1658 396.3519\"/>\n",
       "</svg>"
      ],
      "text/plain": [
       "<IPython.core.display.SVG object>"
      ]
     },
     "metadata": {},
     "output_type": "display_data"
    }
   ],
   "source": [
    "size = 150\n",
    "d = document(size, size, 'mm')\n",
    "page = d.addpage()\n",
    "figure = shape().nostroke().fill(rgba(0, 0, 0, 255))\n",
    "grid_n = 8\n",
    "grid_size = size / grid_n\n",
    "for i in range(grid_n):\n",
    "    for j in range(grid_n):\n",
    "        pts = make_char(3 + i * grid_size, 3 + j * grid_size, grid_size * 0.67)\n",
    "        poly_pts = fancy_curve(pts, samples_per=12, thicknesses=[2, 1, 0.5])\n",
    "        poly = figure.polygon(flatten(poly_pts))\n",
    "        page.place(poly)\n",
    "show(page)"
   ]
  }
 ],
 "metadata": {
  "kernelspec": {
   "display_name": "Python 3",
   "language": "python",
   "name": "python3"
  },
  "language_info": {
   "codemirror_mode": {
    "name": "ipython",
    "version": 3
   },
   "file_extension": ".py",
   "mimetype": "text/x-python",
   "name": "python",
   "nbconvert_exporter": "python",
   "pygments_lexer": "ipython3",
   "version": "3.6.8"
  }
 },
 "nbformat": 4,
 "nbformat_minor": 2
}
