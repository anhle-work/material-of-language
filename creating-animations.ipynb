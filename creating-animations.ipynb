{
 "cells": [
  {
   "cell_type": "markdown",
   "metadata": {},
   "source": [
    "# Creating animations with Flat and ffmpeg\n",
    "\n",
    "By [Allison Parrish](http://www.decontextualize.com)\n",
    "\n",
    "This notebook demonstrates how to produce animations with [Flat](https://xxyxyz.org/flat), [ipywidgets](https://ipywidgets.readthedocs.io/) and [ffmpeg](https://ffmpeg.org/). The notebook builds on examples from [Material of Language](https://github.com/aparrish/material-of-language/), and in particular assumes that you're familiar with the material in this [interactive widgets tutorial](interactive-widgets.ipynb). In the notebook, I show two techniques for generating animations:\n",
    "\n",
    "* Use [the ipywidgets Play widget](https://ipywidgets.readthedocs.io/en/latest/examples/Widget%20List.html)\n",
    "* Export an image sequence, then convert the image sequence to a video file with `ffmpeg`\n",
    "\n",
    "> Note: There are a number of ways to convert image sequences to video files: here are [instructions for QuickTime Player in macOS Catalina 10.15](https://support.apple.com/guide/quicktime-player/create-a-movie-with-an-image-sequence-qtp315cce984/mac); or see documentation on [similar functionality in Adobe Premiere Pro](https://helpx.adobe.com/premiere-pro/using/importing-still-images.html) and [After Effects](https://helpx.adobe.com/after-effects/using/preparing-importing-still-images.html#import_a_single_still_image_or_a_still_image_sequence). If you have access to those tools and prefer to use them, then you can ignore the content about ffmpeg below.\n",
    "\n",
    "Make sure you have ffmpeg installed before you begin. If you're using macOS, I again recommend using [Homebrew](https://brew.sh/) to install it: `brew install ffmpeg`. You can also install it with Anaconda:\n",
    "\n",
    "    conda install -c conda-forge ffmpeg\n",
    "\n",
    "The notebook assumes that the `ffmpeg` command is available in your shell's path. To check, try running the following:"
   ]
  },
  {
   "cell_type": "code",
   "execution_count": 1,
   "metadata": {},
   "outputs": [
    {
     "name": "stdout",
     "output_type": "stream",
     "text": [
      "ffmpeg version 4.2 Copyright (c) 2000-2019 the FFmpeg developers\r\n",
      "  built with clang version 4.0.1 (tags/RELEASE_401/final)\r\n",
      "  configuration: --prefix=/Users/allison/opt/miniconda3/envs/material-of-language-2020 --cc=x86_64-apple-darwin13.4.0-clang --disable-doc --disable-openssl --enable-avresample --enable-gnutls --enable-gpl --enable-hardcoded-tables --enable-libfreetype --enable-libopenh264 --enable-libx264 --enable-pic --enable-pthreads --enable-shared --enable-static --enable-version3 --enable-zlib --enable-libmp3lame\r\n",
      "  libavutil      56. 31.100 / 56. 31.100\r\n",
      "  libavcodec     58. 54.100 / 58. 54.100\r\n",
      "  libavformat    58. 29.100 / 58. 29.100\r\n",
      "  libavdevice    58.  8.100 / 58.  8.100\r\n",
      "  libavfilter     7. 57.100 /  7. 57.100\r\n",
      "  libavresample   4.  0.  0 /  4.  0.  0\r\n",
      "  libswscale      5.  5.100 /  5.  5.100\r\n",
      "  libswresample   3.  5.100 /  3.  5.100\r\n",
      "  libpostproc    55.  5.100 / 55.  5.100\r\n",
      "Hyper fast Audio and Video encoder\r\n",
      "usage: ffmpeg [options] [[infile options] -i infile]... {[outfile options] outfile}...\r\n",
      "\r\n",
      "\u001b[0;33mUse -h to get full help or, even better, run 'man ffmpeg'\r\n",
      "\u001b[0m"
     ]
    }
   ],
   "source": [
    "!ffmpeg"
   ]
  },
  {
   "cell_type": "markdown",
   "metadata": {},
   "source": [
    "If you get a `command not found` error message (or similar), then you either don't have ffmpeg installed, or ffmpeg isn't in your shell's path—you'll have to fix that problem before you proceed! (If you're in my class, don't hesitate to send me an e-mail and I can help you sort it out.\n",
    "\n",
    "Some code preliminaries:"
   ]
  },
  {
   "cell_type": "code",
   "execution_count": 5,
   "metadata": {},
   "outputs": [],
   "source": [
    "from IPython.display import display, Image, HTML"
   ]
  },
  {
   "cell_type": "code",
   "execution_count": 6,
   "metadata": {},
   "outputs": [],
   "source": [
    "import ipywidgets as widgets"
   ]
  },
  {
   "cell_type": "code",
   "execution_count": 7,
   "metadata": {},
   "outputs": [],
   "source": [
    "from flat import document, shape, rgb"
   ]
  },
  {
   "cell_type": "markdown",
   "metadata": {},
   "source": [
    "The cell below takes a Flat `page` object and displays it inline in Jupyter notebook:"
   ]
  },
  {
   "cell_type": "code",
   "execution_count": 8,
   "metadata": {},
   "outputs": [],
   "source": [
    "from IPython.display import SVG, display\n",
    "def show(page):\n",
    "    display(SVG(page.svg()))"
   ]
  },
  {
   "cell_type": "markdown",
   "metadata": {},
   "source": [
    "## Animating with ipywidgets `Play`\n",
    "\n",
    "For our purposes, we'll define an \"animation\" as a series of images (or \"frames\") that are shown in succession quickly enough that they can produce the illusion of motion (taking advantage of [beta movement](https://en.wikipedia.org/wiki/Beta_movement)). Our strategy for producing an animation in Python is to write a function that takes an integer parameter that indicates the current frame index, and return an image for the corresponding frame. This is close to the way that (e.g.) the `draw()` function in [p5.js](https://p5js.org/) works, except there is no canvas that persists between frames, and you have to call the function yourself for each of the frames you want to generate.\n",
    "\n",
    "The primary strategy for generating an animation in this notebook is writing a function like this and then calling it in a loop. But a super easy way to experiment with animation is [ipywidget's `Play` control](https://ipywidgets.readthedocs.io/en/latest/examples/Widget%20List.html#Play-(Animation)-widget). This widget produces a sequence of increasing integers after you press a \"Play\" button, which you can connect to a function with `widgets.interact()`. Here's a quick example that just prints those integers:"
   ]
  },
  {
   "cell_type": "code",
   "execution_count": 11,
   "metadata": {},
   "outputs": [],
   "source": [
    "def print_val(step=0):\n",
    "    print(step)"
   ]
  },
  {
   "cell_type": "code",
   "execution_count": 12,
   "metadata": {},
   "outputs": [
    {
     "data": {
      "application/vnd.jupyter.widget-view+json": {
       "model_id": "cf9f36dc059444d3b714bb51a40d9b72",
       "version_major": 2,
       "version_minor": 0
      },
      "text/plain": [
       "interactive(children=(Play(value=0, description='step', max=30), Output()), _dom_classes=('widget-interact',))"
      ]
     },
     "metadata": {},
     "output_type": "display_data"
    },
    {
     "data": {
      "text/plain": [
       "<function __main__.print_val(step=0)>"
      ]
     },
     "execution_count": 12,
     "metadata": {},
     "output_type": "execute_result"
    }
   ],
   "source": [
    "play_widget = widgets.Play(min=0, max=30, interval=100)\n",
    "widgets.interact(print_val, step=play_widget)"
   ]
  },
  {
   "cell_type": "markdown",
   "metadata": {},
   "source": [
    "When you press the play button, you should see an increasing series of integers. The `interval` parameter sets the number of milliseconds that the `Play` widget waits between calls to the function.\n",
    "\n",
    "To animate a Flat drawing, take your existing (non-animated) code and put it in a function that accepts a parameter and returns a Flat `page` object. The parameter will receive the value from the `Play` widget, which you can think of as the number of the frame that the function should draw in your animation. (In the following examples, I've called this parameter `step`, but you can call it whatever you want.)\n",
    "\n",
    "The code below implements a simple example of this:"
   ]
  },
  {
   "cell_type": "code",
   "execution_count": 14,
   "metadata": {},
   "outputs": [],
   "source": [
    "def render(step=0):\n",
    "    page = document(80, 80, 'mm').addpage()\n",
    "    page.place(shape().nostroke().fill(rgb(255, 255, 255)).rectangle(0, 0, 80, 80))\n",
    "    page.place(shape().nostroke().fill(rgb(40, 40, 160)).ellipse(40, 40, step, step*1.5))\n",
    "    return page"
   ]
  },
  {
   "cell_type": "markdown",
   "metadata": {},
   "source": [
    "As specified above, this function takes a parameter `step` and returns a Flat `page`. The code in the function creates the page, draws a white rectangle on the page (an opaque background), and then draws a blue ellipse over that rectangle. The size of the ellipse is determined by the `step` parameter.\n",
    "\n",
    "You can call this function with an integer to see what the animation looks like on the corresponding frame."
   ]
  },
  {
   "cell_type": "code",
   "execution_count": 15,
   "metadata": {},
   "outputs": [
    {
     "data": {
      "image/svg+xml": [
       "<svg xmlns=\"http://www.w3.org/2000/svg\" xmlns:xlink=\"http://www.w3.org/1999/xlink\" version=\"1.1\" width=\"226.7717pt\" height=\"226.7717pt\">\n",
       "<title>Untitled</title>\n",
       "<rect x=\"0\" y=\"0\" width=\"226.7717\" height=\"226.7717\" fill=\"rgb(255,255,255)\"/>\n",
       "<ellipse cx=\"113.3858\" cy=\"113.3858\" rx=\"14.1732\" ry=\"21.2598\" fill=\"rgb(40,40,160)\"/>\n",
       "</svg>"
      ],
      "text/plain": [
       "<IPython.core.display.SVG object>"
      ]
     },
     "metadata": {},
     "output_type": "display_data"
    }
   ],
   "source": [
    "show(render(5))"
   ]
  },
  {
   "cell_type": "code",
   "execution_count": 16,
   "metadata": {},
   "outputs": [
    {
     "data": {
      "image/svg+xml": [
       "<svg xmlns=\"http://www.w3.org/2000/svg\" xmlns:xlink=\"http://www.w3.org/1999/xlink\" version=\"1.1\" width=\"226.7717pt\" height=\"226.7717pt\">\n",
       "<title>Untitled</title>\n",
       "<rect x=\"0\" y=\"0\" width=\"226.7717\" height=\"226.7717\" fill=\"rgb(255,255,255)\"/>\n",
       "<ellipse cx=\"113.3858\" cy=\"113.3858\" rx=\"99.2126\" ry=\"148.8189\" fill=\"rgb(40,40,160)\"/>\n",
       "</svg>"
      ],
      "text/plain": [
       "<IPython.core.display.SVG object>"
      ]
     },
     "metadata": {},
     "output_type": "display_data"
    }
   ],
   "source": [
    "show(render(35))"
   ]
  },
  {
   "cell_type": "markdown",
   "metadata": {},
   "source": [
    "Now we can animate this with the `Play` widget, although there is a bit of glue that we need first to put everything together. The `render()` function doesn't actually *show* the page, it just *returns* the page. So in order to use this function with `widgets.interact()`, you need a second little function that just shows the page that `render()` returns:"
   ]
  },
  {
   "cell_type": "code",
   "execution_count": 17,
   "metadata": {},
   "outputs": [],
   "source": [
    "def render_and_show(step=0):\n",
    "    show(render(step))"
   ]
  },
  {
   "cell_type": "markdown",
   "metadata": {},
   "source": [
    "Now you can call `widgets.interact()` with this function and a `Play` widget:"
   ]
  },
  {
   "cell_type": "code",
   "execution_count": 19,
   "metadata": {},
   "outputs": [
    {
     "data": {
      "application/vnd.jupyter.widget-view+json": {
       "model_id": "297e68675f3a4fc1a52a9714a2f60161",
       "version_major": 2,
       "version_minor": 0
      },
      "text/plain": [
       "interactive(children=(Play(value=0, description='step', interval=33, max=30), Output()), _dom_classes=('widget…"
      ]
     },
     "metadata": {},
     "output_type": "display_data"
    },
    {
     "data": {
      "text/plain": [
       "<function __main__.render_and_show(step=0)>"
      ]
     },
     "execution_count": 19,
     "metadata": {},
     "output_type": "execute_result"
    }
   ],
   "source": [
    "widgets.interact(render_and_show, step=widgets.Play(min=0, max=30, interval=1000/30))"
   ]
  },
  {
   "cell_type": "markdown",
   "metadata": {},
   "source": [
    "Nice! Note the `interval` parameter: `1000/30` gives us one thousand milliseconds (=one second) divided by thirty, i.e., the number of milliseconds between frames if you want to show thirty frames per second."
   ]
  },
  {
   "cell_type": "markdown",
   "metadata": {},
   "source": [
    "## Exporting image sequences\n",
    "\n",
    "The technique above (using the `Play` widget) might be enough for you! There is no way to export a video file directly using the `Play` widget, but you could use [licecap](https://www.cockos.com/licecap/) to capture a GIF right from the screen, or do a screen recording with (e.g.) QuickTime Player. The primary disadvantage is that you can't control the actual frame rate: the `Play` widget attempts to update every `interval` milliseconds, but may not actually succeed in drawing that frequently (if, for example, your computer isn't fast enough to render your scene that quickly). You're also limited to generating images whose resolution is less than the size of your browser window.\n",
    "\n",
    "If you want a bit more control over timing and size of your animations, the most flexible workflow involves generating a sequence of image files, then converting those image files to a video file. This is a standard workflow, and is supported by a number of video editing tools. In order to keep things programmatic, open source and cross-platform, we'll be using the excellent [ffmpeg](https://ffmpeg.org/), a command line tool for editing video files.\n",
    "\n",
    "### Generating images with Flat\n",
    "\n",
    "In order to produce a *sequence* of images, we first need to be able to generate a *single* image. Flat provides a built-in means of doing this: the `.image()` method of a `page` object. For example, using the `render()` function above:"
   ]
  },
  {
   "cell_type": "code",
   "execution_count": 31,
   "metadata": {},
   "outputs": [
    {
     "data": {
      "text/plain": [
       "b'\\x89PNG\\r\\n\\x1a\\n\\x00\\x00\\x00\\rIHDR\\x00\\x00\\x00\\xe3\\x00\\x00\\x00\\xe3\\x08\\x02\\x00\\x00\\x00\\xf8\\xec4\\x1b\\x00\\x00\\x08;IDATx\\x9c\\xed\\xdd\\xffOUu\\x1c\\xc7\\xf1\\xfe\\x1c\\x01q:\\xa5\\xcd\\xb1U*}qm\\xfd\\x90\\xcb\\xd5V\\xb3\\xdc\\xe4\\x17W\\xce\\xda,g_f?\\x94\\x99mn5\\x9a+\\x9b\\x17\\xb9\\xa8\\t\\x06ffA\\x90%'"
      ]
     },
     "execution_count": 31,
     "metadata": {},
     "output_type": "execute_result"
    }
   ],
   "source": [
    "page = render(10)\n",
    "png_bytes = page.image(ppi=72, kind='rgb').png()\n",
    "png_bytes[:100]"
   ]
  },
  {
   "cell_type": "markdown",
   "metadata": {},
   "source": [
    "This chain of method calls evaluates to the binary data of a PNG image, which we could then write to disk. The problem with this technique is that Flat's PNG renderer is *very slow*, potentially taking several hundred milliseconds to render even very simple drawings. A hundred milliseconds doesn't sound like much, but when you're rendering thousands of frames, it can easily add up.\n",
    "\n",
    "For this reason, I recommend using [CairoSVG](https://cairosvg.org/) to render Flat-produced SVG code as PNG images. In my initial round of benchmarking, CairoSVG renders Flat page objects to PNG 30x-50x faster than Flat's built-in code."
   ]
  },
  {
   "cell_type": "markdown",
   "metadata": {},
   "source": [
    "Install CairoSVG with Anaconda, which will also install tricky system dependencies:\n",
    "\n",
    "    conda install -c conda-forge cairosvg\n",
    "    \n",
    "If you're not using Anaconda, you can install using `pip`:\n",
    "\n",
    "    pip install cairosvg\n",
    "    \n",
    "Though I *think* installing from `pip` will lead to trouble if you don't already have [Cairo](https://www.cairographics.org/) installed. (If you're on macOS, I recommend using [Homebrew](https://brew.sh/) to install Cairo: `brew install cairo`.)\n",
    "\n",
    "If none of that works, don't fret—you can use still Flat's built-in PNG renderer. (Just remember that this is a bit slower than using CairoSVG.) The function below takes a Flat page as a parameter, then converts it to a PNG byte string, using CairoSVG if it's available and the Flat's PNG renderer otherwise:"
   ]
  },
  {
   "cell_type": "code",
   "execution_count": 35,
   "metadata": {},
   "outputs": [],
   "source": [
    "def page2png(page, dpi=72):\n",
    "    try:\n",
    "        import cairosvg\n",
    "        png_bytes = cairosvg.svg2png(page.svg(), dpi=dpi)\n",
    "    except ModuleNotFoundError:\n",
    "        png_bytes = page.image(ppi=dpi, kind='rgb').png()\n",
    "    return png_bytes"
   ]
  },
  {
   "cell_type": "markdown",
   "metadata": {},
   "source": [
    "Testing it out:"
   ]
  },
  {
   "cell_type": "code",
   "execution_count": 36,
   "metadata": {},
   "outputs": [],
   "source": [
    "png_data = page2png(render(10))"
   ]
  },
  {
   "cell_type": "code",
   "execution_count": 37,
   "metadata": {},
   "outputs": [
    {
     "data": {
      "text/plain": [
       "b'\\x89PNG\\r\\n\\x1a\\n\\x00\\x00\\x00\\rIHDR\\x00\\x00\\x00\\xe2\\x00\\x00\\x00\\xe2\\x08\\x02\\x00\\x00\\x00\\xdcr\\x8c\\x80\\x00\\x00\\x00\\x06bKGD\\x00\\xff\\x00\\xff\\x00\\xff\\xa0\\xbd\\xa7\\x93\\x00\\x00\\x08\\xf9IDATx\\x9c\\xed\\xddklTe\\x1e\\xc7\\xf1gfJ;\\xb0\\xed\\xf6fK\\xb7\\\\\\x04j\\x97\\xb2\\x91\\xda\\xe5\"\\xd9\\x94\\xab1@\\xb2\\x98\\x80\\x1aHT'"
      ]
     },
     "execution_count": 37,
     "metadata": {},
     "output_type": "execute_result"
    }
   ],
   "source": [
    "png_data[:100]"
   ]
  },
  {
   "cell_type": "markdown",
   "metadata": {},
   "source": [
    "The function returns raw PNG data. You can see what it looks like using IPython's `Image()` function, which will automatically recognize the data format and show the image in the notebook:"
   ]
  },
  {
   "cell_type": "code",
   "execution_count": 38,
   "metadata": {
    "scrolled": true
   },
   "outputs": [
    {
     "data": {
      "image/png": "[encoded data removed]",
      "text/plain": [
       "<IPython.core.display.Image object>"
      ]
     },
     "metadata": {},
     "output_type": "display_data"
    }
   ],
   "source": [
    "display(Image(png_data))"
   ]
  },
  {
   "cell_type": "markdown",
   "metadata": {},
   "source": [
    "### Putting together filenames\n",
    "\n",
    "Okay, so now we can generate image data from a Flat page. To generate an animation, we need to generate an image for each frame of our animation, and then write that image out to disk as a file. We're potentially going to generate a *lot* of images, so it'll probably be best to put them in a directory on their own. The code in the following cell makes a subdirectory called `render` in the same directory as this notebook:"
   ]
  },
  {
   "cell_type": "code",
   "execution_count": 39,
   "metadata": {},
   "outputs": [
    {
     "name": "stdout",
     "output_type": "stream",
     "text": [
      "mkdir: render: File exists\r\n"
     ]
    }
   ],
   "source": [
    "!mkdir render"
   ]
  },
  {
   "cell_type": "markdown",
   "metadata": {},
   "source": [
    "If you just wanted to write a single image, you could do the following:"
   ]
  },
  {
   "cell_type": "code",
   "execution_count": 42,
   "metadata": {},
   "outputs": [],
   "source": [
    "with open(\"render/test.png\", \"wb\") as fh:\n",
    "    fh.write(page2png(render(10)))"
   ]
  },
  {
   "cell_type": "markdown",
   "metadata": {},
   "source": [
    "Use your file browser to check the `render` subdirectory. You should see a file called `test.png` in there. ([More information on reading and writing files in Python](https://realpython.com/read-write-files-python/).)\n",
    "\n",
    "But we need to generate *multiple* frames, and each frame needs its own filename. Furthermore, those filenames should indicate the order in which the image falls in the sequence. The code in the following cell shows how to use a Python f-string to generate a filename for ten frames in a `for` loop:"
   ]
  },
  {
   "cell_type": "code",
   "execution_count": 43,
   "metadata": {},
   "outputs": [
    {
     "name": "stdout",
     "output_type": "stream",
     "text": [
      "render/image00000.png\n",
      "render/image00001.png\n",
      "render/image00002.png\n",
      "render/image00003.png\n",
      "render/image00004.png\n",
      "render/image00005.png\n",
      "render/image00006.png\n",
      "render/image00007.png\n",
      "render/image00008.png\n",
      "render/image00009.png\n"
     ]
    }
   ],
   "source": [
    "for i in range(10):\n",
    "    fname = f\"render/image{i:05}.png\"\n",
    "    print(fname)"
   ]
  },
  {
   "cell_type": "markdown",
   "metadata": {},
   "source": [
    "Note that this code doesn't actually generate the images—I just wanted to show how to create the filenames. The leading zeroes are important—ffmpeg expects them, and in any case the files wouldn't strictly be in alphabetical order without them."
   ]
  },
  {
   "cell_type": "markdown",
   "metadata": {},
   "source": [
    "### Writing each frame\n",
    "\n",
    "The code below puts it all together. Looping from zero to thirty, it creates a filename, generates PNG data for that frame, then writes the PNG data to the file:"
   ]
  },
  {
   "cell_type": "code",
   "execution_count": 48,
   "metadata": {},
   "outputs": [],
   "source": [
    "for i in range(30):\n",
    "    fname = f\"render/image{i:05}.png\"\n",
    "    png_data = page2png(render(i))\n",
    "    with open(fname, \"wb\") as fh:\n",
    "        fh.write(png_data)"
   ]
  },
  {
   "cell_type": "code",
   "execution_count": 49,
   "metadata": {},
   "outputs": [
    {
     "name": "stdout",
     "output_type": "stream",
     "text": [
      "image00000.png image00006.png image00012.png image00018.png image00024.png\r\n",
      "image00001.png image00007.png image00013.png image00019.png image00025.png\r\n",
      "image00002.png image00008.png image00014.png image00020.png image00026.png\r\n",
      "image00003.png image00009.png image00015.png image00021.png image00027.png\r\n",
      "image00004.png image00010.png image00016.png image00022.png image00028.png\r\n",
      "image00005.png image00011.png image00017.png image00023.png image00029.png\r\n"
     ]
    }
   ],
   "source": [
    "!ls render"
   ]
  },
  {
   "cell_type": "markdown",
   "metadata": {},
   "source": [
    "The code in the cell below should open your operating system's file browser (e.g., macOS Finder) and show the `render` directory. If you enable the file browser's preview function, you can move up and down the file listing and see the animation."
   ]
  },
  {
   "cell_type": "code",
   "execution_count": 50,
   "metadata": {},
   "outputs": [],
   "source": [
    "!open render"
   ]
  },
  {
   "cell_type": "markdown",
   "metadata": {},
   "source": [
    "Now we can use [ffmpeg](https://ffmpeg.org/) to convert the image sequence to an animation. The following command uses ffmpeg's `image2` input format, reads from the image sequence, then writes out an `.mp4` file with the H.264 codec and `yuv420p` pixel format (all good defaults for creating cross-platform video files):"
   ]
  },
  {
   "cell_type": "code",
   "execution_count": 51,
   "metadata": {},
   "outputs": [],
   "source": [
    "!ffmpeg -loglevel warning -y \\\n",
    "    -framerate 30 -f image2 -i render/image%05d.png \\\n",
    "    -vcodec libx264 -crf 10 -pix_fmt yuv420p render/output.mp4"
   ]
  },
  {
   "cell_type": "markdown",
   "metadata": {},
   "source": [
    "You should see a file called `output.mp4` in the `render` directory that has one second of video.\n",
    "\n",
    "The cell above runs the `ffmpeg` command installed on your system. It's all one command, even though it's on multiple lines—as in Python, the backslash character (`\\`) indicates a line continuation. (I separated it into multiple lines to make it a bit easier to read.) Some explanations of the command line options:\n",
    "\n",
    "* `-loglevel warning`: Restrict output to warnings; without this ffmpeg will print a page or two of informational output. (Which looks cool but isn't terribly interesting in most cases.)\n",
    "* `-y`: Always overwrite existing files without asking for confirmation. (Without this option, ffmpeg will hang if it has to ask you a question when you run it from Jupyter Notebook.)\n",
    "* `-f image2`: Use the `image2` format for input. (This is how you get `ffmpeg` to read a sequence of images.)\n",
    "* `-i render/image%05d.png`: The input parameter for `image2`, which tells `ffmpeg` to look for files whose names match a particular pattern. Check the ffmpeg documentation for [more information about valid filename patterns](https://www.ffmpeg.org/ffmpeg-formats.html#image2-1).\n",
    "* `-vcodec libx264`: This tells `ffmpeg` to use [H.264](https://en.wikipedia.org/wiki/Advanced_Video_Coding) as the output video codec (which is probably always what you want).\n",
    "* `-crf 10`: Controls the quality of the output. Lower is better. (A value of 0 is completely lossless but produces very large files; the maximum value is 51.) [More information on the `crf` parameter](https://trac.ffmpeg.org/wiki/Encode/H.264)\n",
    "* `-pix_fmt yuv420p`: Sets the pixel format for the output video; `yuv420p` is almost certainly what you want. (If you leave out this parameter or use a different value, the video might not work in certain players.)\n",
    "\n",
    "The final parameter is the name of the file that you want to write, the format of which `ffmpeg` guesses by the file extension you specify."
   ]
  },
  {
   "cell_type": "markdown",
   "metadata": {},
   "source": [
    "To display the video in the notebook:"
   ]
  },
  {
   "cell_type": "code",
   "execution_count": 63,
   "metadata": {},
   "outputs": [
    {
     "data": {
      "text/html": [
       "\n",
       "    <video alt=\"rendered output\" controls>\n",
       "        <source src=\"render/output.mp4\" type=\"video/mp4\">\n",
       "    </video>\n"
      ],
      "text/plain": [
       "<IPython.core.display.HTML object>"
      ]
     },
     "metadata": {},
     "output_type": "display_data"
    }
   ],
   "source": [
    "from IPython.display import HTML\n",
    "display(HTML(\"\"\"\n",
    "    <video alt=\"rendered output\" controls>\n",
    "        <source src=\"render/output.mp4\" type=\"video/mp4\">\n",
    "    </video>\n",
    "\"\"\"))"
   ]
  },
  {
   "cell_type": "markdown",
   "metadata": {},
   "source": [
    "You can also make GIFs with `ffmpeg`. (This example is adapted from the code on this [wonderful Giphy Engineering blog post](https://engineering.giphy.com/how-to-make-gifs-with-ffmpeg/).)"
   ]
  },
  {
   "cell_type": "code",
   "execution_count": 64,
   "metadata": {},
   "outputs": [],
   "source": [
    "!ffmpeg -loglevel warning -y \\\n",
    "    -framerate 30 -f image2 -i render/image%05d.png \\\n",
    "    -filter_complex \"[0:v] split [a][b];[a] palettegen [p];[b][p] paletteuse\" render/output.gif"
   ]
  },
  {
   "cell_type": "markdown",
   "metadata": {},
   "source": [
    "To display a GIF in the notebook:"
   ]
  },
  {
   "cell_type": "code",
   "execution_count": 62,
   "metadata": {},
   "outputs": [
    {
     "data": {
      "image/png": "[encoded data removed]",
      "text/plain": [
       "<IPython.core.display.Image object>"
      ]
     },
     "metadata": {},
     "output_type": "display_data"
    }
   ],
   "source": [
    "display(Image(open(\"render/output.gif\", \"rb\").read()))"
   ]
  },
  {
   "cell_type": "markdown",
   "metadata": {},
   "source": [
    "## Complete examples\n",
    "\n",
    "I've written some more complete examples below so you can see how this strategy works in practice. First, a few bits of code we'll use in both of the examples:"
   ]
  },
  {
   "cell_type": "code",
   "execution_count": 142,
   "metadata": {},
   "outputs": [],
   "source": [
    "from bezmerizing import Polyline, Path\n",
    "from copy import copy\n",
    "import numpy as np"
   ]
  },
  {
   "cell_type": "markdown",
   "metadata": {},
   "source": [
    "### Animating letters\n",
    "\n",
    "This example adapts the [\"one character at a time\" example from the Manipulating Fonts notebook](manipulating-font-data.ipynb#One-character-at-a-time). Instead of drawing the characters at random positions once, it draws characters at random positions and—as the number of frames progresses—moves those letters back to their \"original\" positions.\n",
    "\n",
    "Loading the font and copying over some helpful functions:"
   ]
  },
  {
   "cell_type": "code",
   "execution_count": 143,
   "metadata": {},
   "outputs": [],
   "source": [
    "from flat import font"
   ]
  },
  {
   "cell_type": "code",
   "execution_count": 144,
   "metadata": {},
   "outputs": [],
   "source": [
    "f = font.open(\"NotoSans-Regular.ttf\")"
   ]
  },
  {
   "cell_type": "code",
   "execution_count": 145,
   "metadata": {},
   "outputs": [],
   "source": [
    "def glyphcommands(f, ch):\n",
    "    return Path([copy(cmd) for cmd in f.glyph(f.charmap[ord(ch)])])\n",
    "def advancefor(f, ch):\n",
    "    return f.advances[f.charmap[ord(ch)]]"
   ]
  },
  {
   "cell_type": "markdown",
   "metadata": {},
   "source": [
    "Here's our source string (feel free to change this):"
   ]
  },
  {
   "cell_type": "code",
   "execution_count": 86,
   "metadata": {},
   "outputs": [],
   "source": [
    "s = \"quartzy foxes\""
   ]
  },
  {
   "cell_type": "markdown",
   "metadata": {},
   "source": [
    "And the `render()` function for this example. Some notes:\n",
    "\n",
    "* You *need* to draw a background for the video to work! Flat pages have a transparent background by default, and the encoded video will show transparent backgrounds as all black. If you want the letters in this example to show up, you need to draw a white background on every frame.\n",
    "* If you're using a random number generator, either seed the generator with the same seed on every frame (as discussed in the [interactive widgets notebook](interactive-widgets.ipynb)) or use a random number generation technique (like [simplex noise](https://github.com/lmas/opensimplex) that allows you to ask for random numbers at particular seed values.\n",
    "* In the example below, the `end_frame` variable specifies how many frames the animation should last; the `fraction` variable inside the function calculates a value from 0 to 1 that indicates how much of the animation has passed given a particular `step` value. This is then used as a multiplier on the random values added to the `x` and `y` coordinates of each glyph. (Subtracting this value from 1, as I did below, essentially \"reverses\" the animation, moving the characters back into position instead of moving them progressively further away.)"
   ]
  },
  {
   "cell_type": "code",
   "execution_count": 136,
   "metadata": {},
   "outputs": [],
   "source": [
    "end_frame = 60\n",
    "def render(step=0):\n",
    "    np.random.seed(12345)\n",
    "    page = document(300, 90, 'pt').addpage()\n",
    "    bg_pen = shape().nostroke().fill(rgb(255, 255, 255))\n",
    "    page.place(bg_pen.rectangle(0, 0, 300, 90))\n",
    "    pen = shape().nostroke().fill(rgb(0, 0, 0))\n",
    "    factor = 36 / f.density\n",
    "    cx = 0\n",
    "    fraction = 1 - (step / end_frame)\n",
    "    for ch in s:\n",
    "        glyph_path = (glyphcommands(f, ch)\n",
    "                      .scale(factor)\n",
    "                      .translate(cx + (np.random.normal(0, 30) * fraction),\n",
    "                                 60 + (np.random.normal(0, 30) * fraction)))\n",
    "        page.place(pen.path(glyph_path))\n",
    "        cx += advancefor(f, ch) * factor\n",
    "    return page"
   ]
  },
  {
   "cell_type": "markdown",
   "metadata": {},
   "source": [
    "Render and show at a particular frame:"
   ]
  },
  {
   "cell_type": "code",
   "execution_count": 146,
   "metadata": {
    "scrolled": false
   },
   "outputs": [
    {
     "data": {
      "image/svg+xml": [
       "<svg xmlns=\"http://www.w3.org/2000/svg\" xmlns:xlink=\"http://www.w3.org/1999/xlink\" version=\"1.1\" width=\"300pt\" height=\"90pt\">\n",
       "<title>Untitled</title>\n",
       "<rect x=\"0\" y=\"0\" width=\"300\" height=\"90\" fill=\"rgb(255,255,255)\"/>\n",
       "<path d=\"M16.0094,75.8242 L12.8414,75.8242 L12.8414,67.5802 Q12.8414,66.9322,12.8774,66.0682 Q12.9134,65.2042,13.0214,64.5922 L12.8054,64.5922 Q11.9774,65.8162,10.5194,66.6802 Q9.0614,67.5442,6.7574,67.5442 Q3.2654,67.5442,1.0874,65.0422 Q-1.0906,62.5402,-1.0906,57.5722 Q-1.0906,52.6042,1.1234,50.0662 Q3.3374,47.5282,6.8654,47.5282 Q9.1334,47.5282,10.5734,48.3922 Q12.0134,49.2562,12.8774,50.5162 L13.0214,50.5162 L13.4894,47.8882 L16.0094,47.8882 L16.0094,75.8242 z M3.4454,62.9902 Q4.7054,64.9162,7.3694,64.9162 Q10.3214,64.9162,11.5814,63.2782 Q12.8414,61.6402,12.8774,58.2562 L12.8774,57.6082 Q12.8774,53.9362,11.6534,52.0462 Q10.4294,50.1562,7.2974,50.1562 Q4.7054,50.1562,3.4454,52.1902 Q2.1854,54.2242,2.1854,57.6442 Q2.1854,61.0642,3.4454,62.9902 z\" fill=\"rgb(0,0,0)\"/>\n",
       "<path d=\"M30.3684,32.368 L33.5364,32.368 L33.5364,51.664 L30.9444,51.664 L30.4764,49.108 L30.3324,49.108 Q29.3964,50.62,27.7404,51.322 Q26.0844,52.024,24.2124,52.024 Q20.7204,52.024,18.9564,50.35 Q17.1924,48.676,17.1924,45.004 L17.1924,32.368 L20.3964,32.368 L20.3964,44.788 Q20.3964,49.396,24.6804,49.396 Q27.8844,49.396,29.1264,47.596 Q30.3684,45.796,30.3684,42.412 L30.3684,32.368 z\" fill=\"rgb(0,0,0)\"/>\n",
       "<path d=\"M80.6427,61.7671 Q82.3707,61.2811,84.2427,61.2811 Q87.7707,61.2811,89.4627,62.8291 Q91.1547,64.3771,91.1547,67.7611 L91.1547,80.9011 L88.8507,80.9011 L88.2387,78.1651 L88.0947,78.1651 Q86.8347,79.7491,85.4307,80.5051 Q84.0267,81.2611,81.6147,81.2611 Q78.9867,81.2611,77.2587,79.8751 Q75.5307,78.4891,75.5307,75.5371 Q75.5307,72.6571,77.7987,71.0911 Q80.0667,69.5251,84.7827,69.3811 L88.0587,69.2731 L88.0587,68.1211 Q88.0587,65.7091,87.0147,64.7731 Q85.9707,63.8371,84.0627,63.8371 Q82.5507,63.8371,81.1827,64.2871 Q79.8147,64.7371,78.6267,65.3131 L77.6547,62.9371 Q78.9147,62.2531,80.6427,61.7671 z M88.0227,73.1971 L88.0227,71.4691 L85.1787,71.5771 Q81.5787,71.7211,80.1927,72.7291 Q78.8067,73.7371,78.8067,75.5731 Q78.8067,77.1931,79.7967,77.9491 Q80.7867,78.7051,82.3347,78.7051 Q84.7467,78.7051,86.3847,77.3551 Q88.0227,76.0051,88.0227,73.1971 z\" fill=\"rgb(0,0,0)\"/>\n",
       "<path d=\"M74.5276,45.7222 Q76.0216,44.5702,78.0376,44.5702 Q78.5776,44.5702,79.1896,44.6242 Q79.8016,44.6782,80.3056,44.7862 L79.9096,47.7022 Q79.4416,47.5942,78.8656,47.5222 Q78.2896,47.4502,77.8216,47.4502 Q76.3456,47.4502,75.0496,48.2602 Q73.7536,49.0702,72.9796,50.5282 Q72.2056,51.9862,72.2056,53.9302 L72.2056,64.2262 L69.0376,64.2262 L69.0376,44.9302 L71.6296,44.9302 L71.9896,48.4582 L72.1336,48.4582 Q73.0336,46.8742,74.5276,45.7222 z\" fill=\"rgb(0,0,0)\"/>\n",
       "<path d=\"M98.3133,75.6185 Q99.1593,76.4645,100.4913,76.4645 Q101.2113,76.4645,101.9673,76.3565 Q102.7233,76.2485,103.1913,76.0685 L103.1913,78.4805 Q102.6873,78.7325,101.7513,78.8945 Q100.8153,79.0565,99.9513,79.0565 Q98.4393,79.0565,97.1613,78.5345 Q95.8833,78.0125,95.0913,76.7165 Q94.2993,75.4205,94.2993,73.0805 L94.2993,61.8485 L91.5633,61.8485 L91.5633,60.3365 L94.3353,59.0765 L95.5953,54.9725 L97.4673,54.9725 L97.4673,59.4005 L103.0473,59.4005 L103.0473,61.8485 L97.4673,61.8485 L97.4673,73.0085 Q97.4673,74.7725,98.3133,75.6185 z\" fill=\"rgb(0,0,0)\"/>\n",
       "<path d=\"M123.0718,38.1087 L123.0718,40.5567 L108.9598,40.5567 L108.9598,38.4687 L119.3278,23.7087 L109.5718,23.7087 L109.5718,21.2607 L122.8198,21.2607 L122.8198,23.6367 L112.5958,38.1087 L123.0718,38.1087 z\" fill=\"rgb(0,0,0)\"/>\n",
       "<path d=\"M121.3049,63.5057 L113.5289,44.1377 L116.9129,44.1377 L121.0889,55.1177 Q121.6289,56.5937,122.0609,57.8897 Q122.4929,59.1857,122.7089,60.3737 L122.8529,60.3737 Q123.0689,59.4737,123.5369,58.0157 Q124.0049,56.5577,124.5089,55.0817 L128.4329,44.1377 L131.8529,44.1377 L123.5369,66.0977 Q122.4929,68.8337,120.9089,70.4537 Q119.3249,72.0737,116.5169,72.0737 Q115.6529,72.0737,115.0049,71.9837 Q114.3569,71.8937,113.8889,71.7857 L113.8889,69.2657 Q114.2849,69.3377,114.8429,69.4097 Q115.4009,69.4817,116.0129,69.4817 Q117.6689,69.4817,118.6769,68.5457 Q119.6849,67.6097,120.2969,66.0617 L121.3049,63.5057 z\" fill=\"rgb(0,0,0)\"/>\n",
       "<path d=\"\" fill=\"rgb(0,0,0)\"/>\n",
       "<path d=\"M119.0154,35.1264 L119.0154,37.5744 L114.1554,37.5744 L114.1554,54.4224 L110.9874,54.4224 L110.9874,37.5744 L107.6034,37.5744 L107.6034,36.0984 L110.9874,35.0184 L110.9874,33.9024 Q110.9874,30.1584,112.6254,28.5204 Q114.2634,26.8824,117.2514,26.8824 Q118.3674,26.8824,119.3394,27.0804 Q120.3114,27.2784,120.9954,27.5304 L120.1674,30.0144 Q119.5914,29.8344,118.8354,29.6544 Q118.0794,29.4744,117.2874,29.4744 Q115.7034,29.4744,114.9294,30.5364 Q114.1554,31.5984,114.1554,33.8664 L114.1554,35.1264 L119.0154,35.1264 z\" fill=\"rgb(0,0,0)\"/>\n",
       "<path d=\"M193.2094,38.3195 Q194.3434,40.5335,194.3434,43.7375 Q194.3434,48.5255,191.9134,51.1535 Q189.4834,53.7815,185.3434,53.7815 Q182.7874,53.7815,180.7894,52.6115 Q178.7914,51.4415,177.6394,49.1915 Q176.4874,46.9415,176.4874,43.7375 Q176.4874,38.9495,178.8814,36.3575 Q181.2754,33.7655,185.4514,33.7655 Q188.0434,33.7655,190.0594,34.9355 Q192.0754,36.1055,193.2094,38.3195 z M181.0954,38.3735 Q179.7634,40.3175,179.7634,43.7375 Q179.7634,47.1575,181.1134,49.1555 Q182.4634,51.1535,185.4154,51.1535 Q188.3314,51.1535,189.6994,49.1555 Q191.0674,47.1575,191.0674,43.7375 Q191.0674,40.3175,189.6994,38.3735 Q188.3314,36.4295,185.3794,36.4295 Q182.4274,36.4295,181.0954,38.3735 z\" fill=\"rgb(0,0,0)\"/>\n",
       "<path d=\"M163.8039,67.1548 L170.7879,57.2908 L164.1279,47.8588 L167.7279,47.8588 L172.6959,55.1308 L177.6279,47.8588 L181.1919,47.8588 L174.5319,57.2908 L181.5519,67.1548 L177.9519,67.1548 L172.6959,59.4508 L167.3679,67.1548 L163.8039,67.1548 z\" fill=\"rgb(0,0,0)\"/>\n",
       "<path d=\"M245.0602,26.2496 Q246.9862,25.0256,249.5422,25.0256 Q251.9902,25.0256,253.7902,26.1056 Q255.5902,27.1856,256.5442,29.1476 Q257.4982,31.1096,257.4982,33.7376 L257.4982,35.6456 L244.2862,35.6456 Q244.3582,38.9216,245.9602,40.6316 Q247.5622,42.3416,250.4422,42.3416 Q252.2782,42.3416,253.7002,41.9996 Q255.1222,41.6576,256.6342,41.0096 L256.6342,43.7816 Q255.1582,44.4296,253.7182,44.7356 Q252.2782,45.0416,250.2982,45.0416 Q247.5262,45.0416,245.4382,43.9256 Q243.3502,42.8096,242.1802,40.6136 Q241.0102,38.4176,241.0102,35.1776 Q241.0102,32.0096,242.0722,29.7416 Q243.1342,27.4736,245.0602,26.2496 z M253.0342,29.1476 Q251.9182,27.6176,249.5062,27.6176 Q247.2382,27.6176,245.9242,29.0756 Q244.6102,30.5336,244.3582,33.1256 L254.1862,33.1256 Q254.1502,30.6776,253.0342,29.1476 z\" fill=\"rgb(0,0,0)\"/>\n",
       "<path d=\"M216.8837,53.9598 Q217.5677,54.9858,217.5677,56.5338 Q217.5677,59.3418,215.4797,60.7818 Q213.3917,62.2218,209.8637,62.2218 Q207.8477,62.2218,206.3897,61.8978 Q204.9317,61.5738,203.8157,60.9978 L203.8157,58.1178 Q204.9677,58.6938,206.6057,59.1798 Q208.2437,59.6658,209.9357,59.6658 Q212.3477,59.6658,213.4277,58.8918 Q214.5077,58.1178,214.5077,56.8218 Q214.5077,56.1018,214.1117,55.5258 Q213.7157,54.9498,212.6897,54.3738 Q211.6637,53.7978,209.7557,53.0778 Q207.8837,52.3578,206.5517,51.6378 Q205.2197,50.9178,204.4997,49.9098 Q203.7797,48.9018,203.7797,47.3178 Q203.7797,44.8698,205.7777,43.5378 Q207.7757,42.2058,211.0157,42.2058 Q212.7797,42.2058,214.3097,42.5658 Q215.8397,42.9258,217.1717,43.5018 L216.0917,46.0218 Q214.8677,45.5178,213.5357,45.1578 Q212.2037,44.7978,210.7997,44.7978 Q208.8557,44.7978,207.8297,45.4278 Q206.8037,46.0578,206.8037,47.1378 Q206.8037,47.9658,207.2717,48.5058 Q207.7397,49.0458,208.8377,49.5858 Q209.9357,50.1258,211.7717,50.8098 Q213.6077,51.4938,214.9037,52.2138 Q216.1997,52.9338,216.8837,53.9598 z\" fill=\"rgb(0,0,0)\"/>\n",
       "</svg>"
      ],
      "text/plain": [
       "<IPython.core.display.SVG object>"
      ]
     },
     "metadata": {},
     "output_type": "display_data"
    }
   ],
   "source": [
    "show(render(30))"
   ]
  },
  {
   "cell_type": "markdown",
   "metadata": {},
   "source": [
    "And preview with `widgets.interact()`:"
   ]
  },
  {
   "cell_type": "code",
   "execution_count": 139,
   "metadata": {},
   "outputs": [
    {
     "data": {
      "application/vnd.jupyter.widget-view+json": {
       "model_id": "28800178f4144f708762420aa4f94fbc",
       "version_major": 2,
       "version_minor": 0
      },
      "text/plain": [
       "interactive(children=(Play(value=0, description='step', interval=33, max=60), Output()), _dom_classes=('widget…"
      ]
     },
     "metadata": {},
     "output_type": "display_data"
    },
    {
     "data": {
      "text/plain": [
       "<function __main__.<lambda>(step)>"
      ]
     },
     "execution_count": 139,
     "metadata": {},
     "output_type": "execute_result"
    }
   ],
   "source": [
    "widgets.interact(lambda step: show(render(step)),\n",
    "                 step=widgets.Play(min=0, max=end_frame, interval=1000/30))"
   ]
  },
  {
   "cell_type": "markdown",
   "metadata": {},
   "source": [
    "(The `lambda step: show(render(step))` syntax there is a shorthand way of writing the `show_and_render()` function from above. [More on lambda functions.](https://realpython.com/python-lambda/))\n",
    "\n",
    "Finally, the code below writes each of the frames, from zero up to `end_frame`:"
   ]
  },
  {
   "cell_type": "code",
   "execution_count": 140,
   "metadata": {},
   "outputs": [],
   "source": [
    "for i in range(end_frame):\n",
    "    fname = f\"render/image{i:05}.png\"\n",
    "    png_data = page2png(render(i))\n",
    "    with open(fname, \"wb\") as fh:\n",
    "        fh.write(png_data)"
   ]
  },
  {
   "cell_type": "markdown",
   "metadata": {},
   "source": [
    "And then we convert those frames to mp4:"
   ]
  },
  {
   "cell_type": "code",
   "execution_count": 141,
   "metadata": {},
   "outputs": [],
   "source": [
    "!ffmpeg -loglevel warning -y \\\n",
    "    -framerate 30 -f image2 -i render/image%05d.png \\\n",
    "    -vcodec libx264 -crf 10 -pix_fmt yuv420p render/output.mp4"
   ]
  },
  {
   "cell_type": "markdown",
   "metadata": {},
   "source": [
    "### Dancing asemic forms (advanced)\n",
    "\n",
    "The code below makes animated versions of the glyphs described in the [k-means glyphs](kmeans-glyphs.ipynb) notebook. First, here's a copy of the necessary function for producing a single glyph:"
   ]
  },
  {
   "cell_type": "code",
   "execution_count": 147,
   "metadata": {},
   "outputs": [],
   "source": [
    "from sklearn.cluster import MiniBatchKMeans"
   ]
  },
  {
   "cell_type": "code",
   "execution_count": 148,
   "metadata": {},
   "outputs": [],
   "source": [
    "def kmeans_glyph(n_clusters=6):\n",
    "    data = np.random.uniform(low=-0.5, high=0.5, size=(500, 2))\n",
    "    km = MiniBatchKMeans(n_clusters=n_clusters, max_iter=25)\n",
    "    km.fit(data)\n",
    "    np.random.shuffle(km.cluster_centers_)\n",
    "    return Polyline(km.cluster_centers_)"
   ]
  },
  {
   "cell_type": "markdown",
   "metadata": {},
   "source": [
    "The code below draws a single glyph:"
   ]
  },
  {
   "cell_type": "code",
   "execution_count": 198,
   "metadata": {},
   "outputs": [
    {
     "data": {
      "image/svg+xml": [
       "<svg height=\"283.4646pt\" version=\"1.1\" width=\"283.4646pt\" xmlns=\"http://www.w3.org/2000/svg\" xmlns:xlink=\"http://www.w3.org/1999/xlink\">\n",
       "<title>Untitled</title>\n",
       "<polygon fill=\"rgb(40,40,40)\" points=\"214.3879 162.4012 217.1304 166.0428 218.7265 170.3672 219.4218 175.1714 219.4086 180.3952 218.8092 185.9956 217.7104 191.9145 216.1851 198.0789 214.2999 204.4065 212.1195 210.809 209.7075 217.1944 207.127 223.4687 204.4411 229.5367 201.7121 235.3027 199.0021 240.6709 196.3721 245.547 193.8803 249.8392 191.5789 253.4622 189.5008 256.349 187.595 258.4905 185.1885 260.0117 180.9309 258.2724 180.4192 255.2304 180.9213 252.0067 180.9462 252.012 182.1819 247.5701 184.1411 241.8727 186.7434 234.9744 189.902 226.9925 193.5265 218.0613 197.525 208.321 201.8045 197.9147 206.2717 186.9868 210.833 175.6824 215.3947 164.1475 219.8629 152.5281 224.1434 140.9712 228.1423 129.6243 231.7652 118.6358 234.9181 108.156 237.507 98.3376 239.4387 89.3382 240.6232 81.3245 240.9804 74.4805 240.4639 69.0197 239.1294 65.1656 237.1502 62.9199 234.2501 61.9046 234.2528 61.8793 229.9193 62.2593 224.2242 64.3439 217.4462 68.0922 209.7833 73.3513 201.3799 79.9501 192.3569 87.7184 182.8248 96.4876 172.8889 106.0911 162.652 116.3633 152.2157 127.1396 141.6805 138.2556 131.1465 149.5475 120.7133 160.8518 110.4803 172.0051 100.5467 182.8443 91.0112 193.2066 81.9724 202.9296 73.528 211.8513 65.7745 219.8107 58.806 226.6489 52.7102 232.2107 47.5553 236.3501 43.3313 238.9402 43.3205 238.9172 39.6812 239.7961 36.593 238.415 35.1655 235.3476 34.9638 231.3796 35.6165 226.4662 37.0244 220.6345 39.1346 213.9818 41.9009 206.6305 45.2786 198.7131 49.2227 190.3665 53.6882 181.7295 58.6301 172.9422 64.0035 164.145 69.7634 155.4787 75.8654 147.0845 82.2652 139.1032 88.9195 131.6763 95.7858 124.9449 102.8229 119.0512 109.9918 114.1388 117.2545 110.3545 124.5729 107.8514 131.9009 106.7903 131.902 106.8157 139.3871 107.212 147.2274 108.8773 155.3522 111.6818 163.6913 115.5035 172.1725 120.2246 180.721 125.7294 189.2603 131.903 197.7126 138.6306 205.9992 145.7977 214.0408 153.2898 221.7578 160.9924 229.0705 168.7907 235.8987 176.5704 242.1624 184.2169 247.7815 191.6162 252.7113 198.631 256.8575 205.1655 260.1241 211.1247 262.4324 216.4101 263.6982 220.9454 263.7937 224.7029 262.4249 227.607 259.4858 229.1454 259.4931 229.1829 255.3542 229.4963 249.7946 229.1121 242.893 228.0891 234.771 226.4655 225.5624 224.2766 215.406 221.5574 204.4424 218.3425 192.813 214.667 180.6596 210.5655 168.1245 206.0728 155.3498 201.2238 142.4777 196.053 129.6504 190.5952 117.0098 184.8846 104.6977 178.9555 92.8557 172.8416 81.6245 166.5761 71.1446 160.1911 61.5554 153.7171 52.9953 147.1815 45.6016 140.6067 39.5124 134.0061 34.8725 127.3784 34.8393 127.3974 31.8774 120.7907 30.7046 114.337 31.2255 108.1078 33.2742 102.1932 36.6413 96.627 41.1312 91.3883 46.5768 86.4392 52.8278 81.7454 59.7411 77.2802 67.1746 73.023 74.9863 68.9571 83.0333 65.0684 91.1717 61.3443 99.2564 57.7734 107.1413 54.3454 114.6788 51.0509 121.7191 47.8824 128.1088 44.8347 133.6884 41.9089 138.2877 39.1198 141.7188 36.5193 143.7885 34.2638 144.4887 32.6923 150.0668 33.705 148.3631 37.4815 145.3393 40.6815 141.2775 43.6647 136.2752 46.6077 130.4348 49.583 123.8764 52.6259 116.7308 55.7577 109.1353 58.994 101.2302 62.3475 93.1584 65.8294 85.0642 69.4497 77.0929 73.2175 69.3909 77.1407 62.1058 81.2257 55.3859 85.4762 49.3796 89.8919 44.234 94.4667 40.0895 99.1867 37.0691 104.0346 35.2677 109.0098 34.7663 114.1666 35.6892 119.6154 38.2318 125.4483 38.1986 125.4673 42.4373 131.6438 48.1822 137.9786 55.2923 144.4006 63.6195 150.8528 73.0154 157.2874 83.3322 163.6618 94.4236 169.9363 106.1437 176.0728 118.3478 182.0344 130.8911 187.7846 143.6295 193.2874 156.4191 198.5071 169.1159 203.4081 181.5764 207.955 193.6566 212.1123 205.2127 215.8446 216.1008 219.1167 226.1762 221.8931 235.2935 224.1386 243.3055 225.8178 250.0602 226.8959 255.3931 227.341 259.0971 227.1417 259.1043 227.1792 261.0438 226.2638 261.9729 224.3745 261.9473 221.2291 260.8344 216.9824 258.668 211.8371 255.5252 205.9471 251.4888 199.4441 246.6244 192.4638 240.9991 185.1404 234.7297 177.567 227.8976 169.8599 220.5841 162.1349 212.8708 154.5079 204.8392 147.0945 196.5713 140.0105 188.1492 133.3716 179.6557 127.2937 171.1746 121.8924 162.7908 117.2831 154.5909 113.5803 146.6643 110.8966 139.1022 109.3403 131.9953 109.0119 131.9964 109.0373 125.1315 110.0825 118.1981 112.5077 111.242 116.1895 104.3168 120.9966 97.4764 126.7915 90.7736 133.4336 84.259 140.7806 77.9821 148.6895 71.9911 157.0172 66.3338 165.6206 61.0575 174.3562 56.209 183.0807 51.8354 191.6503 47.9833 199.9205 44.6997 207.7461 42.0314 214.9794 40.0253 221.4687 38.7274 227.0523 38.1762 231.5429 38.3647 234.6834 39.0132 236.1447 39.7785 236.4282 41.8621 235.8234 41.8513 235.8004 45.4772 233.5064 50.3633 229.5165 56.3012 224.03 63.1612 217.2272 70.8325 209.2792 79.211 200.3531 88.195 190.6144 97.6841 180.2272 107.5785 169.3555 117.7787 158.1625 128.1857 146.8115 138.7007 135.4654 149.225 124.2868 159.6605 113.4381 169.9095 103.0813 179.8753 93.378 189.4625 84.4888 198.5782 76.5733 207.1347 69.7894 215.0546 64.2927 222.284 60.2387 228.8228 57.8006 234.7514 57.2638 234.7541 57.2385 239.7835 58.9736 243.2978 62.7953 245.2085 68.0337 245.8767 74.3993 245.5459 81.8239 244.3574 90.2296 242.4191 99.5086 239.8285 109.5362 236.6804 120.1785 233.0686 131.2967 229.0867 142.7494 224.8283 154.3936 220.3871 166.0853 215.8568 177.6797 211.3312 189.0316 206.9045 199.9952 202.6707 210.4242 198.7245 220.1714 195.1606 229.0883 192.0748 237.0237 189.5646 243.8203 187.731 249.3039 186.6813 253.2374 186.7062 253.2427 186.3778 255.5337 186.2277 255.4175 183.396 254.2143 183.3522 254.0812 184.6179 252.5773 186.3925 250.0269 188.4975 246.6201 190.8379 242.4891 193.3381 237.748 195.9289 232.5043 198.5434 226.8628 201.1158 220.9271 203.5811 214.8007 205.8744 208.5877 207.9312 202.3934 209.6874 196.325 211.0799 190.4936 212.0478 185.0158 212.536 180.0184 212.5039 175.6422 211.9459 172.0436 210.9266 169.3615 209.5639 167.5925\"/>\n",
       "</svg>"
      ],
      "text/plain": [
       "<IPython.core.display.SVG object>"
      ]
     },
     "metadata": {},
     "output_type": "display_data"
    }
   ],
   "source": [
    "glyph = kmeans_glyph(10).scale(100).translate(50, 50)\n",
    "glyph_poly = glyph.fancy_curve(samples_per=24,\n",
    "                               thicknesses=[2.5, 1.5, 0.5, 2],\n",
    "                               tightness=-0.5)\n",
    "page = document(100, 100, 'mm').addpage()\n",
    "brush = shape().nostroke().fill(rgb(40, 40, 40))\n",
    "page.place(brush.polygon(glyph_poly))\n",
    "show(page)"
   ]
  },
  {
   "cell_type": "markdown",
   "metadata": {},
   "source": [
    "The code below generates two glyphs. Because the glyphs have the same number of points, we can smoothly interpolate between them using numpy's [`np.linspace()` function](https://docs.scipy.org/doc/numpy/reference/generated/numpy.linspace.html) on the Polyline's `.vertices` (i.e., the underlying numpy array). The resulting value is an array of `n_frames` with one entry per intermediate point on the interpolation between the two forms. This `render()` function draws a fancy curve from the `Polyline` produced at each point."
   ]
  },
  {
   "cell_type": "code",
   "execution_count": 151,
   "metadata": {},
   "outputs": [],
   "source": [
    "n_frames = 25\n",
    "glyph_a = kmeans_glyph(10).scale(100).translate(50, 50)\n",
    "glyph_b = kmeans_glyph(10).scale(100).translate(50, 50)\n",
    "interp = np.linspace(glyph_a.vertices, glyph_b.vertices, n_frames+1)\n",
    "def render(step=0):\n",
    "    this_glyph = Polyline(interp[step])\n",
    "    glyph_poly = this_glyph.augment().fancy_curve(samples_per=24,\n",
    "                               thicknesses=[2.5, 1.5, 0.5, 2],\n",
    "                               tightness=-0.5)\n",
    "    page = document(100, 100, 'mm').addpage()\n",
    "    brush = shape().nostroke().fill(rgb(40, 40, 40))\n",
    "    page.place(brush.polygon(glyph_poly))\n",
    "    return page"
   ]
  },
  {
   "cell_type": "markdown",
   "metadata": {},
   "source": [
    "Here's what it looks like:"
   ]
  },
  {
   "cell_type": "code",
   "execution_count": 152,
   "metadata": {},
   "outputs": [
    {
     "data": {
      "application/vnd.jupyter.widget-view+json": {
       "model_id": "a97fed7b82aa4422b1a73c9a29c46f7c",
       "version_major": 2,
       "version_minor": 0
      },
      "text/plain": [
       "interactive(children=(Play(value=0, description='step', interval=33, max=25), Output()), _dom_classes=('widget…"
      ]
     },
     "metadata": {},
     "output_type": "display_data"
    },
    {
     "data": {
      "text/plain": [
       "<function __main__.<lambda>(step)>"
      ]
     },
     "execution_count": 152,
     "metadata": {},
     "output_type": "execute_result"
    }
   ],
   "source": [
    "widgets.interact(lambda step: show(render(step)),\n",
    "                 step=widgets.Play(min=0, max=n_frames, step=1, interval=1000/30))"
   ]
  },
  {
   "cell_type": "markdown",
   "metadata": {},
   "source": [
    "That's one interpolation between two forms. The code in the cell below chains together multiple interpolations like this, forming one big list of interpolated forms. It ends with the same form it began with, so the video will loop seamlessly:"
   ]
  },
  {
   "cell_type": "code",
   "execution_count": 153,
   "metadata": {},
   "outputs": [],
   "source": [
    "from itertools import chain\n",
    "\n",
    "# canvas\n",
    "width = 250\n",
    "height = 250\n",
    "# number of interpolations and steps per interpolation\n",
    "n_interps = 12\n",
    "n_steps = 24\n",
    "interps = []\n",
    "# generate interpolations\n",
    "start = kmeans_glyph(10)\n",
    "current = start\n",
    "for i in range(n_interps):\n",
    "    end = kmeans_glyph(10)\n",
    "    interp = np.linspace(current.vertices, end.vertices, n_steps)\n",
    "    # make the last value of this interpolation the first of the next\n",
    "    current = end \n",
    "    interps.append(interp)\n",
    "# loop back to first\n",
    "interps.append(np.linspace(current.vertices, start.vertices, n_steps))\n",
    "# flatten list of lists\n",
    "interps = list(chain(*interps))\n",
    "\n",
    "def render(step=0):\n",
    "    this_glyph = Polyline(interps[step]).scale(width).translate(width*0.5, height*0.5)\n",
    "    glyph_poly = this_glyph.augment().fancy_curve(samples_per=24,\n",
    "                               thicknesses=[5, 3, 1, 4],\n",
    "                               tightness=-0.5)\n",
    "    page = document(width, height, 'mm').addpage()\n",
    "    background = shape().nostroke().fill(rgb(255, 255, 255))\n",
    "    brush = shape().nostroke().fill(rgb(40, 40, 40))\n",
    "    page.place(background.rectangle(0, 0, width, height))\n",
    "    page.place(brush.polygon(glyph_poly))\n",
    "    return page"
   ]
  },
  {
   "cell_type": "markdown",
   "metadata": {},
   "source": [
    "The Play widget preview:"
   ]
  },
  {
   "cell_type": "code",
   "execution_count": 154,
   "metadata": {},
   "outputs": [
    {
     "data": {
      "application/vnd.jupyter.widget-view+json": {
       "model_id": "62194901f7764b91bdd828c3bd0d14d6",
       "version_major": 2,
       "version_minor": 0
      },
      "text/plain": [
       "interactive(children=(Play(value=0, description='step', interval=33, max=311), Output()), _dom_classes=('widge…"
      ]
     },
     "metadata": {},
     "output_type": "display_data"
    },
    {
     "data": {
      "text/plain": [
       "<function __main__.<lambda>(step)>"
      ]
     },
     "execution_count": 154,
     "metadata": {},
     "output_type": "execute_result"
    }
   ],
   "source": [
    "widgets.interact(lambda step: show(render(step)),\n",
    "                 step=widgets.Play(min=0, max=len(interps)-1, step=1, interval=1000/30))"
   ]
  },
  {
   "cell_type": "markdown",
   "metadata": {},
   "source": [
    "Now to write the frames. I've put a little ad-hoc progress counter in the cell below, since it can take a bit of time to export each frame:"
   ]
  },
  {
   "cell_type": "code",
   "execution_count": 250,
   "metadata": {},
   "outputs": [
    {
     "name": "stdout",
     "output_type": "stream",
     "text": [
      "312\n",
      "0 1 2 3 4 5 6 7 8 9 10 11 12 13 14 15 16 17 18 19 20 21 22 23 24 25 26 27 28 29 30 31 32 33 34 35 36 37 38 39 40 41 42 43 44 45 46 47 48 49 50 51 52 53 54 55 56 57 58 59 60 61 62 63 64 65 66 67 68 69 70 71 72 73 74 75 76 77 78 79 80 81 82 83 84 85 86 87 88 89 90 91 92 93 94 95 96 97 98 99 100 101 102 103 104 105 106 107 108 109 110 111 112 113 114 115 116 117 118 119 120 121 122 123 124 125 126 127 128 129 130 131 132 133 134 135 136 137 138 139 140 141 142 143 144 145 146 147 148 149 150 151 152 153 154 155 156 157 158 159 160 161 162 163 164 165 166 167 168 169 170 171 172 173 174 175 176 177 178 179 180 181 182 183 184 185 186 187 188 189 190 191 192 193 194 195 196 197 198 199 200 201 202 203 204 205 206 207 208 209 210 211 212 213 214 215 216 217 218 219 220 221 222 223 224 225 226 227 228 229 230 231 232 233 234 235 236 237 238 239 240 241 242 243 244 245 246 247 248 249 250 251 252 253 254 255 256 257 258 259 260 261 262 263 264 265 266 267 268 269 270 271 272 273 274 275 276 277 278 279 280 281 282 283 284 285 286 287 288 289 290 291 292 293 294 295 296 297 298 299 300 301 302 303 304 305 306 307 308 309 310 311 "
     ]
    }
   ],
   "source": [
    "print(len(interps))\n",
    "for i in range(len(interps)):\n",
    "    print(i, end=\" \")\n",
    "    fname = f\"render/image{i:05}.png\"\n",
    "    png_data = page2png(render(i))\n",
    "    with open(fname, \"wb\") as fh:\n",
    "        fh.write(png_data)"
   ]
  },
  {
   "cell_type": "markdown",
   "metadata": {},
   "source": [
    "Aaaand convert to mp4:"
   ]
  },
  {
   "cell_type": "code",
   "execution_count": 251,
   "metadata": {},
   "outputs": [],
   "source": [
    "!ffmpeg -loglevel warning -y \\\n",
    "    -framerate 30 -f image2 -i render/image%05d.png \\\n",
    "    -vcodec libx264 -crf 10 -pix_fmt yuv420p render/output.mp4"
   ]
  },
  {
   "cell_type": "markdown",
   "metadata": {},
   "source": [
    "## Benchmarking Flat `image().png()` versus CairoSVG `svg2png`"
   ]
  },
  {
   "cell_type": "code",
   "execution_count": 33,
   "metadata": {},
   "outputs": [
    {
     "name": "stdout",
     "output_type": "stream",
     "text": [
      "3.61 ms ± 77.6 µs per loop (mean ± std. dev. of 7 runs, 100 loops each)\n"
     ]
    }
   ],
   "source": [
    "import random\n",
    "import cairosvg\n",
    "%timeit cairosvg.svg2png(render(random.randrange(0, 30)).svg(), dpi=72)"
   ]
  },
  {
   "cell_type": "code",
   "execution_count": 34,
   "metadata": {},
   "outputs": [
    {
     "name": "stdout",
     "output_type": "stream",
     "text": [
      "131 ms ± 3.6 ms per loop (mean ± std. dev. of 7 runs, 10 loops each)\n"
     ]
    }
   ],
   "source": [
    "%timeit render(random.randrange(0, 30)).image(ppi=72, kind='rgb').png()"
   ]
  }
 ],
 "metadata": {
  "kernelspec": {
   "display_name": "Python 3",
   "language": "python",
   "name": "python3"
  },
  "language_info": {
   "codemirror_mode": {
    "name": "ipython",
    "version": 3
   },
   "file_extension": ".py",
   "mimetype": "text/x-python",
   "name": "python",
   "nbconvert_exporter": "python",
   "pygments_lexer": "ipython3",
   "version": "3.8.2"
  }
 },
 "nbformat": 4,
 "nbformat_minor": 2
}
